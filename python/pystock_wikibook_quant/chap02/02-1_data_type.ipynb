{
 "cells": [
  {
   "attachments": {},
   "cell_type": "markdown",
   "metadata": {},
   "source": [
    "### 2장 배열 연산 패키지: 넘파이\n",
    "\n",
    "2.1 자료형"
   ]
  },
  {
   "attachments": {},
   "cell_type": "markdown",
   "metadata": {},
   "source": [
    "<u>ndarray 생성</u>\n",
    "\n",
    "array 함수"
   ]
  },
  {
   "cell_type": "code",
   "execution_count": 1,
   "metadata": {},
   "outputs": [
    {
     "name": "stdout",
     "output_type": "stream",
     "text": [
      "[1 2 3] int32\n",
      "[1. 2. 3.] float64\n",
      "['1' '2' '3'] <U11\n"
     ]
    }
   ],
   "source": [
    "import numpy as np\n",
    "\n",
    "arr1 = np.array([1, 2, 3])   # int로만 구성\n",
    "arr2 = np.array([1, 2, 3.0]) # float 포함\n",
    "arr3 = np.array([1, 2, '3']) # str 포함\n",
    "\n",
    "print(arr1, arr1.dtype)\n",
    "print(arr2, arr2.dtype)\n",
    "print(arr3, arr3.dtype)"
   ]
  },
  {
   "cell_type": "code",
   "execution_count": 2,
   "metadata": {},
   "outputs": [
    {
     "name": "stdout",
     "output_type": "stream",
     "text": [
      "(3,)\n",
      "(2, 3)\n",
      "(1, 4, 2)\n"
     ]
    }
   ],
   "source": [
    "arr1 = np.array([1, 2, 3])                          # 1차원\n",
    "arr2 = np.array([[1, 2, 3], [4, 5, 6]])             # 2차원\n",
    "arr3 = np.array([[[1, 2], [3, 4], [5, 6], [7, 8]]]) # 3차원\n",
    "\n",
    "print(arr1.shape) # arr1의 모양 출력\n",
    "print(arr2.shape)\n",
    "print(arr3.shape)"
   ]
  },
  {
   "attachments": {},
   "cell_type": "markdown",
   "metadata": {},
   "source": [
    "arange와 linspace 함수"
   ]
  },
  {
   "cell_type": "code",
   "execution_count": 4,
   "metadata": {},
   "outputs": [
    {
     "name": "stdout",
     "output_type": "stream",
     "text": [
      "np.arrange(5):[0 1 2 3 4]\n",
      "np.arrange(-1, 4.5, 1.5):[-1.   0.5  2.   3.5]\n",
      "np.arrange(10, 1, -1):[10  9  8  7  6  5  4  3  2]\n",
      "np.arrange(0, 1, 11):[0.  0.1 0.2 0.3 0.4 0.5 0.6 0.7 0.8 0.9 1. ]\n"
     ]
    }
   ],
   "source": [
    "arr1 = np.arange(5)            # 0부터 5까지 1씩 증가\n",
    "arr2 = np.arange(-1, 4.5, 1.5) # -1부터 4.5까지 1.5씩 증가\n",
    "arr3 = np.arange(10, 1, -1)    # 10부터 1까지 -1씩 증가\n",
    "arr4 = np.linspace(0, 1, 11)   # 0부터 1까지 등간격의 10개의 요소 생성\n",
    "\n",
    "print(\"np.arrange(5):{}\".format(arr1))\n",
    "print(\"np.arrange(-1, 4.5, 1.5):{}\".format(arr2))\n",
    "print(\"np.arrange(10, 1, -1):{}\".format(arr3))\n",
    "print(\"np.arrange(0, 1, 11):{}\".format(arr4))"
   ]
  },
  {
   "attachments": {},
   "cell_type": "markdown",
   "metadata": {},
   "source": [
    "zeros 함수"
   ]
  },
  {
   "cell_type": "code",
   "execution_count": 5,
   "metadata": {},
   "outputs": [
    {
     "name": "stdout",
     "output_type": "stream",
     "text": [
      "[0. 0. 0. 0. 0.]\n",
      "[[0. 0.]\n",
      " [0. 0.]\n",
      " [0. 0.]]\n",
      "[[False False]\n",
      " [False False]]\n"
     ]
    }
   ],
   "source": [
    "arr1 = np.zeros(5)                   # 크기: 5\n",
    "arr2 = np.zeros((3, 2))              # 크기: (3, 2)\n",
    "arr3 = np.zeros((2, 2), dtype=bool)  # 크기: (2, 2) 자료형: bool\n",
    "\n",
    "print(arr1)\n",
    "print(arr2)\n",
    "print(arr3)"
   ]
  },
  {
   "attachments": {},
   "cell_type": "markdown",
   "metadata": {},
   "source": [
    "random 모듈"
   ]
  },
  {
   "cell_type": "code",
   "execution_count": 7,
   "metadata": {},
   "outputs": [
    {
     "name": "stdout",
     "output_type": "stream",
     "text": [
      "[0.41230354 0.07090246 0.69556144 0.05706895 0.04041184]\n",
      "[[0.34285345 0.19146181]\n",
      " [0.68384032 0.93659652]]\n"
     ]
    }
   ],
   "source": [
    "arr1 = np.random.random(5)\n",
    "arr2 = np.random.random((2, 2))\n",
    "\n",
    "print(arr1)\n",
    "print(arr2)"
   ]
  },
  {
   "cell_type": "code",
   "execution_count": 8,
   "metadata": {},
   "outputs": [
    {
     "name": "stdout",
     "output_type": "stream",
     "text": [
      "[-0.0576255   0.28147552 -0.22206917 -1.08016544  0.33436527]\n",
      "[[10.20856265  9.21048326 14.01137065]\n",
      " [ 7.36859405  6.68709815 10.49536635]\n",
      " [12.39959195 15.182371    4.85330342]]\n"
     ]
    }
   ],
   "source": [
    "arr1 = np.random.normal(0, 1, 5)\n",
    "arr2 = np.random.normal(10, 3, (3, 3))\n",
    "\n",
    "print(arr1)\n",
    "print(arr2)"
   ]
  },
  {
   "attachments": {},
   "cell_type": "markdown",
   "metadata": {},
   "source": [
    "<u>배열 구조 변경: reshape 메서드</u>"
   ]
  },
  {
   "cell_type": "code",
   "execution_count": 9,
   "metadata": {},
   "outputs": [
    {
     "name": "stdout",
     "output_type": "stream",
     "text": [
      "[[1 2]\n",
      " [3 4]\n",
      " [5 6]]\n",
      "[[1 2]\n",
      " [3 4]\n",
      " [5 6]]\n",
      "[[1]\n",
      " [2]\n",
      " [3]\n",
      " [4]\n",
      " [5]\n",
      " [6]]\n"
     ]
    }
   ],
   "source": [
    "arr1 = np.array([1, 2, 3, 4, 5, 6])\n",
    "arr2 = np.array([[1, 2, 3], [4, 5, 6]])\n",
    "\n",
    "print(arr1.reshape(3, 2))  # (3, 2)로 구조 변경\n",
    "print(arr2.reshape(-1, 2)) # 열 개수를 2개로 구조 변경\n",
    "print(arr1.reshape(-1, 1)) # 열 개수를 1개로 구조 변경"
   ]
  }
 ],
 "metadata": {
  "kernelspec": {
   "display_name": "py38_32",
   "language": "python",
   "name": "python3"
  },
  "language_info": {
   "codemirror_mode": {
    "name": "ipython",
    "version": 3
   },
   "file_extension": ".py",
   "mimetype": "text/x-python",
   "name": "python",
   "nbconvert_exporter": "python",
   "pygments_lexer": "ipython3",
   "version": "3.9.17"
  },
  "orig_nbformat": 4,
  "vscode": {
   "interpreter": {
    "hash": "02d41c65dbd8f5397d0b188fb8f6c67c927b5c0337a8bdef0097259c00570245"
   }
  }
 },
 "nbformat": 4,
 "nbformat_minor": 2
}
