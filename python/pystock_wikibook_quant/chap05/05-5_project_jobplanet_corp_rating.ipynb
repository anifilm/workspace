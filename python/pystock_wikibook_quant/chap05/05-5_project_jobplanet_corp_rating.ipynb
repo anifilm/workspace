{
 "cells": [
  {
   "attachments": {},
   "cell_type": "markdown",
   "metadata": {},
   "source": [
    "### 5장. 웹 크롤링을 이용한 데이터 수집\n",
    "\n",
    "5.5 [프로젝트] 잡플래닛 기업 평점 수집하기"
   ]
  },
  {
   "attachments": {},
   "cell_type": "markdown",
   "metadata": {},
   "source": [
    "<u>단일 리뷰 크롤링</u>"
   ]
  },
  {
   "cell_type": "code",
   "execution_count": 1,
   "metadata": {},
   "outputs": [],
   "source": [
    "from selenium import webdriver\n",
    "from selenium.webdriver.common.by import By\n",
    "\n",
    "driver = webdriver.Chrome()\n",
    "\n",
    "corp = 'SK하이닉스'\n",
    "url = 'https://www.jobplanet.co.kr/companies/20561/reviews/에스케이하이닉스'\n",
    "driver.get(url)"
   ]
  },
  {
   "cell_type": "code",
   "execution_count": 2,
   "metadata": {},
   "outputs": [],
   "source": [
    "# 팝업창 닫기\n",
    "try:\n",
    "    driver.find_element(By.CLASS_NAME, 'btn_close_x_ty1').click()\n",
    "except:\n",
    "    pass"
   ]
  },
  {
   "cell_type": "code",
   "execution_count": 3,
   "metadata": {},
   "outputs": [
    {
     "name": "stdout",
     "output_type": "stream",
     "text": [
      "2023. 08\n"
     ]
    }
   ],
   "source": [
    "review_list = driver.find_elements(By.CLASS_NAME, 'content_wrap')\n",
    "review = review_list[0]\n",
    "score_list = review.find_element(By.CLASS_NAME, 'ctbody_lft')\n",
    "\n",
    "date = review.find_elements(By.CLASS_NAME, 'txt1')[-1].get_attribute('innerHTML')\n",
    "print(date)"
   ]
  },
  {
   "cell_type": "code",
   "execution_count": 4,
   "metadata": {},
   "outputs": [
    {
     "name": "stdout",
     "output_type": "stream",
     "text": [
      "width: 80%;\n"
     ]
    }
   ],
   "source": [
    "score_list = review.find_element(By.CLASS_NAME, 'ctbody_lft')\n",
    "\n",
    "star_score = score_list.find_element(By.CLASS_NAME, 'star_score').get_attribute('style')\n",
    "print(star_score)"
   ]
  },
  {
   "cell_type": "code",
   "execution_count": 5,
   "metadata": {},
   "outputs": [
    {
     "name": "stdout",
     "output_type": "stream",
     "text": [
      "width: 60%; width: 80%; width: 80%; width: 100%; width: 20%;\n"
     ]
    }
   ],
   "source": [
    "# 항목별 평점\n",
    "bl_score_list = score_list.find_elements(By.CLASS_NAME, 'bl_score')\n",
    "welfare_salary = bl_score_list[0].get_attribute('style')\n",
    "work_life_balance = bl_score_list[1].get_attribute('style')\n",
    "culture = bl_score_list[2].get_attribute('style')\n",
    "promotion_opp = bl_score_list[3].get_attribute('style')\n",
    "management = bl_score_list[4].get_attribute('style')\n",
    "\n",
    "print(welfare_salary, work_life_balance, culture, promotion_opp, management)"
   ]
  },
  {
   "cell_type": "code",
   "execution_count": 6,
   "metadata": {},
   "outputs": [],
   "source": [
    "def convert_width_to_score(width):\n",
    "    width_percent = int(width.split(' ')[1][:-2])\n",
    "    score = int(width_percent / 20)\n",
    "    return score"
   ]
  },
  {
   "cell_type": "code",
   "execution_count": 7,
   "metadata": {},
   "outputs": [],
   "source": [
    "def extract_score_from_review(review):\n",
    "    # 출력 초기화\n",
    "    output = []\n",
    "    # 리뷰에서 평점과 관련된 부분만 가져오기\n",
    "    score_list = review.find_element(By.CLASS_NAME, 'ctbody_lft')\n",
    "    # 총 평점을 가져와서 추가\n",
    "    star_score = score_list.find_element(By.CLASS_NAME, 'star_score').get_attribute('style')\n",
    "    output.append(convert_width_to_score(star_score))\n",
    "    # 항목별 평점을 가져와서 추가\n",
    "    other_score_elements = score_list.find_elements(By.CLASS_NAME, 'bl_score')\n",
    "    for element in other_score_elements:\n",
    "        output.append(convert_width_to_score(element.get_attribute('style')))\n",
    "    return output"
   ]
  },
  {
   "cell_type": "code",
   "execution_count": 8,
   "metadata": {},
   "outputs": [
    {
     "name": "stdout",
     "output_type": "stream",
     "text": [
      "[4, 3, 4, 4, 5, 1]\n"
     ]
    }
   ],
   "source": [
    "print(extract_score_from_review(review))"
   ]
  },
  {
   "attachments": {},
   "cell_type": "markdown",
   "metadata": {},
   "source": [
    "<u>전체 리뷰 크롤링</u>\n",
    "\n",
    "전체 페이지 수 획득"
   ]
  },
  {
   "cell_type": "code",
   "execution_count": 9,
   "metadata": {},
   "outputs": [],
   "source": [
    "btn_pglast = driver.find_element(By.CLASS_NAME, 'btn_pglast')\n",
    "num_pages = int(btn_pglast.get_attribute('href').split('=')[1])"
   ]
  },
  {
   "attachments": {},
   "cell_type": "markdown",
   "metadata": {},
   "source": [
    "다음 페이지로 이동"
   ]
  },
  {
   "cell_type": "code",
   "execution_count": 10,
   "metadata": {},
   "outputs": [],
   "source": [
    "import time\n",
    "\n",
    "def get_url(driver, url):\n",
    "    while True:\n",
    "        try:\n",
    "            driver.get(url)\n",
    "            driver.implicitly_wait(10) # 페이지가 전부 로딩될 때까지 최대 10초 기다리기\n",
    "            break\n",
    "        except:\n",
    "            driver.close()\n",
    "            driver = webdriver.Chrome()\n",
    "            time.sleep(60)"
   ]
  },
  {
   "attachments": {},
   "cell_type": "markdown",
   "metadata": {},
   "source": [
    "리뷰 수집 및 정제"
   ]
  },
  {
   "cell_type": "code",
   "execution_count": 13,
   "metadata": {},
   "outputs": [
    {
     "name": "stdout",
     "output_type": "stream",
     "text": [
      "삼성전자:1/1757\n",
      "삼성전자:2/1757\n",
      "삼성전자:3/1757\n",
      "삼성전자:4/1757\n",
      "삼성전자:5/1757\n",
      "삼성전자:6/1757\n",
      "삼성전자:7/1757\n",
      "삼성전자:8/1757\n",
      "삼성전자:9/1757\n",
      "삼성전자:10/1757\n",
      "삼성전자:11/1757\n",
      "삼성전자:12/1757\n",
      "삼성전자:13/1757\n"
     ]
    }
   ],
   "source": [
    "import pandas as pd\n",
    "\n",
    "input_data = pd.read_excel('./resources/종목별_잡플래닛url.xlsx')\n",
    "data = []\n",
    "\n",
    "for company, url in input_data[['종목명', 'URL']].values:\n",
    "    # 초기 URL 들어가기\n",
    "    get_url(driver, url)\n",
    "    # 전체 페이지 수 계산\n",
    "    btn_pglast = driver.find_element(By.CLASS_NAME, 'btn_pglast')\n",
    "    num_pages = int(btn_pglast.get_attribute('href').split('=')[1])\n",
    "    if num_pages > 10:\n",
    "        num_pages = 10\n",
    "    # 페이지 순회 시작\n",
    "    for page in range(num_pages - 1):\n",
    "        print('{}:{}/{}'.format(company, page+1, num_pages))\n",
    "        current_url = url + '?page={}'.format(page+1)\n",
    "        get_url(driver, current_url)\n",
    "\n",
    "        # 팝업 창이 나타나면 닫기\n",
    "        try:\n",
    "            driver.find_element(By.CLASS_NAME, 'btn_close_x_ty1').click()\n",
    "        except:\n",
    "            pass\n",
    "\n",
    "        # 현재 페이지에서 데이터 가져오기\n",
    "        while True:\n",
    "            time.sleep(0.5)\n",
    "            try: \n",
    "                temp = []\n",
    "                review_list = driver.find_elements(By.CLASS_NAME, 'content_wrap')\n",
    "                for review in review_list:\n",
    "                    date = review.find_elements(By.CLASS_NAME, 'txt1')[-1].get_attribute('innerHTML')\n",
    "                    score = extract_score_from_review(review)\n",
    "                    record = [company, date] + score  # score는 리스트임\n",
    "                data += temp\n",
    "                break\n",
    "            except:\n",
    "                driver.close()\n",
    "                driver = webdriver.Chrome()\n",
    "                get_url(driver, current_url)\n",
    "                time.sleep(60)\n",
    "\n",
    "data = pd.DataFrame(data, columns=['기업', '날짜', '전체평점', '승진기회및 가능성', '복지및급여', '업무와삶의균형', '사내문화', '경영진'])"
   ]
  },
  {
   "attachments": {},
   "cell_type": "markdown",
   "metadata": {},
   "source": [
    "데이터 정제"
   ]
  },
  {
   "cell_type": "code",
   "execution_count": null,
   "metadata": {},
   "outputs": [],
   "source": [
    "display(data.head())"
   ]
  },
  {
   "cell_type": "code",
   "execution_count": null,
   "metadata": {},
   "outputs": [],
   "source": [
    "# 데이터 정제\n",
    "data = data.groupby(['기업', '날짜'], as_index=False)[['전체평점', '승진기회및가능성', '복지및급여', '업무와삶의균형', '사내문화', '경영진']].mean()\n",
    "data.sort_values(by=['기업', '날짜'], inplace=True)\n",
    "display(data.head(10))"
   ]
  },
  {
   "cell_type": "code",
   "execution_count": null,
   "metadata": {},
   "outputs": [],
   "source": [
    "data.to_csv('./data/기업월별평점.csv', index=False, encoding='utf-8')"
   ]
  }
 ],
 "metadata": {
  "kernelspec": {
   "display_name": "py38_32",
   "language": "python",
   "name": "python3"
  },
  "language_info": {
   "codemirror_mode": {
    "name": "ipython",
    "version": 3
   },
   "file_extension": ".py",
   "mimetype": "text/x-python",
   "name": "python",
   "nbconvert_exporter": "python",
   "pygments_lexer": "ipython3",
   "version": "3.9.17"
  },
  "orig_nbformat": 4,
  "vscode": {
   "interpreter": {
    "hash": "02d41c65dbd8f5397d0b188fb8f6c67c927b5c0337a8bdef0097259c00570245"
   }
  }
 },
 "nbformat": 4,
 "nbformat_minor": 2
}
