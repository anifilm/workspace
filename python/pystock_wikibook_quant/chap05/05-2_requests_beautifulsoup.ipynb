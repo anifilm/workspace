{
 "cells": [
  {
   "attachments": {},
   "cell_type": "markdown",
   "metadata": {},
   "source": [
    "### 5장. 웹 크롤링을 이용한 데이터 수집\n",
    "\n",
    "5.2 리퀘스트와 뷰티풀수프를 이용한 크롤링"
   ]
  },
  {
   "attachments": {},
   "cell_type": "markdown",
   "metadata": {},
   "source": [
    "<u>리퀘스트 모듈</u>\n",
    "\n",
    "get 함수를 이용한 웹 페이지 소스 수집"
   ]
  },
  {
   "cell_type": "code",
   "execution_count": 3,
   "metadata": {},
   "outputs": [],
   "source": [
    "import requests\n",
    "\n",
    "url = 'https://news.daum.net'\n",
    "agent = 'Mozilla/5.0 (Windows NT 10.0; Win64; x64) AppleWebKit/537.36 (KHTML, like Gecko) Chrome/96.0.4664.45 Safari/537.36'\n",
    "\n",
    "response = requests.get(url=url, headers={'User-Agent': agent})"
   ]
  },
  {
   "cell_type": "code",
   "execution_count": 4,
   "metadata": {},
   "outputs": [
    {
     "name": "stdout",
     "output_type": "stream",
     "text": [
      "<class 'requests.models.Response'>\n"
     ]
    }
   ],
   "source": [
    "print(type(response))"
   ]
  },
  {
   "cell_type": "code",
   "execution_count": 5,
   "metadata": {},
   "outputs": [
    {
     "name": "stdout",
     "output_type": "stream",
     "text": [
      "200\n"
     ]
    }
   ],
   "source": [
    "print(response.status_code)"
   ]
  },
  {
   "cell_type": "code",
   "execution_count": 6,
   "metadata": {},
   "outputs": [
    {
     "name": "stdout",
     "output_type": "stream",
     "text": [
      "\n",
      "<!DOCTYPE html>\n",
      "\n",
      "\n",
      "\n",
      "<html lang=\"ko\" class=\"os_windows chrome pc version_96_0_4664_45 \">\n",
      "<head>\n",
      "<meta charset=\"utf-8\">\n",
      "<meta name=\"referrer\" content=\"always\" />\n",
      "\n",
      "<meta property=\"og:author\" content=\"Dau\n",
      "========================================================================================================================================================================================================\n",
      "b'\\n<!DOCTYPE html>\\n\\n\\n\\n<html lang=\"ko\" class=\"os_windows chrome pc version_96_0_4664_45 \">\\n<head>\\n<meta charset=\"utf-8\">\\n<meta name=\"referrer\" content=\"always\" />\\n\\n<meta property=\"og:author\" content=\"Dau'\n"
     ]
    }
   ],
   "source": [
    "res_text = response.text\n",
    "res_content = response.content\n",
    "\n",
    "print(res_text[:200])\n",
    "print('=' * 200)\n",
    "print(res_content[:200])"
   ]
  },
  {
   "cell_type": "code",
   "execution_count": 7,
   "metadata": {},
   "outputs": [
    {
     "name": "stdout",
     "output_type": "stream",
     "text": [
      "<class 'str'>\n",
      "<class 'bytes'>\n"
     ]
    }
   ],
   "source": [
    "print(type(res_text))\n",
    "print(type(res_content))"
   ]
  },
  {
   "attachments": {},
   "cell_type": "markdown",
   "metadata": {},
   "source": [
    "<u>뷰티풀수프를 이용한 파싱</u>"
   ]
  },
  {
   "cell_type": "code",
   "execution_count": 8,
   "metadata": {},
   "outputs": [
    {
     "name": "stdout",
     "output_type": "stream",
     "text": [
      "<class 'bs4.BeautifulSoup'>\n"
     ]
    }
   ],
   "source": [
    "from bs4 import BeautifulSoup as BS\n",
    "\n",
    "parsed_res_text = BS(res_text)\n",
    "print(type(parsed_res_text))"
   ]
  },
  {
   "attachments": {},
   "cell_type": "markdown",
   "metadata": {},
   "source": [
    "find와 find_all 메서드"
   ]
  },
  {
   "cell_type": "code",
   "execution_count": 9,
   "metadata": {},
   "outputs": [
    {
     "name": "stdout",
     "output_type": "stream",
     "text": [
      "<ul class=\"doc-relate\" data-tiara-layer=\"GNB service\">\n",
      "<li><a class=\"link_services\" data-tiara-layer=\"enter\" href=\"https://entertain.daum.net\">연예</a></li>\n",
      "<li><a class=\"link_services\" data-tiara-layer=\"sports\" href=\"https://sports.daum.net\">스포츠</a></li>\n",
      "</ul>\n"
     ]
    }
   ],
   "source": [
    "# 첫 번째 ul 태그 찾기\n",
    "print(parsed_res_text.find('ul'))"
   ]
  },
  {
   "cell_type": "code",
   "execution_count": 10,
   "metadata": {},
   "outputs": [
    {
     "name": "stdout",
     "output_type": "stream",
     "text": [
      "<ul class=\"list_todayseries\">\n",
      "<li>\n",
      "<div class=\"item_todayseries\">\n",
      "<div class=\"subtxt_thumb\">\n",
      "<a class=\"info_cp\" data-tiara-custom=\"contentUniqueKey=hamny-20230817231611143&amp;clusterId=5139529,5079747,446,445,5116003,5150092,5641383,5599922&amp;clusterTitle=[랭크업] 유레이더 1 OR 2 추가점수,[랭크업] 1800자 이상 OR 유레이더2 이상,YTN 뉴스나이트,YTN,나이트포커스,정치,나이트포커스,[품질검수] 뉴스 필터링&amp;keywordType=NONE,NONE,NONE,NONE,NONE,NONE,NONE,NONE\" data-tiara-id=\"20230817231611143\" data-tiara-layer=\"series\" data-tiara-ordnum=\"1\" data-tiara-type=\"harmony\" href=\"/series/5116003\"><span class=\"screen_out\">출처\n",
      "                                </span>나이트포커스</a>\n",
      "</div>\n",
      "<a class=\"wrap_thumb\" data-tiara-custom=\"contentUniqueKey=hamny-20230817231611143&amp;clusterId=5139529,5079747,446,445,5116003,5150092,5641383,5599922&amp;clusterTitle=[랭크업] 유레이더 1 OR 2 추가점수,[랭크업] 1800자 이상 OR 유레이더2 이상,YTN 뉴스나이트,YTN,나이트포커스,정치,나이트포커스,[품질검수] 뉴스 필터링&amp;keywordType=NONE,NONE,NONE,NONE,NONE,NONE,NONE,NONE\" data-tiara-id=\"20230817231611143\" data-tiara-layer=\"article_thumb\" data-tiara-ordnum=\"1\" data-tiara-type=\"harmony\" href=\"https://v.daum.net/v/20230817231611143\">\n",
      "<img alt=\"[나이트포커스] 이동관 청문회 여야 격돌 예고\" class=\"thumb_g\" src=\"https://img1.daumcdn.net/thumb/S112x70ht.u/?fname=https%3A%2F%2Ft1.daumcdn.net%2Fnews%2F202308%2F17%2FYTN%2F20230817231612384cqsd.jpg&amp;scode=media\"/>\n",
      "</a>\n",
      "<div class=\"cont_thumb\">\n",
      "<strong class=\"tit_g\">\n",
      "<a class=\"link_txt\" data-tiara-custom=\"contentUniqueKey=hamny-20230817231611143&amp;clusterId=5139529,5079747,446,445,5116003,5150092,5641383,5599922&amp;clusterTitle=[랭크업] 유레이더 1 OR 2 추가점수,[랭크업] 1800자 이상 OR 유레이더2 이상,YTN 뉴스나이트,YTN,나이트포커스,정치,나이트포커스,[품질검수] 뉴스 필터링&amp;keywordType=NONE,NONE,NONE,NONE,NONE,NONE,NONE,NONE\" data-tiara-id=\"20230817231611143\" data-tiara-layer=\"article\" data-tiara-ordnum=\"1\" data-tiara-type=\"harmony\" href=\"https://v.daum.net/v/20230817231611143\">\n",
      "                                    [나이트포커스] 이동관 청문회 여야 격돌 예고\n",
      "                                </a>\n",
      "</strong>\n",
      "<span class=\"info_thumb\">\n",
      "<span class=\"txt_info\">YTN</span>\n",
      "</span>\n",
      "</div>\n",
      "</div>\n",
      "</li>\n",
      "<li>\n",
      "<div class=\"item_todayseries\">\n",
      "<div class=\"subtxt_thumb\">\n",
      "<a class=\"info_cp\" data-tiara-custom=\"contentUniqueKey=hamny-20230817185142929&amp;clusterId=5000019,5623588,5590543,5722037,5150094&amp;clusterTitle=경제,기업경제,[언론사픽] 주요뉴스,FN 모빌리티,경제&amp;keywordType=NONE,INTEREST,NONE,NONE,NONE\" data-tiara-id=\"20230817185142929\" data-tiara-layer=\"series\" data-tiara-ordnum=\"2\" data-tiara-type=\"harmony\" href=\"/series/5722037\"><span class=\"screen_out\">출처\n",
      "                                </span>FN 모빌리티</a>\n",
      "</div>\n",
      "<a class=\"wrap_thumb\" data-tiara-custom=\"contentUniqueKey=hamny-20230817185142929&amp;clusterId=5000019,5623588,5590543,5722037,5150094&amp;clusterTitle=경제,기업경제,[언론사픽] 주요뉴스,FN 모빌리티,경제&amp;keywordType=NONE,INTEREST,NONE,NONE,NONE\" data-tiara-id=\"20230817185142929\" data-tiara-layer=\"article_thumb\" data-tiara-ordnum=\"2\" data-tiara-type=\"harmony\" href=\"https://v.daum.net/v/20230817185142929\">\n",
      "<img alt=\"2배 뛴 5G 커넥티드카 통신특허료… 완성차, 새 경영리스크로 [조은효의 FN 모빌리티]\" class=\"thumb_g\" src=\"https://img1.daumcdn.net/thumb/S112x70ht.u/?fname=https%3A%2F%2Ft1.daumcdn.net%2Fnews%2F202308%2F17%2Ffnnewsi%2F20230817200548049lmhg.jpg&amp;scode=media\"/>\n",
      "</a>\n",
      "<div class=\"cont_thumb\">\n",
      "<strong class=\"tit_g\">\n",
      "<a class=\"link_txt\" data-tiara-custom=\"contentUniqueKey=hamny-20230817185142929&amp;clusterId=5000019,5623588,5590543,5722037,5150094&amp;clusterTitle=경제,기업경제,[언론사픽] 주요뉴스,FN 모빌리티,경제&amp;keywordType=NONE,INTEREST,NONE,NONE,NONE\" data-tiara-id=\"20230817185142929\" data-tiara-layer=\"article\" data-tiara-ordnum=\"2\" data-tiara-type=\"harmony\" href=\"https://v.daum.net/v/20230817185142929\">\n",
      "                                    2배 뛴 5G 커넥티드카 통신특허료… 완성차, 새 경영리스크로 [조은효의 FN 모빌리티]\n",
      "                                </a>\n",
      "</strong>\n",
      "<span class=\"info_thumb\">\n",
      "<span class=\"txt_info\">파이낸셜뉴스</span>\n",
      "</span>\n",
      "</div>\n",
      "</div>\n",
      "</li>\n",
      "<li>\n",
      "<div class=\"item_todayseries\">\n",
      "<div class=\"subtxt_thumb\">\n",
      "<a class=\"info_cp\" data-tiara-custom=\"contentUniqueKey=hamny-20230817221257536&amp;clusterId=5139529,5150097,5105298,410,5862960&amp;clusterTitle=[랭크업] 유레이더 1 OR 2 추가점수,문화,주말&amp;문화,KBS,경남 주말&amp;문화&amp;keywordType=NONE,NONE,NONE,NONE,NONE\" data-tiara-id=\"20230817221257536\" data-tiara-layer=\"series\" data-tiara-ordnum=\"3\" data-tiara-type=\"harmony\" href=\"/series/5105298\"><span class=\"screen_out\">출처\n",
      "                                </span>주말&amp;문화</a>\n",
      "</div>\n",
      "<a class=\"wrap_thumb\" data-tiara-custom=\"contentUniqueKey=hamny-20230817221257536&amp;clusterId=5139529,5150097,5105298,410,5862960&amp;clusterTitle=[랭크업] 유레이더 1 OR 2 추가점수,문화,주말&amp;문화,KBS,경남 주말&amp;문화&amp;keywordType=NONE,NONE,NONE,NONE,NONE\" data-tiara-id=\"20230817221257536\" data-tiara-layer=\"article_thumb\" data-tiara-ordnum=\"3\" data-tiara-type=\"harmony\" href=\"https://v.daum.net/v/20230817221257536\">\n",
      "<img alt=\"[경남 주말&amp;문화] 원로 명무들의 전통 춤사위 ‘경남 명무전’\" class=\"thumb_g\" src=\"https://img1.daumcdn.net/thumb/S112x70ht.u/?fname=https%3A%2F%2Ft1.daumcdn.net%2Fnews%2F202308%2F17%2Fkbs%2F20230817221259744vgto.jpg&amp;scode=media\"/>\n",
      "</a>\n",
      "<div class=\"cont_thumb\">\n",
      "<strong class=\"tit_g\">\n",
      "<a class=\"link_txt\" data-tiara-custom=\"contentUniqueKey=hamny-20230817221257536&amp;clusterId=5139529,5150097,5105298,410,5862960&amp;clusterTitle=[랭크업] 유레이더 1 OR 2 추가점수,문화,주말&amp;문화,KBS,경남 주말&amp;문화&amp;keywordType=NONE,NONE,NONE,NONE,NONE\" data-tiara-id=\"20230817221257536\" data-tiara-layer=\"article\" data-tiara-ordnum=\"3\" data-tiara-type=\"harmony\" href=\"https://v.daum.net/v/20230817221257536\">\n",
      "                                    [경남 주말&amp;문화] 원로 명무들의 전통 춤사위 ‘경남 명무전’\n",
      "                                </a>\n",
      "</strong>\n",
      "<span class=\"info_thumb\">\n",
      "<span class=\"txt_info\">KBS</span>\n",
      "</span>\n",
      "</div>\n",
      "</div>\n",
      "</li>\n",
      "<li>\n",
      "<div class=\"item_todayseries\">\n",
      "<div class=\"subtxt_thumb\">\n",
      "<a class=\"info_cp\" data-tiara-custom=\"contentUniqueKey=hamny-20230817220953504&amp;clusterId=5143473,5150097,411,5641357,410,5853374&amp;clusterTitle=뉴스9 날씨,문화,KBS 뉴스9,뉴스9 날씨,KBS,[승인] 저녁뉴스&amp;keywordType=NONE,NONE,NONE,NONE,NONE,NONE\" data-tiara-id=\"20230817220953504\" data-tiara-layer=\"series\" data-tiara-ordnum=\"4\" data-tiara-type=\"harmony\" href=\"/series/5143473\"><span class=\"screen_out\">출처\n",
      "                                </span>뉴스9 날씨</a>\n",
      "</div>\n",
      "<a class=\"wrap_thumb\" data-tiara-custom=\"contentUniqueKey=hamny-20230817220953504&amp;clusterId=5143473,5150097,411,5641357,410,5853374&amp;clusterTitle=뉴스9 날씨,문화,KBS 뉴스9,뉴스9 날씨,KBS,[승인] 저녁뉴스&amp;keywordType=NONE,NONE,NONE,NONE,NONE,NONE\" data-tiara-id=\"20230817220953504\" data-tiara-layer=\"article_thumb\" data-tiara-ordnum=\"4\" data-tiara-type=\"harmony\" href=\"https://v.daum.net/v/20230817220953504\">\n",
      "<img alt=\"[뉴스9 날씨] 무더위 계속…내일 남부에 비\" class=\"thumb_g\" src=\"https://img1.daumcdn.net/thumb/S112x70ht.u/?fname=https%3A%2F%2Ft1.daumcdn.net%2Fnews%2F202308%2F17%2Fkbs%2F20230817225724018wuhu.jpg&amp;scode=media\"/>\n",
      "</a>\n",
      "<div class=\"cont_thumb\">\n",
      "<strong class=\"tit_g\">\n",
      "<a class=\"link_txt\" data-tiara-custom=\"contentUniqueKey=hamny-20230817220953504&amp;clusterId=5143473,5150097,411,5641357,410,5853374&amp;clusterTitle=뉴스9 날씨,문화,KBS 뉴스9,뉴스9 날씨,KBS,[승인] 저녁뉴스&amp;keywordType=NONE,NONE,NONE,NONE,NONE,NONE\" data-tiara-id=\"20230817220953504\" data-tiara-layer=\"article\" data-tiara-ordnum=\"4\" data-tiara-type=\"harmony\" href=\"https://v.daum.net/v/20230817220953504\">\n",
      "                                    [뉴스9 날씨] 무더위 계속…내일 남부에 비\n",
      "                                </a>\n",
      "</strong>\n",
      "<span class=\"info_thumb\">\n",
      "<span class=\"txt_info\">KBS</span>\n",
      "</span>\n",
      "</div>\n",
      "</div>\n",
      "</li>\n",
      "<li>\n",
      "<div class=\"item_todayseries\">\n",
      "<div class=\"subtxt_thumb\">\n",
      "<a class=\"info_cp\" data-tiara-custom=\"contentUniqueKey=hamny-20230817220601462&amp;clusterId=5556205,5139529,5494233,5150095&amp;clusterTitle=부동산 정책,[랭크업] 유레이더 1 OR 2 추가점수,올댓차이나,국제&amp;keywordType=INTEREST,NONE,NONE,NONE\" data-tiara-id=\"20230817220601462\" data-tiara-layer=\"series\" data-tiara-ordnum=\"5\" data-tiara-type=\"harmony\" href=\"/series/5494233\"><span class=\"screen_out\">출처\n",
      "                                </span>올댓차이나</a>\n",
      "</div>\n",
      "<a class=\"wrap_thumb\" data-tiara-custom=\"contentUniqueKey=hamny-20230817220601462&amp;clusterId=5556205,5139529,5494233,5150095&amp;clusterTitle=부동산 정책,[랭크업] 유레이더 1 OR 2 추가점수,올댓차이나,국제&amp;keywordType=INTEREST,NONE,NONE,NONE\" data-tiara-id=\"20230817220601462\" data-tiara-layer=\"article_thumb\" data-tiara-ordnum=\"5\" data-tiara-type=\"harmony\" href=\"https://v.daum.net/v/20230817220601462\">\n",
      "<img alt='[올댓차이나] 中, 부동산 정책 최적화 방침...\"위안화 과도조정 방지도\"' class=\"thumb_g\" src=\"https://img1.daumcdn.net/thumb/S112x70ht.u/?fname=https%3A%2F%2Ft1.daumcdn.net%2Fnews%2F202308%2F17%2Fnewsis%2F20230817220601497wsnq.jpg&amp;scode=media\"/>\n",
      "</a>\n",
      "<div class=\"cont_thumb\">\n",
      "<strong class=\"tit_g\">\n",
      "<a class=\"link_txt\" data-tiara-custom=\"contentUniqueKey=hamny-20230817220601462&amp;clusterId=5556205,5139529,5494233,5150095&amp;clusterTitle=부동산 정책,[랭크업] 유레이더 1 OR 2 추가점수,올댓차이나,국제&amp;keywordType=INTEREST,NONE,NONE,NONE\" data-tiara-id=\"20230817220601462\" data-tiara-layer=\"article\" data-tiara-ordnum=\"5\" data-tiara-type=\"harmony\" href=\"https://v.daum.net/v/20230817220601462\">\n",
      "                                    [올댓차이나] 中, 부동산 정책 최적화 방침...\"위안화 과도조정 방지도\"\n",
      "                                </a>\n",
      "</strong>\n",
      "<span class=\"info_thumb\">\n",
      "<span class=\"txt_info\">뉴시스</span>\n",
      "</span>\n",
      "</div>\n",
      "</div>\n",
      "</li>\n",
      "<li>\n",
      "<div class=\"item_todayseries\">\n",
      "<div class=\"subtxt_thumb\">\n",
      "<a class=\"info_cp\" data-tiara-custom=\"contentUniqueKey=hamny-20230817220303425&amp;clusterId=5150091,5139529,5106137,2058&amp;clusterTitle=사회,[랭크업] 유레이더 1 OR 2 추가점수,[유통 제외] 해외 화제,생생中國&amp;keywordType=NONE,NONE,NONE,NONE\" data-tiara-id=\"20230817220303425\" data-tiara-layer=\"series\" data-tiara-ordnum=\"6\" data-tiara-type=\"harmony\" href=\"/series/2058\"><span class=\"screen_out\">출처\n",
      "                                </span>생생中國</a>\n",
      "</div>\n",
      "<a class=\"wrap_thumb\" data-tiara-custom=\"contentUniqueKey=hamny-20230817220303425&amp;clusterId=5150091,5139529,5106137,2058&amp;clusterTitle=사회,[랭크업] 유레이더 1 OR 2 추가점수,[유통 제외] 해외 화제,생생中國&amp;keywordType=NONE,NONE,NONE,NONE\" data-tiara-id=\"20230817220303425\" data-tiara-layer=\"article_thumb\" data-tiara-ordnum=\"6\" data-tiara-type=\"harmony\" href=\"https://v.daum.net/v/20230817220303425\">\n",
      "<img alt=\"‘미성년자 모드’ 장착해 ‘하루 2시간’ 제한…中 청소년 스마트폰 중독 해법 [생생中國]\" class=\"thumb_g\" src=\"https://img1.daumcdn.net/thumb/S112x70ht.u/?fname=https%3A%2F%2Ft1.daumcdn.net%2Fnews%2F202308%2F17%2Fmkeconomy%2F20230817220304693ygpz.jpg&amp;scode=media\"/>\n",
      "</a>\n",
      "<div class=\"cont_thumb\">\n",
      "<strong class=\"tit_g\">\n",
      "<a class=\"link_txt\" data-tiara-custom=\"contentUniqueKey=hamny-20230817220303425&amp;clusterId=5150091,5139529,5106137,2058&amp;clusterTitle=사회,[랭크업] 유레이더 1 OR 2 추가점수,[유통 제외] 해외 화제,생생中國&amp;keywordType=NONE,NONE,NONE,NONE\" data-tiara-id=\"20230817220303425\" data-tiara-layer=\"article\" data-tiara-ordnum=\"6\" data-tiara-type=\"harmony\" href=\"https://v.daum.net/v/20230817220303425\">\n",
      "                                    ‘미성년자 모드’ 장착해 ‘하루 2시간’ 제한…中 청소년 스마트폰 중독 해법 [생생中國]\n",
      "                                </a>\n",
      "</strong>\n",
      "<span class=\"info_thumb\">\n",
      "<span class=\"txt_info\">매경이코노미</span>\n",
      "</span>\n",
      "</div>\n",
      "</div>\n",
      "</li>\n",
      "<li>\n",
      "<div class=\"item_todayseries\">\n",
      "<div class=\"subtxt_thumb\">\n",
      "<a class=\"info_cp\" data-tiara-custom=\"contentUniqueKey=hamny-20230817215105181&amp;clusterId=5150091,5139529,5536163,437,1691242&amp;clusterTitle=사회,[랭크업] 유레이더 1 OR 2 추가점수,D리포트,SBS,광주광역시 광산구&amp;keywordType=NONE,NONE,NONE,NONE,NONE\" data-tiara-id=\"20230817215105181\" data-tiara-layer=\"series\" data-tiara-ordnum=\"7\" data-tiara-type=\"harmony\" href=\"/series/5536163\"><span class=\"screen_out\">출처\n",
      "                                </span>D리포트</a>\n",
      "</div>\n",
      "<a class=\"wrap_thumb\" data-tiara-custom=\"contentUniqueKey=hamny-20230817215105181&amp;clusterId=5150091,5139529,5536163,437,1691242&amp;clusterTitle=사회,[랭크업] 유레이더 1 OR 2 추가점수,D리포트,SBS,광주광역시 광산구&amp;keywordType=NONE,NONE,NONE,NONE,NONE\" data-tiara-id=\"20230817215105181\" data-tiara-layer=\"article_thumb\" data-tiara-ordnum=\"7\" data-tiara-type=\"harmony\" href=\"https://v.daum.net/v/20230817215105181\">\n",
      "<img alt=\"[D리포트] &quot;가슴이 따땃해서 그런 갑소&quot;…사투리 능수능란 AI '광산이'\" class=\"thumb_g\" src=\"https://img1.daumcdn.net/thumb/S112x70ht.u/?fname=https%3A%2F%2Ft1.daumcdn.net%2Fnews%2F202308%2F17%2Fsbsi%2F20230817215109560mdig.jpg&amp;scode=media\"/>\n",
      "</a>\n",
      "<div class=\"cont_thumb\">\n",
      "<strong class=\"tit_g\">\n",
      "<a class=\"link_txt\" data-tiara-custom=\"contentUniqueKey=hamny-20230817215105181&amp;clusterId=5150091,5139529,5536163,437,1691242&amp;clusterTitle=사회,[랭크업] 유레이더 1 OR 2 추가점수,D리포트,SBS,광주광역시 광산구&amp;keywordType=NONE,NONE,NONE,NONE,NONE\" data-tiara-id=\"20230817215105181\" data-tiara-layer=\"article\" data-tiara-ordnum=\"7\" data-tiara-type=\"harmony\" href=\"https://v.daum.net/v/20230817215105181\">\n",
      "                                    [D리포트] \"가슴이 따땃해서 그런 갑소\"…사투리 능수능란 AI '광산이'\n",
      "                                </a>\n",
      "</strong>\n",
      "<span class=\"info_thumb\">\n",
      "<span class=\"txt_info\">SBS</span>\n",
      "</span>\n",
      "</div>\n",
      "</div>\n",
      "</li>\n",
      "<li>\n",
      "<div class=\"item_todayseries\">\n",
      "<div class=\"subtxt_thumb\">\n",
      "<a class=\"info_cp\" data-tiara-custom=\"contentUniqueKey=hamny-20230817205502392&amp;clusterId=5590576,5590550,191589,5150092,5755814,5599922&amp;clusterTitle=[언론사픽] 열독률,[언론사픽] 기획뉴스,윤석열,정치,공덕포차,[품질검수] 뉴스 필터링&amp;keywordType=NONE,NONE,NONE,NONE,NONE,NONE\" data-tiara-id=\"20230817205502392\" data-tiara-layer=\"series\" data-tiara-ordnum=\"8\" data-tiara-type=\"harmony\" href=\"/series/5755814\"><span class=\"screen_out\">출처\n",
      "                                </span>공덕포차</a>\n",
      "</div>\n",
      "<a class=\"wrap_thumb\" data-tiara-custom=\"contentUniqueKey=hamny-20230817205502392&amp;clusterId=5590576,5590550,191589,5150092,5755814,5599922&amp;clusterTitle=[언론사픽] 열독률,[언론사픽] 기획뉴스,윤석열,정치,공덕포차,[품질검수] 뉴스 필터링&amp;keywordType=NONE,NONE,NONE,NONE,NONE,NONE\" data-tiara-id=\"20230817205502392\" data-tiara-layer=\"article_thumb\" data-tiara-ordnum=\"8\" data-tiara-type=\"harmony\" href=\"https://v.daum.net/v/20230817205502392\">\n",
      "<img alt=\"윤석열의 ‘좌파 척결 작전’과 한·미·일 ‘군사 협력 작전’ [공덕포차]\" class=\"thumb_g\" src=\"https://img1.daumcdn.net/thumb/S112x70ht.u/?fname=https%3A%2F%2Ft1.daumcdn.net%2Fnews%2F202308%2F17%2Fhani%2F20230817222006950wdeq.jpg&amp;scode=media\"/>\n",
      "</a>\n",
      "<div class=\"cont_thumb\">\n",
      "<strong class=\"tit_g\">\n",
      "<a class=\"link_txt\" data-tiara-custom=\"contentUniqueKey=hamny-20230817205502392&amp;clusterId=5590576,5590550,191589,5150092,5755814,5599922&amp;clusterTitle=[언론사픽] 열독률,[언론사픽] 기획뉴스,윤석열,정치,공덕포차,[품질검수] 뉴스 필터링&amp;keywordType=NONE,NONE,NONE,NONE,NONE,NONE\" data-tiara-id=\"20230817205502392\" data-tiara-layer=\"article\" data-tiara-ordnum=\"8\" data-tiara-type=\"harmony\" href=\"https://v.daum.net/v/20230817205502392\">\n",
      "                                    윤석열의 ‘좌파 척결 작전’과 한·미·일 ‘군사 협력 작전’ [공덕포차]\n",
      "                                </a>\n",
      "</strong>\n",
      "<span class=\"info_thumb\">\n",
      "<span class=\"txt_info\">한겨레</span>\n",
      "</span>\n",
      "</div>\n",
      "</div>\n",
      "</li>\n",
      "</ul>\n"
     ]
    }
   ],
   "source": [
    "# 세 번째 ul 태그 찾기\n",
    "print(parsed_res_text.find_all('ul')[3])"
   ]
  },
  {
   "cell_type": "code",
   "execution_count": 11,
   "metadata": {},
   "outputs": [
    {
     "name": "stdout",
     "output_type": "stream",
     "text": [
      "<div class=\"item_issue\" data-tiara-layer=\"headline1\">\n",
      "<a class=\"wrap_thumb\" data-tiara-custom=\"contentUniqueKey=hamny-20230817230103044&amp;clusterId=5001079,5034613,5556008,5556216,5556214,5590543,5150095&amp;clusterTitle=주식,증시 정보,연방준비제도,뉴욕증권거래소,해외증시,[언론사픽] 주요뉴스,국제&amp;keywordType=INTEREST,INTEREST,INTEREST,INTEREST,INTEREST,NONE,NONE\" data-tiara-id=\"20230817230103044\" data-tiara-layer=\"article_main\" data-tiara-ordnum=\"1\" data-tiara-type=\"harmony\" href=\"https://v.daum.net/v/20230817230103044\">\n",
      "<img alt=\"\" class=\"thumb_g\" src=\"https://img1.daumcdn.net/thumb/S96x60ht.u/?fname=https%3A%2F%2Ft1.daumcdn.net%2Fnews%2F202308%2F17%2Fchosunbiz%2F20230817230104112dnnb.jpg&amp;scode=media\"/>\n",
      "</a>\n",
      "<div class=\"cont_thumb\">\n",
      "<span class=\"info_thumb\">\n",
      "<span class=\"logo_cp\">\n",
      "<img alt=\"조선비즈\" class=\"thumb_g\" onerror=\"this.style.display='none';\" src=\"https://t1.daumcdn.net/media/news/news2016/cp/cp_chosunbiz.gif\"/>\n",
      "</span>\n",
      "<span class=\"txt_category\">국제</span>\n",
      "</span>\n",
      "<strong class=\"tit_g\">\n",
      "<a class=\"link_txt\" data-tiara-custom=\"contentUniqueKey=hamny-20230817230103044&amp;clusterId=5001079,5034613,5556008,5556216,5556214,5590543,5150095&amp;clusterTitle=주식,증시 정보,연방준비제도,뉴욕증권거래소,해외증시,[언론사픽] 주요뉴스,국제&amp;keywordType=INTEREST,INTEREST,INTEREST,INTEREST,INTEREST,NONE,NONE\" data-tiara-id=\"20230817230103044\" data-tiara-layer=\"article_main\" data-tiara-ordnum=\"1\" data-tiara-type=\"harmony\" href=\"https://v.daum.net/v/20230817230103044\">\n",
      "                                    뉴욕 증시, 장 초반 소폭 상승…이틀 간 하락 딛고 반등하나\n",
      "                                </a>\n",
      "</strong>\n",
      "</div>\n",
      "</div>\n"
     ]
    }
   ],
   "source": [
    "# class 속성이 item_issue인 첫 번째 span 태그 찾기\n",
    "print(parsed_res_text.find('div', attrs={'class': 'item_issue'}))"
   ]
  },
  {
   "cell_type": "code",
   "execution_count": 12,
   "metadata": {},
   "outputs": [
    {
     "name": "stdout",
     "output_type": "stream",
     "text": [
      "[<span class=\"txt_gnb\">경제</span>, <span class=\"txt_category\">경제</span>, <span class=\"txt_category\">경제</span>, <span class=\"txt_category\">경제</span>]\n"
     ]
    }
   ],
   "source": [
    "print(parsed_res_text.find_all('span', string='경제'))"
   ]
  },
  {
   "cell_type": "code",
   "execution_count": 13,
   "metadata": {},
   "outputs": [
    {
     "name": "stdout",
     "output_type": "stream",
     "text": [
      "<class 'bs4.element.Tag'>\n"
     ]
    }
   ],
   "source": [
    "ul_tag = parsed_res_text.find('ul', attrs={'class': 'list_newsissue'})\n",
    "print(type(ul_tag))"
   ]
  },
  {
   "cell_type": "code",
   "execution_count": 14,
   "metadata": {},
   "outputs": [],
   "source": [
    "li_list = ul_tag.find_all('li')"
   ]
  },
  {
   "cell_type": "code",
   "execution_count": 15,
   "metadata": {},
   "outputs": [
    {
     "name": "stdout",
     "output_type": "stream",
     "text": [
      "<a class=\"link_txt\" data-tiara-custom=\"contentUniqueKey=hamny-20230817230103044&amp;clusterId=5001079,5034613,5556008,5556216,5556214,5590543,5150095&amp;clusterTitle=주식,증시 정보,연방준비제도,뉴욕증권거래소,해외증시,[언론사픽] 주요뉴스,국제&amp;keywordType=INTEREST,INTEREST,INTEREST,INTEREST,INTEREST,NONE,NONE\" data-tiara-id=\"20230817230103044\" data-tiara-layer=\"article_main\" data-tiara-ordnum=\"1\" data-tiara-type=\"harmony\" href=\"https://v.daum.net/v/20230817230103044\">\n",
      "                                    뉴욕 증시, 장 초반 소폭 상승…이틀 간 하락 딛고 반등하나\n",
      "                                </a>\n"
     ]
    }
   ],
   "source": [
    "news_name = li_list[0].find('a', attrs={'class': 'link_txt'})\n",
    "print(news_name)"
   ]
  },
  {
   "cell_type": "code",
   "execution_count": 36,
   "metadata": {},
   "outputs": [
    {
     "name": "stdout",
     "output_type": "stream",
     "text": [
      "조선비즈\n"
     ]
    }
   ],
   "source": [
    "press_name = li_list[0].find('span', attrs={'class': 'logo_cp'})\n",
    "print(press_name.img['alt'])"
   ]
  },
  {
   "attachments": {},
   "cell_type": "markdown",
   "metadata": {},
   "source": [
    "속성을 이용한 값 가져오기"
   ]
  },
  {
   "cell_type": "code",
   "execution_count": 17,
   "metadata": {},
   "outputs": [
    {
     "name": "stdout",
     "output_type": "stream",
     "text": [
      "https://v.daum.net/v/20230817230103044\n"
     ]
    }
   ],
   "source": [
    "print(news_name['href'])"
   ]
  },
  {
   "cell_type": "code",
   "execution_count": 18,
   "metadata": {},
   "outputs": [
    {
     "name": "stdout",
     "output_type": "stream",
     "text": [
      "\n",
      "                                    뉴욕 증시, 장 초반 소폭 상승…이틀 간 하락 딛고 반등하나\n",
      "                                \n"
     ]
    }
   ],
   "source": [
    "print(news_name.text)"
   ]
  },
  {
   "cell_type": "code",
   "execution_count": 19,
   "metadata": {},
   "outputs": [
    {
     "name": "stdout",
     "output_type": "stream",
     "text": [
      "None\n"
     ]
    }
   ],
   "source": [
    "print(press_name.src)"
   ]
  },
  {
   "cell_type": "code",
   "execution_count": 37,
   "metadata": {},
   "outputs": [
    {
     "data": {
      "text/html": [
       "<div>\n",
       "<style scoped>\n",
       "    .dataframe tbody tr th:only-of-type {\n",
       "        vertical-align: middle;\n",
       "    }\n",
       "\n",
       "    .dataframe tbody tr th {\n",
       "        vertical-align: top;\n",
       "    }\n",
       "\n",
       "    .dataframe thead th {\n",
       "        text-align: right;\n",
       "    }\n",
       "</style>\n",
       "<table border=\"1\" class=\"dataframe\">\n",
       "  <thead>\n",
       "    <tr style=\"text-align: right;\">\n",
       "      <th></th>\n",
       "      <th>뉴스명</th>\n",
       "      <th>언론사명</th>\n",
       "      <th>뉴스링크</th>\n",
       "    </tr>\n",
       "  </thead>\n",
       "  <tbody>\n",
       "    <tr>\n",
       "      <th>0</th>\n",
       "      <td>뉴욕 증시, 장 초반 소폭 상승…이틀 간 하락 딛고 반등하나</td>\n",
       "      <td>조선비즈</td>\n",
       "      <td>https://v.daum.net/v/20230817230103044</td>\n",
       "    </tr>\n",
       "    <tr>\n",
       "      <th>1</th>\n",
       "      <td>중국은 청년실업률 발표 포기…美 실업수당 오히려 3주만에 감소</td>\n",
       "      <td>머니투데이</td>\n",
       "      <td>https://v.daum.net/v/20230817231206118</td>\n",
       "    </tr>\n",
       "    <tr>\n",
       "      <th>2</th>\n",
       "      <td>총선 패배 스페인 사회노동당, 하원의장 배출…중도좌파 재집권 가능성 커졌다</td>\n",
       "      <td>경향신문</td>\n",
       "      <td>https://v.daum.net/v/20230817215852360</td>\n",
       "    </tr>\n",
       "    <tr>\n",
       "      <th>3</th>\n",
       "      <td>교육위, 정당한 지도 아동학대 면책 '공감대'… 교권침해 생기부 기재 '입장차'</td>\n",
       "      <td>뉴시스</td>\n",
       "      <td>https://v.daum.net/v/20230817192848747</td>\n",
       "    </tr>\n",
       "    <tr>\n",
       "      <th>4</th>\n",
       "      <td>'대마초 합법화'로 가는 독일…유럽의 불안해진 눈빛</td>\n",
       "      <td>한국일보</td>\n",
       "      <td>https://v.daum.net/v/20230817221051515</td>\n",
       "    </tr>\n",
       "    <tr>\n",
       "      <th>5</th>\n",
       "      <td>영장 청구 시기·내용은…깊어지는 검찰의 고심</td>\n",
       "      <td>MBN</td>\n",
       "      <td>https://v.daum.net/v/20230817192439668</td>\n",
       "    </tr>\n",
       "    <tr>\n",
       "      <th>6</th>\n",
       "      <td>[단독]5개 부처 회의서 버젓이 “잼버리 2~3년 뒤 용도 변경”</td>\n",
       "      <td>채널A</td>\n",
       "      <td>https://v.daum.net/v/20230817193114817</td>\n",
       "    </tr>\n",
       "    <tr>\n",
       "      <th>7</th>\n",
       "      <td>\"치졸하고 비겁한 정권·검찰, 나를 소환하라\"…전직 비서 압색에 송영길 입장 표명</td>\n",
       "      <td>데일리안</td>\n",
       "      <td>https://v.daum.net/v/20230817173050660</td>\n",
       "    </tr>\n",
       "    <tr>\n",
       "      <th>8</th>\n",
       "      <td>구찌·삼성도 반했다…버려진 쓰레기로 만든 가구 '대박'</td>\n",
       "      <td>한국경제</td>\n",
       "      <td>https://v.daum.net/v/20230817184902850</td>\n",
       "    </tr>\n",
       "    <tr>\n",
       "      <th>9</th>\n",
       "      <td>퇴로 없는 우크라 전쟁… 나토, '영토 분할 휴전론' 꺼냈다가 철회</td>\n",
       "      <td>한국일보</td>\n",
       "      <td>https://v.daum.net/v/20230817193054807</td>\n",
       "    </tr>\n",
       "  </tbody>\n",
       "</table>\n",
       "</div>"
      ],
      "text/plain": [
       "                                             뉴스명   언론사명  \\\n",
       "0              뉴욕 증시, 장 초반 소폭 상승…이틀 간 하락 딛고 반등하나   조선비즈   \n",
       "1             중국은 청년실업률 발표 포기…美 실업수당 오히려 3주만에 감소  머니투데이   \n",
       "2      총선 패배 스페인 사회노동당, 하원의장 배출…중도좌파 재집권 가능성 커졌다   경향신문   \n",
       "3   교육위, 정당한 지도 아동학대 면책 '공감대'… 교권침해 생기부 기재 '입장차'    뉴시스   \n",
       "4                   '대마초 합법화'로 가는 독일…유럽의 불안해진 눈빛   한국일보   \n",
       "5                       영장 청구 시기·내용은…깊어지는 검찰의 고심    MBN   \n",
       "6           [단독]5개 부처 회의서 버젓이 “잼버리 2~3년 뒤 용도 변경”    채널A   \n",
       "7  \"치졸하고 비겁한 정권·검찰, 나를 소환하라\"…전직 비서 압색에 송영길 입장 표명   데일리안   \n",
       "8                 구찌·삼성도 반했다…버려진 쓰레기로 만든 가구 '대박'   한국경제   \n",
       "9          퇴로 없는 우크라 전쟁… 나토, '영토 분할 휴전론' 꺼냈다가 철회   한국일보   \n",
       "\n",
       "                                     뉴스링크  \n",
       "0  https://v.daum.net/v/20230817230103044  \n",
       "1  https://v.daum.net/v/20230817231206118  \n",
       "2  https://v.daum.net/v/20230817215852360  \n",
       "3  https://v.daum.net/v/20230817192848747  \n",
       "4  https://v.daum.net/v/20230817221051515  \n",
       "5  https://v.daum.net/v/20230817192439668  \n",
       "6  https://v.daum.net/v/20230817193114817  \n",
       "7  https://v.daum.net/v/20230817173050660  \n",
       "8  https://v.daum.net/v/20230817184902850  \n",
       "9  https://v.daum.net/v/20230817193054807  "
      ]
     },
     "metadata": {},
     "output_type": "display_data"
    }
   ],
   "source": [
    "import pandas as pd\n",
    "\n",
    "news_name_list = []\n",
    "news_link_list = []\n",
    "press_name_list = []\n",
    "\n",
    "for li in li_list:\n",
    "    news_name_tag = li.find('a', attrs={'class': 'link_txt'})\n",
    "    press_name_tag = li.find('span', attrs={'class': 'logo_cp'})\n",
    "\n",
    "    news_name = news_name_tag.text.strip()\n",
    "    press_name = press_name_tag.img['alt']\n",
    "    news_link = news_name_tag['href']\n",
    "\n",
    "    news_name_list.append(news_name)\n",
    "    press_name_list.append(press_name)\n",
    "    news_link_list.append(news_link)\n",
    "\n",
    "\n",
    "data = pd.DataFrame({'뉴스명': news_name_list, '언론사명': press_name_list, '뉴스링크': news_link_list})\n",
    "\n",
    "display(data.head(10))\n"
   ]
  }
 ],
 "metadata": {
  "kernelspec": {
   "display_name": "py38_32",
   "language": "python",
   "name": "python3"
  },
  "language_info": {
   "codemirror_mode": {
    "name": "ipython",
    "version": 3
   },
   "file_extension": ".py",
   "mimetype": "text/x-python",
   "name": "python",
   "nbconvert_exporter": "python",
   "pygments_lexer": "ipython3",
   "version": "3.9.17"
  },
  "orig_nbformat": 4,
  "vscode": {
   "interpreter": {
    "hash": "02d41c65dbd8f5397d0b188fb8f6c67c927b5c0337a8bdef0097259c00570245"
   }
  }
 },
 "nbformat": 4,
 "nbformat_minor": 2
}
