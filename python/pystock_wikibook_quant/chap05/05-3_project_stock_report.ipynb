{
 "cells": [
  {
   "attachments": {},
   "cell_type": "markdown",
   "metadata": {},
   "source": [
    "### 5장. 웹 크롤링을 이용한 데이터 수집\n",
    "\n",
    "5.3 [프로젝트] 증권사 리포트 수집"
   ]
  },
  {
   "attachments": {},
   "cell_type": "markdown",
   "metadata": {},
   "source": [
    "<u>파이썬을 이용한 리포트 수집</u>"
   ]
  },
  {
   "cell_type": "code",
   "execution_count": 1,
   "metadata": {},
   "outputs": [],
   "source": [
    "import requests\n",
    "from bs4 import BeautifulSoup as BS"
   ]
  },
  {
   "cell_type": "code",
   "execution_count": 2,
   "metadata": {},
   "outputs": [],
   "source": [
    "url = 'http://www.paxnet.co.kr/stock/report/report?menuCode=2222'\n",
    "response = requests.get(url)\n",
    "html = response.content\n",
    "html = BS(html)"
   ]
  },
  {
   "cell_type": "code",
   "execution_count": 3,
   "metadata": {},
   "outputs": [],
   "source": [
    "div = html.find('div', attrs={\"class\": \"board-type\"})\n",
    "li_list = div.find_all('li')"
   ]
  },
  {
   "attachments": {},
   "cell_type": "markdown",
   "metadata": {},
   "source": [
    "<u>수집 대상 행 결정</u>"
   ]
  },
  {
   "cell_type": "code",
   "execution_count": 4,
   "metadata": {},
   "outputs": [
    {
     "name": "stdout",
     "output_type": "stream",
     "text": [
      "<li class=\"board-list-th\">\n",
      "<div>종목</div>\n",
      "<div>제목</div>\n",
      "<div class=\"right\">적정가격</div>\n",
      "<div>투자의견</div>\n",
      "<div>제공출처</div>\n",
      "<div class=\"cent\">작성일</div>\n",
      "</li>\n"
     ]
    }
   ],
   "source": [
    "print(li_list[0])"
   ]
  },
  {
   "cell_type": "code",
   "execution_count": 5,
   "metadata": {},
   "outputs": [
    {
     "name": "stdout",
     "output_type": "stream",
     "text": [
      "<li>\n",
      "<div><strong class=\"color-cate\"><span class=\"bracket\">[</span><a href=\"http://www.paxnet.co.kr/stock/analysis/main?wlog_rpt=list_jm&amp;abbrSymbol=115180\">큐리언트</a><span class=\"bracket\">]</span></strong></div>\n",
      "<div>\n",
      "<p>\n",
      "<a href=\"javascript:selectView('142510');\">정상화 진행 중</a>\n",
      "</p>\n",
      "</div>\n",
      "<div class=\"line3\">\n",
      "<span>적정가격</span>\n",
      "\t \t\t\t\t\t\t\t\t\n",
      "\t\t\t\t\t\t\t\t\t\t\n",
      "\t\t\t\t\t\t\t\t\t\t\n",
      "\t\t\t\t\t\t\t\t\t\t\t-원\n",
      "\t\t\t\t\t\t\t\t\t\t\n",
      "\t\t\t\t\t\t\t\t\t\n",
      "\t\t\t\t\t\t\t\t</div>\n",
      "<div class=\"line3 color-black\">\n",
      "\t\t\t\t\t\t\t\t\t-\n",
      "\t\t\t\t\t\t\t\t</div>\n",
      "<div class=\"line3\">한국IR협의회</div>\n",
      "<div class=\"line3\">2023.08.18</div>\n",
      "</li>\n"
     ]
    }
   ],
   "source": [
    "print(li_list[1])"
   ]
  },
  {
   "cell_type": "code",
   "execution_count": 6,
   "metadata": {},
   "outputs": [
    {
     "name": "stdout",
     "output_type": "stream",
     "text": [
      "<li><a href=\"#\" onclick=\"linkPage(5); return false;\">5</a></li>\n"
     ]
    }
   ],
   "source": [
    "print(li_list[-1])"
   ]
  },
  {
   "cell_type": "code",
   "execution_count": 10,
   "metadata": {},
   "outputs": [],
   "source": [
    "check_str = '<strong class=\"color-cate\"><span class=\"bracket\">'"
   ]
  },
  {
   "cell_type": "code",
   "execution_count": 11,
   "metadata": {},
   "outputs": [
    {
     "name": "stdout",
     "output_type": "stream",
     "text": [
      "True\n",
      "False\n",
      "False\n"
     ]
    }
   ],
   "source": [
    "print(check_str in str(li_list[1]))\n",
    "print(check_str in str(li_list[0]))\n",
    "print(check_str in str(li_list[-1]))"
   ]
  },
  {
   "cell_type": "code",
   "execution_count": 12,
   "metadata": {},
   "outputs": [
    {
     "name": "stdout",
     "output_type": "stream",
     "text": [
      "큐리언트\n"
     ]
    }
   ],
   "source": [
    "stock = li_list[1].find_all('a')[0].text\n",
    "print(stock)"
   ]
  },
  {
   "cell_type": "code",
   "execution_count": 13,
   "metadata": {},
   "outputs": [
    {
     "name": "stdout",
     "output_type": "stream",
     "text": [
      "정상화 진행 중\n"
     ]
    }
   ],
   "source": [
    "title = li_list[1].find_all('a')[1].text\n",
    "print(title)"
   ]
  },
  {
   "cell_type": "code",
   "execution_count": 17,
   "metadata": {},
   "outputs": [
    {
     "data": {
      "text/plain": [
       "'\\n적정가격\\r\\n\\t \\t\\t\\t\\t\\t\\t\\t\\t\\r\\n\\t\\t\\t\\t\\t\\t\\t\\t\\t\\t\\r\\n\\t\\t\\t\\t\\t\\t\\t\\t\\t\\t\\t102,000원\\r\\n\\t\\t\\t\\t\\t\\t\\t\\t\\t\\t\\r\\n\\t\\t\\t\\t\\t\\t\\t\\t\\t\\t\\r\\n\\t\\t\\t\\t\\t\\t\\t\\t\\t\\r\\n\\t\\t\\t\\t\\t\\t\\t\\t'"
      ]
     },
     "metadata": {},
     "output_type": "display_data"
    }
   ],
   "source": [
    "price = li_list[4].find('div', attrs={'class': 'line3'}).text\n",
    "display(price)"
   ]
  },
  {
   "cell_type": "code",
   "execution_count": 18,
   "metadata": {},
   "outputs": [
    {
     "data": {
      "text/plain": [
       "'102000'"
      ]
     },
     "metadata": {},
     "output_type": "display_data"
    }
   ],
   "source": [
    "price = price.replace('\\r', '').replace('\\t', '').replace('\\n', '')\n",
    "price = price.split(' ')[1].replace(',', '')[:-1]\n",
    "display(price)"
   ]
  },
  {
   "cell_type": "code",
   "execution_count": 21,
   "metadata": {},
   "outputs": [
    {
     "data": {
      "text/plain": [
       "'\\r\\n\\t\\t\\t\\t\\t\\t\\t\\t\\t매수(유지)\\r\\n\\t\\t\\t\\t\\t\\t\\t\\t'"
      ]
     },
     "metadata": {},
     "output_type": "display_data"
    }
   ],
   "source": [
    "opinion = li_list[5].find_all('div', attrs={'class': 'line3'})[1].text\n",
    "display(opinion)"
   ]
  },
  {
   "cell_type": "code",
   "execution_count": 22,
   "metadata": {},
   "outputs": [
    {
     "data": {
      "text/plain": [
       "'매수(유지)'"
      ]
     },
     "metadata": {},
     "output_type": "display_data"
    }
   ],
   "source": [
    "opinion = opinion.replace('\\t', '').replace('\\n', '').replace('\\r', '')\n",
    "display(opinion)"
   ]
  },
  {
   "cell_type": "code",
   "execution_count": 23,
   "metadata": {},
   "outputs": [
    {
     "data": {
      "text/plain": [
       "'한국IR협의회'"
      ]
     },
     "metadata": {},
     "output_type": "display_data"
    }
   ],
   "source": [
    "trading_firm = li_list[1].find_all('div', attrs={'class': 'line3'})[2].text\n",
    "display(trading_firm)"
   ]
  },
  {
   "cell_type": "code",
   "execution_count": 25,
   "metadata": {},
   "outputs": [
    {
     "data": {
      "text/plain": [
       "'2023.08.18'"
      ]
     },
     "metadata": {},
     "output_type": "display_data"
    }
   ],
   "source": [
    "date = li_list[1].find_all('div', attrs={'class': 'line3'})[3].text\n",
    "display(date)"
   ]
  },
  {
   "cell_type": "code",
   "execution_count": 26,
   "metadata": {},
   "outputs": [
    {
     "data": {
      "text/plain": [
       "Timestamp('2023-08-18 00:00:00')"
      ]
     },
     "metadata": {},
     "output_type": "display_data"
    }
   ],
   "source": [
    "import pandas as pd\n",
    "\n",
    "date = pd.to_datetime(date)\n",
    "display(date)"
   ]
  },
  {
   "attachments": {},
   "cell_type": "markdown",
   "metadata": {},
   "source": [
    "<u>단일 리포트 파싱</u>"
   ]
  },
  {
   "cell_type": "code",
   "execution_count": 27,
   "metadata": {},
   "outputs": [],
   "source": [
    "def parsing_li(li):\n",
    "    stock = li.find_all('a')[0].text # 종목\n",
    "    title = li.find_all('a')[1].text # 리포트 종목\n",
    "    price = li.find('div', attrs={'class': 'line3'}).text # 적정가격\n",
    "    price = price.replace('\\r', '').replace('\\t', '').replace('\\n', '')\n",
    "    price = price.split(' ')[1].replace(',', '')[:-1]\n",
    "    opinion = li.find_all('div', attrs={'class': 'line3'})[1].text # 투자의견\n",
    "    opinion = opinion.replace('\\t', '').replace('\\n', '').replace('\\r', '')\n",
    "    trading_firm = li.find_all('div', attrs={'class': 'line3'})[2].text # 증권사\n",
    "    date = li.find_all('div', attrs={'class': 'line3'})[3].text # 작성일\n",
    "    date = pd.to_datetime(date)\n",
    "\n",
    "    return [stock, title, price, opinion, trading_firm, date]"
   ]
  },
  {
   "cell_type": "code",
   "execution_count": 28,
   "metadata": {},
   "outputs": [
    {
     "name": "stdout",
     "output_type": "stream",
     "text": [
      "['큐리언트', '정상화 진행 중', '-', '-', '한국IR협의회', Timestamp('2023-08-18 00:00:00')]\n"
     ]
    }
   ],
   "source": [
    "print(parsing_li(li_list[1]))"
   ]
  },
  {
   "attachments": {},
   "cell_type": "markdown",
   "metadata": {},
   "source": [
    "<u>한 페이지 내 모든 리포트 수집 및 정제</u>"
   ]
  },
  {
   "cell_type": "code",
   "execution_count": 29,
   "metadata": {},
   "outputs": [],
   "source": [
    "data = []\n",
    "for li in li_list:\n",
    "    if check_str in str(li):\n",
    "        record = parsing_li(li)\n",
    "        data.append(record)\n",
    "\n",
    "data = pd.DataFrame(data, columns=['종목', '리포트제목', '적정가격', '투자의견','증권사', '작성일'])"
   ]
  },
  {
   "cell_type": "code",
   "execution_count": 30,
   "metadata": {},
   "outputs": [
    {
     "data": {
      "text/html": [
       "<div>\n",
       "<style scoped>\n",
       "    .dataframe tbody tr th:only-of-type {\n",
       "        vertical-align: middle;\n",
       "    }\n",
       "\n",
       "    .dataframe tbody tr th {\n",
       "        vertical-align: top;\n",
       "    }\n",
       "\n",
       "    .dataframe thead th {\n",
       "        text-align: right;\n",
       "    }\n",
       "</style>\n",
       "<table border=\"1\" class=\"dataframe\">\n",
       "  <thead>\n",
       "    <tr style=\"text-align: right;\">\n",
       "      <th></th>\n",
       "      <th>종목</th>\n",
       "      <th>리포트제목</th>\n",
       "      <th>적정가격</th>\n",
       "      <th>투자의견</th>\n",
       "      <th>증권사</th>\n",
       "      <th>작성일</th>\n",
       "    </tr>\n",
       "  </thead>\n",
       "  <tbody>\n",
       "    <tr>\n",
       "      <th>0</th>\n",
       "      <td>큐리언트</td>\n",
       "      <td>정상화 진행 중</td>\n",
       "      <td>-</td>\n",
       "      <td>-</td>\n",
       "      <td>한국IR협의회</td>\n",
       "      <td>2023-08-18</td>\n",
       "    </tr>\n",
       "    <tr>\n",
       "      <th>1</th>\n",
       "      <td>LX하우시스</td>\n",
       "      <td>2023년 영업이익 6년만에 1,000억원 상회 전망</td>\n",
       "      <td>-</td>\n",
       "      <td>-</td>\n",
       "      <td>한국IR협의회</td>\n",
       "      <td>2023-08-18</td>\n",
       "    </tr>\n",
       "    <tr>\n",
       "      <th>2</th>\n",
       "      <td>NHN KCP</td>\n",
       "      <td>가맹점 확대에 따른 지속적인 매출 성장 기대</td>\n",
       "      <td>-</td>\n",
       "      <td>-</td>\n",
       "      <td>한국IR협의회</td>\n",
       "      <td>2023-08-18</td>\n",
       "    </tr>\n",
       "    <tr>\n",
       "      <th>3</th>\n",
       "      <td>대한유화</td>\n",
       "      <td>2분기 영업손실 예상 상회, 당분간 적자 지속 전망</td>\n",
       "      <td>102000</td>\n",
       "      <td>시장수익률</td>\n",
       "      <td>키움증권</td>\n",
       "      <td>2023-08-17</td>\n",
       "    </tr>\n",
       "    <tr>\n",
       "      <th>4</th>\n",
       "      <td>SK오션플랜트</td>\n",
       "      <td>2분기 사상 최대 실적</td>\n",
       "      <td>30000</td>\n",
       "      <td>매수(유지)</td>\n",
       "      <td>키움증권</td>\n",
       "      <td>2023-08-17</td>\n",
       "    </tr>\n",
       "    <tr>\n",
       "      <th>5</th>\n",
       "      <td>삼성전기</td>\n",
       "      <td>전장 부품 업체로 거듭나기</td>\n",
       "      <td>200000</td>\n",
       "      <td>매수(유지)</td>\n",
       "      <td>키움증권</td>\n",
       "      <td>2023-08-17</td>\n",
       "    </tr>\n",
       "    <tr>\n",
       "      <th>6</th>\n",
       "      <td>영원무역</td>\n",
       "      <td>2Q23R: 헤비급 실적 vs. 경량급 주가</td>\n",
       "      <td></td>\n",
       "      <td>매수</td>\n",
       "      <td>메리츠증권</td>\n",
       "      <td>2023-08-17</td>\n",
       "    </tr>\n",
       "    <tr>\n",
       "      <th>7</th>\n",
       "      <td>SK오션플랜트</td>\n",
       "      <td>2Q23 Review: 탑라인 성장 한계를 벗겨내다</td>\n",
       "      <td></td>\n",
       "      <td>매수</td>\n",
       "      <td>메리츠증권</td>\n",
       "      <td>2023-08-17</td>\n",
       "    </tr>\n",
       "    <tr>\n",
       "      <th>8</th>\n",
       "      <td>JYP Ent.</td>\n",
       "      <td>기대에 못 미쳐도 여전히 좋은 실적</td>\n",
       "      <td>155000</td>\n",
       "      <td>매수</td>\n",
       "      <td>메리츠증권</td>\n",
       "      <td>2023-08-17</td>\n",
       "    </tr>\n",
       "    <tr>\n",
       "      <th>9</th>\n",
       "      <td>노바텍</td>\n",
       "      <td>3분기 성수기 진입 + 신사업 기대감 유효</td>\n",
       "      <td>-</td>\n",
       "      <td>-</td>\n",
       "      <td>메리츠증권</td>\n",
       "      <td>2023-08-16</td>\n",
       "    </tr>\n",
       "  </tbody>\n",
       "</table>\n",
       "</div>"
      ],
      "text/plain": [
       "         종목                          리포트제목    적정가격    투자의견      증권사        작성일\n",
       "0      큐리언트                       정상화 진행 중       -       -  한국IR협의회 2023-08-18\n",
       "1    LX하우시스  2023년 영업이익 6년만에 1,000억원 상회 전망       -       -  한국IR협의회 2023-08-18\n",
       "2   NHN KCP       가맹점 확대에 따른 지속적인 매출 성장 기대       -       -  한국IR협의회 2023-08-18\n",
       "3      대한유화   2분기 영업손실 예상 상회, 당분간 적자 지속 전망  102000   시장수익률     키움증권 2023-08-17\n",
       "4   SK오션플랜트                   2분기 사상 최대 실적   30000  매수(유지)     키움증권 2023-08-17\n",
       "5      삼성전기                 전장 부품 업체로 거듭나기  200000  매수(유지)     키움증권 2023-08-17\n",
       "6      영원무역       2Q23R: 헤비급 실적 vs. 경량급 주가              매수    메리츠증권 2023-08-17\n",
       "7   SK오션플랜트   2Q23 Review: 탑라인 성장 한계를 벗겨내다              매수    메리츠증권 2023-08-17\n",
       "8  JYP Ent.            기대에 못 미쳐도 여전히 좋은 실적  155000      매수    메리츠증권 2023-08-17\n",
       "9       노바텍        3분기 성수기 진입 + 신사업 기대감 유효       -       -    메리츠증권 2023-08-16"
      ]
     },
     "metadata": {},
     "output_type": "display_data"
    }
   ],
   "source": [
    "display(data.head(10))"
   ]
  },
  {
   "attachments": {},
   "cell_type": "markdown",
   "metadata": {},
   "source": [
    "<u>전체 페이지의 데이터 수집 및 파싱</u>"
   ]
  },
  {
   "cell_type": "code",
   "execution_count": 33,
   "metadata": {},
   "outputs": [],
   "source": [
    "import time\n",
    "\n",
    "base_url = 'http://www.paxnet.co.kr/stock/report/report?menuCode=2222&currentPageNo={}&reportId=0&searchKey=stock&searchValue='\n",
    "data = []\n",
    "\n",
    "for page_no in range(1, 100): # 99페이지 까지 가져오기\n",
    "    # 웹 페이지 소스 가져오기\n",
    "    url = base_url.format(page_no)\n",
    "    while True:\n",
    "        response = requests.get(url)\n",
    "        if response.status_code == 200:\n",
    "            time.sleep(1)\n",
    "            break\n",
    "        else:\n",
    "            time.sleep(10 * 60)\n",
    "\n",
    "    html = response.content\n",
    "    html = BS(html)\n",
    "\n",
    "    # 웹 페이지 소스에서 필요한 부분만 가져오기\n",
    "    div = html.find('div', attrs={'class': 'board-type'})\n",
    "    li_list = div.find_all('li')\n",
    "    for li in li_list:\n",
    "        if check_str in str(li):\n",
    "            record = parsing_li(li)\n",
    "            data.append(record)\n",
    "\n",
    "data = pd.DataFrame(data, columns=['종목', '리포트제목', '적정가격', '투자의견','증권사', '작성일'])"
   ]
  },
  {
   "attachments": {},
   "cell_type": "markdown",
   "metadata": {},
   "source": [
    "<u>데이터 저장</u>"
   ]
  },
  {
   "cell_type": "code",
   "execution_count": 38,
   "metadata": {},
   "outputs": [],
   "source": [
    "data.to_csv('./data/stock_report.txt', sep='\\t', encoding='utf-8', index=False)"
   ]
  }
 ],
 "metadata": {
  "kernelspec": {
   "display_name": "py38_32",
   "language": "python",
   "name": "python3"
  },
  "language_info": {
   "codemirror_mode": {
    "name": "ipython",
    "version": 3
   },
   "file_extension": ".py",
   "mimetype": "text/x-python",
   "name": "python",
   "nbconvert_exporter": "python",
   "pygments_lexer": "ipython3",
   "version": "3.9.17"
  },
  "orig_nbformat": 4,
  "vscode": {
   "interpreter": {
    "hash": "02d41c65dbd8f5397d0b188fb8f6c67c927b5c0337a8bdef0097259c00570245"
   }
  }
 },
 "nbformat": 4,
 "nbformat_minor": 2
}
