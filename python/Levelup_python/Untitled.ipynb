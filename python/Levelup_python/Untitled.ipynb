{
 "cells": [
  {
   "cell_type": "markdown",
   "id": "9214b325-1857-452d-a2e9-af17a1a3393c",
   "metadata": {},
   "source": [
    "<img src=\"figures/01.png\" witdh=500>"
   ]
  },
  {
   "cell_type": "code",
   "execution_count": 1,
   "id": "08b98ca7-707b-47fd-bc83-e2deb90b282a",
   "metadata": {},
   "outputs": [
    {
     "data": {
      "text/plain": [
       "140703722774336"
      ]
     },
     "execution_count": 1,
     "metadata": {},
     "output_type": "execute_result"
    }
   ],
   "source": [
    "a = 3\n",
    "id(a)"
   ]
  },
  {
   "cell_type": "code",
   "execution_count": null,
   "id": "62b5ad96-7a02-4a79-9d30-7639f88ad16d",
   "metadata": {},
   "outputs": [],
   "source": []
  }
 ],
 "metadata": {
  "kernelspec": {
   "display_name": "Python 3 (ipykernel)",
   "language": "python",
   "name": "python3"
  },
  "language_info": {
   "codemirror_mode": {
    "name": "ipython",
    "version": 3
   },
   "file_extension": ".py",
   "mimetype": "text/x-python",
   "name": "python",
   "nbconvert_exporter": "python",
   "pygments_lexer": "ipython3",
   "version": "3.8.12"
  }
 },
 "nbformat": 4,
 "nbformat_minor": 5
}
