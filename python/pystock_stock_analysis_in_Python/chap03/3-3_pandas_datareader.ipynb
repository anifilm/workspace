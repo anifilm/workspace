{
 "cells": [
  {
   "attachments": {},
   "cell_type": "markdown",
   "metadata": {},
   "source": [
    "### 3.4 주식 비교하기\n",
    "\n",
    "3.4.1 야후 파이낸스로 주식 시세 구하기"
   ]
  },
  {
   "cell_type": "code",
   "execution_count": 1,
   "metadata": {},
   "outputs": [
    {
     "name": "stdout",
     "output_type": "stream",
     "text": [
      "[*********************100%***********************]  1 of 1 completed\n",
      "[*********************100%***********************]  1 of 1 completed\n"
     ]
    },
    {
     "data": {
      "text/html": [
       "<div>\n",
       "<style scoped>\n",
       "    .dataframe tbody tr th:only-of-type {\n",
       "        vertical-align: middle;\n",
       "    }\n",
       "\n",
       "    .dataframe tbody tr th {\n",
       "        vertical-align: top;\n",
       "    }\n",
       "\n",
       "    .dataframe thead th {\n",
       "        text-align: right;\n",
       "    }\n",
       "</style>\n",
       "<table border=\"1\" class=\"dataframe\">\n",
       "  <thead>\n",
       "    <tr style=\"text-align: right;\">\n",
       "      <th></th>\n",
       "      <th>Open</th>\n",
       "      <th>High</th>\n",
       "      <th>Low</th>\n",
       "      <th>Close</th>\n",
       "      <th>Adj Close</th>\n",
       "      <th>Volume</th>\n",
       "    </tr>\n",
       "    <tr>\n",
       "      <th>Date</th>\n",
       "      <th></th>\n",
       "      <th></th>\n",
       "      <th></th>\n",
       "      <th></th>\n",
       "      <th></th>\n",
       "      <th></th>\n",
       "    </tr>\n",
       "  </thead>\n",
       "  <tbody>\n",
       "    <tr>\n",
       "      <th>2018-05-04</th>\n",
       "      <td>53000.0</td>\n",
       "      <td>53900.0</td>\n",
       "      <td>51800.0</td>\n",
       "      <td>51900.0</td>\n",
       "      <td>44598.582031</td>\n",
       "      <td>39565391</td>\n",
       "    </tr>\n",
       "    <tr>\n",
       "      <th>2018-05-08</th>\n",
       "      <td>52600.0</td>\n",
       "      <td>53200.0</td>\n",
       "      <td>51900.0</td>\n",
       "      <td>52600.0</td>\n",
       "      <td>45200.113281</td>\n",
       "      <td>23104720</td>\n",
       "    </tr>\n",
       "    <tr>\n",
       "      <th>2018-05-09</th>\n",
       "      <td>52600.0</td>\n",
       "      <td>52800.0</td>\n",
       "      <td>50900.0</td>\n",
       "      <td>50900.0</td>\n",
       "      <td>43739.269531</td>\n",
       "      <td>16128305</td>\n",
       "    </tr>\n",
       "    <tr>\n",
       "      <th>2018-05-10</th>\n",
       "      <td>51700.0</td>\n",
       "      <td>51700.0</td>\n",
       "      <td>50600.0</td>\n",
       "      <td>51600.0</td>\n",
       "      <td>44340.796875</td>\n",
       "      <td>13905263</td>\n",
       "    </tr>\n",
       "    <tr>\n",
       "      <th>2018-05-11</th>\n",
       "      <td>52000.0</td>\n",
       "      <td>52200.0</td>\n",
       "      <td>51200.0</td>\n",
       "      <td>51300.0</td>\n",
       "      <td>44083.000000</td>\n",
       "      <td>10314997</td>\n",
       "    </tr>\n",
       "    <tr>\n",
       "      <th>2018-05-14</th>\n",
       "      <td>51000.0</td>\n",
       "      <td>51100.0</td>\n",
       "      <td>49900.0</td>\n",
       "      <td>50100.0</td>\n",
       "      <td>43051.820312</td>\n",
       "      <td>14909272</td>\n",
       "    </tr>\n",
       "    <tr>\n",
       "      <th>2018-05-15</th>\n",
       "      <td>50200.0</td>\n",
       "      <td>50400.0</td>\n",
       "      <td>49100.0</td>\n",
       "      <td>49200.0</td>\n",
       "      <td>42278.429688</td>\n",
       "      <td>18709146</td>\n",
       "    </tr>\n",
       "    <tr>\n",
       "      <th>2018-05-16</th>\n",
       "      <td>49200.0</td>\n",
       "      <td>50200.0</td>\n",
       "      <td>49150.0</td>\n",
       "      <td>49850.0</td>\n",
       "      <td>42836.984375</td>\n",
       "      <td>15918683</td>\n",
       "    </tr>\n",
       "    <tr>\n",
       "      <th>2018-05-17</th>\n",
       "      <td>50300.0</td>\n",
       "      <td>50500.0</td>\n",
       "      <td>49400.0</td>\n",
       "      <td>49400.0</td>\n",
       "      <td>42450.296875</td>\n",
       "      <td>10365440</td>\n",
       "    </tr>\n",
       "    <tr>\n",
       "      <th>2018-05-18</th>\n",
       "      <td>49900.0</td>\n",
       "      <td>49900.0</td>\n",
       "      <td>49350.0</td>\n",
       "      <td>49500.0</td>\n",
       "      <td>42536.222656</td>\n",
       "      <td>6706570</td>\n",
       "    </tr>\n",
       "  </tbody>\n",
       "</table>\n",
       "</div>"
      ],
      "text/plain": [
       "               Open     High      Low    Close     Adj Close    Volume\n",
       "Date                                                                  \n",
       "2018-05-04  53000.0  53900.0  51800.0  51900.0  44598.582031  39565391\n",
       "2018-05-08  52600.0  53200.0  51900.0  52600.0  45200.113281  23104720\n",
       "2018-05-09  52600.0  52800.0  50900.0  50900.0  43739.269531  16128305\n",
       "2018-05-10  51700.0  51700.0  50600.0  51600.0  44340.796875  13905263\n",
       "2018-05-11  52000.0  52200.0  51200.0  51300.0  44083.000000  10314997\n",
       "2018-05-14  51000.0  51100.0  49900.0  50100.0  43051.820312  14909272\n",
       "2018-05-15  50200.0  50400.0  49100.0  49200.0  42278.429688  18709146\n",
       "2018-05-16  49200.0  50200.0  49150.0  49850.0  42836.984375  15918683\n",
       "2018-05-17  50300.0  50500.0  49400.0  49400.0  42450.296875  10365440\n",
       "2018-05-18  49900.0  49900.0  49350.0  49500.0  42536.222656   6706570"
      ]
     },
     "execution_count": 1,
     "metadata": {},
     "output_type": "execute_result"
    }
   ],
   "source": [
    "from pandas_datareader import data as pdr\n",
    "import yfinance as yf\n",
    "\n",
    "yf.pdr_override()\n",
    "\n",
    "sec = pdr.get_data_yahoo('005930.KS', start='2018-05-04')\n",
    "msft = pdr.get_data_yahoo('MSFT', start='2018-05-04')\n",
    "\n",
    "sec.head(10)"
   ]
  },
  {
   "cell_type": "code",
   "execution_count": 2,
   "metadata": {},
   "outputs": [
    {
     "data": {
      "text/html": [
       "<div>\n",
       "<style scoped>\n",
       "    .dataframe tbody tr th:only-of-type {\n",
       "        vertical-align: middle;\n",
       "    }\n",
       "\n",
       "    .dataframe tbody tr th {\n",
       "        vertical-align: top;\n",
       "    }\n",
       "\n",
       "    .dataframe thead th {\n",
       "        text-align: right;\n",
       "    }\n",
       "</style>\n",
       "<table border=\"1\" class=\"dataframe\">\n",
       "  <thead>\n",
       "    <tr style=\"text-align: right;\">\n",
       "      <th></th>\n",
       "      <th>Open</th>\n",
       "      <th>High</th>\n",
       "      <th>Low</th>\n",
       "      <th>Close</th>\n",
       "      <th>Adj Close</th>\n",
       "    </tr>\n",
       "    <tr>\n",
       "      <th>Date</th>\n",
       "      <th></th>\n",
       "      <th></th>\n",
       "      <th></th>\n",
       "      <th></th>\n",
       "      <th></th>\n",
       "    </tr>\n",
       "  </thead>\n",
       "  <tbody>\n",
       "    <tr>\n",
       "      <th>2023-07-24</th>\n",
       "      <td>345.850006</td>\n",
       "      <td>346.920013</td>\n",
       "      <td>342.309998</td>\n",
       "      <td>345.109985</td>\n",
       "      <td>345.109985</td>\n",
       "    </tr>\n",
       "    <tr>\n",
       "      <th>2023-07-25</th>\n",
       "      <td>347.109985</td>\n",
       "      <td>351.890015</td>\n",
       "      <td>345.070007</td>\n",
       "      <td>350.980011</td>\n",
       "      <td>350.980011</td>\n",
       "    </tr>\n",
       "    <tr>\n",
       "      <th>2023-07-26</th>\n",
       "      <td>341.440002</td>\n",
       "      <td>344.670013</td>\n",
       "      <td>333.109985</td>\n",
       "      <td>337.769989</td>\n",
       "      <td>337.769989</td>\n",
       "    </tr>\n",
       "    <tr>\n",
       "      <th>2023-07-27</th>\n",
       "      <td>340.480011</td>\n",
       "      <td>341.329987</td>\n",
       "      <td>329.049988</td>\n",
       "      <td>330.720001</td>\n",
       "      <td>330.720001</td>\n",
       "    </tr>\n",
       "    <tr>\n",
       "      <th>2023-07-28</th>\n",
       "      <td>333.670013</td>\n",
       "      <td>340.010010</td>\n",
       "      <td>333.170013</td>\n",
       "      <td>338.369995</td>\n",
       "      <td>338.369995</td>\n",
       "    </tr>\n",
       "  </tbody>\n",
       "</table>\n",
       "</div>"
      ],
      "text/plain": [
       "                  Open        High         Low       Close   Adj Close\n",
       "Date                                                                  \n",
       "2023-07-24  345.850006  346.920013  342.309998  345.109985  345.109985\n",
       "2023-07-25  347.109985  351.890015  345.070007  350.980011  350.980011\n",
       "2023-07-26  341.440002  344.670013  333.109985  337.769989  337.769989\n",
       "2023-07-27  340.480011  341.329987  329.049988  330.720001  330.720001\n",
       "2023-07-28  333.670013  340.010010  333.170013  338.369995  338.369995"
      ]
     },
     "execution_count": 2,
     "metadata": {},
     "output_type": "execute_result"
    }
   ],
   "source": [
    "tmp_msft = msft.drop(columns='Volume')\n",
    "tmp_msft.tail()"
   ]
  },
  {
   "cell_type": "code",
   "execution_count": 3,
   "metadata": {},
   "outputs": [
    {
     "data": {
      "text/plain": [
       "DatetimeIndex(['2018-05-04', '2018-05-08', '2018-05-09', '2018-05-10',\n",
       "               '2018-05-11', '2018-05-14', '2018-05-15', '2018-05-16',\n",
       "               '2018-05-17', '2018-05-18',\n",
       "               ...\n",
       "               '2023-07-17', '2023-07-18', '2023-07-19', '2023-07-20',\n",
       "               '2023-07-21', '2023-07-24', '2023-07-25', '2023-07-26',\n",
       "               '2023-07-27', '2023-07-28'],\n",
       "              dtype='datetime64[ns]', name='Date', length=1289, freq=None)"
      ]
     },
     "execution_count": 3,
     "metadata": {},
     "output_type": "execute_result"
    }
   ],
   "source": [
    "sec.index"
   ]
  },
  {
   "cell_type": "code",
   "execution_count": 4,
   "metadata": {},
   "outputs": [
    {
     "data": {
      "text/plain": [
       "Index(['Open', 'High', 'Low', 'Close', 'Adj Close', 'Volume'], dtype='object')"
      ]
     },
     "execution_count": 4,
     "metadata": {},
     "output_type": "execute_result"
    }
   ],
   "source": [
    "sec.columns"
   ]
  }
 ],
 "metadata": {
  "kernelspec": {
   "display_name": "py38_32",
   "language": "python",
   "name": "python3"
  },
  "language_info": {
   "codemirror_mode": {
    "name": "ipython",
    "version": 3
   },
   "file_extension": ".py",
   "mimetype": "text/x-python",
   "name": "python",
   "nbconvert_exporter": "python",
   "pygments_lexer": "ipython3",
   "version": "3.8.13 (default, Mar 28 2022, 01:56:06) [MSC v.1916 32 bit (Intel)]"
  },
  "orig_nbformat": 4,
  "vscode": {
   "interpreter": {
    "hash": "02d41c65dbd8f5397d0b188fb8f6c67c927b5c0337a8bdef0097259c00570245"
   }
  }
 },
 "nbformat": 4,
 "nbformat_minor": 2
}
