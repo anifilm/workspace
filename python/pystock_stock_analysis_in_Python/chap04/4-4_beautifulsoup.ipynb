{
 "cells": [
  {
   "attachments": {},
   "cell_type": "markdown",
   "metadata": {},
   "source": [
    "### 4.4 뷰티풀 수프로 일별 시세 읽어오기\n",
    "\n",
    "4.4.3 맨 뒤 페이지 숫자 구하기"
   ]
  },
  {
   "cell_type": "code",
   "execution_count": 14,
   "metadata": {},
   "outputs": [
    {
     "name": "stdout",
     "output_type": "stream",
     "text": [
      "/item/sise_day.naver?code=068270&page=446\n"
     ]
    }
   ],
   "source": [
    "from bs4 import BeautifulSoup\n",
    "import requests\n",
    "\n",
    "url = 'https://finance.naver.com/item/sise_day.naver?code=068270&page=1'\n",
    "html = requests.get(url, headers={'User-agent': 'Mozilla/5.0'}).text\n",
    "\n",
    "bs = BeautifulSoup(html, 'lxml')\n",
    "pgrr = bs.find('td', class_='pgRR')\n",
    "\n",
    "print(pgrr.a['href'])"
   ]
  },
  {
   "cell_type": "code",
   "execution_count": 15,
   "metadata": {},
   "outputs": [
    {
     "name": "stdout",
     "output_type": "stream",
     "text": [
      "<td class=\"pgRR\">\n",
      " <a href=\"/item/sise_day.naver?code=068270&amp;page=446\">\n",
      "  맨뒤\n",
      "  <img alt=\"\" border=\"0\" height=\"5\" src=\"https://ssl.pstatic.net/static/n/cmn/bu_pgarRR.gif\" width=\"8\"/>\n",
      " </a>\n",
      "</td>\n",
      "\n"
     ]
    }
   ],
   "source": [
    "print(pgrr.prettify())"
   ]
  },
  {
   "cell_type": "code",
   "execution_count": 16,
   "metadata": {},
   "outputs": [
    {
     "name": "stdout",
     "output_type": "stream",
     "text": [
      "\n",
      "맨뒤\n",
      "\t\t\t\t\n",
      "\n",
      "\n"
     ]
    }
   ],
   "source": [
    "print(pgrr.text)"
   ]
  },
  {
   "cell_type": "code",
   "execution_count": 18,
   "metadata": {},
   "outputs": [
    {
     "name": "stdout",
     "output_type": "stream",
     "text": [
      "446\n"
     ]
    }
   ],
   "source": [
    "s = str(pgrr.a['href']).split('=')\n",
    "last_page = s[-1]\n",
    "\n",
    "print(last_page)"
   ]
  },
  {
   "attachments": {},
   "cell_type": "markdown",
   "metadata": {},
   "source": [
    "4.4.4 전체 페이지 읽어오기"
   ]
  },
  {
   "cell_type": "code",
   "execution_count": 20,
   "metadata": {},
   "outputs": [
    {
     "name": "stdout",
     "output_type": "stream",
     "text": [
      "            날짜        종가     전일비        시가        고가        저가        거래량\n",
      "1   2023.07.28  143800.0   300.0  144300.0  145100.0  142300.0   363765.0\n",
      "2   2023.07.27  144100.0  1700.0  141100.0  145300.0  141100.0   636071.0\n",
      "3   2023.07.26  142400.0  2100.0  143900.0  144700.0  139500.0  1280593.0\n",
      "4   2023.07.25  144500.0  2900.0  146700.0  147900.0  144100.0   621953.0\n",
      "5   2023.07.24  147400.0  3600.0  150400.0  150500.0  146200.0   669720.0\n",
      "..         ...       ...     ...       ...       ...       ...        ...\n",
      "9   2005.07.25    5650.0    70.0    5500.0    5950.0    5500.0    61036.0\n",
      "10  2005.07.22    5580.0   160.0    5850.0    5850.0    5530.0    69921.0\n",
      "11  2005.07.21    5740.0   810.0    6450.0    6580.0    5730.0   182685.0\n",
      "12  2005.07.20    6550.0  1150.0    7690.0    7690.0    6550.0   422688.0\n",
      "13  2005.07.19    7700.0  2500.0    6700.0    7700.0    6510.0   499088.0\n",
      "\n",
      "[4460 rows x 7 columns]\n"
     ]
    }
   ],
   "source": [
    "import pandas as pd\n",
    "\n",
    "df = pd.DataFrame()\n",
    "\n",
    "sise_url = 'https://finance.naver.com/item/sise_day.naver?code=068270'\n",
    "\n",
    "for page in range(1, int(last_page)+1):\n",
    "    url = '{}&page={}'.format(sise_url, page)\n",
    "    html = requests.get(url, headers={'User-agent': 'Mozilla/5.0'}).text\n",
    "    df = df._append(pd.read_html(html, header=0)[0])\n",
    "\n",
    "df = df.dropna()\n",
    "\n",
    "print(df)"
   ]
  }
 ],
 "metadata": {
  "kernelspec": {
   "display_name": "py38_32",
   "language": "python",
   "name": "python3"
  },
  "language_info": {
   "codemirror_mode": {
    "name": "ipython",
    "version": 3
   },
   "file_extension": ".py",
   "mimetype": "text/x-python",
   "name": "python",
   "nbconvert_exporter": "python",
   "pygments_lexer": "ipython3",
   "version": "3.8.13 (default, Mar 28 2022, 01:56:06) [MSC v.1916 32 bit (Intel)]"
  },
  "orig_nbformat": 4,
  "vscode": {
   "interpreter": {
    "hash": "02d41c65dbd8f5397d0b188fb8f6c67c927b5c0337a8bdef0097259c00570245"
   }
  }
 },
 "nbformat": 4,
 "nbformat_minor": 2
}
