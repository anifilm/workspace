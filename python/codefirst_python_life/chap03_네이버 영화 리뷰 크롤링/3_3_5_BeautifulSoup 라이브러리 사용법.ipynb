{
 "cells": [
  {
   "cell_type": "code",
   "execution_count": 1,
   "id": "74d5da21",
   "metadata": {},
   "outputs": [],
   "source": [
    "from bs4 import BeautifulSoup"
   ]
  },
  {
   "cell_type": "code",
   "execution_count": 2,
   "id": "8cd90d2d",
   "metadata": {},
   "outputs": [],
   "source": [
    "html_doc = \"\"\"\n",
    "<html><head><title>The Dormouse's story</title></head>\n",
    "<body>\n",
    "<p class=\"title\"><b>The Dormouse's story</b></p>\n",
    "\n",
    "<p class=\"story\">Once upon a time there were three little sisters; and their names were\n",
    "<a href=\"http://example.com/elsie\" class=\"sister\" id=\"link1\">Elsie</a>,\n",
    "<a href=\"http://example.com/lacie\" class=\"sister\" id=\"link2\">Lacie</a> and\n",
    "<a href=\"http://example.com/tillie\" class=\"sister\" id=\"link3\">Tillie</a>;\n",
    "and they lived at the bottom of a well.</p>\n",
    "\n",
    "<p class=\"story\">...</p>\n",
    "\"\"\""
   ]
  },
  {
   "cell_type": "code",
   "execution_count": 3,
   "id": "70d9ef18",
   "metadata": {},
   "outputs": [
    {
     "name": "stdout",
     "output_type": "stream",
     "text": [
      "soup.body.p의 결과: <p class=\"title\"><b>The Dormouse's story</b></p>\n"
     ]
    }
   ],
   "source": [
    "# BeautifulSoup 객체를 생성\n",
    "soup = BeautifulSoup(html_doc, \"lxml\")\n",
    "\n",
    "# 객체.태그 이름\n",
    "# .태그 이름으로 하위 태그로의 접근 가능\n",
    "print(\"soup.body.p의 결과:\", soup.body.p)"
   ]
  },
  {
   "cell_type": "code",
   "execution_count": 4,
   "id": "42e954fa",
   "metadata": {},
   "outputs": [
    {
     "name": "stdout",
     "output_type": "stream",
     "text": [
      "soup.a['href']의 결과: http://example.com/elsie\n"
     ]
    }
   ],
   "source": [
    "# 객체.태그['속성 이름']\n",
    "# 객체의 태그 속성은 파이썬 딕셔너리처럼 태그['속성 이름']으로 접근 가능\n",
    "print(\"soup.a['href']의 결과:\", soup.a['href'])"
   ]
  },
  {
   "cell_type": "code",
   "execution_count": 5,
   "id": "3b853320",
   "metadata": {},
   "outputs": [
    {
     "name": "stdout",
     "output_type": "stream",
     "text": [
      "soup.title.name의 결과: title\n"
     ]
    }
   ],
   "source": [
    "# 객체.name\n",
    "## name 변수\n",
    "print(\"soup.title.name의 결과:\", soup.title.name)"
   ]
  },
  {
   "cell_type": "code",
   "execution_count": 6,
   "id": "29365212",
   "metadata": {},
   "outputs": [
    {
     "name": "stdout",
     "output_type": "stream",
     "text": [
      "soup.title.string의 결과: The Dormouse's story\n"
     ]
    }
   ],
   "source": [
    "# 객체.string\n",
    "## string 변수\n",
    "print(\"soup.title.string의 결과:\", soup.title.string)"
   ]
  },
  {
   "cell_type": "code",
   "execution_count": 7,
   "id": "9636cda8",
   "metadata": {},
   "outputs": [
    {
     "name": "stdout",
     "output_type": "stream",
     "text": [
      "soup.contents의 결과:  [<html><head><title>The Dormouse's story</title></head>\n",
      "<body>\n",
      "<p class=\"title\"><b>The Dormouse's story</b></p>\n",
      "<p class=\"story\">Once upon a time there were three little sisters; and their names were\n",
      "<a class=\"sister\" href=\"http://example.com/elsie\" id=\"link1\">Elsie</a>,\n",
      "<a class=\"sister\" href=\"http://example.com/lacie\" id=\"link2\">Lacie</a> and\n",
      "<a class=\"sister\" href=\"http://example.com/tillie\" id=\"link3\">Tillie</a>;\n",
      "and they lived at the bottom of a well.</p>\n",
      "<p class=\"story\">...</p>\n",
      "</body></html>]\n"
     ]
    }
   ],
   "source": [
    "# 객체.contents\n",
    "## 태그의 자식들을 리스트로 반환\n",
    "print(\"soup.contents의 결과: \", soup.contents)"
   ]
  },
  {
   "cell_type": "code",
   "execution_count": 10,
   "id": "6d96c9f2",
   "metadata": {},
   "outputs": [
    {
     "name": "stdout",
     "output_type": "stream",
     "text": [
      "soup.find()의 결과: <a class=\"sister\" href=\"http://example.com/elsie\" id=\"link1\">Elsie</a>\n"
     ]
    }
   ],
   "source": [
    "# find()\n",
    "## 태그 하나만 가져옴\n",
    "\"\"\"\n",
    "find(name, attrs, recursive, string, **kwargs)\n",
    "[옵션]\n",
    "name - 태그 이름\n",
    "attrs - 속성(딕셔너리로)\n",
    "recursive - 모든 자식 or 자식\n",
    "string - 태그 안에 텍스트\n",
    "keyword - 속성(키워드로)\n",
    "※ (주의) class는 파이썬 예약어이므로, class_를 사용한다.\n",
    "\"\"\"\n",
    "print(\"soup.find()의 결과:\", soup.find('a', attrs={'class': 'sister'}))"
   ]
  },
  {
   "cell_type": "code",
   "execution_count": 11,
   "id": "740a4168",
   "metadata": {},
   "outputs": [
    {
     "name": "stdout",
     "output_type": "stream",
     "text": [
      "soup.find_all()의 결과: [<a class=\"sister\" href=\"http://example.com/elsie\" id=\"link1\">Elsie</a>, <a class=\"sister\" href=\"http://example.com/lacie\" id=\"link2\">Lacie</a>]\n"
     ]
    }
   ],
   "source": [
    "# find_all()\n",
    "## 해당 태그가 여러 개 있을 경우 한꺼번에 모두 가져온다. 그 객체들의 리스트로 반환한다. \n",
    "\"\"\"\n",
    "find_all(name, attrs, recursive, string, limit, **kwargs)\n",
    "[옵션]\n",
    "Limit - 몇 개까지 찾을 것인가? find_all()로 검색했을 때, 수천, 수만 개가 된다면 시간이 오래 걸릴\n",
    "        것이다. 이때 몇 개까지만 찾을 수 있도록 제한을 둘 수 있는 인자다.\n",
    "\"\"\"\n",
    "print(\"soup.find_all()의 결과:\", soup.find_all('a', limit=2))"
   ]
  }
 ],
 "metadata": {
  "kernelspec": {
   "display_name": "Python 3",
   "language": "python",
   "name": "python3"
  },
  "language_info": {
   "codemirror_mode": {
    "name": "ipython",
    "version": 3
   },
   "file_extension": ".py",
   "mimetype": "text/x-python",
   "name": "python",
   "nbconvert_exporter": "python",
   "pygments_lexer": "ipython3",
   "version": "3.8.8"
  }
 },
 "nbformat": 4,
 "nbformat_minor": 5
}
