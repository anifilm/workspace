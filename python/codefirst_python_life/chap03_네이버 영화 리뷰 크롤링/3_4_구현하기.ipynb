{
 "cells": [
  {
   "cell_type": "code",
   "execution_count": 1,
   "id": "f9daaa66",
   "metadata": {},
   "outputs": [],
   "source": [
    "# 1 웹 페이지 정보 가져오기"
   ]
  },
  {
   "cell_type": "code",
   "execution_count": 2,
   "id": "51381643",
   "metadata": {},
   "outputs": [],
   "source": [
    "import requests\n",
    "from bs4 import BeautifulSoup"
   ]
  },
  {
   "cell_type": "code",
   "execution_count": 3,
   "id": "21174b6e",
   "metadata": {},
   "outputs": [],
   "source": [
    "# '십개월의 미래'의 네이버 영화 정보 링크\n",
    "url = \"https://movie.naver.com/movie/bi/mi/review.naver?code=194666\"\n",
    "# html 소스 가져오기\n",
    "res = requests.get(url)"
   ]
  },
  {
   "cell_type": "code",
   "execution_count": null,
   "id": "91f1df33",
   "metadata": {},
   "outputs": [],
   "source": []
  },
  {
   "cell_type": "code",
   "execution_count": 4,
   "id": "139db96b",
   "metadata": {},
   "outputs": [],
   "source": [
    "# 2 HTML 소스를 파싱(=분석)하여 원하는 정보 가져얻기"
   ]
  },
  {
   "cell_type": "code",
   "execution_count": 5,
   "id": "ecaad7b4",
   "metadata": {},
   "outputs": [],
   "source": [
    "# html 파싱\n",
    "soup = BeautifulSoup(res.text, \"lxml\")"
   ]
  },
  {
   "cell_type": "code",
   "execution_count": 6,
   "id": "2e26c4ee",
   "metadata": {},
   "outputs": [],
   "source": [
    "# 리뷰 리스트\n",
    "ul = soup.find('ul', class_=\"rvw_list_area\")\n",
    "lis = ul.find_all('li')"
   ]
  },
  {
   "cell_type": "code",
   "execution_count": 28,
   "id": "74f24c02",
   "metadata": {},
   "outputs": [
    {
     "name": "stdout",
     "output_type": "stream",
     "text": [
      "[1th] [십 개월의 미래]를 보고(스포)\n",
      "[2th] 십개월의 미래\n",
      "[3th] <십개월의 미래> 하와이국제영화제 '스포트라이트 온 코리아' 부문 공식 초청! ‘인질’과 어깨 나란히! \n",
      "[4th] 여성이 겪는 부당함 잘 그려\n",
      "[5th] 영화 [십개월의 미래] 메인 예고편 : '괴물' 최성은, 백현진, 서영주, 고영찬 : 2021.10.14 : 십개월\n",
      "[6th] (포토)10점 만점에 10점 부탁해요\n",
      "[7th] D-77 십개월의 미래(Ten Months, 2020) #당신의근황\n",
      "[8th] [영화] 십개월의 미래 후기 - 어려운 이름\n",
      "[9th] 영화 [십개월의 미래] 메인 예고편 : 최성은 (괴물), 백현진, 서영주, 고영찬 : 2021.10.14 : 십개월\n"
     ]
    }
   ],
   "source": [
    "count = 1\n",
    "for li in lis:\n",
    "    print(f\"[{count}th]\", li.a.string)\n",
    "    count += 1"
   ]
  }
 ],
 "metadata": {
  "kernelspec": {
   "display_name": "Python 3",
   "language": "python",
   "name": "python3"
  },
  "language_info": {
   "codemirror_mode": {
    "name": "ipython",
    "version": 3
   },
   "file_extension": ".py",
   "mimetype": "text/x-python",
   "name": "python",
   "nbconvert_exporter": "python",
   "pygments_lexer": "ipython3",
   "version": "3.8.8"
  }
 },
 "nbformat": 4,
 "nbformat_minor": 5
}
