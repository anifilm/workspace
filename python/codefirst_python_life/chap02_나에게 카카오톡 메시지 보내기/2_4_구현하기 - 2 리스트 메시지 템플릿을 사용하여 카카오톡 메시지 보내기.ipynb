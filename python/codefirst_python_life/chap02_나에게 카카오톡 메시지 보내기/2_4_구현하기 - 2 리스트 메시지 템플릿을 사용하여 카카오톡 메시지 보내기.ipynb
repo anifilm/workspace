{
 "cells": [
  {
   "cell_type": "code",
   "execution_count": 1,
   "id": "9b63b627",
   "metadata": {},
   "outputs": [],
   "source": [
    "import json\n",
    "import requests"
   ]
  },
  {
   "cell_type": "code",
   "execution_count": 2,
   "id": "12426af6",
   "metadata": {},
   "outputs": [],
   "source": [
    "# 카카오 토큰을 저장할 파일명\n",
    "KAKAO_TOKEN_FILENAME = \"res/kakao_message/kakao_token.json\""
   ]
  },
  {
   "cell_type": "code",
   "execution_count": 3,
   "id": "ae36ab8d",
   "metadata": {},
   "outputs": [],
   "source": [
    "# 읽어오는 함수\n",
    "def load_tokens(filename):\n",
    "    with open(filename) as fp:\n",
    "        tokens = json.load(fp)\n",
    "\n",
    "    return tokens"
   ]
  },
  {
   "cell_type": "code",
   "execution_count": 4,
   "id": "a209d3db",
   "metadata": {},
   "outputs": [],
   "source": [
    "# 저장된 토큰 정보를 읽어 옴\n",
    "tokens = load_tokens(KAKAO_TOKEN_FILENAME)"
   ]
  },
  {
   "cell_type": "code",
   "execution_count": 5,
   "id": "683dfcf2",
   "metadata": {},
   "outputs": [],
   "source": [
    "# 리스트 메시지 url\n",
    "url = \"https://kapi.kakao.com/v2/api/talk/memo/default/send\""
   ]
  },
  {
   "cell_type": "code",
   "execution_count": 6,
   "id": "ab38c7f5",
   "metadata": {},
   "outputs": [],
   "source": [
    "# request parameter 설정\n",
    "headers = {\n",
    "    \"Authorization\": \"Bearer \" + tokens['access_token']\n",
    "}"
   ]
  },
  {
   "cell_type": "code",
   "execution_count": 7,
   "id": "4a9ca21a",
   "metadata": {},
   "outputs": [],
   "source": [
    "template = {\n",
    "    \"object_type\": \"list\",\n",
    "    \"header_title\": \"초밥 사진\",\n",
    "    \"header_link\": {\n",
    "        \"web_url\": \"www.naver.com\",\n",
    "        \"mobile_web_url\": \"www.naver.com\",\n",
    "    },\n",
    "    \"contents\": [\n",
    "        {\n",
    "            \"title\": \"1. 광어초밥\",\n",
    "            \"description\": \"광어는 맛있다.\" ,\n",
    "            \"image_url\": \"https://search1.kakaocdn.net/argon/0x200_85_hr/8x5qcdbcQwi\",\n",
    "            \"image_width\": 50,\n",
    "            \"image_height\": 50,\n",
    "            \"link\": { # TODO: 해당 링크로 갈수 있도록 확인 필요\n",
    "                \"web_url\": \"search1.kakaocdn.net/argon/0x200_85_hr/8x5qcdbcQwi\",\n",
    "                \"mobile_web_url\": \"search1.kakaocdn.net/argon/0x200_85_hr/8x5qcdbcQwi\",\n",
    "            },\n",
    "        },\n",
    "        {\n",
    "            \"title\": \"2. 참치초밥\",\n",
    "            \"description\": \"참치는 맛있다.\",\n",
    "            \"image_url\": \"https://search2.kakaocdn.net/argon/0x200_85_hr/IjIToH1S7J1\",\n",
    "            \"image_width\": 50,\n",
    "            \"image_height\": 50,\n",
    "            \"link\": { # TODO: 해당 링크로 갈수 있도록 확인 필요\n",
    "                \"web_url\": \"search2.kakaocdn.net/argon/0x200_85_hr/IjIToH1S7J1\",\n",
    "                \"mobile_web_url\": \"search2.kakaocdn.net/argon/0x200_85_hr/IjIToH1S7J1\",\n",
    "            },\n",
    "        },\n",
    "    ],\n",
    "    \"buttons\": [\n",
    "        {\n",
    "            \"title\": \"웹으로 이동\",\n",
    "            \"link\": {\n",
    "                \"web_url\": \"www.naver.com\",\n",
    "                \"mobile_web_url\": \"www.naver.com\",\n",
    "            },\n",
    "        },\n",
    "    ],\n",
    "}"
   ]
  },
  {
   "cell_type": "code",
   "execution_count": 8,
   "id": "38bc735c",
   "metadata": {},
   "outputs": [],
   "source": [
    "data = {\n",
    "    \"template_object\": json.dumps(template)\n",
    "}"
   ]
  },
  {
   "cell_type": "code",
   "execution_count": 9,
   "id": "ef9edfa2",
   "metadata": {},
   "outputs": [
    {
     "name": "stdout",
     "output_type": "stream",
     "text": [
      "200\n"
     ]
    }
   ],
   "source": [
    "# 나에게 카카오톡 메시지 보내기 요청(list)\n",
    "response = requests.post(url, headers=headers, data=data)\n",
    "print(response.status_code)"
   ]
  },
  {
   "cell_type": "code",
   "execution_count": 10,
   "id": "78f20c6d",
   "metadata": {},
   "outputs": [
    {
     "name": "stdout",
     "output_type": "stream",
     "text": [
      "메시지를 성공적으로 보냈습니다.\n"
     ]
    }
   ],
   "source": [
    "# 요청에 실패했다면,\n",
    "if response.status_code != 200:\n",
    "    print(\"error! because \", response.json())\n",
    "else: # 성공했다면,\n",
    "    print(\"메시지를 성공적으로 보냈습니다.\")"
   ]
  }
 ],
 "metadata": {
  "kernelspec": {
   "display_name": "Python 3",
   "language": "python",
   "name": "python3"
  },
  "language_info": {
   "codemirror_mode": {
    "name": "ipython",
    "version": 3
   },
   "file_extension": ".py",
   "mimetype": "text/x-python",
   "name": "python",
   "nbconvert_exporter": "python",
   "pygments_lexer": "ipython3",
   "version": "3.8.8"
  }
 },
 "nbformat": 4,
 "nbformat_minor": 5
}
