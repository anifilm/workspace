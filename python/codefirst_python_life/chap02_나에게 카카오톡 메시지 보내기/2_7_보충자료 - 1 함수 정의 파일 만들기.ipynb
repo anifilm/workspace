{
 "cells": [
  {
   "cell_type": "code",
   "execution_count": 1,
   "id": "601ef821",
   "metadata": {},
   "outputs": [],
   "source": [
    "import json\n",
    "import os\n",
    "import datetime\n",
    "import requests"
   ]
  },
  {
   "cell_type": "code",
   "execution_count": null,
   "id": "5d96bc69",
   "metadata": {},
   "outputs": [],
   "source": [
    "# 저장하는 함수\n",
    "def save_tokens(filename, tokens):\n",
    "    with open(filename, \"w\") as fp:\n",
    "        json.dump(tokens, fp)"
   ]
  },
  {
   "cell_type": "code",
   "execution_count": null,
   "id": "4d861318",
   "metadata": {},
   "outputs": [],
   "source": [
    "# 읽어오는 함수\n",
    "def load_tokens(filename):\n",
    "    with open(filename) as fp:\n",
    "        tokens = json.load(fp)\n",
    "        \n",
    "    return tokens"
   ]
  },
  {
   "cell_type": "code",
   "execution_count": null,
   "id": "cfbc239f",
   "metadata": {},
   "outputs": [],
   "source": [
    "# refresh_token으로 access_token 갱신하는 함수\n",
    "def update_tokens(app_key, filename): \n",
    "    tokens = load_tokens(filename)\n",
    "\n",
    "    url = \"https://kauth.kakao.com/oauth/token\"\n",
    "    data = {\n",
    "        \"grant_type\": \"refresh_token\",\n",
    "        \"client_id\" : app_key,\n",
    "        \"refresh_token\": tokens['refresh_token'],\n",
    "    }\n",
    "    response = requests.post(url, data=data)\n",
    "\n",
    "    # 요청에 실패했다면,\n",
    "    if response.status_code != 200:\n",
    "        print(\"error! because \",  response.json())\n",
    "        tokens = None\n",
    "    else: # 성공했다면,\n",
    "        print(response.json())\n",
    "        # 기존 파일 백업\n",
    "        now = datetime.datetime.now().strftime(\"%Y%m%d_%H%M%S\")\n",
    "        backup_filename = filename + \".\" + now\n",
    "        os.rename(filename, backup_filename)\n",
    "        # 갱신된 토큰 저장\n",
    "        tokens['access_token'] = response.json()['access_token']\n",
    "        save_tokens(filename, tokens)\n",
    "        \n",
    "    return tokens"
   ]
  },
  {
   "cell_type": "code",
   "execution_count": null,
   "id": "a2270b56",
   "metadata": {},
   "outputs": [],
   "source": [
    "# 메시지 전송 함수\n",
    "def send_message(filename, template):\n",
    "    tokens = load_tokens(filename)\n",
    "    \n",
    "    headers = {\n",
    "        \"Authorization\": \"Bearer \" + tokens['access_token']\n",
    "    } \n",
    "    \n",
    "    # JSON 형식 -> 문자열 변환\n",
    "    payload = {\n",
    "        \"template_object\": json.dumps(template)\n",
    "    }\n",
    "\n",
    "    # 카카오톡 보내기\n",
    "    url = \"https://kapi.kakao.com/v2/api/talk/memo/default/send\"\n",
    "    res = requests.post(url, data=payload, headers=headers)\n",
    "\n",
    "    return res"
   ]
  }
 ],
 "metadata": {
  "kernelspec": {
   "display_name": "Python 3",
   "language": "python",
   "name": "python3"
  },
  "language_info": {
   "codemirror_mode": {
    "name": "ipython",
    "version": 3
   },
   "file_extension": ".py",
   "mimetype": "text/x-python",
   "name": "python",
   "nbconvert_exporter": "python",
   "pygments_lexer": "ipython3",
   "version": "3.8.8"
  }
 },
 "nbformat": 4,
 "nbformat_minor": 5
}
