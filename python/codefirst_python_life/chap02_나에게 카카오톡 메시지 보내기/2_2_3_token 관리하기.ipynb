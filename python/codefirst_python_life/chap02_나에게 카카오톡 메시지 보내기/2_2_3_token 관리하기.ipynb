{
 "cells": [
  {
   "cell_type": "code",
   "execution_count": 1,
   "id": "5268e264",
   "metadata": {},
   "outputs": [
    {
     "data": {
      "text/plain": [
       "True"
      ]
     },
     "execution_count": 1,
     "metadata": {},
     "output_type": "execute_result"
    }
   ],
   "source": [
    "# .env 정보 가져옴\n",
    "from dotenv import load_dotenv\n",
    "import os\n",
    "load_dotenv()"
   ]
  },
  {
   "cell_type": "code",
   "execution_count": 2,
   "id": "5f1c3fd9",
   "metadata": {},
   "outputs": [],
   "source": [
    "import json\n",
    "import requests\n",
    "import datetime"
   ]
  },
  {
   "cell_type": "code",
   "execution_count": 3,
   "id": "b892e698",
   "metadata": {},
   "outputs": [],
   "source": [
    "# 카카오 토큰을 저장할 파일명\n",
    "KAKAO_TOKEN_FILENAME = \"res/kakao_message/kakao_token.json\""
   ]
  },
  {
   "cell_type": "code",
   "execution_count": 4,
   "id": "63d900f1",
   "metadata": {},
   "outputs": [],
   "source": [
    "# 저장하는 함수\n",
    "def save_tokens(filename, tokens):\n",
    "    with open(filename, \"w\") as fp:\n",
    "        json.dump(tokens, fp)"
   ]
  },
  {
   "cell_type": "code",
   "execution_count": 5,
   "id": "8e90cb98",
   "metadata": {},
   "outputs": [],
   "source": [
    "# 읽어오는 함수\n",
    "def load_tokens(filename):\n",
    "    with open(filename) as fp:\n",
    "        tokens = json.load(fp)\n",
    "\n",
    "    return tokens"
   ]
  },
  {
   "cell_type": "code",
   "execution_count": 6,
   "id": "f56396e8",
   "metadata": {},
   "outputs": [],
   "source": [
    "# refresh_token으로 access_token 갱신하는 함수\n",
    "def update_tokens(app_key, filename):\n",
    "    tokens = load_tokens(filename)\n",
    "    \n",
    "    url = \"https://kauth.kakao.com/oauth/token\"\n",
    "    data = {\n",
    "        \"grant_type\": \"refresh_token\",\n",
    "        \"client_id\": app_key,\n",
    "        \"refresh_token\": tokens['refresh_token'],\n",
    "    }\n",
    "    response = requests.post(url, data=data)\n",
    "    \n",
    "    # 요청에 실패했다면,\n",
    "    if response.status_code != 200:\n",
    "        print(\"error! because \", response.json())\n",
    "        tokens = None\n",
    "    else: # 성공했다면,\n",
    "        print(response.json())\n",
    "        # 기존 파일 백업\n",
    "        now = datetime.datetime.now().strftime(\"%Y%m%d_%H%M%S\")\n",
    "        backup_filename = filename+\".\"+ now\n",
    "        os.rename(filename, backup_filename)\n",
    "        # 갱신된 토큰 저장\n",
    "        tokens['access_token'] = response.json()['access_token']\n",
    "        save_tokens(filename, tokens)\n",
    "        \n",
    "    return tokens"
   ]
  },
  {
   "cell_type": "code",
   "execution_count": 7,
   "id": "8f42982b",
   "metadata": {},
   "outputs": [],
   "source": [
    "# 토큰 저장\n",
    "#save_tokens(KAKAO_TOKEN_FILENAME, tokens)"
   ]
  },
  {
   "cell_type": "code",
   "execution_count": 8,
   "id": "707f402c",
   "metadata": {},
   "outputs": [
    {
     "name": "stdout",
     "output_type": "stream",
     "text": [
      "{'access_token': 'M5DGggL4G7ORdS2zZaGknSCRxZUcZQGIzNmYOgorDNMAAAF8gSFTeQ', 'token_type': 'bearer', 'expires_in': 21599}\n"
     ]
    }
   ],
   "source": [
    "# 토큰 업데이트 -> 토큰 저장 필수!\n",
    "KAKAO_APP_KEY = os.environ.get(\"REST_API_KEY\")\n",
    "tokens = update_tokens(KAKAO_APP_KEY, KAKAO_TOKEN_FILENAME)\n",
    "save_tokens(KAKAO_TOKEN_FILENAME, tokens)"
   ]
  }
 ],
 "metadata": {
  "kernelspec": {
   "display_name": "Python 3",
   "language": "python",
   "name": "python3"
  },
  "language_info": {
   "codemirror_mode": {
    "name": "ipython",
    "version": 3
   },
   "file_extension": ".py",
   "mimetype": "text/x-python",
   "name": "python",
   "nbconvert_exporter": "python",
   "pygments_lexer": "ipython3",
   "version": "3.8.8"
  }
 },
 "nbformat": 4,
 "nbformat_minor": 5
}
