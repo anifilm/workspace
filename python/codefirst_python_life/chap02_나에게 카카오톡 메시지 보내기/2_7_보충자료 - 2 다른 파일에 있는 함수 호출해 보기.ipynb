{
 "cells": [
  {
   "cell_type": "code",
   "execution_count": 1,
   "id": "f6d2d7ac",
   "metadata": {},
   "outputs": [
    {
     "data": {
      "text/plain": [
       "True"
      ]
     },
     "execution_count": 1,
     "metadata": {},
     "output_type": "execute_result"
    }
   ],
   "source": [
    "# .env 정보 가져옴\n",
    "from dotenv import load_dotenv\n",
    "import os\n",
    "load_dotenv()"
   ]
  },
  {
   "cell_type": "code",
   "execution_count": 2,
   "id": "a152359b",
   "metadata": {},
   "outputs": [],
   "source": [
    "import kakao_utils"
   ]
  },
  {
   "cell_type": "code",
   "execution_count": 3,
   "id": "041f3803",
   "metadata": {},
   "outputs": [],
   "source": [
    "KAKAO_TOKEN_FILENAME = \"res/kakao_message/kakao_token.json\"\n",
    "KAKAO_APP_KEY = os.environ.get(\"REST_API_KEY\")"
   ]
  },
  {
   "cell_type": "code",
   "execution_count": 4,
   "id": "f525b301",
   "metadata": {},
   "outputs": [
    {
     "name": "stdout",
     "output_type": "stream",
     "text": [
      "{'access_token': '_p1-4o7wzDiIJ5ip96Yjbn0cmRvNS82Z_LLIWwo9dJkAAAF8gZ6JtQ', 'token_type': 'bearer', 'expires_in': 21599}\n"
     ]
    }
   ],
   "source": [
    "# 토큰 업데이트하기\n",
    "tokens = kakao_utils.update_tokens(KAKAO_APP_KEY, KAKAO_TOKEN_FILENAME)"
   ]
  },
  {
   "cell_type": "code",
   "execution_count": 5,
   "id": "7b6f71ab",
   "metadata": {},
   "outputs": [],
   "source": [
    "# 업데이트한 토큰 저장하기\n",
    "kakao_utils.save_tokens(KAKAO_TOKEN_FILENAME, tokens)"
   ]
  },
  {
   "cell_type": "code",
   "execution_count": 6,
   "id": "f5bbd6d0",
   "metadata": {},
   "outputs": [],
   "source": [
    "# 텍스트 템플릿 형식 만들기\n",
    "template = {\n",
    "    \"object_type\": \"text\",\n",
    "    \"text\": \"Hello, world!\",\n",
    "    \"link\": {\n",
    "        \"web_url\": \"www.naver.com\",\n",
    "    },\n",
    "}"
   ]
  },
  {
   "cell_type": "code",
   "execution_count": 7,
   "id": "d86be862",
   "metadata": {},
   "outputs": [
    {
     "name": "stdout",
     "output_type": "stream",
     "text": [
      "메시지를 성공적으로 보냈습니다.\n"
     ]
    }
   ],
   "source": [
    "# 카카오톡 메시지 보내기\n",
    "response = kakao_utils.send_message(KAKAO_TOKEN_FILENAME, template)\n",
    "# 요청에 실패했다면,\n",
    "if response.status_code != 200:\n",
    "    print(\"error! because \", response.json())\n",
    "else: # 성공했다면,\n",
    "    print(\"메시지를 성공적으로 보냈습니다.\")"
   ]
  }
 ],
 "metadata": {
  "kernelspec": {
   "display_name": "Python 3",
   "language": "python",
   "name": "python3"
  },
  "language_info": {
   "codemirror_mode": {
    "name": "ipython",
    "version": 3
   },
   "file_extension": ".py",
   "mimetype": "text/x-python",
   "name": "python",
   "nbconvert_exporter": "python",
   "pygments_lexer": "ipython3",
   "version": "3.8.8"
  }
 },
 "nbformat": 4,
 "nbformat_minor": 5
}
