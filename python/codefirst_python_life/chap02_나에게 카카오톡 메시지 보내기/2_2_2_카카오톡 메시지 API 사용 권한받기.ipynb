{
 "cells": [
  {
   "cell_type": "code",
   "execution_count": 1,
   "id": "92f75c11",
   "metadata": {},
   "outputs": [],
   "source": [
    "# .env 정보 가져옴\n",
    "from dotenv import load_dotenv\n",
    "import os\n",
    "load_dotenv()\n",
    "rest_api_key = os.environ.get(\"REST_API_KEY\")\n",
    "code = os.environ.get(\"CODE\")"
   ]
  },
  {
   "cell_type": "code",
   "execution_count": 2,
   "id": "c87be5dd",
   "metadata": {},
   "outputs": [],
   "source": [
    "import requests"
   ]
  },
  {
   "cell_type": "code",
   "execution_count": 3,
   "id": "82b7a0e4",
   "metadata": {},
   "outputs": [],
   "source": [
    "url = \"https://kauth.kakao.com/oauth/token\""
   ]
  },
  {
   "cell_type": "code",
   "execution_count": 4,
   "id": "933113fb",
   "metadata": {},
   "outputs": [],
   "source": [
    "data = {\n",
    "    \"grant_type\": \"authorization_code\",\n",
    "    \"client_id\": f\"{rest_api_key}\",\n",
    "    \"redirect_uri\": \"https://localhost.com\",\n",
    "    \"code\": f\"{code}\",\n",
    "}"
   ]
  },
  {
   "cell_type": "code",
   "execution_count": 5,
   "id": "9709efef",
   "metadata": {},
   "outputs": [],
   "source": [
    "response = requests.post(url, data=data)"
   ]
  },
  {
   "cell_type": "code",
   "execution_count": 6,
   "id": "9f1147b1",
   "metadata": {},
   "outputs": [
    {
     "name": "stdout",
     "output_type": "stream",
     "text": [
      "{'access_token': 'slU_30Cb3BgDLlRZ8BVT1hPUoUOgireu0Cpj0Qo9dNsAAAF8fr59lg', 'token_type': 'bearer', 'refresh_token': 'ulGAMN6BwU6GZsCAVv4y0Jc5-qX_tOVC9c64cQo9dNsAAAF8fr59lQ', 'expires_in': 21599, 'scope': 'account_email talk_message profile_nickname', 'refresh_token_expires_in': 5183999}\n"
     ]
    }
   ],
   "source": [
    "# 요청에 실패했다면,\n",
    "if response.status_code != 200:\n",
    "    print(\"error! because \", response.json())\n",
    "else: # 성공했다면,\n",
    "    tokens = response.json()\n",
    "    print(tokens)"
   ]
  }
 ],
 "metadata": {
  "kernelspec": {
   "display_name": "Python 3",
   "language": "python",
   "name": "python3"
  },
  "language_info": {
   "codemirror_mode": {
    "name": "ipython",
    "version": 3
   },
   "file_extension": ".py",
   "mimetype": "text/x-python",
   "name": "python",
   "nbconvert_exporter": "python",
   "pygments_lexer": "ipython3",
   "version": "3.8.8"
  }
 },
 "nbformat": 4,
 "nbformat_minor": 5
}
