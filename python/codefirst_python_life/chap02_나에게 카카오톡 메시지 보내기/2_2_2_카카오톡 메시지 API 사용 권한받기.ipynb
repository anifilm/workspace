{
 "cells": [
  {
   "cell_type": "code",
   "execution_count": 1,
   "id": "92f75c11",
   "metadata": {},
   "outputs": [],
   "source": [
    "# .env 정보 가져옴\n",
    "from dotenv import load_dotenv\n",
    "import os\n",
    "load_dotenv()"
   ]
  },
  {
   "cell_type": "code",
   "execution_count": 2,
   "id": "c87be5dd",
   "metadata": {},
   "outputs": [],
   "source": [
    "import json\n",
    "import requests"
   ]
  },
  {
   "cell_type": "code",
   "execution_count": null,
   "id": "c1d5a6ad",
   "metadata": {},
   "outputs": [],
   "source": [
    "# 카카오 토큰을 저장할 파일명\n",
    "KAKAO_TOKEN_FILENAME = \"res/kakao_message/kakao_token.json\""
   ]
  },
  {
   "cell_type": "code",
   "execution_count": null,
   "id": "773fc05c",
   "metadata": {},
   "outputs": [],
   "source": [
    "# 저장하는 함수\n",
    "def save_tokens(filename, tokens):\n",
    "    with open(filename, \"w\") as fp:\n",
    "        json.dump(tokens, fp)"
   ]
  },
  {
   "cell_type": "code",
   "execution_count": 3,
   "id": "82b7a0e4",
   "metadata": {},
   "outputs": [],
   "source": [
    "# 토큰을 가져오는 함수\n",
    "def get_tokens(app_key, code):\n",
    "    url = \"https://kauth.kakao.com/oauth/token\"\n",
    "    data = {\n",
    "        \"grant_type\": \"authorization_code\",\n",
    "        \"client_id\": app_key,\n",
    "        \"redirect_uri\": \"https://localhost.com\",\n",
    "        \"code\": code,\n",
    "    }\n",
    "    response = requests.post(url, data=data)\n",
    "    \n",
    "    # 요청에 실패했다면,\n",
    "    if response.status_code != 200:\n",
    "        print(\"error! because \", response.json())\n",
    "    else: # 성공했다면,\n",
    "        tokens = response.json()\n",
    "        print(tokens)"
   ]
  },
  {
   "cell_type": "code",
   "execution_count": null,
   "id": "a558d4c8",
   "metadata": {},
   "outputs": [],
   "source": [
    "# 토큰을 받아와서 파일로 저장\n",
    "KAKAO_APP_KEY = os.environ.get(\"REST_API_KEY\")\n",
    "CODE = os.environ.get(\"CODE\")\n",
    "tokens = get_tokens(KAKAO_APP_KEY, CODE)\n",
    "save_tokens(KAKAO_TOKEN_FILENAME, tokens)"
   ]
  }
 ],
 "metadata": {
  "kernelspec": {
   "display_name": "Python 3",
   "language": "python",
   "name": "python3"
  },
  "language_info": {
   "codemirror_mode": {
    "name": "ipython",
    "version": 3
   },
   "file_extension": ".py",
   "mimetype": "text/x-python",
   "name": "python",
   "nbconvert_exporter": "python",
   "pygments_lexer": "ipython3",
   "version": "3.8.8"
  }
 },
 "nbformat": 4,
 "nbformat_minor": 5
}
