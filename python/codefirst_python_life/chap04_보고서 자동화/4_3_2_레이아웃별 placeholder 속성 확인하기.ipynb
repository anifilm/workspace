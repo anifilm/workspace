{
 "cells": [
  {
   "cell_type": "code",
   "execution_count": 1,
   "id": "f934f99b",
   "metadata": {},
   "outputs": [],
   "source": [
    "from pptx import Presentation\n",
    "from pptx.util import Inches"
   ]
  },
  {
   "cell_type": "code",
   "execution_count": 2,
   "id": "e5ffe7f1",
   "metadata": {},
   "outputs": [],
   "source": [
    "prs = Presentation()"
   ]
  },
  {
   "cell_type": "code",
   "execution_count": 3,
   "id": "ecc28357",
   "metadata": {},
   "outputs": [
    {
     "name": "stdout",
     "output_type": "stream",
     "text": [
      "----------[0]----------\n",
      "0 Title 1\n",
      "1 Subtitle 2\n",
      "----------[1]----------\n",
      "0 Title 1\n",
      "1 Content Placeholder 2\n",
      "----------[2]----------\n",
      "0 Title 1\n",
      "1 Text Placeholder 2\n",
      "----------[3]----------\n",
      "0 Title 1\n",
      "1 Content Placeholder 2\n",
      "2 Content Placeholder 3\n",
      "----------[4]----------\n",
      "0 Title 1\n",
      "1 Text Placeholder 2\n",
      "2 Content Placeholder 3\n",
      "3 Text Placeholder 4\n",
      "4 Content Placeholder 5\n",
      "----------[5]----------\n",
      "0 Title 1\n",
      "----------[6]----------\n",
      "----------[7]----------\n",
      "0 Title 1\n",
      "1 Content Placeholder 2\n",
      "2 Text Placeholder 3\n",
      "----------[8]----------\n",
      "0 Title 1\n",
      "1 Picture Placeholder 2\n",
      "2 Text Placeholder 3\n",
      "----------[9]----------\n",
      "0 Title 1\n",
      "1 Vertical Text Placeholder 2\n",
      "----------[10]----------\n",
      "0 Vertical Title 1\n",
      "1 Vertical Text Placeholder 2\n"
     ]
    }
   ],
   "source": [
    "for i in range(11):\n",
    "    print(f\"----------[{i}]----------\")\n",
    "    slide = prs.slides.add_slide(prs.slide_layouts[i])\n",
    "    for shape in slide.placeholders:\n",
    "        print(f\"{shape.placeholder_format.idx} {shape.name}\")"
   ]
  }
 ],
 "metadata": {
  "kernelspec": {
   "display_name": "Python 3 (ipykernel)",
   "language": "python",
   "name": "python3"
  },
  "language_info": {
   "codemirror_mode": {
    "name": "ipython",
    "version": 3
   },
   "file_extension": ".py",
   "mimetype": "text/x-python",
   "name": "python",
   "nbconvert_exporter": "python",
   "pygments_lexer": "ipython3",
   "version": "3.8.8"
  }
 },
 "nbformat": 4,
 "nbformat_minor": 5
}
