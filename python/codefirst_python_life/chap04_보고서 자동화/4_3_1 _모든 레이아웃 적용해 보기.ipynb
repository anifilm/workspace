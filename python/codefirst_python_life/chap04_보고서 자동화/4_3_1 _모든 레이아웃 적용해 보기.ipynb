{
 "cells": [
  {
   "cell_type": "code",
   "execution_count": 1,
   "id": "5805a45e",
   "metadata": {},
   "outputs": [],
   "source": [
    "from pptx import Presentation\n",
    "from pptx.util import Inches"
   ]
  },
  {
   "cell_type": "code",
   "execution_count": 2,
   "id": "3306deb1",
   "metadata": {},
   "outputs": [],
   "source": [
    "prs = Presentation()"
   ]
  },
  {
   "cell_type": "code",
   "execution_count": 3,
   "id": "5e29eb9a",
   "metadata": {},
   "outputs": [],
   "source": [
    "for i in range(11):\n",
    "    title_slide_layout = prs.slide_layouts[i]\n",
    "    slide = prs.slides.add_slide(title_slide_layout)"
   ]
  },
  {
   "cell_type": "code",
   "execution_count": 4,
   "id": "14058146",
   "metadata": {},
   "outputs": [],
   "source": [
    "prs.save(\"add all slides.pptx\")"
   ]
  }
 ],
 "metadata": {
  "kernelspec": {
   "display_name": "Python 3 (ipykernel)",
   "language": "python",
   "name": "python3"
  },
  "language_info": {
   "codemirror_mode": {
    "name": "ipython",
    "version": 3
   },
   "file_extension": ".py",
   "mimetype": "text/x-python",
   "name": "python",
   "nbconvert_exporter": "python",
   "pygments_lexer": "ipython3",
   "version": "3.8.8"
  }
 },
 "nbformat": 4,
 "nbformat_minor": 5
}
