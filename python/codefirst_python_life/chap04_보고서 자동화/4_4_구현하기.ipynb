{
 "cells": [
  {
   "cell_type": "code",
   "execution_count": 1,
   "id": "89cc9797",
   "metadata": {},
   "outputs": [],
   "source": [
    "# 1 객체 선언"
   ]
  },
  {
   "cell_type": "code",
   "execution_count": 5,
   "id": "bd8e592c",
   "metadata": {},
   "outputs": [],
   "source": [
    "from pptx import Presentation\n",
    "from pptx.util import Inches"
   ]
  },
  {
   "cell_type": "code",
   "execution_count": 6,
   "id": "071ab7d0",
   "metadata": {},
   "outputs": [],
   "source": [
    "prs = Presentation()"
   ]
  },
  {
   "cell_type": "code",
   "execution_count": null,
   "id": "0e87fe9a",
   "metadata": {},
   "outputs": [],
   "source": []
  },
  {
   "cell_type": "code",
   "execution_count": 2,
   "id": "725e4f08",
   "metadata": {},
   "outputs": [],
   "source": [
    "# 2 제목 슬라이드"
   ]
  },
  {
   "cell_type": "code",
   "execution_count": 7,
   "id": "e6630b10",
   "metadata": {},
   "outputs": [],
   "source": [
    "title_slide_layout = prs.slide_layouts[0]\n",
    "slide = prs.slides.add_slide(title_slide_layout)  # 슬라이드 추가"
   ]
  },
  {
   "cell_type": "code",
   "execution_count": 8,
   "id": "69d5a216",
   "metadata": {},
   "outputs": [],
   "source": [
    "# 제목 - 제목에 값 넣기\n",
    "title = slide.placeholders[0]\n",
    "title.text = \"Hello, World!\""
   ]
  },
  {
   "cell_type": "code",
   "execution_count": 9,
   "id": "6f7677e1",
   "metadata": {},
   "outputs": [],
   "source": [
    "# 부제목\n",
    "subtitle = slide.placeholders[1]\n",
    "subtitle.text = \"python-pptx was here!\""
   ]
  },
  {
   "cell_type": "code",
   "execution_count": 10,
   "id": "c83cfc3e",
   "metadata": {},
   "outputs": [],
   "source": [
    "prs.save(\"test.pptx\")"
   ]
  },
  {
   "cell_type": "code",
   "execution_count": null,
   "id": "7e0b7041",
   "metadata": {},
   "outputs": [],
   "source": []
  },
  {
   "cell_type": "code",
   "execution_count": 3,
   "id": "73834c81",
   "metadata": {},
   "outputs": [],
   "source": [
    "# 3 제목 및 내용 슬라이드"
   ]
  },
  {
   "cell_type": "code",
   "execution_count": 11,
   "id": "02b21f60",
   "metadata": {},
   "outputs": [],
   "source": [
    "bullet_slide_layout = prs.slide_layouts[1]\n",
    "slide = prs.slides.add_slide(bullet_slide_layout)  # 기존에 있던 슬라이드에 추가"
   ]
  },
  {
   "cell_type": "code",
   "execution_count": 12,
   "id": "d4b7037a",
   "metadata": {},
   "outputs": [],
   "source": [
    "# 제목\n",
    "title_shape = slide.placeholders[0]\n",
    "title_shape.text = \"Adding a Bullet Slide\""
   ]
  },
  {
   "cell_type": "code",
   "execution_count": 13,
   "id": "43409992",
   "metadata": {},
   "outputs": [],
   "source": [
    "# 내용\n",
    "body_shape = slide.placeholders[1]\n",
    "tf = body_shape.text_frame\n",
    "tf.text = \"Find the bullet slide layout\""
   ]
  },
  {
   "cell_type": "code",
   "execution_count": 14,
   "id": "9e638f23",
   "metadata": {},
   "outputs": [],
   "source": [
    "# 단락 추가\n",
    "p = tf.add_paragraph()\n",
    "p.text = \"Use _TextFrame.text for first bullet\"\n",
    "p.level = 1  # 들여쓰기 레벨"
   ]
  },
  {
   "cell_type": "code",
   "execution_count": 15,
   "id": "e9c9cf1a",
   "metadata": {},
   "outputs": [],
   "source": [
    "# 단락 추가\n",
    "p = tf.add_paragraph()\n",
    "p.text = \"Use _TextFrame.add_paragraph() for subsequent bullets\"\n",
    "p.level = 2  # 들여쓰기 레벨"
   ]
  },
  {
   "cell_type": "code",
   "execution_count": 16,
   "id": "29472732",
   "metadata": {},
   "outputs": [],
   "source": [
    "prs.save(\"test.pptx\")"
   ]
  },
  {
   "cell_type": "code",
   "execution_count": null,
   "id": "b53782ee",
   "metadata": {},
   "outputs": [],
   "source": []
  },
  {
   "cell_type": "code",
   "execution_count": 4,
   "id": "2b5c07b0",
   "metadata": {},
   "outputs": [],
   "source": [
    "# 4 사진 슬라이드"
   ]
  },
  {
   "cell_type": "code",
   "execution_count": 17,
   "id": "98f0576a",
   "metadata": {},
   "outputs": [],
   "source": [
    "img_path = \"res/powerpoint_handling/slide_test.jpg\""
   ]
  },
  {
   "cell_type": "code",
   "execution_count": 18,
   "id": "976c9eed",
   "metadata": {},
   "outputs": [],
   "source": [
    "blank_slide_layout = prs.slide_layouts[6]\n",
    "slide = prs.slides.add_slide(blank_slide_layout)"
   ]
  },
  {
   "cell_type": "code",
   "execution_count": 19,
   "id": "1ca74e13",
   "metadata": {},
   "outputs": [],
   "source": [
    "left = top = Inches(1)\n",
    "width = height = Inches(1)\n",
    "# width, height가 없을 경우 원본 사이즈로\n",
    "pic = slide.shapes.add_picture(img_path, left, top, width=width, height=height)"
   ]
  },
  {
   "cell_type": "code",
   "execution_count": 20,
   "id": "39ed853e",
   "metadata": {},
   "outputs": [],
   "source": [
    "left = Inches(3)\n",
    "width = Inches(5.5)\n",
    "height = Inches(4)\n",
    "pic = slide.shapes.add_picture(img_path, left, top, width=width, height=height)"
   ]
  },
  {
   "cell_type": "code",
   "execution_count": 21,
   "id": "f24e5edf",
   "metadata": {},
   "outputs": [],
   "source": [
    "prs.save(\"test.pptx\")"
   ]
  },
  {
   "cell_type": "code",
   "execution_count": null,
   "id": "2fef1011",
   "metadata": {},
   "outputs": [],
   "source": []
  },
  {
   "cell_type": "code",
   "execution_count": null,
   "id": "d0ecce69",
   "metadata": {},
   "outputs": [],
   "source": [
    "# 5 표 슬라이드"
   ]
  },
  {
   "cell_type": "code",
   "execution_count": 23,
   "id": "0617c8c0",
   "metadata": {},
   "outputs": [],
   "source": [
    "title_only_slide_layout = prs.slide_layouts[5]\n",
    "slide = prs.slides.add_slide(title_only_slide_layout)\n",
    "shapes = slide.shapes"
   ]
  },
  {
   "cell_type": "code",
   "execution_count": 24,
   "id": "138a1b4c",
   "metadata": {},
   "outputs": [],
   "source": [
    "title_shape = slide.placeholders[0]\n",
    "title_shape.text = \"Adding a Table\""
   ]
  },
  {
   "cell_type": "code",
   "execution_count": 25,
   "id": "d4b6d973",
   "metadata": {},
   "outputs": [],
   "source": [
    "rows = cols = 2\n",
    "left = top = Inches(2.0)\n",
    "width = Inches(6.0)\n",
    "height = Inches(0.8)"
   ]
  },
  {
   "cell_type": "code",
   "execution_count": 27,
   "id": "3e29bdb3",
   "metadata": {},
   "outputs": [],
   "source": [
    "table = shapes.add_table(rows, cols, left, top, width, height).table"
   ]
  },
  {
   "cell_type": "code",
   "execution_count": 28,
   "id": "326c8fa3",
   "metadata": {},
   "outputs": [],
   "source": [
    "# set column widths\n",
    "table.columns[0].width = Inches(2.0)\n",
    "table.columns[1].width = Inches(4.0)"
   ]
  },
  {
   "cell_type": "code",
   "execution_count": 29,
   "id": "e27315ef",
   "metadata": {},
   "outputs": [],
   "source": [
    "# write column headings\n",
    "table.cell(0, 0).text = \"Foo\"\n",
    "table.cell(0, 1).text = \"Bar\""
   ]
  },
  {
   "cell_type": "code",
   "execution_count": 30,
   "id": "196e9a02",
   "metadata": {},
   "outputs": [],
   "source": [
    "# write body cells\n",
    "table.cell(1, 0).text = \"Baz\"\n",
    "table.cell(1, 1).text = \"Qux\""
   ]
  },
  {
   "cell_type": "code",
   "execution_count": 31,
   "id": "13832fb5",
   "metadata": {},
   "outputs": [],
   "source": [
    "prs.save(\"test.pptx\")"
   ]
  }
 ],
 "metadata": {
  "kernelspec": {
   "display_name": "Python 3 (ipykernel)",
   "language": "python",
   "name": "python3"
  },
  "language_info": {
   "codemirror_mode": {
    "name": "ipython",
    "version": 3
   },
   "file_extension": ".py",
   "mimetype": "text/x-python",
   "name": "python",
   "nbconvert_exporter": "python",
   "pygments_lexer": "ipython3",
   "version": "3.8.8"
  }
 },
 "nbformat": 4,
 "nbformat_minor": 5
}
