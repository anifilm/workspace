{
 "cells": [
  {
   "cell_type": "code",
   "execution_count": 1,
   "id": "f7d0d8f4",
   "metadata": {},
   "outputs": [
    {
     "data": {
      "text/plain": [
       "True"
      ]
     },
     "execution_count": 1,
     "metadata": {},
     "output_type": "execute_result"
    }
   ],
   "source": [
    "# .env 정보 가져옴\n",
    "from dotenv import load_dotenv\n",
    "import os\n",
    "load_dotenv()"
   ]
  },
  {
   "cell_type": "code",
   "execution_count": 2,
   "id": "5c0f6373",
   "metadata": {},
   "outputs": [],
   "source": [
    "naver_id = os.environ.get(\"NAVER_ID\")\n",
    "naver_pw = os.environ.get(\"NAVER_PW\")"
   ]
  },
  {
   "cell_type": "code",
   "execution_count": 3,
   "id": "e485b4a0",
   "metadata": {},
   "outputs": [],
   "source": [
    "# 1 이메일 전송 함수 만들기"
   ]
  },
  {
   "cell_type": "code",
   "execution_count": 4,
   "id": "34288c0f",
   "metadata": {},
   "outputs": [],
   "source": [
    "import os\n",
    "import smtplib\n",
    "# 이메일 메시지에 다양한 형식을 중첩하여 담기 위한 객체\n",
    "from email.mime.multipart import MIMEMultipart"
   ]
  },
  {
   "cell_type": "code",
   "execution_count": 5,
   "id": "4ddcdfbf",
   "metadata": {},
   "outputs": [],
   "source": [
    "# 이메일 메시지를 이진 테이터로 바꿔주는 인코더\n",
    "from email import encoders"
   ]
  },
  {
   "cell_type": "code",
   "execution_count": 6,
   "id": "27e85958",
   "metadata": {},
   "outputs": [],
   "source": [
    "# 텍스트 형식\n",
    "from email.mime.text import MIMEText\n",
    "# 이미지 형식\n",
    "from email.mime.image import MIMEImage\n",
    "# 오디오 형식\n",
    "from email.mime.audio import MIMEAudio"
   ]
  },
  {
   "cell_type": "code",
   "execution_count": 7,
   "id": "0fd3ac98",
   "metadata": {},
   "outputs": [],
   "source": [
    "# 위의 모든 객체를 생성할 수 있는 기본 객체\n",
    "# MIMEBase(_maintype, _subtype)\n",
    "# MIMEBase(<메인 타입>, <서브 타입>)\n",
    "from email.mime.base import MIMEBase"
   ]
  },
  {
   "cell_type": "code",
   "execution_count": 8,
   "id": "d93a8c32",
   "metadata": {},
   "outputs": [],
   "source": [
    "def send_email(smtp_info, msg):\n",
    "    with smtplib.SMTP(smtp_info[\"smtp_server\"], smtp_info[\"smtp_port\"]) as server:\n",
    "        # TLS 보안 연결\n",
    "        server.starttls()\n",
    "        # 로그인\n",
    "        server.login(smtp_info[\"smtp_user_id\"], smtp_info[\"smtp_user_pw\"])\n",
    "        # 로그인 된 서버에 이메일 전송\n",
    "        response = server.sendmail(msg[\"from\"], msg[\"to\"], msg.as_string())\n",
    "        # 메시지를 보낼때는 .as_string() 메서드를 사용해서 문자열로 바꿔줌\n",
    "        \n",
    "        # 이메일을 성공적으로 보내면 결과는 {}\n",
    "        if not response:\n",
    "            print(\"이메일을 성공적으로 보냈습니다.\")\n",
    "        else:\n",
    "            print(response)"
   ]
  },
  {
   "cell_type": "code",
   "execution_count": 9,
   "id": "c3185a50",
   "metadata": {},
   "outputs": [],
   "source": [
    "def make_multimsg(msg_dict):\n",
    "    multi = MIMEMultipart(_subtype=\"mixed\")\n",
    "    \n",
    "    for key, value in msg_dict.items():\n",
    "        # 각 타입에 적절한 MIMExxx() 함수를 호울하여 msg 객체를 생성\n",
    "        if key == \"text\":\n",
    "            with open(value[\"filename\"], encoding=\"utf-8\") as fp:\n",
    "                msg = MIMEText(fp.read(), _subtype=value[\"subtype\"])\n",
    "        elif key == \"image\":\n",
    "            with open(value[\"filename\"], \"rb\") as fp:\n",
    "                msg = MIMEImage(fp.read(), _subtype=value[\"subtype\"])\n",
    "        elif key == \"audio\":\n",
    "            with open(value[\"filename\"], \"rb\") as fp:\n",
    "                msg = MIMEAudio(fp.read(), _subtype=value[\"subtype\"])\n",
    "        else:\n",
    "            with open(value[\"filename\"], \"rb\") as fp:\n",
    "                msg = MIMEBase(value[\"maintype\"], _subtype=value[\"subtype\"])\n",
    "                msg.set_payload(fp.read())\n",
    "                encoders.encode_base64(msg)\n",
    "        # 파일 이름을 첨부파일 제목으로 추가\n",
    "        msg.add_header(\"Content-Disposition\", \"attachment\", filename=os.path.basename(value[\"filename\"]))\n",
    "        # 첨부 파일 추가\n",
    "        multi.attach(msg)\n",
    "        \n",
    "    return multi"
   ]
  },
  {
   "cell_type": "code",
   "execution_count": 10,
   "id": "f69b00cf",
   "metadata": {},
   "outputs": [],
   "source": [
    "# 2 텍스트로만 구성된 이메일 보내기"
   ]
  },
  {
   "cell_type": "code",
   "execution_count": 11,
   "id": "4cbcddd0",
   "metadata": {},
   "outputs": [],
   "source": [
    "#from email.mime.text import MIMEText"
   ]
  },
  {
   "cell_type": "code",
   "execution_count": 12,
   "id": "c8b6ec96",
   "metadata": {},
   "outputs": [],
   "source": [
    "smtp_info = dict({\n",
    "    \"smtp_server\": \"smtp.naver.com\",\n",
    "    \"smtp_user_id\": f\"{naver_id}@naver.com\",\n",
    "    \"smtp_user_pw\": naver_pw,\n",
    "    \"smtp_port\": 587,\n",
    "})"
   ]
  },
  {
   "cell_type": "code",
   "execution_count": 13,
   "id": "92107f31",
   "metadata": {},
   "outputs": [],
   "source": [
    "# 메일 내용 작성\n",
    "title = \"기본 이메일입니다.\"\n",
    "content = \"메일 내용입니다.\"\n",
    "sender = smtp_info[\"smtp_user_id\"]  # 송신자(sender) 이메일 계정\n",
    "receiver = \"richdad02@naver.com\""
   ]
  },
  {
   "cell_type": "code",
   "execution_count": 14,
   "id": "8615cb10",
   "metadata": {},
   "outputs": [],
   "source": [
    "# 메일 객체 생성: 메시지 내용에는 한글이 들어가기 때문에 한글을 지원하는 문자 체계인 UTF-8을 명시\n",
    "msg = MIMEText(_text=content, _charset=\"utf-8\")  # 이메일 내용"
   ]
  },
  {
   "cell_type": "code",
   "execution_count": 15,
   "id": "2ed33574",
   "metadata": {},
   "outputs": [],
   "source": [
    "msg[\"Subject\"] = title # 메일 제목\n",
    "msg[\"From\"] = sender   # 송신자\n",
    "msg[\"to\"] = receiver   # 수신자"
   ]
  },
  {
   "cell_type": "code",
   "execution_count": 16,
   "id": "eaf9ff23",
   "metadata": {},
   "outputs": [
    {
     "name": "stdout",
     "output_type": "stream",
     "text": [
      "이메일을 성공적으로 보냈습니다.\n"
     ]
    }
   ],
   "source": [
    "send_email(smtp_info, msg)"
   ]
  },
  {
   "cell_type": "code",
   "execution_count": null,
   "id": "eec04e68",
   "metadata": {},
   "outputs": [],
   "source": []
  },
  {
   "cell_type": "code",
   "execution_count": 17,
   "id": "2dd10881",
   "metadata": {},
   "outputs": [],
   "source": [
    "# 3 텍스트와 다양한 종류의 파일이 첨부된 이메일 보내기"
   ]
  },
  {
   "cell_type": "code",
   "execution_count": 18,
   "id": "9c1133ea",
   "metadata": {},
   "outputs": [],
   "source": [
    "msg_dict = {\n",
    "    \"text\": {\n",
    "        \"maintype\": \"text\",\n",
    "        \"subtype\": \"plain\",\n",
    "        \"filename\": \"res/email_sending/test.txt\",  # 텍스트 첨부 파일\n",
    "    },\n",
    "    \"image\": {\n",
    "        \"maintype\": \"image\",\n",
    "        \"subtype\": \"jpg\",\n",
    "        \"filename\": \"res/email_sending/test.jpg\",  # 이미지 첨부 파일\n",
    "    },\n",
    "    \"audio\": {\n",
    "        \"maintype\": \"audio\",\n",
    "        \"subtype\": \"mp3\",\n",
    "        \"filename\": \"res/email_sending/test.mp3\",  # 오디오 첨부 파일\n",
    "    },\n",
    "    \"video\": {\n",
    "        \"maintype\": \"video\",\n",
    "        \"subtype\": \"mp4\",\n",
    "        \"filename\": \"res/email_sending/test.mp4\",  # 비디오 첨부 파일\n",
    "    },\n",
    "    \"application\": {\n",
    "        \"maintype\": \"application\",\n",
    "        \"subtype\": \"octect-stream\",\n",
    "        \"filename\": \"res/email_sending/test.pdf\",  # 그 외 첨부 파일\n",
    "    },\n",
    "}"
   ]
  },
  {
   "cell_type": "code",
   "execution_count": 19,
   "id": "c5809efd",
   "metadata": {},
   "outputs": [],
   "source": [
    "# 메일 내용 작성\n",
    "title = \"첨부파일이 있는 이메일 입니다.\"\n",
    "content = \"메일 내용입니다.\"\n",
    "sender = smtp_info[\"smtp_user_id\"]  # 송신자(sender) 이메일 계정\n",
    "receiver = \"richdad02@naver.com\""
   ]
  },
  {
   "cell_type": "code",
   "execution_count": 20,
   "id": "cb616ece",
   "metadata": {},
   "outputs": [],
   "source": [
    "# 메일 객체 생성\n",
    "msg = MIMEText(_text=content, _charset=\"utf-8\")  # 이메일 내용"
   ]
  },
  {
   "cell_type": "code",
   "execution_count": 21,
   "id": "7c9c0bbd",
   "metadata": {},
   "outputs": [],
   "source": [
    "# 첨부파일 추가\n",
    "multi = make_multimsg(msg_dict)\n",
    "multi[\"Subject\"] = title # 메일 제목\n",
    "multi[\"From\"] = sender   # 송신자\n",
    "multi[\"to\"] = receiver   # 수신자\n",
    "multi.attach(msg)"
   ]
  },
  {
   "cell_type": "code",
   "execution_count": 22,
   "id": "3e93ad3b",
   "metadata": {},
   "outputs": [
    {
     "name": "stdout",
     "output_type": "stream",
     "text": [
      "이메일을 성공적으로 보냈습니다.\n"
     ]
    }
   ],
   "source": [
    "# 첨부파일이 추가된 이메일 전송\n",
    "send_email(smtp_info, multi)"
   ]
  }
 ],
 "metadata": {
  "kernelspec": {
   "display_name": "Python 3 (ipykernel)",
   "language": "python",
   "name": "python3"
  },
  "language_info": {
   "codemirror_mode": {
    "name": "ipython",
    "version": 3
   },
   "file_extension": ".py",
   "mimetype": "text/x-python",
   "name": "python",
   "nbconvert_exporter": "python",
   "pygments_lexer": "ipython3",
   "version": "3.8.8"
  }
 },
 "nbformat": 4,
 "nbformat_minor": 5
}
