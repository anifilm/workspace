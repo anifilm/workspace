{
 "cells": [
  {
   "cell_type": "code",
   "execution_count": 1,
   "id": "b44e9d6c",
   "metadata": {},
   "outputs": [],
   "source": [
    "import os\n",
    "# 이메일 메시지에 다양한 형식을 중첩하여 담기 위한 객체\n",
    "from email.mime.multipart import MIMEMultipart"
   ]
  },
  {
   "cell_type": "code",
   "execution_count": 2,
   "id": "f41bceea",
   "metadata": {},
   "outputs": [],
   "source": [
    "# 이메일 메시지를 이진 테이터로 바꿔주는 인코더\n",
    "from email import encoders"
   ]
  },
  {
   "cell_type": "code",
   "execution_count": 3,
   "id": "62070f92",
   "metadata": {},
   "outputs": [],
   "source": [
    "# 텍스트 형식\n",
    "from email.mime.text import MIMEText\n",
    "# 이미지 형식\n",
    "from email.mime.image import MIMEImage\n",
    "# 오디오 형식\n",
    "from email.mime.audio import MIMEAudio"
   ]
  },
  {
   "cell_type": "code",
   "execution_count": 4,
   "id": "5bb8483b",
   "metadata": {},
   "outputs": [],
   "source": [
    "# 위의 모든 객체를 생성할 수 있는 기본 객체\n",
    "# MIMEBase(_maintype, _subtype)\n",
    "# MIMEBase(<메인 타입>, <서브 타입>)\n",
    "from email.mime.base import MIMEBase"
   ]
  },
  {
   "cell_type": "code",
   "execution_count": 5,
   "id": "98251a87",
   "metadata": {},
   "outputs": [],
   "source": [
    "msg_dict = {\n",
    "    \"text\": {\n",
    "        \"maintype\": \"text\",\n",
    "        \"subtype\": \"plain\",\n",
    "        \"filename\": \"res/email_sending/test.txt\",  # 텍스트 첨부 파일\n",
    "    },\n",
    "    \"image\": {\n",
    "        \"maintype\": \"image\",\n",
    "        \"subtype\": \"jpg\",\n",
    "        \"filename\": \"res/email_sending/test.jpg\",  # 이미지 첨부 파일\n",
    "    },\n",
    "    \"audio\": {\n",
    "        \"maintype\": \"audio\",\n",
    "        \"subtype\": \"mp3\",\n",
    "        \"filename\": \"res/email_sending/test.mp3\",  # 오디오 첨부 파일\n",
    "    },\n",
    "    \"video\": {\n",
    "        \"maintype\": \"video\",\n",
    "        \"subtype\": \"mp4\",\n",
    "        \"filename\": \"res/email_sending/test.mp4\",  # 비디오 첨부 파일\n",
    "    },\n",
    "    \"application\": {\n",
    "        \"maintype\": \"application\",\n",
    "        \"subtype\": \"octect-stream\",\n",
    "        \"filename\": \"res/email_sending/test.pdf\",  # 그 외 첨부 파일\n",
    "    },\n",
    "}"
   ]
  },
  {
   "cell_type": "code",
   "execution_count": 6,
   "id": "c3af73da",
   "metadata": {},
   "outputs": [],
   "source": [
    "def make_multimsg(msg_dict):\n",
    "    multi = MIMEMultipart(_subtype=\"mixed\")\n",
    "    \n",
    "    for key, value in msg_dict.items():\n",
    "        # 각 타입에 적절한 MIMExxx() 함수를 호울하여 msg 객체를 생성\n",
    "        if key == \"text\":\n",
    "            with open(value[\"filename\"], encoding=\"utf-8\") as fp:\n",
    "                msg = MIMEText(fp.read(), _subtype=value[\"subtype\"])\n",
    "        elif key == \"image\":\n",
    "            with open(value[\"filename\"], \"rb\") as fp:\n",
    "                msg = MIMEImage(fp.read(), _subtype=value[\"subtype\"])\n",
    "        elif key == \"audio\":\n",
    "            with open(value[\"filename\"], \"rb\") as fp:\n",
    "                msg = MIMEAudio(fp.read(), _subtype=value[\"subtype\"])\n",
    "        else:\n",
    "            with open(value[\"filename\"], \"rb\") as fp:\n",
    "                msg = MIMEBase(value[\"maintype\"], _subtype=value[\"subtype\"])\n",
    "                msg.set_payload(fp.read())\n",
    "                encoders.encode_base64(msg)\n",
    "        # 파일 이름을 첨부파일 제목으로 추가\n",
    "        msg.add_header(\"Content-Disposition\", \"attachment\", filename=os.path.basename(value[\"filename\"]))\n",
    "        # 첨부 파일 추가\n",
    "        multi.attach(msg)\n",
    "        \n",
    "    return multi                                  \n",
    "        "
   ]
  }
 ],
 "metadata": {
  "kernelspec": {
   "display_name": "Python 3 (ipykernel)",
   "language": "python",
   "name": "python3"
  },
  "language_info": {
   "codemirror_mode": {
    "name": "ipython",
    "version": 3
   },
   "file_extension": ".py",
   "mimetype": "text/x-python",
   "name": "python",
   "nbconvert_exporter": "python",
   "pygments_lexer": "ipython3",
   "version": "3.8.8"
  }
 },
 "nbformat": 4,
 "nbformat_minor": 5
}
