{
 "cells": [
  {
   "cell_type": "code",
   "execution_count": 1,
   "id": "278a3bca",
   "metadata": {},
   "outputs": [],
   "source": [
    "import smtplib"
   ]
  },
  {
   "cell_type": "code",
   "execution_count": null,
   "id": "7b59efc9",
   "metadata": {},
   "outputs": [],
   "source": [
    "smtp_info = dict({\n",
    "    \"smtp_server\": \"smtp.naver.com\",\n",
    "    \"smtp_user_id\": f\"{naver_id}@naver.com\",\n",
    "    \"smtp_user_pw\": naver_pw,\n",
    "    \"smtp_port\": 587,\n",
    "})"
   ]
  },
  {
   "cell_type": "code",
   "execution_count": null,
   "id": "c02b3dc9",
   "metadata": {},
   "outputs": [],
   "source": [
    "def send_email(smtp_info, msg):\n",
    "    with smtplib.SMTP(smtp_info[\"smtp_server\"], smtp_info[\"smtp_port\"]) as server:\n",
    "        # TLS 보안 연결\n",
    "        server.starttls()\n",
    "        # 로그인\n",
    "        server.login(smtp_info[\"smtp_user_id\"], smtp_info[\"smtp_user_pw\"])\n",
    "        # 로그인 된 서버에 이메일 전송\n",
    "        response = server.sendmail(msg[\"from\"], msg[\"to\"], msg.as_string())\n",
    "        # 메시지를 보낼때는 .as_string() 메서드를 사용해서 문자열로 바꿔줌\n",
    "        \n",
    "        # 이메일을 성공적으로 보내면 결과는 {}\n",
    "        if not response:\n",
    "            print(\"이메일을 성공적으로 보냈습니다.\")\n",
    "        else:\n",
    "            print(response)"
   ]
  }
 ],
 "metadata": {
  "kernelspec": {
   "display_name": "Python 3 (ipykernel)",
   "language": "python",
   "name": "python3"
  },
  "language_info": {
   "codemirror_mode": {
    "name": "ipython",
    "version": 3
   },
   "file_extension": ".py",
   "mimetype": "text/x-python",
   "name": "python",
   "nbconvert_exporter": "python",
   "pygments_lexer": "ipython3",
   "version": "3.8.8"
  }
 },
 "nbformat": 4,
 "nbformat_minor": 5
}
