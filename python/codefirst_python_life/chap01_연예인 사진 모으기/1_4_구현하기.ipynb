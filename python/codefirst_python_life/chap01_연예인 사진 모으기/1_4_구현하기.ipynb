{
 "cells": [
  {
   "cell_type": "code",
   "execution_count": 1,
   "id": "420b2d9d",
   "metadata": {},
   "outputs": [
    {
     "data": {
      "text/plain": [
       "True"
      ]
     },
     "execution_count": 1,
     "metadata": {},
     "output_type": "execute_result"
    }
   ],
   "source": [
    "# .env 정보 가져옴\n",
    "from dotenv import load_dotenv\n",
    "import os\n",
    "load_dotenv()"
   ]
  },
  {
   "cell_type": "code",
   "execution_count": 5,
   "id": "99b44511",
   "metadata": {},
   "outputs": [],
   "source": [
    "import requests\n",
    "import json"
   ]
  },
  {
   "cell_type": "code",
   "execution_count": 9,
   "id": "63efb1c8",
   "metadata": {},
   "outputs": [],
   "source": [
    "# 이미지가 있는 image_url을 통해 file_name 파일로 저장하는 함수\n",
    "def save_image(image_url, file_name):\n",
    "    img_response = requests.get(image_url)\n",
    "    # 요청에 성공했다면,\n",
    "    if img_response.status_code == 200:\n",
    "        # 파일 저장\n",
    "        with open(file_name, \"wb\") as fp:\n",
    "            fp.write(img_response.content)"
   ]
  },
  {
   "cell_type": "code",
   "execution_count": 10,
   "id": "2a90f8a3",
   "metadata": {},
   "outputs": [],
   "source": [
    "# 이미지 검색\n",
    "url = \"https://dapi.kakao.com/v2/search/image\"\n",
    "headers = {\n",
    "    \"Authorization\": \"KakaoAK \" + os.environ.get(\"REST_API_KEY\")\n",
    "}\n",
    "data = {\n",
    "    \"query\": \"펭수\"\n",
    "}"
   ]
  },
  {
   "cell_type": "code",
   "execution_count": 11,
   "id": "a3bae023",
   "metadata": {},
   "outputs": [
    {
     "name": "stdout",
     "output_type": "stream",
     "text": [
      "[0th] image_url = http://postfiles14.naver.net/MjAyMDA0MjlfMjUx/MDAxNTg4MTYxMzkwNzg4.L8k49xIPruzqP6Lm4u4mtBDZ9pqe6LYQFqmmA84RNjcg.K_oQmCsZ5T6sX7K39jINwq9ElD5SNWLJeKe4AOe7jKog.PNG.2012kiss/%ED%8E%AD%EC%88%98.png?type=w773\n",
      "[1th] image_url = https://pds.joins.com/news/component/htmlphoto_mmdata/202004/08/29269e7a-485e-4155-b118-24a3b0fb626a.jpg\n",
      "[2th] image_url = http://postfiles1.naver.net/MjAyMDAxMDVfMjEg/MDAxNTc4MTk1MTc1ODky.IEz3VaOMlTm0uoTaei3OJwn0T0R-f2UhfBX8u-5cHbIg.CGrfLLX8U8g-DksRUdfE0wWKJWTh-kYbkvxtB7hYpywg.JPEG.nukkong/%ED%8E%AD%EC%88%98%E3%85%8E%E3%85%8E.JPG?type=w773\n",
      "[3th] image_url = http://postfiles7.naver.net/MjAyMDEyMjFfNDMg/MDAxNjA4NTQxMjA0ODI3.OzDgFdLBNKBHHHb2_47_KQwCGxsOJCY0dVVrCPu2Mf4g.ORl9p4_LGcSZw9D0eqBMbp-g9d5GmW_O7hZgmAeKYZcg.JPEG.2012kiss/%ED%8E%AD%EC%88%98_(26).jpg?type=w773\n",
      "[4th] image_url = https://k.kakaocdn.net/dn/cXqZVQ/btqAGb6pRrI/HYUdE8NrgugQxkH8PyPWnk/img.jpg\n",
      "[5th] image_url = http://postfiles16.naver.net/MjAxOTEwMjVfMjI4/MDAxNTcxOTY5Mjc5ODQz.Iu3JI7TVk3T8Si8tDneuxZ1SJLpYyd12pK0NwIA0oRog.UZFZ5sa3eOPE-svcIABbh4a3I1anshwCo8lLgSqXX1Ig.JPEG.samcraft2004/%ED%8E%AD%EC%88%985.jpeg?type=w966\n",
      "[6th] image_url = http://postfiles10.naver.net/MjAxOTExMDdfMTU3/MDAxNTczMTIyMzQ1NTA0.xGcmzfSFZ-klSE2WJNcPRgpzC1BbvkJzfik4nUuML30g.1_GXUhy1ldOj__hmvXi_727SD564BtaXeGVKf-2FhK8g.JPEG.2012kiss/%ED%8E%AD%EC%88%98_(5).jpg?type=w773\n",
      "[7th] image_url = http://postfiles3.naver.net/MjAyMDA0MDFfMTQ5/MDAxNTg1NzA1NjgwOTkw.qXwlvHJeBe130Bc2tUJrES9GDw6nv7kJHq1gmw_Gw6og.W7dwoP1Ahs3J6Jt2txUz43ORX89R9oeNsJUvkf6vQeog.PNG.soo_7777777/%EB%8D%98%ED%82%A8%EB%8F%84%EB%84%88%EC%B8%A0_%ED%8E%AD%EC%88%98.png?type=w773\n",
      "[8th] image_url = http://postfiles11.naver.net/MjAxOTEyMjNfMTA4/MDAxNTc3MDg4MzMyNzkz.ilYPjd4d9kKkpUosqukptkU4wThHQ6KNDrqEji83m6Qg.ha_KziTYYL08EaK_kJcW7voMknpuIWE8t5QgTeDHEJkg.JPEG.dazedesign/%ED%8E%AD%EC%88%98.jpg?type=w966\n",
      "[9th] image_url = https://pds.joins.com/news/component/joongang_sunday/201912/21/904b917f-c6e5-44fa-854f-d675bc869b9f.jpg\n",
      "[10th] image_url = http://postfiles6.naver.net/MjAxOTExMTlfOTkg/MDAxNTc0MTY5ODExOTc5.MNI7p3otcAVDtNBPvjiy4W38qeRo669J9mhsxX34b9Ag.aoPz3BOod38rk7vSuR8lSSRw_iEvzyl1ZPdelf_iV2Yg.JPEG.elfpenguin/%ED%8E%AD%EC%88%98_1.jpg?type=w773\n",
      "[11th] image_url = http://postfiles14.naver.net/MjAxOTEwMzFfNzMg/MDAxNTcyNTA4OTY5Mjk2.E4zYjcW4aurhgffM5zmtQZmnB1wujGXmcqfxCSeFZ7wg.E0nmKfDbEgYobWtIjVtN1RfQ-wEQIcUrlm_qFab5M9gg.JPEG.gjskrj/%ED%8E%AD%EC%88%98_%EC%97%90%ED%97%A4%ED%97%A4.jpg?type=w773\n",
      "[12th] image_url = http://postfiles6.naver.net/MjAxOTEwMjVfMjkz/MDAxNTcxOTY1NTIxNzMy.hLFCbeZV2pNftZECCOwZR0dr52RkCqIwX3qpixTYFFEg.Q1EWgz1qA3LcEOZYbK9IZziJQgotFwSBLoL7CTokvD4g.PNG.aejoong01260/%ED%8E%AD%EC%88%98_(7).png?type=w773\n",
      "[13th] image_url = http://postfiles4.naver.net/MjAyMDAxMTNfMjQ2/MDAxNTc4ODc0MTE5ODI5.dd4mi0TXqou1aaB-gEAU_ahgV96tI8tn2ks8sQmulXQg.lCBKW-r0CU0PepIx2fJdyiI5iAmrQ9WnbMKvNlSJvo4g.JPEG.generalten/%ED%8E%AD%EC%88%9821.jpg?type=w773\n",
      "[14th] image_url = http://t1.daumcdn.net/cfile/tistory/99CA784C5DF0708425\n",
      "[15th] image_url = http://www.viva100.com/mnt/images/file/2020y/04m/22d/2020042201001751400079881.jpg\n",
      "[16th] image_url = http://postfiles1.naver.net/MjAxOTA5MjlfODQg/MDAxNTY5NzI0ODUzNjUw.JHmqcjFd1JL6XtNrK60iZyP0SE0qkdZuZhR7vHoke3wg.LpDHgFdr0v0B1x8p2zd9Adw8bUluADrGRO_6EZOsR9Yg.JPEG.2012kiss/%ED%8E%AD%EC%88%98%EC%A7%A4_(27).jpg?type=w773\n",
      "[17th] image_url = https://img.huffingtonpost.com/asset/5dcfaca6210000906434d223.jpeg?ops=scalefit_630_noupscale\n",
      "[18th] image_url = http://postfiles7.naver.net/MjAxOTEyMDFfMTc3/MDAxNTc1MTg2NDY3ODMx.sxYe6nazsbcVxAjLuP4_eYYeH8cY5krZ5KAUDRwbDY0g.OBIJSaVn2UywQlf9mdh63cfyuIuny8jYEH0kgvB7MfEg.JPEG.2012kiss/%ED%8E%AD%EC%88%98_(34).jpg?type=w773\n",
      "[19th] image_url = https://t1.daumcdn.net/news/201911/16/ked/20191116155937679okwq.jpg\n",
      "[20th] image_url = https://t1.daumcdn.net/cafeattach/1YWEt/a8058e1006ab7cb646f43816fd93814dbe8e91bb\n",
      "[21th] image_url = https://t1.daumcdn.net/news/202004/02/kukinews/20200402102208173tosw.jpg\n",
      "[22th] image_url = https://t1.daumcdn.net/cafeattach/1YWEt/06913df87b72edf825f6668820a789217488f457\n",
      "[23th] image_url = https://k.kakaocdn.net/dn/0TKHv/btqKXMcdd1N/WAj74jPFwjIVHc404qAHf1/img.jpg\n",
      "[24th] image_url = https://t1.daumcdn.net/cafeattach/1YWEt/9b2074cba964b4d952d53e21d12391ecff7575ac\n",
      "[25th] image_url = https://postfiles.pstatic.net/MjAyMTEwMDZfMTQ5/MDAxNjMzNDg5ODMxMTU1.4qVUUREmNzJ151GiuOow4HGKKCdJEEp2xKZTeY9RtJIg.Us-02LUXQsFRsaak6__u6LAkEiLUyJqJjP1JPJkpbMkg.JPEG.hwit21/IMG_0240.JPG?type=w773\n",
      "[26th] image_url = http://postfiles15.naver.net/MjAyMDEwMjVfMTc3/MDAxNjAzNTkzNjY3Mzcx.K058PGloFqFCQvDbLo1_-o0xzrb-ygNp0C7HI4hjlAYg.UgpA3S6Mim8v6BSVwg-_1h3xrPKNdec4CrsMD4SopIEg.JPEG.2012kiss/%ED%8E%AD%EC%88%98_(67).jpg?type=w773\n",
      "[27th] image_url = http://postfiles15.naver.net/MjAxOTExMjhfOCAg/MDAxNTc0OTUxNzExMTg4.uuIax2wuQbfTugRd69pISZAXP5E1Q8Rlyxomerf6avUg.4V5JzYF63es7am-t8UbRJ_Nu9mYmBgDLsNYzj0cuW6kg.JPEG.sjman5/%EC%98%A4%EB%8A%98%EB%8F%84_%ED%8E%AD%EC%88%98,_%EB%82%B4%EC%9D%BC%EB%8F%84_%ED%8E%AD%EC%88%98(%EB%8F%84%EC%84%9C).jpg?type=w773\n",
      "[28th] image_url = https://t1.daumcdn.net/news/202006/17/THEFACT/20200617141313131xujt.jpg\n",
      "[29th] image_url = https://t1.daumcdn.net/news/201910/27/Edaily/20191027000031651innl.jpg\n",
      "[30th] image_url = http://t1.daumcdn.net/cfile/tistory/99619A4C5DE37CB925\n",
      "[31th] image_url = http://postfiles3.naver.net/MjAyMDAxMTNfMjQ3/MDAxNTc4ODc0MTIwMDk1.Ilp3OJ3geLF2zROJxI6TZWhsuZGOUMWxut-K8mzqyXcg.G8CAdyHx46Jty_poaeM3b1MnieR9DbYTwrTNUHRU3Akg.JPEG.generalten/%ED%8E%AD%EC%88%9812.jpg?type=w773\n",
      "[32th] image_url = http://t1.daumcdn.net/cfile/tistory/99A9C6385E0943BA25\n",
      "[33th] image_url = https://t1.daumcdn.net/news/202108/04/starnews/20210804120022190vbia.jpg\n",
      "[34th] image_url = http://t1.daumcdn.net/cafeattach/1YWEt/548e874c494a043f303e7beed57d5262e0f69b05\n",
      "[35th] image_url = http://t1.daumcdn.net/cafeattach/1YWEt/cb09f9c05bfdd720a2378dedcdc6da1164347232\n",
      "[36th] image_url = http://postfiles1.naver.net/MjAxOTEyMTlfMTc4/MDAxNTc2NzM1NzI5MDkw.a4TAt_-UnOcvkLXF4yTvwJasT8pyHIhtXFsPU0_xlzMg.pNQAJi2oOsCrHjwR5Vph2AoFRoK8ZxhbdV-QaC4XoXgg.JPEG.2012kiss/%ED%8E%AD%EC%88%98_(1).jpg?type=w773\n",
      "[37th] image_url = http://postfiles6.naver.net/MjAxOTEyMTZfMTAy/MDAxNTc2NDU5MjM4MDQ5.4aTp4RS73cskmMk12ELYle4vf2OqL0MiL_ztmEQzf6Ig.UjP1ikogC3JMGqoavFJn-0s4cIkA4H_fxnuxGHsQCs8g.JPEG.mp10091004/%ED%8E%AD%EC%88%98_%EB%8B%A4%EC%9D%B4%EC%96%B4%EB%A6%AC001.JPG?type=w966\n",
      "[38th] image_url = https://t1.daumcdn.net/news/202008/07/ilgansports/20200807100233088vfub.jpg\n",
      "[39th] image_url = https://t1.daumcdn.net/news/202005/07/kukminilbo/20200507201207787ajwg.jpg\n",
      "[40th] image_url = http://postfiles2.naver.net/MjAxOTEwMzFfMTQ5/MDAxNTcyNTA4OTY4ODkw.CVKajQ_mzvXElRX6cqBuXctxE0vD5v6Xf8aft_snBDMg.IZhh6IwcvkbuWMmCapyDGe91xwB4IuVYtTchbmjIV1cg.JPEG.gjskrj/%ED%8E%AD%EC%88%98_%EB%84%A4%EB%8B%88%EC%9A%94.jpg?type=w773\n",
      "[41th] image_url = http://postfiles13.naver.net/MjAxOTA5MjlfNTAg/MDAxNTY5NzI0ODUzNjUy.RvwrNlYwA3lM9qSEDpYhz5Dnot8XLC8txJGCce1FAlIg.qYCrzMZ87pKsK0hvxaBE1rtuy79FZtedi1bd0gf2Qjkg.JPEG.2012kiss/%ED%8E%AD%EC%88%98%EC%A7%A4_(26).jpg?type=w773\n",
      "[42th] image_url = http://t1.daumcdn.net/cafeattach/1YWEt/3482a59389c69d449a90771a5386e619468b1769\n",
      "[43th] image_url = https://t1.daumcdn.net/cafeattach/1YWEt/7b2e911710f951ee7d60767378712e341626c3bb\n",
      "[44th] image_url = http://t1.daumcdn.net/cafeattach/1YWEt/654df16c729eb43feea47cf3b11dea3385033b5d\n",
      "[45th] image_url = http://postfiles3.naver.net/MjAyMDA0MDFfOTcg/MDAxNTg1NjczODUyOTUz._tHtzIXpmEGo4o90LmwaYItDScaRsG9HqGwO_fI5lNMg.c5ZqLXL1eIM6iUVeyOFlj7Z6-ow2M0O_kmVWDQPu7e4g.JPEG.falulu0321/1585673852265.jpg?type=w773\n",
      "[46th] image_url = http://postfiles16.naver.net/MjAyMDAyMTdfMTUz/MDAxNTgxOTA1OTk1MzI5.i-i1CiX2jSuDwVMhaWishDViLSyk5XGjP16Wh5gybz4g.jdG43OzuNU2ExIDSHVUxyoRih6diWMRFOzg_p9w_HC4g.JPEG.amcguro/%ED%8E%AD%EC%88%982.jpg?type=w966\n",
      "[47th] image_url = https://k.kakaocdn.net/dn/uB1cJ/btqBADO4s4W/BVSrZQL1rQ0IuLbfByXlXk/img.jpg\n",
      "[48th] image_url = https://t1.daumcdn.net/cafeattach/1YWEt/85295f287198ea5ae9d5645dfdcff4c211a60c5d\n",
      "[49th] image_url = http://t1.daumcdn.net/cafeattach/1DXhD/62bd5b966419219301b9d55907f9a2d7459e444e\n",
      "[50th] image_url = http://t1.daumcdn.net/cafeattach/1YWEt/899094ae719092c2c4c3d17e9bf40385e0e645dc\n",
      "[51th] image_url = https://k.kakaocdn.net/dn/dMriKu/btq0fjZE0ZY/GqrJDp0nrQOTNhoQgAiIx1/img.jpg\n",
      "[52th] image_url = https://t1.daumcdn.net/news/202008/07/ilgansports/20200807100202819kknu.jpg\n"
     ]
    },
    {
     "name": "stdout",
     "output_type": "stream",
     "text": [
      "[53th] image_url = https://t1.daumcdn.net/cafeattach/1YWEt/cdd3079fe556464796443f3d0b4eccafa56eada7\n",
      "[54th] image_url = http://t1.daumcdn.net/cafeattach/1YWEt/e8e8684ff6d87b35b179c52b927791225b2d68f2\n",
      "[55th] image_url = http://t1.daumcdn.net/cafeattach/1Xvzr/ba7351dd8c7d0c64ffd7ccdbe922789d34120b0c\n",
      "[56th] image_url = https://k.kakaocdn.net/dn/P5nza/btqADjSlgVG/iqgGgGpbU8K1Xf2jmk5Ju1/img.jpg\n",
      "[57th] image_url = http://t1.daumcdn.net/cafeattach/1Xvzr/9a3b624dd29a7e4c01aac2b2870edeb2cb8dfb5e\n",
      "[58th] image_url = http://postfiles6.naver.net/MjAyMDAxMDdfNjQg/MDAxNTc4MzYzMDUxMjIx.9OnqXLBqoEZlHdfu6rxCjcoEJ2pF25HbtMGNWO6uuNAg.J_oTbdNlqqnYSdZpIw5RYoZK0BcsJSPSPLQqEyGyK38g.JPEG.stjhero80/%ED%8E%AD%EC%88%981.JPG?type=w580\n",
      "[59th] image_url = https://t1.daumcdn.net/cafeattach/1Yeqd/0e1156e6b639275e7dfa1e3ebb5b5fc0cdb6699e\n",
      "[60th] image_url = http://postfiles14.naver.net/MjAyMTAxMjRfMTU3/MDAxNjExNDg1NTUzODcy.L93GwkjRWUeZHX78yAJEvgxYrYlci8Rz9mXLE5n3ftQg.jvUe5czovdXxP8g_K6jIjWUs-tgxptgzAXAJd8rNkGog.JPEG.songej6643/%EB%8B%A4%EC%9A%B4%EB%A1%9C%EB%93%9C%ED%8C%8C%EC%9D%BC%EF%BC%8D24.jpg?type=w773\n",
      "[61th] image_url = https://k.kakaocdn.net/dn/caijWC/btqF5As3kEe/3LVaboSG4lRcaruokCPrBk/img.png\n",
      "[62th] image_url = https://archivenew.vop.co.kr/images/bbf303ed004e1f9c8ada8c0c817ef8a9/2020-02/marked/04073400_5.jpg\n",
      "[63th] image_url = http://postfiles7.naver.net/MjAyMDA4MTdfNzUg/MDAxNTk3NjUwOTA4OTE5._nO1Ksnp9LKesY58teievn7jKLu6B0r7fMIrUGDcKaUg.HKw5DA6gW7kCNUySOhqs5-3ON_unVvbzqyO6yJ2zJVsg.JPEG.cute0428/%ED%8E%AD%EC%88%98%ED%8E%AD%EC%88%98.jpg?type=w580\n",
      "[64th] image_url = https://t1.daumcdn.net/cafeattach/1YWEt/1676a242e46cf6176aec4570fed12fb04fb64dbf\n",
      "[65th] image_url = http://postfiles16.naver.net/MjAyMDAzMzFfMTU2/MDAxNTg1NjEzNzU3OTA5.DY-ssb0CaysWrHE2W7dwYMnetkxS5NlrDtW4Y_VEQkIg.OpDIoLGsYGatF96KR0xRyQ64VG4G5sA8LNB_DLSchWIg.JPEG.yw09033/1585613758742.jpg?type=w966\n",
      "[66th] image_url = http://postfiles15.naver.net/MjAyMDAxMThfMTIz/MDAxNTc5MzUwMzk3MTI0.9duHjG3eFwjdw0AK13yqqpyMhH18fHkzTtyNlkEiv0sg.I8DPf2Pe-Dd_k6olTYwXmgtFTe09-OCcfvsS62vmhyMg.JPEG.juhye0401/%ED%8E%AD%EC%88%981.jpg?type=w773\n",
      "[67th] image_url = http://t1.daumcdn.net/cafeattach/1YWEt/82b435d523cedbc6e569d2d2d59986f7ab9a8fe7\n",
      "[68th] image_url = https://k.kakaocdn.net/dn/zW6mm/btqAFoSsOVu/bzpztA0Emc8Xr5bc42lrXK/img.jpg\n",
      "[69th] image_url = http://postfiles4.naver.net/MjAyMDA1MTBfMTU0/MDAxNTg5MTA5MDQ2MDY5.pKwVo8tP7eWS618LBqTpJfa6Iqq9oOLojo1RUKf3eL4g.NpSAVAPWM1U7Kj7fajZeeGNBE11qwf9A3Xv5TSe7YoMg.JPEG.seh3509/%ED%8E%AD%EC%88%98.jpg?type=w773\n",
      "[70th] image_url = http://t1.daumcdn.net/cafeattach/1YWEt/f757630a6b6985ae05a733e84ce62ca8bd88b47e\n",
      "[71th] image_url = https://t1.daumcdn.net/cafeattach/1YWEt/615a4cd0cb5cd2e186294cbb0a3d4f576b602249\n",
      "[72th] image_url = http://images.sportskhan.net/article/2020/02/22/l_2020022202001001100209691.jpg\n",
      "[73th] image_url = http://postfiles6.naver.net/MjAxOTEwMzFfMTg5/MDAxNTcyNTA5MTYzODIz.i27DFNLw_7IQRaMEdicL5_90SnkD_dzwB9fyg-1haJwg.jZ3_LFqBGllvmQq5Zqm8ncak3v6zRPN9T40ATVOYonog.JPEG.gjskrj/%ED%8E%AD%EC%88%98_%EC%B0%A8%EB%8B%A8_(1).jpg?type=w773\n",
      "[74th] image_url = http://postfiles5.naver.net/MjAyMDAyMjhfMTM4/MDAxNTgyODUxODEzMjA2.VlRwEdO1H7KNYuEk8mTn0J7T7LR26FjiOZYnA2UkuXwg.szUqOZwEvHPohseu1kgCv6_uPOngVXuOLbfFpe2mtxsg.JPEG.pengzzang/%EB%A7%88%EC%8A%A4%ED%81%AC%ED%8E%AD%EC%88%988.jpg?type=w773\n",
      "[75th] image_url = http://t1.daumcdn.net/cfile/tistory/99E2523C5DF24D9B2E\n",
      "[76th] image_url = http://t1.daumcdn.net/cafeattach/1YWEt/6afd204dc285f4ae74b91fc65757e0a25824cc22\n",
      "[77th] image_url = http://cfile264.uf.daum.net/image/99C7A53B5DFC1CBC29F55D\n",
      "[78th] image_url = https://t1.daumcdn.net/cafeattach/1X510/c433cea5eb93dac98d2c2ef2b9427b4d97ec894c_re_1608629443170\n",
      "[79th] image_url = http://postfiles10.naver.net/MjAxOTExMjVfMjk5/MDAxNTc0Njg4OTU2NDkz.y147vAYME4Nf280Z0pK27K7NVWOxAKvTKsFZiqZHU8Yg.T0_Kr2GmNQKQ9E0HpOhsa2KMBaP_D79YTk6nS33N5ZEg.JPEG.come215/%ED%8E%AD%EC%88%9822.jpg?type=w773\n"
     ]
    }
   ],
   "source": [
    "# 이미지 검색 요청\n",
    "response = requests.post(url, headers=headers, data=data)\n",
    "# 요청에 실패했다면,\n",
    "if response.status_code != 200:\n",
    "    print(\"error! because \", response.json())\n",
    "else: # 성공했다면,\n",
    "    count = 0\n",
    "    for image_info in response.json()['documents']:\n",
    "        print(f\"[{count}th] image_url =\", image_info['image_url'])\n",
    "        # 저장될 이미지 파일명 설정\n",
    "        count += 1\n",
    "        file_name = f\"test_{count}.jpg\"\n",
    "        # 이미지 저장\n",
    "        save_image(image_info['image_url'], file_name)\n",
    "        "
   ]
  }
 ],
 "metadata": {
  "kernelspec": {
   "display_name": "Python 3",
   "language": "python",
   "name": "python3"
  },
  "language_info": {
   "codemirror_mode": {
    "name": "ipython",
    "version": 3
   },
   "file_extension": ".py",
   "mimetype": "text/x-python",
   "name": "python",
   "nbconvert_exporter": "python",
   "pygments_lexer": "ipython3",
   "version": "3.8.8"
  }
 },
 "nbformat": 4,
 "nbformat_minor": 5
}
