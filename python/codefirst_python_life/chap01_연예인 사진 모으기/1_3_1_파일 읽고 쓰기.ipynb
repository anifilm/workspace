{
 "cells": [
  {
   "cell_type": "code",
   "execution_count": 1,
   "id": "cea62597",
   "metadata": {},
   "outputs": [],
   "source": [
    "# 파일 쓰기\n",
    "data = \"hello\"\n",
    "with open(\"test.txt\", \"w\") as fp:\n",
    "    fp.write(data)"
   ]
  },
  {
   "cell_type": "code",
   "execution_count": 2,
   "id": "2252ed48",
   "metadata": {},
   "outputs": [
    {
     "name": "stdout",
     "output_type": "stream",
     "text": [
      "[파일 읽기 결과]\n",
      "hello\n"
     ]
    }
   ],
   "source": [
    "# 파일 읽기\n",
    "with open(\"test.txt\", \"r\") as fp:\n",
    "    print(\"[파일 읽기 결과]\")\n",
    "    print(fp.read())"
   ]
  }
 ],
 "metadata": {
  "kernelspec": {
   "display_name": "Python 3",
   "language": "python",
   "name": "python3"
  },
  "language_info": {
   "codemirror_mode": {
    "name": "ipython",
    "version": 3
   },
   "file_extension": ".py",
   "mimetype": "text/x-python",
   "name": "python",
   "nbconvert_exporter": "python",
   "pygments_lexer": "ipython3",
   "version": "3.8.8"
  }
 },
 "nbformat": 4,
 "nbformat_minor": 5
}
