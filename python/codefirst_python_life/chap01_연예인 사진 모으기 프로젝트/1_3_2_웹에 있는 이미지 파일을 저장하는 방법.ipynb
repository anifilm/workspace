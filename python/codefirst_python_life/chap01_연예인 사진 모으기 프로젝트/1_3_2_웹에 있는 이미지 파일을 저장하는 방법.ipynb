{
 "cells": [
  {
   "cell_type": "code",
   "execution_count": 2,
   "id": "ea6fb397",
   "metadata": {},
   "outputs": [],
   "source": [
    "import requests"
   ]
  },
  {
   "cell_type": "code",
   "execution_count": 3,
   "id": "06ef4777",
   "metadata": {},
   "outputs": [],
   "source": [
    "# 이미지가 있는 url 주소\n",
    "url = \"https://search1.kakaocdn.net/argon/600x0_65_wr/ImZk3b2X1w8\""
   ]
  },
  {
   "cell_type": "code",
   "execution_count": 4,
   "id": "4fc3af4a",
   "metadata": {},
   "outputs": [],
   "source": [
    "# 해당 url로 서버에 요청\n",
    "img_response = requests.get(url)"
   ]
  },
  {
   "cell_type": "code",
   "execution_count": 6,
   "id": "4b092883",
   "metadata": {},
   "outputs": [
    {
     "name": "stdout",
     "output_type": "stream",
     "text": [
      "[이미지 저장]\n"
     ]
    }
   ],
   "source": [
    "# 요청에 성공했다면,\n",
    "if img_response.status_code == 200:\n",
    "    print(\"[이미지 저장]\")\n",
    "    with open(\"test.jpg\", \"wb\") as fp:\n",
    "        fp.write(img_response.content)"
   ]
  }
 ],
 "metadata": {
  "kernelspec": {
   "display_name": "Python 3",
   "language": "python",
   "name": "python3"
  },
  "language_info": {
   "codemirror_mode": {
    "name": "ipython",
    "version": 3
   },
   "file_extension": ".py",
   "mimetype": "text/x-python",
   "name": "python",
   "nbconvert_exporter": "python",
   "pygments_lexer": "ipython3",
   "version": "3.8.8"
  }
 },
 "nbformat": 4,
 "nbformat_minor": 5
}
