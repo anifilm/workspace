{
 "cells": [
  {
   "cell_type": "code",
   "execution_count": null,
   "metadata": {},
   "outputs": [],
   "source": [
    "\"\"\" 04 리스트 컴프리헨션 \"\"\"\n"
   ]
  },
  {
   "cell_type": "code",
   "execution_count": null,
   "metadata": {},
   "outputs": [],
   "source": [
    "\"\"\" 리스트 생성 방법 \"\"\""
   ]
  },
  {
   "cell_type": "code",
   "execution_count": null,
   "metadata": {},
   "outputs": [],
   "source": [
    "r1 = [1, 2, 3]  # 리스트를 생성하는 가장 일반적인 방법\n",
    "r2 = []         # 빈 리스트를 생성하는 방법\n",
    "r3 = [1, 2, [3, 4]]  # 리스트가 포함된 리스트를 생성하는 방법"
   ]
  },
  {
   "cell_type": "code",
   "execution_count": null,
   "metadata": {},
   "outputs": [],
   "source": [
    "r4 = list(\"Hello\")    # 문자열을 전달해서 리스트를 생성\n",
    "r5 = list((5, 6, 7))  # 튜플을 전달해서 리스트를 생성\n",
    "r6 = list(range(0, 5))  # 레인지를 전달해서 리스트를 생성"
   ]
  },
  {
   "cell_type": "code",
   "execution_count": 1,
   "metadata": {},
   "outputs": [
    {
     "data": {
      "text/plain": [
       "[2, 4, 6, 8, 10]"
      ]
     },
     "execution_count": 1,
     "metadata": {},
     "output_type": "execute_result"
    }
   ],
   "source": [
    "# [1, 2, 3, 4, 5]의 모든 값을 두 배씩 증가시킨 값을 지니는 리스트를 만들어라\n",
    "r1 = [1, 2, 3, 4, 5]\n",
    "r2 = []  # 일단 빈 리스트를 생성하고\n",
    "for i in r1:\n",
    "    r2.append(i * 2)  # 두 배씩 증가시켜서 리스트 r2에 저장\n",
    "\n",
    "r2"
   ]
  },
  {
   "cell_type": "code",
   "execution_count": 2,
   "metadata": {},
   "outputs": [
    {
     "data": {
      "text/plain": [
       "[2, 4, 6, 8, 10]"
      ]
     },
     "execution_count": 2,
     "metadata": {},
     "output_type": "execute_result"
    }
   ],
   "source": [
    "# 리스트 컴프리헨션(Comprehansion)을 통한 리스트 생성\n",
    "r1 = [1, 2, 3, 4, 5]\n",
    "r2 = [x * 2 for x in r1]  # 리스트 컴프리헨션의 기본 구조\n",
    "r2"
   ]
  },
  {
   "cell_type": "code",
   "execution_count": 3,
   "metadata": {},
   "outputs": [
    {
     "data": {
      "text/plain": [
       "[11, 12, 13, 14, 15]"
      ]
     },
     "execution_count": 3,
     "metadata": {},
     "output_type": "execute_result"
    }
   ],
   "source": [
    "# [1, 2, 3, 4, 5]의 모든 값을 10씩 증가시킨 값을 지니는 리스트를 만들어라.\n",
    "r1 = [1, 2, 3, 4, 5]\n",
    "r2 = [x + 10 for x in r1]\n",
    "r2"
   ]
  },
  {
   "cell_type": "code",
   "execution_count": null,
   "metadata": {},
   "outputs": [],
   "source": [
    "\"\"\" 조건 필터 추가하기 \"\"\""
   ]
  },
  {
   "cell_type": "code",
   "execution_count": 4,
   "metadata": {},
   "outputs": [
    {
     "data": {
      "text/plain": [
       "[2, 6, 10]"
      ]
     },
     "execution_count": 4,
     "metadata": {},
     "output_type": "execute_result"
    }
   ],
   "source": [
    "r1 = [1, 2, 3, 4, 5]\n",
    "r2 = []\n",
    "for i in r1:\n",
    "    if i % 2:  # i가 홀수인 경우에만 아래 문장 실행\n",
    "        r2.append(i * 2)  # i * 2의 결과를 리스트에 담는다.\n",
    "\n",
    "r2"
   ]
  },
  {
   "cell_type": "code",
   "execution_count": 5,
   "metadata": {},
   "outputs": [
    {
     "data": {
      "text/plain": [
       "[2, 6, 10]"
      ]
     },
     "execution_count": 5,
     "metadata": {},
     "output_type": "execute_result"
    }
   ],
   "source": [
    "r1 = [1, 2, 3, 4, 5]\n",
    "r2 = [x * 2 for x in r1 if x % 2]  # if문이 추가된 리스트 컴프리헨션\n",
    "r2"
   ]
  },
  {
   "cell_type": "code",
   "execution_count": null,
   "metadata": {},
   "outputs": [],
   "source": [
    "\"\"\" 리스트 컴프리헨션에 for 한번 더 들어가는 경우 \"\"\""
   ]
  },
  {
   "cell_type": "code",
   "execution_count": 6,
   "metadata": {},
   "outputs": [
    {
     "data": {
      "text/plain": [
       "['BlackRed', 'BlackBlue', 'BlackGreen', 'WhiteRed', 'WhiteBlue', 'WhiteGreen']"
      ]
     },
     "execution_count": 6,
     "metadata": {},
     "output_type": "execute_result"
    }
   ],
   "source": [
    "r1 = ['Black', 'White']\n",
    "r2 = ['Red', 'Blue', 'Green']\n",
    "r3 = []\n",
    "for t in r1:\n",
    "    for p in r2:\n",
    "        r3.append(t + p)\n",
    "        \n",
    "r3"
   ]
  },
  {
   "cell_type": "code",
   "execution_count": 8,
   "metadata": {},
   "outputs": [
    {
     "data": {
      "text/plain": [
       "['BlackRed', 'BlackBlue', 'BlackGreen', 'WhiteRed', 'WhiteBlue', 'WhiteGreen']"
      ]
     },
     "execution_count": 8,
     "metadata": {},
     "output_type": "execute_result"
    }
   ],
   "source": [
    "r1 = ['Black', 'White']\n",
    "r2 = ['Red', 'Blue', 'Green']\n",
    "r3 = [t + p for t in r1 for p in r2]  # 중첩된 for 루프 형태의 리스트 컴프리헨션\n",
    "r3"
   ]
  },
  {
   "cell_type": "code",
   "execution_count": 10,
   "metadata": {},
   "outputs": [
    {
     "name": "stdout",
     "output_type": "stream",
     "text": [
      "[2, 4, 6, 8, 10, 12, 14, 16, 18, 3, 6, 9, 12, 15, 18, 21, 24, 27, 4, 8, 12, 16, 20, 24, 28, 32, 36, 5, 10, 15, 20, 25, 30, 35, 40, 45, 6, 12, 18, 24, 30, 36, 42, 48, 54, 7, 14, 21, 28, 35, 42, 49, 56, 63, 8, 16, 24, 32, 40, 48, 56, 64, 72, 9, 18, 27, 36, 45, 54, 63, 72, 81]\n"
     ]
    }
   ],
   "source": [
    "# 구구단의 모든 결과를 리스트에 담는다.\n",
    "r = [n * m for n in range(2, 10) for m in range(1, 10)]\n",
    "print(r)"
   ]
  },
  {
   "cell_type": "code",
   "execution_count": null,
   "metadata": {},
   "outputs": [],
   "source": [
    "\"\"\" 이중 for 루프에 조건 필터 추가 \"\"\""
   ]
  },
  {
   "cell_type": "code",
   "execution_count": 12,
   "metadata": {},
   "outputs": [
    {
     "name": "stdout",
     "output_type": "stream",
     "text": [
      "[2, 4, 6, 8, 10, 12, 14, 16, 18, 6, 12, 18, 24, 4, 8, 12, 16, 20, 24, 28, 32, 36, 10, 20, 30, 40, 6, 12, 18, 24, 30, 36, 42, 48, 54, 14, 28, 42, 56, 8, 16, 24, 32, 40, 48, 56, 64, 72, 18, 36, 54, 72]\n"
     ]
    }
   ],
   "source": [
    "# 구구단의 결과를 담는 리스트를 만드는 과정에서 그 결과가 짝수인 값들만 리스트에 포함시킨 예\n",
    "r = [n * m for n in range(2, 10) for m in range(1, 10) if (n * m) % 2 == 0]\n",
    "print(r)"
   ]
  }
 ],
 "metadata": {
  "kernelspec": {
   "display_name": "Python 3",
   "language": "python",
   "name": "python3"
  },
  "language_info": {
   "codemirror_mode": {
    "name": "ipython",
    "version": 3
   },
   "file_extension": ".py",
   "mimetype": "text/x-python",
   "name": "python",
   "nbconvert_exporter": "python",
   "pygments_lexer": "ipython3",
   "version": "3.8.5"
  }
 },
 "nbformat": 4,
 "nbformat_minor": 4
}
