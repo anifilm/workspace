{
 "cells": [
  {
   "cell_type": "code",
   "execution_count": null,
   "metadata": {},
   "outputs": [],
   "source": [
    "\"\"\" 11 튜플의 패킹과 언패킹 \"\"\""
   ]
  },
  {
   "cell_type": "code",
   "execution_count": null,
   "metadata": {},
   "outputs": [],
   "source": [
    "\"\"\" 패킹과 언패킹 \"\"\"\n",
    "\n",
    "# 튜플 패킹     하나 이상의 값을 튜플로 묶는 행위\n",
    "# 튜플 언패킹   튜플에 묶여 있는 값들을 풀어내는 행위"
   ]
  },
  {
   "cell_type": "code",
   "execution_count": 1,
   "metadata": {},
   "outputs": [
    {
     "data": {
      "text/plain": [
       "(12, 15)"
      ]
     },
     "execution_count": 1,
     "metadata": {},
     "output_type": "execute_result"
    }
   ],
   "source": [
    "# 튜플 패킹\n",
    "tri_one = (12, 15)  # 밑변 길이 12와 높이 길이 15를 묶어 놓은 것\n",
    "tri_one"
   ]
  },
  {
   "cell_type": "code",
   "execution_count": 2,
   "metadata": {},
   "outputs": [
    {
     "data": {
      "text/plain": [
       "(23, 21)"
      ]
     },
     "execution_count": 2,
     "metadata": {},
     "output_type": "execute_result"
    }
   ],
   "source": [
    "tri_two = 23, 21  # 사실 튜플 패킹은 소괄호가 없어도 된다.\n",
    "tri_two"
   ]
  },
  {
   "cell_type": "code",
   "execution_count": 3,
   "metadata": {},
   "outputs": [
    {
     "name": "stdout",
     "output_type": "stream",
     "text": [
      "12 25\n"
     ]
    }
   ],
   "source": [
    "# 튜플 언패킹 (튜플에 저장된 값의 수와 이를 저장할 변수의 수가 일치해야 한다.)\n",
    "tri_three = (12, 25)\n",
    "bt, ht = tri_three  # 튜플 언패킹\n",
    "print(bt, ht)"
   ]
  },
  {
   "cell_type": "code",
   "execution_count": 4,
   "metadata": {},
   "outputs": [],
   "source": [
    "# 다음과 같이 언패킹 과정에서 둘 이상의 값을 리스트로 묶어서 하나의 변수에 저장하는 것도 가능\n",
    "nums = (1, 2, 3, 4, 5)\n",
    "n1, n2, *others = nums  # 둘 이상의 값을 리스트로 묶을 때 *를 사용한다."
   ]
  },
  {
   "cell_type": "code",
   "execution_count": 5,
   "metadata": {},
   "outputs": [
    {
     "data": {
      "text/plain": [
       "1"
      ]
     },
     "execution_count": 5,
     "metadata": {},
     "output_type": "execute_result"
    }
   ],
   "source": [
    "n1"
   ]
  },
  {
   "cell_type": "code",
   "execution_count": 6,
   "metadata": {},
   "outputs": [
    {
     "data": {
      "text/plain": [
       "2"
      ]
     },
     "execution_count": 6,
     "metadata": {},
     "output_type": "execute_result"
    }
   ],
   "source": [
    "n2"
   ]
  },
  {
   "cell_type": "code",
   "execution_count": 7,
   "metadata": {},
   "outputs": [
    {
     "data": {
      "text/plain": [
       "[3, 4, 5]"
      ]
     },
     "execution_count": 7,
     "metadata": {},
     "output_type": "execute_result"
    }
   ],
   "source": [
    "others  # 이렇듯 튜플이 아닌 리스트로 묶인다는 사실을 기억하자."
   ]
  },
  {
   "cell_type": "code",
   "execution_count": 8,
   "metadata": {},
   "outputs": [],
   "source": [
    "# 중간의 값들을 리스트로 묶을 수도 있고,\n",
    "nums = (1, 2, 3, 4, 5)\n",
    "first, *others, last = nums  # 일부를 리스트로 묶을 때 *를 사용한다."
   ]
  },
  {
   "cell_type": "code",
   "execution_count": 9,
   "metadata": {},
   "outputs": [
    {
     "data": {
      "text/plain": [
       "1"
      ]
     },
     "execution_count": 9,
     "metadata": {},
     "output_type": "execute_result"
    }
   ],
   "source": [
    "first"
   ]
  },
  {
   "cell_type": "code",
   "execution_count": 10,
   "metadata": {},
   "outputs": [
    {
     "data": {
      "text/plain": [
       "[2, 3, 4]"
      ]
     },
     "execution_count": 10,
     "metadata": {},
     "output_type": "execute_result"
    }
   ],
   "source": [
    "others"
   ]
  },
  {
   "cell_type": "code",
   "execution_count": 11,
   "metadata": {},
   "outputs": [
    {
     "data": {
      "text/plain": [
       "5"
      ]
     },
     "execution_count": 11,
     "metadata": {},
     "output_type": "execute_result"
    }
   ],
   "source": [
    "last"
   ]
  },
  {
   "cell_type": "code",
   "execution_count": 13,
   "metadata": {},
   "outputs": [],
   "source": [
    "# 앞에 위치한 값을 묶을 수도 있다.\n",
    "nums = (1, 2, 3, 4, 5)\n",
    "*others, n1, n2 = nums  # 일부를 리스트로 묶을 때 *를 사용한다."
   ]
  },
  {
   "cell_type": "code",
   "execution_count": 14,
   "metadata": {},
   "outputs": [
    {
     "data": {
      "text/plain": [
       "[1, 2, 3]"
      ]
     },
     "execution_count": 14,
     "metadata": {},
     "output_type": "execute_result"
    }
   ],
   "source": [
    "others"
   ]
  },
  {
   "cell_type": "code",
   "execution_count": 15,
   "metadata": {},
   "outputs": [
    {
     "data": {
      "text/plain": [
       "4"
      ]
     },
     "execution_count": 15,
     "metadata": {},
     "output_type": "execute_result"
    }
   ],
   "source": [
    "n1"
   ]
  },
  {
   "cell_type": "code",
   "execution_count": 16,
   "metadata": {},
   "outputs": [
    {
     "data": {
      "text/plain": [
       "5"
      ]
     },
     "execution_count": 16,
     "metadata": {},
     "output_type": "execute_result"
    }
   ],
   "source": [
    "n2"
   ]
  },
  {
   "cell_type": "code",
   "execution_count": 17,
   "metadata": {},
   "outputs": [],
   "source": [
    "# 언패킹은 튜플만이 아니라 리스트를 대상으로도 동일하게 동작한다.\n",
    "num2 = [1, 2, 3, 4, 5]\n",
    "n1, n2, *others = nums  # 리스트도 언패킹 됨"
   ]
  },
  {
   "cell_type": "code",
   "execution_count": 18,
   "metadata": {},
   "outputs": [
    {
     "data": {
      "text/plain": [
       "1"
      ]
     },
     "execution_count": 18,
     "metadata": {},
     "output_type": "execute_result"
    }
   ],
   "source": [
    "n1"
   ]
  },
  {
   "cell_type": "code",
   "execution_count": 19,
   "metadata": {},
   "outputs": [
    {
     "data": {
      "text/plain": [
       "2"
      ]
     },
     "execution_count": 19,
     "metadata": {},
     "output_type": "execute_result"
    }
   ],
   "source": [
    "n2"
   ]
  },
  {
   "cell_type": "code",
   "execution_count": 20,
   "metadata": {},
   "outputs": [
    {
     "data": {
      "text/plain": [
       "[3, 4, 5]"
      ]
     },
     "execution_count": 20,
     "metadata": {},
     "output_type": "execute_result"
    }
   ],
   "source": [
    "others"
   ]
  },
  {
   "cell_type": "code",
   "execution_count": null,
   "metadata": {},
   "outputs": [],
   "source": [
    "\"\"\" 함수 호출 및 반환 과정에서의 패킹과 언패킹 \"\"\""
   ]
  },
  {
   "cell_type": "code",
   "execution_count": 21,
   "metadata": {},
   "outputs": [],
   "source": [
    "# 패킹과 언패킹은 함수의 호출과 반환 과정에서도 사용할 수 있다.\n",
    "def ret_nums():\n",
    "    return 1, 2, 3, 4, 5  # 튜플의 소괄호가 생략된 형태이다. 즉 패킹되어 반환 됨"
   ]
  },
  {
   "cell_type": "code",
   "execution_count": 22,
   "metadata": {},
   "outputs": [
    {
     "data": {
      "text/plain": [
       "(1, 2, 3, 4, 5)"
      ]
     },
     "execution_count": 22,
     "metadata": {},
     "output_type": "execute_result"
    }
   ],
   "source": [
    "nums = ret_nums()\n",
    "nums"
   ]
  },
  {
   "cell_type": "code",
   "execution_count": 23,
   "metadata": {},
   "outputs": [],
   "source": [
    "# 함수의 반환 값을 다음과 같이 저장할 수도 있다.\n",
    "n, *others = ret_nums()  # 반환되는 값이 언패킹 되어 변수들에 저장"
   ]
  },
  {
   "cell_type": "code",
   "execution_count": 24,
   "metadata": {},
   "outputs": [
    {
     "data": {
      "text/plain": [
       "1"
      ]
     },
     "execution_count": 24,
     "metadata": {},
     "output_type": "execute_result"
    }
   ],
   "source": [
    "n"
   ]
  },
  {
   "cell_type": "code",
   "execution_count": 25,
   "metadata": {},
   "outputs": [
    {
     "data": {
      "text/plain": [
       "[2, 3, 4, 5]"
      ]
     },
     "execution_count": 25,
     "metadata": {},
     "output_type": "execute_result"
    }
   ],
   "source": [
    "others  # 리스트로 묶였다."
   ]
  },
  {
   "cell_type": "code",
   "execution_count": 34,
   "metadata": {},
   "outputs": [],
   "source": [
    "# 다음과 같은 형태의 매개변수 선언도 가능\n",
    "def show_nums(n1, n2, *other):  # 세 번째 이후 값들은 튜플로 묶여 other에 저장\n",
    "    print(n1, n2, other, sep = ', ')"
   ]
  },
  {
   "cell_type": "code",
   "execution_count": 35,
   "metadata": {},
   "outputs": [
    {
     "name": "stdout",
     "output_type": "stream",
     "text": [
      "1, 2, (3, 4)\n"
     ]
    }
   ],
   "source": [
    "show_nums(1, 2, 3, 4)"
   ]
  },
  {
   "cell_type": "code",
   "execution_count": 36,
   "metadata": {},
   "outputs": [
    {
     "name": "stdout",
     "output_type": "stream",
     "text": [
      "1, 2, (3, 4, 5)\n"
     ]
    }
   ],
   "source": [
    "show_nums(1, 2, 3, 4, 5)"
   ]
  },
  {
   "cell_type": "code",
   "execution_count": 29,
   "metadata": {},
   "outputs": [],
   "source": [
    "# 위와 같이 매개변수 앞에 *가 오면 이는 다음을 의미한다.\n",
    "# \"나머지 값들은 튜플로 묶어서 이 변수에 저장하겠다.\""
   ]
  },
  {
   "cell_type": "code",
   "execution_count": 30,
   "metadata": {},
   "outputs": [],
   "source": [
    "# 그래서 다음과 같이 전달되는 값의 수에 상관없이 모든 정수의 합을 계산해서 반환하는 함수도 만들 수 있다.\n",
    "def sum(*nums):  # 전달되는 모든 값들을 하나의 튜플로 묶어서 nums에 저장\n",
    "    s = 0\n",
    "    for i in nums:\n",
    "        s += i\n",
    "    return s"
   ]
  },
  {
   "cell_type": "code",
   "execution_count": 31,
   "metadata": {},
   "outputs": [
    {
     "data": {
      "text/plain": [
       "6"
      ]
     },
     "execution_count": 31,
     "metadata": {},
     "output_type": "execute_result"
    }
   ],
   "source": [
    "sum(1, 2, 3)"
   ]
  },
  {
   "cell_type": "code",
   "execution_count": 32,
   "metadata": {},
   "outputs": [
    {
     "data": {
      "text/plain": [
       "10"
      ]
     },
     "execution_count": 32,
     "metadata": {},
     "output_type": "execute_result"
    }
   ],
   "source": [
    "sum(1, 2, 3, 4)"
   ]
  },
  {
   "cell_type": "code",
   "execution_count": 33,
   "metadata": {},
   "outputs": [
    {
     "data": {
      "text/plain": [
       "15"
      ]
     },
     "execution_count": 33,
     "metadata": {},
     "output_type": "execute_result"
    }
   ],
   "source": [
    "sum(1, 2, 3, 4, 5)"
   ]
  },
  {
   "cell_type": "code",
   "execution_count": 38,
   "metadata": {},
   "outputs": [],
   "source": [
    "# 반면 다음과 같이 '함수를 호출할 때 *가 사용되면' 이는 튜플 언패킹으로 이어진다.\n",
    "# 이렇듯 *은 사용되는 위치에 따라서 패킹을 의미하기도 하고 언패킹을 의미하기도 한다.\n",
    "def show_man(name, age, height):\n",
    "    print(name, age, height, sep = ', ')"
   ]
  },
  {
   "cell_type": "code",
   "execution_count": 39,
   "metadata": {},
   "outputs": [
    {
     "name": "stdout",
     "output_type": "stream",
     "text": [
      "Yoon, 22, 180\n"
     ]
    }
   ],
   "source": [
    "p = (\"Yoon\", 22, 180)  # 180cm의 22세 Yoon군\n",
    "show_man(*p)  # p에 담긴 값을 풀어서 각각의 매개변수에 전달!"
   ]
  },
  {
   "cell_type": "code",
   "execution_count": 40,
   "metadata": {},
   "outputs": [
    {
     "name": "stdout",
     "output_type": "stream",
     "text": [
      "Park, 21, 177\n"
     ]
    }
   ],
   "source": [
    "# 위의 함수 호출 과정에서 보인 언패킹은 리스트를 대상으로도 동작한다.\n",
    "p = [\"Park\", 21, 177]\n",
    "show_man(*p)  # 리스트를 전달하는데 *을 붙인 상황"
   ]
  },
  {
   "cell_type": "code",
   "execution_count": 41,
   "metadata": {},
   "outputs": [
    {
     "name": "stdout",
     "output_type": "stream",
     "text": [
      "1, 2, 3, 4\n"
     ]
    }
   ],
   "source": [
    "# 튜플 안에 또 다른 튜플이 존재하는 경우의 언패킹 방법\n",
    "t = (1, 2, (3, 4))  # 튜플 안에 튜플이 있다.\n",
    "a, b, (c, d) = t  # 튜플 안의 값의 구조와 동일한 형태로 변수를 선언\n",
    "print(a, b,c, d, sep = ', ')"
   ]
  },
  {
   "cell_type": "code",
   "execution_count": 42,
   "metadata": {},
   "outputs": [
    {
     "name": "stdout",
     "output_type": "stream",
     "text": [
      "Hong 178\n"
     ]
    }
   ],
   "source": [
    "# 일부 값만 출력하는 경우\n",
    "p = \"Hong\", (32, 178), \"010-1234-56XX\", \"Korea\"  # 튜플에 소괄호 생략\n",
    "na, (ag, he), ph, ad = p\n",
    "print(na, he)"
   ]
  },
  {
   "cell_type": "code",
   "execution_count": 43,
   "metadata": {},
   "outputs": [
    {
     "name": "stdout",
     "output_type": "stream",
     "text": [
      "Hong 178\n"
     ]
    }
   ],
   "source": [
    "# 일부 값만 출력하는 경우 2\n",
    "na, (_, he), _, _ = p  # 불필요한 정보는 '_'를 사용하여 생략할 수 있다.\n",
    "print(na, he)"
   ]
  },
  {
   "cell_type": "code",
   "execution_count": null,
   "metadata": {},
   "outputs": [],
   "source": [
    "\"\"\" for 루프에서의 언패킹 \"\"\""
   ]
  },
  {
   "cell_type": "code",
   "execution_count": 45,
   "metadata": {},
   "outputs": [
    {
     "name": "stdout",
     "output_type": "stream",
     "text": [
      "Lee, 172\n",
      "Jung, 182\n",
      "Yoon, 179\n"
     ]
    }
   ],
   "source": [
    "ps = [(\"Lee\", 172), (\"Jung\", 182), (\"Yoon\", 179)]  # 리스트에 담긴 튜플\n",
    "for n, h in ps:\n",
    "    print(n, h, sep = ', ')"
   ]
  },
  {
   "cell_type": "code",
   "execution_count": 46,
   "metadata": {},
   "outputs": [
    {
     "name": "stdout",
     "output_type": "stream",
     "text": [
      "Lee, 172\n",
      "Jung, 182\n",
      "Yoon, 179\n"
     ]
    }
   ],
   "source": [
    "ps = ([\"Lee\", 172], [\"Jung\", 182], [\"Yoon\", 179])  # 튜플에 담긴 리스트\n",
    "for n, h in ps:\n",
    "    print(n, h, sep = ', ')"
   ]
  }
 ],
 "metadata": {
  "kernelspec": {
   "display_name": "Python 3",
   "language": "python",
   "name": "python3"
  },
  "language_info": {
   "codemirror_mode": {
    "name": "ipython",
    "version": 3
   },
   "file_extension": ".py",
   "mimetype": "text/x-python",
   "name": "python",
   "nbconvert_exporter": "python",
   "pygments_lexer": "ipython3",
   "version": "3.8.3"
  }
 },
 "nbformat": 4,
 "nbformat_minor": 4
}
