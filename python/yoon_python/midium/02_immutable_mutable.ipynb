{
 "cells": [
  {
   "cell_type": "code",
   "execution_count": null,
   "metadata": {},
   "outputs": [],
   "source": [
    "\"\"\" 02 수정 가능한 객체와 수정 불가능한 객체 \"\"\""
   ]
  },
  {
   "cell_type": "code",
   "execution_count": null,
   "metadata": {},
   "outputs": [],
   "source": [
    "# 객체가 지닌(객체에 저장된) 값의 수정이 불가능한 객체를 가리켜 'immutable 객체'라 하며 대표적인\n",
    "# 예로 튜플과 문자열이 있다.\n",
    "# 반면 객체가 지닌 값의 수정이 가능한 객체를 가리켜 'mutable 객체'라 하며 대표적인 예로 리스트와\n",
    "# 딕셔너리가 있다.\n",
    "# 즉 다음 예에서 보이듯이 리스트는 지니고 있는 값을 수정할 수 있다."
   ]
  },
  {
   "cell_type": "code",
   "execution_count": 1,
   "metadata": {},
   "outputs": [
    {
     "data": {
      "text/plain": [
       "1928152189184"
      ]
     },
     "execution_count": 1,
     "metadata": {},
     "output_type": "execute_result"
    }
   ],
   "source": [
    "r = [1, 2]\n",
    "id(r)  # 리스트의 주소 정보 확인"
   ]
  },
  {
   "cell_type": "code",
   "execution_count": 2,
   "metadata": {},
   "outputs": [
    {
     "data": {
      "text/plain": [
       "[1, 2, 3, 4]"
      ]
     },
     "execution_count": 2,
     "metadata": {},
     "output_type": "execute_result"
    }
   ],
   "source": [
    "r += [3, 4]  # 리스트에 값을 추가한다.\n",
    "r"
   ]
  },
  {
   "cell_type": "code",
   "execution_count": 3,
   "metadata": {},
   "outputs": [
    {
     "data": {
      "text/plain": [
       "1928152189184"
      ]
     },
     "execution_count": 3,
     "metadata": {},
     "output_type": "execute_result"
    }
   ],
   "source": [
    "id(r)  # 리스트의 주소가 바뀌지 않았음을 확인"
   ]
  },
  {
   "cell_type": "code",
   "execution_count": 4,
   "metadata": {},
   "outputs": [],
   "source": [
    "# 그러나 튜플은 값을 수정할 수 없다. 따라서 튜플에 저장된 값을 수정하게 되면 다음 예에서 보이듯이\n",
    "# 새로운 튜플이 만들어진다."
   ]
  },
  {
   "cell_type": "code",
   "execution_count": 5,
   "metadata": {},
   "outputs": [
    {
     "data": {
      "text/plain": [
       "1928152165888"
      ]
     },
     "execution_count": 5,
     "metadata": {},
     "output_type": "execute_result"
    }
   ],
   "source": [
    "t = (1, 2)\n",
    "id(t)  # 튜플의 주소 정보 확인"
   ]
  },
  {
   "cell_type": "code",
   "execution_count": 6,
   "metadata": {},
   "outputs": [
    {
     "data": {
      "text/plain": [
       "(1, 2, 3, 4)"
      ]
     },
     "execution_count": 6,
     "metadata": {},
     "output_type": "execute_result"
    }
   ],
   "source": [
    "t += (3, 4)  # 이때 새로운 튜플이 만들어진다.\n",
    "t"
   ]
  },
  {
   "cell_type": "code",
   "execution_count": 7,
   "metadata": {},
   "outputs": [
    {
     "data": {
      "text/plain": [
       "1928152737328"
      ]
     },
     "execution_count": 7,
     "metadata": {},
     "output_type": "execute_result"
    }
   ],
   "source": [
    "id(t)  # t에 저장된 튜플이 바뀌었음을 확인"
   ]
  },
  {
   "cell_type": "code",
   "execution_count": null,
   "metadata": {},
   "outputs": [],
   "source": [
    "\"\"\" 성격에 따라 달라지는 함수의 정의 \"\"\""
   ]
  },
  {
   "cell_type": "code",
   "execution_count": 8,
   "metadata": {},
   "outputs": [],
   "source": [
    "# 그럼 이어서 다음 함수를 보자.\n",
    "def add_last(m, n):\n",
    "    m += n  # m에 n의 내용을 추가한다."
   ]
  },
  {
   "cell_type": "code",
   "execution_count": 9,
   "metadata": {},
   "outputs": [
    {
     "data": {
      "text/plain": [
       "[1, 2, 3, 4]"
      ]
     },
     "execution_count": 9,
     "metadata": {},
     "output_type": "execute_result"
    }
   ],
   "source": [
    "# 이는 다음과 같이 리스트에 값을 추가할 때 사용하기 위해서 만든 함수이다. 그리고 그 목적에 맞게 잘\n",
    "# 동작한다.\n",
    "r = [1, 2]\n",
    "add_last(r, [3, 4])  # 리스트 r에 3과 4를 추가\n",
    "r"
   ]
  },
  {
   "cell_type": "code",
   "execution_count": 10,
   "metadata": {},
   "outputs": [
    {
     "data": {
      "text/plain": [
       "(1, 3)"
      ]
     },
     "execution_count": 10,
     "metadata": {},
     "output_type": "execute_result"
    }
   ],
   "source": [
    "# 그런데 이를 보고 이 함수가 튜플을 대상으로도 잘 동작할 것으로 기대하면 안 된다. 튜플을 대상으로\n",
    "# 위의 함수를 호출하면 다음과 같이 엉뚱한 결과를 얻게 된다.\n",
    "t = (1, 3)\n",
    "add_last(t, (5, 7))  # 튜플 t에 5와 7이 추가될 것을 기대한다.\n",
    "t  #튜플에 5와 7이 추가되지 않았다."
   ]
  },
  {
   "cell_type": "code",
   "execution_count": 11,
   "metadata": {},
   "outputs": [
    {
     "data": {
      "text/plain": [
       "(1, 3, 5, 7)"
      ]
     },
     "execution_count": 11,
     "metadata": {},
     "output_type": "execute_result"
    }
   ],
   "source": [
    "# 튜플에 값을 추가한 결과를 얻는 함수는 다음과 같이 만들어서 사용해야 한다.\n",
    "def add_tuple(t1, t2):\n",
    "    t1 += t2   # += 결과로 만들어진 새로운 튜플이 t1에 저장된다.\n",
    "    return t1  # 새로 만들어진 튜플을 반환\n",
    "\n",
    "tp = (1, 3)\n",
    "tp = add_tuple(tp, (5, 7))\n",
    "tp"
   ]
  },
  {
   "cell_type": "code",
   "execution_count": 12,
   "metadata": {},
   "outputs": [
    {
     "name": "stdout",
     "output_type": "stream",
     "text": [
      "1, 5\n"
     ]
    }
   ],
   "source": [
    "# 이 예의 min_max 함수는 리스트를 대상으로 정의된 함수이다. 이 함수에 리스트가 전달되면 그 리스트에\n",
    "# 저장된 가장 큰 값과 가장 작은 값을 출력하는데, 이를 위해서 리스트의 정렬과정을 거친다.\n",
    "def min_max(d):\n",
    "    d.sort()  # 리스트를 오름차순으로 정렬\n",
    "    print(d[0], d[-1], sep = ', ')  # 맨 앞의 값과 마지막 값을 출력\n",
    "    \n",
    "l = [3, 1, 5, 4]\n",
    "min_max(l)"
   ]
  },
  {
   "cell_type": "code",
   "execution_count": 13,
   "metadata": {},
   "outputs": [
    {
     "data": {
      "text/plain": [
       "[1, 3, 4, 5]"
      ]
     },
     "execution_count": 13,
     "metadata": {},
     "output_type": "execute_result"
    }
   ],
   "source": [
    "l  # 원본의 저장 순서가 변경되었다."
   ]
  },
  {
   "cell_type": "code",
   "execution_count": 14,
   "metadata": {},
   "outputs": [
    {
     "name": "stdout",
     "output_type": "stream",
     "text": [
      "1, 5\n"
     ]
    }
   ],
   "source": [
    "# 따라서 이러한 상황을 원치 않으면 함수내에서 리스트를 복사한 다음에 정렬을 진행해야 한다.\n",
    "def min_max2(d):\n",
    "    d = list(d)  # d의 내용이 담긴 새로운 리스트 생성\n",
    "    d.sort()  # 원본이 아닌 복사본을 정렬한다.\n",
    "    print(d[0], d[-1], sep = ', ')\n",
    "\n",
    "l = [3, 1, 5, 4]\n",
    "min_max2(l)    "
   ]
  },
  {
   "cell_type": "code",
   "execution_count": 15,
   "metadata": {},
   "outputs": [
    {
     "data": {
      "text/plain": [
       "[3, 1, 5, 4]"
      ]
     },
     "execution_count": 15,
     "metadata": {},
     "output_type": "execute_result"
    }
   ],
   "source": [
    "l  # 원본이 수정되지 않았다."
   ]
  },
  {
   "cell_type": "code",
   "execution_count": 16,
   "metadata": {},
   "outputs": [
    {
     "name": "stdout",
     "output_type": "stream",
     "text": [
      "0, 9\n"
     ]
    }
   ],
   "source": [
    "# 물론 위의 함수는 튜플을 대상으로도 잘 동작한다.\n",
    "t = (2, 7, 5, 9, 0)\n",
    "min_max2(t)"
   ]
  },
  {
   "cell_type": "code",
   "execution_count": 17,
   "metadata": {},
   "outputs": [
    {
     "data": {
      "text/plain": [
       "(2, 7, 5, 9, 0)"
      ]
     },
     "execution_count": 17,
     "metadata": {},
     "output_type": "execute_result"
    }
   ],
   "source": [
    "t"
   ]
  }
 ],
 "metadata": {
  "kernelspec": {
   "display_name": "Python 3",
   "language": "python",
   "name": "python3"
  },
  "language_info": {
   "codemirror_mode": {
    "name": "ipython",
    "version": 3
   },
   "file_extension": ".py",
   "mimetype": "text/x-python",
   "name": "python",
   "nbconvert_exporter": "python",
   "pygments_lexer": "ipython3",
   "version": "3.8.3"
  }
 },
 "nbformat": 4,
 "nbformat_minor": 4
}
