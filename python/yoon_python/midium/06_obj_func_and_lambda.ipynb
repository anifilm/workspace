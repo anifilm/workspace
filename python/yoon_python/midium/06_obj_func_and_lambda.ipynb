{
 "cells": [
  {
   "cell_type": "code",
   "execution_count": null,
   "metadata": {},
   "outputs": [],
   "source": [
    "\"\"\" 06 객체처럼 다뤄지는 함수 그리고 람다 \"\"\""
   ]
  },
  {
   "cell_type": "code",
   "execution_count": null,
   "metadata": {},
   "outputs": [],
   "source": [
    "\"\"\" 파이썬에서는 함수도 객체 \"\"\""
   ]
  },
  {
   "cell_type": "code",
   "execution_count": null,
   "metadata": {},
   "outputs": [],
   "source": [
    "# 파이썬은 모든 것을 객체로 처리한다. 다음 예에서 보이듯이 정수나 실수도 객체이다."
   ]
  },
  {
   "cell_type": "code",
   "execution_count": 1,
   "metadata": {},
   "outputs": [
    {
     "data": {
      "text/plain": [
       "float"
      ]
     },
     "execution_count": 1,
     "metadata": {},
     "output_type": "execute_result"
    }
   ],
   "source": [
    "x = 3.0  # 실수 3.0\n",
    "type(x)  # 실수는 float형 클래스의 객체임을 확인한다."
   ]
  },
  {
   "cell_type": "code",
   "execution_count": 2,
   "metadata": {},
   "outputs": [
    {
     "data": {
      "text/plain": [
       "True"
      ]
     },
     "execution_count": 2,
     "metadata": {},
     "output_type": "execute_result"
    }
   ],
   "source": [
    "x.is_integer()  # 소수점 이하에 값이 있는지 묻는 메서드 호출"
   ]
  },
  {
   "cell_type": "code",
   "execution_count": 3,
   "metadata": {},
   "outputs": [],
   "source": [
    "# 파이썬은 함수도 객체로 처히한다. 다시 말해서 함수도 객체이다.\n",
    "def func1(n):  # 매개변수가 있고 값을 반환하는 함수\n",
    "    return n\n",
    "\n",
    "def func2():  # 매개변수 없고 값의 반환도 없는 함수\n",
    "    print(\"hello\")"
   ]
  },
  {
   "cell_type": "code",
   "execution_count": 4,
   "metadata": {},
   "outputs": [
    {
     "data": {
      "text/plain": [
       "function"
      ]
     },
     "execution_count": 4,
     "metadata": {},
     "output_type": "execute_result"
    }
   ],
   "source": [
    "type(func1)  # func1은 function 클래스의 객체임을 확인한다."
   ]
  },
  {
   "cell_type": "code",
   "execution_count": 5,
   "metadata": {},
   "outputs": [
    {
     "data": {
      "text/plain": [
       "function"
      ]
     },
     "execution_count": 5,
     "metadata": {},
     "output_type": "execute_result"
    }
   ],
   "source": [
    "type(func2)  # func2는 function 클래스의 객체임을 확인한다."
   ]
  },
  {
   "cell_type": "code",
   "execution_count": 6,
   "metadata": {},
   "outputs": [],
   "source": [
    "# 그렇다면 함수도 객체라는 사실이 의미하는 바는 무엇일까? 일단 다음과 같이 '매개변수에 함수를 전달할\n",
    "# 수 있음'을 의미한다.\n",
    "def say1():\n",
    "    print(\"hello\")\n",
    "\n",
    "def say2():\n",
    "    print(\"hi~\")\n",
    "    \n",
    "def caller(fct):\n",
    "    fct()  # fct를 통해 전달된 함수를 호출"
   ]
  },
  {
   "cell_type": "code",
   "execution_count": 7,
   "metadata": {},
   "outputs": [
    {
     "name": "stdout",
     "output_type": "stream",
     "text": [
      "hello\n"
     ]
    }
   ],
   "source": [
    "caller(say1)  # say1 함수를 caller에 전달"
   ]
  },
  {
   "cell_type": "code",
   "execution_count": 8,
   "metadata": {},
   "outputs": [
    {
     "name": "stdout",
     "output_type": "stream",
     "text": [
      "hi~\n"
     ]
    }
   ],
   "source": [
    "caller(say2)  # say2 함수를 caller에 전달"
   ]
  },
  {
   "cell_type": "code",
   "execution_count": 9,
   "metadata": {},
   "outputs": [],
   "source": [
    "# 그리고 다음과 같이 함수 내에서 '함수를 만들어서 이를 반환할 수 있다'는 것도 의미한다.\n",
    "def fct_fac(n):\n",
    "    def exp(x):  # 함수 내에서 정의된, x의 n제곱을 반환하는 함수\n",
    "        return x ** n\n",
    "    return exp   # 위에서 정의한 함수 exp를 반환한다. "
   ]
  },
  {
   "cell_type": "code",
   "execution_count": 11,
   "metadata": {},
   "outputs": [],
   "source": [
    "f2 = fct_fac(2)  # f2는 제곱을 계산해서 반환하는 함수를 참조한다.\n",
    "f3 = fct_fac(3)  # f3는 세제곱을 계산해서 반환하는 함수를 참조한다."
   ]
  },
  {
   "cell_type": "code",
   "execution_count": 12,
   "metadata": {},
   "outputs": [
    {
     "data": {
      "text/plain": [
       "16"
      ]
     },
     "execution_count": 12,
     "metadata": {},
     "output_type": "execute_result"
    }
   ],
   "source": [
    "f2(4)  # 4의 제곱은?"
   ]
  },
  {
   "cell_type": "code",
   "execution_count": 13,
   "metadata": {},
   "outputs": [
    {
     "data": {
      "text/plain": [
       "64"
      ]
     },
     "execution_count": 13,
     "metadata": {},
     "output_type": "execute_result"
    }
   ],
   "source": [
    "f3(4)  # 4의 세제곱은?"
   ]
  },
  {
   "cell_type": "code",
   "execution_count": null,
   "metadata": {},
   "outputs": [],
   "source": [
    "\"\"\" 람다 \"\"\""
   ]
  },
  {
   "cell_type": "code",
   "execution_count": 14,
   "metadata": {},
   "outputs": [
    {
     "name": "stdout",
     "output_type": "stream",
     "text": [
      "hi~\n"
     ]
    }
   ],
   "source": [
    "def show(s):\n",
    "    print(s)\n",
    "    \n",
    "ref = show  # show 함수를 ref가 참조하게 한다. 함수가 객체라 가능!\n",
    "ref('hi~')  # ref로 show 함수를 호출"
   ]
  },
  {
   "cell_type": "code",
   "execution_count": 15,
   "metadata": {},
   "outputs": [],
   "source": [
    "# 위의 예에서 보인 다음 문장으로 인해 사실장 show 함수에 ref라는 이름이 하나 더 붙게 된다."
   ]
  },
  {
   "cell_type": "code",
   "execution_count": 16,
   "metadata": {},
   "outputs": [
    {
     "name": "stdout",
     "output_type": "stream",
     "text": [
      "oh~\n"
     ]
    }
   ],
   "source": [
    "ref = lambda s: print(s)  # 람다 기반의 함수 정의\n",
    "ref('oh~')"
   ]
  },
  {
   "cell_type": "code",
   "execution_count": 17,
   "metadata": {},
   "outputs": [
    {
     "data": {
      "text/plain": [
       "7"
      ]
     },
     "execution_count": 17,
     "metadata": {},
     "output_type": "execute_result"
    }
   ],
   "source": [
    "f1 = lambda n1, n2: n1 + n2\n",
    "f1(3, 4)"
   ]
  },
  {
   "cell_type": "code",
   "execution_count": 18,
   "metadata": {},
   "outputs": [
    {
     "data": {
      "text/plain": [
       "6"
      ]
     },
     "execution_count": 18,
     "metadata": {},
     "output_type": "execute_result"
    }
   ],
   "source": [
    "f2 = lambda s: len(s)\n",
    "f2('simple')"
   ]
  },
  {
   "cell_type": "code",
   "execution_count": 19,
   "metadata": {},
   "outputs": [
    {
     "name": "stdout",
     "output_type": "stream",
     "text": [
      "yes~\n"
     ]
    }
   ],
   "source": [
    "f3 = lambda: print(\"yes~\")\n",
    "f3()"
   ]
  },
  {
   "cell_type": "code",
   "execution_count": 20,
   "metadata": {},
   "outputs": [],
   "source": [
    "# 람다식은 최대한 간단하게 작성하는 것이 좋다. 조금만 복잡해져도 이해하기 어려운 내용이 되기 때문이다.\n",
    "def fct_fac(n):  # 앞서 작성했던 fct_fac 함수의 람다식 버전\n",
    "    return lambda x: x ** n  # 람다식 기반으로 함수 만들어서 반환"
   ]
  },
  {
   "cell_type": "code",
   "execution_count": 21,
   "metadata": {},
   "outputs": [],
   "source": [
    "f2 = fct_fac(2)\n",
    "f3 = fct_fac(3)"
   ]
  },
  {
   "cell_type": "code",
   "execution_count": 22,
   "metadata": {},
   "outputs": [
    {
     "data": {
      "text/plain": [
       "16"
      ]
     },
     "execution_count": 22,
     "metadata": {},
     "output_type": "execute_result"
    }
   ],
   "source": [
    "f2(4)"
   ]
  },
  {
   "cell_type": "code",
   "execution_count": 24,
   "metadata": {},
   "outputs": [
    {
     "data": {
      "text/plain": [
       "64"
      ]
     },
     "execution_count": 24,
     "metadata": {},
     "output_type": "execute_result"
    }
   ],
   "source": [
    "f3(4)"
   ]
  }
 ],
 "metadata": {
  "kernelspec": {
   "display_name": "Python 3",
   "language": "python",
   "name": "python3"
  },
  "language_info": {
   "codemirror_mode": {
    "name": "ipython",
    "version": 3
   },
   "file_extension": ".py",
   "mimetype": "text/x-python",
   "name": "python",
   "nbconvert_exporter": "python",
   "pygments_lexer": "ipython3",
   "version": "3.8.3"
  }
 },
 "nbformat": 4,
 "nbformat_minor": 4
}
