{
 "cells": [
  {
   "cell_type": "code",
   "execution_count": null,
   "metadata": {},
   "outputs": [],
   "source": [
    "\"\"\" 01 레퍼런스 카운트와 가비지 컬렉션 \"\"\"\n"
   ]
  },
  {
   "cell_type": "code",
   "execution_count": 1,
   "metadata": {},
   "outputs": [
    {
     "data": {
      "text/plain": [
       "'Garbage Collection'"
      ]
     },
     "execution_count": 1,
     "metadata": {},
     "output_type": "execute_result"
    }
   ],
   "source": [
    "s = \"Garbage Collection\"\n",
    "s"
   ]
  },
  {
   "cell_type": "code",
   "execution_count": null,
   "metadata": {},
   "outputs": [],
   "source": [
    "# 이 코드에 대한 표현이,\n",
    "s = \"Garbage Collection\"\n",
    "# 다음과 같음을 알고 있어야 한다. ('참조'의 영어 표현이 '레퍼런스'이다.)\n",
    "# \"변수 s가 문자열 'Garbage Collection'을 '참조'한다.\"\n",
    "# \"변수 s가 문자열 'Garbage Collection'을 '레퍼런스'한다.\""
   ]
  },
  {
   "cell_type": "code",
   "execution_count": null,
   "metadata": {},
   "outputs": [],
   "source": [
    "r = [1, 2, 3]  # r이라는 이름으로 리스트를 참조"
   ]
  },
  {
   "cell_type": "code",
   "execution_count": null,
   "metadata": {},
   "outputs": [],
   "source": [
    "# 이렇게 생성된 리스트 [1, 2, 3]은 언제 소멸될까? 소멸되지 않고 계속 메모리 공간을 차지한다면 이는\n",
    "# 문제가 되기 때문에 분명 소멸되는 시기가 온다. 그리고 그 시기는 다음과 같다."
   ]
  },
  {
   "cell_type": "code",
   "execution_count": null,
   "metadata": {},
   "outputs": [],
   "source": [
    "# \"객체를 아무도 참조하지 않는 상황\""
   ]
  },
  {
   "cell_type": "code",
   "execution_count": null,
   "metadata": {},
   "outputs": [],
   "source": [
    "# 즉 다음 상황에서 리스트는 소멸된다. 정확히는 소멸 대상이 된다."
   ]
  },
  {
   "cell_type": "code",
   "execution_count": null,
   "metadata": {},
   "outputs": [],
   "source": [
    "r = [1, 2, 3]\n",
    "r = 'simple'  # 변수 r이 참조 대상을 문자열로 바꿨다."
   ]
  },
  {
   "cell_type": "code",
   "execution_count": null,
   "metadata": {},
   "outputs": [],
   "source": [
    "r1 = [1, 2, 3]  # 리스트 [1, 2, 3]의 레퍼런스 카운트는 1\n",
    "r2 = r1         # 리스트의 레퍼런스 카운트는 2로 증가\n",
    "r1 = 'simple'   # 리스트의 레퍼런스 카운트는 다시 1로 감소\n",
    "r2 = 'happy'    # 리스트의 레퍼런스 카운트가 0이 됨, 따라서 가비지 컬렉션 대상"
   ]
  }
 ],
 "metadata": {
  "kernelspec": {
   "display_name": "Python 3",
   "language": "python",
   "name": "python3"
  },
  "language_info": {
   "codemirror_mode": {
    "name": "ipython",
    "version": 3
   },
   "file_extension": ".py",
   "mimetype": "text/x-python",
   "name": "python",
   "nbconvert_exporter": "python",
   "pygments_lexer": "ipython3",
   "version": "3.8.5"
  }
 },
 "nbformat": 4,
 "nbformat_minor": 4
}
