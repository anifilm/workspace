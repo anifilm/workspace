{
 "cells": [
  {
   "cell_type": "code",
   "execution_count": null,
   "metadata": {},
   "outputs": [],
   "source": [
    "\"\"\" 20 enumerate와 문자열 비교 \"\"\""
   ]
  },
  {
   "cell_type": "code",
   "execution_count": null,
   "metadata": {},
   "outputs": [],
   "source": [
    "\"\"\" 문자열 비교 \"\"\""
   ]
  },
  {
   "cell_type": "code",
   "execution_count": 1,
   "metadata": {},
   "outputs": [
    {
     "data": {
      "text/plain": [
       "True"
      ]
     },
     "execution_count": 1,
     "metadata": {},
     "output_type": "execute_result"
    }
   ],
   "source": [
    "'A' < 'z' # 알파벳 순서상 뒤로 갈수록 크다."
   ]
  },
  {
   "cell_type": "code",
   "execution_count": 2,
   "metadata": {},
   "outputs": [
    {
     "data": {
      "text/plain": [
       "True"
      ]
     },
     "execution_count": 2,
     "metadata": {},
     "output_type": "execute_result"
    }
   ],
   "source": [
    "'AA' < 'AZ' # 첫 번째 문자가 같다면 두 번째 문자를 비교한다."
   ]
  },
  {
   "cell_type": "code",
   "execution_count": 3,
   "metadata": {},
   "outputs": [
    {
     "data": {
      "text/plain": [
       "True"
      ]
     },
     "execution_count": 3,
     "metadata": {},
     "output_type": "execute_result"
    }
   ],
   "source": [
    "'AA' < 'AAA' # 비교하는 문자들이 모두 같다면, 하나라도 긴 문자열이 크다."
   ]
  },
  {
   "cell_type": "code",
   "execution_count": null,
   "metadata": {},
   "outputs": [],
   "source": [
    "'A' < 'a' # 소문자가 대문자보다 크다."
   ]
  },
  {
   "cell_type": "code",
   "execution_count": 4,
   "metadata": {},
   "outputs": [
    {
     "data": {
      "text/plain": [
       "True"
      ]
     },
     "execution_count": 4,
     "metadata": {},
     "output_type": "execute_result"
    }
   ],
   "source": [
    "'가' < '나' # 가나다순으로 뒤로 길수록 크다."
   ]
  },
  {
   "cell_type": "code",
   "execution_count": 5,
   "metadata": {},
   "outputs": [
    {
     "data": {
      "text/plain": [
       "True"
      ]
     },
     "execution_count": 5,
     "metadata": {},
     "output_type": "execute_result"
    }
   ],
   "source": [
    "'가' < '구' # 아야어여순으로 뒤로 갈수로 크다."
   ]
  },
  {
   "cell_type": "code",
   "execution_count": 6,
   "metadata": {},
   "outputs": [
    {
     "data": {
      "text/plain": [
       "True"
      ]
     },
     "execution_count": 6,
     "metadata": {},
     "output_type": "execute_result"
    }
   ],
   "source": [
    "'가가' < '가나' # 첫 번째 문자가 같다면 두 번째 문자를 비교한다."
   ]
  },
  {
   "cell_type": "code",
   "execution_count": 7,
   "metadata": {},
   "outputs": [
    {
     "data": {
      "text/plain": [
       "True"
      ]
     },
     "execution_count": 7,
     "metadata": {},
     "output_type": "execute_result"
    }
   ],
   "source": [
    "'하하' < '하하하' # 비교하는 문자들이 모두 같다면 하나라도 긴 문자열이 크다."
   ]
  },
  {
   "cell_type": "code",
   "execution_count": 12,
   "metadata": {},
   "outputs": [
    {
     "data": {
      "text/plain": [
       "['김현주', '박선주', '윤나은', '이지선', '장현지']"
      ]
     },
     "execution_count": 12,
     "metadata": {},
     "output_type": "execute_result"
    }
   ],
   "source": [
    "names = ['윤나은', '김현주', '장현지', '이지선', '박선주']\n",
    "names.sort() # sorts 메서드 호출을 통한 정렬 진행\n",
    "names"
   ]
  },
  {
   "cell_type": "code",
   "execution_count": 13,
   "metadata": {},
   "outputs": [
    {
     "data": {
      "text/plain": [
       "{1: '김현주', 2: '박선주', 3: '윤나은', 4: '이지선', 5: '장현지'}"
      ]
     },
     "execution_count": 13,
     "metadata": {},
     "output_type": "execute_result"
    }
   ],
   "source": [
    "dnames = {}\n",
    "i = 1\n",
    "for n in names:\n",
    "    dnames[i] = n\n",
    "    i += 1\n",
    "dnames"
   ]
  },
  {
   "cell_type": "code",
   "execution_count": null,
   "metadata": {},
   "outputs": [],
   "source": [
    "\"\"\" enumerate \"\"\""
   ]
  },
  {
   "cell_type": "code",
   "execution_count": 14,
   "metadata": {},
   "outputs": [
    {
     "name": "stdout",
     "output_type": "stream",
     "text": [
      "(0, '윤나은')\n",
      "(1, '김현주')\n",
      "(2, '장현지')\n",
      "(3, '이지선')\n",
      "(4, '박선주')\n"
     ]
    }
   ],
   "source": [
    "names = ['윤나은', '김현주', '장현지', '이지선', '박선주']\n",
    "eo = enumerate(names) # iterator 객체인 enumerate 객체 반환\n",
    "for n in eo: # eo에 담긴 것은 iterator 객체이므로 for 루프에 올 수 있음\n",
    "    print(n)"
   ]
  },
  {
   "cell_type": "code",
   "execution_count": 15,
   "metadata": {},
   "outputs": [
    {
     "name": "stdout",
     "output_type": "stream",
     "text": [
      "(10, '윤나은')\n",
      "(11, '김현주')\n",
      "(12, '장현지')\n",
      "(13, '이지선')\n",
      "(14, '박선주')\n"
     ]
    }
   ],
   "source": [
    "names = ['윤나은', '김현주', '장현지', '이지선', '박선주']\n",
    "for n in enumerate(names, 10): # 번호를 10부터 매기기 시작\n",
    "    print(n)"
   ]
  },
  {
   "cell_type": "code",
   "execution_count": 17,
   "metadata": {},
   "outputs": [
    {
     "data": {
      "text/plain": [
       "{1: '김현주', 2: '박선주', 3: '윤나은', 4: '이지선', 5: '장현지'}"
      ]
     },
     "execution_count": 17,
     "metadata": {},
     "output_type": "execute_result"
    }
   ],
   "source": [
    "names = ['윤나은', '김현주', '장현지', '이지선', '박선주']\n",
    "dnames = {k: v for k, v in enumerate(sorted(names), 1)} # 이것이 결론!\n",
    "dnames"
   ]
  }
 ],
 "metadata": {
  "kernelspec": {
   "display_name": "Python 3",
   "language": "python",
   "name": "python3"
  },
  "language_info": {
   "codemirror_mode": {
    "name": "ipython",
    "version": 3
   },
   "file_extension": ".py",
   "mimetype": "text/x-python",
   "name": "python",
   "nbconvert_exporter": "python",
   "pygments_lexer": "ipython3",
   "version": "3.9.12"
  }
 },
 "nbformat": 4,
 "nbformat_minor": 4
}
