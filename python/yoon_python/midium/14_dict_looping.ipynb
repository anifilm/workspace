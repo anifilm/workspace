{
 "cells": [
  {
   "cell_type": "code",
   "execution_count": null,
   "metadata": {},
   "outputs": [],
   "source": [
    "\"\"\" 14 dict의 루핑 기술과 컴프리헨션 \"\"\"\n"
   ]
  },
  {
   "cell_type": "code",
   "execution_count": null,
   "metadata": {},
   "outputs": [],
   "source": [
    "\"\"\" 딕셔너리 루핑 테크닉 \"\"\""
   ]
  },
  {
   "cell_type": "code",
   "execution_count": 1,
   "metadata": {},
   "outputs": [],
   "source": [
    "d = dict(a = 1, b = 2, c= 3)"
   ]
  },
  {
   "cell_type": "code",
   "execution_count": 2,
   "metadata": {},
   "outputs": [
    {
     "name": "stdout",
     "output_type": "stream",
     "text": [
      "1, 2, 3, "
     ]
    }
   ],
   "source": [
    "for k in d:  # k에는 키가 담긴다.\n",
    "    print(d[k], end = ', ')"
   ]
  },
  {
   "cell_type": "code",
   "execution_count": 3,
   "metadata": {},
   "outputs": [],
   "source": [
    "# 딕셔너리의 다음 세 메서드를 알아 두면 딕셔너리를 대상으로 보다 다양한 for 루프를 구성할 수 있다.\n",
    "# dict.keys()     딕셔너리의 키들만 참조하고자 할 때\n",
    "# dict.values()   딕셔너리의 값들만 참조하고자 할 때\n",
    "# dict.items()    딕셔너리의 키와 값을 튜플 형태로 참조하고자 할 때"
   ]
  },
  {
   "cell_type": "code",
   "execution_count": null,
   "metadata": {},
   "outputs": [],
   "source": [
    "# 위의 세 메서드가 반환하는 것을 가리켜 '뷰(view)' 객체라 한다. 그리고 뷰 객체도 iterable 객체로\n",
    "# 다음과 같이 for 루프를 통해 그 값을 하나씩 참조할 수 있다."
   ]
  },
  {
   "cell_type": "code",
   "execution_count": 4,
   "metadata": {},
   "outputs": [],
   "source": [
    "d = dict(a = 1, b = 2, c = 3)"
   ]
  },
  {
   "cell_type": "code",
   "execution_count": 5,
   "metadata": {},
   "outputs": [
    {
     "name": "stdout",
     "output_type": "stream",
     "text": [
      "a, b, c, "
     ]
    }
   ],
   "source": [
    "# keys 메서드 사용\n",
    "for k in d.keys():  # keys는 뷰 객체를 반환함, 즉 뷰 객치를 이용한 for 루프\n",
    "    print(k, end = ', ')  # 키가 순서대로 출력된다."
   ]
  },
  {
   "cell_type": "code",
   "execution_count": 8,
   "metadata": {},
   "outputs": [
    {
     "name": "stdout",
     "output_type": "stream",
     "text": [
      "1, 2, 3, "
     ]
    }
   ],
   "source": [
    "# values 메서드 사용\n",
    "for v in d.values():  # values는 뷰 객체를 반환함, 즉 뷰 객체를 이용한 for 루프\n",
    "    print(v, end = ', ')  # 값이 순서대로 출력된다."
   ]
  },
  {
   "cell_type": "code",
   "execution_count": 11,
   "metadata": {},
   "outputs": [
    {
     "name": "stdout",
     "output_type": "stream",
     "text": [
      "('a', 1), ('b', 2), ('c', 3), "
     ]
    }
   ],
   "source": [
    "# items 메서드 사용\n",
    "for kv in d.items():  # items는 뷰 객체를 반환함, 즉 뷰 객체를 이용한 for 루프\n",
    "    print(kv, end = ', ')  # (키, 값)이 순서대로 출력 된다."
   ]
  },
  {
   "cell_type": "code",
   "execution_count": null,
   "metadata": {},
   "outputs": [],
   "source": [
    "# items 메서드 사용 (언패킹)"
   ]
  },
  {
   "cell_type": "code",
   "execution_count": 12,
   "metadata": {},
   "outputs": [
    {
     "name": "stdout",
     "output_type": "stream",
     "text": [
      "a, 1\n",
      "b, 2\n",
      "c, 3\n"
     ]
    }
   ],
   "source": [
    "for k, v in d.items():  # k와 v에 값을 저장하는 과정에서 튜플 언패킹\n",
    "    print(k, v, sep = ', ')"
   ]
  },
  {
   "cell_type": "code",
   "execution_count": null,
   "metadata": {},
   "outputs": [],
   "source": [
    "\"\"\" 뷰가 바라보는 현재 상태 \"\"\""
   ]
  },
  {
   "cell_type": "code",
   "execution_count": 23,
   "metadata": {},
   "outputs": [],
   "source": [
    "d = dict(a = 1, b = 2, c = 3)"
   ]
  },
  {
   "cell_type": "code",
   "execution_count": 24,
   "metadata": {},
   "outputs": [],
   "source": [
    "vo = d.items()  # 뷰 객체를 얻음"
   ]
  },
  {
   "cell_type": "code",
   "execution_count": 25,
   "metadata": {},
   "outputs": [
    {
     "name": "stdout",
     "output_type": "stream",
     "text": [
      "('a', 1), ('b', 2), ('c', 3), "
     ]
    }
   ],
   "source": [
    "for kv in vo:\n",
    "    print(kv, end = ', ')"
   ]
  },
  {
   "cell_type": "code",
   "execution_count": 26,
   "metadata": {},
   "outputs": [],
   "source": [
    "# 딕셔너리 수정\n",
    "d['a'] += 2\n",
    "d['c'] -= 2"
   ]
  },
  {
   "cell_type": "code",
   "execution_count": 27,
   "metadata": {},
   "outputs": [
    {
     "name": "stdout",
     "output_type": "stream",
     "text": [
      "('a', 3), ('b', 2), ('c', 1), "
     ]
    }
   ],
   "source": [
    "for kv in vo:  # 수정 사항이 뷰 객체에 그대로 반영됨\n",
    "    print(kv, end = ', ')"
   ]
  },
  {
   "cell_type": "code",
   "execution_count": null,
   "metadata": {},
   "outputs": [],
   "source": [
    "# 생성되 뷰 객체는 딕셔너리에 수정이 있는 경우 내용을 그대로 반영한다."
   ]
  },
  {
   "cell_type": "code",
   "execution_count": null,
   "metadata": {},
   "outputs": [],
   "source": [
    "\"\"\" dict 컴프리헨션 \"\"\""
   ]
  },
  {
   "cell_type": "code",
   "execution_count": 28,
   "metadata": {},
   "outputs": [
    {
     "data": {
      "text/plain": [
       "[2, 4, 6, 8, 10]"
      ]
     },
     "execution_count": 28,
     "metadata": {},
     "output_type": "execute_result"
    }
   ],
   "source": [
    "# 리스트 컴프리헨션의 기본 구조\n",
    "r1 = [1, 2, 3, 4, 5]\n",
    "r2 = [x*2 for x in r1]\n",
    "r2"
   ]
  },
  {
   "cell_type": "code",
   "execution_count": 29,
   "metadata": {},
   "outputs": [],
   "source": [
    "# 이와 동일하게 딕셔너리도 컴프리헨션 기법을 사용할 수 있다.\n",
    "d1 = dict(a = 1, b = 2, c = 3)"
   ]
  },
  {
   "cell_type": "code",
   "execution_count": 30,
   "metadata": {},
   "outputs": [],
   "source": [
    "d2 = {k: v*2 for k, v in d1.items()}  # d1의 값을 두 배 늘린 딕셔너리 생성\n",
    "d3 = {k: v*2 for k, v in d2.items()}  # d2의 값을 두 배 늘린 딕셔너리 생성"
   ]
  },
  {
   "cell_type": "code",
   "execution_count": 31,
   "metadata": {},
   "outputs": [
    {
     "data": {
      "text/plain": [
       "{'a': 1, 'b': 2, 'c': 3}"
      ]
     },
     "execution_count": 31,
     "metadata": {},
     "output_type": "execute_result"
    }
   ],
   "source": [
    "d1"
   ]
  },
  {
   "cell_type": "code",
   "execution_count": 32,
   "metadata": {},
   "outputs": [
    {
     "data": {
      "text/plain": [
       "{'a': 2, 'b': 4, 'c': 6}"
      ]
     },
     "execution_count": 32,
     "metadata": {},
     "output_type": "execute_result"
    }
   ],
   "source": [
    "d2"
   ]
  },
  {
   "cell_type": "code",
   "execution_count": 33,
   "metadata": {},
   "outputs": [
    {
     "data": {
      "text/plain": [
       "{'a': 4, 'b': 8, 'c': 12}"
      ]
     },
     "execution_count": 33,
     "metadata": {},
     "output_type": "execute_result"
    }
   ],
   "source": [
    "d3"
   ]
  },
  {
   "cell_type": "code",
   "execution_count": 35,
   "metadata": {},
   "outputs": [
    {
     "data": {
      "text/plain": [
       "[2, 6, 10]"
      ]
     },
     "execution_count": 35,
     "metadata": {},
     "output_type": "execute_result"
    }
   ],
   "source": [
    "# if절이 추가된 리스트 컴프리헨션\n",
    "r1 = [1, 2, 3, 4, 5]\n",
    "r2 = [x*2 for x in r1 if x % 2]\n",
    "r2"
   ]
  },
  {
   "cell_type": "code",
   "execution_count": 36,
   "metadata": {},
   "outputs": [
    {
     "data": {
      "text/plain": [
       "{'a': 1, 'b': 2, 'c': 3, 'd': 4}"
      ]
     },
     "execution_count": 36,
     "metadata": {},
     "output_type": "execute_result"
    }
   ],
   "source": [
    "# 조건식을 사용한 딕셔너리 컴프리헨션\n",
    "d1 = dict(a = 1, b = 2, c = 3, d = 4)\n",
    "d1"
   ]
  },
  {
   "cell_type": "code",
   "execution_count": 38,
   "metadata": {},
   "outputs": [
    {
     "data": {
      "text/plain": [
       "{'a': 1, 'c': 3}"
      ]
     },
     "execution_count": 38,
     "metadata": {},
     "output_type": "execute_result"
    }
   ],
   "source": [
    "d2 = {k: v for k, v in d1.items() if v % 2}  # d1에서 값이 홀수인 것만 모은 딕셔너리 생성\n",
    "d2"
   ]
  },
  {
   "cell_type": "code",
   "execution_count": 39,
   "metadata": {},
   "outputs": [],
   "source": [
    "# zip을 통한 두 리스트에 저장되어 있는 값들을 이용하여 딕셔너리를 생성하는 예제\n",
    "ks = ['a', 'b', 'c', 'd']  # 이들은 키가 된다.\n",
    "vs = [1, 2, 3, 4]  # 이들은 값이 된다."
   ]
  },
  {
   "cell_type": "code",
   "execution_count": 40,
   "metadata": {},
   "outputs": [
    {
     "data": {
      "text/plain": [
       "{'a': 1, 'b': 2, 'c': 3, 'd': 4}"
      ]
     },
     "execution_count": 40,
     "metadata": {},
     "output_type": "execute_result"
    }
   ],
   "source": [
    "d = {k: v for k, v in zip(ks, vs)}  # zip을 이용해서 같은 위치의 값들을 묶었다.\n",
    "d"
   ]
  },
  {
   "cell_type": "code",
   "execution_count": 41,
   "metadata": {},
   "outputs": [
    {
     "data": {
      "text/plain": [
       "{'a': 1, 'c': 3}"
      ]
     },
     "execution_count": 41,
     "metadata": {},
     "output_type": "execute_result"
    }
   ],
   "source": [
    "# 위의 예제에 조건문을 추가하여 값이 홀수인 것만 남긴 예제\n",
    "d = {k: v for k, v in zip(ks, vs) if v % 2}\n",
    "d"
   ]
  }
 ],
 "metadata": {
  "kernelspec": {
   "display_name": "Python 3",
   "language": "python",
   "name": "python3"
  },
  "language_info": {
   "codemirror_mode": {
    "name": "ipython",
    "version": 3
   },
   "file_extension": ".py",
   "mimetype": "text/x-python",
   "name": "python",
   "nbconvert_exporter": "python",
   "pygments_lexer": "ipython3",
   "version": "3.8.5"
  }
 },
 "nbformat": 4,
 "nbformat_minor": 4
}
