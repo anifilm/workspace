{
 "cells": [
  {
   "cell_type": "code",
   "execution_count": null,
   "metadata": {},
   "outputs": [],
   "source": [
    "\"\"\" [연습문제 07-2] \"\"\"\n"
   ]
  },
  {
   "cell_type": "code",
   "execution_count": null,
   "metadata": {},
   "outputs": [],
   "source": [
    "\"\"\"\n",
    "다음과 같이 동작하는 코드를 만들어 보자.\n",
    "  프로그램 사용자가 정수를 입력하면, 그 수를 거듭제곱 값을 출력한다.\n",
    "  프로그램 사용자가 정수가 아닌 것을 입력하면 \"정수가 아닙니다.\"를 출력한다.\n",
    "\n",
    "코드는 다음과 같은 방식으로 작성하자. (main 함수를 만들고 이를 호출하는 방식)\n",
    "  def main():  # main 함수의 정의\n",
    "  ...\n",
    "\n",
    "  main()  # main 함수의 호출\n",
    "\n",
    "물론 프롬프트상에서 만들어도 되고 소스파일을 생성해서 만들어도 된다.\n",
    "\"\"\""
   ]
  },
  {
   "cell_type": "code",
   "execution_count": 8,
   "metadata": {},
   "outputs": [
    {
     "name": "stdout",
     "output_type": "stream",
     "text": [
      "정수 입력: 12\n",
      "144\n"
     ]
    }
   ],
   "source": [
    "def main():\n",
    "    num = input(\"정수 입력: \")\n",
    "    if num.isdigit():\n",
    "        print(int(num) ** 2)\n",
    "    else:\n",
    "        print(\"정수가 아닙니다.\")\n",
    "    \n",
    "main()"
   ]
  }
 ],
 "metadata": {
  "kernelspec": {
   "display_name": "Python 3",
   "language": "python",
   "name": "python3"
  },
  "language_info": {
   "codemirror_mode": {
    "name": "ipython",
    "version": 3
   },
   "file_extension": ".py",
   "mimetype": "text/x-python",
   "name": "python",
   "nbconvert_exporter": "python",
   "pygments_lexer": "ipython3",
   "version": "3.8.5"
  }
 },
 "nbformat": 4,
 "nbformat_minor": 4
}
