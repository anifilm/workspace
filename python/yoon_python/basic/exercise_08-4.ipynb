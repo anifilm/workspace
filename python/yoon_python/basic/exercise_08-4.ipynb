{
 "cells": [
  {
   "cell_type": "code",
   "execution_count": null,
   "metadata": {},
   "outputs": [],
   "source": [
    "\"\"\" [연습문제 08-4] \"\"\"\n"
   ]
  },
  {
   "cell_type": "code",
   "execution_count": null,
   "metadata": {},
   "outputs": [],
   "source": [
    "\"\"\"\n",
    "이중 for 루프를 기반으로 구구단을 2단 부터 9단까지 전부 출력하는 코드를 만들어 보자. 출력의 형태는\n",
    "다음과 같이 결과만 보여도 된다.\n",
    "  2  4  6  8 10 12 14 16 18 \n",
    "  3  6  9 12 15 18 21 24 27 \n",
    "  4  8 12 16 20 24 28 32 36 \n",
    "  5 10 15 20 25 30 35 40 45 \n",
    "  6 12 18 24 30 36 42 48 54 \n",
    "  7 14 21 28 35 42 49 56 63 \n",
    "  8 16 24 32 40 48 56 64 72 \n",
    "  9 18 27 36 45 54 63 72 81 \n",
    "\n",
    "\"\"\""
   ]
  },
  {
   "cell_type": "code",
   "execution_count": 4,
   "metadata": {},
   "outputs": [
    {
     "name": "stdout",
     "output_type": "stream",
     "text": [
      " 2  4  6  8 10 12 14 16 18 \n",
      " 3  6  9 12 15 18 21 24 27 \n",
      " 4  8 12 16 20 24 28 32 36 \n",
      " 5 10 15 20 25 30 35 40 45 \n",
      " 6 12 18 24 30 36 42 48 54 \n",
      " 7 14 21 28 35 42 49 56 63 \n",
      " 8 16 24 32 40 48 56 64 72 \n",
      " 9 18 27 36 45 54 63 72 81 \n"
     ]
    }
   ],
   "source": [
    "for i in range(2, 10):\n",
    "    for j in range(1, 10):\n",
    "        print(\"%2d\" % (i * j), end = ' ')\n",
    "    print()"
   ]
  }
 ],
 "metadata": {
  "kernelspec": {
   "display_name": "Python 3",
   "language": "python",
   "name": "python3"
  },
  "language_info": {
   "codemirror_mode": {
    "name": "ipython",
    "version": 3
   },
   "file_extension": ".py",
   "mimetype": "text/x-python",
   "name": "python",
   "nbconvert_exporter": "python",
   "pygments_lexer": "ipython3",
   "version": "3.8.5"
  }
 },
 "nbformat": 4,
 "nbformat_minor": 4
}
