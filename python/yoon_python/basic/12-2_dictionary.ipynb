{
 "cells": [
  {
   "cell_type": "code",
   "execution_count": null,
   "metadata": {},
   "outputs": [],
   "source": [
    "\"\"\" 12-2 딕셔너리의 데이터 참조, 수정, 추가, 삭제 \"\"\""
   ]
  },
  {
   "cell_type": "code",
   "execution_count": 1,
   "metadata": {},
   "outputs": [],
   "source": [
    "dc = {\n",
    "    '코카콜라': 900,     # 코카콜라 900원\n",
    "    '바나나맛우유': 750,  # 바나나맛우유 750원\n",
    "    '비타500': 600,      # 비타500 600원\n",
    "    '삼다수': 450         # 삼다수 450원 \n",
    "}"
   ]
  },
  {
   "cell_type": "code",
   "execution_count": 2,
   "metadata": {},
   "outputs": [
    {
     "data": {
      "text/plain": [
       "450"
      ]
     },
     "execution_count": 2,
     "metadata": {},
     "output_type": "execute_result"
    }
   ],
   "source": [
    "# \"삼다수의 가격이 얼마야?\"\n",
    "v = dc['삼다수']  # '삼다수'에 해당하는 값을 꺼내옴, 이때 '삼다수가' 열쇠임\n",
    "v"
   ]
  },
  {
   "cell_type": "code",
   "execution_count": 3,
   "metadata": {},
   "outputs": [
    {
     "data": {
      "text/plain": [
       "{'코카콜라': 900, '바나나맛우유': 750, '비타500': 600, '삼다수': 550}"
      ]
     },
     "execution_count": 3,
     "metadata": {},
     "output_type": "execute_result"
    }
   ],
   "source": [
    "dc['삼다수'] = 550  # '삼다수'의 값을 550으로 수정\n",
    "dc"
   ]
  },
  {
   "cell_type": "code",
   "execution_count": 4,
   "metadata": {},
   "outputs": [
    {
     "data": {
      "text/plain": [
       "{'코카콜라': 900, '바나나맛우유': 750, '비타500': 600, '삼다수': 650}"
      ]
     },
     "execution_count": 4,
     "metadata": {},
     "output_type": "execute_result"
    }
   ],
   "source": [
    "dc['삼다수'] += 100  # '삼다수'에 해당하는 값을 100 증가\n",
    "dc"
   ]
  },
  {
   "cell_type": "code",
   "execution_count": 5,
   "metadata": {},
   "outputs": [],
   "source": [
    "# 그럼 이번에는 데이터를 추가해 보자. 편의점에서 판매하는 음료 품목에 다음 제품이 추가되었다. 그래서\n",
    "# 이 정보를 딕셔너리에 담아야 하는 상황이다.\n",
    "#  - 음료 이름: 카페라떼\n",
    "#  - 음료 가격: 1300원\n",
    "#\n",
    "# 그렇다면 다음과 같이 하면 된다."
   ]
  },
  {
   "cell_type": "code",
   "execution_count": 6,
   "metadata": {},
   "outputs": [
    {
     "data": {
      "text/plain": [
       "{'코카콜라': 900, '바나나맛우유': 750, '비타500': 600, '삼다수': 650, '카페라떼': 1300}"
      ]
     },
     "execution_count": 6,
     "metadata": {},
     "output_type": "execute_result"
    }
   ],
   "source": [
    "dc['카페라떼'] = 1300  # 이 경우에는 데이터의 추가로 이어진다.\n",
    "dc"
   ]
  },
  {
   "cell_type": "code",
   "execution_count": 7,
   "metadata": {},
   "outputs": [],
   "source": [
    "# 딕셔너리에서 정보를 삭제해야 한다면 다음과 같이 하면 된다."
   ]
  },
  {
   "cell_type": "code",
   "execution_count": 8,
   "metadata": {},
   "outputs": [
    {
     "data": {
      "text/plain": [
       "{'코카콜라': 900, '바나나맛우유': 750, '삼다수': 650, '카페라떼': 1300}"
      ]
     },
     "execution_count": 8,
     "metadata": {},
     "output_type": "execute_result"
    }
   ],
   "source": [
    "del dc['비타500']  # '비타500'에 대한 정보 삭제\n",
    "dc"
   ]
  }
 ],
 "metadata": {
  "kernelspec": {
   "display_name": "Python 3",
   "language": "python",
   "name": "python3"
  },
  "language_info": {
   "codemirror_mode": {
    "name": "ipython",
    "version": 3
   },
   "file_extension": ".py",
   "mimetype": "text/x-python",
   "name": "python",
   "nbconvert_exporter": "python",
   "pygments_lexer": "ipython3",
   "version": "3.8.3"
  }
 },
 "nbformat": 4,
 "nbformat_minor": 4
}
