{
 "cells": [
  {
   "cell_type": "code",
   "execution_count": null,
   "metadata": {},
   "outputs": [],
   "source": [
    "\"\"\" [연습문제 06-2] \"\"\"\n"
   ]
  },
  {
   "cell_type": "code",
   "execution_count": null,
   "metadata": {},
   "outputs": [],
   "source": [
    "\"\"\" 문제 1\n",
    "문자열 \"The Espresso Sprit\"을 다음과 같이 선언하자.\n",
    "  >>> str = \"The Espresso Sprit\"\n",
    "그리고 한 번은 모두 대문자로 바꿔서 출력하고, 또 한 번은 모두 소문자로 바꿔서 출력해 보자. 그리고\n",
    "마지막에 원본 그대로 출력을 한 번 더 하자.\n",
    "\"\"\""
   ]
  },
  {
   "cell_type": "code",
   "execution_count": 1,
   "metadata": {},
   "outputs": [],
   "source": [
    "str = \"The Espresso Sprit\""
   ]
  },
  {
   "cell_type": "code",
   "execution_count": 2,
   "metadata": {},
   "outputs": [
    {
     "data": {
      "text/plain": [
       "'THE ESPRESSO SPRIT'"
      ]
     },
     "execution_count": 2,
     "metadata": {},
     "output_type": "execute_result"
    }
   ],
   "source": [
    "str.upper()"
   ]
  },
  {
   "cell_type": "code",
   "execution_count": 3,
   "metadata": {},
   "outputs": [
    {
     "data": {
      "text/plain": [
       "'the espresso sprit'"
      ]
     },
     "execution_count": 3,
     "metadata": {},
     "output_type": "execute_result"
    }
   ],
   "source": [
    "str.lower()"
   ]
  },
  {
   "cell_type": "code",
   "execution_count": 4,
   "metadata": {},
   "outputs": [
    {
     "data": {
      "text/plain": [
       "'The Espresso Sprit'"
      ]
     },
     "execution_count": 4,
     "metadata": {},
     "output_type": "execute_result"
    }
   ],
   "source": [
    "str"
   ]
  },
  {
   "cell_type": "code",
   "execution_count": null,
   "metadata": {},
   "outputs": [],
   "source": [
    "\"\"\" 문제 2\n",
    "우리나라의 주민등록번호는 다음과 같은 구조이다.\n",
    "  \"070709-2011xxx\"\n",
    "  \"090716-1012xxx\"\n",
    "이 중에서 앞의 여섯 자리는 생년월일 정보이다. 따라서 문자열로 표현된 위의 주민등록번호에서 생년월일\n",
    "정보만 꺼내서 출력하고자 하니, 이러한 기능을 제공하는 함수를 만들어 보자. 예를 들어서 함수의 이름이\n",
    "birth_only라 하면 이 함수를 대상으로 다음과 같은 결과를 보여야 한다.\n",
    "  >>> p1 = \"070709-2011xxx\"\n",
    "  >>> p1 = birth_only(p1)\n",
    "  >>> p1\n",
    "  '070609'\n",
    "  >>> p2 = \"090716-1012xxx\"\n",
    "  >>> p2 = birth_only(p2)\n",
    "  >>> p2\n",
    "  '090716'\n",
    "\"\"\""
   ]
  },
  {
   "cell_type": "code",
   "execution_count": 5,
   "metadata": {},
   "outputs": [],
   "source": [
    "def birth_only(num):\n",
    "    ret = num.split('-')\n",
    "    return ret[0]"
   ]
  },
  {
   "cell_type": "code",
   "execution_count": 6,
   "metadata": {},
   "outputs": [
    {
     "data": {
      "text/plain": [
       "'070709'"
      ]
     },
     "execution_count": 6,
     "metadata": {},
     "output_type": "execute_result"
    }
   ],
   "source": [
    "p1 = \"070709-2011xxx\"\n",
    "p1 = birth_only(p1)\n",
    "p1"
   ]
  },
  {
   "cell_type": "code",
   "execution_count": 7,
   "metadata": {},
   "outputs": [
    {
     "data": {
      "text/plain": [
       "'090716'"
      ]
     },
     "execution_count": 7,
     "metadata": {},
     "output_type": "execute_result"
    }
   ],
   "source": [
    " p2 = \"090716-1012xxx\"\n",
    " p2 = birth_only(p2)\n",
    " p2"
   ]
  }
 ],
 "metadata": {
  "kernelspec": {
   "display_name": "Python 3",
   "language": "python",
   "name": "python3"
  },
  "language_info": {
   "codemirror_mode": {
    "name": "ipython",
    "version": 3
   },
   "file_extension": ".py",
   "mimetype": "text/x-python",
   "name": "python",
   "nbconvert_exporter": "python",
   "pygments_lexer": "ipython3",
   "version": "3.8.5"
  }
 },
 "nbformat": 4,
 "nbformat_minor": 4
}
