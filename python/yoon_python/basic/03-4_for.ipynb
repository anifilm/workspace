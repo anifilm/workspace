{
 "cells": [
  {
   "cell_type": "code",
   "execution_count": null,
   "metadata": {},
   "outputs": [],
   "source": [
    "\"\"\" 03-4 정해진 횟수만큼 반복해서 실행시키기 \"\"\""
   ]
  },
  {
   "cell_type": "code",
   "execution_count": 1,
   "metadata": {},
   "outputs": [
    {
     "name": "stdout",
     "output_type": "stream",
     "text": [
      "0\n",
      "hi~\n",
      "1\n",
      "hi~\n",
      "2\n",
      "hi~\n"
     ]
    }
   ],
   "source": [
    "for i in [0, 1, 2]:  # 이것을 가리켜 'for 루프'라 한다.\n",
    "    print(i)\n",
    "    print(\"hi~\")"
   ]
  },
  {
   "cell_type": "code",
   "execution_count": 2,
   "metadata": {},
   "outputs": [
    {
     "name": "stdout",
     "output_type": "stream",
     "text": [
      "1\n",
      "hello~\n",
      "3\n",
      "hello~\n",
      "5\n",
      "hello~\n"
     ]
    }
   ],
   "source": [
    "for i in [1, 3, 5]:  # i에 1, 3, 5를 넣어서 for에 속한 문장들 실행\n",
    "    print(i)\n",
    "    print(\"hello~\")"
   ]
  },
  {
   "cell_type": "code",
   "execution_count": 3,
   "metadata": {},
   "outputs": [
    {
     "name": "stdout",
     "output_type": "stream",
     "text": [
      "55\n"
     ]
    }
   ],
   "source": [
    "sum = 0\n",
    "for i in [1, 2, 3, 4, 5, 6, 7, 8, 9, 10]:\n",
    "    sum = sum + i  # sum의 값을 i 만큼 증가시키는 문장\n",
    "\n",
    "print(sum)"
   ]
  }
 ],
 "metadata": {
  "kernelspec": {
   "display_name": "Python 3",
   "language": "python",
   "name": "python3"
  },
  "language_info": {
   "codemirror_mode": {
    "name": "ipython",
    "version": 3
   },
   "file_extension": ".py",
   "mimetype": "text/x-python",
   "name": "python",
   "nbconvert_exporter": "python",
   "pygments_lexer": "ipython3",
   "version": "3.8.3"
  }
 },
 "nbformat": 4,
 "nbformat_minor": 4
}
