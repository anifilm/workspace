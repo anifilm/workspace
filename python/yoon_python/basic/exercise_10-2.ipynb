{
 "cells": [
  {
   "cell_type": "code",
   "execution_count": null,
   "metadata": {},
   "outputs": [],
   "source": [
    "\"\"\" [연습문제 10-2] \"\"\""
   ]
  },
  {
   "cell_type": "code",
   "execution_count": null,
   "metadata": {},
   "outputs": [],
   "source": [
    "\"\"\"\n",
    "함수를 하나 만들어 보자. 이 함수는 리스트를 인자로 전달 받는다. 그리고 인자로 전달된 리스트에 저장된\n",
    "값들을 하나씩 증가시킨다. 즉 함수의 이름이 add1이라 하면 다음과 같은 결과를 보여야 한다.\n",
    "  >>>  def add1(s):\n",
    "          ____________________  # add1 함수의 정의, 여러 줄에 걸쳐서 만듦\n",
    "\n",
    "  >>> st = [1, 2, 3, 4, 5]\n",
    "  >>> add1(st)\n",
    "  >>> st\n",
    "  [2, 3, 4, 5, 6]\n",
    "  \n",
    "\"\"\""
   ]
  },
  {
   "cell_type": "code",
   "execution_count": 2,
   "metadata": {},
   "outputs": [
    {
     "data": {
      "text/plain": [
       "[2, 3, 4, 5, 6]"
      ]
     },
     "execution_count": 2,
     "metadata": {},
     "output_type": "execute_result"
    }
   ],
   "source": [
    "def add1(s):\n",
    "    for i in range(len(s)):\n",
    "        s[i] += 1\n",
    "        \n",
    "st = [1, 2, 3, 4, 5]\n",
    "add1(st)\n",
    "st"
   ]
  }
 ],
 "metadata": {
  "kernelspec": {
   "display_name": "Python 3",
   "language": "python",
   "name": "python3"
  },
  "language_info": {
   "codemirror_mode": {
    "name": "ipython",
    "version": 3
   },
   "file_extension": ".py",
   "mimetype": "text/x-python",
   "name": "python",
   "nbconvert_exporter": "python",
   "pygments_lexer": "ipython3",
   "version": "3.8.3"
  }
 },
 "nbformat": 4,
 "nbformat_minor": 4
}
