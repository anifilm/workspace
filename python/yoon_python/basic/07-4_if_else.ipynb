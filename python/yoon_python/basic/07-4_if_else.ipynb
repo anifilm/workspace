{
 "cells": [
  {
   "cell_type": "code",
   "execution_count": null,
   "metadata": {},
   "outputs": [],
   "source": [
    "\"\"\" 07-4 if ~ else문: 이쪽 길! 아니면 저쪽 길! \"\"\"\n"
   ]
  },
  {
   "cell_type": "code",
   "execution_count": 1,
   "metadata": {},
   "outputs": [
    {
     "name": "stdout",
     "output_type": "stream",
     "text": [
      "정수 입력: -7\n",
      "0보다 크지 않은 수입니다.\n"
     ]
    }
   ],
   "source": [
    "def main():\n",
    "    num = int(input(\"정수 입력: \"))\n",
    "    if num > 0:\n",
    "        print(\"0보다 큰 수입니다.\")  # num이 0보다 크면 이 문장 실행\n",
    "    else:\n",
    "        print(\"0보다 크지 않은 수입니다.\")  # num이 0보다 크지 않으면 이 문장 실행\n",
    "\n",
    "main()"
   ]
  }
 ],
 "metadata": {
  "kernelspec": {
   "display_name": "Python 3",
   "language": "python",
   "name": "python3"
  },
  "language_info": {
   "codemirror_mode": {
    "name": "ipython",
    "version": 3
   },
   "file_extension": ".py",
   "mimetype": "text/x-python",
   "name": "python",
   "nbconvert_exporter": "python",
   "pygments_lexer": "ipython3",
   "version": "3.8.5"
  }
 },
 "nbformat": 4,
 "nbformat_minor": 4
}
