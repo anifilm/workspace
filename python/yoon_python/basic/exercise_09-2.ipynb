{
 "cells": [
  {
   "cell_type": "code",
   "execution_count": null,
   "metadata": {},
   "outputs": [],
   "source": [
    "\"\"\" [연습문제 09-2] \"\"\""
   ]
  },
  {
   "cell_type": "code",
   "execution_count": null,
   "metadata": {},
   "outputs": [],
   "source": [
    "\"\"\" 문제 1\n",
    "구구단의 7단을 거꾸로 출력하는 코드를 for 루프와 range를 기반으로 만들어 보자. 단, 출력 내용으로는\n",
    "다음과 같이 결과만 보이기로 하자.\n",
    "  63 56 49 42 35 28 21 14 7\n",
    "\"\"\""
   ]
  },
  {
   "cell_type": "code",
   "execution_count": 9,
   "metadata": {},
   "outputs": [
    {
     "name": "stdout",
     "output_type": "stream",
     "text": [
      "63 56 49 42 35 28 21 14 7 "
     ]
    }
   ],
   "source": [
    "for i in range(9, 0, -1):\n",
    "    print(7 * i, end = ' ')"
   ]
  },
  {
   "cell_type": "code",
   "execution_count": null,
   "metadata": {},
   "outputs": [],
   "source": [
    "\"\"\" 문제 2\n",
    "다음 튜플을 만들어 보자. 이 튜플은 1부터 시작해서 100까지 증가한다. 그리고 다시 1씩 줄어들어서 마지막\n",
    "에 1로 끝난다.\n",
    "  (1, 2, 3, 4, 5, 6, 7, ..., 79, 98, 99, 100, 99, 98, 97, 96, ..., 5, 4, 3, 2, 1)\n",
    "\n",
    "물론 위의 숫자를 모두 입력해서 만들라는 뜻이 아니다. 레인지와 이를 튜플로 바꿔주는 함수를 사용해서 한\n",
    "줄에 입력 가능한 수준으로 만들어보라는 의미이다. 참고로 이런한 튜플을 만들려면 값이 증가하는 튜플과\n",
    "감소하는 튜플을 각각 생성해서 이를 하나로 묶는 과정을 거쳐야 한다.\n",
    "\"\"\""
   ]
  },
  {
   "cell_type": "code",
   "execution_count": 11,
   "metadata": {},
   "outputs": [
    {
     "name": "stdout",
     "output_type": "stream",
     "text": [
      "(1, 2, 3, 4, 5, 6, 7, 8, 9, 10, 11, 12, 13, 14, 15, 16, 17, 18, 19, 20, 21, 22, 23, 24, 25, 26, 27, 28, 29, 30, 31, 32, 33, 34, 35, 36, 37, 38, 39, 40, 41, 42, 43, 44, 45, 46, 47, 48, 49, 50, 51, 52, 53, 54, 55, 56, 57, 58, 59, 60, 61, 62, 63, 64, 65, 66, 67, 68, 69, 70, 71, 72, 73, 74, 75, 76, 77, 78, 79, 80, 81, 82, 83, 84, 85, 86, 87, 88, 89, 90, 91, 92, 93, 94, 95, 96, 97, 98, 99, 100, 99, 98, 97, 96, 95, 94, 93, 92, 91, 90, 89, 88, 87, 86, 85, 84, 83, 82, 81, 80, 79, 78, 77, 76, 75, 74, 73, 72, 71, 70, 69, 68, 67, 66, 65, 64, 63, 62, 61, 60, 59, 58, 57, 56, 55, 54, 53, 52, 51, 50, 49, 48, 47, 46, 45, 44, 43, 42, 41, 40, 39, 38, 37, 36, 35, 34, 33, 32, 31, 30, 29, 28, 27, 26, 25, 24, 23, 22, 21, 20, 19, 18, 17, 16, 15, 14, 13, 12, 11, 10, 9, 8, 7, 6, 5, 4, 3, 2, 1)\n"
     ]
    }
   ],
   "source": [
    "tbl = tuple(range(1, 100)) + tuple(range(100, 0, -1))\n",
    "print(tbl)"
   ]
  }
 ],
 "metadata": {
  "kernelspec": {
   "display_name": "Python 3",
   "language": "python",
   "name": "python3"
  },
  "language_info": {
   "codemirror_mode": {
    "name": "ipython",
    "version": 3
   },
   "file_extension": ".py",
   "mimetype": "text/x-python",
   "name": "python",
   "nbconvert_exporter": "python",
   "pygments_lexer": "ipython3",
   "version": "3.8.3"
  }
 },
 "nbformat": 4,
 "nbformat_minor": 4
}
