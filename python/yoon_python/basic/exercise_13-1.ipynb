{
 "cells": [
  {
   "cell_type": "code",
   "execution_count": null,
   "metadata": {},
   "outputs": [],
   "source": [
    "\"\"\" [연습문제 13-1] \"\"\""
   ]
  },
  {
   "cell_type": "code",
   "execution_count": null,
   "metadata": {},
   "outputs": [],
   "source": [
    "\"\"\" 문제 1\n",
    "친구의 이름과 전화번호 정보를 담을 수 있는 클래스를 만들어 보자. 아래에서 보이는 내용과 동일한 흐름을\n",
    "보이도록 클래스 Friend를 정의하면 된다. 그리고 Friend 클래스를 만들었으면 지우지 말자. 문제 2에서\n",
    "이 클래스를 대상으로 문제를 제시한다.\n",
    "  >>> class Friend:\n",
    "  >>>     ____________________  # Friend 클래스의 정의를 여러 줄에 걸쳐 완성한다.\n",
    "  \n",
    "  >>> f = Friend('윤성우', '010-1111-2222')  # Friend 객체 생성\n",
    "  >>> f.get_name()   # 이름 정보 반환\n",
    "  '윤성우'\n",
    "  >>> f.get_phone()  # 전화번호 정보 반환\n",
    "  '010-1111-2222'\n",
    "  >>> f.set_phone('010-3333-4444')  # 전화번호 정보 수정\n",
    "  >>> f.show_info()  # 이름, 전화번호 정보 함께 출력\n",
    "  이름: 윤성우\n",
    "  전화번호: 010-3333-4444\n",
    "\n",
    "참고로 위와 같이 동작하게 하려면, 생성자 __init__ 함수와 다음 네 개의 함수를 만들어서 클래스 Friend\n",
    "를 채워야 한다.\n",
    "  get_name, get_phone, set_phone, show_info\n",
    "  \n",
    "\"\"\""
   ]
  },
  {
   "cell_type": "code",
   "execution_count": 1,
   "metadata": {},
   "outputs": [],
   "source": [
    "class Friend:\n",
    "    def __init__(self, name, phone_num):\n",
    "        self.name = name\n",
    "        self.phone_num = phone_num\n",
    "    \n",
    "    def get_name(self):\n",
    "        return self.name\n",
    "    \n",
    "    def get_phone(self):\n",
    "        return self.phone_num\n",
    "    \n",
    "    def set_phone(self, phone_num):\n",
    "        self.phone_num = phone_num\n",
    "    \n",
    "    def show_info(self):\n",
    "        print(\"이름:\", self.name)\n",
    "        print(\"전화번호:\", self.phone_num)"
   ]
  },
  {
   "cell_type": "code",
   "execution_count": 2,
   "metadata": {},
   "outputs": [],
   "source": [
    "f = Friend('윤성우', '010-1111-2222')  # Friend 객체 생성"
   ]
  },
  {
   "cell_type": "code",
   "execution_count": 3,
   "metadata": {},
   "outputs": [
    {
     "data": {
      "text/plain": [
       "'윤성우'"
      ]
     },
     "execution_count": 3,
     "metadata": {},
     "output_type": "execute_result"
    }
   ],
   "source": [
    "f.get_name()   # 이름 정보 반환"
   ]
  },
  {
   "cell_type": "code",
   "execution_count": 4,
   "metadata": {},
   "outputs": [
    {
     "data": {
      "text/plain": [
       "'010-1111-2222'"
      ]
     },
     "execution_count": 4,
     "metadata": {},
     "output_type": "execute_result"
    }
   ],
   "source": [
    "f.get_phone()  # 전화번호 정보 반환"
   ]
  },
  {
   "cell_type": "code",
   "execution_count": 5,
   "metadata": {},
   "outputs": [],
   "source": [
    "f.set_phone('010-3333-4444')  # 전화번호 정보 수정"
   ]
  },
  {
   "cell_type": "code",
   "execution_count": 6,
   "metadata": {},
   "outputs": [
    {
     "name": "stdout",
     "output_type": "stream",
     "text": [
      "이름: 윤성우\n",
      "전화번호: 010-3333-4444\n"
     ]
    }
   ],
   "source": [
    "f.show_info()  # 이름, 전화번호 정보 함께 출력"
   ]
  },
  {
   "cell_type": "code",
   "execution_count": null,
   "metadata": {},
   "outputs": [],
   "source": [
    "\"\"\" 문제 2\n",
    "문제 1에서 정의한 클래스 Friend를 기반으로 다음 네 친구의 정보를 담은 Friend 객체를 각각 생성해서\n",
    "리스트에 담아보자. 그리고 이 리스트는 지우지 말자. 문제 3, 4에서 이 리스트를 대상으로 문제를 제시한다.\n",
    "  윤지민   010-1111-2222\n",
    "  이선준   010-3333-4444\n",
    "  장지우   010-5555-6666\n",
    "  윤지율   010-7777-8888\n",
    "\n",
    "그리고 이어서 리스트에 담긴 객체가 지니는 이름과 전화번호 정보를 모두 출력하는 for 루프를 작성해 보자.\n",
    "\"\"\""
   ]
  },
  {
   "cell_type": "code",
   "execution_count": 23,
   "metadata": {},
   "outputs": [],
   "source": [
    "frn_lst = []\n",
    "frn_lst.append(Friend('윤지민', '010-1111-2222'))\n",
    "frn_lst.append(Friend('이선준', '010-3333-4444'))\n",
    "frn_lst.append(Friend('장지우', '010-5555-6666'))\n",
    "frn_lst.append(Friend('윤지율', '010-7777-8888'))"
   ]
  },
  {
   "cell_type": "code",
   "execution_count": 24,
   "metadata": {},
   "outputs": [
    {
     "name": "stdout",
     "output_type": "stream",
     "text": [
      "이름: 윤지민\n",
      "전화번호: 010-1111-2222\n",
      "이름: 이선준\n",
      "전화번호: 010-3333-4444\n",
      "이름: 장지우\n",
      "전화번호: 010-5555-6666\n",
      "이름: 윤지율\n",
      "전화번호: 010-7777-8888\n"
     ]
    }
   ],
   "source": [
    "for i in frn_lst:\n",
    "    i.show_info()"
   ]
  },
  {
   "cell_type": "code",
   "execution_count": null,
   "metadata": {},
   "outputs": [],
   "source": [
    "\"\"\" 문제 3\n",
    "리스트에 담긴 객체 중에서 성이 '윤'인 사람의 이름과 전화번호를 전부 출력하는 for 루프를 작성해 보자.\n",
    "참고로 이 문제의 해결을 위해서는 다음 함수를 사용할 필요가 있다. (이 함수는 7장에서 소개한 함수이다.)\n",
    "  s.startswith(prefix)   문자열 s가 prefix로 시작하면 True, 아니면 False반환\n",
    "\"\"\""
   ]
  },
  {
   "cell_type": "code",
   "execution_count": 25,
   "metadata": {},
   "outputs": [
    {
     "name": "stdout",
     "output_type": "stream",
     "text": [
      "이름: 윤지민\n",
      "전화번호: 010-1111-2222\n",
      "이름: 윤지율\n",
      "전화번호: 010-7777-8888\n"
     ]
    }
   ],
   "source": [
    "for i in frn_lst:\n",
    "    if i.get_name().startswith('윤'):\n",
    "        i.show_info()"
   ]
  },
  {
   "cell_type": "code",
   "execution_count": null,
   "metadata": {},
   "outputs": [],
   "source": [
    "\"\"\" 문제 4\n",
    "리스트에 담긴 객체 중에서 '장지우'의 전화번호를 다음과 같이 수정하는 코드를 for 루프를 기반으로 작성해\n",
    "보자.\n",
    "  장지우   010-9999-9999\n",
    "\n",
    "그리고 수정이 끝나면 정상적으로 수정되었는지 확인하기 위해서 '장지우'의 정보를 찾아서 출력하는 for 루프\n",
    "를 작성하자.\n",
    "\"\"\""
   ]
  },
  {
   "cell_type": "code",
   "execution_count": 26,
   "metadata": {},
   "outputs": [],
   "source": [
    "for i in frn_lst:\n",
    "    if i.get_name() == '장지우':\n",
    "        i.set_phone('010-9999-9999')"
   ]
  },
  {
   "cell_type": "code",
   "execution_count": 27,
   "metadata": {},
   "outputs": [
    {
     "name": "stdout",
     "output_type": "stream",
     "text": [
      "이름: 장지우\n",
      "전화번호: 010-9999-9999\n"
     ]
    }
   ],
   "source": [
    "for i in frn_lst:\n",
    "    if i.get_name() == '장지우':\n",
    "        i.show_info()"
   ]
  }
 ],
 "metadata": {
  "kernelspec": {
   "display_name": "Python 3",
   "language": "python",
   "name": "python3"
  },
  "language_info": {
   "codemirror_mode": {
    "name": "ipython",
    "version": 3
   },
   "file_extension": ".py",
   "mimetype": "text/x-python",
   "name": "python",
   "nbconvert_exporter": "python",
   "pygments_lexer": "ipython3",
   "version": "3.8.3"
  }
 },
 "nbformat": 4,
 "nbformat_minor": 4
}
