{
 "cells": [
  {
   "cell_type": "code",
   "execution_count": null,
   "metadata": {},
   "outputs": [],
   "source": [
    "\"\"\" [연습문제 08-1] \"\"\"\n"
   ]
  },
  {
   "cell_type": "code",
   "execution_count": null,
   "metadata": {},
   "outputs": [],
   "source": [
    "\"\"\" 문제 1\n",
    "0부터 시작해서 값을 하나씩 증가시키며 9까지 출력을 보이는 코드를 while 루프를 기반으로 작성해 보자.\n",
    "\"\"\""
   ]
  },
  {
   "cell_type": "code",
   "execution_count": 2,
   "metadata": {},
   "outputs": [
    {
     "name": "stdout",
     "output_type": "stream",
     "text": [
      "0 1 2 3 4 5 6 7 8 9 "
     ]
    }
   ],
   "source": [
    "def main():\n",
    "    i = 0\n",
    "    while i < 10:\n",
    "        print(i, end = ' ')\n",
    "        i += 1\n",
    "\n",
    "main()"
   ]
  },
  {
   "cell_type": "code",
   "execution_count": null,
   "metadata": {},
   "outputs": [],
   "source": [
    "\"\"\" 문제 2\n",
    "9에서부터 값을 하나씩 감소시키며 0까지 출력을 보이는 코드를 while 루프를 기반으로 작성해 보자.\n",
    "\"\"\""
   ]
  },
  {
   "cell_type": "code",
   "execution_count": 4,
   "metadata": {},
   "outputs": [
    {
     "name": "stdout",
     "output_type": "stream",
     "text": [
      "9 8 7 6 5 4 3 2 1 0 "
     ]
    }
   ],
   "source": [
    "def main():\n",
    "    i = 10\n",
    "    while i > 0:\n",
    "        i -= 1\n",
    "        print(i, end = ' ')\n",
    "\n",
    "main()"
   ]
  },
  {
   "cell_type": "code",
   "execution_count": null,
   "metadata": {},
   "outputs": [],
   "source": [
    "\"\"\" 문제 3\n",
    "다음 수식의 빈칸에 들어갈 '수'를 찾는 코드를 작성해 보자. 단 빈칸에 들어갈 수는 1부터 시작해서 1씩\n",
    "증가시켜가면 찾기로 하자.\n",
    "  3 x □ ÷ 2 = 63\n",
    "  \n",
    "빈칸에 들어갈 '수'를 찾는 코드는 다음과 같은 방식으로 작성하기로 하자.\n",
    "  >>> num = 0  # num의 값이 위 수식의 빈칸에 넣어 볼 값이다.\n",
    "  >>>     # 필요하면 변수도 선언하고\n",
    "  >>>     # 이 위치에서 while 루프를 작성한다.\n",
    "  ...\n",
    "  >>> num  # while 루프 탈출 후, num에는 빈칸에 들어갈 수 42가 저장되어 있어야 한다.\n",
    "  42\n",
    "\n",
    "다양한 결과가 존재할 수 있는데, 위에서 보듯이 최종적으로 num에 저장된 값이 42이면, 그리고 while\n",
    "루프를 통해서 그 값을 찾았다면 모두 답으로 인정한다.\n",
    "\"\"\""
   ]
  },
  {
   "cell_type": "code",
   "execution_count": 5,
   "metadata": {},
   "outputs": [
    {
     "data": {
      "text/plain": [
       "42"
      ]
     },
     "execution_count": 5,
     "metadata": {},
     "output_type": "execute_result"
    }
   ],
   "source": [
    "num = 0\n",
    "while (3 * num) / 2 != 63:\n",
    "    num += 1\n",
    "    \n",
    "num"
   ]
  }
 ],
 "metadata": {
  "kernelspec": {
   "display_name": "Python 3",
   "language": "python",
   "name": "python3"
  },
  "language_info": {
   "codemirror_mode": {
    "name": "ipython",
    "version": 3
   },
   "file_extension": ".py",
   "mimetype": "text/x-python",
   "name": "python",
   "nbconvert_exporter": "python",
   "pygments_lexer": "ipython3",
   "version": "3.8.5"
  }
 },
 "nbformat": 4,
 "nbformat_minor": 4
}
