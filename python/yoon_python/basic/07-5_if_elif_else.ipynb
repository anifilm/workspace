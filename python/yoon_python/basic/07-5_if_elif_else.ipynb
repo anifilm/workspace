{
 "cells": [
  {
   "cell_type": "code",
   "execution_count": null,
   "metadata": {},
   "outputs": [],
   "source": [
    "\"\"\" 07-5 if ~ elif ~ else문: 여러 길 중에서 하나의 길만 선택! \"\"\"\n"
   ]
  },
  {
   "cell_type": "code",
   "execution_count": 1,
   "metadata": {},
   "outputs": [
    {
     "name": "stdout",
     "output_type": "stream",
     "text": [
      "정수 입력: 0\n",
      "0으로 판단이 됩니다.\n"
     ]
    }
   ],
   "source": [
    "def main():\n",
    "    num = int(input(\"정수 입력: \"))\n",
    "    # 조건에 따라서 아래 문장 1, 2, 3 중 하나만 실행이 된다.\n",
    "    if num > 0:\n",
    "        print(\"0보다 큰 수입니다.\")  # 문장 1\n",
    "    elif num < 0:\n",
    "        print(\"0보다 작은 수입니다.\")  # 문장 2\n",
    "    else:\n",
    "        print(\"0으로 판단이 됩니다.\")  # 문장 3\n",
    "\n",
    "main()"
   ]
  }
 ],
 "metadata": {
  "kernelspec": {
   "display_name": "Python 3",
   "language": "python",
   "name": "python3"
  },
  "language_info": {
   "codemirror_mode": {
    "name": "ipython",
    "version": 3
   },
   "file_extension": ".py",
   "mimetype": "text/x-python",
   "name": "python",
   "nbconvert_exporter": "python",
   "pygments_lexer": "ipython3",
   "version": "3.8.5"
  }
 },
 "nbformat": 4,
 "nbformat_minor": 4
}
