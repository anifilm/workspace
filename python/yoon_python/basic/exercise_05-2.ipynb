{
 "cells": [
  {
   "cell_type": "code",
   "execution_count": null,
   "metadata": {},
   "outputs": [],
   "source": [
    "\"\"\" [연습문제 05-2] \"\"\"\n"
   ]
  },
  {
   "cell_type": "code",
   "execution_count": null,
   "metadata": {},
   "outputs": [],
   "source": [
    "\"\"\" 문제 1\n",
    "다음 리스트를 대상으로 2와 4를 삭제하는 문장을 만들어 보자. (이 경우 2와 4를 삭제하려는 노력보다\n",
    "2, 3, 4를 3 하나로 교체하는 노력을 해보면 어떨까?)\n",
    "  st = [1, 2, 3, 4, 5]\n",
    "\"\"\""
   ]
  },
  {
   "cell_type": "code",
   "execution_count": 7,
   "metadata": {},
   "outputs": [
    {
     "name": "stdout",
     "output_type": "stream",
     "text": [
      "[1, 3, 5]\n"
     ]
    }
   ],
   "source": [
    "st = [1, 2, 3, 4, 5]\n",
    "st[1:4] = [3]\n",
    "print(st)"
   ]
  },
  {
   "cell_type": "code",
   "execution_count": null,
   "metadata": {},
   "outputs": [],
   "source": [
    "\"\"\" 문제 2\n",
    "다음 리스트를 대상으로 3과 4사이에 3.5를 넣어보자. (이 경우 값을 끼워 넣을 생각을 하지 말고 일부\n",
    "내용을 교체할 생각을 해보면 어떨까?)\n",
    "  st = [1, 2, 3, 4, 5]\n",
    "\"\"\""
   ]
  },
  {
   "cell_type": "code",
   "execution_count": 10,
   "metadata": {},
   "outputs": [
    {
     "name": "stdout",
     "output_type": "stream",
     "text": [
      "[1, 2, 3, 3.5, 4, 5]\n"
     ]
    }
   ],
   "source": [
    "st = [1, 2, 3, 4, 5]\n",
    "st[2:3] = [3, 3.5]\n",
    "print(st)"
   ]
  },
  {
   "cell_type": "code",
   "execution_count": null,
   "metadata": {},
   "outputs": [],
   "source": [
    "\"\"\" 문제 3\n",
    "다음 리스트를 대상으로 2, 3, 4를 삭제해 보자.\n",
    "  st = [1, 2, 3, 4, 5]\n",
    "\n",
    "이 문제를 해결하는 방법에는 몇 가지가 있는데, 여기서는 빈 리스트로 2, 3, 4를 대체하는 방법을 선택하자.\n",
    "\"\"\""
   ]
  },
  {
   "cell_type": "code",
   "execution_count": 14,
   "metadata": {},
   "outputs": [
    {
     "name": "stdout",
     "output_type": "stream",
     "text": [
      "[1, 5]\n"
     ]
    }
   ],
   "source": [
    "st = [1, 2, 3, 4, 5]\n",
    "st[1:4] = []\n",
    "print(st)"
   ]
  },
  {
   "cell_type": "code",
   "execution_count": null,
   "metadata": {},
   "outputs": [],
   "source": [
    "\"\"\" 문제 4\n",
    "다음 리스트에 담겨 있는 값을 전부 지워보자. 즉 다음 리스트를 텅 빈 리스트로 만들어 보자.\n",
    "  st = [1, 2, 3, 4, 5]\n",
    "\"\"\""
   ]
  },
  {
   "cell_type": "code",
   "execution_count": 16,
   "metadata": {},
   "outputs": [
    {
     "name": "stdout",
     "output_type": "stream",
     "text": [
      "[]\n"
     ]
    }
   ],
   "source": [
    "st = [1, 2, 3, 4, 5]\n",
    "st[:] = []\n",
    "print(st)"
   ]
  },
  {
   "cell_type": "code",
   "execution_count": null,
   "metadata": {},
   "outputs": [],
   "source": [
    "\"\"\" 문제 5\n",
    "다음 리스트를 대상으로 홀수 번째 위치에 저장된 값들만 뽑아서 새로운 리스트를 만들어 변수 nt에 저장하는\n",
    "코드를 작성해 보자. 그러니까 다음 리스트를 통해서 새로 만들어야 할 리스트는 [1, 3, 5, 7, 9]이다.\n",
    "  st = [1, 2, 3, 4, 5, 6, 7, 8, 9, 10]\n",
    "\"\"\""
   ]
  },
  {
   "cell_type": "code",
   "execution_count": 17,
   "metadata": {},
   "outputs": [
    {
     "name": "stdout",
     "output_type": "stream",
     "text": [
      "[1, 3, 5, 7, 9]\n"
     ]
    }
   ],
   "source": [
    "st = [1, 2, 3, 4, 5, 6, 7, 8, 9, 10]\n",
    "nt = st[::2]\n",
    "print(nt)"
   ]
  },
  {
   "cell_type": "code",
   "execution_count": null,
   "metadata": {},
   "outputs": [],
   "source": [
    "\"\"\" 문제 6\n",
    "다음 리스트를 대상으로 짝수 번째 위치에 저장된 값들만 뽑아서 새로운 리스트를 만들어 변수 nt에 저장하는\n",
    "코드를 작성해 보자. 그러니까 다음 리스트를 통해서 새로 만들어야 할 리스트는 [2, 4, 6, 8, 10]이다.\n",
    "  st = [1, 2, 3, 4, 5, 6, 7, 8, 9, 10]\n",
    "\"\"\""
   ]
  },
  {
   "cell_type": "code",
   "execution_count": 19,
   "metadata": {},
   "outputs": [
    {
     "name": "stdout",
     "output_type": "stream",
     "text": [
      "[2, 4, 6, 8, 10]\n"
     ]
    }
   ],
   "source": [
    "st = [1, 2, 3, 4, 5, 6, 7, 8, 9, 10]\n",
    "nt = st[1::2]\n",
    "print(nt)"
   ]
  }
 ],
 "metadata": {
  "kernelspec": {
   "display_name": "Python 3",
   "language": "python",
   "name": "python3"
  },
  "language_info": {
   "codemirror_mode": {
    "name": "ipython",
    "version": 3
   },
   "file_extension": ".py",
   "mimetype": "text/x-python",
   "name": "python",
   "nbconvert_exporter": "python",
   "pygments_lexer": "ipython3",
   "version": "3.8.5"
  }
 },
 "nbformat": 4,
 "nbformat_minor": 4
}
