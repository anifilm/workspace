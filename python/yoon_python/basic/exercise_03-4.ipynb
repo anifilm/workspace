{
 "cells": [
  {
   "cell_type": "code",
   "execution_count": null,
   "metadata": {},
   "outputs": [],
   "source": [
    "\"\"\" [연습문제 03-4] \"\"\"\n"
   ]
  },
  {
   "cell_type": "code",
   "execution_count": null,
   "metadata": {},
   "outputs": [],
   "source": [
    "\"\"\" 문제 1\n",
    "\"안녕하세요.\"를 총 5회 출력하는 코드를 for와 range 기반으로 작성해 보자. \"\"\""
   ]
  },
  {
   "cell_type": "code",
   "execution_count": 1,
   "metadata": {},
   "outputs": [
    {
     "name": "stdout",
     "output_type": "stream",
     "text": [
      "안녕하세요.\n",
      "안녕하세요.\n",
      "안녕하세요.\n",
      "안녕하세요.\n",
      "안녕하세요.\n"
     ]
    }
   ],
   "source": [
    "for i in range(5):\n",
    "    print(\"안녕하세요.\")"
   ]
  },
  {
   "cell_type": "code",
   "execution_count": null,
   "metadata": {},
   "outputs": [],
   "source": [
    "\"\"\" 문제 2\n",
    "구구단 7단 전부를 출력하는 코드를 for와 range 기반으로 작성해 보자. \"\"\""
   ]
  },
  {
   "cell_type": "code",
   "execution_count": 2,
   "metadata": {},
   "outputs": [
    {
     "name": "stdout",
     "output_type": "stream",
     "text": [
      "7 x 1 = 7\n",
      "7 x 2 = 14\n",
      "7 x 3 = 21\n",
      "7 x 4 = 28\n",
      "7 x 5 = 35\n",
      "7 x 6 = 42\n",
      "7 x 7 = 49\n",
      "7 x 8 = 56\n",
      "7 x 9 = 63\n"
     ]
    }
   ],
   "source": [
    "for i in range(1, 10):\n",
    "    print(\"7 x\", i, \"=\" , 7 * i)"
   ]
  },
  {
   "cell_type": "code",
   "execution_count": null,
   "metadata": {},
   "outputs": [],
   "source": [
    "\"\"\" 문제 3\n",
    "다음 수식의 결과를 계산해서 그 값을 반환하는 함수를 for와 range 기반으로 정의해 보자.\n",
    "  x ** y\n",
    "예를 들어서 함수의 이름이 exp라 할 때, exp(2, 3)의 형태로 호출되면 2³ = 2 x 2 x 2 = 8 이므로\n",
    "8이 반환되어야 한다. 이 문제는 함수 안에 for 루프를 넣어서 작성해야 하므로 조금 어렵게 느낄 수 있다.\n",
    "그러나 시도해 보자! 안되면 답안을 보고서 이해하면 되니까 스트레스는 받지 말자.\n",
    "\"\"\""
   ]
  },
  {
   "cell_type": "code",
   "execution_count": 4,
   "metadata": {},
   "outputs": [
    {
     "name": "stdout",
     "output_type": "stream",
     "text": [
      "8\n"
     ]
    }
   ],
   "source": [
    "def exp(x, y):\n",
    "    result = 1\n",
    "    for i in range(y):\n",
    "        result *= x \n",
    "    return result\n",
    "\n",
    "result = exp(2, 3)\n",
    "print(result)"
   ]
  },
  {
   "cell_type": "code",
   "execution_count": null,
   "metadata": {},
   "outputs": [],
   "source": [
    "\"\"\" 문제 4\n",
    "\"반갑습니다.\"를 여러 번 출력하는 greet이라는 이름의 함수를 만들어 보자. 단, 몇 번 출력할지는 프로그램\n",
    "사용자에게 묻고 입력받는 형태로 작성하자. 즉 함수가 호출되면 다음과 같은 실행 흐름을 보여야 한다.\n",
    "\n",
    ">>> greet()\n",
    "인사를 몇 번 할까요? 2\n",
    "반갑습니다.\n",
    "반갑습니다.\n",
    "\"\"\""
   ]
  },
  {
   "cell_type": "code",
   "execution_count": 5,
   "metadata": {},
   "outputs": [
    {
     "name": "stdout",
     "output_type": "stream",
     "text": [
      "인사를 몇 번 할까요? 2\n",
      "반갑습니다.\n",
      "반갑습니다.\n"
     ]
    }
   ],
   "source": [
    "def greet(n):\n",
    "    for i in range(n):\n",
    "        print(\"반갑습니다.\")\n",
    "\n",
    "greet(eval(input(\"인사를 몇 번 할까요? \")))"
   ]
  }
 ],
 "metadata": {
  "kernelspec": {
   "display_name": "Python 3",
   "language": "python",
   "name": "python3"
  },
  "language_info": {
   "codemirror_mode": {
    "name": "ipython",
    "version": 3
   },
   "file_extension": ".py",
   "mimetype": "text/x-python",
   "name": "python",
   "nbconvert_exporter": "python",
   "pygments_lexer": "ipython3",
   "version": "3.8.5"
  }
 },
 "nbformat": 4,
 "nbformat_minor": 4
}
