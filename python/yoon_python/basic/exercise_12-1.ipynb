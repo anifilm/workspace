{
 "cells": [
  {
   "cell_type": "code",
   "execution_count": null,
   "metadata": {},
   "outputs": [],
   "source": [
    "\"\"\" [연습문제 12-1] \"\"\"\n"
   ]
  },
  {
   "cell_type": "code",
   "execution_count": null,
   "metadata": {},
   "outputs": [],
   "source": [
    "\"\"\" 문제 1\n",
    "과자의 가격 정보가 담겨있는 다음 딕셔너리를 보자.\n",
    "  dc = {'새우깡': 700, '콘치즈': 850, '꼬깔콘': 750}\n",
    "\n",
    "여기에 다음 정보를 추가하는 코드를 작성해 보자.\n",
    "  '홈런볼': 900\n",
    "  \n",
    "\"\"\""
   ]
  },
  {
   "cell_type": "code",
   "execution_count": 1,
   "metadata": {},
   "outputs": [
    {
     "data": {
      "text/plain": [
       "{'새우깡': 700, '콘치즈': 850, '꼬깔콘': 750, '홈런볼': 900}"
      ]
     },
     "execution_count": 1,
     "metadata": {},
     "output_type": "execute_result"
    }
   ],
   "source": [
    "dc = {'새우깡': 700, '콘치즈': 850, '꼬깔콘': 750}\n",
    "dc['홈런볼'] = 900\n",
    "dc"
   ]
  },
  {
   "cell_type": "code",
   "execution_count": null,
   "metadata": {},
   "outputs": [],
   "source": [
    "\"\"\" 문제 2\n",
    "문제 1의 결과에 이어서 모든 과자의 가격을 100원씩 올려보자.\n",
    "\"\"\""
   ]
  },
  {
   "cell_type": "code",
   "execution_count": 2,
   "metadata": {},
   "outputs": [
    {
     "data": {
      "text/plain": [
       "{'새우깡': 800, '콘치즈': 950, '꼬깔콘': 850, '홈런볼': 1000}"
      ]
     },
     "execution_count": 2,
     "metadata": {},
     "output_type": "execute_result"
    }
   ],
   "source": [
    "for k in dc:\n",
    "    dc[k] += 100\n",
    "dc"
   ]
  },
  {
   "cell_type": "code",
   "execution_count": null,
   "metadata": {},
   "outputs": [],
   "source": [
    "\"\"\" 문제 3\n",
    "'콘치즈'의 이름이 '치즈콘'으로 바뀌었다. 따라서 다음 정보를 삭제하고(문제 2에서 과자 가격을 100원씩\n",
    "올려서 콘치즈 현재 가격은 950원임),\n",
    "  '콘치즈': 950\n",
    "\n",
    "이어서 다음 정보를 추가해야 하니, 문제 2의 결과를 대상으로 이 두 작업을 진핸해 보자.\n",
    "  '치즈콘': 950\n",
    "  \n",
    "\"\"\""
   ]
  },
  {
   "cell_type": "code",
   "execution_count": 6,
   "metadata": {},
   "outputs": [
    {
     "data": {
      "text/plain": [
       "{'새우깡': 800, '꼬깔콘': 850, '홈런볼': 1000, '치즈콘': 950}"
      ]
     },
     "execution_count": 6,
     "metadata": {},
     "output_type": "execute_result"
    }
   ],
   "source": [
    "if '콘치즈' in dc:\n",
    "    del dc['콘치즈']\n",
    "if '치즈콘' not in dc:\n",
    "    dc['치즈콘'] = 950\n",
    "dc"
   ]
  }
 ],
 "metadata": {
  "kernelspec": {
   "display_name": "Python 3",
   "language": "python",
   "name": "python3"
  },
  "language_info": {
   "codemirror_mode": {
    "name": "ipython",
    "version": 3
   },
   "file_extension": ".py",
   "mimetype": "text/x-python",
   "name": "python",
   "nbconvert_exporter": "python",
   "pygments_lexer": "ipython3",
   "version": "3.8.5"
  }
 },
 "nbformat": 4,
 "nbformat_minor": 4
}
