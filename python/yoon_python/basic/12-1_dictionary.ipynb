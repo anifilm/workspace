{
 "cells": [
  {
   "cell_type": "code",
   "execution_count": null,
   "metadata": {},
   "outputs": [],
   "source": [
    "\"\"\" 12-1 딕셔너리의 이해 \"\"\""
   ]
  },
  {
   "cell_type": "code",
   "execution_count": 3,
   "metadata": {},
   "outputs": [
    {
     "data": {
      "text/plain": [
       "{'정은호': '010-3333-56XX', '구아나': '010-2222-65XX'}"
      ]
     },
     "execution_count": 3,
     "metadata": {},
     "output_type": "execute_result"
    }
   ],
   "source": [
    "dc = {'정은호': '010-3333-56XX', '구아나': '010-2222-65XX'}  # 딕셔너리\n",
    "dc"
   ]
  },
  {
   "cell_type": "code",
   "execution_count": 5,
   "metadata": {},
   "outputs": [
    {
     "data": {
      "text/plain": [
       "{'코카콜라': 900, '바나나맛우유': 750, '비타500': 600, '삼다수': 450}"
      ]
     },
     "execution_count": 5,
     "metadata": {},
     "output_type": "execute_result"
    }
   ],
   "source": [
    "dc = {\n",
    "    '코카콜라': 900,\n",
    "    '바나나맛우유': 750,\n",
    "    '비타500': 600,\n",
    "    '삼다수': 450\n",
    "}\n",
    "dc"
   ]
  },
  {
   "cell_type": "code",
   "execution_count": 6,
   "metadata": {},
   "outputs": [],
   "source": [
    "# 위에서 보인 것처럼 딕셔너리에 값을 저장할 때에는 구분이 잘 되도록 여러 줄에 걸쳐서 그 내용을 쓸 수\n",
    "# 있으며 이는 매우 괜찮은 선택이다. 그리고 위의 경우 '키'는 문자열인 반면 '값'은 정수이다. 이렇듯\n",
    "# 키와 값은 무엇이든 될 수 있다. (단, 리스트는 키로 둘 수 없다.) 다음에서 보이듯이 튜플을 값으로\n",
    "# 두는 것도 된다. 물론 리스트를 값으로 두는 것도 가능하다."
   ]
  },
  {
   "cell_type": "code",
   "execution_count": 9,
   "metadata": {},
   "outputs": [
    {
     "data": {
      "text/plain": [
       "{'코카콜라': (900, '탄산음료'),\n",
       " '바나나맛우유': (750, '유제품'),\n",
       " '비타500': (600, '비타민음료'),\n",
       " '삼다수': (450, '생수')}"
      ]
     },
     "execution_count": 9,
     "metadata": {},
     "output_type": "execute_result"
    }
   ],
   "source": [
    "dc = {\n",
    "    '코카콜라': (900, '탄산음료'),\n",
    "    '바나나맛우유': (750, '유제품'),\n",
    "    '비타500': (600, '비타민음료'),\n",
    "    '삼다수': (450, '생수')\n",
    "}\n",
    "dc"
   ]
  },
  {
   "cell_type": "code",
   "execution_count": null,
   "metadata": {},
   "outputs": [],
   "source": [
    "# 그리고 딕셔너리에 저장되는 값의 종류는 각각 달라도 되며 때로는 그렇게 저장하는 것이 필요할 때도 있다.\n",
    "# 다음의 예와 같이 말이다."
   ]
  },
  {
   "cell_type": "code",
   "execution_count": 8,
   "metadata": {},
   "outputs": [
    {
     "data": {
      "text/plain": [
       "{'이름': '이순둥', '나이': 19, '직업': '학생', '키': 175.8}"
      ]
     },
     "execution_count": 8,
     "metadata": {},
     "output_type": "execute_result"
    }
   ],
   "source": [
    "dc = {\n",
    "    '이름': '이순둥',  # 값이 문자열\n",
    "    '나이': 19,       # 값이 정수\n",
    "    '직업': '학생',    # 값이 문자열\n",
    "    '키': 175.8       # 값이 실수\n",
    "}\n",
    "dc"
   ]
  },
  {
   "cell_type": "code",
   "execution_count": null,
   "metadata": {},
   "outputs": [],
   "source": [
    "# 한가지 주의할 점은 '값'은 중복되어도 괜찮지만 '키'는 이름 그대로 '값을 꺼내는 열쇠'의 의미를 갖기\n",
    "# 때문에 중복될 수 없다는 것이다. 예를 들어서 다음과 같이 서로 다른 키에 같은 값을 저장하는 것은\n",
    "# 가능하다."
   ]
  },
  {
   "cell_type": "code",
   "execution_count": 10,
   "metadata": {},
   "outputs": [
    {
     "data": {
      "text/plain": [
       "{'이순둥': 22, '정순둥': 22, '김순둥': 22}"
      ]
     },
     "execution_count": 10,
     "metadata": {},
     "output_type": "execute_result"
    }
   ],
   "source": [
    "dc = {\n",
    "    '이순둥': 22,\n",
    "    '정순둥': 22,\n",
    "    '김순둥': 22\n",
    "}\n",
    "dc"
   ]
  },
  {
   "cell_type": "code",
   "execution_count": null,
   "metadata": {},
   "outputs": [],
   "source": [
    "# 그러나 다음과 같이 같은 키의 데이터가 둘 이상 저장되면 이는 엉뚱한 결과로 이어진다."
   ]
  },
  {
   "cell_type": "code",
   "execution_count": 11,
   "metadata": {},
   "outputs": [
    {
     "data": {
      "text/plain": [
       "{'이순둥': 24}"
      ]
     },
     "execution_count": 11,
     "metadata": {},
     "output_type": "execute_result"
    }
   ],
   "source": [
    "dc = {\n",
    "    '이순둥': 22,  # 키가 '이순둥'\n",
    "    '이순둥': 23,  # 이것도 키가 '이순둥'\n",
    "    '이순둥': 24,  # 이것 역시 키가 '이순둥'\n",
    "}\n",
    "dc"
   ]
  }
 ],
 "metadata": {
  "kernelspec": {
   "display_name": "Python 3",
   "language": "python",
   "name": "python3"
  },
  "language_info": {
   "codemirror_mode": {
    "name": "ipython",
    "version": 3
   },
   "file_extension": ".py",
   "mimetype": "text/x-python",
   "name": "python",
   "nbconvert_exporter": "python",
   "pygments_lexer": "ipython3",
   "version": "3.8.3"
  }
 },
 "nbformat": 4,
 "nbformat_minor": 4
}
