{
 "cells": [
  {
   "cell_type": "code",
   "execution_count": null,
   "metadata": {},
   "outputs": [],
   "source": [
    "\"\"\" [연습문제 04-1] \"\"\"\n"
   ]
  },
  {
   "cell_type": "code",
   "execution_count": null,
   "metadata": {},
   "outputs": [],
   "source": [
    "\"\"\" 문제 1\n",
    "정수형 나눗셈의 결과를 출력하는 함수를 만들어 보자. 그래서 이 함수가 호출되면 다음의 실행 결과를\n",
    "보이도록 해보자. (아래 실행의 예에서 함수 이름이 int_div이라 가정하였다.)\n",
    "  >>> int_div(5, 2)  # 5 나누기 2의 몫과 나머지는?\n",
    "  몫: 2\n",
    "  나머지: 1\n",
    "\"\"\""
   ]
  },
  {
   "cell_type": "code",
   "execution_count": 1,
   "metadata": {},
   "outputs": [
    {
     "name": "stdout",
     "output_type": "stream",
     "text": [
      "몫: 2\n",
      "나머지: 1\n"
     ]
    }
   ],
   "source": [
    "def int_div(a, b):\n",
    "    print(\"몫:\", a // b)\n",
    "    print(\"나머지:\", a % b)\n",
    "    \n",
    "int_div(5, 2)"
   ]
  },
  {
   "cell_type": "code",
   "execution_count": null,
   "metadata": {},
   "outputs": [],
   "source": [
    "\"\"\" 문제 2\n",
    "두 수 사이의 모는 정수의 합을 구하는 코드를 작성하되 함수 형태로 정의해서 다음의 실행 결과를 보이도록\n",
    "해보자. (함수 이름이 bet_sum이라 가정하였다.)\n",
    "  >>> bet_sum(2, 5)  # 2와 5사이의 수 3과 4의 합은?\n",
    "  7\n",
    "  >>> bet_sum(1, 5)  # 1과 5사이의 수 2, 3, 4의 합은?\n",
    "  9\n",
    "\"\"\""
   ]
  },
  {
   "cell_type": "code",
   "execution_count": 4,
   "metadata": {},
   "outputs": [
    {
     "name": "stdout",
     "output_type": "stream",
     "text": [
      "7\n",
      "9\n"
     ]
    }
   ],
   "source": [
    "def bet_sum(a, b):\n",
    "    a += 1; sum = 0\n",
    "    for i in range(a, b):\n",
    "        sum += i\n",
    "    print(sum)\n",
    "\n",
    "bet_sum(2, 5)\n",
    "bet_sum(1, 5)"
   ]
  }
 ],
 "metadata": {
  "kernelspec": {
   "display_name": "Python 3",
   "language": "python",
   "name": "python3"
  },
  "language_info": {
   "codemirror_mode": {
    "name": "ipython",
    "version": 3
   },
   "file_extension": ".py",
   "mimetype": "text/x-python",
   "name": "python",
   "nbconvert_exporter": "python",
   "pygments_lexer": "ipython3",
   "version": "3.8.5"
  }
 },
 "nbformat": 4,
 "nbformat_minor": 4
}
