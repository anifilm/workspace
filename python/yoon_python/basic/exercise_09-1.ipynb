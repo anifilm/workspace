{
 "cells": [
  {
   "cell_type": "code",
   "execution_count": null,
   "metadata": {},
   "outputs": [],
   "source": [
    "\"\"\" [연습문제 09-1] \"\"\"\n"
   ]
  },
  {
   "cell_type": "code",
   "execution_count": null,
   "metadata": {},
   "outputs": [],
   "source": [
    "\"\"\"\n",
    "튜플을 인자로 전달하면, 이를 리스트로 바꿔주는 함수를 만들어 보자. 예를 들어서 to_list라는 이름으로\n",
    "함수를 만들었다면 다음과 같이 동작해야 한다.\n",
    "  >>> ds = (1, 2, 3)   # 튜플이다!\n",
    "  >>> ds = to_list(ds)  # 튜플 줄게 리스트 다오\n",
    "  >>> ds\n",
    "  [1, 2, 3]\n",
    "\n",
    "만약에 함수를 제대로 만들었다면, 다음과 같이 이 함수는 문자열을 대상으로도 잘 동작할 것이다.\n",
    "  >>> ds = \"hello\"      # 문자열이다!\n",
    "  >>> ds = to_list(ds)  # 문자열 줄께 리스트 다오\n",
    "  >>> ds\n",
    "  ['h', 'e', 'l', 'l', 'o']\n",
    "  \n",
    "\"\"\""
   ]
  },
  {
   "cell_type": "code",
   "execution_count": 5,
   "metadata": {},
   "outputs": [
    {
     "data": {
      "text/plain": [
       "[1, 2, 3]"
      ]
     },
     "execution_count": 5,
     "metadata": {},
     "output_type": "execute_result"
    }
   ],
   "source": [
    "def to_list(ds):\n",
    "    st = []\n",
    "    for i in ds:\n",
    "        st.append(i)\n",
    "    return st    \n",
    "    \n",
    "ds = (1, 2, 3)\n",
    "ds = to_list(ds)\n",
    "ds"
   ]
  },
  {
   "cell_type": "code",
   "execution_count": 6,
   "metadata": {},
   "outputs": [
    {
     "data": {
      "text/plain": [
       "['h', 'e', 'l', 'l', 'o']"
      ]
     },
     "execution_count": 6,
     "metadata": {},
     "output_type": "execute_result"
    }
   ],
   "source": [
    "ds = \"hello\"\n",
    "ds = to_list(ds)\n",
    "ds"
   ]
  }
 ],
 "metadata": {
  "kernelspec": {
   "display_name": "Python 3",
   "language": "python",
   "name": "python3"
  },
  "language_info": {
   "codemirror_mode": {
    "name": "ipython",
    "version": 3
   },
   "file_extension": ".py",
   "mimetype": "text/x-python",
   "name": "python",
   "nbconvert_exporter": "python",
   "pygments_lexer": "ipython3",
   "version": "3.8.5"
  }
 },
 "nbformat": 4,
 "nbformat_minor": 4
}
