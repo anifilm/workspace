{
 "cells": [
  {
   "cell_type": "code",
   "execution_count": null,
   "metadata": {},
   "outputs": [],
   "source": [
    "\"\"\" 10-4 함수의 매개변수 참조 관계 \"\"\"\n"
   ]
  },
  {
   "cell_type": "code",
   "execution_count": 1,
   "metadata": {},
   "outputs": [],
   "source": [
    "def func(s):   # 전달되는 값이 리스트라고 가정하고 정의한 함수\n",
    "    s[0] = 0   # 리스트의 첫 번째 값을 0으로 변경\n",
    "    s[-1] = 0  # 리스트의  마지막 값을 0으로 변경"
   ]
  },
  {
   "cell_type": "code",
   "execution_count": 3,
   "metadata": {},
   "outputs": [
    {
     "data": {
      "text/plain": [
       "[0, 2, 0]"
      ]
     },
     "execution_count": 3,
     "metadata": {},
     "output_type": "execute_result"
    }
   ],
   "source": [
    "st = [1, 2, 3]\n",
    "func(st)\n",
    "st  # 함수 호출 후에 st가 [1, 2, 3]에서 [0, 2, 0]으로 바뀌었다."
   ]
  },
  {
   "cell_type": "code",
   "execution_count": null,
   "metadata": {},
   "outputs": [],
   "source": [
    "# 파이썬은 리스트와 같은 객체를 매개변수로 전달시 개체 참조로 전달한다.\n",
    "#\n",
    "# |  [1, 2, 3]  |  <--- 매개변수 s (참조 전달), s는 메모리를 가리킨다.\n",
    "# +-------------+\n",
    "#     변수 st"
   ]
  }
 ],
 "metadata": {
  "kernelspec": {
   "display_name": "Python 3",
   "language": "python",
   "name": "python3"
  },
  "language_info": {
   "codemirror_mode": {
    "name": "ipython",
    "version": 3
   },
   "file_extension": ".py",
   "mimetype": "text/x-python",
   "name": "python",
   "nbconvert_exporter": "python",
   "pygments_lexer": "ipython3",
   "version": "3.8.5"
  }
 },
 "nbformat": 4,
 "nbformat_minor": 4
}
