{
 "cells": [
  {
   "cell_type": "code",
   "execution_count": null,
   "metadata": {},
   "outputs": [],
   "source": [
    "\"\"\" [연습문제 05-4] \"\"\""
   ]
  },
  {
   "cell_type": "code",
   "execution_count": null,
   "metadata": {},
   "outputs": [],
   "source": [
    "\"\"\" 문제 1\n",
    "리스트에 저장되어 있는 모든 값의 합을 계산해서 그 결과를 반환하는 함수를 만들어 보자. 예를 들어서\n",
    "함수의 이름이 sum_all이라 하면, 다음과 같은 실행 결과를 보여야 한다.\n",
    "  >>> sum_all([1, 2, 3, 4, 5])  # 전달된 리스트 [1, 2, 3, 4, 5]에 저장된 모든 값의 합은?\n",
    "  15\n",
    "\"\"\""
   ]
  },
  {
   "cell_type": "code",
   "execution_count": 2,
   "metadata": {},
   "outputs": [
    {
     "data": {
      "text/plain": [
       "15"
      ]
     },
     "execution_count": 2,
     "metadata": {},
     "output_type": "execute_result"
    }
   ],
   "source": [
    "def sum_all(st):\n",
    "    sum = 0\n",
    "    for i in st:\n",
    "        sum += i\n",
    "    return sum\n",
    "\n",
    "sum_all([1, 2, 3, 4, 5])"
   ]
  },
  {
   "cell_type": "code",
   "execution_count": null,
   "metadata": {},
   "outputs": [],
   "source": [
    "\"\"\" 문제 2\n",
    "인자로 전달된 리스트에 저장되어 있는 모든 값들을 역순으로 출력하는 함수를 만들어 보자. 예를 들어서\n",
    "함수의 이름이 show_reverse라고 하면, 다음과 같은 실행 결과를 보여야 한다.\n",
    "  >>> show_reverse([1, 2, 3, 4, 5])\n",
    "  5 4 3 2 1\n",
    "  \n",
    "함수를 잘 만들었다면 다음과 같이 문자열을 대상으로도 동작을 하니, 다음과 같이 문자열을 대상으로도\n",
    "동작하는지 확인해보기 바란다.\n",
    "  >>> show_reverse(\"ABCDEFG\")\n",
    "  G F E D C B A\n",
    "\"\"\""
   ]
  },
  {
   "cell_type": "code",
   "execution_count": 16,
   "metadata": {},
   "outputs": [
    {
     "name": "stdout",
     "output_type": "stream",
     "text": [
      "5 4 3 2 1 "
     ]
    }
   ],
   "source": [
    "def show_reverse(st):\n",
    "    for i in range(len(st)-1, -1, -1):\n",
    "        print(st[i], end = ' ')\n",
    "\n",
    "show_reverse([1, 2, 3, 4, 5])"
   ]
  },
  {
   "cell_type": "code",
   "execution_count": 17,
   "metadata": {},
   "outputs": [
    {
     "name": "stdout",
     "output_type": "stream",
     "text": [
      "G F E D C B A "
     ]
    }
   ],
   "source": [
    "show_reverse(\"ABCDEFG\")"
   ]
  }
 ],
 "metadata": {
  "kernelspec": {
   "display_name": "Python 3",
   "language": "python",
   "name": "python3"
  },
  "language_info": {
   "codemirror_mode": {
    "name": "ipython",
    "version": 3
   },
   "file_extension": ".py",
   "mimetype": "text/x-python",
   "name": "python",
   "nbconvert_exporter": "python",
   "pygments_lexer": "ipython3",
   "version": "3.8.3"
  }
 },
 "nbformat": 4,
 "nbformat_minor": 4
}
