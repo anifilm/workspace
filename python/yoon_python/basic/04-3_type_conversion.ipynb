{
 "cells": [
  {
   "cell_type": "code",
   "execution_count": null,
   "metadata": {},
   "outputs": [],
   "source": [
    "\"\"\" 04-3 int형으로 변환, float형으로 변환 \"\"\""
   ]
  },
  {
   "cell_type": "code",
   "execution_count": 1,
   "metadata": {},
   "outputs": [
    {
     "data": {
      "text/plain": [
       "float"
      ]
     },
     "execution_count": 1,
     "metadata": {},
     "output_type": "execute_result"
    }
   ],
   "source": [
    "num = 10\n",
    "num = float(num)  # num의 값을 float형으로 변환\n",
    "type(num)"
   ]
  },
  {
   "cell_type": "code",
   "execution_count": 2,
   "metadata": {},
   "outputs": [
    {
     "data": {
      "text/plain": [
       "float"
      ]
     },
     "execution_count": 2,
     "metadata": {},
     "output_type": "execute_result"
    }
   ],
   "source": [
    "num = float(\"3.14\")\n",
    "type(num)  # 아래의 출력 결과는 num에 저장된 값이 float형임을 의미함"
   ]
  },
  {
   "cell_type": "code",
   "execution_count": 4,
   "metadata": {},
   "outputs": [
    {
     "name": "stdout",
     "output_type": "stream",
     "text": [
      "키 정보 입력: 178.7\n",
      "178.7\n"
     ]
    }
   ],
   "source": [
    "height = eval(input(\"키 정보 입력: \"))  # eval 함수 호출\n",
    "print(height)"
   ]
  },
  {
   "cell_type": "code",
   "execution_count": 5,
   "metadata": {},
   "outputs": [
    {
     "name": "stdout",
     "output_type": "stream",
     "text": [
      "키 정보 입력: 165.3\n",
      "165.3\n"
     ]
    }
   ],
   "source": [
    "height = float(input(\"키 정보 입력: \"))  # float 함수 호출\n",
    "print(height)"
   ]
  },
  {
   "cell_type": "code",
   "execution_count": 6,
   "metadata": {},
   "outputs": [
    {
     "name": "stdout",
     "output_type": "stream",
     "text": [
      "3\n"
     ]
    }
   ],
   "source": [
    "num = int(3.14)  # 3.14를 int형으로 변환\n",
    "print(num)"
   ]
  },
  {
   "cell_type": "code",
   "execution_count": 7,
   "metadata": {},
   "outputs": [
    {
     "name": "stdout",
     "output_type": "stream",
     "text": [
      "키 정보 cm 단위로 입력: 178\n",
      "178\n"
     ]
    }
   ],
   "source": [
    "height = eval(input(\"키 정보 cm 단위로 입력: \"))  # eval 함수 호출\n",
    "print(height)"
   ]
  },
  {
   "cell_type": "code",
   "execution_count": 8,
   "metadata": {},
   "outputs": [
    {
     "name": "stdout",
     "output_type": "stream",
     "text": [
      "키 정보 cm 단위로 입력: 178\n",
      "178\n"
     ]
    }
   ],
   "source": [
    "height = int(input(\"키 정보 cm 단위로 입력: \"))  # int 함수 호출\n",
    "print(height)"
   ]
  }
 ],
 "metadata": {
  "kernelspec": {
   "display_name": "Python 3",
   "language": "python",
   "name": "python3"
  },
  "language_info": {
   "codemirror_mode": {
    "name": "ipython",
    "version": 3
   },
   "file_extension": ".py",
   "mimetype": "text/x-python",
   "name": "python",
   "nbconvert_exporter": "python",
   "pygments_lexer": "ipython3",
   "version": "3.8.3"
  }
 },
 "nbformat": 4,
 "nbformat_minor": 4
}
