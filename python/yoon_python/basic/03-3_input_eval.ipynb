{
 "cells": [
  {
   "cell_type": "code",
   "execution_count": null,
   "metadata": {},
   "outputs": [],
   "source": [
    "\"\"\" 03-3 강력한 그러나 위험할 수 있는 eval 함수 \"\"\"\n"
   ]
  },
  {
   "cell_type": "code",
   "execution_count": 2,
   "metadata": {},
   "outputs": [
    {
     "name": "stdout",
     "output_type": "stream",
     "text": [
      "뭐든 넣어요: 2 - 3 * 5 + 3\n",
      "-10\n"
     ]
    }
   ],
   "source": [
    "result = eval(input(\"뭐든 넣어요: \"))\n",
    "print(result)"
   ]
  },
  {
   "cell_type": "code",
   "execution_count": 4,
   "metadata": {},
   "outputs": [
    {
     "name": "stdout",
     "output_type": "stream",
     "text": [
      "뭐든 넣어요: ret()\n",
      "12\n"
     ]
    }
   ],
   "source": [
    "def ret():  # ret라는 이름의 함수 정의, 단순히 12를 반환하는 함수다.\n",
    "    return 12\n",
    "\n",
    "result = eval(input(\"뭐든 넣어요: \"))\n",
    "print(result)"
   ]
  },
  {
   "cell_type": "code",
   "execution_count": null,
   "metadata": {},
   "outputs": [],
   "source": [
    "\"\"\" 위의 입력으로 인해 eval 함수에는 문자열 \"ret()\"이 전달되었고, eval 함수는 이 내용을 분석해서\n",
    "ret 함수를 호출하였다. 프로그래머가 ret 함수 호출을 명령하지 않았음에도 불구하고 ret 함수가 호출\n",
    "되었는데, 이는 보안의 취약점으로 여겨지는 부분이다. 그래서 eval 함수의 호출은 가급적 제한해야 한다.\n",
    "\"\"\""
   ]
  }
 ],
 "metadata": {
  "kernelspec": {
   "display_name": "Python 3",
   "language": "python",
   "name": "python3"
  },
  "language_info": {
   "codemirror_mode": {
    "name": "ipython",
    "version": 3
   },
   "file_extension": ".py",
   "mimetype": "text/x-python",
   "name": "python",
   "nbconvert_exporter": "python",
   "pygments_lexer": "ipython3",
   "version": "3.8.5"
  }
 },
 "nbformat": 4,
 "nbformat_minor": 4
}
