{
 "cells": [
  {
   "cell_type": "code",
   "execution_count": null,
   "metadata": {},
   "outputs": [],
   "source": [
    "\"\"\" 12-5 딕셔너리의 for 루프 \"\"\""
   ]
  },
  {
   "cell_type": "code",
   "execution_count": 1,
   "metadata": {},
   "outputs": [],
   "source": [
    "dc = {'새우깡': 700, '콘치즈': 850, '꼬깔콘': 750}"
   ]
  },
  {
   "cell_type": "code",
   "execution_count": 2,
   "metadata": {},
   "outputs": [
    {
     "name": "stdout",
     "output_type": "stream",
     "text": [
      "새우깡 콘치즈 꼬깔콘 "
     ]
    }
   ],
   "source": [
    "for k in dc:  # k에 저장되는 것인 '키'이다.\n",
    "    print(k, end = ' ')"
   ]
  },
  {
   "cell_type": "code",
   "execution_count": 3,
   "metadata": {},
   "outputs": [],
   "source": [
    "# 따라서 모든 과자의 가격을 70원씩 올리려면 다음과 같이 for 루프를 구성하면 된다. 그러면 키를 몰라도\n",
    "# 과자의 수가 많아도 걱정이 없다."
   ]
  },
  {
   "cell_type": "code",
   "execution_count": 4,
   "metadata": {},
   "outputs": [
    {
     "data": {
      "text/plain": [
       "{'새우깡': 770, '콘치즈': 920, '꼬깔콘': 820}"
      ]
     },
     "execution_count": 4,
     "metadata": {},
     "output_type": "execute_result"
    }
   ],
   "source": [
    "for k in dc:\n",
    "    dc[k] += 70\n",
    "dc"
   ]
  },
  {
   "cell_type": "code",
   "execution_count": 7,
   "metadata": {},
   "outputs": [
    {
     "name": "stdout",
     "output_type": "stream",
     "text": [
      "새우깡 770\n",
      "콘치즈 920\n",
      "꼬깔콘 820\n"
     ]
    }
   ],
   "source": [
    "# k는 키를 받아온다. dc[k]를 사용하여 값을 가져올 수 있다. (dc['key'] -> value 출력)\n",
    "for k in dc:\n",
    "    print(k, dc[k])"
   ]
  }
 ],
 "metadata": {
  "kernelspec": {
   "display_name": "Python 3",
   "language": "python",
   "name": "python3"
  },
  "language_info": {
   "codemirror_mode": {
    "name": "ipython",
    "version": 3
   },
   "file_extension": ".py",
   "mimetype": "text/x-python",
   "name": "python",
   "nbconvert_exporter": "python",
   "pygments_lexer": "ipython3",
   "version": "3.8.3"
  }
 },
 "nbformat": 4,
 "nbformat_minor": 4
}
