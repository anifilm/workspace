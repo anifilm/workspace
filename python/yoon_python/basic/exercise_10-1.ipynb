{
 "cells": [
  {
   "cell_type": "code",
   "execution_count": null,
   "metadata": {},
   "outputs": [],
   "source": [
    "\"\"\" [연습문제 10-1] \"\"\"\n"
   ]
  },
  {
   "cell_type": "code",
   "execution_count": null,
   "metadata": {},
   "outputs": [],
   "source": [
    "\"\"\"\n",
    "다음 예의 실행 결과를 관찰하자.\n",
    "  >>> for i in range(3):\n",
    "          ______________________________\n",
    "  \n",
    "  1, 2, 3\n",
    "  2, 3, 4\n",
    "  3, 4, 5\n",
    "\n",
    "그리고 동일한 실행 결과를 보이도록 빈 문장을 채워 넣자.\n",
    "\"\"\""
   ]
  },
  {
   "cell_type": "code",
   "execution_count": 1,
   "metadata": {},
   "outputs": [
    {
     "name": "stdout",
     "output_type": "stream",
     "text": [
      "1, 2, 3\n",
      "2, 3, 4\n",
      "3, 4, 5\n"
     ]
    }
   ],
   "source": [
    "for i in range(3):\n",
    "    print(i+1, i+2, i+3, sep=', ')"
   ]
  }
 ],
 "metadata": {
  "kernelspec": {
   "display_name": "Python 3",
   "language": "python",
   "name": "python3"
  },
  "language_info": {
   "codemirror_mode": {
    "name": "ipython",
    "version": 3
   },
   "file_extension": ".py",
   "mimetype": "text/x-python",
   "name": "python",
   "nbconvert_exporter": "python",
   "pygments_lexer": "ipython3",
   "version": "3.8.5"
  }
 },
 "nbformat": 4,
 "nbformat_minor": 4
}
