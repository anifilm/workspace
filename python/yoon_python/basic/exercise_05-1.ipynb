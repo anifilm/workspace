{
 "cells": [
  {
   "cell_type": "code",
   "execution_count": null,
   "metadata": {},
   "outputs": [],
   "source": [
    "\"\"\" [연습문제 05-1] \"\"\"\n"
   ]
  },
  {
   "cell_type": "code",
   "execution_count": null,
   "metadata": {},
   "outputs": [],
   "source": [
    "\"\"\" 문제 1\n",
    "프롬프트상에서 다음과 같이 리스트를 선언하고, 인덱싱 연산을 이용해서 이 리스트에 담긴 내용을 하나씩\n",
    "차례로 출력해 보자.\n",
    "  >>> st = [1, 2, 3, 4]\n",
    "\"\"\""
   ]
  },
  {
   "cell_type": "code",
   "execution_count": 2,
   "metadata": {},
   "outputs": [
    {
     "name": "stdout",
     "output_type": "stream",
     "text": [
      "1\n",
      "2\n",
      "3\n",
      "4\n"
     ]
    }
   ],
   "source": [
    "st = [1, 2, 3, 4]\n",
    "for i in range(len(st)):\n",
    "    print(st[i])"
   ]
  },
  {
   "cell_type": "code",
   "execution_count": null,
   "metadata": {},
   "outputs": [],
   "source": [
    "\"\"\" 문제 2\n",
    "프롬프트상에서 다음과 같이 리스트를 선언하고, 인덱싱 연산을 이용해서 이 리스트에 담긴 내용을 하나씩\n",
    "차례로 출력해 보자. 단, 이번에는 인덱스 값을 음수만 사용하자.\n",
    "  >>> st = [1, 2, 3, 4]\n",
    "\"\"\""
   ]
  },
  {
   "cell_type": "code",
   "execution_count": 4,
   "metadata": {},
   "outputs": [
    {
     "name": "stdout",
     "output_type": "stream",
     "text": [
      "4\n",
      "3\n",
      "2\n",
      "1\n"
     ]
    }
   ],
   "source": [
    "st = [1, 2, 3, 4]\n",
    "idx = 0\n",
    "for i in range(len(st)):\n",
    "    idx -= 1\n",
    "    print(st[idx])"
   ]
  },
  {
   "cell_type": "code",
   "execution_count": null,
   "metadata": {},
   "outputs": [],
   "source": [
    "\"\"\" 문제 3\n",
    "프롬프트상에서 다음과 같이 리스트를 선언하고, 이 리스트에 담긴 값을 모두 1씩 증가시켜 보자.\n",
    "  >>> st = [1, 2, 3, 4]\n",
    "이번에도 인덱싱 연산을 통해서 값을 증가시키면 된다. 즉 총 네번의 인덱싱 연산을 통해서 하나씩 값을\n",
    "증가시키면 된다.\n",
    "\"\"\""
   ]
  },
  {
   "cell_type": "code",
   "execution_count": 5,
   "metadata": {},
   "outputs": [
    {
     "name": "stdout",
     "output_type": "stream",
     "text": [
      "[2, 3, 4, 5]\n"
     ]
    }
   ],
   "source": [
    "st = [1, 2, 3, 4]\n",
    "for i in range(len(st)):\n",
    "    st[i] += 1\n",
    "print(st)"
   ]
  },
  {
   "cell_type": "code",
   "execution_count": null,
   "metadata": {},
   "outputs": [],
   "source": [
    "\"\"\" 문제 4\n",
    "프롬프트상에서 다음과 같이 리스트를 선언하고, 이 리스트에 담긴 값을 모두 1씩 증가시켜 보자.\n",
    "  >>> st = [1, 2, 3, 4, 5, 6, 7, 8, 9, 10]\n",
    "그런데 이번에는 리스트 안에 담겨 있는 값이 많다. 총 10개다. 따라서 for 루프를 이용해서 이문제를\n",
    "해결해 보자. 이는 10회 반복하는 for 루프를 작성하면 쉽게 해결할 수 있는 문제이다. (만약에 해결하\n",
    "지 못했다면 답을 보고서 이해하고 기억하자!)\n",
    "\"\"\""
   ]
  },
  {
   "cell_type": "code",
   "execution_count": 6,
   "metadata": {},
   "outputs": [
    {
     "name": "stdout",
     "output_type": "stream",
     "text": [
      "[2, 3, 4, 5, 6, 7, 8, 9, 10, 11]\n"
     ]
    }
   ],
   "source": [
    "st = [1, 2, 3, 4, 5, 6, 7, 8, 9, 10]\n",
    "for i in range(len(st)):\n",
    "    st[i] += 1\n",
    "print(st)"
   ]
  },
  {
   "cell_type": "code",
   "execution_count": null,
   "metadata": {},
   "outputs": [],
   "source": [
    "\"\"\" 문제 5\n",
    "프롬프트상에서 다음과 같이 리스트를 선언하고, 첫 번째 값과 마지막 값을 교환하는 문장을 만들어 보자.\n",
    "  >>> st = [1, 2, 3, 4, 5, 6]\n",
    "다음과 같이 실행하면 두 변수에 저장된 값이 서로 바뀐다는 사실을 근거로 이 문제를 해결해 보자. 참고\n",
    "로 다음과 같이 하면 두 변수에 저장된 값이 교환됨은 1장에서 소개하였다.\n",
    "  >>> x, y = 2, 7\n",
    "  >>> x, y = y, x  # x와 y에 저장된 값의 교환\n",
    "  >>> print(x, y)\n",
    "  7 2\n",
    "\"\"\""
   ]
  },
  {
   "cell_type": "code",
   "execution_count": 7,
   "metadata": {},
   "outputs": [
    {
     "name": "stdout",
     "output_type": "stream",
     "text": [
      "[6, 2, 3, 4, 5, 1]\n"
     ]
    }
   ],
   "source": [
    "st = [1, 2, 3, 4, 5, 6]\n",
    "st[0], st[-1] = st[-1], st[0]\n",
    "print(st)"
   ]
  }
 ],
 "metadata": {
  "kernelspec": {
   "display_name": "Python 3",
   "language": "python",
   "name": "python3"
  },
  "language_info": {
   "codemirror_mode": {
    "name": "ipython",
    "version": 3
   },
   "file_extension": ".py",
   "mimetype": "text/x-python",
   "name": "python",
   "nbconvert_exporter": "python",
   "pygments_lexer": "ipython3",
   "version": "3.8.5"
  }
 },
 "nbformat": 4,
 "nbformat_minor": 4
}
