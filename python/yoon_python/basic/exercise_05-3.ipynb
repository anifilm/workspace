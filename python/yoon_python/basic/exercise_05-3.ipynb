{
 "cells": [
  {
   "cell_type": "code",
   "execution_count": null,
   "metadata": {},
   "outputs": [],
   "source": [
    "\"\"\" [연습문제 05-3] \"\"\""
   ]
  },
  {
   "cell_type": "code",
   "execution_count": null,
   "metadata": {},
   "outputs": [],
   "source": [
    "\"\"\"\n",
    "다음 예의 실행 결과를 보자.\n",
    "  >>> str = \"Hello\"\n",
    "  >>> str = str + \"Python\"\n",
    "  >>> str\n",
    "  'HelloPython'\n",
    "\n",
    "이는 str이 갖고 있던 문자열에 \"Python\"을 뒤에 이어 새로운 문자열을 만드는 과정이다. 특히 다음 문장이\n",
    "그 역할을 한다.\n",
    "  str = str + \"Python\"\n",
    "\n",
    "그런데 앞서 4장에서 우리는 += 연산자에 대해 공부했으니, 위의 문장을 += 연산자를 이용하는 형태로 바꿔\n",
    "보기 바란다.\n",
    "\"\"\""
   ]
  },
  {
   "cell_type": "code",
   "execution_count": 1,
   "metadata": {},
   "outputs": [
    {
     "data": {
      "text/plain": [
       "'HelloPython'"
      ]
     },
     "execution_count": 1,
     "metadata": {},
     "output_type": "execute_result"
    }
   ],
   "source": [
    "str = \"Hello\"\n",
    "str += \"Python\"\n",
    "str"
   ]
  }
 ],
 "metadata": {
  "kernelspec": {
   "display_name": "Python 3",
   "language": "python",
   "name": "python3"
  },
  "language_info": {
   "codemirror_mode": {
    "name": "ipython",
    "version": 3
   },
   "file_extension": ".py",
   "mimetype": "text/x-python",
   "name": "python",
   "nbconvert_exporter": "python",
   "pygments_lexer": "ipython3",
   "version": "3.8.3"
  }
 },
 "nbformat": 4,
 "nbformat_minor": 4
}
