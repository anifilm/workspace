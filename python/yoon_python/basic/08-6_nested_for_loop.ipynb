{
 "cells": [
  {
   "cell_type": "code",
   "execution_count": null,
   "metadata": {},
   "outputs": [],
   "source": [
    "\"\"\" 08-6 이중 for 루프 \"\"\"\n"
   ]
  },
  {
   "cell_type": "code",
   "execution_count": 2,
   "metadata": {},
   "outputs": [
    {
     "name": "stdout",
     "output_type": "stream",
     "text": [
      "a b c aa bb cc "
     ]
    }
   ],
   "source": [
    "for i in [1, 2]:  # 바깥쪽 for 루프\n",
    "    for j in ['a', 'b', 'c']:  # 안쪽 for 루프\n",
    "        print(j * i, end = ' ')"
   ]
  },
  {
   "cell_type": "code",
   "execution_count": 3,
   "metadata": {},
   "outputs": [
    {
     "data": {
      "text/plain": [
       "4"
      ]
     },
     "execution_count": 3,
     "metadata": {},
     "output_type": "execute_result"
    }
   ],
   "source": [
    "# 리스트 안에 담겨 있는 문자열들 안에 문자 'r'이 몇 번 등장하는지 세어보는 예제\n",
    "sr = ['father', 'mother', 'brother']\n",
    "cnt = 0  # 'r'이 등장하는 횟수를 세기 위한 변수\n",
    "for s in sr:  # 변수 s에 문자열이 하나씩 담긴다.\n",
    "    for c in s:  # 변수 c에 문자가 하나씩 담긴다.\n",
    "        if c == 'r':\n",
    "            cnt += 1\n",
    "            \n",
    "cnt"
   ]
  }
 ],
 "metadata": {
  "kernelspec": {
   "display_name": "Python 3",
   "language": "python",
   "name": "python3"
  },
  "language_info": {
   "codemirror_mode": {
    "name": "ipython",
    "version": 3
   },
   "file_extension": ".py",
   "mimetype": "text/x-python",
   "name": "python",
   "nbconvert_exporter": "python",
   "pygments_lexer": "ipython3",
   "version": "3.8.5"
  }
 },
 "nbformat": 4,
 "nbformat_minor": 4
}
