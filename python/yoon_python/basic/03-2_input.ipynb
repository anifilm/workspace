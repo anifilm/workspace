{
 "cells": [
  {
   "cell_type": "code",
   "execution_count": null,
   "metadata": {},
   "outputs": [],
   "source": [
    "\"\"\" 03-2 입력받은 내용을 숫자로 바꾸려면 \"\"\"\n"
   ]
  },
  {
   "cell_type": "code",
   "execution_count": 7,
   "metadata": {},
   "outputs": [
    {
     "name": "stdout",
     "output_type": "stream",
     "text": [
      "This year: 2020\n",
      "Next year: 2021\n"
     ]
    }
   ],
   "source": [
    "year = input(\"This year: \")\n",
    "year = eval(year)  # year에 저장된 내용을 산술 연산이 가능한 '수'로 바꾼다.\n",
    "year = year + 1\n",
    "print(\"Next year:\", year)"
   ]
  },
  {
   "cell_type": "code",
   "execution_count": 8,
   "metadata": {},
   "outputs": [
    {
     "name": "stdout",
     "output_type": "stream",
     "text": [
      "radius: 2.5\n",
      "19.625\n"
     ]
    }
   ],
   "source": [
    "rad = eval(input(\"radius: \"))\n",
    "area = rad * rad * 3.14  # 이는 원의 넓이 계산 공식을 적용한 문장입니다.\n",
    "print(area)"
   ]
  }
 ],
 "metadata": {
  "kernelspec": {
   "display_name": "Python 3",
   "language": "python",
   "name": "python3"
  },
  "language_info": {
   "codemirror_mode": {
    "name": "ipython",
    "version": 3
   },
   "file_extension": ".py",
   "mimetype": "text/x-python",
   "name": "python",
   "nbconvert_exporter": "python",
   "pygments_lexer": "ipython3",
   "version": "3.8.5"
  }
 },
 "nbformat": 4,
 "nbformat_minor": 4
}
