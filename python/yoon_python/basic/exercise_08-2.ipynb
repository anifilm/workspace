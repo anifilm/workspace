{
 "cells": [
  {
   "cell_type": "code",
   "execution_count": null,
   "metadata": {},
   "outputs": [],
   "source": [
    "\"\"\" [연습문제 08-2] \"\"\""
   ]
  },
  {
   "cell_type": "code",
   "execution_count": null,
   "metadata": {},
   "outputs": [],
   "source": [
    "\"\"\" 문제 1\n",
    "6과 45의 최소공배수를 구하는 코드를 while 루프 기반으로 작성해 보자. 참고로 6으로도 나눠지고 45로도\n",
    "나눠지는 값들 중에서 제일 작은 값이 '최소공배수'이다. 따라서 45부터 시작해서 값을 1씩 증가시켜가면서\n",
    "6과 45로 나누어 떨어지는 첫 번째 값을 찾으면 된다. 코드는 다음과 같이 작성하자.\n",
    "  >>> lcm = 0  # 변수 lcm을 선언하고, 그리고 필요하면 변수를 추가로 선언하고\n",
    "  >>>          # 변수 lcm에 최소공배수를 찾아서 저장하는 코드를 구성하고\n",
    "  ...\n",
    "  >>> lcm      # 변수 lcm에 저장된 값을 출력한다. (90이 출력되어야 정답니다.)\n",
    "  90\n",
    "  \n",
    "\"\"\""
   ]
  },
  {
   "cell_type": "code",
   "execution_count": 10,
   "metadata": {},
   "outputs": [
    {
     "data": {
      "text/plain": [
       "90"
      ]
     },
     "execution_count": 10,
     "metadata": {},
     "output_type": "execute_result"
    }
   ],
   "source": [
    "lcm = 45\n",
    "while True:\n",
    "    if lcm % 6 == 0 and lcm % 45 == 0:\n",
    "        break\n",
    "    lcm += 1\n",
    "\n",
    "lcm"
   ]
  },
  {
   "cell_type": "code",
   "execution_count": null,
   "metadata": {},
   "outputs": [],
   "source": [
    "\"\"\" 문제 2\n",
    "42와 120의 최대공약수를 구하는 코드를 while 루프 기반으로 작성해 보자. 참고로 42도 나눌 수 있고\n",
    "120도 나눌 수 있는 값들 중에서 제일 큰 값이 '최대공약수'이다. 따라서 42부터 시작해서 값을 1씩감소\n",
    "시켜가면서 42와 120을 나눌 수 있는 값을 찾으면 된다. 코드는 다음과 같다.\n",
    "  >>> gcm = 0  # 변수 gcm을 선언하고, 그리고 필요하면 변수를 추가로 선언하고\n",
    "  >>>          # 변수 gcm에 최대공약수를 찾아서 저장하는 코드를 구성하고\n",
    "  ...\n",
    "  >>> gcm      # 변수 gcm에 저장된 값을 출력한다. (6이 출력되어야 정답이다.)\n",
    "  6\n",
    "  \n",
    "\"\"\""
   ]
  },
  {
   "cell_type": "code",
   "execution_count": 13,
   "metadata": {},
   "outputs": [
    {
     "data": {
      "text/plain": [
       "6"
      ]
     },
     "execution_count": 13,
     "metadata": {},
     "output_type": "execute_result"
    }
   ],
   "source": [
    "gcm = 42\n",
    "while gcm > 0:\n",
    "    if 42 % gcm == 0 and 120 % gcm == 0:\n",
    "        break\n",
    "    gcm -= 1\n",
    "\n",
    "gcm"
   ]
  }
 ],
 "metadata": {
  "kernelspec": {
   "display_name": "Python 3",
   "language": "python",
   "name": "python3"
  },
  "language_info": {
   "codemirror_mode": {
    "name": "ipython",
    "version": 3
   },
   "file_extension": ".py",
   "mimetype": "text/x-python",
   "name": "python",
   "nbconvert_exporter": "python",
   "pygments_lexer": "ipython3",
   "version": "3.8.3"
  }
 },
 "nbformat": 4,
 "nbformat_minor": 4
}
