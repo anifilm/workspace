{
 "cells": [
  {
   "cell_type": "code",
   "execution_count": null,
   "metadata": {},
   "outputs": [],
   "source": [
    "\"\"\" [연습문제 06-1] \"\"\""
   ]
  },
  {
   "cell_type": "code",
   "execution_count": null,
   "metadata": {},
   "outputs": [],
   "source": [
    "\"\"\" 문제 1\n",
    "다음은 빈 리스트를 만들어서 그 안에 1, 2, 3을 넣었다가 넣은 순서대로 꺼내는 코드의 실행 흐름이다.\n",
    "  >>> st = []  # 빈 리스트 생성\n",
    "  >>> __________  # 리스트에 1 추가\n",
    "  >>> __________  # 리스트에 2 추가\n",
    "  >>> __________  # 리스트에 3 추가\n",
    "  >>> st\n",
    "  [1, 2, 3]\n",
    "  >>> __________  # 리스트에 1 삭제\n",
    "  1\n",
    "  >>> __________  # 리스트에 2 삭제\n",
    "  2\n",
    "  >>> __________  # 리스트에 3 삭제\n",
    "  3\n",
    "  >>> st\n",
    "  []\n",
    "  \n",
    "위의 실행 흐름이 돤성되도록 빈칸에 문장들을 채워 넣자.\n",
    "\"\"\""
   ]
  },
  {
   "cell_type": "code",
   "execution_count": 12,
   "metadata": {},
   "outputs": [
    {
     "data": {
      "text/plain": [
       "[1, 2, 3]"
      ]
     },
     "execution_count": 12,
     "metadata": {},
     "output_type": "execute_result"
    }
   ],
   "source": [
    "st = []  # 빈 리스트 생성\n",
    "st.append(1)  # 리스트에 1 추가\n",
    "st.append(2)  # 리스트에 2 추가\n",
    "st.append(3)  # 리스트에 3 추가\n",
    "st"
   ]
  },
  {
   "cell_type": "code",
   "execution_count": 15,
   "metadata": {},
   "outputs": [
    {
     "data": {
      "text/plain": [
       "1"
      ]
     },
     "execution_count": 15,
     "metadata": {},
     "output_type": "execute_result"
    }
   ],
   "source": [
    "st.pop(0)"
   ]
  },
  {
   "cell_type": "code",
   "execution_count": 9,
   "metadata": {},
   "outputs": [
    {
     "data": {
      "text/plain": [
       "2"
      ]
     },
     "execution_count": 9,
     "metadata": {},
     "output_type": "execute_result"
    }
   ],
   "source": [
    "st.pop(0)"
   ]
  },
  {
   "cell_type": "code",
   "execution_count": 10,
   "metadata": {},
   "outputs": [
    {
     "data": {
      "text/plain": [
       "3"
      ]
     },
     "execution_count": 10,
     "metadata": {},
     "output_type": "execute_result"
    }
   ],
   "source": [
    "st.pop(0)"
   ]
  },
  {
   "cell_type": "code",
   "execution_count": 11,
   "metadata": {},
   "outputs": [
    {
     "data": {
      "text/plain": [
       "[]"
      ]
     },
     "execution_count": 11,
     "metadata": {},
     "output_type": "execute_result"
    }
   ],
   "source": [
    "st"
   ]
  },
  {
   "cell_type": "code",
   "execution_count": null,
   "metadata": {},
   "outputs": [],
   "source": [
    "\"\"\" 문제 2\n",
    "위의 문제 1에서는 리스트에 다음 순서대로 값을 저장하고 꺼냈다.\n",
    "  저장 순서     1, 2, 3\n",
    "  꺼낸 순서     1, 2, 3\n",
    "\n",
    "이번에는 다음 순서대로 값을 저장하고 꺼내도록 코드를 작성해 보자.\n",
    "  저장 순서     1, 2, 3\n",
    "  꺼낸 순서     3, 2, 1\n",
    "\n",
    "즉, 문제 1에서와 달리 값을 뒤에서부터 코드를 작성하라는 뜻이다. 조금 힌트를 주자면, pop함수에 전달하는\n",
    "인덱스 값은 음수도 가능하다.\n",
    "\"\"\""
   ]
  },
  {
   "cell_type": "code",
   "execution_count": 16,
   "metadata": {},
   "outputs": [
    {
     "data": {
      "text/plain": [
       "[1, 2, 3]"
      ]
     },
     "execution_count": 16,
     "metadata": {},
     "output_type": "execute_result"
    }
   ],
   "source": [
    "st = []  # 빈 리스트 생성\n",
    "st.append(1)  # 리스트에 1 추가\n",
    "st.append(2)  # 리스트에 2 추가\n",
    "st.append(3)  # 리스트에 3 추가\n",
    "st"
   ]
  },
  {
   "cell_type": "code",
   "execution_count": 17,
   "metadata": {},
   "outputs": [
    {
     "data": {
      "text/plain": [
       "3"
      ]
     },
     "execution_count": 17,
     "metadata": {},
     "output_type": "execute_result"
    }
   ],
   "source": [
    "st.pop()"
   ]
  },
  {
   "cell_type": "code",
   "execution_count": 18,
   "metadata": {},
   "outputs": [
    {
     "data": {
      "text/plain": [
       "2"
      ]
     },
     "execution_count": 18,
     "metadata": {},
     "output_type": "execute_result"
    }
   ],
   "source": [
    "st.pop()"
   ]
  },
  {
   "cell_type": "code",
   "execution_count": 19,
   "metadata": {},
   "outputs": [
    {
     "data": {
      "text/plain": [
       "1"
      ]
     },
     "execution_count": 19,
     "metadata": {},
     "output_type": "execute_result"
    }
   ],
   "source": [
    "st.pop()"
   ]
  },
  {
   "cell_type": "code",
   "execution_count": 20,
   "metadata": {},
   "outputs": [
    {
     "data": {
      "text/plain": [
       "[]"
      ]
     },
     "execution_count": 20,
     "metadata": {},
     "output_type": "execute_result"
    }
   ],
   "source": [
    "st"
   ]
  },
  {
   "cell_type": "code",
   "execution_count": null,
   "metadata": {},
   "outputs": [],
   "source": [
    "\"\"\" 문제 3\n",
    "앞서 본문에서 리스트에 저장된 내용 전부를 삭제하는 clear 함수를 소개하였다. 그리고 그 사용방법은\n",
    "다음과 같다.\n",
    "  >>> st = [1, 2, 3, 4]\n",
    "  >>> st.clear()\n",
    "  >>> st\n",
    "  []\n",
    "\n",
    "그런데 이렇듯 리스트에 저장된 값을 싹 비우는 방법을 앞서 5장에서도 소개한 바 있다. 슬라이싱 연산을\n",
    "이용하는 방법인데, 이 방법을 이용하는 형태로 위의 코드를 수정해 보자.\n",
    "\"\"\""
   ]
  },
  {
   "cell_type": "code",
   "execution_count": 21,
   "metadata": {},
   "outputs": [
    {
     "data": {
      "text/plain": [
       "[]"
      ]
     },
     "execution_count": 21,
     "metadata": {},
     "output_type": "execute_result"
    }
   ],
   "source": [
    "st = [1, 2, 3, 4]\n",
    "st[:] = []\n",
    "st"
   ]
  },
  {
   "cell_type": "code",
   "execution_count": null,
   "metadata": {},
   "outputs": [],
   "source": [
    "\"\"\" 문제 4\n",
    "빈 리스트를 만들어서 그 안에 1부터 10까지 넣었닥, 다시 10부터 1까지 꺼내는(삭제하는) 코드를 만들어\n",
    "보자. 단 이번에는 넣고 꺼내야 할 값이 많으니 for 루프를 이용하는 형태로 코드를 작성해 보자.\n",
    "\"\"\""
   ]
  },
  {
   "cell_type": "code",
   "execution_count": 24,
   "metadata": {},
   "outputs": [
    {
     "data": {
      "text/plain": [
       "[1, 2, 3, 4, 5, 6, 7, 8, 9, 10]"
      ]
     },
     "execution_count": 24,
     "metadata": {},
     "output_type": "execute_result"
    }
   ],
   "source": [
    "st = []\n",
    "for i in range(1, 11):\n",
    "    st.append(i)\n",
    "st"
   ]
  },
  {
   "cell_type": "code",
   "execution_count": 25,
   "metadata": {},
   "outputs": [
    {
     "name": "stdout",
     "output_type": "stream",
     "text": [
      "1 2 3 4 5 6 7 8 9 10 "
     ]
    }
   ],
   "source": [
    "for _ in range(len(st)):\n",
    "    print(st.pop(0), end = ' ')"
   ]
  },
  {
   "cell_type": "code",
   "execution_count": null,
   "metadata": {},
   "outputs": [],
   "source": [
    "\"\"\" 문제 5\n",
    "빈 리스트를 만들어서 그 안에 1부터 10까지 넣었다가, 다시 10부터 1까지 꺼내는(삭제하는) 코드를 만들어\n",
    "보자. 이번에도 문제 4와 마찭가지로 for 루프를 이용하자.\n",
    "\"\"\""
   ]
  },
  {
   "cell_type": "code",
   "execution_count": 26,
   "metadata": {},
   "outputs": [
    {
     "data": {
      "text/plain": [
       "[1, 2, 3, 4, 5, 6, 7, 8, 9, 10]"
      ]
     },
     "execution_count": 26,
     "metadata": {},
     "output_type": "execute_result"
    }
   ],
   "source": [
    "st = []\n",
    "for i in range(1, 11):\n",
    "    st.append(i)\n",
    "st"
   ]
  },
  {
   "cell_type": "code",
   "execution_count": 27,
   "metadata": {},
   "outputs": [
    {
     "name": "stdout",
     "output_type": "stream",
     "text": [
      "10 9 8 7 6 5 4 3 2 1 "
     ]
    }
   ],
   "source": [
    "for _ in range(len(st)):\n",
    "    print(st.pop(), end = ' ')"
   ]
  },
  {
   "cell_type": "code",
   "execution_count": null,
   "metadata": {},
   "outputs": [],
   "source": [
    "\"\"\" 문제 6\n",
    "다음은 하나의 리스트에 다른 리스트의 값 전부를 추가하는 코드이다.\n",
    "  >>> st = [1, 2]\n",
    "  >>> st.extend([3, 4, 5])  # 이 문장을 바꾸는 것이 문제!\n",
    "  >>> st\n",
    "  [1, 2, 3, 4, 5]\n",
    "  \n",
    "위의 예에서는 extend 함수를 사용하는데, 이를 슬라이싱 연산을 이용하는 형태로 수정해 보자. 참고로\n",
    "다음 리스트에는 세 번째 값이 없다.\n",
    "  st = [1, 2]\n",
    "그러나 다른 리스트의 값 전부를 추가할 때에는 세 번째 값이 있다고 가정하고 슬라이싱 연산을 진행하면\n",
    "된다. 즉 세 번째 값을 리스트 [3, 4, 5]의 내용으로 교체하는 슬라이싱 연산문을 작성하면 된다.\n",
    "\"\"\""
   ]
  },
  {
   "cell_type": "code",
   "execution_count": 33,
   "metadata": {},
   "outputs": [
    {
     "data": {
      "text/plain": [
       "[1, 2, 3, 4, 5]"
      ]
     },
     "execution_count": 33,
     "metadata": {},
     "output_type": "execute_result"
    }
   ],
   "source": [
    "  st = [1, 2]\n",
    "  st[2:] = [3, 4, 5]\n",
    "  st"
   ]
  }
 ],
 "metadata": {
  "kernelspec": {
   "display_name": "Python 3",
   "language": "python",
   "name": "python3"
  },
  "language_info": {
   "codemirror_mode": {
    "name": "ipython",
    "version": 3
   },
   "file_extension": ".py",
   "mimetype": "text/x-python",
   "name": "python",
   "nbconvert_exporter": "python",
   "pygments_lexer": "ipython3",
   "version": "3.8.3"
  }
 },
 "nbformat": 4,
 "nbformat_minor": 4
}
