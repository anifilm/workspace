{
 "cells": [
  {
   "cell_type": "code",
   "execution_count": null,
   "metadata": {},
   "outputs": [],
   "source": [
    "\"\"\" [연습문제 07-1] \"\"\""
   ]
  },
  {
   "cell_type": "code",
   "execution_count": null,
   "metadata": {},
   "outputs": [],
   "source": [
    "\"\"\" 문제 1\n",
    "프로그램 사용자로부터 정수를 하나 입력받아서, 그 값에 대해 다음 중 한가지 답변을 하도록 코드를 만들어\n",
    "보자.\n",
    "  입력한 값은 0 이거나 0 보다 큽니다.\n",
    "  입력한 값은 0 보다 작습니다.\n",
    "\n",
    "코드는 다음과 같은 방식으로 작성하자. (main 함수를 만들고 이를 호출하는 방식)\n",
    "  def main():  # main 함수의 정의\n",
    "  ...\n",
    "\n",
    "  main()  # main 함수의 호출\n",
    "\n",
    "단 프롬프트상에서 코딩을 해도 되고, 별도의 소스파일을 만들어서 코딩을 해도 된다.\n",
    "\"\"\""
   ]
  },
  {
   "cell_type": "code",
   "execution_count": 1,
   "metadata": {},
   "outputs": [
    {
     "name": "stdout",
     "output_type": "stream",
     "text": [
      "정수 입력: 0\n",
      "입력한 값은 0 이거나 0 보다 큽니다.\n"
     ]
    }
   ],
   "source": [
    "def main():\n",
    "    num = int(input(\"정수 입력: \"))\n",
    "    if num >= 0:\n",
    "        print(\"입력한 값은 0 이거나 0 보다 큽니다.\")\n",
    "    else:\n",
    "        print(\"입력한 값은 0 보다 작습니다.\")\n",
    "\n",
    "main()"
   ]
  },
  {
   "cell_type": "code",
   "execution_count": null,
   "metadata": {},
   "outputs": [],
   "source": [
    "\"\"\" 문제 2\n",
    "파이썬에서는 다음과 같이 문장을 작성하는 것이 가능하다.\n",
    "  >>> num = 3\n",
    "  >>> 1 < num < 5  # num의 값은 1보다 크고 5보다 작은가?\n",
    "  True\n",
    "  \n",
    "그런데 이는 파이썬이기에 지원되는 방식이다. 다른 코딩 언어들은 다음과 같은 연산은 지원하지만,\n",
    "  >>> 1 < num  # num은 1보다 큰가?\n",
    "  True\n",
    "  >>> num < 5  # num은 5보다 작은가?\n",
    "  True\n",
    "  \n",
    "다음과 같은 연산은 지원하지 않는 경우가 많다.\n",
    "  >>> 1 < num < 5  # 파이썬이라 가능한 연산\n",
    "\n",
    "자! 그럼 파이썬도 위와 같이 문장을 구성할 수 없다고 가정하고, num에 저장된 값이 '1보다 크면서\n",
    "동시에 5보다 작은가?'를 묻는 문장을 만들어서 다음 빈 공간을 채워보자.\n",
    "  >>> num = 3\n",
    "  >>> ____________________\n",
    "  True\n",
    "  \n",
    "\"\"\""
   ]
  },
  {
   "cell_type": "code",
   "execution_count": 4,
   "metadata": {},
   "outputs": [
    {
     "data": {
      "text/plain": [
       "True"
      ]
     },
     "execution_count": 4,
     "metadata": {},
     "output_type": "execute_result"
    }
   ],
   "source": [
    "num = 3\n",
    "num > 1 and num < 5"
   ]
  },
  {
   "cell_type": "code",
   "execution_count": null,
   "metadata": {},
   "outputs": [],
   "source": [
    "\"\"\" 문제 3\n",
    "다음과 같이 변수를 선언하자. (저장된 값은 12가 아니어도 된다.)\n",
    "  >>> num = 12\n",
    "\n",
    "그리고 다음과 같이 묻는 문장을 만들어 보자.\n",
    "  \"num에 저장된 값은 3보다 작거나 10보다 큰가?\"\n",
    "\n",
    "그래서 다음 빈 공간을 채워보자.\n",
    "  >>> num = 12\n",
    "  >>> ____________________\n",
    "  True \n",
    "  \n",
    "\"\"\""
   ]
  },
  {
   "cell_type": "code",
   "execution_count": 5,
   "metadata": {},
   "outputs": [
    {
     "data": {
      "text/plain": [
       "True"
      ]
     },
     "execution_count": 5,
     "metadata": {},
     "output_type": "execute_result"
    }
   ],
   "source": [
    "num = 12\n",
    "num < 3 or num > 10"
   ]
  },
  {
   "cell_type": "code",
   "execution_count": null,
   "metadata": {},
   "outputs": [],
   "source": [
    "\"\"\" 문제 4\n",
    "다음과 같이 변수를 선언하자. (저장된 값은 4가 아니어도 된다.)\n",
    "  >>> num = 4\n",
    "\n",
    "그리고 다음과 같이 문든 문장을 만들어 보자.\n",
    "  \"num에 저장된 값은 2의 배수이지만 3의 배수는 아니다. 맞는가?\"\n",
    "\n",
    "그래서 다음 빈 공간을 채워보자.\n",
    "  >>> num = 4\n",
    "  >>> ____________________\n",
    "  True\n",
    "  \n",
    "\"\"\""
   ]
  },
  {
   "cell_type": "code",
   "execution_count": 6,
   "metadata": {},
   "outputs": [
    {
     "data": {
      "text/plain": [
       "True"
      ]
     },
     "execution_count": 6,
     "metadata": {},
     "output_type": "execute_result"
    }
   ],
   "source": [
    "num = 4\n",
    "num % 2 == 0 and num % 3 != 0"
   ]
  },
  {
   "cell_type": "code",
   "execution_count": null,
   "metadata": {},
   "outputs": [],
   "source": [
    "\"\"\" 문제 5\n",
    "프로그램 사용자로부터 정수를 하나 입력받아서, 그 값에 대해 다음 중 한가지 답변을 하도록 코드를 만들어\n",
    "보자.\n",
    "  입력한 값은  0 보다 작습니다.\n",
    "  입력한 값은  0 이상 10 미만입니다.\n",
    "  입력한 값은 10 이상 20 미만입니다.\n",
    "  입력한 값은 20 이상입니다.\n",
    "\n",
    "코드는 다음과 같은 방식으로 작성하자. (main 함수를 만들고 이를 호출하는 방식)\n",
    "  def main():  # main 함수의 정의\n",
    "  ...\n",
    "\n",
    "  main()  # main 함수의 호출\n",
    "\n",
    "단 프롬프트상에서 코딩을 해도 되고, 별도의 소스파일을 만들어서 코딩을 해도 된다. 그리고 이번에는\n",
    "문제 2에서 소개한 다음과 같은 방식을(파이썬이라 가능한 방식을) 이용해서 코드를 작성해 보자.\n",
    "  >>> 1 < num < 5  # 문제 2에서 소개한 방식\n",
    "  \n",
    "\"\"\""
   ]
  },
  {
   "cell_type": "code",
   "execution_count": 13,
   "metadata": {},
   "outputs": [
    {
     "name": "stdout",
     "output_type": "stream",
     "text": [
      "정수 입력: 3\n",
      "입력한 값은 0이상 10미만입니다.\n"
     ]
    }
   ],
   "source": [
    "def main():\n",
    "    num = int(input(\"정수 입력: \"))\n",
    "    if num < 0:\n",
    "        print(\"입력한 값은 0보다 작습니다.\")\n",
    "    elif 0 <= num < 10:\n",
    "        print(\"입력한 값은 0이상 10미만입니다.\")\n",
    "    elif 10 <= num < 20:\n",
    "        print(\"입력한 값은 10이상 20미만입니다.\")\n",
    "    else:\n",
    "        print(\"입력한 값은 20 이상입니다.\")\n",
    "\n",
    "main()"
   ]
  }
 ],
 "metadata": {
  "kernelspec": {
   "display_name": "Python 3",
   "language": "python",
   "name": "python3"
  },
  "language_info": {
   "codemirror_mode": {
    "name": "ipython",
    "version": 3
   },
   "file_extension": ".py",
   "mimetype": "text/x-python",
   "name": "python",
   "nbconvert_exporter": "python",
   "pygments_lexer": "ipython3",
   "version": "3.8.3"
  }
 },
 "nbformat": 4,
 "nbformat_minor": 4
}
