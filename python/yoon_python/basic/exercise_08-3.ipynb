{
 "cells": [
  {
   "cell_type": "code",
   "execution_count": null,
   "metadata": {},
   "outputs": [],
   "source": [
    "\"\"\" [연습문제 08-3] \"\"\"\n"
   ]
  },
  {
   "cell_type": "code",
   "execution_count": null,
   "metadata": {},
   "outputs": [],
   "source": [
    "\"\"\" 문제 1\n",
    "다음은 구구단 중에서 7단을 출력하는 예제이다.\n",
    "  >>> for i in range(1, 10):\n",
    "          print(7 * i, end = ' ')\n",
    "  7 14 21 28 35 42 49 56 63\n",
    "\n",
    "위의 예제에 continue 관련 코드를 넣어서 결과가 짝수인 경우에만 출력되도록 해보자. 즉 7은 출력되지\n",
    "않고 14는 출력되어야 한다.\n",
    "\"\"\""
   ]
  },
  {
   "cell_type": "code",
   "execution_count": 2,
   "metadata": {},
   "outputs": [
    {
     "name": "stdout",
     "output_type": "stream",
     "text": [
      "14 28 42 56 "
     ]
    }
   ],
   "source": [
    "for i in range(1, 10):\n",
    "    if i % 2 == 0:\n",
    "        print(7 * i, end = ' ')"
   ]
  },
  {
   "cell_type": "code",
   "execution_count": null,
   "metadata": {},
   "outputs": [],
   "source": [
    "\"\"\" 문제 2\n",
    "2 이상 100 미만의 정수 중에서 2로도 나누어지지 않고 동시에 3으로도 나누어지지 않는 수를 찾아서 출력\n",
    "하는 코드를 while 루프를 기반으로 작성해 보자.\n",
    "\"\"\""
   ]
  },
  {
   "cell_type": "code",
   "execution_count": 13,
   "metadata": {},
   "outputs": [
    {
     "name": "stdout",
     "output_type": "stream",
     "text": [
      "5 7 11 13 17 19 23 25 29 31 35 37 41 43 47 49 53 55 59 61 65 67 71 73 77 79 83 85 89 91 95 97 "
     ]
    }
   ],
   "source": [
    "i = 1\n",
    "while i < 100:\n",
    "    i += 1\n",
    "    if i % 2 != 0 and i % 3 != 0:\n",
    "        print(i, end = ' ')"
   ]
  },
  {
   "cell_type": "code",
   "execution_count": null,
   "metadata": {},
   "outputs": [],
   "source": [
    "\"\"\" 문제 3\n",
    "문제 2의 결과에서 continue를 사용하지 않았다면 이번에는 continue를 사용하는 방식으로 코드를 수정해\n",
    "보자. 반대로 문제 2에서 continue를 사용했다면 이번에는 continue를 사용하지 않는 방식으로 코드를\n",
    "수정해 보자.\n",
    "\"\"\""
   ]
  },
  {
   "cell_type": "code",
   "execution_count": 11,
   "metadata": {},
   "outputs": [
    {
     "name": "stdout",
     "output_type": "stream",
     "text": [
      "5 7 11 13 17 19 23 25 29 31 35 37 41 43 47 49 53 55 59 61 65 67 71 73 77 79 83 85 89 91 95 97 "
     ]
    }
   ],
   "source": [
    "i = 1\n",
    "while i < 100:\n",
    "    i += 1\n",
    "    if i % 2 == 0 or i % 3 == 0:\n",
    "        continue\n",
    "    print(i, end = ' ')"
   ]
  }
 ],
 "metadata": {
  "kernelspec": {
   "display_name": "Python 3",
   "language": "python",
   "name": "python3"
  },
  "language_info": {
   "codemirror_mode": {
    "name": "ipython",
    "version": 3
   },
   "file_extension": ".py",
   "mimetype": "text/x-python",
   "name": "python",
   "nbconvert_exporter": "python",
   "pygments_lexer": "ipython3",
   "version": "3.8.5"
  }
 },
 "nbformat": 4,
 "nbformat_minor": 4
}
