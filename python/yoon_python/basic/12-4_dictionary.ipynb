{
 "cells": [
  {
   "cell_type": "code",
   "execution_count": null,
   "metadata": {},
   "outputs": [],
   "source": [
    "\"\"\" 12-4 in 연산과 not in 연산 \"\"\"\n"
   ]
  },
  {
   "cell_type": "code",
   "execution_count": 1,
   "metadata": {},
   "outputs": [],
   "source": [
    "dc1 = {'코카콜라': 900, '삼다수': 450}  # '음료 정보'들의 모음\n",
    "dc2 = {'새우깡': 700, '콘치즈': 850}   # '과자 정보'들의 모음"
   ]
  },
  {
   "cell_type": "code",
   "execution_count": 2,
   "metadata": {},
   "outputs": [
    {
     "data": {
      "text/plain": [
       "{'새우깡': 950, '콘치즈': 850}"
      ]
     },
     "execution_count": 2,
     "metadata": {},
     "output_type": "execute_result"
    }
   ],
   "source": [
    "dc2['새우깡'] = 950  # dc2에는 '과자 정보'가 담겨 있으므로 OK!\n",
    "dc2"
   ]
  },
  {
   "cell_type": "code",
   "execution_count": 4,
   "metadata": {},
   "outputs": [
    {
     "data": {
      "text/plain": [
       "{'코카콜라': 900, '삼다수': 450, '새우깡': 950}"
      ]
     },
     "execution_count": 4,
     "metadata": {},
     "output_type": "execute_result"
    }
   ],
   "source": [
    "dc1['새우깡'] = 950  # 실수로 '음료 정보'가 담긴 디셔너리에 접근함 (값이 추가된다.)\n",
    "dc1"
   ]
  },
  {
   "cell_type": "code",
   "execution_count": 5,
   "metadata": {},
   "outputs": [
    {
     "data": {
      "text/plain": [
       "True"
      ]
     },
     "execution_count": 5,
     "metadata": {},
     "output_type": "execute_result"
    }
   ],
   "source": [
    "'새우깡' in dc2  # dc2에 '새우깡' 키가 있는가?"
   ]
  },
  {
   "cell_type": "code",
   "execution_count": 7,
   "metadata": {},
   "outputs": [
    {
     "data": {
      "text/plain": [
       "{'새우깡': 950, '콘치즈': 850}"
      ]
     },
     "execution_count": 7,
     "metadata": {},
     "output_type": "execute_result"
    }
   ],
   "source": [
    "if '새우깡' in dc2:      # '새우깡'이라는 키가 dc2에 존재하면,\n",
    "    dc2['새우깡'] = 950  # 값을 950으로 수정\n",
    "dc2"
   ]
  },
  {
   "cell_type": "code",
   "execution_count": 8,
   "metadata": {},
   "outputs": [
    {
     "data": {
      "text/plain": [
       "{'코카콜라': 900, '삼다수': 450, '새우깡': 950, '카페라떼': 1200}"
      ]
     },
     "execution_count": 8,
     "metadata": {},
     "output_type": "execute_result"
    }
   ],
   "source": [
    "if '카페라떼' not in dc1:   # '카페라떼'라는 키가 dc1에 존재하지 않으면,\n",
    "    dc1['카페라떼'] = 1200  # '카페라떼': 1200 추가\n",
    "dc1"
   ]
  },
  {
   "cell_type": "code",
   "execution_count": null,
   "metadata": {},
   "outputs": [],
   "source": [
    "# 여기서 잊지 말아야 할 것은, in과 not in 연산을 통해서 존재 유무를 확인하는 대상은 '값'이 아니라\n",
    "# '키'라는 사실이다."
   ]
  }
 ],
 "metadata": {
  "kernelspec": {
   "display_name": "Python 3",
   "language": "python",
   "name": "python3"
  },
  "language_info": {
   "codemirror_mode": {
    "name": "ipython",
    "version": 3
   },
   "file_extension": ".py",
   "mimetype": "text/x-python",
   "name": "python",
   "nbconvert_exporter": "python",
   "pygments_lexer": "ipython3",
   "version": "3.8.5"
  }
 },
 "nbformat": 4,
 "nbformat_minor": 4
}
