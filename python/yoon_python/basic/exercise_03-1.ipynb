{
 "cells": [
  {
   "cell_type": "code",
   "execution_count": null,
   "metadata": {},
   "outputs": [],
   "source": [
    "\"\"\" [연습문제 03-1] \"\"\"\n"
   ]
  },
  {
   "cell_type": "code",
   "execution_count": null,
   "metadata": {},
   "outputs": [],
   "source": [
    "\"\"\" input 함수는 프로그램 사용자가 입력한 내용을 문자열의 형태로 반환한다는 사실을 본문에서 설명\n",
    "하였다. 따라서 이를 근거로 다음의 실행 흐름을 보이는 예를 작성해 보자. (아래의 실행 흐름에서 12와\n",
    "34는 프로그램 사용자가 입력한 값이다.)\n",
    "\n",
    ">>> __________\n",
    "첫 번째 입력: 12\n",
    ">>> __________\n",
    "두 번째 입력: 34\n",
    ">>> __________\n",
    "두 입력의 합: 1234\n",
    "\n",
    "위의 실행 흐름에서는 프로그램 사용자가 12와 34를 입력하였다. 그리고 이 둘을 합하여 1234라는 결과를\n",
    "만들어서 이를 출력하였다. 자! 그럼 이러한 실행 흐름이 진행되도록 위의 빈 공간을 채워보자.\n",
    "\"\"\""
   ]
  },
  {
   "cell_type": "code",
   "execution_count": 3,
   "metadata": {},
   "outputs": [
    {
     "name": "stdout",
     "output_type": "stream",
     "text": [
      "첫 번째 입력: 12\n",
      "두 번째 입력: 34\n",
      "두 입력의 합:  1234\n"
     ]
    }
   ],
   "source": [
    "a = input(\"첫 번째 입력: \")\n",
    "b = input(\"두 번째 입력: \")\n",
    "print(\"두 입력의 합:\", a + b)"
   ]
  }
 ],
 "metadata": {
  "kernelspec": {
   "display_name": "Python 3",
   "language": "python",
   "name": "python3"
  },
  "language_info": {
   "codemirror_mode": {
    "name": "ipython",
    "version": 3
   },
   "file_extension": ".py",
   "mimetype": "text/x-python",
   "name": "python",
   "nbconvert_exporter": "python",
   "pygments_lexer": "ipython3",
   "version": "3.8.5"
  }
 },
 "nbformat": 4,
 "nbformat_minor": 4
}
