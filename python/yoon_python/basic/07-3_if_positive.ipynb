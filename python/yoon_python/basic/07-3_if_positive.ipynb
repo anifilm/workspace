{
 "cells": [
  {
   "cell_type": "code",
   "execution_count": null,
   "metadata": {},
   "outputs": [],
   "source": [
    "\"\"\" 07-3 if문: 조건이 맞으면 실행을 해라. \"\"\""
   ]
  },
  {
   "cell_type": "code",
   "execution_count": 1,
   "metadata": {},
   "outputs": [
    {
     "name": "stdout",
     "output_type": "stream",
     "text": [
      "정수 입력: 10\n",
      "양의 정수입니다.\n"
     ]
    }
   ],
   "source": [
    "def main():  # main 함수의 정의\n",
    "    num = int(input(\"정수 입력: \"))\n",
    "    if num > 0:\n",
    "        print(\"양의 정수입니다.\")\n",
    "\n",
    "main()  # 위의 main 함수를 실행해라!"
   ]
  },
  {
   "cell_type": "code",
   "execution_count": 2,
   "metadata": {},
   "outputs": [
    {
     "name": "stdout",
     "output_type": "stream",
     "text": [
      "양의 정수입니다.\n"
     ]
    }
   ],
   "source": [
    "num = 2\n",
    "if num > 0: print(\"양의 정수입니다.\")  # 한 줄에 모두 담은 경우"
   ]
  }
 ],
 "metadata": {
  "kernelspec": {
   "display_name": "Python 3",
   "language": "python",
   "name": "python3"
  },
  "language_info": {
   "codemirror_mode": {
    "name": "ipython",
    "version": 3
   },
   "file_extension": ".py",
   "mimetype": "text/x-python",
   "name": "python",
   "nbconvert_exporter": "python",
   "pygments_lexer": "ipython3",
   "version": "3.8.3"
  }
 },
 "nbformat": 4,
 "nbformat_minor": 4
}
