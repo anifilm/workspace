{
 "cells": [
  {
   "cell_type": "code",
   "execution_count": null,
   "metadata": {},
   "outputs": [],
   "source": [
    "\"\"\" 08-4 break \"\"\"\n"
   ]
  },
  {
   "cell_type": "code",
   "execution_count": 1,
   "metadata": {},
   "outputs": [
    {
     "name": "stdout",
     "output_type": "stream",
     "text": [
      "0 1 2 3 4 5 6 7 8 9 10 11 12 13 14 15 16 17 18 19 "
     ]
    }
   ],
   "source": [
    "# while_break.py\n",
    "def main():\n",
    "    i = 0\n",
    "    while i < 100:\n",
    "        print(i, end = ' ')\n",
    "        i += 1\n",
    "        if i == 20:\n",
    "            break  # 이 문장이 속한 while 루프를 빠져나간다.\n",
    "\n",
    "main()"
   ]
  },
  {
   "cell_type": "code",
   "execution_count": 2,
   "metadata": {},
   "outputs": [
    {
     "name": "stdout",
     "output_type": "stream",
     "text": [
      "14 더했을 때의 합 105 "
     ]
    }
   ],
   "source": [
    "# while_over100_break.py\n",
    "def main():\n",
    "    i = 1\n",
    "    sum = 0\n",
    "    while True:\n",
    "        sum += i\n",
    "        if sum > 100:  # sum > 100이면 아래의 break가 실행된다.\n",
    "            print(i, \"더했을 때의 합\", sum, end = ' ')\n",
    "            break\n",
    "        i += 1\n",
    "        \n",
    "main()"
   ]
  }
 ],
 "metadata": {
  "kernelspec": {
   "display_name": "Python 3",
   "language": "python",
   "name": "python3"
  },
  "language_info": {
   "codemirror_mode": {
    "name": "ipython",
    "version": 3
   },
   "file_extension": ".py",
   "mimetype": "text/x-python",
   "name": "python",
   "nbconvert_exporter": "python",
   "pygments_lexer": "ipython3",
   "version": "3.8.5"
  }
 },
 "nbformat": 4,
 "nbformat_minor": 4
}
