{
 "cells": [
  {
   "cell_type": "code",
   "execution_count": null,
   "metadata": {},
   "outputs": [],
   "source": [
    "\"\"\" 06-5 문자열의 일부로 포함이 되는 이스케이프 문자 \"\"\"\n"
   ]
  },
  {
   "cell_type": "code",
   "execution_count": 1,
   "metadata": {},
   "outputs": [
    {
     "name": "stdout",
     "output_type": "stream",
     "text": [
      "escape\n",
      "characters\n"
     ]
    }
   ],
   "source": [
    "str = \"escape\\ncharacters\"  # 이스케이프 문자 \\n 중간삽입\n",
    "print(str)  # print 함수는 이스케이프 문자를 해석해서 그 결과를 출력한다."
   ]
  },
  {
   "cell_type": "code",
   "execution_count": 2,
   "metadata": {},
   "outputs": [
    {
     "name": "stdout",
     "output_type": "stream",
     "text": [
      "제가 마음속으로 그랬습니다. '이건 아니야.'라고 말이죠.\n"
     ]
    }
   ],
   "source": [
    "str = \"제가 마음속으로 그랬습니다. '이건 아니야.'라고 말이죠.\"\n",
    "print(str)"
   ]
  },
  {
   "cell_type": "code",
   "execution_count": 3,
   "metadata": {},
   "outputs": [
    {
     "name": "stdout",
     "output_type": "stream",
     "text": [
      "제가 소리 질렀습니다. \"이건 아니야!\"라고 말이죠.\n"
     ]
    }
   ],
   "source": [
    "str = '제가 소리 질렀습니다. \"이건 아니야!\"라고 말이죠.'\n",
    "print(str)"
   ]
  },
  {
   "cell_type": "code",
   "execution_count": 4,
   "metadata": {},
   "outputs": [
    {
     "name": "stdout",
     "output_type": "stream",
     "text": [
      "제가 마음속으로 그랬습니다. '이건 아니야.'라고 말이죠.\n",
      "제가 소리 질렀습니다. \"이건 아니야!\"라고 말이죠.\n"
     ]
    }
   ],
   "source": [
    "s1 = '제가 마음속으로 그랬습니다. \\'이건 아니야.\\'라고 말이죠.'\n",
    "s2 = \"제가 소리 질렀습니다. \\\"이건 아니야!\\\"라고 말이죠.\"\n",
    "print(s1)\n",
    "print(s2)"
   ]
  }
 ],
 "metadata": {
  "kernelspec": {
   "display_name": "Python 3",
   "language": "python",
   "name": "python3"
  },
  "language_info": {
   "codemirror_mode": {
    "name": "ipython",
    "version": 3
   },
   "file_extension": ".py",
   "mimetype": "text/x-python",
   "name": "python",
   "nbconvert_exporter": "python",
   "pygments_lexer": "ipython3",
   "version": "3.8.5"
  }
 },
 "nbformat": 4,
 "nbformat_minor": 4
}
