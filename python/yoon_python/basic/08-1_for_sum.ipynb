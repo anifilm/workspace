{
 "cells": [
  {
   "cell_type": "code",
   "execution_count": null,
   "metadata": {},
   "outputs": [],
   "source": [
    "\"\"\" 08-1 for 루프에 대한 복습 \"\"\"\n"
   ]
  },
  {
   "cell_type": "code",
   "execution_count": 2,
   "metadata": {},
   "outputs": [
    {
     "name": "stdout",
     "output_type": "stream",
     "text": [
      "sum =  55 "
     ]
    }
   ],
   "source": [
    "# for_sum.py\n",
    "def main():\n",
    "    sum = 0\n",
    "    for i in [1, 2, 3, 4, 5, 6, 7, 8, 9, 10]:\n",
    "        sum += i  # sum에 저장된 값을 i에 저장된 값 만큼 증가시킴\n",
    "    print(\"sum =\", sum, end = ' ')\n",
    "    \n",
    "main()"
   ]
  },
  {
   "cell_type": "code",
   "execution_count": 3,
   "metadata": {},
   "outputs": [
    {
     "name": "stdout",
     "output_type": "stream",
     "text": [
      "sum =  55 "
     ]
    }
   ],
   "source": [
    "# for_sum_range.py\n",
    "def main():\n",
    "    sum = 0\n",
    "    for i in range(1, 11):  # 변수 i에 1부터 11이전의 값까지 넣어가면 반복\n",
    "        sum += i\n",
    "    print(\"sum =\", sum, end = ' ')\n",
    "    \n",
    "main()"
   ]
  }
 ],
 "metadata": {
  "kernelspec": {
   "display_name": "Python 3",
   "language": "python",
   "name": "python3"
  },
  "language_info": {
   "codemirror_mode": {
    "name": "ipython",
    "version": 3
   },
   "file_extension": ".py",
   "mimetype": "text/x-python",
   "name": "python",
   "nbconvert_exporter": "python",
   "pygments_lexer": "ipython3",
   "version": "3.8.5"
  }
 },
 "nbformat": 4,
 "nbformat_minor": 4
}
