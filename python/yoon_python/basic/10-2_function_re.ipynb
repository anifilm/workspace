{
 "cells": [
  {
   "cell_type": "code",
   "execution_count": null,
   "metadata": {},
   "outputs": [],
   "source": [
    "\"\"\" 10-2 이름을 지정해서 값 전달하기 \"\"\""
   ]
  },
  {
   "cell_type": "code",
   "execution_count": 1,
   "metadata": {},
   "outputs": [],
   "source": [
    "def who_are_you(name, age):  # name과 age를 가리켜 매개변수라 한다.\n",
    "    print(\"이름:\", name)\n",
    "    print(\"나이:\", age)"
   ]
  },
  {
   "cell_type": "code",
   "execution_count": 3,
   "metadata": {},
   "outputs": [
    {
     "name": "stdout",
     "output_type": "stream",
     "text": [
      "이름: 윤성우\n",
      "나이: 22\n"
     ]
    }
   ],
   "source": [
    "who_are_you(\"윤성우\", 22)  # 이름을 첫 번째 값으로 나이는 두 번째 값으로 전달"
   ]
  },
  {
   "cell_type": "code",
   "execution_count": 4,
   "metadata": {},
   "outputs": [
    {
     "name": "stdout",
     "output_type": "stream",
     "text": [
      "이름: 윤성우\n",
      "나이: 24\n"
     ]
    }
   ],
   "source": [
    "who_are_you(name = \"윤성우\", age = 24)  # name에 \"윤성우\", age에 24를 전달"
   ]
  },
  {
   "cell_type": "code",
   "execution_count": 5,
   "metadata": {},
   "outputs": [
    {
     "name": "stdout",
     "output_type": "stream",
     "text": [
      "1 3 5 7 9 "
     ]
    }
   ],
   "source": [
    "for i in (1, 3, 5, 7, 9):\n",
    "    print(i, end = ' ')  # 두 번째로 전달한 end = ' '의 의미는?"
   ]
  },
  {
   "cell_type": "code",
   "execution_count": 7,
   "metadata": {},
   "outputs": [
    {
     "name": "stdout",
     "output_type": "stream",
     "text": [
      "1 2 3 m^^m "
     ]
    }
   ],
   "source": [
    "print(1, 2, 3, end = ' m^^m ')  # 출력의 끝에 ' m^^m '도 출력하라는 의미"
   ]
  },
  {
   "cell_type": "code",
   "execution_count": 8,
   "metadata": {},
   "outputs": [
    {
     "name": "stdout",
     "output_type": "stream",
     "text": [
      "1, 2, 3\n"
     ]
    }
   ],
   "source": [
    "print(1, 2, 3, sep = ', ')  # 출력 내용 사이에 ', '를 출력"
   ]
  },
  {
   "cell_type": "code",
   "execution_count": 9,
   "metadata": {},
   "outputs": [
    {
     "name": "stdout",
     "output_type": "stream",
     "text": [
      "1, 2, 3 m^^m "
     ]
    }
   ],
   "source": [
    "print(1, 2, 3, sep = ', ', end = ' m^^m ')"
   ]
  }
 ],
 "metadata": {
  "kernelspec": {
   "display_name": "Python 3",
   "language": "python",
   "name": "python3"
  },
  "language_info": {
   "codemirror_mode": {
    "name": "ipython",
    "version": 3
   },
   "file_extension": ".py",
   "mimetype": "text/x-python",
   "name": "python",
   "nbconvert_exporter": "python",
   "pygments_lexer": "ipython3",
   "version": "3.8.3"
  }
 },
 "nbformat": 4,
 "nbformat_minor": 4
}
