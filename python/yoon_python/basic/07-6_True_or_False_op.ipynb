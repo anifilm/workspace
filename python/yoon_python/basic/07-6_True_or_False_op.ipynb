{
 "cells": [
  {
   "cell_type": "code",
   "execution_count": null,
   "metadata": {},
   "outputs": [],
   "source": [
    "\"\"\" 07-6 True 또는 False를 반환하는 연산들 \"\"\""
   ]
  },
  {
   "cell_type": "code",
   "execution_count": 1,
   "metadata": {},
   "outputs": [
    {
     "name": "stdout",
     "output_type": "stream",
     "text": [
      "정수 입력: 2\n",
      "2를 입력했습니다.\n"
     ]
    }
   ],
   "source": [
    "# if_elif_else2.py\n",
    "def main():\n",
    "    num = int(input(\"정수 입력: \"))\n",
    "    if num == 1:  # num이 1이면 True\n",
    "        print(\"1을 입력했습니다.\")\n",
    "    elif num == 2:  # num이 2이면 True\n",
    "        print(\"2를 입력했습니다.\")\n",
    "    elif num == 3:  # num이 3이면 True\n",
    "        print(\"3을 입력했습니다.\")\n",
    "    else:\n",
    "        print(\"1, 2, 3 아닌 정수를 입력했습니다.\")\n",
    "\n",
    "main()  # 위의 main 함수를 실행하여라!"
   ]
  },
  {
   "cell_type": "code",
   "execution_count": 3,
   "metadata": {},
   "outputs": [
    {
     "name": "stdout",
     "output_type": "stream",
     "text": [
      "2의 배수이면서 3의 배수인 수 입력: 6\n",
      "OK!\n"
     ]
    }
   ],
   "source": [
    "# if_and_if.py\n",
    "def main():\n",
    "    num = int(input(\"2의 배수이면서 3의 배수인 수 입력: \"))\n",
    "    if num % 2 == 0:  # 연산 순서 구분되게 (num % 2) == 0로 입력 가능\n",
    "        if num % 3 == 0:  # 연산 순서 구분되게 (num % 3) == 0로 입력 가능\n",
    "            print(\"OK!\")\n",
    "        else:\n",
    "            print(\"NO!\")\n",
    "    else:\n",
    "        print(\"NO!\")\n",
    "\n",
    "main()"
   ]
  },
  {
   "cell_type": "code",
   "execution_count": 4,
   "metadata": {},
   "outputs": [],
   "source": [
    "# and 연산의 결과"
   ]
  },
  {
   "cell_type": "code",
   "execution_count": 5,
   "metadata": {},
   "outputs": [
    {
     "data": {
      "text/plain": [
       "True"
      ]
     },
     "execution_count": 5,
     "metadata": {},
     "output_type": "execute_result"
    }
   ],
   "source": [
    "True and True  # 이 문장에서 True는 값, and는 연산자"
   ]
  },
  {
   "cell_type": "code",
   "execution_count": 6,
   "metadata": {},
   "outputs": [
    {
     "data": {
      "text/plain": [
       "False"
      ]
     },
     "execution_count": 6,
     "metadata": {},
     "output_type": "execute_result"
    }
   ],
   "source": [
    "True and False  # 이 문장에서 True, Flase는 값이고 and는 연산자"
   ]
  },
  {
   "cell_type": "code",
   "execution_count": 7,
   "metadata": {},
   "outputs": [],
   "source": [
    "# or 연산의 결과"
   ]
  },
  {
   "cell_type": "code",
   "execution_count": 8,
   "metadata": {},
   "outputs": [
    {
     "data": {
      "text/plain": [
       "True"
      ]
     },
     "execution_count": 8,
     "metadata": {},
     "output_type": "execute_result"
    }
   ],
   "source": [
    "True or False  # 이 문장에서 True, False는 값, or는 연산자"
   ]
  },
  {
   "cell_type": "code",
   "execution_count": 9,
   "metadata": {},
   "outputs": [
    {
     "data": {
      "text/plain": [
       "False"
      ]
     },
     "execution_count": 9,
     "metadata": {},
     "output_type": "execute_result"
    }
   ],
   "source": [
    "False or False  # 이 문장에서 False는 값이고 or는 연산자"
   ]
  },
  {
   "cell_type": "code",
   "execution_count": 10,
   "metadata": {},
   "outputs": [
    {
     "data": {
      "text/plain": [
       "True"
      ]
     },
     "execution_count": 10,
     "metadata": {},
     "output_type": "execute_result"
    }
   ],
   "source": [
    "not False  # 이 문장에서 False는 값, not은 연산자"
   ]
  },
  {
   "cell_type": "code",
   "execution_count": 11,
   "metadata": {},
   "outputs": [
    {
     "data": {
      "text/plain": [
       "False"
      ]
     },
     "execution_count": 11,
     "metadata": {},
     "output_type": "execute_result"
    }
   ],
   "source": [
    "not True  # 이 문장에서 True는 값, not은 연산자"
   ]
  },
  {
   "cell_type": "code",
   "execution_count": null,
   "metadata": {},
   "outputs": [],
   "source": [
    "\"\"\"\n",
    "[and 연산의 결과]\n",
    " p1        p2      p1 and p2\n",
    "True      True      True\n",
    "True      False     False\n",
    "False     True      False\n",
    "False     False     False\n",
    "\n",
    "[or 연산의 결과]\n",
    " p1        p2      p1 or p2\n",
    "True      True      True\n",
    "True      False     True\n",
    "False     True      True\n",
    "False     False     False\n",
    "\n",
    "[not 연산의 결과]\n",
    " p        not p\n",
    "True      False\n",
    "False     True\n",
    "\n",
    "\"\"\""
   ]
  },
  {
   "cell_type": "code",
   "execution_count": 14,
   "metadata": {},
   "outputs": [
    {
     "data": {
      "text/plain": [
       "True"
      ]
     },
     "execution_count": 14,
     "metadata": {},
     "output_type": "execute_result"
    }
   ],
   "source": [
    "num = 6\n",
    "(num % 2) == 0 and (num % 3) == 0  # num의 값이 2와 3의 배수인지 묻는 문장"
   ]
  },
  {
   "cell_type": "code",
   "execution_count": 15,
   "metadata": {},
   "outputs": [
    {
     "name": "stdout",
     "output_type": "stream",
     "text": [
      "2의 배수이면서 3의 배수인 수 입력: 24\n",
      "OK!\n"
     ]
    }
   ],
   "source": [
    "def main():\n",
    "    num = int(input(\"2의 배수이면서 3의 배수인 수 입력: \"))\n",
    "    if (num % 2) == 0 and (num % 3) == 0:  # num이 2와 3의 배수이면 조건 True\n",
    "        print(\"OK!\")\n",
    "    else:\n",
    "        print(\"NO!\")\n",
    "\n",
    "main()"
   ]
  }
 ],
 "metadata": {
  "kernelspec": {
   "display_name": "Python 3",
   "language": "python",
   "name": "python3"
  },
  "language_info": {
   "codemirror_mode": {
    "name": "ipython",
    "version": 3
   },
   "file_extension": ".py",
   "mimetype": "text/x-python",
   "name": "python",
   "nbconvert_exporter": "python",
   "pygments_lexer": "ipython3",
   "version": "3.8.3"
  }
 },
 "nbformat": 4,
 "nbformat_minor": 4
}
