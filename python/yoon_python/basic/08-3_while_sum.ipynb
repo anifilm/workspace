{
 "cells": [
  {
   "cell_type": "code",
   "execution_count": null,
   "metadata": {},
   "outputs": [],
   "source": [
    "\"\"\" 08-3 for 루프와 while 루프의 비교 \"\"\"\n"
   ]
  },
  {
   "cell_type": "code",
   "execution_count": 1,
   "metadata": {},
   "outputs": [
    {
     "name": "stdout",
     "output_type": "stream",
     "text": [
      "sum = 55 "
     ]
    }
   ],
   "source": [
    "# while_sum.py\n",
    "def main():\n",
    "    i = 1\n",
    "    sum = 0  # 1부터 10까지의 합이 이 변수에 저장된다.\n",
    "    while i < 11:  # i의 값이 11보다 작은 동안 반복\n",
    "        sum += i   # sum의 값을 i만큼 증가시킴\n",
    "        i += 1     # i의 값을 1 증가시킴\n",
    "    print(\"sum =\", sum, end = ' ')\n",
    "\n",
    "main()    "
   ]
  },
  {
   "cell_type": "code",
   "execution_count": 2,
   "metadata": {},
   "outputs": [
    {
     "name": "stdout",
     "output_type": "stream",
     "text": [
      "14 더했을 때의 합 105 "
     ]
    }
   ],
   "source": [
    "# while_over100.py\n",
    "def main():\n",
    "    i = 1\n",
    "    sum = 0\n",
    "    while sum <= 100:  # sum의 값이 100이하인 동안 반복\n",
    "        sum += i\n",
    "        i += 1\n",
    "    print(i-1, \"더했을 때의 합\", sum, end = ' ')\n",
    "\n",
    "main()"
   ]
  }
 ],
 "metadata": {
  "kernelspec": {
   "display_name": "Python 3",
   "language": "python",
   "name": "python3"
  },
  "language_info": {
   "codemirror_mode": {
    "name": "ipython",
    "version": 3
   },
   "file_extension": ".py",
   "mimetype": "text/x-python",
   "name": "python",
   "nbconvert_exporter": "python",
   "pygments_lexer": "ipython3",
   "version": "3.8.5"
  }
 },
 "nbformat": 4,
 "nbformat_minor": 4
}
