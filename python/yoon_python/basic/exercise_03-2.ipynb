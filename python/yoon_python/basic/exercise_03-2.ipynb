{
 "cells": [
  {
   "cell_type": "code",
   "execution_count": null,
   "metadata": {},
   "outputs": [],
   "source": [
    "\"\"\" [연습문제 03-2] \"\"\""
   ]
  },
  {
   "cell_type": "code",
   "execution_count": null,
   "metadata": {},
   "outputs": [],
   "source": [
    "\"\"\" evel 함수와 input 함수를 잘 묶어서 사용하면 프로그램 사용자로부터 산술 연산이 가능한 '수'를\n",
    "입력 받을 수 있음에 대해 본문에서 설명하였다. 따라서 이를 근거로 다음의 실행 흐름을 보이는 예를\n",
    "작성해 보자. (아래에서 1.24와 3.12는 프로그램 사용자가 입력한 값이다.)\n",
    "\n",
    ">>> __________\n",
    "첫 번째 입력: 1.24\n",
    ">>> __________\n",
    "두 번째 입력: 3.12\n",
    ">>> __________\n",
    "두 입력의 합: 4.36\n",
    "\n",
    "위의 실행 흐름에서는 프로그램 사용자가 입력한 두 실수 1.24와 3.12를 대상으로 산술 덧셈이 진행되었음\n",
    "을 보이고 있다. 그럼 이러한 결과를 보이도록 위의 빈 공간을 채워보자.\n",
    "\"\"\""
   ]
  },
  {
   "cell_type": "code",
   "execution_count": 1,
   "metadata": {},
   "outputs": [
    {
     "name": "stdout",
     "output_type": "stream",
     "text": [
      "첫 번째 입력: 1.24\n",
      "두 번째 입력: 3.12\n",
      "두 입력의 합: 4.36\n"
     ]
    }
   ],
   "source": [
    "a = eval(input(\"첫 번째 입력: \"))\n",
    "b = eval(input(\"두 번째 입력: \"))\n",
    "print(\"두 입력의 합:\", a + b)"
   ]
  }
 ],
 "metadata": {
  "kernelspec": {
   "display_name": "Python 3",
   "language": "python",
   "name": "python3"
  },
  "language_info": {
   "codemirror_mode": {
    "name": "ipython",
    "version": 3
   },
   "file_extension": ".py",
   "mimetype": "text/x-python",
   "name": "python",
   "nbconvert_exporter": "python",
   "pygments_lexer": "ipython3",
   "version": "3.8.3"
  }
 },
 "nbformat": 4,
 "nbformat_minor": 4
}
