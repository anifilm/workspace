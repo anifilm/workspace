{
 "cells": [
  {
   "cell_type": "code",
   "execution_count": null,
   "metadata": {},
   "outputs": [],
   "source": [
    "\"\"\" 13-1 전역변수와 지역변수 \"\"\""
   ]
  },
  {
   "cell_type": "code",
   "execution_count": 1,
   "metadata": {},
   "outputs": [],
   "source": [
    "# - 함수 안에 선언되는 변수     <지역변수>\n",
    "# - 함수 밖에 선언되는 변수     <전역변수>"
   ]
  },
  {
   "cell_type": "code",
   "execution_count": 2,
   "metadata": {},
   "outputs": [],
   "source": [
    "def func(n):  # 매개변수 n도 지역변수 범주에 포함된다. (지역변수의 일종이다.)\n",
    "    lv = n + 1  # 지역변수 lv의 선언, 그리고 매개변수 n에 접근\n",
    "    print(lv)   # 지역변수 lv에 접근"
   ]
  },
  {
   "cell_type": "code",
   "execution_count": 3,
   "metadata": {},
   "outputs": [
    {
     "name": "stdout",
     "output_type": "stream",
     "text": [
      "13\n"
     ]
    }
   ],
   "source": [
    "func(12)"
   ]
  },
  {
   "cell_type": "code",
   "execution_count": 4,
   "metadata": {},
   "outputs": [
    {
     "ename": "NameError",
     "evalue": "name 'lv' is not defined",
     "output_type": "error",
     "traceback": [
      "\u001b[1;31m---------------------------------------------------------------------------\u001b[0m",
      "\u001b[1;31mNameError\u001b[0m                                 Traceback (most recent call last)",
      "\u001b[1;32m<ipython-input-4-25bd2628d60a>\u001b[0m in \u001b[0;36m<module>\u001b[1;34m\u001b[0m\n\u001b[1;32m----> 1\u001b[1;33m \u001b[0mprint\u001b[0m\u001b[1;33m(\u001b[0m\u001b[0mlv\u001b[0m\u001b[1;33m)\u001b[0m  \u001b[1;31m# 함수 밖에서 지역변수 lv에 접근, 따라서 오류!\u001b[0m\u001b[1;33m\u001b[0m\u001b[1;33m\u001b[0m\u001b[0m\n\u001b[0m",
      "\u001b[1;31mNameError\u001b[0m: name 'lv' is not defined"
     ]
    }
   ],
   "source": [
    "print(lv)  # 함수 밖에서 지역변수 lv에 접근, 따라서 오류!"
   ]
  },
  {
   "cell_type": "code",
   "execution_count": 5,
   "metadata": {},
   "outputs": [],
   "source": [
    "# \"지역변수는 함수 내에서 만들어졌다가 함수를 벗어나면 사라지는 변수이다.\""
   ]
  },
  {
   "cell_type": "code",
   "execution_count": 6,
   "metadata": {},
   "outputs": [
    {
     "name": "stdout",
     "output_type": "stream",
     "text": [
      "101\n"
     ]
    }
   ],
   "source": [
    "cnt = 100  # 함수 밖에서 선언되 전역변수 cnt\n",
    "cnt += 1   # 전역변수 cnt에 접근!\n",
    "\n",
    "def func():\n",
    "    print(cnt)  # 함수 내에서 전역변수 cnt에 접근\n",
    "\n",
    "func()"
   ]
  },
  {
   "cell_type": "code",
   "execution_count": 7,
   "metadata": {},
   "outputs": [
    {
     "name": "stdout",
     "output_type": "stream",
     "text": [
      "0\n"
     ]
    }
   ],
   "source": [
    "cnt = 100  # 전역변수 cnt 선언\n",
    "\n",
    "def func():\n",
    "    cnt = 0  # 지역변수 cnt 생성후 0으로 초기화 (전역변수 cnt는 지역변수에 의해 가려짐)\n",
    "    print(cnt)  # 지역변수 cnt의 값 출력\n",
    "\n",
    "func()"
   ]
  },
  {
   "cell_type": "code",
   "execution_count": 8,
   "metadata": {},
   "outputs": [
    {
     "name": "stdout",
     "output_type": "stream",
     "text": [
      "100\n"
     ]
    }
   ],
   "source": [
    "print(cnt)  # 전역변수 cnt의 값 출력"
   ]
  },
  {
   "cell_type": "code",
   "execution_count": 9,
   "metadata": {},
   "outputs": [
    {
     "name": "stdout",
     "output_type": "stream",
     "text": [
      "0\n"
     ]
    }
   ],
   "source": [
    "cnt = 100  # 전역변수 cnt 선언\n",
    "\n",
    "def func():\n",
    "    global cnt  # 이 함수 내에서 접근하는 cnt는 전역변수임을 알려줌\n",
    "    cnt = 0     # 전역변수 cnt에 0을 저장\n",
    "    print(cnt)  # 전역변수 cnt 값 출력\n",
    "    \n",
    "func()"
   ]
  },
  {
   "cell_type": "code",
   "execution_count": 10,
   "metadata": {},
   "outputs": [
    {
     "name": "stdout",
     "output_type": "stream",
     "text": [
      "0\n"
     ]
    }
   ],
   "source": [
    "print(cnt)"
   ]
  }
 ],
 "metadata": {
  "kernelspec": {
   "display_name": "Python 3",
   "language": "python",
   "name": "python3"
  },
  "language_info": {
   "codemirror_mode": {
    "name": "ipython",
    "version": 3
   },
   "file_extension": ".py",
   "mimetype": "text/x-python",
   "name": "python",
   "nbconvert_exporter": "python",
   "pygments_lexer": "ipython3",
   "version": "3.8.3"
  }
 },
 "nbformat": 4,
 "nbformat_minor": 4
}
