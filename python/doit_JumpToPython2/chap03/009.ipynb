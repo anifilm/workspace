{
 "cells": [
  {
   "cell_type": "code",
   "execution_count": 1,
   "id": "9cc78fbe",
   "metadata": {},
   "outputs": [],
   "source": [
    "from collections import namedtuple"
   ]
  },
  {
   "cell_type": "code",
   "execution_count": 2,
   "id": "72070e1d",
   "metadata": {},
   "outputs": [],
   "source": [
    "data = [\n",
    "    ('홍길동', 23, '01099990001'),\n",
    "    ('김철수', 31, '01099991002'),\n",
    "    ('이영희', 29, '01099992003'),\n",
    "]"
   ]
  },
  {
   "cell_type": "code",
   "execution_count": 3,
   "id": "a8f1887e",
   "metadata": {},
   "outputs": [],
   "source": [
    "Employee = namedtuple('Employee', 'name, age, cellphone')"
   ]
  },
  {
   "cell_type": "code",
   "execution_count": 4,
   "id": "d123f9f7",
   "metadata": {},
   "outputs": [],
   "source": [
    "data = [Employee(emp[0], emp[1], emp[2]) for emp in data]\n",
    "# data = [Employee._make(emp) for emp in data]"
   ]
  },
  {
   "cell_type": "code",
   "execution_count": 5,
   "id": "8d1ea74d",
   "metadata": {},
   "outputs": [
    {
     "data": {
      "text/plain": [
       "'홍길동'"
      ]
     },
     "execution_count": 5,
     "metadata": {},
     "output_type": "execute_result"
    }
   ],
   "source": [
    "emp = data[0]  # 첫번째 직원\n",
    "emp.name"
   ]
  },
  {
   "cell_type": "code",
   "execution_count": 6,
   "id": "c1df8f38",
   "metadata": {},
   "outputs": [
    {
     "data": {
      "text/plain": [
       "23"
      ]
     },
     "execution_count": 6,
     "metadata": {},
     "output_type": "execute_result"
    }
   ],
   "source": [
    "emp.age"
   ]
  },
  {
   "cell_type": "code",
   "execution_count": 7,
   "id": "ec21f887",
   "metadata": {},
   "outputs": [
    {
     "data": {
      "text/plain": [
       "'01099990001'"
      ]
     },
     "execution_count": 7,
     "metadata": {},
     "output_type": "execute_result"
    }
   ],
   "source": [
    "emp.cellphone"
   ]
  },
  {
   "cell_type": "code",
   "execution_count": 8,
   "id": "d4f9a4da",
   "metadata": {},
   "outputs": [
    {
     "data": {
      "text/plain": [
       "{'name': '홍길동', 'age': 23, 'cellphone': '01099990001'}"
      ]
     },
     "execution_count": 8,
     "metadata": {},
     "output_type": "execute_result"
    }
   ],
   "source": [
    "emp._asdict()"
   ]
  },
  {
   "cell_type": "code",
   "execution_count": 9,
   "id": "d45a2748",
   "metadata": {},
   "outputs": [
    {
     "data": {
      "text/plain": [
       "'홍길동'"
      ]
     },
     "execution_count": 9,
     "metadata": {},
     "output_type": "execute_result"
    }
   ],
   "source": [
    "emp[0]"
   ]
  },
  {
   "cell_type": "code",
   "execution_count": 10,
   "id": "eea1d02b",
   "metadata": {},
   "outputs": [
    {
     "data": {
      "text/plain": [
       "23"
      ]
     },
     "execution_count": 10,
     "metadata": {},
     "output_type": "execute_result"
    }
   ],
   "source": [
    "emp[1]"
   ]
  },
  {
   "cell_type": "code",
   "execution_count": 11,
   "id": "e8fc4ec0",
   "metadata": {},
   "outputs": [
    {
     "data": {
      "text/plain": [
       "'01099990001'"
      ]
     },
     "execution_count": 11,
     "metadata": {},
     "output_type": "execute_result"
    }
   ],
   "source": [
    "emp[2]"
   ]
  },
  {
   "cell_type": "code",
   "execution_count": 12,
   "id": "cb4a7aaf",
   "metadata": {},
   "outputs": [
    {
     "ename": "AttributeError",
     "evalue": "can't set attribute",
     "output_type": "error",
     "traceback": [
      "\u001b[1;31m---------------------------------------------------------------------------\u001b[0m",
      "\u001b[1;31mAttributeError\u001b[0m                            Traceback (most recent call last)",
      "\u001b[1;32m<ipython-input-12-4b9e879da3b4>\u001b[0m in \u001b[0;36m<module>\u001b[1;34m\u001b[0m\n\u001b[1;32m----> 1\u001b[1;33m \u001b[0memp\u001b[0m\u001b[1;33m.\u001b[0m\u001b[0mname\u001b[0m \u001b[1;33m=\u001b[0m \u001b[1;34m'박길동'\u001b[0m\u001b[1;33m\u001b[0m\u001b[1;33m\u001b[0m\u001b[0m\n\u001b[0m",
      "\u001b[1;31mAttributeError\u001b[0m: can't set attribute"
     ]
    }
   ],
   "source": [
    "emp.name = '박길동'"
   ]
  },
  {
   "cell_type": "code",
   "execution_count": 13,
   "id": "79f02724",
   "metadata": {},
   "outputs": [
    {
     "data": {
      "text/plain": [
       "Employee(name='박길동', age=23, cellphone='01099990001')"
      ]
     },
     "execution_count": 13,
     "metadata": {},
     "output_type": "execute_result"
    }
   ],
   "source": [
    "new_emp = emp._replace(name='박길동')  # 값을 변경한 새로운 객체를 반환\n",
    "new_emp"
   ]
  }
 ],
 "metadata": {
  "kernelspec": {
   "display_name": "Python 3",
   "language": "python",
   "name": "python3"
  },
  "language_info": {
   "codemirror_mode": {
    "name": "ipython",
    "version": 3
   },
   "file_extension": ".py",
   "mimetype": "text/x-python",
   "name": "python",
   "nbconvert_exporter": "python",
   "pygments_lexer": "ipython3",
   "version": "3.8.8"
  }
 },
 "nbformat": 4,
 "nbformat_minor": 5
}
