{
 "cells": [
  {
   "cell_type": "code",
   "execution_count": 1,
   "id": "7faf4c93",
   "metadata": {},
   "outputs": [],
   "source": [
    "import struct"
   ]
  },
  {
   "cell_type": "code",
   "execution_count": 4,
   "id": "185811db",
   "metadata": {},
   "outputs": [
    {
     "name": "stdout",
     "output_type": "stream",
     "text": [
      "(7.5, 15, b'A', b'\\x00', b'\\x00', b'\\x00')\n"
     ]
    }
   ],
   "source": [
    "with open('output', 'rb') as f:\n",
    "    chunk = f.read(16)\n",
    "    result = struct.unpack('dicccc', chunk)  # double형 1개, int형 1개, char형 4개\n",
    "    print(result)"
   ]
  }
 ],
 "metadata": {
  "kernelspec": {
   "display_name": "Python 3",
   "language": "python",
   "name": "python3"
  },
  "language_info": {
   "codemirror_mode": {
    "name": "ipython",
    "version": 3
   },
   "file_extension": ".py",
   "mimetype": "text/x-python",
   "name": "python",
   "nbconvert_exporter": "python",
   "pygments_lexer": "ipython3",
   "version": "3.8.8"
  }
 },
 "nbformat": 4,
 "nbformat_minor": 5
}
