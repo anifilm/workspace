{
 "cells": [
  {
   "cell_type": "code",
   "execution_count": 1,
   "id": "99fd9b12",
   "metadata": {},
   "outputs": [],
   "source": [
    "import re"
   ]
  },
  {
   "cell_type": "code",
   "execution_count": 2,
   "id": "60fe0c18",
   "metadata": {},
   "outputs": [],
   "source": [
    "data = '''\n",
    "홍길동의 주민 등록 번호는 800905-1049118 입니다.\n",
    "그리고 고길동의 주민 등록 번호는 700905-1059119 입니다.\n",
    "그렇다면 누가 형님일까요?\n",
    "'''"
   ]
  },
  {
   "cell_type": "code",
   "execution_count": 3,
   "id": "1c0d3d3c",
   "metadata": {},
   "outputs": [
    {
     "name": "stdout",
     "output_type": "stream",
     "text": [
      "\n",
      "홍길동의 주민 등록 번호는 800905-******* 입니다.\n",
      "그리고 고길동의 주민 등록 번호는 700905-******* 입니다.\n",
      "그렇다면 누가 형님일까요?\n",
      "\n"
     ]
    }
   ],
   "source": [
    "pat = re.compile('(\\d{6})[-]\\d{7}')\n",
    "print(pat.sub('\\g<1>-*******', data))"
   ]
  }
 ],
 "metadata": {
  "kernelspec": {
   "display_name": "Python 3",
   "language": "python",
   "name": "python3"
  },
  "language_info": {
   "codemirror_mode": {
    "name": "ipython",
    "version": 3
   },
   "file_extension": ".py",
   "mimetype": "text/x-python",
   "name": "python",
   "nbconvert_exporter": "python",
   "pygments_lexer": "ipython3",
   "version": "3.8.8"
  }
 },
 "nbformat": 4,
 "nbformat_minor": 5
}
