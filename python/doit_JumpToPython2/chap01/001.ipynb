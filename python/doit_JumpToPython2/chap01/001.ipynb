{
 "cells": [
  {
   "cell_type": "code",
   "execution_count": 3,
   "id": "c7146621",
   "metadata": {},
   "outputs": [],
   "source": [
    "import textwrap"
   ]
  },
  {
   "cell_type": "code",
   "execution_count": 4,
   "id": "709092ad",
   "metadata": {},
   "outputs": [
    {
     "data": {
      "text/plain": [
       "'Life is [...]'"
      ]
     },
     "execution_count": 4,
     "metadata": {},
     "output_type": "execute_result"
    }
   ],
   "source": [
    "textwrap.shorten(\"Life is too short, you need python\", width=15)"
   ]
  },
  {
   "cell_type": "code",
   "execution_count": 7,
   "id": "39878f35",
   "metadata": {},
   "outputs": [
    {
     "data": {
      "text/plain": [
       "'인생은 짧으니 [...]'"
      ]
     },
     "execution_count": 7,
     "metadata": {},
     "output_type": "execute_result"
    }
   ],
   "source": [
    "textwrap.shorten(\"인생은 짧으니 파이썬이 필요해\", width=15)"
   ]
  },
  {
   "cell_type": "code",
   "execution_count": 8,
   "id": "dd0b6cbf",
   "metadata": {},
   "outputs": [
    {
     "data": {
      "text/plain": [
       "'인생은 짧으니 파이썬이...'"
      ]
     },
     "execution_count": 8,
     "metadata": {},
     "output_type": "execute_result"
    }
   ],
   "source": [
    "textwrap.shorten(\"인생은 짧으니 파이썬이 필요해\", width=15, placeholder='...')"
   ]
  }
 ],
 "metadata": {
  "kernelspec": {
   "display_name": "Python 3",
   "language": "python",
   "name": "python3"
  },
  "language_info": {
   "codemirror_mode": {
    "name": "ipython",
    "version": 3
   },
   "file_extension": ".py",
   "mimetype": "text/x-python",
   "name": "python",
   "nbconvert_exporter": "python",
   "pygments_lexer": "ipython3",
   "version": "3.8.8"
  }
 },
 "nbformat": 4,
 "nbformat_minor": 5
}
