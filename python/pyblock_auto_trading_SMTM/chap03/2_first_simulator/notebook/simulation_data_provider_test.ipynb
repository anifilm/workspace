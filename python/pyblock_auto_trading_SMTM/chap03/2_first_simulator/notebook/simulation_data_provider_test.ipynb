{
 "cells": [
  {
   "cell_type": "code",
   "execution_count": 2,
   "metadata": {},
   "outputs": [],
   "source": [
    "import os\n",
    "os.chdir('../')"
   ]
  },
  {
   "attachments": {},
   "cell_type": "markdown",
   "metadata": {},
   "source": [
    "현재 디렉토리가 smtm 프로젝트 root로 설정되었는지 확인"
   ]
  },
  {
   "cell_type": "code",
   "execution_count": 3,
   "metadata": {},
   "outputs": [
    {
     "name": "stdout",
     "output_type": "stream",
     "text": [
      "현재 디렉토리  s:\\GitHub\\workspace\\python\\pyblock_auto_trading_SMTM\\chap03\\2_first_simulator\n"
     ]
    }
   ],
   "source": [
    "print(\"현재 디렉토리 \" , os.getcwd())"
   ]
  },
  {
   "cell_type": "code",
   "execution_count": 4,
   "metadata": {},
   "outputs": [
    {
     "name": "stderr",
     "output_type": "stream",
     "text": [
      "2023-07-29 17:01:17,641  INFO SimulationDataProvid - data is updated from server # end: 2020-04-30T07:30:00, count: 50\n"
     ]
    }
   ],
   "source": [
    "from smtm import SimulationDataProvider\n",
    "dp = SimulationDataProvider()\n",
    "end_date = \"2020-04-30T07:30:00\"\n",
    "dp.initialize_from_server(end=end_date, count=50)"
   ]
  },
  {
   "cell_type": "code",
   "execution_count": 5,
   "metadata": {},
   "outputs": [
    {
     "name": "stderr",
     "output_type": "stream",
     "text": [
      "2023-07-29 17:01:21,778  INFO SimulationDataProvid - [DATA] @ 2020-04-30T06:40:00\n"
     ]
    },
    {
     "data": {
      "text/plain": [
       "{'market': 'KRW-BTC',\n",
       " 'date_time': '2020-04-30T06:40:00',\n",
       " 'opening_price': 10589000.0,\n",
       " 'high_price': 10597000.0,\n",
       " 'low_price': 10586000.0,\n",
       " 'closing_price': 10586000.0,\n",
       " 'acc_price': 21749781.5467,\n",
       " 'acc_volume': 2.05403914}"
      ]
     },
     "execution_count": 5,
     "metadata": {},
     "output_type": "execute_result"
    }
   ],
   "source": [
    "# 첫번째 데이터\n",
    "dp.get_info()"
   ]
  },
  {
   "cell_type": "code",
   "execution_count": 6,
   "metadata": {},
   "outputs": [
    {
     "name": "stderr",
     "output_type": "stream",
     "text": [
      "2023-07-29 17:01:24,044  INFO SimulationDataProvid - [DATA] @ 2020-04-30T06:41:00\n"
     ]
    },
    {
     "data": {
      "text/plain": [
       "{'market': 'KRW-BTC',\n",
       " 'date_time': '2020-04-30T06:41:00',\n",
       " 'opening_price': 10586000.0,\n",
       " 'high_price': 10598000.0,\n",
       " 'low_price': 10577000.0,\n",
       " 'closing_price': 10598000.0,\n",
       " 'acc_price': 35326230.30369,\n",
       " 'acc_volume': 3.33833509}"
      ]
     },
     "execution_count": 6,
     "metadata": {},
     "output_type": "execute_result"
    }
   ],
   "source": [
    "# 두번째 데이터\n",
    "dp.get_info()"
   ]
  }
 ],
 "metadata": {
  "kernelspec": {
   "display_name": "venv",
   "language": "python",
   "name": "python3"
  },
  "language_info": {
   "codemirror_mode": {
    "name": "ipython",
    "version": 3
   },
   "file_extension": ".py",
   "mimetype": "text/x-python",
   "name": "python",
   "nbconvert_exporter": "python",
   "pygments_lexer": "ipython3",
   "version": "3.9.12 (main, Apr  4 2022, 05:22:27) [MSC v.1916 64 bit (AMD64)]"
  },
  "orig_nbformat": 4,
  "vscode": {
   "interpreter": {
    "hash": "e2d72135f75c1dfb2d1c96910db52aa607e96abcd02183c457b5b4fce7f9ba2e"
   }
  }
 },
 "nbformat": 4,
 "nbformat_minor": 2
}
