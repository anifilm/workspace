{
 "cells": [
  {
   "cell_type": "code",
   "execution_count": 1,
   "metadata": {},
   "outputs": [],
   "source": [
    "# 반복의 제어 - break, continue"
   ]
  },
  {
   "cell_type": "code",
   "execution_count": 2,
   "metadata": {},
   "outputs": [
    {
     "name": "stdout",
     "output_type": "stream",
     "text": [
      "0\n",
      "1\n",
      "2\n",
      "3\n",
      "4\n",
      "EOP\n"
     ]
    }
   ],
   "source": [
    "# break 특정 조건에서 반복 종료\n",
    "for i in range(10):\n",
    "    if i == 5: break  # i가 5가 되면 반복 종료\n",
    "    print(i)\n",
    "print(\"Loop End\")  # 반복 종료 후 \"Loop End\" 출력"
   ]
  },
  {
   "cell_type": "code",
   "execution_count": 4,
   "metadata": {},
   "outputs": [
    {
     "name": "stdout",
     "output_type": "stream",
     "text": [
      "1\n",
      "3\n",
      "5\n",
      "7\n",
      "9\n",
      "EOP\n"
     ]
    }
   ],
   "source": [
    "# continue 특정 조건에서 남은 반복 명령 skip\n",
    "for i in range(10):\n",
    "    if i % 2 == 0: continue  # i가 2의 배수인 경우 i를 출력하지 않음\n",
    "    print(i)\n",
    "print(\"Loop End\") # 반복 종료 후 \"Loop End\" 출력"
   ]
  }
 ],
 "metadata": {
  "kernelspec": {
   "display_name": "Python 3",
   "language": "python",
   "name": "python3"
  },
  "language_info": {
   "codemirror_mode": {
    "name": "ipython",
    "version": 3
   },
   "file_extension": ".py",
   "mimetype": "text/x-python",
   "name": "python",
   "nbconvert_exporter": "python",
   "pygments_lexer": "ipython3",
   "version": "3.8.3"
  }
 },
 "nbformat": 4,
 "nbformat_minor": 4
}
