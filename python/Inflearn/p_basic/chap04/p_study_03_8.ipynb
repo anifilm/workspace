{
 "cells": [
  {
   "cell_type": "code",
   "execution_count": 1,
   "metadata": {},
   "outputs": [],
   "source": [
    "# 반복의 제어 - for ~ else 추가 예제"
   ]
  },
  {
   "cell_type": "code",
   "execution_count": 2,
   "metadata": {},
   "outputs": [
    {
     "name": "stdout",
     "output_type": "stream",
     "text": [
      "lucky_num is 14\n",
      "Fail\n"
     ]
    }
   ],
   "source": [
    "import random\n",
    "\n",
    "lucky_num = random.randint(1, 100)\n",
    "print(f\"lucky_num is {lucky_num}\")\n",
    "\n",
    "for i in range(10):\n",
    "    num = random.randint(1, 100)\n",
    "    if num == lucky_num:\n",
    "        print(f\"Success\")\n",
    "        break\n",
    "    if i == 9:  # 반복 회차마다 if문으로 검사하게 된다.\n",
    "        print(\"Fail\")"
   ]
  },
  {
   "cell_type": "code",
   "execution_count": 8,
   "metadata": {},
   "outputs": [
    {
     "name": "stdout",
     "output_type": "stream",
     "text": [
      "lucky_num is 18\n",
      "Success\n"
     ]
    }
   ],
   "source": [
    "import random\n",
    "\n",
    "lucky_num = random.randint(1, 100)\n",
    "print(f\"lucky_num is {lucky_num}\")\n",
    "\n",
    "for _ in range(10):\n",
    "    num = random.randint(1, 100)\n",
    "    if num == lucky_num:\n",
    "        print(f\"Success\")\n",
    "        break\n",
    "else:\n",
    "    print(\"Fail\")  # 반복문이 break로 종료되지 않았다면 else구문 실행"
   ]
  }
 ],
 "metadata": {
  "kernelspec": {
   "display_name": "Python 3",
   "language": "python",
   "name": "python3"
  },
  "language_info": {
   "codemirror_mode": {
    "name": "ipython",
    "version": 3
   },
   "file_extension": ".py",
   "mimetype": "text/x-python",
   "name": "python",
   "nbconvert_exporter": "python",
   "pygments_lexer": "ipython3",
   "version": "3.8.3"
  }
 },
 "nbformat": 4,
 "nbformat_minor": 4
}
