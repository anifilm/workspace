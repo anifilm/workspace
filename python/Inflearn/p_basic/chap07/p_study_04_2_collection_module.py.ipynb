{
 "cells": [
  {
   "cell_type": "code",
   "execution_count": null,
   "metadata": {},
   "outputs": [],
   "source": [
    "# OrderedDict\n",
    "# - dict와 달리, 데이터를 입력한 순서대로 dict를 반환함 (3.6이후는 dict도 동일)"
   ]
  },
  {
   "cell_type": "code",
   "execution_count": 21,
   "metadata": {},
   "outputs": [],
   "source": [
    "# OrderedDict (데이터를 입력한 순서대로 출력한다.)\n",
    "from collections import OrderedDict\n",
    "\n",
    "d = OrderedDict()\n",
    "d['x'] = 100\n",
    "d['y'] = 200\n",
    "d['z'] = 300\n",
    "d['l'] = 400"
   ]
  },
  {
   "cell_type": "code",
   "execution_count": 22,
   "metadata": {},
   "outputs": [
    {
     "name": "stdout",
     "output_type": "stream",
     "text": [
      "x 100\n",
      "y 200\n",
      "z 300\n",
      "l 400\n"
     ]
    }
   ],
   "source": [
    "for k, v in d.items():\n",
    "    print(k, v)"
   ]
  },
  {
   "cell_type": "code",
   "execution_count": 25,
   "metadata": {},
   "outputs": [
    {
     "name": "stdout",
     "output_type": "stream",
     "text": [
      "l 400\n",
      "x 100\n",
      "y 200\n",
      "z 300\n"
     ]
    }
   ],
   "source": [
    "# Dict type의 값을 key 값으로 정렬 (오름차순)\n",
    "for k, v in OrderedDict(sorted(d.items(), key=lambda t: t[0])).items():\n",
    "    print(k, v)"
   ]
  },
  {
   "cell_type": "code",
   "execution_count": null,
   "metadata": {},
   "outputs": [],
   "source": [
    "# key: l > x > y > z"
   ]
  },
  {
   "cell_type": "code",
   "execution_count": 26,
   "metadata": {},
   "outputs": [
    {
     "name": "stdout",
     "output_type": "stream",
     "text": [
      "l 400\n",
      "z 300\n",
      "y 200\n",
      "x 100\n"
     ]
    }
   ],
   "source": [
    "# Dict type의 값을 value 값으로 정렬 (내림차순)\n",
    "for k, v in OrderedDict(sorted(d.items(), reverse=True, key=lambda t: t[1])).items():\n",
    "    print(k, v)"
   ]
  },
  {
   "cell_type": "code",
   "execution_count": null,
   "metadata": {},
   "outputs": [],
   "source": [
    "# value: 400 > 300 > 200 > 100"
   ]
  },
  {
   "cell_type": "code",
   "execution_count": null,
   "metadata": {},
   "outputs": [],
   "source": [
    "\n",
    "\"\"\" 파이썬 3.6이후 부터 dict는 입력된 순서대로 출력을 지원한다. \"\"\"\n"
   ]
  },
  {
   "cell_type": "code",
   "execution_count": 32,
   "metadata": {},
   "outputs": [],
   "source": [
    "# dict (파이썬 3.6이후 부터 dict는 입력된 순서대로 출력을 지원한다.)\n",
    "d = {}\n",
    "d['x'] = 100\n",
    "d['y'] = 200\n",
    "d['z'] = 300\n",
    "d['l'] = 400"
   ]
  },
  {
   "cell_type": "code",
   "execution_count": 33,
   "metadata": {},
   "outputs": [
    {
     "name": "stdout",
     "output_type": "stream",
     "text": [
      "x 100\n",
      "y 200\n",
      "z 300\n",
      "l 400\n"
     ]
    }
   ],
   "source": [
    "for k, v in d.items():\n",
    "    print(k, v)"
   ]
  },
  {
   "cell_type": "code",
   "execution_count": 27,
   "metadata": {},
   "outputs": [
    {
     "data": {
      "text/plain": [
       "{'A': 3, 'C': 1, 'G': 5, 'T': 2}"
      ]
     },
     "execution_count": 27,
     "metadata": {},
     "output_type": "execute_result"
    }
   ],
   "source": [
    "# dict 값을 value로 정렬\n",
    "d = {'A': 3, 'C': 1, 'G': 5, 'T': 2}\n",
    "d"
   ]
  },
  {
   "cell_type": "code",
   "execution_count": 11,
   "metadata": {},
   "outputs": [
    {
     "data": {
      "text/plain": [
       "dict_items([('A', 3), ('C', 1), ('G', 5), ('T', 2)])"
      ]
     },
     "execution_count": 11,
     "metadata": {},
     "output_type": "execute_result"
    }
   ],
   "source": [
    "d.items()  # 각 key, value가 tuple로 들어있는 리스트 (dict_items 객체)로 만든다."
   ]
  },
  {
   "cell_type": "code",
   "execution_count": 28,
   "metadata": {},
   "outputs": [
    {
     "data": {
      "text/plain": [
       "[('A', 3), ('C', 1), ('G', 5), ('T', 2)]"
      ]
     },
     "execution_count": 28,
     "metadata": {},
     "output_type": "execute_result"
    }
   ],
   "source": [
    "# dict 값 key 오름차순 정렬\n",
    "sorted(d.items())"
   ]
  },
  {
   "cell_type": "code",
   "execution_count": 29,
   "metadata": {},
   "outputs": [
    {
     "data": {
      "text/plain": [
       "[('T', 2), ('G', 5), ('C', 1), ('A', 3)]"
      ]
     },
     "execution_count": 29,
     "metadata": {},
     "output_type": "execute_result"
    }
   ],
   "source": [
    "# dict 값 key 내림차순 정렬\n",
    "sorted(d.items(), reverse=True)"
   ]
  },
  {
   "cell_type": "code",
   "execution_count": 30,
   "metadata": {},
   "outputs": [
    {
     "data": {
      "text/plain": [
       "[('C', 1), ('T', 2), ('A', 3), ('G', 5)]"
      ]
     },
     "execution_count": 30,
     "metadata": {},
     "output_type": "execute_result"
    }
   ],
   "source": [
    "# dict 값 value 오름차순 정렬\n",
    "sorted(d.items(), key=lambda x: x[1])"
   ]
  },
  {
   "cell_type": "code",
   "execution_count": 31,
   "metadata": {},
   "outputs": [
    {
     "data": {
      "text/plain": [
       "[('G', 5), ('A', 3), ('T', 2), ('C', 1)]"
      ]
     },
     "execution_count": 31,
     "metadata": {},
     "output_type": "execute_result"
    }
   ],
   "source": [
    "# dict 값 value 내림차순 정렬\n",
    "sorted(d.items(), key=lambda x: x[1], reverse=True)"
   ]
  },
  {
   "cell_type": "code",
   "execution_count": 34,
   "metadata": {},
   "outputs": [],
   "source": [
    "# defaultdict\n",
    "# - Dict type의 값에 기본 값을 지정, 신규값 생성시 사용하는 방법"
   ]
  },
  {
   "cell_type": "code",
   "execution_count": 35,
   "metadata": {},
   "outputs": [
    {
     "name": "stdout",
     "output_type": "stream",
     "text": [
      "1\n"
     ]
    }
   ],
   "source": [
    "from collections import defaultdict\n",
    "\n",
    "d = defaultdict(object)     # Default dictionary를 생성\n",
    "d = defaultdict(lambda: 1)  # Default 값을 0으로 설정합\n",
    "print(d[\"first\"])"
   ]
  },
  {
   "cell_type": "code",
   "execution_count": 36,
   "metadata": {},
   "outputs": [],
   "source": [
    "# 언제 사용하는가?\n",
    "# - 하나의 지문에 각 단어들이 몇 개나 있는지 세고 싶을 경우\n",
    "# - Text-mining 접근법 (Vector Space Model)"
   ]
  },
  {
   "cell_type": "code",
   "execution_count": 37,
   "metadata": {},
   "outputs": [],
   "source": [
    "text = \"\"\"A press release is the quickest and easiest way to get free publicity. If well written, a press release can result in multiple published articles about your firm and its products. And that can mean new prospects contacting you asking you to sell to them. Talk about low-hanging fruit!\n",
    "What's more, press releases are cost effective. If the release results in an article that (for instance) appears to recommend your firm or your product, that article is more likely to drive prospects to contact you than a comparable paid advertisement.\n",
    "However, most press releases never accomplish that. Most press releases are just spray and pray. Nobody reads them, least of all the reporters and editors for whom they're intended. Worst case, a badly-written press release simply makes your firm look clueless and stupid.\n",
    "For example, a while back I received a press release containing the following sentence: \"Release 6.0 doubles the level of functionality available, providing organizations of all sizes with a fast-to-deploy, highly robust, and easy-to-use solution to better acquire, retain, and serve customers.\"\n",
    "Translation: \"The new release does more stuff.\" Why the extra verbiage? As I explained in the post \"Why Marketers Speak Biz Blab\", the BS words are simply a way to try to make something unimportant seem important. And, let's face it, a 6.0 release of a product probably isn't all that important.\n",
    "As a reporter, my immediate response to that press release was that it's not important because it expended an entire sentence saying absolutely nothing. And I assumed (probably rightly) that the company's marketing team was a bunch of idiots.\"\"\".lower().split()"
   ]
  },
  {
   "cell_type": "code",
   "execution_count": 38,
   "metadata": {},
   "outputs": [
    {
     "name": "stdout",
     "output_type": "stream",
     "text": [
      "['a', 'press', 'release', 'is', 'the', 'quickest', 'and', 'easiest', 'way', 'to', 'get', 'free', 'publicity.', 'if', 'well', 'written,', 'a', 'press', 'release', 'can', 'result', 'in', 'multiple', 'published', 'articles', 'about', 'your', 'firm', 'and', 'its', 'products.', 'and', 'that', 'can', 'mean', 'new', 'prospects', 'contacting', 'you', 'asking', 'you', 'to', 'sell', 'to', 'them.', 'talk', 'about', 'low-hanging', 'fruit!', \"what's\", 'more,', 'press', 'releases', 'are', 'cost', 'effective.', 'if', 'the', 'release', 'results', 'in', 'an', 'article', 'that', '(for', 'instance)', 'appears', 'to', 'recommend', 'your', 'firm', 'or', 'your', 'product,', 'that', 'article', 'is', 'more', 'likely', 'to', 'drive', 'prospects', 'to', 'contact', 'you', 'than', 'a', 'comparable', 'paid', 'advertisement.', 'however,', 'most', 'press', 'releases', 'never', 'accomplish', 'that.', 'most', 'press', 'releases', 'are', 'just', 'spray', 'and', 'pray.', 'nobody', 'reads', 'them,', 'least', 'of', 'all', 'the', 'reporters', 'and', 'editors', 'for', 'whom', \"they're\", 'intended.', 'worst', 'case,', 'a', 'badly-written', 'press', 'release', 'simply', 'makes', 'your', 'firm', 'look', 'clueless', 'and', 'stupid.', 'for', 'example,', 'a', 'while', 'back', 'i', 'received', 'a', 'press', 'release', 'containing', 'the', 'following', 'sentence:', '\"release', '6.0', 'doubles', 'the', 'level', 'of', 'functionality', 'available,', 'providing', 'organizations', 'of', 'all', 'sizes', 'with', 'a', 'fast-to-deploy,', 'highly', 'robust,', 'and', 'easy-to-use', 'solution', 'to', 'better', 'acquire,', 'retain,', 'and', 'serve', 'customers.\"', 'translation:', '\"the', 'new', 'release', 'does', 'more', 'stuff.\"', 'why', 'the', 'extra', 'verbiage?', 'as', 'i', 'explained', 'in', 'the', 'post', '\"why', 'marketers', 'speak', 'biz', 'blab\",', 'the', 'bs', 'words', 'are', 'simply', 'a', 'way', 'to', 'try', 'to', 'make', 'something', 'unimportant', 'seem', 'important.', 'and,', \"let's\", 'face', 'it,', 'a', '6.0', 'release', 'of', 'a', 'product', 'probably', \"isn't\", 'all', 'that', 'important.', 'as', 'a', 'reporter,', 'my', 'immediate', 'response', 'to', 'that', 'press', 'release', 'was', 'that', \"it's\", 'not', 'important', 'because', 'it', 'expended', 'an', 'entire', 'sentence', 'saying', 'absolutely', 'nothing.', 'and', 'i', 'assumed', '(probably', 'rightly)', 'that', 'the', \"company's\", 'marketing', 'team', 'was', 'a', 'bunch', 'of', 'idiots.']\n"
     ]
    }
   ],
   "source": [
    "print(text)"
   ]
  },
  {
   "cell_type": "code",
   "execution_count": 39,
   "metadata": {},
   "outputs": [
    {
     "name": "stdout",
     "output_type": "stream",
     "text": [
      "{'a': 11, 'press': 7, 'release': 7, 'is': 1, 'the': 8, 'quickest': 0, 'and': 8, 'easiest': 0, 'way': 1, 'to': 9, 'get': 0, 'free': 0, 'publicity.': 0, 'if': 1, 'well': 0, 'written,': 0, 'can': 1, 'result': 0, 'in': 2, 'multiple': 0, 'published': 0, 'articles': 0, 'about': 1, 'your': 3, 'firm': 2, 'its': 0, 'products.': 0, 'that': 6, 'mean': 0, 'new': 1, 'prospects': 1, 'contacting': 0, 'you': 2, 'asking': 0, 'sell': 0, 'them.': 0, 'talk': 0, 'low-hanging': 0, 'fruit!': 0, \"what's\": 0, 'more,': 0, 'releases': 2, 'are': 2, 'cost': 0, 'effective.': 0, 'results': 0, 'an': 1, 'article': 1, '(for': 0, 'instance)': 0, 'appears': 0, 'recommend': 0, 'or': 0, 'product,': 0, 'more': 1, 'likely': 0, 'drive': 0, 'contact': 0, 'than': 0, 'comparable': 0, 'paid': 0, 'advertisement.': 0, 'however,': 0, 'most': 1, 'never': 0, 'accomplish': 0, 'that.': 0, 'just': 0, 'spray': 0, 'pray.': 0, 'nobody': 0, 'reads': 0, 'them,': 0, 'least': 0, 'of': 4, 'all': 2, 'reporters': 0, 'editors': 0, 'for': 1, 'whom': 0, \"they're\": 0, 'intended.': 0, 'worst': 0, 'case,': 0, 'badly-written': 0, 'simply': 1, 'makes': 0, 'look': 0, 'clueless': 0, 'stupid.': 0, 'example,': 0, 'while': 0, 'back': 0, 'i': 2, 'received': 0, 'containing': 0, 'following': 0, 'sentence:': 0, '\"release': 0, '6.0': 1, 'doubles': 0, 'level': 0, 'functionality': 0, 'available,': 0, 'providing': 0, 'organizations': 0, 'sizes': 0, 'with': 0, 'fast-to-deploy,': 0, 'highly': 0, 'robust,': 0, 'easy-to-use': 0, 'solution': 0, 'better': 0, 'acquire,': 0, 'retain,': 0, 'serve': 0, 'customers.\"': 0, 'translation:': 0, '\"the': 0, 'does': 0, 'stuff.\"': 0, 'why': 0, 'extra': 0, 'verbiage?': 0, 'as': 1, 'explained': 0, 'post': 0, '\"why': 0, 'marketers': 0, 'speak': 0, 'biz': 0, 'blab\",': 0, 'bs': 0, 'words': 0, 'try': 0, 'make': 0, 'something': 0, 'unimportant': 0, 'seem': 0, 'important.': 1, 'and,': 0, \"let's\": 0, 'face': 0, 'it,': 0, 'product': 0, 'probably': 0, \"isn't\": 0, 'reporter,': 0, 'my': 0, 'immediate': 0, 'response': 0, 'was': 1, \"it's\": 0, 'not': 0, 'important': 0, 'because': 0, 'it': 0, 'expended': 0, 'entire': 0, 'sentence': 0, 'saying': 0, 'absolutely': 0, 'nothing.': 0, 'assumed': 0, '(probably': 0, 'rightly)': 0, \"company's\": 0, 'marketing': 0, 'team': 0, 'bunch': 0, 'idiots.': 0}\n"
     ]
    }
   ],
   "source": [
    "# 기존 dict 사용시\n",
    "word_count = {}\n",
    "for word in text:\n",
    "    if word in word_count.keys():\n",
    "        word_count[word] += 1\n",
    "    else:\n",
    "        word_count[word] = 0\n",
    "print(word_count)"
   ]
  },
  {
   "cell_type": "code",
   "execution_count": 41,
   "metadata": {},
   "outputs": [
    {
     "name": "stdout",
     "output_type": "stream",
     "text": [
      "a 12\n",
      "to 10\n",
      "the 9\n",
      "and 9\n",
      "press 8\n",
      "release 8\n",
      "that 7\n",
      "of 5\n",
      "your 4\n",
      "in 3\n",
      "firm 3\n",
      "you 3\n",
      "releases 3\n",
      "are 3\n",
      "all 3\n",
      "i 3\n",
      "is 2\n",
      "way 2\n",
      "if 2\n",
      "can 2\n",
      "about 2\n",
      "new 2\n",
      "prospects 2\n",
      "an 2\n",
      "article 2\n",
      "more 2\n",
      "most 2\n",
      "for 2\n",
      "simply 2\n",
      "6.0 2\n",
      "as 2\n",
      "important. 2\n",
      "was 2\n",
      "quickest 1\n",
      "easiest 1\n",
      "get 1\n",
      "free 1\n",
      "publicity. 1\n",
      "well 1\n",
      "written, 1\n",
      "result 1\n",
      "multiple 1\n",
      "published 1\n",
      "articles 1\n",
      "its 1\n",
      "products. 1\n",
      "mean 1\n",
      "contacting 1\n",
      "asking 1\n",
      "sell 1\n",
      "them. 1\n",
      "talk 1\n",
      "low-hanging 1\n",
      "fruit! 1\n",
      "what's 1\n",
      "more, 1\n",
      "cost 1\n",
      "effective. 1\n",
      "results 1\n",
      "(for 1\n",
      "instance) 1\n",
      "appears 1\n",
      "recommend 1\n",
      "or 1\n",
      "product, 1\n",
      "likely 1\n",
      "drive 1\n",
      "contact 1\n",
      "than 1\n",
      "comparable 1\n",
      "paid 1\n",
      "advertisement. 1\n",
      "however, 1\n",
      "never 1\n",
      "accomplish 1\n",
      "that. 1\n",
      "just 1\n",
      "spray 1\n",
      "pray. 1\n",
      "nobody 1\n",
      "reads 1\n",
      "them, 1\n",
      "least 1\n",
      "reporters 1\n",
      "editors 1\n",
      "whom 1\n",
      "they're 1\n",
      "intended. 1\n",
      "worst 1\n",
      "case, 1\n",
      "badly-written 1\n",
      "makes 1\n",
      "look 1\n",
      "clueless 1\n",
      "stupid. 1\n",
      "example, 1\n",
      "while 1\n",
      "back 1\n",
      "received 1\n",
      "containing 1\n",
      "following 1\n",
      "sentence: 1\n",
      "\"release 1\n",
      "doubles 1\n",
      "level 1\n",
      "functionality 1\n",
      "available, 1\n",
      "providing 1\n",
      "organizations 1\n",
      "sizes 1\n",
      "with 1\n",
      "fast-to-deploy, 1\n",
      "highly 1\n",
      "robust, 1\n",
      "easy-to-use 1\n",
      "solution 1\n",
      "better 1\n",
      "acquire, 1\n",
      "retain, 1\n",
      "serve 1\n",
      "customers.\" 1\n",
      "translation: 1\n",
      "\"the 1\n",
      "does 1\n",
      "stuff.\" 1\n",
      "why 1\n",
      "extra 1\n",
      "verbiage? 1\n",
      "explained 1\n",
      "post 1\n",
      "\"why 1\n",
      "marketers 1\n",
      "speak 1\n",
      "biz 1\n",
      "blab\", 1\n",
      "bs 1\n",
      "words 1\n",
      "try 1\n",
      "make 1\n",
      "something 1\n",
      "unimportant 1\n",
      "seem 1\n",
      "and, 1\n",
      "let's 1\n",
      "face 1\n",
      "it, 1\n",
      "product 1\n",
      "probably 1\n",
      "isn't 1\n",
      "reporter, 1\n",
      "my 1\n",
      "immediate 1\n",
      "response 1\n",
      "it's 1\n",
      "not 1\n",
      "important 1\n",
      "because 1\n",
      "it 1\n",
      "expended 1\n",
      "entire 1\n",
      "sentence 1\n",
      "saying 1\n",
      "absolutely 1\n",
      "nothing. 1\n",
      "assumed 1\n",
      "(probably 1\n",
      "rightly) 1\n",
      "company's 1\n",
      "marketing 1\n",
      "team 1\n",
      "bunch 1\n",
      "idiots. 1\n"
     ]
    }
   ],
   "source": [
    "# defaultdict 활용\n",
    "word_count = defaultdict(object)     # Default dictionary를 생성\n",
    "word_count = defaultdict(lambda: 0)  # Default 값을 0으로 설정합\n",
    "for word in text:\n",
    "    word_count[word] += 1\n",
    "for i, v in OrderedDict(sorted(word_count.items(), key=lambda t: t[1], reverse=True)).items():\n",
    "    print(i, v)"
   ]
  }
 ],
 "metadata": {
  "kernelspec": {
   "display_name": "Python 3",
   "language": "python",
   "name": "python3"
  },
  "language_info": {
   "codemirror_mode": {
    "name": "ipython",
    "version": 3
   },
   "file_extension": ".py",
   "mimetype": "text/x-python",
   "name": "python",
   "nbconvert_exporter": "python",
   "pygments_lexer": "ipython3",
   "version": "3.8.5"
  }
 },
 "nbformat": 4,
 "nbformat_minor": 4
}
