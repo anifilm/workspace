{
 "cells": [
  {
   "cell_type": "code",
   "execution_count": 1,
   "metadata": {},
   "outputs": [],
   "source": [
    "# 문자열 연산 및 포함 여부 검사\n",
    "# - 덧셈과 뺄셈 연산 가능, in 명령으로 포함 여부 체크"
   ]
  },
  {
   "cell_type": "code",
   "execution_count": 2,
   "metadata": {},
   "outputs": [],
   "source": [
    "a = \"TEAM\"\n",
    "b = \"LAB\""
   ]
  },
  {
   "cell_type": "code",
   "execution_count": 3,
   "metadata": {},
   "outputs": [
    {
     "name": "stdout",
     "output_type": "stream",
     "text": [
      "TEAM LAB\n"
     ]
    }
   ],
   "source": [
    "print(a + \" \" + b)  # 덧셈으로 변수 a와 b 연결하기"
   ]
  },
  {
   "cell_type": "code",
   "execution_count": 4,
   "metadata": {},
   "outputs": [
    {
     "name": "stdout",
     "output_type": "stream",
     "text": [
      "TEAMTEAM LABLAB\n"
     ]
    }
   ],
   "source": [
    "print(a * 2 + \" \" + b * 2)  # 곱하기 연산으로 문자열 반복 가능"
   ]
  },
  {
   "cell_type": "code",
   "execution_count": 5,
   "metadata": {},
   "outputs": [
    {
     "name": "stdout",
     "output_type": "stream",
     "text": [
      "TEAM\n"
     ]
    }
   ],
   "source": [
    "if 'A' in a:  # 변수 a의 문자열에 문자 'A'가 포함되어 있는지 확인\n",
    "    print(a)\n",
    "else:\n",
    "    print(b)"
   ]
  }
 ],
 "metadata": {
  "kernelspec": {
   "display_name": "Python 3",
   "language": "python",
   "name": "python3"
  },
  "language_info": {
   "codemirror_mode": {
    "name": "ipython",
    "version": 3
   },
   "file_extension": ".py",
   "mimetype": "text/x-python",
   "name": "python",
   "nbconvert_exporter": "python",
   "pygments_lexer": "ipython3",
   "version": "3.8.3"
  }
 },
 "nbformat": 4,
 "nbformat_minor": 4
}
