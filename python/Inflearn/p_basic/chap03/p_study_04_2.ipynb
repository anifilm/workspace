{
 "cells": [
  {
   "cell_type": "code",
   "execution_count": 1,
   "metadata": {},
   "outputs": [],
   "source": [
    "# List 슬라이싱 (Slicing)"
   ]
  },
  {
   "cell_type": "code",
   "execution_count": 12,
   "metadata": {},
   "outputs": [],
   "source": [
    "# list의 값들을 잘라서 쓰는 것이 슬라이싱\n",
    "# list의 주소 값을 기반으로 부분 값을 반환\n",
    "\n",
    "# variable[start:end;step]"
   ]
  },
  {
   "cell_type": "code",
   "execution_count": 13,
   "metadata": {},
   "outputs": [],
   "source": [
    "cities = ['서울', '부산', '인천', '대구', '대전', '광주', '울산', '수원']"
   ]
  },
  {
   "cell_type": "code",
   "execution_count": 14,
   "metadata": {},
   "outputs": [
    {
     "name": "stdout",
     "output_type": "stream",
     "text": [
      "['서울', '부산', '인천', '대구', '대전', '광주'] AND ['대전', '광주', '울산', '수원']\n"
     ]
    }
   ],
   "source": [
    "print(cities[0:6], \"AND\", cities[-4:])  # 변수의 0부터 6이전까지, -4부터 끝까지 (뒤에서 부터 -1)"
   ]
  },
  {
   "cell_type": "code",
   "execution_count": 15,
   "metadata": {},
   "outputs": [
    {
     "name": "stdout",
     "output_type": "stream",
     "text": [
      "['서울', '부산', '인천', '대구', '대전', '광주', '울산', '수원']\n"
     ]
    }
   ],
   "source": [
    "print(cities[:])  # 변수의 처음부터 끝까지"
   ]
  },
  {
   "cell_type": "code",
   "execution_count": 16,
   "metadata": {},
   "outputs": [
    {
     "name": "stdout",
     "output_type": "stream",
     "text": [
      "['서울', '부산', '인천', '대구', '대전', '광주', '울산', '수원']\n"
     ]
    }
   ],
   "source": [
    "print(cities[-50:50])  # 범위를 넘어갈 경우 자동으로 최대 범위를 지정"
   ]
  },
  {
   "cell_type": "code",
   "execution_count": 17,
   "metadata": {},
   "outputs": [
    {
     "name": "stdout",
     "output_type": "stream",
     "text": [
      "['서울', '인천', '대전', '울산'] AND ['수원', '울산', '광주', '대전', '대구', '인천', '부산', '서울']\n"
     ]
    }
   ],
   "source": [
    "print(cities[::2], \"AND\", cities[::-1])  # 2칸 단위로, 역순으로 슬라이싱"
   ]
  }
 ],
 "metadata": {
  "kernelspec": {
   "display_name": "Python 3",
   "language": "python",
   "name": "python3"
  },
  "language_info": {
   "codemirror_mode": {
    "name": "ipython",
    "version": 3
   },
   "file_extension": ".py",
   "mimetype": "text/x-python",
   "name": "python",
   "nbconvert_exporter": "python",
   "pygments_lexer": "ipython3",
   "version": "3.8.3"
  }
 },
 "nbformat": 4,
 "nbformat_minor": 4
}
