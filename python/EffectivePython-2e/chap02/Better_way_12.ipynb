{
 "cells": [
  {
   "cell_type": "code",
   "execution_count": null,
   "id": "b4797f04",
   "metadata": {},
   "outputs": [],
   "source": [
    "# BETTER WAY 12 스트라이드와 슬라이스를 한 식에 함께 사용하지 말라"
   ]
  },
  {
   "cell_type": "code",
   "execution_count": 1,
   "id": "a6a07ce5",
   "metadata": {},
   "outputs": [
    {
     "name": "stdout",
     "output_type": "stream",
     "text": [
      "['빨강', '노랑', '파랑']\n",
      "['주황', '초록', '자주']\n"
     ]
    }
   ],
   "source": [
    "x = ['빨강', '주황', '노랑', '초록', '파랑', '자주']\n",
    "odds = x[::2]\n",
    "evens = x[1::2]\n",
    "print(odds)\n",
    "print(evens)"
   ]
  },
  {
   "cell_type": "code",
   "execution_count": 2,
   "id": "262f02f7",
   "metadata": {},
   "outputs": [
    {
     "name": "stdout",
     "output_type": "stream",
     "text": [
      "b'esoognom'\n"
     ]
    }
   ],
   "source": [
    "x = b'mongoose'\n",
    "y = x[::-1]\n",
    "print(y)"
   ]
  },
  {
   "cell_type": "code",
   "execution_count": 1,
   "id": "4c0ed272",
   "metadata": {},
   "outputs": [
    {
     "name": "stdout",
     "output_type": "stream",
     "text": [
      "司寿\n"
     ]
    }
   ],
   "source": [
    "x = '寿司' # 초밥(스시)을 뜻하는 일본어 한자\n",
    "y = x[::-1]\n",
    "print(y)"
   ]
  },
  {
   "cell_type": "code",
   "execution_count": 2,
   "id": "2274a6a9",
   "metadata": {},
   "outputs": [
    {
     "ename": "UnicodeDecodeError",
     "evalue": "'utf-8' codec can't decode byte 0xb8 in position 0: invalid start byte",
     "output_type": "error",
     "traceback": [
      "\u001b[0;31m---------------------------------------------------------------------------\u001b[0m",
      "\u001b[0;31mUnicodeDecodeError\u001b[0m                        Traceback (most recent call last)",
      "Cell \u001b[0;32mIn[2], line 4\u001b[0m\n\u001b[1;32m      2\u001b[0m x \u001b[38;5;241m=\u001b[39m w\u001b[38;5;241m.\u001b[39mencode(\u001b[38;5;124m'\u001b[39m\u001b[38;5;124mutf-8\u001b[39m\u001b[38;5;124m'\u001b[39m)\n\u001b[1;32m      3\u001b[0m y \u001b[38;5;241m=\u001b[39m x[::\u001b[38;5;241m-\u001b[39m\u001b[38;5;241m1\u001b[39m]\n\u001b[0;32m----> 4\u001b[0m z \u001b[38;5;241m=\u001b[39m y\u001b[38;5;241m.\u001b[39mdecode(\u001b[38;5;124m'\u001b[39m\u001b[38;5;124mutf-8\u001b[39m\u001b[38;5;124m'\u001b[39m)\n",
      "\u001b[0;31mUnicodeDecodeError\u001b[0m: 'utf-8' codec can't decode byte 0xb8 in position 0: invalid start byte"
     ]
    }
   ],
   "source": [
    "w = '寿司'\n",
    "x = w.encode('utf-8')\n",
    "y = x[::-1]\n",
    "z = y.decode('utf-8')"
   ]
  },
  {
   "cell_type": "code",
   "execution_count": null,
   "id": "9306b8e1",
   "metadata": {},
   "outputs": [],
   "source": [
    "x = ['a', 'b', 'c', 'd', 'e', 'f', 'g', 'h']\n",
    "x[::2]  # ['a', 'c', 'e', 'g']\n",
    "x[::-2] # ['h', 'f', 'd', 'b']"
   ]
  },
  {
   "cell_type": "code",
   "execution_count": 3,
   "id": "a7110681",
   "metadata": {},
   "outputs": [
    {
     "name": "stdout",
     "output_type": "stream",
     "text": [
      "321XYZcba\n"
     ]
    }
   ],
   "source": [
    "w = 'abcZYX123'\n",
    "x = w.encode('utf-8')\n",
    "y = x[::-1]\n",
    "z = y.decode('utf-8')\n",
    "print(z)"
   ]
  },
  {
   "cell_type": "code",
   "execution_count": null,
   "id": "e3221809",
   "metadata": {},
   "outputs": [],
   "source": [
    "x[2::2]    # ['c', 'e', 'g']\n",
    "x[-2::-2]  # ['g', 'e', 'c', 'a']\n",
    "x[-2:2:-2] # ['g', 'e']\n",
    "x[2:2:-2]  # []"
   ]
  },
  {
   "cell_type": "code",
   "execution_count": null,
   "id": "52c6f46c",
   "metadata": {},
   "outputs": [],
   "source": [
    "y = x[::2]  # ['a', 'c', 'e', 'g']\n",
    "z = y[1:-1] # ['c','e']"
   ]
  }
 ],
 "metadata": {
  "kernelspec": {
   "display_name": "base",
   "language": "python",
   "name": "python3"
  },
  "language_info": {
   "codemirror_mode": {
    "name": "ipython",
    "version": 3
   },
   "file_extension": ".py",
   "mimetype": "text/x-python",
   "name": "python",
   "nbconvert_exporter": "python",
   "pygments_lexer": "ipython3",
   "version": "3.12.4"
  },
  "vscode": {
   "interpreter": {
    "hash": "00801806608e5aa69d1018f62c1dd5430a10d7f803adf46f990b5a3d78063a5e"
   }
  }
 },
 "nbformat": 4,
 "nbformat_minor": 5
}
