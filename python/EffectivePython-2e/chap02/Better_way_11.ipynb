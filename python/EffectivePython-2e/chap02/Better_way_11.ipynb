{
 "cells": [
  {
   "cell_type": "code",
   "execution_count": 22,
   "id": "b4797f04",
   "metadata": {},
   "outputs": [],
   "source": [
    "# BETTER WAY 11 시퀀스를 슬라이싱하는 방법을 익혀라"
   ]
  },
  {
   "cell_type": "code",
   "execution_count": 23,
   "id": "cc4ecd2f",
   "metadata": {},
   "outputs": [
    {
     "name": "stdout",
     "output_type": "stream",
     "text": [
      "가운데 2개: ['d', 'e']\n",
      "마지막을 제외한 나머지: ['b', 'c', 'd', 'e', 'f', 'g']\n"
     ]
    }
   ],
   "source": [
    "a = ['a', 'b', 'c', 'd', 'e', 'f', 'g', 'h']\n",
    "print('가운데 2개:', a[3:5])\n",
    "print('마지막을 제외한 나머지:', a[1:7])"
   ]
  },
  {
   "cell_type": "code",
   "execution_count": 24,
   "id": "c38a7c7a",
   "metadata": {},
   "outputs": [],
   "source": [
    "assert a[:5] == a[0:5]\n",
    "assert a[5:] == a[5:len(a)]"
   ]
  },
  {
   "cell_type": "code",
   "execution_count": 25,
   "id": "d58e049b",
   "metadata": {},
   "outputs": [
    {
     "data": {
      "text/plain": [
       "['a', 'b', 'c', 'd', 'e', 'f', 'g', 'h']"
      ]
     },
     "execution_count": 25,
     "metadata": {},
     "output_type": "execute_result"
    }
   ],
   "source": [
    "a[:]"
   ]
  },
  {
   "cell_type": "code",
   "execution_count": 26,
   "id": "413eda8b",
   "metadata": {},
   "outputs": [
    {
     "data": {
      "text/plain": [
       "['a', 'b', 'c', 'd', 'e']"
      ]
     },
     "execution_count": 26,
     "metadata": {},
     "output_type": "execute_result"
    }
   ],
   "source": [
    "a[:5]"
   ]
  },
  {
   "cell_type": "code",
   "execution_count": 27,
   "id": "2885ce2f",
   "metadata": {},
   "outputs": [
    {
     "data": {
      "text/plain": [
       "['a', 'b', 'c', 'd', 'e', 'f', 'g']"
      ]
     },
     "execution_count": 27,
     "metadata": {},
     "output_type": "execute_result"
    }
   ],
   "source": [
    "a[:-1]"
   ]
  },
  {
   "cell_type": "code",
   "execution_count": 28,
   "id": "124df91d",
   "metadata": {},
   "outputs": [
    {
     "data": {
      "text/plain": [
       "['e', 'f', 'g', 'h']"
      ]
     },
     "execution_count": 28,
     "metadata": {},
     "output_type": "execute_result"
    }
   ],
   "source": [
    "a[4:]"
   ]
  },
  {
   "cell_type": "code",
   "execution_count": 29,
   "id": "050a4237",
   "metadata": {},
   "outputs": [
    {
     "data": {
      "text/plain": [
       "['f', 'g', 'h']"
      ]
     },
     "execution_count": 29,
     "metadata": {},
     "output_type": "execute_result"
    }
   ],
   "source": [
    "a[-3:]"
   ]
  },
  {
   "cell_type": "code",
   "execution_count": 30,
   "id": "18907700",
   "metadata": {},
   "outputs": [
    {
     "data": {
      "text/plain": [
       "['c', 'd', 'e']"
      ]
     },
     "execution_count": 30,
     "metadata": {},
     "output_type": "execute_result"
    }
   ],
   "source": [
    "a[2:5]"
   ]
  },
  {
   "cell_type": "code",
   "execution_count": 31,
   "id": "0362c7f8",
   "metadata": {},
   "outputs": [
    {
     "data": {
      "text/plain": [
       "['c', 'd', 'e', 'f', 'g']"
      ]
     },
     "execution_count": 31,
     "metadata": {},
     "output_type": "execute_result"
    }
   ],
   "source": [
    "a[2:-1]"
   ]
  },
  {
   "cell_type": "code",
   "execution_count": 32,
   "id": "ff78fb10",
   "metadata": {},
   "outputs": [
    {
     "data": {
      "text/plain": [
       "['f', 'g']"
      ]
     },
     "execution_count": 32,
     "metadata": {},
     "output_type": "execute_result"
    }
   ],
   "source": [
    "a[-3:-1]"
   ]
  },
  {
   "cell_type": "code",
   "execution_count": 33,
   "id": "ab0ec08f",
   "metadata": {},
   "outputs": [],
   "source": [
    "first_twenty_items = a[:20]\n",
    "last_twenty_items = a[-20:]"
   ]
  },
  {
   "cell_type": "code",
   "execution_count": 34,
   "id": "ea6c7c2f",
   "metadata": {},
   "outputs": [
    {
     "ename": "IndexError",
     "evalue": "list index out of range",
     "output_type": "error",
     "traceback": [
      "\u001b[1;31m---------------------------------------------------------------------------\u001b[0m",
      "\u001b[1;31mIndexError\u001b[0m                                Traceback (most recent call last)",
      "\u001b[1;32ms:\\GitHub\\workspace\\python\\EffectivePython-2e\\chap02\\Better_way_11.ipynb Cell 13\u001b[0m in \u001b[0;36m<cell line: 1>\u001b[1;34m()\u001b[0m\n\u001b[1;32m----> <a href='vscode-notebook-cell:/s%3A/GitHub/workspace/python/EffectivePython-2e/chap02/Better_way_11.ipynb#X23sZmlsZQ%3D%3D?line=0'>1</a>\u001b[0m a[\u001b[39m20\u001b[39;49m]\n",
      "\u001b[1;31mIndexError\u001b[0m: list index out of range"
     ]
    }
   ],
   "source": [
    "a[20]"
   ]
  },
  {
   "cell_type": "code",
   "execution_count": null,
   "id": "c7af2eda",
   "metadata": {},
   "outputs": [
    {
     "name": "stdout",
     "output_type": "stream",
     "text": [
      "이전: ['d', 'e', 'f', 'g', 'h']\n",
      "이후: ['d', 99, 'f', 'g', 'h']\n",
      "변화 없음: ['a', 'b', 'c', 'd', 'e', 'f', 'g', 'h']\n"
     ]
    }
   ],
   "source": [
    "b = a[3:]\n",
    "print('이전:', b)\n",
    "b[1] = 99\n",
    "print('이후:', b)\n",
    "print('변화 없음:', a)"
   ]
  },
  {
   "cell_type": "code",
   "execution_count": null,
   "id": "5f5ef09a",
   "metadata": {},
   "outputs": [
    {
     "name": "stdout",
     "output_type": "stream",
     "text": [
      "이전: ['a', 'b', 47, 11, 1, 22, 14, 'h']\n",
      "이후: ['a', 'b', 99, 22, 14, 'h']\n"
     ]
    }
   ],
   "source": [
    "print('이전:', a)\n",
    "a[2:7] = [99, 22, 14]\n",
    "print('이후:', a)"
   ]
  },
  {
   "cell_type": "code",
   "execution_count": null,
   "id": "e8c453d4",
   "metadata": {},
   "outputs": [
    {
     "name": "stdout",
     "output_type": "stream",
     "text": [
      "이전: ['a', 'b', 99, 22, 14, 'h']\n",
      "이후: ['a', 'b', 47, 11, 22, 14, 'h']\n"
     ]
    }
   ],
   "source": [
    "print('이전:', a)\n",
    "a[2:3] = [47, 11]\n",
    "print('이후:', a)"
   ]
  },
  {
   "cell_type": "code",
   "execution_count": 35,
   "id": "7d97250b",
   "metadata": {},
   "outputs": [],
   "source": [
    "b = a[:]\n",
    "assert b == a and b is not a"
   ]
  },
  {
   "cell_type": "code",
   "execution_count": 36,
   "id": "940cd9a1",
   "metadata": {},
   "outputs": [
    {
     "name": "stdout",
     "output_type": "stream",
     "text": [
      "이전 a: ['a', 'b', 'c', 'd', 'e', 'f', 'g', 'h']\n",
      "이전 b: ['a', 'b', 'c', 'd', 'e', 'f', 'g', 'h']\n",
      "이후 a: [101, 102, 103]\n",
      "이후 b: [101, 102, 103]\n"
     ]
    }
   ],
   "source": [
    "b = a\n",
    "print('이전 a:', a)\n",
    "print('이전 b:', b)\n",
    "a[:] = [101, 102, 103]\n",
    "assert a is b       # 여전히 같은 리스트 객체임\n",
    "print('이후 a:', a)  # 새로운 내용이 들어 있음\n",
    "print('이후 b:', b)  # 같은 리스트 객체이기 때문에 a와 내용이 같음"
   ]
  }
 ],
 "metadata": {
  "kernelspec": {
   "display_name": "base",
   "language": "python",
   "name": "python3"
  },
  "language_info": {
   "codemirror_mode": {
    "name": "ipython",
    "version": 3
   },
   "file_extension": ".py",
   "mimetype": "text/x-python",
   "name": "python",
   "nbconvert_exporter": "python",
   "pygments_lexer": "ipython3",
   "version": "3.9.12 (main, Apr  4 2022, 05:22:27) [MSC v.1916 64 bit (AMD64)]"
  },
  "vscode": {
   "interpreter": {
    "hash": "00801806608e5aa69d1018f62c1dd5430a10d7f803adf46f990b5a3d78063a5e"
   }
  }
 },
 "nbformat": 4,
 "nbformat_minor": 5
}
