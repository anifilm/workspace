{
 "cells": [
  {
   "cell_type": "code",
   "execution_count": null,
   "id": "b4797f04",
   "metadata": {},
   "outputs": [],
   "source": [
    "# BETTER WAY 6 인덱스를 사용하는 대신 대입을 사용해 데이터를 언패킹하라"
   ]
  },
  {
   "cell_type": "code",
   "execution_count": 1,
   "id": "e3018c65",
   "metadata": {},
   "outputs": [
    {
     "name": "stdout",
     "output_type": "stream",
     "text": [
      "(('감자칩', 140), ('팝콘', 80), ('땅콩', 190))\n"
     ]
    }
   ],
   "source": [
    "snack_calories = {\n",
    "    '감자칩': 140,\n",
    "    '팝콘': 80,\n",
    "    '땅콩': 190,\n",
    "}\n",
    "items = tuple(snack_calories.items())\n",
    "print(items)"
   ]
  },
  {
   "cell_type": "code",
   "execution_count": 4,
   "id": "1421d7bb",
   "metadata": {},
   "outputs": [
    {
     "name": "stdout",
     "output_type": "stream",
     "text": [
      "호박엿 & 식혜\n"
     ]
    }
   ],
   "source": [
    "\n",
    "\n",
    "item = ('호박엿', '식혜')\n",
    "first = item[0]\n",
    "second = item[1]\n",
    "print(first, '&', second)"
   ]
  },
  {
   "cell_type": "code",
   "execution_count": 5,
   "id": "382dcbb1",
   "metadata": {},
   "outputs": [
    {
     "ename": "TypeError",
     "evalue": "'tuple' object does not support item assignment",
     "output_type": "error",
     "traceback": [
      "\u001b[1;31m---------------------------------------------------------------------------\u001b[0m",
      "\u001b[1;31mTypeError\u001b[0m                                 Traceback (most recent call last)",
      "\u001b[1;32ms:\\GitHub\\workspace\\python\\EffectivePython-2e\\chap01\\Better_way_06.ipynb Cell 4\u001b[0m in \u001b[0;36m<cell line: 2>\u001b[1;34m()\u001b[0m\n\u001b[0;32m      <a href='vscode-notebook-cell:/s%3A/GitHub/workspace/python/EffectivePython-2e/chap01/Better_way_06.ipynb#W5sZmlsZQ%3D%3D?line=0'>1</a>\u001b[0m pair \u001b[39m=\u001b[39m (\u001b[39m'\u001b[39m\u001b[39m약과\u001b[39m\u001b[39m'\u001b[39m, \u001b[39m'\u001b[39m\u001b[39m호박엿\u001b[39m\u001b[39m'\u001b[39m)\n\u001b[1;32m----> <a href='vscode-notebook-cell:/s%3A/GitHub/workspace/python/EffectivePython-2e/chap01/Better_way_06.ipynb#W5sZmlsZQ%3D%3D?line=1'>2</a>\u001b[0m pair[\u001b[39m0\u001b[39m] \u001b[39m=\u001b[39m \u001b[39m'\u001b[39m\u001b[39m타래과\u001b[39m\u001b[39m'\u001b[39m\n",
      "\u001b[1;31mTypeError\u001b[0m: 'tuple' object does not support item assignment"
     ]
    }
   ],
   "source": [
    "pair = ('약과', '호박엿')\n",
    "pair[0] = '타래과'"
   ]
  },
  {
   "cell_type": "code",
   "execution_count": 6,
   "id": "e4a3295e",
   "metadata": {},
   "outputs": [
    {
     "name": "stdout",
     "output_type": "stream",
     "text": [
      "호박엿 & 식혜\n"
     ]
    }
   ],
   "source": [
    "item = ('호박엿', '식혜')\n",
    "first, second = item  # 언패킹\n",
    "print(first, '&', second)"
   ]
  },
  {
   "cell_type": "code",
   "execution_count": 7,
   "id": "a5b032ea",
   "metadata": {},
   "outputs": [
    {
     "name": "stdout",
     "output_type": "stream",
     "text": [
      "제일 좋아하는 짭조름한 과자는 프레즐, 100 칼로리 입니다.\n",
      "제일 좋아하는 달콤한 과자는 쿠키, 180 칼로리 입니다.\n",
      "제일 좋아하는 채소는 당근, 20 칼로리 입니다.\n"
     ]
    }
   ],
   "source": [
    "favorite_snacks = {\n",
    "    '짭조름한 과자': ('프레즐', 100),\n",
    "    '달콤한 과자': ('쿠키', 180),\n",
    "    '채소': ('당근', 20),\n",
    "}\n",
    "\n",
    "(\n",
    "    (type1, (name1, cals1)),\n",
    "    (type2, (name2, cals2)),\n",
    "    (type3, (name3, cals3)),\n",
    ") = favorite_snacks.items()\n",
    "\n",
    "print(f'제일 좋아하는 {type1}는 {name1}, {cals1} 칼로리 입니다.')\n",
    "print(f'제일 좋아하는 {type2}는 {name2}, {cals2} 칼로리 입니다.')\n",
    "print(f'제일 좋아하는 {type3}는 {name3}, {cals3} 칼로리 입니다.')"
   ]
  },
  {
   "cell_type": "code",
   "execution_count": 8,
   "id": "85aa5763",
   "metadata": {},
   "outputs": [
    {
     "name": "stdout",
     "output_type": "stream",
     "text": [
      "['당근', '베이컨', '쑥갓', '프레즐']\n"
     ]
    }
   ],
   "source": [
    "def bubble_sort(a):\n",
    "    for _ in range(len(a)):\n",
    "        for i in range(1, len(a)):\n",
    "            if a[i] < a[i-1]:\n",
    "                temp = a[i]\n",
    "                a[i] = a[i-1]\n",
    "                a[i-1] = temp\n",
    "            \n",
    "names = ['프레즐', '당근', '쑥갓', '베이컨']\n",
    "bubble_sort(names)\n",
    "print(names)"
   ]
  },
  {
   "cell_type": "code",
   "execution_count": 9,
   "id": "c259ce5d",
   "metadata": {},
   "outputs": [
    {
     "name": "stdout",
     "output_type": "stream",
     "text": [
      "['당근', '베이컨', '쑥갓', '프레즐']\n"
     ]
    }
   ],
   "source": [
    "def bubble_sort(a):\n",
    "    for _ in range(len(a)):\n",
    "        for i in range(1, len(a)):\n",
    "            if a[i] < a[i-1]:\n",
    "                a[i-1], a[i] = a[i], a[i-1]  # 맞바꾸기\n",
    "            \n",
    "names = ['프레즐', '당근', '쑥갓', '베이컨']\n",
    "bubble_sort(names)\n",
    "print(names)"
   ]
  },
  {
   "cell_type": "code",
   "execution_count": 10,
   "id": "de668eb8",
   "metadata": {},
   "outputs": [
    {
     "name": "stdout",
     "output_type": "stream",
     "text": [
      "#1: 베이컨은 350 칼로리 입니다.\n",
      "#2: 도넛은 240 칼로리 입니다.\n",
      "#3: 머핀은 190 칼로리 입니다.\n"
     ]
    }
   ],
   "source": [
    "snacks = [\n",
    "    ('베이컨', 350),\n",
    "    ('도넛', 240),\n",
    "    ('머핀', 190),\n",
    "]\n",
    "for i in range(len(snacks)):\n",
    "    item = snacks[i]\n",
    "    name = item[0]\n",
    "    calories = item[1]\n",
    "    print(f'#{i+1}: {name}은 {calories} 칼로리 입니다.')"
   ]
  },
  {
   "cell_type": "code",
   "execution_count": 11,
   "id": "39e736e3",
   "metadata": {},
   "outputs": [
    {
     "name": "stdout",
     "output_type": "stream",
     "text": [
      "#1: 베이컨은 350 칼로리 입니다.\n",
      "#2: 도넛은 240 칼로리 입니다.\n",
      "#3: 머핀은 190 칼로리 입니다.\n"
     ]
    }
   ],
   "source": [
    "for rank, (name, calories) in enumerate(snacks, 1):\n",
    "    print(f'#{rank}: {name}은 {calories} 칼로리 입니다.')"
   ]
  }
 ],
 "metadata": {
  "kernelspec": {
   "display_name": "base",
   "language": "python",
   "name": "python3"
  },
  "language_info": {
   "codemirror_mode": {
    "name": "ipython",
    "version": 3
   },
   "file_extension": ".py",
   "mimetype": "text/x-python",
   "name": "python",
   "nbconvert_exporter": "python",
   "pygments_lexer": "ipython3",
   "version": "3.9.12"
  },
  "vscode": {
   "interpreter": {
    "hash": "00801806608e5aa69d1018f62c1dd5430a10d7f803adf46f990b5a3d78063a5e"
   }
  }
 },
 "nbformat": 4,
 "nbformat_minor": 5
}
