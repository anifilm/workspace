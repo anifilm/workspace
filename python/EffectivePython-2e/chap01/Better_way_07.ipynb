{
 "cells": [
  {
   "cell_type": "code",
   "execution_count": null,
   "id": "b4797f04",
   "metadata": {},
   "outputs": [],
   "source": [
    "# BETTER WAY 7 range보다는 enumerate를 사용하라"
   ]
  },
  {
   "cell_type": "code",
   "execution_count": 2,
   "id": "9ad5253f",
   "metadata": {},
   "outputs": [],
   "source": [
    "from random import randint"
   ]
  },
  {
   "cell_type": "code",
   "execution_count": 3,
   "id": "70b88b4a",
   "metadata": {},
   "outputs": [
    {
     "name": "stdout",
     "output_type": "stream",
     "text": [
      "0b10101010110001111111101100110011\n"
     ]
    }
   ],
   "source": [
    "random_bits = 0\n",
    "for i in range(32):\n",
    "    if randint(0, 1):\n",
    "        random_bits |= 1 << i\n",
    "\n",
    "print(bin(random_bits))"
   ]
  },
  {
   "cell_type": "code",
   "execution_count": 4,
   "id": "32f6b8d7",
   "metadata": {},
   "outputs": [
    {
     "name": "stdout",
     "output_type": "stream",
     "text": [
      "바닐라 맛있어요.\n",
      "초콜릿 맛있어요.\n",
      "피칸 맛있어요.\n",
      "딸기 맛있어요.\n"
     ]
    }
   ],
   "source": [
    "flavor_list = ['바닐라', '초콜릿', '피칸', '딸기']\n",
    "for flavor in flavor_list:\n",
    "    print(f'{flavor} 맛있어요.')"
   ]
  },
  {
   "cell_type": "code",
   "execution_count": 6,
   "id": "582f7154",
   "metadata": {},
   "outputs": [
    {
     "name": "stdout",
     "output_type": "stream",
     "text": [
      "1: 바닐라\n",
      "2: 초콜릿\n",
      "3: 피칸\n",
      "4: 딸기\n"
     ]
    }
   ],
   "source": [
    "for i in range(len(flavor_list)):\n",
    "    flavor = flavor_list[i]\n",
    "    print(f'{i+1}: {flavor}')"
   ]
  },
  {
   "cell_type": "code",
   "execution_count": 7,
   "id": "8de13d8c",
   "metadata": {},
   "outputs": [
    {
     "name": "stdout",
     "output_type": "stream",
     "text": [
      "(0, '바닐라')\n",
      "(1, '초콜릿')\n"
     ]
    }
   ],
   "source": [
    "it = enumerate(flavor_list)\n",
    "print(next(it))\n",
    "print(next(it))"
   ]
  },
  {
   "cell_type": "code",
   "execution_count": 8,
   "id": "346fda7e",
   "metadata": {},
   "outputs": [
    {
     "name": "stdout",
     "output_type": "stream",
     "text": [
      "1: 바닐라\n",
      "2: 초콜릿\n",
      "3: 피칸\n",
      "4: 딸기\n"
     ]
    }
   ],
   "source": [
    "for i, flavor in enumerate(flavor_list):\n",
    "    print(f'{i+1}: {flavor}')"
   ]
  },
  {
   "cell_type": "code",
   "execution_count": 9,
   "id": "49da5ab0",
   "metadata": {},
   "outputs": [
    {
     "name": "stdout",
     "output_type": "stream",
     "text": [
      "1: 바닐라\n",
      "2: 초콜릿\n",
      "3: 피칸\n",
      "4: 딸기\n"
     ]
    }
   ],
   "source": [
    "for i, flavor in enumerate(flavor_list, 1):\n",
    "    print(f'{i}: {flavor}')"
   ]
  }
 ],
 "metadata": {
  "kernelspec": {
   "display_name": "base",
   "language": "python",
   "name": "python3"
  },
  "language_info": {
   "codemirror_mode": {
    "name": "ipython",
    "version": 3
   },
   "file_extension": ".py",
   "mimetype": "text/x-python",
   "name": "python",
   "nbconvert_exporter": "python",
   "pygments_lexer": "ipython3",
   "version": "3.9.12"
  },
  "vscode": {
   "interpreter": {
    "hash": "00801806608e5aa69d1018f62c1dd5430a10d7f803adf46f990b5a3d78063a5e"
   }
  }
 },
 "nbformat": 4,
 "nbformat_minor": 5
}
