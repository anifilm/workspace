{
 "cells": [
  {
   "cell_type": "code",
   "execution_count": 2,
   "id": "b4797f04",
   "metadata": {},
   "outputs": [],
   "source": [
    "# BETTER WAY 5 복잡한 식을 쓰는 대신 도우미 함수를 작성하라"
   ]
  },
  {
   "cell_type": "code",
   "execution_count": 3,
   "id": "5f54db4b",
   "metadata": {},
   "outputs": [],
   "source": [
    "from urllib.parse import parse_qs"
   ]
  },
  {
   "cell_type": "code",
   "execution_count": 4,
   "id": "54b88563",
   "metadata": {},
   "outputs": [
    {
     "name": "stdout",
     "output_type": "stream",
     "text": [
      "{'빨강': ['5'], '파랑': ['0'], '초록': ['']}\n"
     ]
    }
   ],
   "source": [
    "my_values = parse_qs('빨강=5&파랑=0&초록=', keep_blank_values=True)\n",
    "print(repr(my_values))"
   ]
  },
  {
   "cell_type": "code",
   "execution_count": 5,
   "id": "b7811cd3",
   "metadata": {},
   "outputs": [
    {
     "name": "stdout",
     "output_type": "stream",
     "text": [
      "빨강:  ['5']\n",
      "초록:  ['']\n",
      "투명도:  None\n"
     ]
    }
   ],
   "source": [
    "print('빨강: ', my_values.get('빨강'))\n",
    "print('초록: ', my_values.get('초록'))\n",
    "print('투명도: ', my_values.get('투명도'))"
   ]
  },
  {
   "cell_type": "code",
   "execution_count": 6,
   "id": "38443393",
   "metadata": {},
   "outputs": [
    {
     "name": "stdout",
     "output_type": "stream",
     "text": [
      "빨강: '5'\n",
      "초록: 0\n",
      "투명도: 0\n"
     ]
    }
   ],
   "source": [
    "# 질의 문자열이 '빨강=5&파랑=0&초록='인 경우\n",
    "red = my_values.get('빨강', [''])[0] or 0\n",
    "green = my_values.get('초록', [''])[0] or 0\n",
    "opacity = my_values.get('투명도', [''])[0] or 0\n",
    "print(f'빨강: {red!r}')\n",
    "print(f'초록: {green!r}')\n",
    "print(f'투명도: {opacity!r}')"
   ]
  },
  {
   "cell_type": "code",
   "execution_count": 7,
   "id": "4dab07f3",
   "metadata": {},
   "outputs": [],
   "source": [
    "red = int(my_values.get('빨강', [''])[0] or 0)"
   ]
  },
  {
   "cell_type": "code",
   "execution_count": 8,
   "id": "a2701b7c",
   "metadata": {},
   "outputs": [],
   "source": [
    "red_str = my_values.get('빨강', [''])\n",
    "red = int(red_str[0]) if red_str[0] else 0"
   ]
  },
  {
   "cell_type": "code",
   "execution_count": 9,
   "id": "8a004fe6",
   "metadata": {},
   "outputs": [],
   "source": [
    "green_str = my_values.get('초록', [''])\n",
    "if green_str[0]:\n",
    "    green = int(green_str[0])\n",
    "else:\n",
    "    green = 0"
   ]
  },
  {
   "cell_type": "code",
   "execution_count": 10,
   "id": "557b84ff",
   "metadata": {},
   "outputs": [],
   "source": [
    "def get_first_int(values, key, default=0):\n",
    "    found = values.get(key, [''])\n",
    "    if found[0]:\n",
    "        return int(found[0])\n",
    "    return default"
   ]
  },
  {
   "cell_type": "code",
   "execution_count": 11,
   "id": "7146edb0",
   "metadata": {},
   "outputs": [],
   "source": [
    "green = get_first_int(my_values, '초록')"
   ]
  }
 ],
 "metadata": {
  "kernelspec": {
   "display_name": "base",
   "language": "python",
   "name": "python3"
  },
  "language_info": {
   "codemirror_mode": {
    "name": "ipython",
    "version": 3
   },
   "file_extension": ".py",
   "mimetype": "text/x-python",
   "name": "python",
   "nbconvert_exporter": "python",
   "pygments_lexer": "ipython3",
   "version": "3.9.12"
  },
  "vscode": {
   "interpreter": {
    "hash": "00801806608e5aa69d1018f62c1dd5430a10d7f803adf46f990b5a3d78063a5e"
   }
  }
 },
 "nbformat": 4,
 "nbformat_minor": 5
}
