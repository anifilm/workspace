{
 "cells": [
  {
   "cell_type": "code",
   "execution_count": null,
   "id": "b4797f04",
   "metadata": {},
   "outputs": [],
   "source": [
    "# BETTER WAY 10 대입식을 사용해 반복을 피하라"
   ]
  },
  {
   "cell_type": "code",
   "execution_count": 1,
   "id": "546274e2",
   "metadata": {},
   "outputs": [
    {
     "name": "stdout",
     "output_type": "stream",
     "text": [
      "레몬 5개로 레모네이드 5.0개를 만듭니다.\n",
      "레몬이 0개 남았습니다.\n"
     ]
    }
   ],
   "source": [
    "fresh_fruit = {\n",
    "    '사과': 10,\n",
    "    '바나나': 8,\n",
    "    '레몬': 5,\n",
    "}\n",
    "\n",
    "def make_lemonade(count):\n",
    "    n = 1\n",
    "    print(f'레몬 {count*n}개로 레모네이드 {count/n}개를 만듭니다.')\n",
    "    fresh_fruit['레몬'] -= (count * n)\n",
    "    print(f'레몬이 {fresh_fruit[\"레몬\"]}개 남았습니다.')\n",
    "\n",
    "def out_of_stock():\n",
    "    print(f'재료가 부족합니다. 재료를 보충해 주세요.')\n",
    "\n",
    "count = fresh_fruit.get('레몬', 0)\n",
    "if count:\n",
    "    make_lemonade(count)\n",
    "else:\n",
    "    out_of_stock()\n"
   ]
  },
  {
   "cell_type": "code",
   "execution_count": 3,
   "id": "36a99906",
   "metadata": {},
   "outputs": [
    {
     "name": "stdout",
     "output_type": "stream",
     "text": [
      "레몬 5개로 레모네이드 5.0개를 만듭니다.\n",
      "레몬이 0개 남았습니다.\n"
     ]
    }
   ],
   "source": [
    "fresh_fruit['레몬'] = 5  # 테스트를 위해 개수 리셋\n",
    "if count := fresh_fruit.get('레몬', 0):\n",
    "    make_lemonade(count)\n",
    "else:\n",
    "    out_of_stock()"
   ]
  },
  {
   "cell_type": "code",
   "execution_count": 4,
   "id": "8d10df90",
   "metadata": {},
   "outputs": [
    {
     "name": "stdout",
     "output_type": "stream",
     "text": [
      "사과 10개로 레모네이드 2개를 만듭니다.\n",
      "사과가 2개 남았습니다.\n"
     ]
    }
   ],
   "source": [
    "def make_cider(count):\n",
    "    n = 4\n",
    "    print(f'사과 {count}개로 레모네이드 {count//n}개를 만듭니다.')\n",
    "    fresh_fruit['사과'] -= (n * (count // n))\n",
    "    print(f'사과가 {fresh_fruit[\"사과\"]}개 남았습니다.')\n",
    "\n",
    "count = fresh_fruit.get('사과', 0)\n",
    "if count >= 4:\n",
    "    make_cider(count)\n",
    "else:\n",
    "    out_of_stock()"
   ]
  },
  {
   "cell_type": "code",
   "execution_count": 5,
   "id": "33dd99ac",
   "metadata": {},
   "outputs": [
    {
     "name": "stdout",
     "output_type": "stream",
     "text": [
      "사과 10개로 레모네이드 2개를 만듭니다.\n",
      "사과가 2개 남았습니다.\n"
     ]
    }
   ],
   "source": [
    "fresh_fruit['사과'] = 10  # 테스트를 위해 개수 리셋\n",
    "if (count := fresh_fruit.get('사과', 0)) >= 4:\n",
    "    make_cider(count)\n",
    "else:\n",
    "    out_of_stock()"
   ]
  },
  {
   "cell_type": "code",
   "execution_count": 6,
   "id": "fc33883b",
   "metadata": {},
   "outputs": [
    {
     "name": "stdout",
     "output_type": "stream",
     "text": [
      "바나나 8개를 슬라이스 합니다.\n",
      "바나나 슬라이스 8 개로 스무디 4 개를 만듭니다.\n",
      "바나나가 0 개 남았습니다.\n"
     ]
    }
   ],
   "source": [
    "def slice_bananas(count):\n",
    "    print(f'바나나 {count}개를 슬라이스 합니다.')\n",
    "    fresh_fruit['바나나'] -= count\n",
    "    return count\n",
    "\n",
    "class OutOfBananas(Exception):\n",
    "    pass\n",
    "\n",
    "def make_smoothies(count):\n",
    "    n = 2\n",
    "    if count > n:\n",
    "        print(f'바나나 슬라이스 {count} 개로 스무디 {count//n} 개를 만듭니다.')\n",
    "        print(f'바나나가 {fresh_fruit[\"바나나\"]} 개 남았습니다.')\n",
    "    else:\n",
    "        raise OutOfBananas\n",
    "\n",
    "pieces = 0\n",
    "count = fresh_fruit.get('바나나', 0)\n",
    "if count >= 2:\n",
    "    pieces = slice_bananas(count)\n",
    "\n",
    "try:\n",
    "    smoothies = make_smoothies(pieces)\n",
    "except OutOfBananas:\n",
    "    out_of_stock()"
   ]
  },
  {
   "cell_type": "code",
   "execution_count": 7,
   "id": "bf790fe6",
   "metadata": {},
   "outputs": [
    {
     "name": "stdout",
     "output_type": "stream",
     "text": [
      "바나나 8개를 슬라이스 합니다.\n",
      "바나나 슬라이스 8 개로 스무디 4 개를 만듭니다.\n",
      "바나나가 0 개 남았습니다.\n"
     ]
    }
   ],
   "source": [
    "fresh_fruit['바나나'] = 8  # 테스트를 위해 갯수 리셋\n",
    "count = fresh_fruit.get('바나나', 0)\n",
    "if count >= 2:\n",
    "    pieces = slice_bananas(count)\n",
    "else:\n",
    "    pieces = 0\n",
    "\n",
    "try:\n",
    "    smoothies = make_smoothies(pieces)\n",
    "except OutOfBananas:\n",
    "    out_of_stock()"
   ]
  },
  {
   "cell_type": "code",
   "execution_count": 8,
   "id": "75b7858c",
   "metadata": {},
   "outputs": [
    {
     "name": "stdout",
     "output_type": "stream",
     "text": [
      "바나나 8개를 슬라이스 합니다.\n",
      "바나나 슬라이스 8 개로 스무디 4 개를 만듭니다.\n",
      "바나나가 0 개 남았습니다.\n"
     ]
    }
   ],
   "source": [
    "fresh_fruit['바나나'] = 8  # 테스트를 위해 갯수 리셋\n",
    "pieces = 0\n",
    "if (count := fresh_fruit.get('바나나', 0)) >= 2:\n",
    "    pieces = slice_bananas(count)\n",
    "\n",
    "try:\n",
    "    smoothies = make_smoothies(pieces)\n",
    "except OutOfBananas:\n",
    "    out_of_stock()"
   ]
  },
  {
   "cell_type": "code",
   "execution_count": 9,
   "id": "2ec6455e",
   "metadata": {},
   "outputs": [
    {
     "name": "stdout",
     "output_type": "stream",
     "text": [
      "바나나 8개를 슬라이스 합니다.\n",
      "바나나 슬라이스 8 개로 스무디 4 개를 만듭니다.\n",
      "바나나가 0 개 남았습니다.\n"
     ]
    }
   ],
   "source": [
    "fresh_fruit['바나나'] = 8  # 테스트를 위해 갯수 리셋\n",
    "if (count := fresh_fruit.get('바나나', 0)) >= 2:\n",
    "    pieces = slice_bananas(count)\n",
    "else:\n",
    "    pieces = 0\n",
    "\n",
    "try:\n",
    "    smoothies = make_smoothies(pieces)\n",
    "except OutOfBananas:\n",
    "    out_of_stock()"
   ]
  },
  {
   "cell_type": "code",
   "execution_count": 12,
   "id": "33532ac5",
   "metadata": {},
   "outputs": [],
   "source": [
    "fresh_fruit['바나나'] = 8  # 테스트를 위해 갯수 리셋\n",
    "count = fresh_fruit.get('banana', 0)\n",
    "if count >= 2:\n",
    "    pieces = slice_bananas(count)\n",
    "    to_enjoy = make_smoothies(pieces)\n",
    "else:\n",
    "    count = fresh_fruit.get('사과', 0)\n",
    "    if count >= 4:\n",
    "        to_enjoy = make_cider(count)\n",
    "    else:\n",
    "        count = fresh_fruit.get('레몬', 0)\n",
    "        if count:\n",
    "            to_enjoy = make_lemonade(count)\n",
    "        else:\n",
    "            to_enjoy = '아무것도 없음'"
   ]
  },
  {
   "cell_type": "code",
   "execution_count": 16,
   "id": "8b444d73",
   "metadata": {},
   "outputs": [
    {
     "name": "stdout",
     "output_type": "stream",
     "text": [
      "바나나 8개를 슬라이스 합니다.\n",
      "바나나 슬라이스 8 개로 스무디 4 개를 만듭니다.\n",
      "바나나가 0 개 남았습니다.\n"
     ]
    }
   ],
   "source": [
    "fresh_fruit['바나나'] = 8  # 테스트를 위해 갯수 리셋\n",
    "if (count := fresh_fruit.get('바나나', 0)) >= 2:\n",
    "    pieces = slice_bananas(count)\n",
    "    to_enjoy = make_smoothies(pieces)\n",
    "elif (count := fresh_fruit.get('사과', 0)) >= 4:\n",
    "    to_enjoy = make_cider(count)\n",
    "elif count := fresh_fruit.get('레몬', 0):\n",
    "    to_enjoy = make_lemonade(count)\n",
    "else:\n",
    "    to_enjoy = '아무것도 없음'"
   ]
  },
  {
   "cell_type": "code",
   "execution_count": 4,
   "id": "cf9669ca",
   "metadata": {},
   "outputs": [
    {
     "name": "stdout",
     "output_type": "stream",
     "text": [
      "[('사과주스', 1.75), ('바나나스무디', 4.0), ('레모네이드', 7.0), ('사과주스', 1.5), ('바나나스무디', 4.5), ('레모네이드', 10.0), ('사과주스', 1.0), ('바나나스무디', 1.0), ('레모네이드', 9.0), ('사과주스', 1.5), ('바나나스무디', 1.0), ('레모네이드', 9.0), ('사과주스', 0.0), ('바나나스무디', 1.0), ('레모네이드', 4.0), ('사과주스', 2.0), ('바나나스무디', 4.0), ('레모네이드', 0.0), ('사과주스', 1.75), ('바나나스무디', 2.5), ('레모네이드', 0.0), ('사과주스', 0.0), ('바나나스무디', 3.0), ('레모네이드', 8.0), ('사과주스', 0.5), ('바나나스무디', 1.5), ('레모네이드', 1.0), ('사과주스', 1.25), ('바나나스무디', 3.5), ('레모네이드', 9.0), ('사과주스', 1.75), ('바나나스무디', 0.0), ('레모네이드', 4.0)]\n"
     ]
    }
   ],
   "source": [
    "import random\n",
    "\n",
    "def pick_fruit():\n",
    "    if random.randint(1, 10) > 2:  # 80% 확률로 새 과일 보충\n",
    "        return {\n",
    "            '사과': random.randint(0, 10),\n",
    "            '바나나': random.randint(0, 10),\n",
    "            '레몬': random.randint(0, 10),\n",
    "        }\n",
    "    else:\n",
    "        return None\n",
    "    \n",
    "def make_juice(fruit, count):\n",
    "    if fruit == '사과':\n",
    "        return [('사과주스', count/4)]\n",
    "    elif fruit == '바나나':\n",
    "        return [('바나나스무디', count/2)]\n",
    "    elif fruit == '레몬':\n",
    "        return [('레모네이드', count/1)]\n",
    "    else:\n",
    "        return []\n",
    "    \n",
    "bottles = []\n",
    "fresh_fruit = pick_fruit()\n",
    "while fresh_fruit:\n",
    "    for fruit, count in fresh_fruit.items():\n",
    "        batch = make_juice(fruit, count)\n",
    "        bottles.extend(batch)\n",
    "    fresh_fruit = pick_fruit()\n",
    "\n",
    "print(bottles)"
   ]
  },
  {
   "cell_type": "code",
   "execution_count": 5,
   "id": "fbd5003f",
   "metadata": {},
   "outputs": [
    {
     "name": "stdout",
     "output_type": "stream",
     "text": [
      "[('사과주스', 1.0), ('바나나스무디', 5.0), ('레모네이드', 3.0)]\n"
     ]
    }
   ],
   "source": [
    "bottles = []\n",
    "while True:  # 무한루프\n",
    "    fresh_fruit = pick_fruit()\n",
    "    if not fresh_fruit:  # 중간에서 끝내기\n",
    "        break\n",
    "\n",
    "    for fruit, count in fresh_fruit.items():\n",
    "        batch = make_juice(fruit, count)\n",
    "        bottles.extend(batch)\n",
    "\n",
    "print(bottles)"
   ]
  },
  {
   "cell_type": "code",
   "execution_count": 6,
   "id": "ac76f9f8",
   "metadata": {},
   "outputs": [
    {
     "name": "stdout",
     "output_type": "stream",
     "text": [
      "[('사과주스', 0.75), ('바나나스무디', 0.0), ('레모네이드', 1.0), ('사과주스', 2.25), ('바나나스무디', 0.0), ('레모네이드', 3.0), ('사과주스', 0.0), ('바나나스무디', 3.5), ('레모네이드', 2.0)]\n"
     ]
    }
   ],
   "source": [
    "bottles = []\n",
    "while fresh_fruit := pick_fruit():\n",
    "    for fruit, count in fresh_fruit.items():\n",
    "        batch = make_juice(fruit, count)\n",
    "        bottles.extend(batch)\n",
    "\n",
    "print(bottles)"
   ]
  }
 ],
 "metadata": {
  "kernelspec": {
   "display_name": "base",
   "language": "python",
   "name": "python3"
  },
  "language_info": {
   "codemirror_mode": {
    "name": "ipython",
    "version": 3
   },
   "file_extension": ".py",
   "mimetype": "text/x-python",
   "name": "python",
   "nbconvert_exporter": "python",
   "pygments_lexer": "ipython3",
   "version": "3.9.12"
  },
  "vscode": {
   "interpreter": {
    "hash": "00801806608e5aa69d1018f62c1dd5430a10d7f803adf46f990b5a3d78063a5e"
   }
  }
 },
 "nbformat": 4,
 "nbformat_minor": 5
}
