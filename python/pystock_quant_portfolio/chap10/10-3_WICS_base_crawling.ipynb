{
 "cells": [
  {
   "attachments": {},
   "cell_type": "markdown",
   "metadata": {},
   "source": [
    "### 10.3 WICS 기준 섹터 정보 크롤링"
   ]
  },
  {
   "cell_type": "code",
   "execution_count": 5,
   "metadata": {},
   "outputs": [
    {
     "data": {
      "text/plain": [
       "dict"
      ]
     },
     "execution_count": 5,
     "metadata": {},
     "output_type": "execute_result"
    }
   ],
   "source": [
    "biz_day = '20231220'\n",
    "\n",
    "import json\n",
    "import requests as rq\n",
    "import pandas as pd\n",
    "\n",
    "url = f'https://www.wiseindex.com/Index/GetIndexComponets?ceil_yn=0&dt={biz_day}&sec_cd=WMI10'\n",
    "data = rq.get(url).json()\n",
    "\n",
    "type(data)"
   ]
  },
  {
   "cell_type": "code",
   "execution_count": 6,
   "metadata": {},
   "outputs": [
    {
     "name": "stdout",
     "output_type": "stream",
     "text": [
      "dict_keys(['info', 'list', 'sector', 'size'])\n"
     ]
    }
   ],
   "source": [
    "print(data.keys())"
   ]
  },
  {
   "cell_type": "code",
   "execution_count": 7,
   "metadata": {},
   "outputs": [
    {
     "data": {
      "text/plain": [
       "{'IDX_CD': 'WMI10T',\n",
       " 'IDX_NM_KOR': 'WMI500 에너지 총액',\n",
       " 'ALL_MKT_VAL': 21680237,\n",
       " 'CMP_CD': '096770',\n",
       " 'CMP_KOR': 'SK이노베이션',\n",
       " 'MKT_VAL': 7868849,\n",
       " 'WGT': 36.3,\n",
       " 'S_WGT': 36.3,\n",
       " 'CAL_WGT': 0.36,\n",
       " 'SEC_CD': 'G10',\n",
       " 'SEC_NM_KOR': '에너지',\n",
       " 'SEQ': 1,\n",
       " 'TOP60': 3,\n",
       " 'APT_SHR_CNT': 56367115}"
      ]
     },
     "execution_count": 7,
     "metadata": {},
     "output_type": "execute_result"
    }
   ],
   "source": [
    "data['list'][0]"
   ]
  },
  {
   "cell_type": "code",
   "execution_count": 8,
   "metadata": {},
   "outputs": [
    {
     "data": {
      "text/plain": [
       "[{'SEC_CD': 'G25', 'SEC_NM_KOR': '경기관련소비재', 'SEC_RATE': 9.63, 'IDX_RATE': 0},\n",
       " {'SEC_CD': 'G35', 'SEC_NM_KOR': '건강관리', 'SEC_RATE': 9.01, 'IDX_RATE': 0},\n",
       " {'SEC_CD': 'G50', 'SEC_NM_KOR': '커뮤니케이션서비스', 'SEC_RATE': 6.38, 'IDX_RATE': 0},\n",
       " {'SEC_CD': 'G40', 'SEC_NM_KOR': '금융', 'SEC_RATE': 7.71, 'IDX_RATE': 0},\n",
       " {'SEC_CD': 'G10', 'SEC_NM_KOR': '에너지', 'SEC_RATE': 1.84, 'IDX_RATE': 100.0},\n",
       " {'SEC_CD': 'G20', 'SEC_NM_KOR': '산업재', 'SEC_RATE': 12.48, 'IDX_RATE': 0},\n",
       " {'SEC_CD': 'G55', 'SEC_NM_KOR': '유틸리티', 'SEC_RATE': 0.92, 'IDX_RATE': 0},\n",
       " {'SEC_CD': 'G30', 'SEC_NM_KOR': '필수소비재', 'SEC_RATE': 2.17, 'IDX_RATE': 0},\n",
       " {'SEC_CD': 'G15', 'SEC_NM_KOR': '소재', 'SEC_RATE': 9.49, 'IDX_RATE': 0},\n",
       " {'SEC_CD': 'G45', 'SEC_NM_KOR': 'IT', 'SEC_RATE': 40.38, 'IDX_RATE': 0}]"
      ]
     },
     "execution_count": 8,
     "metadata": {},
     "output_type": "execute_result"
    }
   ],
   "source": [
    "data['sector']"
   ]
  },
  {
   "cell_type": "code",
   "execution_count": 9,
   "metadata": {},
   "outputs": [
    {
     "data": {
      "text/html": [
       "<div>\n",
       "<style scoped>\n",
       "    .dataframe tbody tr th:only-of-type {\n",
       "        vertical-align: middle;\n",
       "    }\n",
       "\n",
       "    .dataframe tbody tr th {\n",
       "        vertical-align: top;\n",
       "    }\n",
       "\n",
       "    .dataframe thead th {\n",
       "        text-align: right;\n",
       "    }\n",
       "</style>\n",
       "<table border=\"1\" class=\"dataframe\">\n",
       "  <thead>\n",
       "    <tr style=\"text-align: right;\">\n",
       "      <th></th>\n",
       "      <th>IDX_CD</th>\n",
       "      <th>IDX_NM_KOR</th>\n",
       "      <th>ALL_MKT_VAL</th>\n",
       "      <th>CMP_CD</th>\n",
       "      <th>CMP_KOR</th>\n",
       "      <th>MKT_VAL</th>\n",
       "      <th>WGT</th>\n",
       "      <th>S_WGT</th>\n",
       "      <th>CAL_WGT</th>\n",
       "      <th>SEC_CD</th>\n",
       "      <th>SEC_NM_KOR</th>\n",
       "      <th>SEQ</th>\n",
       "      <th>TOP60</th>\n",
       "      <th>APT_SHR_CNT</th>\n",
       "    </tr>\n",
       "  </thead>\n",
       "  <tbody>\n",
       "    <tr>\n",
       "      <th>0</th>\n",
       "      <td>WMI10T</td>\n",
       "      <td>WMI500 에너지 총액</td>\n",
       "      <td>21680237</td>\n",
       "      <td>096770</td>\n",
       "      <td>SK이노베이션</td>\n",
       "      <td>7868849</td>\n",
       "      <td>36.30</td>\n",
       "      <td>36.30</td>\n",
       "      <td>0.36</td>\n",
       "      <td>G10</td>\n",
       "      <td>에너지</td>\n",
       "      <td>1</td>\n",
       "      <td>3</td>\n",
       "      <td>56367115</td>\n",
       "    </tr>\n",
       "    <tr>\n",
       "      <th>1</th>\n",
       "      <td>WMI10T</td>\n",
       "      <td>WMI500 에너지 총액</td>\n",
       "      <td>21680237</td>\n",
       "      <td>009830</td>\n",
       "      <td>한화솔루션</td>\n",
       "      <td>4082620</td>\n",
       "      <td>18.83</td>\n",
       "      <td>55.13</td>\n",
       "      <td>0.19</td>\n",
       "      <td>G10</td>\n",
       "      <td>에너지</td>\n",
       "      <td>2</td>\n",
       "      <td>3</td>\n",
       "      <td>108292297</td>\n",
       "    </tr>\n",
       "    <tr>\n",
       "      <th>2</th>\n",
       "      <td>WMI10T</td>\n",
       "      <td>WMI500 에너지 총액</td>\n",
       "      <td>21680237</td>\n",
       "      <td>010950</td>\n",
       "      <td>S-Oil</td>\n",
       "      <td>2907563</td>\n",
       "      <td>13.41</td>\n",
       "      <td>68.54</td>\n",
       "      <td>0.13</td>\n",
       "      <td>G10</td>\n",
       "      <td>에너지</td>\n",
       "      <td>3</td>\n",
       "      <td>3</td>\n",
       "      <td>41655633</td>\n",
       "    </tr>\n",
       "    <tr>\n",
       "      <th>3</th>\n",
       "      <td>WMI10T</td>\n",
       "      <td>WMI500 에너지 총액</td>\n",
       "      <td>21680237</td>\n",
       "      <td>267250</td>\n",
       "      <td>HD현대</td>\n",
       "      <td>2789246</td>\n",
       "      <td>12.87</td>\n",
       "      <td>81.40</td>\n",
       "      <td>0.13</td>\n",
       "      <td>G10</td>\n",
       "      <td>에너지</td>\n",
       "      <td>4</td>\n",
       "      <td>3</td>\n",
       "      <td>43446196</td>\n",
       "    </tr>\n",
       "    <tr>\n",
       "      <th>4</th>\n",
       "      <td>WMI10T</td>\n",
       "      <td>WMI500 에너지 총액</td>\n",
       "      <td>21680237</td>\n",
       "      <td>078930</td>\n",
       "      <td>GS</td>\n",
       "      <td>1897704</td>\n",
       "      <td>8.75</td>\n",
       "      <td>90.16</td>\n",
       "      <td>0.09</td>\n",
       "      <td>G10</td>\n",
       "      <td>에너지</td>\n",
       "      <td>5</td>\n",
       "      <td>3</td>\n",
       "      <td>44599381</td>\n",
       "    </tr>\n",
       "  </tbody>\n",
       "</table>\n",
       "</div>"
      ],
      "text/plain": [
       "   IDX_CD     IDX_NM_KOR  ALL_MKT_VAL  CMP_CD  CMP_KOR  MKT_VAL    WGT  S_WGT  \\\n",
       "0  WMI10T  WMI500 에너지 총액     21680237  096770  SK이노베이션  7868849  36.30  36.30   \n",
       "1  WMI10T  WMI500 에너지 총액     21680237  009830    한화솔루션  4082620  18.83  55.13   \n",
       "2  WMI10T  WMI500 에너지 총액     21680237  010950    S-Oil  2907563  13.41  68.54   \n",
       "3  WMI10T  WMI500 에너지 총액     21680237  267250     HD현대  2789246  12.87  81.40   \n",
       "4  WMI10T  WMI500 에너지 총액     21680237  078930       GS  1897704   8.75  90.16   \n",
       "\n",
       "   CAL_WGT SEC_CD SEC_NM_KOR  SEQ  TOP60  APT_SHR_CNT  \n",
       "0     0.36    G10        에너지    1      3     56367115  \n",
       "1     0.19    G10        에너지    2      3    108292297  \n",
       "2     0.13    G10        에너지    3      3     41655633  \n",
       "3     0.13    G10        에너지    4      3     43446196  \n",
       "4     0.09    G10        에너지    5      3     44599381  "
      ]
     },
     "execution_count": 9,
     "metadata": {},
     "output_type": "execute_result"
    }
   ],
   "source": [
    "data_pd = pd.json_normalize(data['list'])\n",
    "\n",
    "data_pd.head()"
   ]
  },
  {
   "cell_type": "code",
   "execution_count": 11,
   "metadata": {},
   "outputs": [
    {
     "name": "stderr",
     "output_type": "stream",
     "text": [
      "100%|██████████| 10/10 [00:26<00:00,  2.60s/it]\n"
     ]
    }
   ],
   "source": [
    "import time\n",
    "import json\n",
    "import requests as rq\n",
    "import pandas as pd\n",
    "from tqdm import tqdm\n",
    "\n",
    "sector_code = ['G25', 'G35', 'G50', 'G40', 'G10', 'G20', 'G55', 'G30', 'G15', 'G45']\n",
    "data_sector = []\n",
    "\n",
    "for i in tqdm(sector_code):\n",
    "    url = f'https://www.wiseindex.com/Index/GetIndexComponets?ceil_yn=0&dt={biz_day}&sec_cd={i}'\n",
    "    data = rq.get(url).json()\n",
    "    data_pd = pd.json_normalize(data['list'])\n",
    "\n",
    "    data_sector.append(data_pd)\n",
    "    time.sleep(2)\n",
    "\n",
    "kor_sector = pd.concat(data_sector, axis=0)\n",
    "kor_sector = kor_sector[['IDX_CD', 'CMP_CD', 'CMP_KOR', 'SEC_NM_KOR']]\n",
    "kor_sector['기준일'] = biz_day\n",
    "kor_sector['기준일'] = pd.to_datetime(kor_sector['기준일'])"
   ]
  },
  {
   "cell_type": "code",
   "execution_count": null,
   "metadata": {},
   "outputs": [],
   "source": [
    "# 다운로드 받은 정보 kor_ticker 테이블에 upsert 형태로 저장 (코드 작성안함)"
   ]
  }
 ],
 "metadata": {
  "kernelspec": {
   "display_name": "py39_64",
   "language": "python",
   "name": "python3"
  },
  "language_info": {
   "codemirror_mode": {
    "name": "ipython",
    "version": 3
   },
   "file_extension": ".py",
   "mimetype": "text/x-python",
   "name": "python",
   "nbconvert_exporter": "python",
   "pygments_lexer": "ipython3",
   "version": "3.9.17"
  },
  "orig_nbformat": 4
 },
 "nbformat": 4,
 "nbformat_minor": 2
}
