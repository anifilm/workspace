{
 "cells": [
  {
   "attachments": {},
   "cell_type": "markdown",
   "metadata": {},
   "source": [
    "### 8.2 클로링 예제\n",
    "8.2.1 명언 크롤링하기"
   ]
  },
  {
   "cell_type": "code",
   "execution_count": 1,
   "metadata": {},
   "outputs": [
    {
     "name": "stdout",
     "output_type": "stream",
     "text": [
      "<Response [200]>\n"
     ]
    }
   ],
   "source": [
    "import requests as rq\n",
    "\n",
    "url = 'https://quotes.toscrape.com/'\n",
    "quote = rq.get(url)\n",
    "\n",
    "print(quote)"
   ]
  },
  {
   "cell_type": "code",
   "execution_count": 2,
   "metadata": {},
   "outputs": [
    {
     "data": {
      "text/plain": [
       "b'<!DOCTYPE html>\\n<html lang=\"en\">\\n<head>\\n\\t<meta charset=\"UTF-8\">\\n\\t<title>Quotes to Scrape</title>\\n    <link rel=\"stylesheet\" href=\"/static/bootstrap.min.css\">\\n    <link rel=\"stylesheet\" href=\"/static/main.css\">\\n</head>\\n<body>\\n    <div class=\"container\">\\n        <div class=\"row header-box\">\\n            <div class=\"col-md-8\">\\n                <h1>\\n                    <a href=\"/\" style=\"text-decoration: none\">Quotes to Scrape</a>\\n                </h1>\\n            </div>\\n            <div class=\"col-md-4\">\\n                <p>\\n                \\n                    <a href=\"/login\">Login</a>\\n                \\n                </p>\\n            </div>\\n        </div>\\n    \\n\\n<div class=\"row\">\\n    <div class=\"col-md-8\">\\n\\n    <div class=\"quote\" itemscope itemtype=\"http://schema.org/CreativeWork\">\\n        <span class=\"text\" itemprop=\"text\">\\xe2\\x80\\x9cThe world as we have created it is a process of our thinking. It cannot be changed without changing our thinking.\\xe2\\x80\\x9d</span>\\n        <span>by <small class=\"author\" it'"
      ]
     },
     "execution_count": 2,
     "metadata": {},
     "output_type": "execute_result"
    }
   ],
   "source": [
    "quote.content[:1000]"
   ]
  },
  {
   "cell_type": "code",
   "execution_count": 3,
   "metadata": {},
   "outputs": [
    {
     "data": {
      "text/plain": [
       "[<meta charset=\"utf-8\"/>,\n",
       " <title>Quotes to Scrape</title>,\n",
       " <link href=\"/static/bootstrap.min.css\" rel=\"stylesheet\"/>,\n",
       " <link href=\"/static/main.css\" rel=\"stylesheet\"/>]"
      ]
     },
     "execution_count": 3,
     "metadata": {},
     "output_type": "execute_result"
    }
   ],
   "source": [
    "from bs4 import BeautifulSoup\n",
    "\n",
    "quote_html = BeautifulSoup(quote.content, 'html.parser')\n",
    "quote_html.head()"
   ]
  },
  {
   "attachments": {},
   "cell_type": "markdown",
   "metadata": {},
   "source": [
    "###### 8.2.1.1 find() 함수를 이용한 크롤링"
   ]
  },
  {
   "cell_type": "code",
   "execution_count": 4,
   "metadata": {},
   "outputs": [
    {
     "data": {
      "text/plain": [
       "<div class=\"quote\" itemscope=\"\" itemtype=\"http://schema.org/CreativeWork\">\n",
       "<span class=\"text\" itemprop=\"text\">“The world as we have created it is a process of our thinking. It cannot be changed without changing our thinking.”</span>\n",
       "<span>by <small class=\"author\" itemprop=\"author\">Albert Einstein</small>\n",
       "<a href=\"/author/Albert-Einstein\">(about)</a>\n",
       "</span>\n",
       "<div class=\"tags\">\n",
       "            Tags:\n",
       "            <meta class=\"keywords\" content=\"change,deep-thoughts,thinking,world\" itemprop=\"keywords\"/>\n",
       "<a class=\"tag\" href=\"/tag/change/page/1/\">change</a>\n",
       "<a class=\"tag\" href=\"/tag/deep-thoughts/page/1/\">deep-thoughts</a>\n",
       "<a class=\"tag\" href=\"/tag/thinking/page/1/\">thinking</a>\n",
       "<a class=\"tag\" href=\"/tag/world/page/1/\">world</a>\n",
       "</div>\n",
       "</div>"
      ]
     },
     "execution_count": 4,
     "metadata": {},
     "output_type": "execute_result"
    }
   ],
   "source": [
    "quote_div = quote_html.find_all('div', class_='quote')\n",
    "\n",
    "quote_div[0]"
   ]
  },
  {
   "cell_type": "code",
   "execution_count": 5,
   "metadata": {},
   "outputs": [
    {
     "data": {
      "text/plain": [
       "[<span class=\"text\" itemprop=\"text\">“The world as we have created it is a process of our thinking. It cannot be changed without changing our thinking.”</span>]"
      ]
     },
     "execution_count": 5,
     "metadata": {},
     "output_type": "execute_result"
    }
   ],
   "source": [
    "quote_span = quote_div[0].find_all('span', class_='text')\n",
    "\n",
    "quote_span"
   ]
  },
  {
   "cell_type": "code",
   "execution_count": 6,
   "metadata": {},
   "outputs": [
    {
     "data": {
      "text/plain": [
       "'“The world as we have created it is a process of our thinking. It cannot be changed without changing our thinking.”'"
      ]
     },
     "execution_count": 6,
     "metadata": {},
     "output_type": "execute_result"
    }
   ],
   "source": [
    "quote_span[0].text"
   ]
  },
  {
   "cell_type": "code",
   "execution_count": 7,
   "metadata": {},
   "outputs": [
    {
     "data": {
      "text/plain": [
       "['“The world as we have created it is a process of our thinking. It cannot be changed without changing our thinking.”',\n",
       " '“It is our choices, Harry, that show what we truly are, far more than our abilities.”',\n",
       " '“There are only two ways to live your life. One is as though nothing is a miracle. The other is as though everything is a miracle.”',\n",
       " '“The person, be it gentleman or lady, who has not pleasure in a good novel, must be intolerably stupid.”',\n",
       " \"“Imperfection is beauty, madness is genius and it's better to be absolutely ridiculous than absolutely boring.”\",\n",
       " '“Try not to become a man of success. Rather become a man of value.”',\n",
       " '“It is better to be hated for what you are than to be loved for what you are not.”',\n",
       " \"“I have not failed. I've just found 10,000 ways that won't work.”\",\n",
       " \"“A woman is like a tea bag; you never know how strong it is until it's in hot water.”\",\n",
       " '“A day without sunshine is like, you know, night.”']"
      ]
     },
     "execution_count": 7,
     "metadata": {},
     "output_type": "execute_result"
    }
   ],
   "source": [
    "quote_div = quote_html.find_all('div', class_='quote')\n",
    "\n",
    "[i.find_all('span', class_='text')[0].text for i in quote_div]"
   ]
  },
  {
   "attachments": {},
   "cell_type": "markdown",
   "metadata": {},
   "source": [
    "###### 8.2.1.2 select() 함수를 이용한 크롤링"
   ]
  },
  {
   "cell_type": "code",
   "execution_count": 8,
   "metadata": {},
   "outputs": [
    {
     "data": {
      "text/plain": [
       "[<span class=\"text\" itemprop=\"text\">“The world as we have created it is a process of our thinking. It cannot be changed without changing our thinking.”</span>,\n",
       " <span class=\"text\" itemprop=\"text\">“It is our choices, Harry, that show what we truly are, far more than our abilities.”</span>,\n",
       " <span class=\"text\" itemprop=\"text\">“There are only two ways to live your life. One is as though nothing is a miracle. The other is as though everything is a miracle.”</span>,\n",
       " <span class=\"text\" itemprop=\"text\">“The person, be it gentleman or lady, who has not pleasure in a good novel, must be intolerably stupid.”</span>,\n",
       " <span class=\"text\" itemprop=\"text\">“Imperfection is beauty, madness is genius and it's better to be absolutely ridiculous than absolutely boring.”</span>,\n",
       " <span class=\"text\" itemprop=\"text\">“Try not to become a man of success. Rather become a man of value.”</span>,\n",
       " <span class=\"text\" itemprop=\"text\">“It is better to be hated for what you are than to be loved for what you are not.”</span>,\n",
       " <span class=\"text\" itemprop=\"text\">“I have not failed. I've just found 10,000 ways that won't work.”</span>,\n",
       " <span class=\"text\" itemprop=\"text\">“A woman is like a tea bag; you never know how strong it is until it's in hot water.”</span>,\n",
       " <span class=\"text\" itemprop=\"text\">“A day without sunshine is like, you know, night.”</span>]"
      ]
     },
     "execution_count": 8,
     "metadata": {},
     "output_type": "execute_result"
    }
   ],
   "source": [
    "quote_text = quote_html.select('div.quote > span.text')\n",
    "\n",
    "quote_text"
   ]
  },
  {
   "cell_type": "code",
   "execution_count": 9,
   "metadata": {},
   "outputs": [
    {
     "data": {
      "text/plain": [
       "['“The world as we have created it is a process of our thinking. It cannot be changed without changing our thinking.”',\n",
       " '“It is our choices, Harry, that show what we truly are, far more than our abilities.”',\n",
       " '“There are only two ways to live your life. One is as though nothing is a miracle. The other is as though everything is a miracle.”',\n",
       " '“The person, be it gentleman or lady, who has not pleasure in a good novel, must be intolerably stupid.”',\n",
       " \"“Imperfection is beauty, madness is genius and it's better to be absolutely ridiculous than absolutely boring.”\",\n",
       " '“Try not to become a man of success. Rather become a man of value.”',\n",
       " '“It is better to be hated for what you are than to be loved for what you are not.”',\n",
       " \"“I have not failed. I've just found 10,000 ways that won't work.”\",\n",
       " \"“A woman is like a tea bag; you never know how strong it is until it's in hot water.”\",\n",
       " '“A day without sunshine is like, you know, night.”']"
      ]
     },
     "execution_count": 9,
     "metadata": {},
     "output_type": "execute_result"
    }
   ],
   "source": [
    "quote_text_list = [i.text for i in quote_text]\n",
    "\n",
    "quote_text_list"
   ]
  },
  {
   "cell_type": "code",
   "execution_count": 10,
   "metadata": {},
   "outputs": [
    {
     "data": {
      "text/plain": [
       "['Albert Einstein',\n",
       " 'J.K. Rowling',\n",
       " 'Albert Einstein',\n",
       " 'Jane Austen',\n",
       " 'Marilyn Monroe',\n",
       " 'Albert Einstein',\n",
       " 'André Gide',\n",
       " 'Thomas A. Edison',\n",
       " 'Eleanor Roosevelt',\n",
       " 'Steve Martin']"
      ]
     },
     "execution_count": 10,
     "metadata": {},
     "output_type": "execute_result"
    }
   ],
   "source": [
    "quote_author = quote_html.select('div.quote > span > small.author')\n",
    "quote_author_list = [i.text for i in quote_author]\n",
    "\n",
    "quote_author_list"
   ]
  },
  {
   "cell_type": "code",
   "execution_count": 11,
   "metadata": {},
   "outputs": [
    {
     "data": {
      "text/plain": [
       "[<a href=\"/author/Albert-Einstein\">(about)</a>,\n",
       " <a href=\"/author/J-K-Rowling\">(about)</a>,\n",
       " <a href=\"/author/Albert-Einstein\">(about)</a>,\n",
       " <a href=\"/author/Jane-Austen\">(about)</a>,\n",
       " <a href=\"/author/Marilyn-Monroe\">(about)</a>,\n",
       " <a href=\"/author/Albert-Einstein\">(about)</a>,\n",
       " <a href=\"/author/Andre-Gide\">(about)</a>,\n",
       " <a href=\"/author/Thomas-A-Edison\">(about)</a>,\n",
       " <a href=\"/author/Eleanor-Roosevelt\">(about)</a>,\n",
       " <a href=\"/author/Steve-Martin\">(about)</a>]"
      ]
     },
     "execution_count": 11,
     "metadata": {},
     "output_type": "execute_result"
    }
   ],
   "source": [
    "quote_link = quote_html.select('div.quote > span > a')\n",
    "\n",
    "quote_link"
   ]
  },
  {
   "cell_type": "code",
   "execution_count": 12,
   "metadata": {},
   "outputs": [
    {
     "data": {
      "text/plain": [
       "'/author/Albert-Einstein'"
      ]
     },
     "execution_count": 12,
     "metadata": {},
     "output_type": "execute_result"
    }
   ],
   "source": [
    "quote_link[0]['href']"
   ]
  },
  {
   "cell_type": "code",
   "execution_count": 13,
   "metadata": {},
   "outputs": [
    {
     "data": {
      "text/plain": [
       "['http://quotes.toscrape.com/author/Albert-Einstein',\n",
       " 'http://quotes.toscrape.com/author/J-K-Rowling',\n",
       " 'http://quotes.toscrape.com/author/Albert-Einstein',\n",
       " 'http://quotes.toscrape.com/author/Jane-Austen',\n",
       " 'http://quotes.toscrape.com/author/Marilyn-Monroe',\n",
       " 'http://quotes.toscrape.com/author/Albert-Einstein',\n",
       " 'http://quotes.toscrape.com/author/Andre-Gide',\n",
       " 'http://quotes.toscrape.com/author/Thomas-A-Edison',\n",
       " 'http://quotes.toscrape.com/author/Eleanor-Roosevelt',\n",
       " 'http://quotes.toscrape.com/author/Steve-Martin']"
      ]
     },
     "execution_count": 13,
     "metadata": {},
     "output_type": "execute_result"
    }
   ],
   "source": [
    "['http://quotes.toscrape.com' + i['href'] for i in quote_link]"
   ]
  },
  {
   "attachments": {},
   "cell_type": "markdown",
   "metadata": {},
   "source": [
    "###### 8.2.1.3 모든 페이지 데이터 크롤링하기"
   ]
  },
  {
   "cell_type": "code",
   "execution_count": 14,
   "metadata": {},
   "outputs": [],
   "source": [
    "#import requests as rq\n",
    "#from bs4 import BeautifulSoup\n",
    "import time\n",
    "\n",
    "text_list = []\n",
    "author_list = []\n",
    "infor_list = []\n",
    "\n",
    "# ... 이하 생략 ..."
   ]
  },
  {
   "cell_type": "code",
   "execution_count": 15,
   "metadata": {},
   "outputs": [
    {
     "data": {
      "text/html": [
       "<div>\n",
       "<style scoped>\n",
       "    .dataframe tbody tr th:only-of-type {\n",
       "        vertical-align: middle;\n",
       "    }\n",
       "\n",
       "    .dataframe tbody tr th {\n",
       "        vertical-align: top;\n",
       "    }\n",
       "\n",
       "    .dataframe thead th {\n",
       "        text-align: right;\n",
       "    }\n",
       "</style>\n",
       "<table border=\"1\" class=\"dataframe\">\n",
       "  <thead>\n",
       "    <tr style=\"text-align: right;\">\n",
       "      <th></th>\n",
       "      <th>text</th>\n",
       "      <th>author</th>\n",
       "      <th>infor</th>\n",
       "    </tr>\n",
       "  </thead>\n",
       "  <tbody>\n",
       "  </tbody>\n",
       "</table>\n",
       "</div>"
      ],
      "text/plain": [
       "Empty DataFrame\n",
       "Columns: [text, author, infor]\n",
       "Index: []"
      ]
     },
     "execution_count": 15,
     "metadata": {},
     "output_type": "execute_result"
    }
   ],
   "source": [
    "import pandas as pd\n",
    "\n",
    "pd.DataFrame({'text': text_list, 'author': author_list, 'infor': infor_list})"
   ]
  },
  {
   "attachments": {},
   "cell_type": "markdown",
   "metadata": {},
   "source": [
    "8.2.2 금융 속보 크롤링"
   ]
  },
  {
   "cell_type": "code",
   "execution_count": 16,
   "metadata": {},
   "outputs": [
    {
     "data": {
      "text/plain": [
       "[<a href=\"/news/news_read.naver?article_id=0011989716&amp;office_id=003&amp;mode=LSS2D&amp;type=0§ion_id=101§ion_id2=258§ion_id3=&amp;date=20230722&amp;page=1\" title=\"동전주 벗어난 리플…어디까지 오를까[이지영의 코인세상]\">동전주 벗어난 리플…어디까지 오를까[이지영의 코인세상]</a>,\n",
       " <a href=\"/news/news_read.naver?article_id=0000018105&amp;office_id=648&amp;mode=LSS2D&amp;type=0§ion_id=101§ion_id2=258§ion_id3=&amp;date=20230722&amp;page=1\" title=\"'구조요청' 보낸 전경련, 4대 그룹 선택은\">'구조요청' 보낸 전경련, 4대 그룹 선택은</a>,\n",
       " <a href=\"/news/news_read.naver?article_id=0006944774&amp;office_id=421&amp;mode=LSS2D&amp;type=0§ion_id=101§ion_id2=258§ion_id3=&amp;date=20230722&amp;page=1\" title=\"가상자산 거래소, 거래량 줄자 '신규상장' 늘렸다…&quot;닥사 심사 고도화해야&quot;\">가상자산 거래소, 거래량 줄자 '신규상장' 늘렸다…\"닥사 심사 고도화해야\"</a>]"
      ]
     },
     "execution_count": 16,
     "metadata": {},
     "output_type": "execute_result"
    }
   ],
   "source": [
    "#import requests as rq\n",
    "#from bs4 import BeautifulSoup\n",
    "\n",
    "url = 'https://finance.naver.com/news/news_list.nhn?mode=LSS2D&section_id=101&section_id2=258'\n",
    "data = rq.get(url)\n",
    "html = BeautifulSoup(data.content, 'html.parser')\n",
    "html_select = html.select('dl > dd.articleSubject > a')\n",
    "\n",
    "html_select[0:3]"
   ]
  },
  {
   "cell_type": "code",
   "execution_count": 17,
   "metadata": {},
   "outputs": [
    {
     "data": {
      "text/plain": [
       "'동전주 벗어난 리플…어디까지 오를까[이지영의 코인세상]'"
      ]
     },
     "execution_count": 17,
     "metadata": {},
     "output_type": "execute_result"
    }
   ],
   "source": [
    "html_select[0]['title']"
   ]
  },
  {
   "cell_type": "code",
   "execution_count": 18,
   "metadata": {},
   "outputs": [
    {
     "data": {
      "text/plain": [
       "['동전주 벗어난 리플…어디까지 오를까[이지영의 코인세상]',\n",
       " \"'구조요청' 보낸 전경련, 4대 그룹 선택은\",\n",
       " '가상자산 거래소, 거래량 줄자 \\'신규상장\\' 늘렸다…\"닥사 심사 고도화해야\"',\n",
       " '아기 입맛 사로잡았다...인플레 직격탄에도 잘 팔리는 이유 [추동훈의 흥부전]',\n",
       " '이복현은 왜 증권사 10곳 긴급 소집했나[최훈길의뒷담화]',\n",
       " \"주주 간 차등이 인정되는 경우가 있다?…'평등과 차등 사이'\",\n",
       " '커지는 ESG 공시 시장…인증은 누가 맡을까?',\n",
       " '개장할 땐 2만원이였는데 마감 땐 1만원…단타대회 된 이녀석들',\n",
       " \"'대구의 갓기업'에 무슨 일이…개미들 2700억 폭풍 매수 [박의명의 불개미 구조대]\",\n",
       " '[fn마켓워치]호서대, 50억 OCIO로',\n",
       " \"'5조 대어' HMM 매각 개시…인수전 초반 후보군 살펴보니[시그널]\",\n",
       " '[fn마켓워치]대광건영, 27홀 대중제 큐로CC 인수',\n",
       " '\"코스피로 이사 간대\" 소문 돌더니…개미들 우르르 몰려든 곳 [진영기의 찐개미 찐투자]',\n",
       " '하나금융, KDB생보 인수…‘인수자금’에 달린 신용도',\n",
       " \"[fn마켓워치]삼프로TV 우회상장..'동학개미' 환호할까\",\n",
       " \"당장 성과는 부진해도..멀리 보면 ESG채권 '투자대안'\",\n",
       " '\"나만 없어 에코프로\" 벼락거지 한숨… 공매도 이긴 투자자 환호 \\'희비\\'',\n",
       " '美 합참의장 \"北핵·미사일 현실적 위협…한반도 전쟁 가능성\"',\n",
       " '[다음주 증시 전망] 2분기 실적 옥석 가리기…반도체 업황 의구심 해소할까']"
      ]
     },
     "execution_count": 18,
     "metadata": {},
     "output_type": "execute_result"
    }
   ],
   "source": [
    "[i['title'] for i in html_select]"
   ]
  },
  {
   "attachments": {},
   "cell_type": "markdown",
   "metadata": {},
   "source": [
    "8.2.3 표 크롤링하기"
   ]
  },
  {
   "cell_type": "code",
   "execution_count": 19,
   "metadata": {},
   "outputs": [
    {
     "data": {
      "text/html": [
       "<div>\n",
       "<style scoped>\n",
       "    .dataframe tbody tr th:only-of-type {\n",
       "        vertical-align: middle;\n",
       "    }\n",
       "\n",
       "    .dataframe tbody tr th {\n",
       "        vertical-align: top;\n",
       "    }\n",
       "\n",
       "    .dataframe thead th {\n",
       "        text-align: right;\n",
       "    }\n",
       "</style>\n",
       "<table border=\"1\" class=\"dataframe\">\n",
       "  <thead>\n",
       "    <tr style=\"text-align: right;\">\n",
       "      <th></th>\n",
       "      <th>Country</th>\n",
       "      <th>Total market cap (in mil. US$)[2]</th>\n",
       "      <th>Total market cap (% of GDP)[3]</th>\n",
       "      <th>Number of domestic companies listed[4]</th>\n",
       "      <th>Year</th>\n",
       "    </tr>\n",
       "  </thead>\n",
       "  <tbody>\n",
       "    <tr>\n",
       "      <th>0</th>\n",
       "      <td>United States</td>\n",
       "      <td>44719661</td>\n",
       "      <td>194.5</td>\n",
       "      <td>4266</td>\n",
       "      <td>2020</td>\n",
       "    </tr>\n",
       "    <tr>\n",
       "      <th>1</th>\n",
       "      <td>China</td>\n",
       "      <td>13214311</td>\n",
       "      <td>83.0</td>\n",
       "      <td>4154</td>\n",
       "      <td>2020</td>\n",
       "    </tr>\n",
       "    <tr>\n",
       "      <th>2</th>\n",
       "      <td>Japan</td>\n",
       "      <td>6718220</td>\n",
       "      <td>122.2</td>\n",
       "      <td>3754</td>\n",
       "      <td>2020</td>\n",
       "    </tr>\n",
       "    <tr>\n",
       "      <th>3</th>\n",
       "      <td>Hong Kong</td>\n",
       "      <td>6130420</td>\n",
       "      <td>1768.8</td>\n",
       "      <td>2353</td>\n",
       "      <td>2020</td>\n",
       "    </tr>\n",
       "    <tr>\n",
       "      <th>4</th>\n",
       "      <td>India</td>\n",
       "      <td>3750000</td>\n",
       "      <td>103.0</td>\n",
       "      <td>5270</td>\n",
       "      <td>2023</td>\n",
       "    </tr>\n",
       "  </tbody>\n",
       "</table>\n",
       "</div>"
      ],
      "text/plain": [
       "         Country  Total market cap (in mil. US$)[2]  \\\n",
       "0  United States                           44719661   \n",
       "1          China                           13214311   \n",
       "2          Japan                            6718220   \n",
       "3      Hong Kong                            6130420   \n",
       "4          India                            3750000   \n",
       "\n",
       "   Total market cap (% of GDP)[3] Number of domestic companies listed[4]  Year  \n",
       "0                           194.5                                   4266  2020  \n",
       "1                            83.0                                   4154  2020  \n",
       "2                           122.2                                   3754  2020  \n",
       "3                          1768.8                                   2353  2020  \n",
       "4                           103.0                                   5270  2023  "
      ]
     },
     "execution_count": 19,
     "metadata": {},
     "output_type": "execute_result"
    }
   ],
   "source": [
    "import pandas as pd\n",
    "\n",
    "url = 'https://en.wikipedia.org/wiki/List_of_countries_by_stock_market_capitalization'\n",
    "tbl = pd.read_html(url)\n",
    "\n",
    "tbl[0].head()"
   ]
  },
  {
   "attachments": {},
   "cell_type": "markdown",
   "metadata": {},
   "source": [
    "8.2.4 기업 공시 채널에서 오늘의 공시 불러오기"
   ]
  },
  {
   "cell_type": "code",
   "execution_count": 20,
   "metadata": {},
   "outputs": [
    {
     "name": "stdout",
     "output_type": "stream",
     "text": [
      "\n",
      "<section class=\"scrarea type-00\">\n",
      "<table class=\"list type-00 mt10\" summary=\"시간, 회사명, 공시제목, 제출인, 차트/주가\">\n",
      "<caption>목록</caption>\n",
      "<colgroup>\n",
      "<col width=\"9%\"/>\n",
      "<col width=\"22%\"/>\n",
      "<col width=\"*\"/>\n",
      "<col width=\"16%\"/>\n",
      "<col width=\"9%\"/>\n",
      "</colgroup>\n",
      "<thead>\n",
      "<tr class=\"first active\" id=\"title-contents\">\n",
      "</tr>\n",
      "</thead>\n",
      "<tbody>\n",
      "<tr class=\"first\" id=\"parkman\">\n",
      "<td class=\"first txc\">18:45</td>\n",
      "<td><img alt=\"코스닥\" class=\"vmiddle legend\" src=\"/images/common/icn_t_ko.gif\"/> <a href=\"#companysum\" id=\"companysum\" onclick=\"companysummary_open('22633'); return false;\" title=\"신테카바이오\"> 신테카바이오</a> </td>\n",
      "<td><a href=\"#viewer\" onclick=\"openDisclsViewer('20230721000674','')\" title=\"전환사채권발행결정(제2회차)\">전환사채권발행결정(제2회차)</a></td>\n",
      "<td>신테카바이오</td>\n",
      "<td class=\"txc\">\n",
      "<a class=\"btn ico chart-00\" href=\"#\" onclick=\"openDisclsChart('22633');return false;\" title=\"공시차트\"><span>공시차트</span></a>\n",
      "<a class=\"btn ico chart-01\" href=\"#\" onclick=\"fnPopStockPrices('22633');return false;\" title=\"주가차트\"><span>주가차트</span></a>\n",
      "</td>\n",
      "</tr>\n",
      "<tr id=\"parkman\">\n",
      "<td class=\"first txc\">18:39</td>\n",
      "<td><img alt=\"코스닥\" class=\"vmiddle legend\" src=\"/images/common/icn_t_ko.gif\"/> <a href=\"#companysum\" id=\"companysum\" onclick=\"companysummary_open('06641'); return false;\" title=\"버킷스튜디오\"> 버킷스튜디오</a> <img alt=\"관리종목\" class=\"vmiddle legend\" src=\"/images/common/icn_t_kwan.gif\"> <img alt=\"투자주의환기종목\" class=\"vmiddle legend\" src=\"/images/common/icn_t_hwan.gif\"/> </img></td>\n",
      "<td><a href=\"#viewer\" onclick=\"openDisclsViewer('20230721000672','')\" title=\"횡령ㆍ배임 혐의 진행사항\">횡령ㆍ배임 혐의 진행사항</a></td>\n",
      "<td>버킷스튜디오</td>\n",
      "<td class=\"txc\">\n",
      "<a class=\"btn ico chart-00\" href=\"#\" onclick=\"openDisclsChart('06641');return false;\" title=\"공시차트\"><span>공시차트</span></a>\n",
      "<a class=\"btn ico chart-01\" href=\"#\" onclick=\"fnPopStockPrices('06641');return false;\" title=\"주가차트\"><span>주가차트</span></a>\n",
      "</td>\n",
      "</tr>\n",
      "<tr id=\"parkman\">\n",
      "<td class=\"first txc\">18:37</td>\n",
      "<td><img alt=\"코스닥\" class=\"vmiddle legend\" src=\"/images/common/icn_t_ko.gif\"/> <a href=\"#companysum\" id=\"companysum\" onclick=\"companysummary_open('04309'); return false;\" title=\"엑서지21\"> 엑서지21</a> <img alt=\"투자주의환기종목\" class=\"vmiddle legend\" src=\"/images/common/icn_t_hwan.gif\"/> </td>\n",
      "<td><a href=\"#viewer\" onclick=\"openDisclsViewer('20230721000668','')\" title=\"조회공시요구(현저한시황변동)에대한답변(미확정)\">조회공시요구(현저한시황변동)에대한답변(미확정)</a></td>\n",
      "<td>엑서지21</td>\n",
      "<td class=\"txc\">\n",
      "<a class=\"btn ico chart-00\" href=\"#\" onclick=\"openDisclsChart('04309');return false;\" title=\"공시차트\"><span>공시차트</span></a>\n",
      "<a class=\"btn ico chart-01\" href=\"#\" onclick=\"fnPopStockPrices('04309');return false;\" title=\"주가차트\"><span>주가차트</span></a>\n",
      "</td>\n",
      "</tr>\n",
      "<tr id=\"parkman\">\n",
      "<td class=\"first txc\">18:34</td>\n",
      "<td><img alt=\"코스닥\" class=\"vmiddle legend\" src=\"/images/common/icn_t_ko.gif\"/> <a href=\"#companysum\" id=\"companysum\" onclick=\"companysummary_open('01957'); return false;\" title=\"리더스 기술투자\"> 리더스 기술투자</a> </td>\n",
      "<td><a href=\"#viewer\" onclick=\"openDisclsViewer('20230721000675','')\" title=\"신주인수권행사가액의조정\"><font color=\"#FF8040\">[정정]</font>신주인수권행사가액의조정</a></td>\n",
      "<td>리더스 기술투자</td>\n",
      "<td class=\"txc\">\n",
      "<a class=\"btn ico chart-00\" href=\"#\" onclick=\"openDisclsChart('01957');return false;\" title=\"공시차트\"><span>공시차트</span></a>\n",
      "<a class=\"btn ico chart-01\" href=\"#\" onclick=\"fnPopStockPrices('01957');return false;\" title=\"주가차트\"><span>주가차트</span></a>\n",
      "</td>\n",
      "</tr>\n",
      "<tr id=\"parkman\">\n",
      "<td class=\"first txc\">18:29</td>\n",
      "<td><img alt=\"코스닥\" class=\"vmiddle legend\" src=\"/images/common/icn_t_ko.gif\"/> <a href=\"#companysum\" id=\"companysum\" onclick=\"companysummary_open('24169'); return false;\" title=\"유니테크노\"> 유니테크노</a> </td>\n",
      "<td><a href=\"#viewer\" onclick=\"openDisclsViewer('20230721000638','')\" title=\"불성실공시법인지정예고(공시불이행)\">불성실공시법인지정예고(공시불이행)</a></td>\n",
      "<td>코스닥시장본부</td>\n",
      "<td class=\"txc\">\n",
      "<a class=\"btn ico chart-00\" href=\"#\" onclick=\"openDisclsChart('24169');return false;\" title=\"공시차트\"><span>공시차트</span></a>\n",
      "<a class=\"btn ico chart-01\" href=\"#\" onclick=\"fnPopStockPrices('24169');return false;\" title=\"주가차트\"><span>주가차트</span></a>\n",
      "</td>\n",
      "</tr>\n",
      "<tr id=\"parkman\">\n",
      "<td class=\"first txc\">18:28</td>\n",
      "<td><img alt=\"코스닥\" class=\"vmiddle legend\" src=\"/images/common/icn_t_ko.gif\"/> <a href=\"#companysum\" id=\"companysum\" onclick=\"companysummary_open('25772'); return false;\" title=\"실리콘투\"> 실리콘투</a> </td>\n",
      "<td><a href=\"#viewer\" onclick=\"openDisclsViewer('20230721000671','')\" title=\"불성실공시법인지정예고(공시불이행)\">불성실공시법인지정예고(공시불이행)</a></td>\n",
      "<td>코스닥시장본부</td>\n",
      "<td class=\"txc\">\n",
      "<a class=\"btn ico chart-00\" href=\"#\" onclick=\"openDisclsChart('25772');return false;\" title=\"공시차트\"><span>공시차트</span></a>\n",
      "<a class=\"btn ico chart-01\" href=\"#\" onclick=\"fnPopStockPrices('25772');return false;\" title=\"주가차트\"><span>주가차트</span></a>\n",
      "</td>\n",
      "</tr>\n",
      "<tr id=\"parkman\">\n",
      "<td class=\"first txc\">18:25</td>\n",
      "<td><img alt=\"코스닥\" class=\"vmiddle legend\" src=\"/images/common/icn_t_ko.gif\"/> <a href=\"#companysum\" id=\"companysum\" onclick=\"companysummary_open('36139'); return false;\" title=\"제노코\"> 제노코</a> </td>\n",
      "<td><a href=\"#viewer\" onclick=\"openDisclsViewer('20230721000669','')\" title=\"불성실공시법인지정예고(공시불이행)\">불성실공시법인지정예고(공시불이행)</a></td>\n",
      "<td>코스닥시장본부</td>\n",
      "<td class=\"txc\">\n",
      "<a class=\"btn ico chart-00\" href=\"#\" onclick=\"openDisclsChart('36139');return false;\" title=\"공시차트\"><span>공시차트</span></a>\n",
      "<a class=\"btn ico chart-01\" href=\"#\" onclick=\"fnPopStockPrices('36139');return false;\" title=\"주가차트\"><span>주가차트</span></a>\n",
      "</td>\n",
      "</tr>\n",
      "<tr id=\"parkman\">\n",
      "<td class=\"first txc\">18:25</td>\n",
      "<td><img alt=\"코스닥\" class=\"vmiddle legend\" src=\"/images/common/icn_t_ko.gif\"/> <a href=\"#companysum\" id=\"companysum\" onclick=\"companysummary_open('12712'); return false;\" title=\"디엔에이링크\"> 디엔에이링크</a> <img alt=\"투자주의환기종목\" class=\"vmiddle legend\" src=\"/images/common/icn_t_hwan.gif\"/> </td>\n",
      "<td><a href=\"#viewer\" onclick=\"openDisclsViewer('20230721000670','')\" title=\"불성실공시법인지정예고(공시불이행)\">불성실공시법인지정예고(공시불이행)</a></td>\n",
      "<td>코스닥시장본부</td>\n",
      "<td class=\"txc\">\n",
      "<a class=\"btn ico chart-00\" href=\"#\" onclick=\"openDisclsChart('12712');return false;\" title=\"공시차트\"><span>공시차트</span></a>\n",
      "<a class=\"btn ico chart-01\" href=\"#\" onclick=\"fnPopStockPrices('12712');return false;\" title=\"주가차트\"><span>주가차트</span></a>\n",
      "</td>\n",
      "</tr>\n",
      "<tr id=\"parkman\">\n",
      "<td class=\"first txc\">18:22</td>\n",
      "<td><img alt=\"코스닥\" class=\"vmiddle legend\" src=\"/images/common/icn_t_ko.gif\"/> <a href=\"#companysum\" id=\"companysum\" onclick=\"companysummary_open('12180'); return false;\" title=\"비덴트\"> 비덴트</a> <img alt=\"관리종목\" class=\"vmiddle legend\" src=\"/images/common/icn_t_kwan.gif\"> <img alt=\"투자주의환기종목\" class=\"vmiddle legend\" src=\"/images/common/icn_t_hwan.gif\"/> </img></td>\n",
      "<td><a href=\"#viewer\" onclick=\"openDisclsViewer('20230721000667','')\" title=\"횡령ㆍ배임혐의발생\">횡령ㆍ배임혐의발생</a></td>\n",
      "<td>비덴트</td>\n",
      "<td class=\"txc\">\n",
      "<a class=\"btn ico chart-00\" href=\"#\" onclick=\"openDisclsChart('12180');return false;\" title=\"공시차트\"><span>공시차트</span></a>\n",
      "<a class=\"btn ico chart-01\" href=\"#\" onclick=\"fnPopStockPrices('12180');return false;\" title=\"주가차트\"><span>주가차트</span></a>\n",
      "</td>\n",
      "</tr>\n",
      "<tr id=\"parkman\">\n",
      "<td class=\"first txc\">18:17</td>\n",
      "<td><img alt=\"코스닥\" class=\"vmiddle legend\" src=\"/images/common/icn_t_ko.gif\"/> <a href=\"#companysum\" id=\"companysum\" onclick=\"companysummary_open('01679'); return false;\" title=\"카나리아바이오\"> 카나리아바이오</a> <img alt=\"KOSDAQ150\" class=\"vmiddle legend\" src=\"/images/common/icn_t_q150.gif\"/> <img alt=\"KRX300\" class=\"vmiddle legend\" src=\"/images/common/icn_t_x300.gif\"/> </td>\n",
      "<td><a href=\"#viewer\" onclick=\"openDisclsViewer('20230721000666','')\" title=\"불성실공시법인지정예고(공시변경)\">불성실공시법인지정예고(공시변경)</a></td>\n",
      "<td>코스닥시장본부</td>\n",
      "<td class=\"txc\">\n",
      "<a class=\"btn ico chart-00\" href=\"#\" onclick=\"openDisclsChart('01679');return false;\" title=\"공시차트\"><span>공시차트</span></a>\n",
      "<a class=\"btn ico chart-01\" href=\"#\" onclick=\"fnPopStockPrices('01679');return false;\" title=\"주가차트\"><span>주가차트</span></a>\n",
      "</td>\n",
      "</tr>\n",
      "<tr id=\"parkman\">\n",
      "<td class=\"first txc\">18:16</td>\n",
      "<td><img alt=\"코스닥\" class=\"vmiddle legend\" src=\"/images/common/icn_t_ko.gif\"/> <a href=\"#companysum\" id=\"companysum\" onclick=\"companysummary_open('01868'); return false;\" title=\"서울제약\"> 서울제약</a> </td>\n",
      "<td><a href=\"#viewer\" onclick=\"openDisclsViewer('20230721000650','')\" title=\"불성실공시법인지정예고(공시번복)\">불성실공시법인지정예고(공시번복)</a></td>\n",
      "<td>코스닥시장본부</td>\n",
      "<td class=\"txc\">\n",
      "<a class=\"btn ico chart-00\" href=\"#\" onclick=\"openDisclsChart('01868');return false;\" title=\"공시차트\"><span>공시차트</span></a>\n",
      "<a class=\"btn ico chart-01\" href=\"#\" onclick=\"fnPopStockPrices('01868');return false;\" title=\"주가차트\"><span>주가차트</span></a>\n",
      "</td>\n",
      "</tr>\n",
      "<tr id=\"parkman\">\n",
      "<td class=\"first txc\">18:12</td>\n",
      "<td><img alt=\"코스닥\" class=\"vmiddle legend\" src=\"/images/common/icn_t_ko.gif\"/> <a href=\"#companysum\" id=\"companysum\" onclick=\"companysummary_open('01028'); return false;\" title=\"쌍용정보통신\"> 쌍용정보통신</a> </td>\n",
      "<td><a href=\"#viewer\" onclick=\"openDisclsViewer('20230721000644','')\" title=\"불성실공시법인지정예고(공시불이행)\"><font color=\"#FF8040\">[정정]</font>불성실공시법인지정예고(공시불이행)</a></td>\n",
      "<td>코스닥시장본부</td>\n",
      "<td class=\"txc\">\n",
      "<a class=\"btn ico chart-00\" href=\"#\" onclick=\"openDisclsChart('01028');return false;\" title=\"공시차트\"><span>공시차트</span></a>\n",
      "<a class=\"btn ico chart-01\" href=\"#\" onclick=\"fnPopStockPrices('01028');return false;\" title=\"주가차트\"><span>주가차트</span></a>\n",
      "</td>\n",
      "</tr>\n",
      "<tr id=\"parkman\">\n",
      "<td class=\"first txc\">18:11</td>\n",
      "<td><img alt=\"코스닥\" class=\"vmiddle legend\" src=\"/images/common/icn_t_ko.gif\"/> <a href=\"#companysum\" id=\"companysum\" onclick=\"companysummary_open('30787'); return false;\" title=\"비투엔\"> 비투엔</a> <img alt=\"투자경고종목\" class=\"vmiddle legend\" src=\"/images/common/icn_t_kyung.gif\"> </img></td>\n",
      "<td><a href=\"#viewer\" onclick=\"openDisclsViewer('20230721000632','')\" title=\"전환청구권행사(제2회차)\">전환청구권행사(제2회차)</a></td>\n",
      "<td>비투엔</td>\n",
      "<td class=\"txc\">\n",
      "<a class=\"btn ico chart-00\" href=\"#\" onclick=\"openDisclsChart('30787');return false;\" title=\"공시차트\"><span>공시차트</span></a>\n",
      "<a class=\"btn ico chart-01\" href=\"#\" onclick=\"fnPopStockPrices('30787');return false;\" title=\"주가차트\"><span>주가차트</span></a>\n",
      "</td>\n",
      "</tr>\n",
      "<tr id=\"parkman\">\n",
      "<td class=\"first txc\">18:11</td>\n",
      "<td><img alt=\"코스닥\" class=\"vmiddle legend\" src=\"/images/common/icn_t_ko.gif\"/> <a href=\"#companysum\" id=\"companysum\" onclick=\"companysummary_open('04418'); return false;\" title=\"KD\"> KD</a> <img alt=\"투자주의환기종목\" class=\"vmiddle legend\" src=\"/images/common/icn_t_hwan.gif\"/> </td>\n",
      "<td><a href=\"#viewer\" onclick=\"openDisclsViewer('20230721000649','')\" title=\"타인에대한채무보증결정\"><font color=\"#FF8040\">[정정]</font>타인에대한채무보증결정</a></td>\n",
      "<td>KD</td>\n",
      "<td class=\"txc\">\n",
      "<a class=\"btn ico chart-00\" href=\"#\" onclick=\"openDisclsChart('04418');return false;\" title=\"공시차트\"><span>공시차트</span></a>\n",
      "<a class=\"btn ico chart-01\" href=\"#\" onclick=\"fnPopStockPrices('04418');return false;\" title=\"주가차트\"><span>주가차트</span></a>\n",
      "</td>\n",
      "</tr>\n",
      "<tr id=\"parkman\">\n",
      "<td class=\"first txc\">18:08</td>\n",
      "<td></td>\n",
      "<td><a href=\"#viewer\" onclick=\"openDisclsViewer('20230721000664','')\" title=\"자기주식매매신청내역(코스닥시장)\">자기주식매매신청내역(코스닥시장)</a></td>\n",
      "<td>코스닥시장본부</td>\n",
      "<td class=\"txc\">\n",
      "</td>\n",
      "</tr>\n",
      "</tbody>\n",
      "</table>\n",
      "</section>\n",
      "<!-- 페이징 START -->\n",
      "<section class=\"paging-group\">\n",
      "<div class=\"paging type-00\"><a class=\"pprev\" href=\"#prevPage10\" onclick=\"return false;\"><span>이전10개 페이지</span></a><a class=\"prev\" href=\"#prevPage\" onclick=\"return false;\"><span>이전 페이지</span></a>\n",
      "<a class=\"active\" href=\"#page_link_1\" onclick=\"return false;\">1</a><a href=\"#page_link_2\" onclick=\"fnPageGo('2');return false;\">2</a><a href=\"#page_link_3\" onclick=\"fnPageGo('3');return false;\">3</a><a href=\"#page_link_4\" onclick=\"fnPageGo('4');return false;\">4</a><a href=\"#page_link_5\" onclick=\"fnPageGo('5');return false;\">5</a><a href=\"#page_link_6\" onclick=\"fnPageGo('6');return false;\">6</a><a href=\"#page_link_7\" onclick=\"fnPageGo('7');return false;\">7</a><a href=\"#page_link_8\" onclick=\"fnPageGo('8');return false;\">8</a><a href=\"#page_link_9\" onclick=\"fnPageGo('9');return false;\">9</a><a href=\"#page_link_10\" onclick=\"fnPageGo('10');return false;\">10</a>\n",
      "<a class=\"next\" href=\"#nextPage\" onclick=\"fnPageGo('2');return false;\"><span>다음 페이지</span></a><a class=\"nnext\" href=\"#nextPage10\" onclick=\"fnPageGo('11');return false;\"><span>다음10개 페이지</span></a></div><div class=\"info type-00\">\n",
      "전체 <em>439</em>건 : <strong>1</strong>/30   \n",
      "<select id=\"currentPageSize\" name=\"currentPageSize\">\n",
      "<option selected=\"selected\" value=\"15\">15건</option>\n",
      "<option value=\"30\">30건</option>\n",
      "<option value=\"50\">50건</option>\n",
      "<option value=\"100\">100건</option>\n",
      "</select>  <a class=\"btn-sprite btn-go vmiddle\" href=\"#\" onclick=\"fnSearch1();return false;\" title=\"GO\"><span>GO</span></a>\n",
      "</div>\n",
      "</section>\n",
      "<!-- 페이징 END -->\n",
      "<script type=\"text/JavaScript\">\n",
      "$(document).ready(function(){\n",
      "\tvar svrGubun = \"real2\";\n",
      "\tif( svrGubun.indexOf(\"dr\") >= 0 ){\n",
      "\t\tfn_InitTitle(\"시간,회사명,공시제목,제출인\", \"true,true,true,true\");\n",
      "\t} else {\n",
      "\t\tfn_InitTitle(\"시간,회사명,공시제목,제출인,차트/주가\", \"true,true,true,true,false\");\n",
      "\t}\n",
      "\n",
      "\t$(\"input[name='segment']:radio\").change(function(){\n",
      "\t\tconsole.log(this.value);\n",
      "\t\t$(\"#searchForm > #kosdaqSegment\").val(this.value);\n",
      "\t\tfnSearch();\n",
      "\t});\n",
      "});\n",
      "</script>\n"
     ]
    }
   ],
   "source": [
    "# import requests as rq\n",
    "# from bs4 import BeautifulSoup\n",
    "# import pandas as pd\n",
    "\n",
    "url = 'https://kind.krx.co.kr/disclosure/todaydisclosure.do'\n",
    "payload = {\n",
    "    'method': 'searchTodayDisclosureSub',\n",
    "    'currentPageSize': '15',\n",
    "    'pageIndex': '1',\n",
    "    'orderMode': '0',\n",
    "    'orderStat': 'D',\n",
    "    'forward': 'todaydisclosure_sub',\n",
    "    'chose': 'S',\n",
    "    'todayFlag': 'N',\n",
    "    'selDate': '2023-07-21'\n",
    "}\n",
    "\n",
    "data = rq.post(url, data=payload)\n",
    "html = BeautifulSoup(data.content, 'html.parser')\n",
    "\n",
    "print(html)"
   ]
  },
  {
   "cell_type": "code",
   "execution_count": 21,
   "metadata": {},
   "outputs": [
    {
     "data": {
      "text/html": [
       "<div>\n",
       "<style scoped>\n",
       "    .dataframe tbody tr th:only-of-type {\n",
       "        vertical-align: middle;\n",
       "    }\n",
       "\n",
       "    .dataframe tbody tr th {\n",
       "        vertical-align: top;\n",
       "    }\n",
       "\n",
       "    .dataframe thead th {\n",
       "        text-align: right;\n",
       "    }\n",
       "</style>\n",
       "<table border=\"1\" class=\"dataframe\">\n",
       "  <thead>\n",
       "    <tr style=\"text-align: right;\">\n",
       "      <th></th>\n",
       "      <th>Unnamed: 0</th>\n",
       "      <th>Unnamed: 1</th>\n",
       "      <th>Unnamed: 2</th>\n",
       "      <th>Unnamed: 3</th>\n",
       "      <th>Unnamed: 4</th>\n",
       "    </tr>\n",
       "  </thead>\n",
       "  <tbody>\n",
       "    <tr>\n",
       "      <th>0</th>\n",
       "      <td>18:45</td>\n",
       "      <td>신테카바이오</td>\n",
       "      <td>전환사채권발행결정(제2회차)</td>\n",
       "      <td>신테카바이오</td>\n",
       "      <td>공시차트  주가차트</td>\n",
       "    </tr>\n",
       "    <tr>\n",
       "      <th>1</th>\n",
       "      <td>18:39</td>\n",
       "      <td>버킷스튜디오</td>\n",
       "      <td>횡령ㆍ배임 혐의 진행사항</td>\n",
       "      <td>버킷스튜디오</td>\n",
       "      <td>공시차트  주가차트</td>\n",
       "    </tr>\n",
       "    <tr>\n",
       "      <th>2</th>\n",
       "      <td>18:37</td>\n",
       "      <td>엑서지21</td>\n",
       "      <td>조회공시요구(현저한시황변동)에대한답변(미확정)</td>\n",
       "      <td>엑서지21</td>\n",
       "      <td>공시차트  주가차트</td>\n",
       "    </tr>\n",
       "    <tr>\n",
       "      <th>3</th>\n",
       "      <td>18:34</td>\n",
       "      <td>리더스 기술투자</td>\n",
       "      <td>[정정]  신주인수권행사가액의조정</td>\n",
       "      <td>리더스 기술투자</td>\n",
       "      <td>공시차트  주가차트</td>\n",
       "    </tr>\n",
       "    <tr>\n",
       "      <th>4</th>\n",
       "      <td>18:29</td>\n",
       "      <td>유니테크노</td>\n",
       "      <td>불성실공시법인지정예고(공시불이행)</td>\n",
       "      <td>코스닥시장본부</td>\n",
       "      <td>공시차트  주가차트</td>\n",
       "    </tr>\n",
       "  </tbody>\n",
       "</table>\n",
       "</div>"
      ],
      "text/plain": [
       "  Unnamed: 0 Unnamed: 1                 Unnamed: 2 Unnamed: 3  Unnamed: 4\n",
       "0      18:45     신테카바이오            전환사채권발행결정(제2회차)     신테카바이오  공시차트  주가차트\n",
       "1      18:39     버킷스튜디오              횡령ㆍ배임 혐의 진행사항     버킷스튜디오  공시차트  주가차트\n",
       "2      18:37      엑서지21  조회공시요구(현저한시황변동)에대한답변(미확정)      엑서지21  공시차트  주가차트\n",
       "3      18:34   리더스 기술투자         [정정]  신주인수권행사가액의조정   리더스 기술투자  공시차트  주가차트\n",
       "4      18:29      유니테크노         불성실공시법인지정예고(공시불이행)    코스닥시장본부  공시차트  주가차트"
      ]
     },
     "execution_count": 21,
     "metadata": {},
     "output_type": "execute_result"
    }
   ],
   "source": [
    "html_unicode = html.prettify()\n",
    "tbl = pd.read_html(html.prettify())\n",
    "\n",
    "tbl[0].head()"
   ]
  }
 ],
 "metadata": {
  "kernelspec": {
   "display_name": "py39_64",
   "language": "python",
   "name": "python3"
  },
  "language_info": {
   "codemirror_mode": {
    "name": "ipython",
    "version": 3
   },
   "file_extension": ".py",
   "mimetype": "text/x-python",
   "name": "python",
   "nbconvert_exporter": "python",
   "pygments_lexer": "ipython3",
   "version": "3.9.17"
  },
  "orig_nbformat": 4,
  "vscode": {
   "interpreter": {
    "hash": "58a195a0f5bfabafbe1ce822c40174f0fffe8739c842946f1296fe5f23d4077b"
   }
  }
 },
 "nbformat": 4,
 "nbformat_minor": 2
}
