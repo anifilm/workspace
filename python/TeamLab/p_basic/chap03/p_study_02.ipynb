{
 "cells": [
  {
   "cell_type": "code",
   "execution_count": 1,
   "metadata": {},
   "outputs": [],
   "source": [
    "# Lab: 화씨 변환기"
   ]
  },
  {
   "cell_type": "code",
   "execution_count": 2,
   "metadata": {},
   "outputs": [
    {
     "name": "stdout",
     "output_type": "stream",
     "text": [
      "본 프로그램은 섭씨를 화씨로 변환해주는 프로그램입니다.\n",
      "변환하고 싶은 섭씨 온도를 입력해 주세요:\n",
      "32.2\n",
      "섭씨온도: 32.2\n",
      "화씨온도: 89.96000000000001\n"
     ]
    }
   ],
   "source": [
    "print(\"본 프로그램은 섭씨를 화씨로 변환해주는 프로그램입니다.\")\n",
    "print(\"변환하고 싶은 섭씨 온도를 입력해 주세요:\")\n",
    "\n",
    "celsius = float(input())\n",
    "fahrenheit = ((9/5) * celsius) + 32\n",
    "\n",
    "print(\"섭씨온도:\", celsius)\n",
    "print(\"화씨온도:\", fahrenheit)"
   ]
  }
 ],
 "metadata": {
  "kernelspec": {
   "display_name": "Python 3",
   "language": "python",
   "name": "python3"
  },
  "language_info": {
   "codemirror_mode": {
    "name": "ipython",
    "version": 3
   },
   "file_extension": ".py",
   "mimetype": "text/x-python",
   "name": "python",
   "nbconvert_exporter": "python",
   "pygments_lexer": "ipython3",
   "version": "3.8.3"
  }
 },
 "nbformat": 4,
 "nbformat_minor": 4
}
