{
 "cells": [
  {
   "cell_type": "code",
   "execution_count": 1,
   "metadata": {},
   "outputs": [],
   "source": [
    "import csv"
   ]
  },
  {
   "cell_type": "code",
   "execution_count": 2,
   "metadata": {},
   "outputs": [
    {
     "name": "stdout",
     "output_type": "stream",
     "text": [
      "OrderedDict([('TIME', '09:35'), ('DESTINATION', 'FREEPORT')])\n",
      "OrderedDict([('TIME', '17:00'), ('DESTINATION', 'FREEPORT')])\n",
      "OrderedDict([('TIME', '09:55'), ('DESTINATION', 'WEST END')])\n",
      "OrderedDict([('TIME', '19:00'), ('DESTINATION', 'WEST END')])\n",
      "OrderedDict([('TIME', '10:45'), ('DESTINATION', 'TREASURE CAY')])\n",
      "OrderedDict([('TIME', '12:00'), ('DESTINATION', 'TREASURE CAY')])\n",
      "OrderedDict([('TIME', '11:45'), ('DESTINATION', 'ROCK SOUND')])\n",
      "OrderedDict([('TIME', '17:55'), ('DESTINATION', 'ROCK SOUND')])\n"
     ]
    }
   ],
   "source": [
    "with open('chapter12_buzzers.csv') as data:\n",
    "    for line in csv.DictReader(data):\n",
    "        print(line)"
   ]
  },
  {
   "cell_type": "code",
   "execution_count": null,
   "metadata": {},
   "outputs": [],
   "source": []
  }
 ],
 "metadata": {
  "kernelspec": {
   "display_name": "Python 3",
   "language": "python",
   "name": "python3"
  },
  "language_info": {
   "codemirror_mode": {
    "name": "ipython",
    "version": 3
   },
   "file_extension": ".py",
   "mimetype": "text/x-python",
   "name": "python",
   "nbconvert_exporter": "python",
   "pygments_lexer": "ipython3",
   "version": "3.7.7"
  }
 },
 "nbformat": 4,
 "nbformat_minor": 4
}
