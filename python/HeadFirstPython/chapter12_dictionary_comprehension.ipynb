{
 "cells": [
  {
   "cell_type": "code",
   "execution_count": 1,
   "metadata": {},
   "outputs": [],
   "source": [
    "from datetime import datetime\n",
    "import pprint"
   ]
  },
  {
   "cell_type": "code",
   "execution_count": 2,
   "metadata": {},
   "outputs": [],
   "source": [
    "def convert2ampm(time24: str) -> str:\n",
    "    return datetime.strptime(time24, '%H:%M').strftime('%I:%M%p')"
   ]
  },
  {
   "cell_type": "code",
   "execution_count": 3,
   "metadata": {},
   "outputs": [],
   "source": [
    "with open('chapter12_buzzers.csv') as data:\n",
    "    ignore = data.readline()\n",
    "    flights = {}\n",
    "    for line in data:\n",
    "        k, v = line.strip().split(',')\n",
    "        flights[k] = v"
   ]
  },
  {
   "cell_type": "code",
   "execution_count": 16,
   "metadata": {},
   "outputs": [],
   "source": [
    "flights2 = {}\n",
    "for k, v in flights.items():\n",
    "    flights2[convert2ampm(k)] = v.title()"
   ]
  },
  {
   "cell_type": "code",
   "execution_count": 17,
   "metadata": {},
   "outputs": [
    {
     "name": "stdout",
     "output_type": "stream",
     "text": [
      "{'09:35AM': 'Freeport', '05:00PM': 'Freeport', '09:55AM': 'West End', '07:00PM': 'West End', '10:45AM': 'Treasure Cay', '12:00PM': 'Treasure Cay', '11:45AM': 'Rock Sound', '05:55PM': 'Rock Sound'}\n"
     ]
    }
   ],
   "source": [
    "print(flights2)"
   ]
  },
  {
   "cell_type": "code",
   "execution_count": 13,
   "metadata": {},
   "outputs": [],
   "source": [
    "more_flights = {}\n",
    "more_flights = {convert2ampm(k): v.title() for k, v in flights.items()}"
   ]
  },
  {
   "cell_type": "code",
   "execution_count": 14,
   "metadata": {},
   "outputs": [
    {
     "name": "stdout",
     "output_type": "stream",
     "text": [
      "{'09:35AM': 'Freeport', '05:00PM': 'Freeport', '09:55AM': 'West End', '07:00PM': 'West End', '10:45AM': 'Treasure Cay', '12:00PM': 'Treasure Cay', '11:45AM': 'Rock Sound', '05:55PM': 'Rock Sound'}\n"
     ]
    }
   ],
   "source": [
    "print(more_flights)"
   ]
  },
  {
   "cell_type": "code",
   "execution_count": null,
   "metadata": {},
   "outputs": [],
   "source": []
  }
 ],
 "metadata": {
  "kernelspec": {
   "display_name": "Python 3",
   "language": "python",
   "name": "python3"
  },
  "language_info": {
   "codemirror_mode": {
    "name": "ipython",
    "version": 3
   },
   "file_extension": ".py",
   "mimetype": "text/x-python",
   "name": "python",
   "nbconvert_exporter": "python",
   "pygments_lexer": "ipython3",
   "version": "3.7.7"
  }
 },
 "nbformat": 4,
 "nbformat_minor": 4
}
