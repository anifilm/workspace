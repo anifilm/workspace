{
 "cells": [
  {
   "cell_type": "code",
   "execution_count": 1,
   "metadata": {},
   "outputs": [],
   "source": [
    "from datetime import datetime\n",
    "import pprint"
   ]
  },
  {
   "cell_type": "code",
   "execution_count": 2,
   "metadata": {},
   "outputs": [],
   "source": [
    "def convert2ampm(time24: str) -> str:\n",
    "    return datetime.strptime(time24, '%H:%M').strftime('%I:%M%p')"
   ]
  },
  {
   "cell_type": "code",
   "execution_count": 3,
   "metadata": {},
   "outputs": [],
   "source": [
    "with open('chapter12_buzzers.csv') as data:\n",
    "    ignore = data.readline()\n",
    "    flights = {}\n",
    "    for line in data:\n",
    "        k, v = line.strip().split(',')\n",
    "        flights[k] = v"
   ]
  },
  {
   "cell_type": "code",
   "execution_count": 4,
   "metadata": {},
   "outputs": [
    {
     "name": "stdout",
     "output_type": "stream",
     "text": [
      "{'09:35': 'FREEPORT',\n",
      " '09:55': 'WEST END',\n",
      " '10:45': 'TREASURE CAY',\n",
      " '11:45': 'ROCK SOUND',\n",
      " '12:00': 'TREASURE CAY',\n",
      " '17:00': 'FREEPORT',\n",
      " '17:55': 'ROCK SOUND',\n",
      " '19:00': 'WEST END'}\n"
     ]
    }
   ],
   "source": [
    "pprint.pprint(flights)"
   ]
  },
  {
   "cell_type": "code",
   "execution_count": 5,
   "metadata": {},
   "outputs": [],
   "source": [
    "fts = {convert2ampm(k): v.title() for k, v in flights.items()}"
   ]
  },
  {
   "cell_type": "code",
   "execution_count": 6,
   "metadata": {},
   "outputs": [
    {
     "name": "stdout",
     "output_type": "stream",
     "text": [
      "{'05:00PM': 'Freeport',\n",
      " '05:55PM': 'Rock Sound',\n",
      " '07:00PM': 'West End',\n",
      " '09:35AM': 'Freeport',\n",
      " '09:55AM': 'West End',\n",
      " '10:45AM': 'Treasure Cay',\n",
      " '11:45AM': 'Rock Sound',\n",
      " '12:00PM': 'Treasure Cay'}\n"
     ]
    }
   ],
   "source": [
    "pprint.pprint(fts)"
   ]
  },
  {
   "cell_type": "code",
   "execution_count": 7,
   "metadata": {},
   "outputs": [],
   "source": [
    "wests = []\n",
    "for k, v in fts.items():\n",
    "    if v == 'West End':\n",
    "        wests.append(k)"
   ]
  },
  {
   "cell_type": "code",
   "execution_count": 8,
   "metadata": {},
   "outputs": [
    {
     "name": "stdout",
     "output_type": "stream",
     "text": [
      "['09:55AM', '07:00PM']\n"
     ]
    }
   ],
   "source": [
    "print(wests)"
   ]
  },
  {
   "cell_type": "code",
   "execution_count": 9,
   "metadata": {},
   "outputs": [],
   "source": [
    "dests = set(fts.values())"
   ]
  },
  {
   "cell_type": "code",
   "execution_count": 10,
   "metadata": {},
   "outputs": [
    {
     "name": "stdout",
     "output_type": "stream",
     "text": [
      "{'Rock Sound', 'Treasure Cay', 'West End', 'Freeport'}\n"
     ]
    }
   ],
   "source": [
    "print(dests)"
   ]
  },
  {
   "cell_type": "code",
   "execution_count": 11,
   "metadata": {},
   "outputs": [],
   "source": [
    "wests2 = [k for k, v in fts.items() if v == 'West End']"
   ]
  },
  {
   "cell_type": "code",
   "execution_count": 12,
   "metadata": {},
   "outputs": [
    {
     "name": "stdout",
     "output_type": "stream",
     "text": [
      "['09:55AM', '07:00PM']\n"
     ]
    }
   ],
   "source": [
    "print(wests2)"
   ]
  },
  {
   "cell_type": "code",
   "execution_count": 13,
   "metadata": {},
   "outputs": [
    {
     "name": "stdout",
     "output_type": "stream",
     "text": [
      "Rock Sound -> ['11:45AM', '05:55PM']\n",
      "Treasure Cay -> ['10:45AM', '12:00PM']\n",
      "West End -> ['09:55AM', '07:00PM']\n",
      "Freeport -> ['09:35AM', '05:00PM']\n"
     ]
    }
   ],
   "source": [
    "for dest in set(fts.values()):\n",
    "    print(dest, '->', [k for k, v in fts.items() if v == dest])"
   ]
  },
  {
   "cell_type": "code",
   "execution_count": 14,
   "metadata": {},
   "outputs": [],
   "source": [
    "when = {}\n",
    "for dest in set(fts.values()):\n",
    "    when[dest] = [k for k, v in fts.items() if v == dest]"
   ]
  },
  {
   "cell_type": "code",
   "execution_count": 15,
   "metadata": {},
   "outputs": [
    {
     "name": "stdout",
     "output_type": "stream",
     "text": [
      "{'Freeport': ['09:35AM', '05:00PM'],\n",
      " 'Rock Sound': ['11:45AM', '05:55PM'],\n",
      " 'Treasure Cay': ['10:45AM', '12:00PM'],\n",
      " 'West End': ['09:55AM', '07:00PM']}\n"
     ]
    }
   ],
   "source": [
    "pprint.pprint(when)"
   ]
  },
  {
   "cell_type": "code",
   "execution_count": 16,
   "metadata": {},
   "outputs": [],
   "source": [
    "when2 = {dest: [k for k, v in fts.items() if v == dest] for dest in set(fts.values())}"
   ]
  },
  {
   "cell_type": "code",
   "execution_count": 17,
   "metadata": {},
   "outputs": [
    {
     "name": "stdout",
     "output_type": "stream",
     "text": [
      "{'Freeport': ['09:35AM', '05:00PM'],\n",
      " 'Rock Sound': ['11:45AM', '05:55PM'],\n",
      " 'Treasure Cay': ['10:45AM', '12:00PM'],\n",
      " 'West End': ['09:55AM', '07:00PM']}\n"
     ]
    }
   ],
   "source": [
    "pprint.pprint(when2)"
   ]
  },
  {
   "cell_type": "code",
   "execution_count": null,
   "metadata": {},
   "outputs": [],
   "source": []
  }
 ],
 "metadata": {
  "kernelspec": {
   "display_name": "Python 3",
   "language": "python",
   "name": "python3"
  },
  "language_info": {
   "codemirror_mode": {
    "name": "ipython",
    "version": 3
   },
   "file_extension": ".py",
   "mimetype": "text/x-python",
   "name": "python",
   "nbconvert_exporter": "python",
   "pygments_lexer": "ipython3",
   "version": "3.7.7"
  }
 },
 "nbformat": 4,
 "nbformat_minor": 4
}
