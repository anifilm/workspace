{
 "cells": [
  {
   "cell_type": "markdown",
   "metadata": {},
   "source": [
    "### 대리자 소개"
   ]
  },
  {
   "cell_type": "code",
   "execution_count": null,
   "metadata": {
    "dotnet_interactive": {
     "language": "csharp"
    },
    "polyglot_notebook": {
     "kernelName": "csharp"
    },
    "vscode": {
     "languageId": "csharp"
    }
   },
   "outputs": [],
   "source": [
    "public delegate void SingleStringDelegate(string dataString);\n",
    "\n",
    "private static void AssignData(string dataString) {\n",
    "    globalString = dataString;\n",
    "}\n",
    "\n",
    "private static void WriteToConsole(string dataText) {\n",
    "    Console.WriteLine(dataText);\n",
    "}\n",
    "\n",
    "SingleStringDelegate delegate1 = AssignData;\n",
    "SingleStringDelegate delegate2 = WriteToConsole;"
   ]
  },
  {
   "cell_type": "markdown",
   "metadata": {},
   "source": [
    "간단한 대리자"
   ]
  },
  {
   "cell_type": "code",
   "execution_count": null,
   "metadata": {
    "dotnet_interactive": {
     "language": "csharp"
    },
    "polyglot_notebook": {
     "kernelName": "csharp"
    },
    "vscode": {
     "languageId": "csharp"
    }
   },
   "outputs": [],
   "source": [
    "private delegate int AreaCalculatorDelegate(int x, int y);\n",
    "\n",
    "static int Rectangle(int a, int b) {\n",
    "    return a * b;\n",
    "}\n",
    "\n",
    "static int Square(int x, int y) {\n",
    "    return x * y;\n",
    "}\n",
    "\n",
    "AreaCalculatorDelegate rect = Rectangle;\n",
    "AreaCalculatorDelegate sqr = Square;\n",
    "\n",
    "int i = rect(1, 2);\n",
    "int j = sqr(2, 3);\n",
    "\n",
    "Console.WriteLine(\"i = \" + i);\n",
    "Console.WriteLine(\"j = \" + j);"
   ]
  },
  {
   "cell_type": "markdown",
   "metadata": {},
   "source": [
    "멀티캐스트 대리자"
   ]
  },
  {
   "cell_type": "code",
   "execution_count": null,
   "metadata": {
    "dotnet_interactive": {
     "language": "csharp"
    },
    "polyglot_notebook": {
     "kernelName": "csharp"
    },
    "vscode": {
     "languageId": "csharp"
    }
   },
   "outputs": [],
   "source": [
    "private delegate void CalculatorDelegate(int a, int b);\n",
    "\n",
    "private static void Add(int x, int y) {\n",
    "    Console.WriteLine(\"{0} + {1} = {2}\", x, y, x + y);\n",
    "}\n",
    "\n",
    "private static void Subtract(int x, int y) {\n",
    "    Console.WriteLine(\"{0} - {1} = {2}\", x, y, x - y);\n",
    "}\n",
    "\n",
    "private static void Multiply(int x, int y) {\n",
    "    Console.WriteLine(\"{0} * {1} = {2}\", x, y, x * y);\n",
    "}\n",
    "\n",
    "private static void Division(int x, int y) {\n",
    "    Console.WriteLine(\"{0} / {1} = {2}\", x, y, x / y);\n",
    "}"
   ]
  },
  {
   "cell_type": "code",
   "execution_count": null,
   "metadata": {
    "dotnet_interactive": {
     "language": "csharp"
    },
    "polyglot_notebook": {
     "kernelName": "csharp"
    },
    "vscode": {
     "languageId": "csharp"
    }
   },
   "outputs": [],
   "source": [
    "private static void CombineDelegate() {\n",
    "    CalculatorDelegate calcMultiples = (CalculatorDelegate)Delegate.Combine(\n",
    "        new CalculatorDelegate[] { Add, Subtract, Multiply, Division }\n",
    "    );\n",
    "    Delegate[] calcList = calcMultiples.GetInvocationList();\n",
    "    Console.WriteLine(\"Total delegates in calcMultiples: {0}\", calcList.Length);\n",
    "    calcMultiples(6, 3);\n",
    "}\n",
    "\n",
    "CombineDelegate();"
   ]
  },
  {
   "cell_type": "code",
   "execution_count": null,
   "metadata": {
    "dotnet_interactive": {
     "language": "csharp"
    },
    "polyglot_notebook": {
     "kernelName": "csharp"
    },
    "vscode": {
     "languageId": "csharp"
    }
   },
   "outputs": [],
   "source": [
    "private static void RemoveDelegate() {\n",
    "    CalculatorDelegate addDel = Add;\n",
    "    CalculatorDelegate subDel = Subtract;\n",
    "    CalculatorDelegate mulDel = Multiply;\n",
    "    CalculatorDelegate divDel = Division;\n",
    "\n",
    "    CalculatorDelegate calcDelegates1 = (CalculatorDelegate)Delegate.Combine(addDel, subDel);\n",
    "    CalculatorDelegate calcDelegates2 = (CalculatorDelegate)Delegate.Combine(calcDelegates1, mulDel);\n",
    "    CalculatorDelegate calcDelegates3 = (CalculatorDelegate)Delegate.Combine(calcDelegates2, divDel);\n",
    "\n",
    "    Console.WriteLine(\"Total delegates in calcDelegates3: {0}\", calcDelegates3.GetInvocationList().Length);\n",
    "    calcDelegates3(6, 3);\n",
    "\n",
    "    CalculatorDelegate calcDelegates4 = (CalculatorDelegate)Delegate.Remove(calcDelegates3, mulDel);\n",
    "\n",
    "    Console.WriteLine(\"Total delegates in calcDelegates4: {0}\", calcDelegates4.GetInvocationList().Length);\n",
    "    calcDelegates4(6, 3);\n",
    "}\n",
    "\n",
    "RemoveDelegate();"
   ]
  },
  {
   "cell_type": "code",
   "execution_count": null,
   "metadata": {
    "dotnet_interactive": {
     "language": "csharp"
    },
    "polyglot_notebook": {
     "kernelName": "csharp"
    },
    "vscode": {
     "languageId": "csharp"
    }
   },
   "outputs": [],
   "source": [
    "private static void DuplicateEntries() {\n",
    "    CalculatorDelegate addDel = Add;\n",
    "    CalculatorDelegate subDel = Subtract;\n",
    "    CalculatorDelegate mulDel = Multiply;\n",
    "\n",
    "    CalculatorDelegate duplicateDelegates1 = (CalculatorDelegate)Delegate.Combine(addDel, subDel);\n",
    "    CalculatorDelegate duplicateDelegates2 = (CalculatorDelegate)Delegate.Combine(duplicateDelegates1, mulDel);\n",
    "    CalculatorDelegate duplicateDelegates3 = (CalculatorDelegate)Delegate.Combine(duplicateDelegates2, subDel);\n",
    "    CalculatorDelegate duplicateDelegates4 = (CalculatorDelegate)Delegate.Combine(duplicateDelegates3, addDel);\n",
    "\n",
    "    Console.WriteLine(\"Total delegates in duplicateDelegates4: {0}\", duplicateDelegates4.GetInvocationList().Length);\n",
    "    duplicateDelegates4(6, 3);\n",
    "}\n",
    "\n",
    "DuplicateEntries();"
   ]
  },
  {
   "cell_type": "markdown",
   "metadata": {},
   "source": [
    "+=과 -= 연산자 이용하기"
   ]
  },
  {
   "cell_type": "code",
   "execution_count": null,
   "metadata": {
    "dotnet_interactive": {
     "language": "csharp"
    },
    "polyglot_notebook": {
     "kernelName": "csharp"
    },
    "vscode": {
     "languageId": "csharp"
    }
   },
   "outputs": [],
   "source": [
    "private static void AddSubtractDelegate() {\n",
    "    CalculatorDelegate addDel = Add;\n",
    "    CalculatorDelegate subDel = Subtract;\n",
    "    CalculatorDelegate mulDel = Multiply;\n",
    "    CalculatorDelegate divDel = Division;\n",
    "\n",
    "    CalculatorDelegate multiDel = addDel + subDel;\n",
    "    multiDel += mulDel;\n",
    "    multiDel += divDel;\n",
    "\n",
    "    Console.WriteLine(\"Invoking multiDel delegate (four methods):\");\n",
    "    multiDel(8, 2);\n",
    "\n",
    "    multiDel = multiDel - subDel;\n",
    "    multiDel -= mulDel;\n",
    "\n",
    "    Console.WriteLine(\"Invoking multiDel delegate (four methods):\");\n",
    "    multiDel(8, 2);\n",
    "}\n",
    "\n",
    "AddSubtractDelegate();"
   ]
  }
 ],
 "metadata": {
  "kernelspec": {
   "display_name": ".NET (C#)",
   "language": "C#",
   "name": ".net-csharp"
  },
  "language_info": {
   "file_extension": ".cs",
   "mimetype": "text/x-csharp",
   "name": "C#",
   "pygments_lexer": "csharp",
   "version": "11.0"
  },
  "polyglot_notebook": {
   "kernelInfo": {
    "defaultKernelName": "csharp",
    "items": [
     {
      "aliases": [],
      "name": "csharp"
     }
    ]
   }
  }
 },
 "nbformat": 4,
 "nbformat_minor": 2
}
