{
 "cells": [
  {
   "cell_type": "markdown",
   "metadata": {},
   "source": [
    "### 내장 대리자\n",
    "\n",
    "제네릭 대리자"
   ]
  },
  {
   "cell_type": "code",
   "execution_count": null,
   "metadata": {
    "dotnet_interactive": {
     "language": "csharp"
    },
    "polyglot_notebook": {
     "kernelName": "csharp"
    },
    "vscode": {
     "languageId": "csharp"
    }
   },
   "outputs": [],
   "source": [
    "private delegate T FormulaDelegate<T>(T a, T b);\n",
    "\n",
    "private static int AddInt(int x, int y) {\n",
    "    return x + y;\n",
    "}\n",
    "\n",
    "private static double AddDouble(double x, double y) {\n",
    "    return x + y;\n",
    "}"
   ]
  },
  {
   "cell_type": "code",
   "execution_count": null,
   "metadata": {
    "dotnet_interactive": {
     "language": "csharp"
    },
    "polyglot_notebook": {
     "kernelName": "csharp"
    },
    "vscode": {
     "languageId": "csharp"
    }
   },
   "outputs": [],
   "source": [
    "private static void GenericDelegateInvoke() {\n",
    "    FormulaDelegate<int> intAddition = AddInt;\n",
    "    FormulaDelegate<double> doubleAddition = AddDouble;\n",
    "\n",
    "    Console.WriteLine(\"Invoking intAddition(2, 3)\");\n",
    "    Console.WriteLine(\"Result = {0}\", intAddition(2, 3));\n",
    "\n",
    "    Console.WriteLine(\"Invoking doubleAddition(2.2, 3.5)\");\n",
    "    Console.WriteLine(\"Result = {0}\", doubleAddition(2.2, 3.5));\n",
    "}\n",
    "\n",
    "GenericDelegateInvoke();"
   ]
  },
  {
   "cell_type": "code",
   "execution_count": null,
   "metadata": {
    "dotnet_interactive": {
     "language": "csharp"
    },
    "polyglot_notebook": {
     "kernelName": "csharp"
    },
    "vscode": {
     "languageId": "csharp"
    }
   },
   "outputs": [],
   "source": [
    "private delegate void AdditionDelegate<T1, T2>(T1 value1, T2 value2);\n",
    "\n",
    "private static void AddIntDouble(int x, double y) {\n",
    "    Console.WriteLine(\"int {0} + double {1} = {2}\", x, y, x + y);\n",
    "}\n",
    "\n",
    "private static void AddFloatDouble(float x, double y) {\n",
    "    Console.WriteLine(\"float {0} + double {1} = {2}\", x, y, x + y);\n",
    "}"
   ]
  },
  {
   "cell_type": "code",
   "execution_count": null,
   "metadata": {
    "dotnet_interactive": {
     "language": "csharp"
    },
    "polyglot_notebook": {
     "kernelName": "csharp"
    },
    "vscode": {
     "languageId": "csharp"
    }
   },
   "outputs": [],
   "source": [
    "private static void VoidDeletageInvoke() {\n",
    "    AdditionDelegate<int, double> intDoubleAdd = AddIntDouble;\n",
    "    AdditionDelegate<float, double> floatDoubleAdd = AddFloatDouble;\n",
    "\n",
    "    Console.WriteLine(\"Invoking intDoubleAdd delegate\");\n",
    "    intDoubleAdd(1, 2.5);\n",
    "\n",
    "    Console.WriteLine(\"Invoking floatDoubleAdd delegate\");\n",
    "    floatDoubleAdd((float)1.2, 4.3);\n",
    "}\n",
    "\n",
    "VoidDeletageInvoke();"
   ]
  },
  {
   "cell_type": "code",
   "execution_count": 1,
   "metadata": {
    "dotnet_interactive": {
     "language": "csharp"
    },
    "polyglot_notebook": {
     "kernelName": "csharp"
    },
    "vscode": {
     "languageId": "csharp"
    }
   },
   "outputs": [
    {
     "data": {
      "text/html": [
       "\r\n",
       "<div>\r\n",
       "    <div id='dotnet-interactive-this-cell-41620.Microsoft.DotNet.Interactive.Http.HttpPort' style='display: none'>\r\n",
       "        The below script needs to be able to find the current output cell; this is an easy method to get it.\r\n",
       "    </div>\r\n",
       "    <script type='text/javascript'>\r\n",
       "async function probeAddresses(probingAddresses) {\r\n",
       "    function timeout(ms, promise) {\r\n",
       "        return new Promise(function (resolve, reject) {\r\n",
       "            setTimeout(function () {\r\n",
       "                reject(new Error('timeout'))\r\n",
       "            }, ms)\r\n",
       "            promise.then(resolve, reject)\r\n",
       "        })\r\n",
       "    }\r\n",
       "\r\n",
       "    if (Array.isArray(probingAddresses)) {\r\n",
       "        for (let i = 0; i < probingAddresses.length; i++) {\r\n",
       "\r\n",
       "            let rootUrl = probingAddresses[i];\r\n",
       "\r\n",
       "            if (!rootUrl.endsWith('/')) {\r\n",
       "                rootUrl = `${rootUrl}/`;\r\n",
       "            }\r\n",
       "\r\n",
       "            try {\r\n",
       "                let response = await timeout(1000, fetch(`${rootUrl}discovery`, {\r\n",
       "                    method: 'POST',\r\n",
       "                    cache: 'no-cache',\r\n",
       "                    mode: 'cors',\r\n",
       "                    timeout: 1000,\r\n",
       "                    headers: {\r\n",
       "                        'Content-Type': 'text/plain'\r\n",
       "                    },\r\n",
       "                    body: probingAddresses[i]\r\n",
       "                }));\r\n",
       "\r\n",
       "                if (response.status == 200) {\r\n",
       "                    return rootUrl;\r\n",
       "                }\r\n",
       "            }\r\n",
       "            catch (e) { }\r\n",
       "        }\r\n",
       "    }\r\n",
       "}\r\n",
       "\r\n",
       "function loadDotnetInteractiveApi() {\r\n",
       "    probeAddresses([\"http://192.168.0.36:2049/\", \"http://127.0.0.1:2049/\"])\r\n",
       "        .then((root) => {\r\n",
       "        // use probing to find host url and api resources\r\n",
       "        // load interactive helpers and language services\r\n",
       "        let dotnetInteractiveRequire = require.config({\r\n",
       "        context: '41620.Microsoft.DotNet.Interactive.Http.HttpPort',\r\n",
       "                paths:\r\n",
       "            {\r\n",
       "                'dotnet-interactive': `${root}resources`\r\n",
       "                }\r\n",
       "        }) || require;\r\n",
       "\r\n",
       "            window.dotnetInteractiveRequire = dotnetInteractiveRequire;\r\n",
       "\r\n",
       "            window.configureRequireFromExtension = function(extensionName, extensionCacheBuster) {\r\n",
       "                let paths = {};\r\n",
       "                paths[extensionName] = `${root}extensions/${extensionName}/resources/`;\r\n",
       "                \r\n",
       "                let internalRequire = require.config({\r\n",
       "                    context: extensionCacheBuster,\r\n",
       "                    paths: paths,\r\n",
       "                    urlArgs: `cacheBuster=${extensionCacheBuster}`\r\n",
       "                    }) || require;\r\n",
       "\r\n",
       "                return internalRequire\r\n",
       "            };\r\n",
       "        \r\n",
       "            dotnetInteractiveRequire([\r\n",
       "                    'dotnet-interactive/dotnet-interactive'\r\n",
       "                ],\r\n",
       "                function (dotnet) {\r\n",
       "                    dotnet.init(window);\r\n",
       "                },\r\n",
       "                function (error) {\r\n",
       "                    console.log(error);\r\n",
       "                }\r\n",
       "            );\r\n",
       "        })\r\n",
       "        .catch(error => {console.log(error);});\r\n",
       "    }\r\n",
       "\r\n",
       "// ensure `require` is available globally\r\n",
       "if ((typeof(require) !==  typeof(Function)) || (typeof(require.config) !== typeof(Function))) {\r\n",
       "    let require_script = document.createElement('script');\r\n",
       "    require_script.setAttribute('src', 'https://cdnjs.cloudflare.com/ajax/libs/require.js/2.3.6/require.min.js');\r\n",
       "    require_script.setAttribute('type', 'text/javascript');\r\n",
       "    \r\n",
       "    \r\n",
       "    require_script.onload = function() {\r\n",
       "        loadDotnetInteractiveApi();\r\n",
       "    };\r\n",
       "\r\n",
       "    document.getElementsByTagName('head')[0].appendChild(require_script);\r\n",
       "}\r\n",
       "else {\r\n",
       "    loadDotnetInteractiveApi();\r\n",
       "}\r\n",
       "\r\n",
       "    </script>\r\n",
       "</div>"
      ]
     },
     "metadata": {},
     "output_type": "display_data"
    }
   ],
   "source": [
    "private delegate TResult AddAndConvert<T1, T2, TResult>(T1 value1, T2 value2);"
   ]
  },
  {
   "cell_type": "code",
   "execution_count": 2,
   "metadata": {
    "dotnet_interactive": {
     "language": "csharp"
    },
    "polyglot_notebook": {
     "kernelName": "csharp"
    },
    "vscode": {
     "languageId": "csharp"
    }
   },
   "outputs": [],
   "source": [
    "private static float AddIntDoubleAndConvert(int x, double y) {\n",
    "    float result = (float)(x + y);\n",
    "    Console.WriteLine(\"(int) {0} + (double) {1} = (float) {2}\", x, y, result);\n",
    "    return result;\n",
    "}\n",
    "\n",
    "private static int AddFloatDoubleConvert(float x, double y) {\n",
    "    int result = (int)(x + y);\n",
    "    Console.WriteLine(\"(float) {0} + (double) {1} = (int) {2}\", x, y, result);\n",
    "    return result;\n",
    "}"
   ]
  },
  {
   "cell_type": "code",
   "execution_count": 5,
   "metadata": {
    "dotnet_interactive": {
     "language": "csharp"
    },
    "polyglot_notebook": {
     "kernelName": "csharp"
    },
    "vscode": {
     "languageId": "csharp"
    }
   },
   "outputs": [
    {
     "name": "stdout",
     "output_type": "stream",
     "text": [
      "Invoking intDoubleAddAndConvert delegate\n",
      "(int) 5 + (double) 3.9 = (float) 8.9\n",
      "Invoking floatDoubleAddAndConvert delegate\n",
      "(float) 4.3 + (double) 2.1 = (int) 6\n"
     ]
    }
   ],
   "source": [
    "private static void ReturnValueDelegateInvoke() {\n",
    "    AddAndConvert<int, double, float> intDoubleAddConvertToFloat = AddIntDoubleAndConvert;\n",
    "    AddAndConvert<float, double, int> floatDoubleAddConvertToInt = AddFloatDoubleConvert;\n",
    "\n",
    "    Console.WriteLine(\"Invoking intDoubleAddAndConvert delegate\");\n",
    "    float f = intDoubleAddConvertToFloat(5, 3.9);\n",
    "\n",
    "    Console.WriteLine(\"Invoking floatDoubleAddAndConvert delegate\");\n",
    "    int i = floatDoubleAddConvertToInt((float)4.3, 2.1);\n",
    "}\n",
    "\n",
    "ReturnValueDelegateInvoke();"
   ]
  },
  {
   "cell_type": "markdown",
   "metadata": {},
   "source": [
    "Action과 Func"
   ]
  },
  {
   "cell_type": "code",
   "execution_count": 6,
   "metadata": {
    "dotnet_interactive": {
     "language": "csharp"
    },
    "polyglot_notebook": {
     "kernelName": "csharp"
    },
    "vscode": {
     "languageId": "csharp"
    }
   },
   "outputs": [],
   "source": [
    "private delegate void AdditionDelegate<T1, T2>(T1 value1, T2 value2);"
   ]
  },
  {
   "cell_type": "code",
   "execution_count": null,
   "metadata": {
    "dotnet_interactive": {
     "language": "csharp"
    },
    "polyglot_notebook": {
     "kernelName": "csharp"
    },
    "vscode": {
     "languageId": "csharp"
    }
   },
   "outputs": [],
   "source": [
    "private static void ActionDelegateInvoke() {\n",
    "    AdditionDelegate<int, double> intDoubleAdd = AddIntDouble;\n",
    "    AdditionDelegate<float, double> floatDoubleAdd = AddFloatDouble;\n",
    "\n",
    "    Console.WriteLine(\"Invoking intDoubleAdd delegate\");\n",
    "    intDoubleAdd(1, 2.5);\n",
    "\n",
    "    Console.WriteLine(\"Invoking floatDoubleAdd delegate\");\n",
    "    floatDoubleAdd((float)1.2, 4.3);\n",
    "}"
   ]
  }
 ],
 "metadata": {
  "kernelspec": {
   "display_name": ".NET (C#)",
   "language": "C#",
   "name": ".net-csharp"
  },
  "language_info": {
   "file_extension": ".cs",
   "mimetype": "text/x-csharp",
   "name": "C#",
   "pygments_lexer": "csharp",
   "version": "11.0"
  },
  "polyglot_notebook": {
   "kernelInfo": {
    "defaultKernelName": "csharp",
    "items": [
     {
      "aliases": [],
      "name": "csharp"
     }
    ]
   }
  }
 },
 "nbformat": 4,
 "nbformat_minor": 2
}
