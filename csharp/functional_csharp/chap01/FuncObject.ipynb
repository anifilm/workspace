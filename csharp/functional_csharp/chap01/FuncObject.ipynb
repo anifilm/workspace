{
 "cells": [
  {
   "cell_type": "markdown",
   "metadata": {},
   "source": [
    "### 함수형 프로그래밍의 개념\n",
    "\n",
    "퍼스트 클래스 함수와 고차 함수"
   ]
  },
  {
   "cell_type": "code",
   "execution_count": 7,
   "metadata": {
    "vscode": {
     "languageId": "csharp"
    }
   },
   "outputs": [
    {
     "name": "stdout",
     "output_type": "stream",
     "text": [
      "3\n",
      "3\n"
     ]
    }
   ],
   "source": [
    "Func<int, int> f = (x) => x + 2;\n",
    "int i = f(1);\n",
    "Console.WriteLine(i);\n",
    "\n",
    "f = (x) => 2 * x + 1;\n",
    "i = f(1);\n",
    "Console.WriteLine(i);"
   ]
  },
  {
   "cell_type": "markdown",
   "metadata": {},
   "source": [
    "함수 값"
   ]
  },
  {
   "cell_type": "code",
   "execution_count": 2,
   "metadata": {
    "vscode": {
     "languageId": "csharp"
    }
   },
   "outputs": [
    {
     "data": {
      "text/html": [
       "<div class=\"dni-plaintext\"><pre>4</pre></div><style>\r\n",
       ".dni-code-hint {\r\n",
       "    font-style: italic;\r\n",
       "    overflow: hidden;\r\n",
       "    white-space: nowrap;\r\n",
       "}\r\n",
       ".dni-treeview {\r\n",
       "    white-space: nowrap;\r\n",
       "}\r\n",
       ".dni-treeview td {\r\n",
       "    vertical-align: top;\r\n",
       "    text-align: start;\r\n",
       "}\r\n",
       "details.dni-treeview {\r\n",
       "    padding-left: 1em;\r\n",
       "}\r\n",
       "table td {\r\n",
       "    text-align: start;\r\n",
       "}\r\n",
       "table tr { \r\n",
       "    vertical-align: top; \r\n",
       "    margin: 0em 0px;\r\n",
       "}\r\n",
       "table tr td pre \r\n",
       "{ \r\n",
       "    vertical-align: top !important; \r\n",
       "    margin: 0em 0px !important;\r\n",
       "} \r\n",
       "table th {\r\n",
       "    text-align: start;\r\n",
       "}\r\n",
       "</style>"
      ]
     },
     "execution_count": 2,
     "metadata": {},
     "output_type": "execute_result"
    }
   ],
   "source": [
    "delegate int DoubleAction(int inp);\n",
    "\n",
    "static int Double(int input) {\n",
    "    return input * 2;\n",
    "}\n",
    "\n",
    "DoubleAction doubleAction = Double;\n",
    "int doubleValue = doubleAction(2);\n",
    "\n",
    "doubleValue"
   ]
  },
  {
   "cell_type": "code",
   "execution_count": 3,
   "metadata": {
    "vscode": {
     "languageId": "csharp"
    }
   },
   "outputs": [
    {
     "data": {
      "text/html": [
       "<div class=\"dni-plaintext\"><pre>4</pre></div><style>\r\n",
       ".dni-code-hint {\r\n",
       "    font-style: italic;\r\n",
       "    overflow: hidden;\r\n",
       "    white-space: nowrap;\r\n",
       "}\r\n",
       ".dni-treeview {\r\n",
       "    white-space: nowrap;\r\n",
       "}\r\n",
       ".dni-treeview td {\r\n",
       "    vertical-align: top;\r\n",
       "    text-align: start;\r\n",
       "}\r\n",
       "details.dni-treeview {\r\n",
       "    padding-left: 1em;\r\n",
       "}\r\n",
       "table td {\r\n",
       "    text-align: start;\r\n",
       "}\r\n",
       "table tr { \r\n",
       "    vertical-align: top; \r\n",
       "    margin: 0em 0px;\r\n",
       "}\r\n",
       "table tr td pre \r\n",
       "{ \r\n",
       "    vertical-align: top !important; \r\n",
       "    margin: 0em 0px !important;\r\n",
       "} \r\n",
       "table th {\r\n",
       "    text-align: start;\r\n",
       "}\r\n",
       "</style>"
      ]
     },
     "execution_count": 3,
     "metadata": {},
     "output_type": "execute_result"
    }
   ],
   "source": [
    "Func<int, int> doubleFunc = i => i * 2;\n",
    "int doubleValue = doubleFunc(2);\n",
    "\n",
    "doubleValue"
   ]
  },
  {
   "cell_type": "code",
   "execution_count": 8,
   "metadata": {
    "vscode": {
     "languageId": "csharp"
    }
   },
   "outputs": [
    {
     "name": "stdout",
     "output_type": "stream",
     "text": [
      "3\n"
     ]
    }
   ],
   "source": [
    "int i = f(1);\n",
    "f = (x) => 2 * x + 1;\n",
    "i = f(1);\n",
    "Console.WriteLine(i);"
   ]
  },
  {
   "cell_type": "markdown",
   "metadata": {},
   "source": [
    "순수 함수"
   ]
  },
  {
   "cell_type": "code",
   "execution_count": 7,
   "metadata": {
    "vscode": {
     "languageId": "csharp"
    }
   },
   "outputs": [
    {
     "name": "stdout",
     "output_type": "stream",
     "text": [
      "First Second Third\n"
     ]
    }
   ],
   "source": [
    "// 비 순수 함수 예제 (1)\n",
    "private static string strValue = \"First\";\n",
    "\n",
    "public static void AddSpace(string str) {\n",
    "    strValue += \" \" + str;\n",
    "}\n",
    "\n",
    "AddSpace(\"Second\");\n",
    "AddSpace(\"Third\");\n",
    "Console.WriteLine(strValue);"
   ]
  },
  {
   "cell_type": "code",
   "execution_count": 1,
   "metadata": {
    "vscode": {
     "languageId": "csharp"
    }
   },
   "outputs": [
    {
     "data": {
      "text/html": [
       "\r\n",
       "<div>\r\n",
       "    <div id='dotnet-interactive-this-cell-15344.Microsoft.DotNet.Interactive.Http.HttpPort' style='display: none'>\r\n",
       "        The below script needs to be able to find the current output cell; this is an easy method to get it.\r\n",
       "    </div>\r\n",
       "    <script type='text/javascript'>\r\n",
       "async function probeAddresses(probingAddresses) {\r\n",
       "    function timeout(ms, promise) {\r\n",
       "        return new Promise(function (resolve, reject) {\r\n",
       "            setTimeout(function () {\r\n",
       "                reject(new Error('timeout'))\r\n",
       "            }, ms)\r\n",
       "            promise.then(resolve, reject)\r\n",
       "        })\r\n",
       "    }\r\n",
       "\r\n",
       "    if (Array.isArray(probingAddresses)) {\r\n",
       "        for (let i = 0; i < probingAddresses.length; i++) {\r\n",
       "\r\n",
       "            let rootUrl = probingAddresses[i];\r\n",
       "\r\n",
       "            if (!rootUrl.endsWith('/')) {\r\n",
       "                rootUrl = `${rootUrl}/`;\r\n",
       "            }\r\n",
       "\r\n",
       "            try {\r\n",
       "                let response = await timeout(1000, fetch(`${rootUrl}discovery`, {\r\n",
       "                    method: 'POST',\r\n",
       "                    cache: 'no-cache',\r\n",
       "                    mode: 'cors',\r\n",
       "                    timeout: 1000,\r\n",
       "                    headers: {\r\n",
       "                        'Content-Type': 'text/plain'\r\n",
       "                    },\r\n",
       "                    body: probingAddresses[i]\r\n",
       "                }));\r\n",
       "\r\n",
       "                if (response.status == 200) {\r\n",
       "                    return rootUrl;\r\n",
       "                }\r\n",
       "            }\r\n",
       "            catch (e) { }\r\n",
       "        }\r\n",
       "    }\r\n",
       "}\r\n",
       "\r\n",
       "function loadDotnetInteractiveApi() {\r\n",
       "    probeAddresses([\"http://192.168.0.36:2048/\", \"http://127.0.0.1:2048/\"])\r\n",
       "        .then((root) => {\r\n",
       "        // use probing to find host url and api resources\r\n",
       "        // load interactive helpers and language services\r\n",
       "        let dotnetInteractiveRequire = require.config({\r\n",
       "        context: '15344.Microsoft.DotNet.Interactive.Http.HttpPort',\r\n",
       "                paths:\r\n",
       "            {\r\n",
       "                'dotnet-interactive': `${root}resources`\r\n",
       "                }\r\n",
       "        }) || require;\r\n",
       "\r\n",
       "            window.dotnetInteractiveRequire = dotnetInteractiveRequire;\r\n",
       "\r\n",
       "            window.configureRequireFromExtension = function(extensionName, extensionCacheBuster) {\r\n",
       "                let paths = {};\r\n",
       "                paths[extensionName] = `${root}extensions/${extensionName}/resources/`;\r\n",
       "                \r\n",
       "                let internalRequire = require.config({\r\n",
       "                    context: extensionCacheBuster,\r\n",
       "                    paths: paths,\r\n",
       "                    urlArgs: `cacheBuster=${extensionCacheBuster}`\r\n",
       "                    }) || require;\r\n",
       "\r\n",
       "                return internalRequire\r\n",
       "            };\r\n",
       "        \r\n",
       "            dotnetInteractiveRequire([\r\n",
       "                    'dotnet-interactive/dotnet-interactive'\r\n",
       "                ],\r\n",
       "                function (dotnet) {\r\n",
       "                    dotnet.init(window);\r\n",
       "                },\r\n",
       "                function (error) {\r\n",
       "                    console.log(error);\r\n",
       "                }\r\n",
       "            );\r\n",
       "        })\r\n",
       "        .catch(error => {console.log(error);});\r\n",
       "    }\r\n",
       "\r\n",
       "// ensure `require` is available globally\r\n",
       "if ((typeof(require) !==  typeof(Function)) || (typeof(require.config) !== typeof(Function))) {\r\n",
       "    let require_script = document.createElement('script');\r\n",
       "    require_script.setAttribute('src', 'https://cdnjs.cloudflare.com/ajax/libs/require.js/2.3.6/require.min.js');\r\n",
       "    require_script.setAttribute('type', 'text/javascript');\r\n",
       "    \r\n",
       "    \r\n",
       "    require_script.onload = function() {\r\n",
       "        loadDotnetInteractiveApi();\r\n",
       "    };\r\n",
       "\r\n",
       "    document.getElementsByTagName('head')[0].appendChild(require_script);\r\n",
       "}\r\n",
       "else {\r\n",
       "    loadDotnetInteractiveApi();\r\n",
       "}\r\n",
       "\r\n",
       "    </script>\r\n",
       "</div>"
      ]
     },
     "metadata": {},
     "output_type": "display_data"
    },
    {
     "name": "stdout",
     "output_type": "stream",
     "text": [
      "First Second Third\n"
     ]
    }
   ],
   "source": [
    "// 비 순수 함수 예제 (2)\n",
    "public static void AddSpace(StringBuilder sb, string str) {\n",
    "    sb.Append(\" \" + str);\n",
    "}\n",
    "\n",
    "StringBuilder sb1 = new StringBuilder(\"First\");\n",
    "AddSpace(sb1, \"Second\");\n",
    "AddSpace(sb1, \"Third\");\n",
    "Console.WriteLine(sb1);"
   ]
  },
  {
   "cell_type": "code",
   "execution_count": 2,
   "metadata": {
    "vscode": {
     "languageId": "csharp"
    }
   },
   "outputs": [
    {
     "name": "stdout",
     "output_type": "stream",
     "text": [
      "First Second Third\n"
     ]
    }
   ],
   "source": [
    "// 순수 함수 예제 (리팩토링)\n",
    "public static string AddSpace(string strSource, string str) {\n",
    "    return (strSource + \" \" + str);\n",
    "}\n",
    "\n",
    "string str1 = \"First\";\n",
    "string str2 = AddSpace(str1, \"Second\");\n",
    "string str3 = AddSpace(str2, \"Third\");\n",
    "Console.WriteLine(str3);"
   ]
  },
  {
   "cell_type": "markdown",
   "metadata": {},
   "source": [
    "재귀 함수"
   ]
  },
  {
   "cell_type": "code",
   "execution_count": 3,
   "metadata": {
    "vscode": {
     "languageId": "csharp"
    }
   },
   "outputs": [],
   "source": [
    "private static int GetFactorial(int intNumber) {\n",
    "    if (intNumber == 0) {\n",
    "        return 1;\n",
    "    }\n",
    "    return intNumber * GetFactorial(intNumber - 1);\n",
    "}"
   ]
  },
  {
   "cell_type": "code",
   "execution_count": 4,
   "metadata": {
    "vscode": {
     "languageId": "csharp"
    }
   },
   "outputs": [
    {
     "name": "stdout",
     "output_type": "stream",
     "text": [
      "Enter an integer number (Imperative approach)\n",
      "7! is 5040\n"
     ]
    }
   ],
   "source": [
    "Console.WriteLine(\"Enter an integer number (Imperative approach)\");\n",
    "//int inputNumber = Convert.ToInt32(Console.ReadLine());\n",
    "int inputNumber = 7;\n",
    "int factorialNumber = GetFactorial(inputNumber);\n",
    "Console.WriteLine(\"{0}! is {1}\", inputNumber, factorialNumber);"
   ]
  },
  {
   "cell_type": "code",
   "execution_count": 10,
   "metadata": {
    "vscode": {
     "languageId": "csharp"
    }
   },
   "outputs": [
    {
     "name": "stdout",
     "output_type": "stream",
     "text": [
      "Enter an integer number (Imperative approach)\n",
      "7! is 5040\n"
     ]
    }
   ],
   "source": [
    "Console.WriteLine(\"Enter an integer number (Imperative approach)\");\n",
    "//int inputNumber = Convert.ToInt32(Console.ReadLine());\n",
    "int inputNumber = 7;\n",
    "IEnumerable<int> ints = Enumerable.Range(1, inputNumber);\n",
    "int factorialNumber = ints.Aggregate((f, s) => f * s);\n",
    "Console.WriteLine(\"{0}! is {1}\", inputNumber, factorialNumber);"
   ]
  },
  {
   "cell_type": "markdown",
   "metadata": {},
   "source": [
    "### C#과 함수형 프로그래밍\n",
    "\n",
    "수학적 개념을 이용한 함수형 프로그래밍 이해"
   ]
  },
  {
   "cell_type": "code",
   "execution_count": 3,
   "metadata": {
    "vscode": {
     "languageId": "csharp"
    }
   },
   "outputs": [],
   "source": [
    "public static int f(int x) {\n",
    "    return (4 * x * x - 14 * x - 8);\n",
    "}"
   ]
  },
  {
   "cell_type": "code",
   "execution_count": 4,
   "metadata": {
    "vscode": {
     "languageId": "csharp"
    }
   },
   "outputs": [
    {
     "name": "stdout",
     "output_type": "stream",
     "text": [
      "22\n"
     ]
    }
   ],
   "source": [
    "int i = f(5);\n",
    "Console.WriteLine(i);"
   ]
  },
  {
   "cell_type": "code",
   "execution_count": 5,
   "metadata": {
    "vscode": {
     "languageId": "csharp"
    }
   },
   "outputs": [],
   "source": [
    "static int i = 0;\n",
    "\n",
    "static void increment() {\n",
    "    i++;\n",
    "}\n",
    "\n",
    "static void set(int inpSet) {\n",
    "    i = inpSet;\n",
    "}"
   ]
  },
  {
   "cell_type": "code",
   "execution_count": 9,
   "metadata": {
    "vscode": {
     "languageId": "csharp"
    }
   },
   "outputs": [
    {
     "name": "stdout",
     "output_type": "stream",
     "text": [
      "First increment(), i = 8\n",
      "Second increment(), i = 7\n",
      "Last increment(), i = 3\n"
     ]
    }
   ],
   "source": [
    "increment();\n",
    "Console.WriteLine(\"First increment(), i = {0}\", i);\n",
    "\n",
    "set(6);\n",
    "increment();\n",
    "Console.WriteLine(\"Second increment(), i = {0}\", i);\n",
    "\n",
    "set(2);\n",
    "increment();\n",
    "Console.WriteLine(\"Last increment(), i = {0}\", i);"
   ]
  },
  {
   "cell_type": "code",
   "execution_count": 10,
   "metadata": {
    "vscode": {
     "languageId": "csharp"
    }
   },
   "outputs": [],
   "source": [
    "public static string GetSign(int val) {\n",
    "    string posOrNeg;\n",
    "\n",
    "    if (val > 0) {\n",
    "        posOrNeg = \"positive\";\n",
    "    } else {\n",
    "        posOrNeg = \"negative\";\n",
    "    }\n",
    "\n",
    "    return posOrNeg;\n",
    "}"
   ]
  },
  {
   "cell_type": "code",
   "execution_count": 11,
   "metadata": {
    "vscode": {
     "languageId": "csharp"
    }
   },
   "outputs": [
    {
     "name": "stdout",
     "output_type": "stream",
     "text": [
      "Sign of -15 is negative\n"
     ]
    }
   ],
   "source": [
    "Console.WriteLine(\"Sign of -15 is {0}\", GetSign(-15));"
   ]
  },
  {
   "cell_type": "code",
   "execution_count": 12,
   "metadata": {
    "vscode": {
     "languageId": "csharp"
    }
   },
   "outputs": [],
   "source": [
    "public static string GetSign(int val) {\n",
    "    return (val > 0) ? \"positive\" : \"negative\";\n",
    "}"
   ]
  },
  {
   "cell_type": "code",
   "execution_count": 13,
   "metadata": {
    "vscode": {
     "languageId": "csharp"
    }
   },
   "outputs": [],
   "source": [
    "static List<int> NthImperative(List<int> list, int n) {\n",
    "    var result = new List<int>();\n",
    "    for (int i = 0; i < list.Count; i++) {\n",
    "        if (i % n == 0) {\n",
    "            result.Add(list[i]);\n",
    "        }\n",
    "    }\n",
    "    return result;\n",
    "}"
   ]
  },
  {
   "cell_type": "code",
   "execution_count": 14,
   "metadata": {
    "vscode": {
     "languageId": "csharp"
    }
   },
   "outputs": [],
   "source": [
    "static List<int> NthFunctional(List<int> list, int n) {\n",
    "    return list.Where((x, i) => i % n == 0).ToList();\n",
    "}"
   ]
  },
  {
   "cell_type": "code",
   "execution_count": 17,
   "metadata": {
    "vscode": {
     "languageId": "csharp"
    }
   },
   "outputs": [],
   "source": [
    "static void PrintIntList(string titleHeader, List<int> list) {\n",
    "    Console.WriteLine(String.Format(\"{0}\", titleHeader));\n",
    "    foreach (int i in list) {\n",
    "        Console.Write(String.Format(\"{0}\\t\", i));\n",
    "    }\n",
    "    Console.WriteLine();\n",
    "}"
   ]
  },
  {
   "cell_type": "code",
   "execution_count": 18,
   "metadata": {
    "vscode": {
     "languageId": "csharp"
    }
   },
   "outputs": [
    {
     "name": "stdout",
     "output_type": "stream",
     "text": [
      "Nth Imperative\n",
      "0\t3\t6\t9\t12\t15\t\n",
      "Nth Functional\n",
      "0\t3\t6\t9\t12\t15\t\n"
     ]
    }
   ],
   "source": [
    "List<int> listing = new List<int> { 0, 1, 2, 3, 4, 5, 6, 7, 8, 9, 10, 11, 12, 13, 14, 15, 16 };\n",
    "\n",
    "var list3rd_imper = NthImperative(listing, 3);\n",
    "PrintIntList(\"Nth Imperative\", list3rd_imper);\n",
    "\n",
    "var list3rd_funct = NthFunctional(listing, 3);\n",
    "PrintIntList(\"Nth Functional\", list3rd_funct);"
   ]
  },
  {
   "cell_type": "markdown",
   "metadata": {},
   "source": [
    "함수형 C#에 튜플 적용하기"
   ]
  },
  {
   "cell_type": "code",
   "execution_count": 29,
   "metadata": {
    "vscode": {
     "languageId": "csharp"
    }
   },
   "outputs": [],
   "source": [
    "private static Tuple<string, int, int> geometry1 = new Tuple<string, int, int>(\"Rectangle\", 2, 3);\n",
    "private static Tuple<string, int, int> geometry2 = Tuple.Create<string, int, int>(\"Square\", 4, 4);"
   ]
  },
  {
   "cell_type": "code",
   "execution_count": 30,
   "metadata": {
    "vscode": {
     "languageId": "csharp"
    }
   },
   "outputs": [
    {
     "name": "stdout",
     "output_type": "stream",
     "text": [
      "Rectangle has size 2 x 3\n",
      "Square has size 4 x 4\n"
     ]
    }
   ],
   "source": [
    "Console.WriteLine(\"{0} has size {1} x {2}\", geometry1.Item1, geometry1.Item2, geometry1.Item3);\n",
    "Console.WriteLine(\"{0} has size {1} x {2}\", geometry2.Item1, geometry2.Item2, geometry2.Item3);"
   ]
  },
  {
   "cell_type": "code",
   "execution_count": 21,
   "metadata": {
    "vscode": {
     "languageId": "csharp"
    }
   },
   "outputs": [],
   "source": [
    "private static Tuple<int, int> GetSize(string shape) {\n",
    "    if (shape == \"Rectangle\") {\n",
    "        return Tuple.Create(2, 3);\n",
    "    } else if (shape == \"Square\") {\n",
    "        return Tuple.Create(2, 2);\n",
    "    } else {\n",
    "        return Tuple.Create(0, 0);\n",
    "    }\n",
    "}"
   ]
  },
  {
   "cell_type": "code",
   "execution_count": 28,
   "metadata": {
    "vscode": {
     "languageId": "csharp"
    }
   },
   "outputs": [
    {
     "name": "stdout",
     "output_type": "stream",
     "text": [
      "Rectangle has size 2 x 3\n",
      "Square has size 2 x 2\n"
     ]
    }
   ],
   "source": [
    "private static void ReturnTuple() {\n",
    "    var rect = GetSize(\"Rectangle\");\n",
    "    Console.WriteLine(\"Rectangle has size {0} x {1}\", rect.Item1, rect.Item2);\n",
    "\n",
    "    var square = GetSize(\"Square\");\n",
    "    Console.WriteLine(\"Square has size {0} x {1}\", square.Item1, square.Item2);\n",
    "}\n",
    "\n",
    "ReturnTuple();"
   ]
  },
  {
   "cell_type": "code",
   "execution_count": 23,
   "metadata": {
    "vscode": {
     "languageId": "csharp"
    }
   },
   "outputs": [],
   "source": [
    "(int, int) GetSizeInCS7(string shape) {\n",
    "    if (shape == \"Rectangle\") {\n",
    "        return (2, 3);\n",
    "    } else if (shape == \"Square\") {\n",
    "        return (2, 2);\n",
    "    } else {\n",
    "        return (0, 0);\n",
    "    }\n",
    "}"
   ]
  },
  {
   "cell_type": "code",
   "execution_count": 25,
   "metadata": {
    "vscode": {
     "languageId": "csharp"
    }
   },
   "outputs": [],
   "source": [
    "private static (int x, int y) GetSizeNamedItem(string shape) {\n",
    "    if (shape == \"Rectangle\") {\n",
    "        return (2, 3);\n",
    "    } else if (shape == \"Square\") {\n",
    "        return (2, 2);\n",
    "    } else {\n",
    "        return (0, 0);\n",
    "    }\n",
    "}"
   ]
  },
  {
   "cell_type": "code",
   "execution_count": 27,
   "metadata": {
    "vscode": {
     "languageId": "csharp"
    }
   },
   "outputs": [
    {
     "name": "stdout",
     "output_type": "stream",
     "text": [
      "Rectangle has size 2 x 3\n",
      "Square has size 2 x 2\n"
     ]
    }
   ],
   "source": [
    "private static void ConsumeTupleByItemName() {\n",
    "    var rect = GetSizeNamedItem(\"Rectangle\");\n",
    "    Console.WriteLine(\"Rectangle has size {0} x {1}\", rect.Item1, rect.Item2);\n",
    "\n",
    "    var square = GetSizeNamedItem(\"Square\");\n",
    "    Console.WriteLine(\"Square has size {0} x {1}\", square.Item1, square.Item2);\n",
    "}\n",
    "\n",
    "ConsumeTupleByItemName();"
   ]
  },
  {
   "cell_type": "markdown",
   "metadata": {},
   "source": [
    "C#의 커링"
   ]
  },
  {
   "cell_type": "code",
   "execution_count": 31,
   "metadata": {
    "vscode": {
     "languageId": "csharp"
    }
   },
   "outputs": [],
   "source": [
    "public static int NonCurriedAdd(int a, int b) => a + b;"
   ]
  },
  {
   "cell_type": "code",
   "execution_count": 32,
   "metadata": {
    "vscode": {
     "languageId": "csharp"
    }
   },
   "outputs": [
    {
     "name": "stdout",
     "output_type": "stream",
     "text": [
      "5\n"
     ]
    }
   ],
   "source": [
    "int add = NonCurriedAdd(2, 3);\n",
    "Console.WriteLine(add);"
   ]
  },
  {
   "cell_type": "code",
   "execution_count": 33,
   "metadata": {
    "vscode": {
     "languageId": "csharp"
    }
   },
   "outputs": [],
   "source": [
    "public static Func<int, int> CurriedAdd(int a) => b => a + b;"
   ]
  },
  {
   "cell_type": "code",
   "execution_count": 34,
   "metadata": {
    "vscode": {
     "languageId": "csharp"
    }
   },
   "outputs": [
    {
     "name": "stdout",
     "output_type": "stream",
     "text": [
      "5\n"
     ]
    }
   ],
   "source": [
    "int add = CurriedAdd(2)(3);\n",
    "Console.WriteLine(add);"
   ]
  },
  {
   "cell_type": "code",
   "execution_count": 36,
   "metadata": {
    "vscode": {
     "languageId": "csharp"
    }
   },
   "outputs": [
    {
     "name": "stdout",
     "output_type": "stream",
     "text": [
      "5\n"
     ]
    }
   ],
   "source": [
    "public static void CurriedStyle2() {\n",
    "    var addition = CurriedAdd(2);\n",
    "    int x = addition(3);\n",
    "    Console.WriteLine(x);\n",
    "}\n",
    "\n",
    "CurriedStyle2();"
   ]
  },
  {
   "cell_type": "markdown",
   "metadata": {},
   "source": [
    "파이프라인"
   ]
  },
  {
   "cell_type": "code",
   "execution_count": 38,
   "metadata": {
    "vscode": {
     "languageId": "csharp"
    }
   },
   "outputs": [
    {
     "name": "stdout",
     "output_type": "stream",
     "text": [
      "pipelining\n"
     ]
    }
   ],
   "source": [
    "Console.WriteLine(Encoding.UTF8.GetString(new byte[] { 0x70, 0x69, 0x70, 0x65, 0x6C, 0x69, 0x6E, 0x69, 0x6E, 0x67 }));"
   ]
  },
  {
   "cell_type": "code",
   "execution_count": 39,
   "metadata": {
    "vscode": {
     "languageId": "csharp"
    }
   },
   "outputs": [
    {
     "name": "stdout",
     "output_type": "stream",
     "text": [
      "pipelining\n"
     ]
    }
   ],
   "source": [
    "var bytes = new byte[] { 0x70, 0x69, 0x70, 0x65, 0x6C, 0x69, 0x6E, 0x69, 0x6E, 0x67 };\n",
    "var stringFromBytes = Encoding.UTF8.GetString(bytes);\n",
    "Console.WriteLine(stringFromBytes);"
   ]
  },
  {
   "cell_type": "markdown",
   "metadata": {},
   "source": [
    "메서드 체인"
   ]
  },
  {
   "cell_type": "code",
   "execution_count": 40,
   "metadata": {
    "vscode": {
     "languageId": "csharp"
    }
   },
   "outputs": [
    {
     "name": "stdout",
     "output_type": "stream",
     "text": [
      "Number: 0123456789\n"
     ]
    }
   ],
   "source": [
    "var sb = new StringBuilder(\"0123\", 10);\n",
    "sb.Append(new char[] { '4', '5', '6' });\n",
    "sb.AppendFormat(\"{0}{1}{2}\", 7, 8, 9);\n",
    "sb.Insert(0, \"number: \");\n",
    "sb.Replace('n', 'N');\n",
    "var str = sb.ToString();\n",
    "Console.WriteLine(str);"
   ]
  },
  {
   "cell_type": "code",
   "execution_count": 41,
   "metadata": {
    "vscode": {
     "languageId": "csharp"
    }
   },
   "outputs": [
    {
     "name": "stdout",
     "output_type": "stream",
     "text": [
      "Number: 0123456789\n"
     ]
    }
   ],
   "source": [
    "var str = new StringBuilder(\"0123\", 10)\n",
    "    .Append(new char[] { '4', '5', '6' })\n",
    "    .AppendFormat(\"{0}{1}{2}\", 7, 8, 9)\n",
    "    .Insert(0, \"number: \")\n",
    "    .Replace('n', 'N')\n",
    "    .ToString();\n",
    "Console.WriteLine(str);"
   ]
  }
 ],
 "metadata": {
  "kernelspec": {
   "display_name": ".NET (C#)",
   "language": "C#",
   "name": ".net-csharp"
  },
  "language_info": {
   "file_extension": ".cs",
   "mimetype": "text/x-csharp",
   "name": "C#",
   "pygments_lexer": "csharp",
   "version": "11.0"
  }
 },
 "nbformat": 4,
 "nbformat_minor": 2
}
