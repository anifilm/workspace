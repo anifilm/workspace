{
 "cells": [
  {
   "attachments": {},
   "cell_type": "markdown",
   "metadata": {},
   "source": [
    "25.3 StringBuilder 클래스를 사용하요 문자열 연결하기"
   ]
  },
  {
   "cell_type": "code",
   "execution_count": 2,
   "metadata": {
    "vscode": {
     "languageId": "csharp"
    }
   },
   "outputs": [
    {
     "data": {
      "text/html": [
       "<details open=\"open\" class=\"dni-treeview\"><summary><span class=\"dni-code-hint\"><code>January\\nFebruary\\nMarch</code></span></summary><div><table><thead><tr></tr></thead><tbody><tr><td>Capacity</td><td><div class=\"dni-plaintext\"><pre>32</pre></div></td></tr><tr><td>MaxCapacity</td><td><div class=\"dni-plaintext\"><pre>2147483647</pre></div></td></tr><tr><td>Length</td><td><div class=\"dni-plaintext\"><pre>24</pre></div></td></tr></tbody></table></div></details><style>\r\n",
       ".dni-code-hint {\r\n",
       "    font-style: italic;\r\n",
       "    overflow: hidden;\r\n",
       "    white-space: nowrap;\r\n",
       "}\r\n",
       ".dni-treeview {\r\n",
       "    white-space: nowrap;\r\n",
       "}\r\n",
       ".dni-treeview td {\r\n",
       "    vertical-align: top;\r\n",
       "    text-align: start;\r\n",
       "}\r\n",
       "details.dni-treeview {\r\n",
       "    padding-left: 1em;\r\n",
       "}\r\n",
       "table td {\r\n",
       "    text-align: start;\r\n",
       "}\r\n",
       "table tr { \r\n",
       "    vertical-align: top; \r\n",
       "    margin: 0em 0px;\r\n",
       "}\r\n",
       "table tr td pre \r\n",
       "{ \r\n",
       "    vertical-align: top !important; \r\n",
       "    margin: 0em 0px !important;\r\n",
       "} \r\n",
       "table th {\r\n",
       "    text-align: start;\r\n",
       "}\r\n",
       "</style>"
      ]
     },
     "execution_count": 2,
     "metadata": {},
     "output_type": "execute_result"
    }
   ],
   "source": [
    "// StringBuilder 클래스의 Append() 메서드로 문자열 연결하기\n",
    "using System.Text;\n",
    "\n",
    "StringBuilder sb = new StringBuilder(); // [1] StringBuilder 클래스의 인스턴스 생성\n",
    "\n",
    "sb.Append(\"January\\n\"); // [2] Append() 메서드로 문자열 추가\n",
    "sb.Append(\"February\\n\");\n",
    "sb.AppendLine(\"March\");\n",
    "\n",
    "sb\n"
   ]
  },
  {
   "cell_type": "code",
   "execution_count": 3,
   "metadata": {
    "vscode": {
     "languageId": "csharp"
    }
   },
   "outputs": [
    {
     "data": {
      "text/plain": [
       "January\n",
       "February\n",
       "March\r\n"
      ]
     },
     "execution_count": 3,
     "metadata": {},
     "output_type": "execute_result"
    }
   ],
   "source": [
    "sb.ToString() // [3] ToString() 메서드로 문자열로 출력"
   ]
  },
  {
   "cell_type": "code",
   "execution_count": 7,
   "metadata": {
    "vscode": {
     "languageId": "csharp"
    }
   },
   "outputs": [
    {
     "data": {
      "text/plain": [
       "StringBuilder 클래스를 사용한 메서드 체이닝"
      ]
     },
     "execution_count": 7,
     "metadata": {},
     "output_type": "execute_result"
    }
   ],
   "source": [
    "// 메서드 체이니으로 StringBuilder 클래스의 여러 메서드 호출하기\n",
    "using System.Text;\n",
    "\n",
    "var message = new StringBuilder()\n",
    "    .AppendFormat(\"{0} 클래스를 사용한 \", nameof(StringBuilder))\n",
    "    .Append(\"메서드 \")\n",
    "    .Append(\"체이닝 \")\n",
    "    .ToString()\n",
    "    .Trim();\n",
    "\n",
    "message"
   ]
  },
  {
   "cell_type": "code",
   "execution_count": 8,
   "metadata": {
    "vscode": {
     "languageId": "csharp"
    }
   },
   "outputs": [
    {
     "data": {
      "text/plain": [
       "<script>window.alert(\"2023\");</script>\r\n"
      ]
     },
     "execution_count": 8,
     "metadata": {},
     "output_type": "execute_result"
    }
   ],
   "source": [
    "// StringBuilder 클래스 사용하기\n",
    "using System.Text;\n",
    "\n",
    "StringBuilder sb = new StringBuilder();\n",
    "\n",
    "sb.Append(\"<script>\");\n",
    "sb.AppendFormat(\"window.alert(\\\"{0}\\\");\", DateTime.Now.Year);\n",
    "sb.AppendLine(\"</script>\");\n",
    "sb.ToString()"
   ]
  },
  {
   "cell_type": "code",
   "execution_count": 10,
   "metadata": {
    "vscode": {
     "languageId": "csharp"
    }
   },
   "outputs": [
    {
     "name": "stdout",
     "output_type": "stream",
     "text": [
      "219.013\n"
     ]
    }
   ],
   "source": [
    "// String과 StringBuidler 클래스의 성능 비교: StringPerformance.cs\n",
    "DateTime start = DateTime.Now;\n",
    "\n",
    "string msg = \"\";\n",
    "for (int i = 0; i < 10000; i++) {\n",
    "    msg += \"안녕하세요\";\n",
    "}\n",
    "\n",
    "DateTime end = DateTime.Now;\n",
    "double exec  = (end - start).TotalMilliseconds;\n",
    "Console.WriteLine(exec);"
   ]
  },
  {
   "cell_type": "code",
   "execution_count": 11,
   "metadata": {
    "vscode": {
     "languageId": "csharp"
    }
   },
   "outputs": [
    {
     "name": "stdout",
     "output_type": "stream",
     "text": [
      "0.1647\n"
     ]
    }
   ],
   "source": [
    "// StringBuilder 클래스의 Append() 메서드로 묶기: StringBuilderPerformance.cs\n",
    "DateTime start = DateTime.Now;\n",
    "\n",
    "StringBuilder sb = new StringBuilder();\n",
    "for (int i = 0; i < 10000; i++) {\n",
    "    sb.Append(\"안녕하세요.\");\n",
    "}\n",
    "\n",
    "DateTime end = DateTime.Now;\n",
    "double exec  = (end - start).TotalMilliseconds;\n",
    "Console.WriteLine(exec);"
   ]
  }
 ],
 "metadata": {
  "kernelspec": {
   "display_name": ".NET (C#)",
   "language": "C#",
   "name": ".net-csharp"
  },
  "language_info": {
   "file_extension": ".cs",
   "mimetype": "text/x-csharp",
   "name": "C#",
   "pygments_lexer": "csharp",
   "version": "11.0"
  },
  "orig_nbformat": 4
 },
 "nbformat": 4,
 "nbformat_minor": 2
}
