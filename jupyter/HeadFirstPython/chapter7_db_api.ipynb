{
 "cells": [
  {
   "cell_type": "code",
   "execution_count": 4,
   "metadata": {},
   "outputs": [],
   "source": [
    "dbconfig = { 'host': '127.0.0.1', \n",
    "             'user': 'vsearch',\n",
    "             'password': 'vsearchpasswd',\n",
    "             'database': 'vsearchlogDB', }"
   ]
  },
  {
   "cell_type": "code",
   "execution_count": 5,
   "metadata": {},
   "outputs": [],
   "source": [
    "import mysql.connector"
   ]
  },
  {
   "cell_type": "code",
   "execution_count": 6,
   "metadata": {},
   "outputs": [],
   "source": [
    "conn = mysql.connector.connect(**dbconfig)"
   ]
  },
  {
   "cell_type": "code",
   "execution_count": 7,
   "metadata": {},
   "outputs": [],
   "source": [
    "cursor = conn.cursor()"
   ]
  },
  {
   "cell_type": "code",
   "execution_count": 12,
   "metadata": {},
   "outputs": [
    {
     "data": {
      "text/plain": [
       "[('log',)]"
      ]
     },
     "execution_count": 12,
     "metadata": {},
     "output_type": "execute_result"
    }
   ],
   "source": [
    "_SQL = \"\"\"show tables\"\"\"\n",
    "cursor.execute(_SQL)\n",
    "res = cursor.fetchall()\n",
    "res"
   ]
  },
  {
   "cell_type": "code",
   "execution_count": 14,
   "metadata": {},
   "outputs": [
    {
     "data": {
      "text/plain": [
       "[('id', 'int(11)', 'NO', 'PRI', None, 'auto_increment'),\n",
       " ('ts', 'timestamp', 'NO', '', 'current_timestamp()', ''),\n",
       " ('phrase', 'varchar(128)', 'NO', '', None, ''),\n",
       " ('letters', 'varchar(32)', 'NO', '', None, ''),\n",
       " ('ip', 'varchar(16)', 'NO', '', None, ''),\n",
       " ('browser_string', 'varchar(256)', 'NO', '', None, ''),\n",
       " ('results', 'varchar(64)', 'NO', '', None, '')]"
      ]
     },
     "execution_count": 14,
     "metadata": {},
     "output_type": "execute_result"
    }
   ],
   "source": [
    "_SQL = \"\"\"describe log\"\"\"\n",
    "cursor.execute(_SQL)\n",
    "res = cursor.fetchall()\n",
    "res"
   ]
  },
  {
   "cell_type": "code",
   "execution_count": 15,
   "metadata": {},
   "outputs": [
    {
     "name": "stdout",
     "output_type": "stream",
     "text": [
      "('id', 'int(11)', 'NO', 'PRI', None, 'auto_increment')\n",
      "('ts', 'timestamp', 'NO', '', 'current_timestamp()', '')\n",
      "('phrase', 'varchar(128)', 'NO', '', None, '')\n",
      "('letters', 'varchar(32)', 'NO', '', None, '')\n",
      "('ip', 'varchar(16)', 'NO', '', None, '')\n",
      "('browser_string', 'varchar(256)', 'NO', '', None, '')\n",
      "('results', 'varchar(64)', 'NO', '', None, '')\n"
     ]
    }
   ],
   "source": [
    "for row in res:\n",
    "    print(row)"
   ]
  },
  {
   "cell_type": "code",
   "execution_count": 16,
   "metadata": {},
   "outputs": [],
   "source": [
    "_SQL = \"\"\"insert into log\n",
    "          (phrase, letters, ip, browser_string, results)\n",
    "          values\n",
    "          ('hitch-hiker', 'aeiou', '127.0.0.1', 'Firefox', \"{'e', 'i'}\")\"\"\"\n",
    "cursor.execute(_SQL)"
   ]
  },
  {
   "cell_type": "code",
   "execution_count": 18,
   "metadata": {},
   "outputs": [],
   "source": [
    "_SQL = \"\"\"insert into log\n",
    "          (phrase, letters, ip, browser_string, results)\n",
    "          values\n",
    "          (%s, %s, %s, %s, %s)\"\"\"\n",
    "cursor.execute(_SQL, ('hitch-hiker', 'xyz', '127.0.0.1', 'Safari', 'set()'))"
   ]
  },
  {
   "cell_type": "code",
   "execution_count": 19,
   "metadata": {},
   "outputs": [
    {
     "name": "stdout",
     "output_type": "stream",
     "text": [
      "(1, datetime.datetime(2020, 8, 3, 12, 32, 52), 'hitch-hiker', 'aeiou', '127.0.0.1', 'Firefox', \"{'e', 'i'}\")\n",
      "(2, datetime.datetime(2020, 8, 3, 12, 35, 11), 'hitch-hiker', 'xyz', '127.0.0.1', 'Safari', 'set()')\n"
     ]
    }
   ],
   "source": [
    "conn.commit()\n",
    "_SQL = \"\"\"select * from log\"\"\"\n",
    "cursor.execute(_SQL)\n",
    "for row in cursor.fetchall():\n",
    "    print(row)"
   ]
  },
  {
   "cell_type": "code",
   "execution_count": 20,
   "metadata": {},
   "outputs": [
    {
     "data": {
      "text/plain": [
       "True"
      ]
     },
     "execution_count": 20,
     "metadata": {},
     "output_type": "execute_result"
    }
   ],
   "source": [
    "cursor.close()"
   ]
  },
  {
   "cell_type": "code",
   "execution_count": 21,
   "metadata": {},
   "outputs": [],
   "source": [
    "conn.close()"
   ]
  },
  {
   "cell_type": "code",
   "execution_count": null,
   "metadata": {},
   "outputs": [],
   "source": []
  }
 ],
 "metadata": {
  "kernelspec": {
   "display_name": "Python 3",
   "language": "python",
   "name": "python3"
  },
  "language_info": {
   "codemirror_mode": {
    "name": "ipython",
    "version": 3
   },
   "file_extension": ".py",
   "mimetype": "text/x-python",
   "name": "python",
   "nbconvert_exporter": "python",
   "pygments_lexer": "ipython3",
   "version": "3.7.7"
  }
 },
 "nbformat": 4,
 "nbformat_minor": 4
}
