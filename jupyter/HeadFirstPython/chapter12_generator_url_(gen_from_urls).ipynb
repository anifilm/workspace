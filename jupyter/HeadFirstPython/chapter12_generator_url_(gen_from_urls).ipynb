{
 "cells": [
  {
   "cell_type": "code",
   "execution_count": 2,
   "metadata": {},
   "outputs": [
    {
     "name": "stdout",
     "output_type": "stream",
     "text": [
      "13042 -> 200 -> https://www.google.com/\n",
      "51963 -> 200 -> https://www.oreilly.com/\n",
      "41555 -> 200 -> https://twitter.com/\n"
     ]
    }
   ],
   "source": [
    "from url_utils import gen_from_urls\n",
    "urls = ('https://google.com', 'https://oreilly.com', 'https://twitter.com')\n",
    "for resp_len, status, url in gen_from_urls(urls):\n",
    "    print(resp_len, '->', status, '->', url)"
   ]
  },
  {
   "cell_type": "code",
   "execution_count": 3,
   "metadata": {},
   "outputs": [],
   "source": [
    "urls_res = {url: size for size, _, url in gen_from_urls(urls)}"
   ]
  },
  {
   "cell_type": "code",
   "execution_count": 4,
   "metadata": {},
   "outputs": [
    {
     "name": "stdout",
     "output_type": "stream",
     "text": [
      "{'https://twitter.com/': 41556,\n",
      " 'https://www.google.com/': 13091,\n",
      " 'https://www.oreilly.com/': 51963}\n"
     ]
    }
   ],
   "source": [
    "import pprint\n",
    "pprint.pprint(urls_res)"
   ]
  },
  {
   "cell_type": "code",
   "execution_count": null,
   "metadata": {},
   "outputs": [],
   "source": []
  }
 ],
 "metadata": {
  "kernelspec": {
   "display_name": "Python 3",
   "language": "python",
   "name": "python3"
  },
  "language_info": {
   "codemirror_mode": {
    "name": "ipython",
    "version": 3
   },
   "file_extension": ".py",
   "mimetype": "text/x-python",
   "name": "python",
   "nbconvert_exporter": "python",
   "pygments_lexer": "ipython3",
   "version": "3.7.7"
  }
 },
 "nbformat": 4,
 "nbformat_minor": 4
}
