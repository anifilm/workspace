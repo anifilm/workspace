{
 "cells": [
  {
   "cell_type": "code",
   "execution_count": 1,
   "metadata": {},
   "outputs": [],
   "source": [
    "with open('chapter12_buzzers.csv') as data:\n",
    "    ignore = data.readline()\n",
    "    flights = {}\n",
    "    for line in data:\n",
    "        k, v = line.split(',')\n",
    "        flights[k] = v"
   ]
  },
  {
   "cell_type": "code",
   "execution_count": 2,
   "metadata": {},
   "outputs": [
    {
     "data": {
      "text/plain": [
       "{'09:35': 'FREEPORT\\n',\n",
       " '17:00': 'FREEPORT\\n',\n",
       " '09:55': 'WEST END\\n',\n",
       " '19:00': 'WEST END\\n',\n",
       " '10:45': 'TREASURE CAY\\n',\n",
       " '12:00': 'TREASURE CAY\\n',\n",
       " '11:45': 'ROCK SOUND\\n',\n",
       " '17:55': 'ROCK SOUND\\n'}"
      ]
     },
     "execution_count": 2,
     "metadata": {},
     "output_type": "execute_result"
    }
   ],
   "source": [
    "flights"
   ]
  },
  {
   "cell_type": "code",
   "execution_count": 3,
   "metadata": {},
   "outputs": [
    {
     "name": "stdout",
     "output_type": "stream",
     "text": [
      "{'09:35': 'FREEPORT\\n',\n",
      " '09:55': 'WEST END\\n',\n",
      " '10:45': 'TREASURE CAY\\n',\n",
      " '11:45': 'ROCK SOUND\\n',\n",
      " '12:00': 'TREASURE CAY\\n',\n",
      " '17:00': 'FREEPORT\\n',\n",
      " '17:55': 'ROCK SOUND\\n',\n",
      " '19:00': 'WEST END\\n'}\n"
     ]
    }
   ],
   "source": [
    "import pprint\n",
    "pprint.pprint(flights)"
   ]
  },
  {
   "cell_type": "code",
   "execution_count": null,
   "metadata": {},
   "outputs": [],
   "source": []
  }
 ],
 "metadata": {
  "kernelspec": {
   "display_name": "Python 3",
   "language": "python",
   "name": "python3"
  },
  "language_info": {
   "codemirror_mode": {
    "name": "ipython",
    "version": 3
   },
   "file_extension": ".py",
   "mimetype": "text/x-python",
   "name": "python",
   "nbconvert_exporter": "python",
   "pygments_lexer": "ipython3",
   "version": "3.7.7"
  }
 },
 "nbformat": 4,
 "nbformat_minor": 4
}
