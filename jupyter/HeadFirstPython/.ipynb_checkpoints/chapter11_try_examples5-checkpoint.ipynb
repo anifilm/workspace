{
 "cells": [
  {
   "cell_type": "code",
   "execution_count": null,
   "metadata": {},
   "outputs": [],
   "source": [
    "try:\n",
    "    with open('myfile.txt') as fh:\n",
    "        file_data = fh.read()\n",
    "    print(file_data)\n",
    "except FileNotFoundError:\n",
    "    print('The data file is missing.')\n",
    "except PermissionError:\n",
    "    print('This is now allowed.')\n",
    "except Exception as err:\n",
    "    # 모든 예외를 잡아 처리하는 핸들러, 다시 확인하기\n",
    "    print('Some other error occurred:', str(err))"
   ]
  }
 ],
 "metadata": {
  "kernelspec": {
   "display_name": "Python 3",
   "language": "python",
   "name": "python3"
  },
  "language_info": {
   "codemirror_mode": {
    "name": "ipython",
    "version": 3
   },
   "file_extension": ".py",
   "mimetype": "text/x-python",
   "name": "python",
   "nbconvert_exporter": "python",
   "pygments_lexer": "ipython3",
   "version": "3.7.7"
  }
 },
 "nbformat": 4,
 "nbformat_minor": 4
}
