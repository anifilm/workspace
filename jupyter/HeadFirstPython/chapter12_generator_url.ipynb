{
 "cells": [
  {
   "cell_type": "code",
   "execution_count": 4,
   "metadata": {},
   "outputs": [
    {
     "name": "stdout",
     "output_type": "stream",
     "text": [
      "13093 -> 200 -> https://www.google.com/\n",
      "51963 -> 200 -> https://www.oreilly.com/\n",
      "41555 -> 200 -> https://twitter.com/\n"
     ]
    }
   ],
   "source": [
    "import requests\n",
    "urls = ('https://google.com', 'https://oreilly.com', 'https://twitter.com')\n",
    "for resp in [requests.get(url) for url in urls]:\n",
    "    print(len(resp.content), '->', resp.status_code, '->', resp.url)"
   ]
  },
  {
   "cell_type": "code",
   "execution_count": 5,
   "metadata": {},
   "outputs": [
    {
     "name": "stdout",
     "output_type": "stream",
     "text": [
      "13062 -> 200 -> https://www.google.com/\n",
      "51963 -> 200 -> https://www.oreilly.com/\n",
      "41556 -> 200 -> https://twitter.com/\n"
     ]
    }
   ],
   "source": [
    "for resp in (requests.get(url) for url in urls):\n",
    "    print(len(resp.content), '->', resp.status_code, '->', resp.url)"
   ]
  },
  {
   "cell_type": "code",
   "execution_count": null,
   "metadata": {},
   "outputs": [],
   "source": []
  }
 ],
 "metadata": {
  "kernelspec": {
   "display_name": "Python 3",
   "language": "python",
   "name": "python3"
  },
  "language_info": {
   "codemirror_mode": {
    "name": "ipython",
    "version": 3
   },
   "file_extension": ".py",
   "mimetype": "text/x-python",
   "name": "python",
   "nbconvert_exporter": "python",
   "pygments_lexer": "ipython3",
   "version": "3.7.7"
  }
 },
 "nbformat": 4,
 "nbformat_minor": 4
}
