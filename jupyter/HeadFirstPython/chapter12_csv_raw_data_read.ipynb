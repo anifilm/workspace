{
 "cells": [
  {
   "cell_type": "code",
   "execution_count": 1,
   "metadata": {},
   "outputs": [],
   "source": [
    "import os\n",
    "os.chdir('./')"
   ]
  },
  {
   "cell_type": "code",
   "execution_count": 2,
   "metadata": {},
   "outputs": [
    {
     "name": "stdout",
     "output_type": "stream",
     "text": [
      "TIME,DESTINATION\n",
      "09:35,FREEPORT\n",
      "17:00,FREEPORT\n",
      "09:55,WEST END\n",
      "19:00,WEST END\n",
      "10:45,TREASURE CAY\n",
      "12:00,TREASURE CAY\n",
      "11:45,ROCK SOUND\n",
      "17:55,ROCK SOUND\n",
      "\n"
     ]
    }
   ],
   "source": [
    "with open('chapter12_buzzers.csv') as raw_data:\n",
    "    print(raw_data.read())"
   ]
  },
  {
   "cell_type": "code",
   "execution_count": null,
   "metadata": {},
   "outputs": [],
   "source": []
  }
 ],
 "metadata": {
  "kernelspec": {
   "display_name": "Python 3",
   "language": "python",
   "name": "python3"
  },
  "language_info": {
   "codemirror_mode": {
    "name": "ipython",
    "version": 3
   },
   "file_extension": ".py",
   "mimetype": "text/x-python",
   "name": "python",
   "nbconvert_exporter": "python",
   "pygments_lexer": "ipython3",
   "version": "3.7.7"
  }
 },
 "nbformat": 4,
 "nbformat_minor": 4
}
