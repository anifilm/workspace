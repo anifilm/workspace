{
 "cells": [
  {
   "attachments": {},
   "cell_type": "markdown",
   "metadata": {},
   "source": [
    "### 1. 화살표 함수\n"
   ]
  },
  {
   "attachments": {},
   "cell_type": "markdown",
   "metadata": {},
   "source": [
    "화살표 함수는 무엇인가요?\n"
   ]
  },
  {
   "cell_type": "code",
   "execution_count": null,
   "metadata": {},
   "outputs": [],
   "source": [
    "// Traditional function syntax\n",
    "function add(x, y) {\n",
    "  return x + y;\n",
    "}\n",
    "// Arrow function syntax\n",
    "const add = (x, y) => x + y;"
   ]
  },
  {
   "attachments": {},
   "cell_type": "markdown",
   "metadata": {},
   "source": [
    "화살표 함수의 장점\n"
   ]
  },
  {
   "cell_type": "code",
   "execution_count": null,
   "metadata": {},
   "outputs": [],
   "source": [
    "// 더 짧은 구문\n",
    "// Traditional function syntax\n",
    "function add(x, y) {\n",
    "  return x + y;\n",
    "}\n",
    "// Arrow function syntax\n",
    "const add = (x, y) => x + y;"
   ]
  },
  {
   "cell_type": "code",
   "execution_count": null,
   "metadata": {},
   "outputs": [],
   "source": [
    "// 암시적 반환\n",
    "// Traditional function syntax\n",
    "function multiply(x, y) {\n",
    "  return x * y;\n",
    "}\n",
    "// Arrow function syntax\n",
    "const multiply = (x, y) => x * y;"
   ]
  },
  {
   "cell_type": "code",
   "execution_count": null,
   "metadata": {},
   "outputs": [],
   "source": [
    "// \"this\" 바인딩\n",
    "// Traditional function syntax\n",
    "const myObj = {\n",
    "  name: 'John',\n",
    "  hello: function () {\n",
    "    console.log(`Hello, my name is ${this.name}`);\n",
    "  },\n",
    "};\n",
    "// Arrow function syntax\n",
    "const myObj = {\n",
    "  name: 'John',\n",
    "  hello: () => console.log(`Hello, my name is ${this.name}`),\n",
    "};"
   ]
  },
  {
   "cell_type": "code",
   "execution_count": null,
   "metadata": {},
   "outputs": [],
   "source": [
    "// arguments 바인딩 없음\n",
    "// Traditional function syntax\n",
    "function sum() {\n",
    "  let total = 0;\n",
    "  for (let i = 0; i < arguments.length; i++) {\n",
    "    total += arguments[i];\n",
    "  }\n",
    "}\n",
    "// Arrow function syntax\n",
    "const sum = (...args) => args.reduce((acc, val) => acc + val);"
   ]
  },
  {
   "attachments": {},
   "cell_type": "markdown",
   "metadata": {},
   "source": [
    "일반적인 사용 사례"
   ]
  },
  {
   "cell_type": "code",
   "execution_count": null,
   "metadata": {},
   "outputs": [],
   "source": [
    "// 콜백 함수\n",
    "const numbers = [1, 2, 3, 4, 5];\n",
    "// Traditional function syntax\n",
    "const squares1 = numbers.map(function (num) {\n",
    "  return num * num;\n",
    "});\n",
    "// Arrow function syntax\n",
    "const squares2 = numbers.map(num => num * num);"
   ]
  },
  {
   "cell_type": "code",
   "execution_count": null,
   "metadata": {},
   "outputs": [],
   "source": [
    "// 이벤트 핸들러\n",
    "const myBtn = document.querySelector('#myBtn');\n",
    "// Traditional function syntax\n",
    "myBtn.addEventListener('click', function (event) {\n",
    "  console.log('button was clicked');\n",
    "});\n",
    "// Arrow function syntax\n",
    "myBtn.addEventListener('click', event => console.log('button was clicked'));"
   ]
  },
  {
   "cell_type": "code",
   "execution_count": null,
   "metadata": {},
   "outputs": [],
   "source": [
    "// 프로미스\n",
    "// Traditional function syntax\n",
    "fetch('https://jsonplaceholder.typicode.com/users')\n",
    "  .then(function (response) {\n",
    "    return response.json();\n",
    "  })\n",
    "  .then(function (data) {\n",
    "    console.log(data);\n",
    "  });\n",
    "// Arrow function syntax\n",
    "fetch('https://jsonplaceholder.typicode.com/users')\n",
    "  .then(response => response.json())\n",
    "  .then(data => console.log(data));"
   ]
  },
  {
   "attachments": {},
   "cell_type": "markdown",
   "metadata": {},
   "source": [
    "연습 문제"
   ]
  },
  {
   "attachments": {},
   "cell_type": "markdown",
   "metadata": {},
   "source": [
    "###### 문제:"
   ]
  },
  {
   "cell_type": "code",
   "execution_count": null,
   "metadata": {},
   "outputs": [],
   "source": []
  }
 ],
 "metadata": {
  "kernelspec": {
   "display_name": "JavaScript",
   "language": "javascript",
   "name": "jslab"
  },
  "language_info": {
   "file_extension": ".js",
   "mimetype": "text/javascript",
   "name": "javascript",
   "version": ""
  },
  "orig_nbformat": 4
 },
 "nbformat": 4,
 "nbformat_minor": 2
}
