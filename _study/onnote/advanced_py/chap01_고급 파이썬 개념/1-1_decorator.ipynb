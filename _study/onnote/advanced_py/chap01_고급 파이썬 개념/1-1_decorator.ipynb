{
 "cells": [
  {
   "attachments": {},
   "cell_type": "markdown",
   "metadata": {},
   "source": [
    "### 1. 데코레이터"
   ]
  },
  {
   "attachments": {},
   "cell_type": "markdown",
   "metadata": {},
   "source": [
    "기본 예제"
   ]
  },
  {
   "cell_type": "code",
   "execution_count": 1,
   "metadata": {},
   "outputs": [
    {
     "name": "stdout",
     "output_type": "stream",
     "text": [
      "Before function execution.\n",
      "Inside function\n",
      "After function execution.\n"
     ]
    }
   ],
   "source": [
    "def my_decorator(func):\n",
    "    def wrapper():\n",
    "        print('Before function execution.')\n",
    "        func()\n",
    "        print('After function execution.')\n",
    "    return wrapper\n",
    "\n",
    "@my_decorator\n",
    "def show():\n",
    "    print('Inside function')\n",
    "\n",
    "show()"
   ]
  },
  {
   "attachments": {},
   "cell_type": "markdown",
   "metadata": {},
   "source": [
    "인수를 사용하여 함수 꾸미기"
   ]
  },
  {
   "cell_type": "code",
   "execution_count": 2,
   "metadata": {},
   "outputs": [
    {
     "name": "stdout",
     "output_type": "stream",
     "text": [
      "Before function execution.\n",
      "Hello, world!\n",
      "After function execution.\n"
     ]
    }
   ],
   "source": [
    "def my_decorator(func):\n",
    "    def wrapper(*args, **kwargs):\n",
    "        print('Before function execution.')\n",
    "        func(*args, **kwargs)\n",
    "        print('After function execution.')\n",
    "    return wrapper\n",
    "\n",
    "@my_decorator\n",
    "def show(message):\n",
    "    print(message)\n",
    "\n",
    "show('Hello, world!')"
   ]
  },
  {
   "attachments": {},
   "cell_type": "markdown",
   "metadata": {},
   "source": [
    "함수 메타데이터 보존"
   ]
  },
  {
   "cell_type": "code",
   "execution_count": 4,
   "metadata": {},
   "outputs": [
    {
     "name": "stdout",
     "output_type": "stream",
     "text": [
      "show\n",
      "This is a docstring\n"
     ]
    }
   ],
   "source": [
    "from functools import wraps\n",
    "\n",
    "def my_decorator(func):\n",
    "    @wraps(func)\n",
    "    def wrapper(*args, **kwargs):\n",
    "        print('Before function execution.')\n",
    "        func(*args, **kwargs)\n",
    "        print('After function execution.')\n",
    "    return wrapper\n",
    "\n",
    "@my_decorator\n",
    "def show(message):\n",
    "    '''This is a docstring'''\n",
    "    print(message)\n",
    "\n",
    "print(show.__name__)\n",
    "print(show.__doc__)"
   ]
  },
  {
   "attachments": {},
   "cell_type": "markdown",
   "metadata": {},
   "source": [
    "매개변수가 있는 데코레이터"
   ]
  },
  {
   "cell_type": "code",
   "execution_count": 6,
   "metadata": {},
   "outputs": [
    {
     "name": "stdout",
     "output_type": "stream",
     "text": [
      "Before function execution [0]\n",
      "Hello, world!\n",
      "After function execution [0]\n",
      "\n",
      "Before function execution [1]\n",
      "Hello, world!\n",
      "After function execution [1]\n",
      "\n",
      "Before function execution [2]\n",
      "Hello, world!\n",
      "After function execution [2]\n",
      "\n"
     ]
    }
   ],
   "source": [
    "def repeat(num):\n",
    "    def my_decorator(func):\n",
    "        @wraps(func)\n",
    "        def wrapper(*args, **kwargs):\n",
    "            for i in range(num):\n",
    "                print('Before function execution [{}]'.format(i))\n",
    "                func(*args, **kwargs)\n",
    "                print('After function execution [{}]\\n'.format(i))\n",
    "        return wrapper\n",
    "    return my_decorator\n",
    "\n",
    "@repeat(num=3)\n",
    "def show(message):\n",
    "    '''This is a docstring'''\n",
    "    print(message)\n",
    "\n",
    "show('Hello, world!')"
   ]
  },
  {
   "attachments": {},
   "cell_type": "markdown",
   "metadata": {},
   "source": [
    "클래스 메서드용 데코레이터"
   ]
  },
  {
   "cell_type": "code",
   "execution_count": 8,
   "metadata": {},
   "outputs": [
    {
     "name": "stdout",
     "output_type": "stream",
     "text": [
      "Before function execution.\n",
      "Hello, my name is Tom, and I am 27 years old.\n",
      "After function execution.\n"
     ]
    }
   ],
   "source": [
    "def my_decorator(func):\n",
    "    def wrapper(*args, **kwargs):\n",
    "        print('Before function execution.')\n",
    "        func(*args, **kwargs)\n",
    "        print('After function execution.')\n",
    "    return wrapper\n",
    "\n",
    "class Person:\n",
    "    def __init__(self, name, age):\n",
    "        self.name = name\n",
    "        self.age = age\n",
    "\n",
    "    @my_decorator\n",
    "    def say_hello(self):\n",
    "        print('Hello, my name is {}, and I am {} years old.'.format(self.name, self.age))\n",
    "\n",
    "p = Person('Tom', 27)\n",
    "p.say_hello()"
   ]
  },
  {
   "attachments": {},
   "cell_type": "markdown",
   "metadata": {},
   "source": [
    "연습 문제"
   ]
  },
  {
   "attachments": {},
   "cell_type": "markdown",
   "metadata": {},
   "source": [
    "###### 문제: 함수의 실행 시간을 측정하여 출력하는 'timer'라는 이름의 데코레이터를 만듭니다."
   ]
  },
  {
   "cell_type": "code",
   "execution_count": 9,
   "metadata": {},
   "outputs": [
    {
     "name": "stdout",
     "output_type": "stream",
     "text": [
      "Execution time of func is 1.0037815570831299\n"
     ]
    }
   ],
   "source": [
    "import time\n",
    "\n",
    "def timer(func):\n",
    "    def wrapper(*args, **kwargs):\n",
    "        start_time = time.time()\n",
    "        result = func(*args, **kwargs)\n",
    "        end_time = time.time()\n",
    "        print(f'Execution time of {func.__name__} is {end_time - start_time}')\n",
    "        return result\n",
    "    return wrapper\n",
    "\n",
    "# Sample function to be decorated\n",
    "@timer\n",
    "def func(): \n",
    "    time.sleep(1)\n",
    "\n",
    "# Calling the decorated function\n",
    "func()"
   ]
  },
  {
   "attachments": {},
   "cell_type": "markdown",
   "metadata": {},
   "source": [
    "###### 문제: 함수의 인수와 반환값을 기록하는 'logger'라는 이름의 데코레이터를 만드세요."
   ]
  },
  {
   "cell_type": "code",
   "execution_count": 10,
   "metadata": {},
   "outputs": [
    {
     "name": "stdout",
     "output_type": "stream",
     "text": [
      "Arguments: (1, 2), {}\n",
      "Return Value: 3\n"
     ]
    }
   ],
   "source": [
    "def logger(func):\n",
    "    def wrapper(*args, **kwargs):\n",
    "        print(f'Arguments: {args}, {kwargs}')\n",
    "        result = func(*args, **kwargs)\n",
    "        print(f'Return Value: {result}')\n",
    "    return wrapper\n",
    "\n",
    "# Sample function to be decorated\n",
    "@logger\n",
    "def func(a, b): \n",
    "    return a + b\n",
    "\n",
    "# Calling the decorated function\n",
    "func(1, 2)"
   ]
  },
  {
   "attachments": {},
   "cell_type": "markdown",
   "metadata": {},
   "source": [
    "###### 문제: 함수를 실행하기 전에 사용자에게 비밀번호를 묻는 메시지를 표시하는 'authenticate'이라는 이름의 데코레이터를 만드세요."
   ]
  },
  {
   "cell_type": "code",
   "execution_count": 13,
   "metadata": {},
   "outputs": [
    {
     "data": {
      "text/plain": [
       "'Access granted'"
      ]
     },
     "execution_count": 13,
     "metadata": {},
     "output_type": "execute_result"
    }
   ],
   "source": [
    "def authenticate(func):\n",
    "    def wrapper(*args, **kwargs):\n",
    "        password = input('Enter password:')\n",
    "        if password == 'password':\n",
    "            return func(*args, **kwargs)\n",
    "        else:\n",
    "            print('Invalid password')\n",
    "    return wrapper\n",
    "\n",
    "# Sample function to be decorated\n",
    "@authenticate\n",
    "def func(): \n",
    "    return 'Access granted'\n",
    "\n",
    "# Calling the decorated function\n",
    "func()"
   ]
  }
 ],
 "metadata": {
  "kernelspec": {
   "display_name": "base",
   "language": "python",
   "name": "python3"
  },
  "language_info": {
   "codemirror_mode": {
    "name": "ipython",
    "version": 3
   },
   "file_extension": ".py",
   "mimetype": "text/x-python",
   "name": "python",
   "nbconvert_exporter": "python",
   "pygments_lexer": "ipython3",
   "version": "3.9.12"
  },
  "orig_nbformat": 4
 },
 "nbformat": 4,
 "nbformat_minor": 2
}
