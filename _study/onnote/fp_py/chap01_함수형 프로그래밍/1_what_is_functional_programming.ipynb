{
 "cells": [
  {
   "cell_type": "code",
   "execution_count": 1,
   "id": "600bc0da",
   "metadata": {},
   "outputs": [],
   "source": [
    "# 1. 함수형 프로그래밍이란?"
   ]
  },
  {
   "cell_type": "code",
   "execution_count": 2,
   "id": "ae8467c3",
   "metadata": {},
   "outputs": [],
   "source": [
    "# 순수 함수"
   ]
  },
  {
   "cell_type": "code",
   "execution_count": 3,
   "id": "532f2ef5",
   "metadata": {},
   "outputs": [
    {
     "name": "stdout",
     "output_type": "stream",
     "text": [
      "5\n"
     ]
    }
   ],
   "source": [
    "add = lambda a, b: a + b\n",
    "\n",
    "print(add(2, 3))"
   ]
  },
  {
   "cell_type": "code",
   "execution_count": 4,
   "id": "a62e8526",
   "metadata": {},
   "outputs": [],
   "source": [
    "# 고차 함수"
   ]
  },
  {
   "cell_type": "code",
   "execution_count": 5,
   "id": "0b9d35db",
   "metadata": {},
   "outputs": [
    {
     "name": "stdout",
     "output_type": "stream",
     "text": [
      "[1, 4, 9, 16, 25]\n"
     ]
    }
   ],
   "source": [
    "numbers = [1, 2, 3, 4, 5]\n",
    "\n",
    "squared_numbers = map(lambda x: x * x, numbers)\n",
    "\n",
    "print(list(squared_numbers))"
   ]
  },
  {
   "cell_type": "code",
   "execution_count": 6,
   "id": "106d312c",
   "metadata": {},
   "outputs": [],
   "source": [
    "# Filter"
   ]
  },
  {
   "cell_type": "code",
   "execution_count": 7,
   "id": "343e9b58",
   "metadata": {},
   "outputs": [
    {
     "name": "stdout",
     "output_type": "stream",
     "text": [
      "[2, 4]\n"
     ]
    }
   ],
   "source": [
    "numbers = [1, 2, 3, 4, 5]\n",
    "\n",
    "even_numbers = filter(lambda x: x % 2 == 0, numbers)\n",
    "\n",
    "print(list(even_numbers))"
   ]
  },
  {
   "cell_type": "code",
   "execution_count": 8,
   "id": "acfd019b",
   "metadata": {},
   "outputs": [],
   "source": [
    "# Reduce"
   ]
  },
  {
   "cell_type": "code",
   "execution_count": 9,
   "id": "64d2866e",
   "metadata": {},
   "outputs": [
    {
     "name": "stdout",
     "output_type": "stream",
     "text": [
      "24\n"
     ]
    }
   ],
   "source": [
    "import functools\n",
    "\n",
    "numbers = [1, 2, 3, 4]\n",
    "\n",
    "product = functools.reduce(lambda x, y: x * y, numbers)\n",
    "\n",
    "print(product)"
   ]
  },
  {
   "cell_type": "code",
   "execution_count": 10,
   "id": "fe412e03",
   "metadata": {},
   "outputs": [],
   "source": [
    "# 불변성"
   ]
  },
  {
   "cell_type": "code",
   "execution_count": 11,
   "id": "d75e33e7",
   "metadata": {},
   "outputs": [],
   "source": [
    "class ComplexNumber:\n",
    "    def __init__(self, real_part, imaginary_part):\n",
    "        self.real_part = real_part\n",
    "        self.imaginary_part = imaginary_part\n",
    "        \n",
    "    def __repr(self):\n",
    "        return f\"({self.real_part} + {self.imaginary_part}i)\""
   ]
  },
  {
   "cell_type": "code",
   "execution_count": 12,
   "id": "5cb48d34",
   "metadata": {},
   "outputs": [],
   "source": [
    "# 지연 평가"
   ]
  },
  {
   "cell_type": "code",
   "execution_count": 14,
   "id": "8bbad2a5",
   "metadata": {},
   "outputs": [],
   "source": [
    "def squares():\n",
    "    i = 1\n",
    "    while True:\n",
    "        yield i ** 2\n",
    "        i += 1\n",
    "\n",
    "squares_iterator = squares()"
   ]
  },
  {
   "cell_type": "code",
   "execution_count": 15,
   "id": "767aaf92",
   "metadata": {},
   "outputs": [
    {
     "name": "stdout",
     "output_type": "stream",
     "text": [
      "1\n",
      "4\n",
      "9\n",
      "16\n",
      "25\n",
      "36\n",
      "49\n",
      "64\n",
      "81\n",
      "100\n"
     ]
    }
   ],
   "source": [
    "for i in range(10):\n",
    "    print(next(squares_iterator))"
   ]
  },
  {
   "cell_type": "code",
   "execution_count": null,
   "id": "254ea517",
   "metadata": {},
   "outputs": [],
   "source": []
  }
 ],
 "metadata": {
  "kernelspec": {
   "display_name": "Python 3",
   "language": "python",
   "name": "python3"
  },
  "language_info": {
   "codemirror_mode": {
    "name": "ipython",
    "version": 3
   },
   "file_extension": ".py",
   "mimetype": "text/x-python",
   "name": "python",
   "nbconvert_exporter": "python",
   "pygments_lexer": "ipython3",
   "version": "3.8.8"
  }
 },
 "nbformat": 4,
 "nbformat_minor": 5
}
