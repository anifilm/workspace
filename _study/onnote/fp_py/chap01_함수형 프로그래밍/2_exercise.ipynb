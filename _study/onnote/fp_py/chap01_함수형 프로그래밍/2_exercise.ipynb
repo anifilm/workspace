{
 "cells": [
  {
   "cell_type": "code",
   "execution_count": 1,
   "id": "5d2116b1",
   "metadata": {},
   "outputs": [],
   "source": [
    "# 연습 문제"
   ]
  },
  {
   "cell_type": "code",
   "execution_count": 2,
   "id": "9237796c",
   "metadata": {},
   "outputs": [],
   "source": [
    "# 문제: 리스트 컴프리헨션을 사용하여 정수 리스트를 받아 짝수가 모두 제거된 새 리스트를 반환하는 함수를 작성하세요."
   ]
  },
  {
   "cell_type": "code",
   "execution_count": 3,
   "id": "82e0e327",
   "metadata": {},
   "outputs": [],
   "source": [
    "def remove_even_numbers(numbers):\n",
    "    return [num for num in numbers if num % 2 != 0]"
   ]
  },
  {
   "cell_type": "code",
   "execution_count": 4,
   "id": "efb61f4e",
   "metadata": {},
   "outputs": [],
   "source": [
    "# 문제: 재귀 함수를 작성하세요: 1부터 n까지의 모든 숫자의 합을 계산하는 재귀 함수를 작성하세요."
   ]
  },
  {
   "cell_type": "code",
   "execution_count": 5,
   "id": "a5cd13ad",
   "metadata": {},
   "outputs": [],
   "source": [
    "def sum_numbers(n):\n",
    "    if n == 0:\n",
    "        return 0\n",
    "    else:\n",
    "        return n + sum_numbers(n - 1)"
   ]
  },
  {
   "cell_type": "code",
   "execution_count": 6,
   "id": "ba48800e",
   "metadata": {},
   "outputs": [],
   "source": [
    "# 문제: 맵을 사용하여 문자열 리스트를 받아 모든 문자열이 대문자로 된 새 리스트를 반환하는 함수를 작성하세요."
   ]
  },
  {
   "cell_type": "code",
   "execution_count": 7,
   "id": "23fd0b8f",
   "metadata": {},
   "outputs": [],
   "source": [
    "def capitalize_string(strings):\n",
    "    return list(map(str.capitalize, strings))"
   ]
  },
  {
   "cell_type": "code",
   "execution_count": 8,
   "id": "b493bbef",
   "metadata": {},
   "outputs": [],
   "source": [
    "# 문제: 숫자를 받아 2를 곱하는 람다 함수를 작성하세요."
   ]
  },
  {
   "cell_type": "code",
   "execution_count": 9,
   "id": "300e599f",
   "metadata": {},
   "outputs": [],
   "source": [
    "mutiply_by_two = lambda x: x * 2"
   ]
  },
  {
   "cell_type": "code",
   "execution_count": 10,
   "id": "28415331",
   "metadata": {},
   "outputs": [],
   "source": [
    "# 문제: 딕셔너리 리스트를 받아 필터를 사용하여 'name'이라는 키가 있고 값이 5자보다 긴 모든 딕셔너리가 포함된 새 리스트를 반환하는 함수를 작성하세요."
   ]
  },
  {
   "cell_type": "code",
   "execution_count": 11,
   "id": "aec53f7d",
   "metadata": {},
   "outputs": [],
   "source": [
    "def filter_name_longer_than_5(dicts):\n",
    "    return list(filter(lambda x: 'name' in x and len(x['name']) > 5, dicts))"
   ]
  }
 ],
 "metadata": {
  "kernelspec": {
   "display_name": "base",
   "language": "python",
   "name": "python3"
  },
  "language_info": {
   "codemirror_mode": {
    "name": "ipython",
    "version": 3
   },
   "file_extension": ".py",
   "mimetype": "text/x-python",
   "name": "python",
   "nbconvert_exporter": "python",
   "pygments_lexer": "ipython3",
   "version": "3.9.12 (main, Apr  4 2022, 05:22:27) [MSC v.1916 64 bit (AMD64)]"
  },
  "vscode": {
   "interpreter": {
    "hash": "00801806608e5aa69d1018f62c1dd5430a10d7f803adf46f990b5a3d78063a5e"
   }
  }
 },
 "nbformat": 4,
 "nbformat_minor": 5
}
