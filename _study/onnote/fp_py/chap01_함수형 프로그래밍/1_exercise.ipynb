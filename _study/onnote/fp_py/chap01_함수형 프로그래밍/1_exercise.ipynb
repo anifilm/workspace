{
 "cells": [
  {
   "cell_type": "code",
   "execution_count": 7,
   "id": "cedf9dab",
   "metadata": {},
   "outputs": [],
   "source": [
    "# 연습문제 "
   ]
  },
  {
   "cell_type": "code",
   "execution_count": 1,
   "id": "ef2c18cd",
   "metadata": {},
   "outputs": [],
   "source": [
    "# 문제: 함수형 프로그램밍을 사용하여 숫자 리스트의 제곱의 합을 계산하는 파이썬 함수를 작성하세요."
   ]
  },
  {
   "cell_type": "code",
   "execution_count": 2,
   "id": "96adb865",
   "metadata": {},
   "outputs": [],
   "source": [
    "def sum_of_squares(nums):\n",
    "    return sum(map(lambda x: x ** 2, nums))"
   ]
  },
  {
   "cell_type": "code",
   "execution_count": 3,
   "id": "5f280cc6",
   "metadata": {},
   "outputs": [
    {
     "name": "stdout",
     "output_type": "stream",
     "text": [
      "55\n"
     ]
    }
   ],
   "source": [
    "# Example usage\n",
    "nums = [1, 2, 3, 4, 5]\n",
    "print(sum_of_squares(nums))"
   ]
  },
  {
   "cell_type": "code",
   "execution_count": 4,
   "id": "41fc982c",
   "metadata": {},
   "outputs": [],
   "source": [
    "# 문제: 함수형 프로그래밍을 사용하여 피보나치 수열을 계산하는 파이썬 프로그램을 작성하세요."
   ]
  },
  {
   "cell_type": "code",
   "execution_count": 9,
   "id": "1bb9cc64",
   "metadata": {},
   "outputs": [],
   "source": [
    "from functools import reduce\n",
    "\n",
    "def fibonacci(n):\n",
    "    fib = lambda n: reduce(lambda x, _: x + [x[-1] + x[-2]], range(n - 2), [0, 1])\n",
    "    return fib(n)"
   ]
  },
  {
   "cell_type": "code",
   "execution_count": 10,
   "id": "33f844dc",
   "metadata": {},
   "outputs": [
    {
     "name": "stdout",
     "output_type": "stream",
     "text": [
      "[0, 1, 1, 2, 3, 5, 8, 13, 21, 34]\n"
     ]
    }
   ],
   "source": [
    "# Example usage\n",
    "n = 10\n",
    "print(fibonacci(n))"
   ]
  },
  {
   "cell_type": "code",
   "execution_count": 11,
   "id": "f734595b",
   "metadata": {},
   "outputs": [],
   "source": [
    "# 문제: 함수형 프로그래밍을 사용하여 숫자의 제곱근을 계산하는 파이썬 프로그램을 작성하세요."
   ]
  },
  {
   "cell_type": "code",
   "execution_count": 12,
   "id": "7ae4733c",
   "metadata": {},
   "outputs": [],
   "source": [
    "import math\n",
    "\n",
    "def square_root(n):\n",
    "    return math.sqrt(n)"
   ]
  },
  {
   "cell_type": "code",
   "execution_count": 13,
   "id": "2eb360f2",
   "metadata": {},
   "outputs": [
    {
     "name": "stdout",
     "output_type": "stream",
     "text": [
      "5.0\n"
     ]
    }
   ],
   "source": [
    "# Example usage\n",
    "n = 25\n",
    "print(square_root(n))"
   ]
  }
 ],
 "metadata": {
  "kernelspec": {
   "display_name": "Python 3",
   "language": "python",
   "name": "python3"
  },
  "language_info": {
   "codemirror_mode": {
    "name": "ipython",
    "version": 3
   },
   "file_extension": ".py",
   "mimetype": "text/x-python",
   "name": "python",
   "nbconvert_exporter": "python",
   "pygments_lexer": "ipython3",
   "version": "3.8.8"
  }
 },
 "nbformat": 4,
 "nbformat_minor": 5
}
