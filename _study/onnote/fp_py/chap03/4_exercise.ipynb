{
 "cells": [
  {
   "cell_type": "code",
   "execution_count": 1,
   "metadata": {},
   "outputs": [],
   "source": [
    "# 연습 문제"
   ]
  },
  {
   "cell_type": "code",
   "execution_count": 2,
   "metadata": {},
   "outputs": [],
   "source": [
    "# 문제: 정수의 리스트가 주어졌을 때, 리스트에 있는 모든 짝수의 합을 계산하는 순수 함수를 작성하세요."
   ]
  },
  {
   "cell_type": "code",
   "execution_count": 3,
   "metadata": {},
   "outputs": [],
   "source": [
    "def sum_even(lst):\n",
    "    return sum(filter(lambda x: x % 2 == 0, lst))"
   ]
  },
  {
   "cell_type": "code",
   "execution_count": 4,
   "metadata": {},
   "outputs": [],
   "source": [
    "# 문제: 문자열이 주어졌을 때, 모음을 모두 제거한 새 문자열을 반환하는 순수 함수를 작성하세요."
   ]
  },
  {
   "cell_type": "code",
   "execution_count": 6,
   "metadata": {},
   "outputs": [],
   "source": [
    "def remove_vowels(s):\n",
    "    return ''.join(filter(lambda x: x.lower() not in 'aeiou', s))"
   ]
  },
  {
   "cell_type": "code",
   "execution_count": 7,
   "metadata": {},
   "outputs": [],
   "source": [
    "# 문제: 문자열 리스트가 주어졌을 때 모음으로 시작하는 문자열만 포함하는 새 리스트를 반환하는 순수 함수를 작성하세요."
   ]
  },
  {
   "cell_type": "code",
   "execution_count": 8,
   "metadata": {},
   "outputs": [],
   "source": [
    "def filter_vowels(lst):\n",
    "    return list(filter(lambda x: x[0].lower() in 'aeiou', lst))"
   ]
  },
  {
   "cell_type": "code",
   "execution_count": 9,
   "metadata": {},
   "outputs": [],
   "source": [
    "# 문제: 두 개의 양의 정수 A와 B가 주어졌을 때, 이들의 최대 공약수(GCD)를 계산하는 순수 함수를 작성하세요."
   ]
  },
  {
   "cell_type": "code",
   "execution_count": 10,
   "metadata": {},
   "outputs": [],
   "source": [
    "def gcd(a, b):\n",
    "    if b == 0:\n",
    "        return a\n",
    "    else:\n",
    "        return gcd(b, a % b)"
   ]
  }
 ],
 "metadata": {
  "kernelspec": {
   "display_name": "base",
   "language": "python",
   "name": "python3"
  },
  "language_info": {
   "codemirror_mode": {
    "name": "ipython",
    "version": 3
   },
   "file_extension": ".py",
   "mimetype": "text/x-python",
   "name": "python",
   "nbconvert_exporter": "python",
   "pygments_lexer": "ipython3",
   "version": "3.9.12"
  },
  "orig_nbformat": 4,
  "vscode": {
   "interpreter": {
    "hash": "00801806608e5aa69d1018f62c1dd5430a10d7f803adf46f990b5a3d78063a5e"
   }
  }
 },
 "nbformat": 4,
 "nbformat_minor": 2
}
