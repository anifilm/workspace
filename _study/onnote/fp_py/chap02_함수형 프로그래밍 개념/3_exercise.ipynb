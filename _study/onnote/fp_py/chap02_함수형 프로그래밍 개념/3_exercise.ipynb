{
 "cells": [
  {
   "cell_type": "code",
   "execution_count": 1,
   "metadata": {},
   "outputs": [],
   "source": [
    "# 연습 문제"
   ]
  },
  {
   "cell_type": "code",
   "execution_count": 2,
   "metadata": {},
   "outputs": [],
   "source": [
    "# 문제: 함수 func와 리스트 lst를 입력으로 받는 apply_to_all(func, lst)이라는 고차 함수를 작성하십시오. 이 함수는 lst의 각 항목에 func를 적용하고 각 항목에 적용된 함수의 결과가 포함된 리스트를 반환해야 합니다."
   ]
  },
  {
   "cell_type": "code",
   "execution_count": 3,
   "metadata": {},
   "outputs": [],
   "source": [
    "def apply_to_all(func, lst):\n",
    "    return [func(item) for item in lst]"
   ]
  },
  {
   "cell_type": "code",
   "execution_count": 4,
   "metadata": {},
   "outputs": [],
   "source": [
    "# 문제: 부울 함수 condition, 함수 func, 리스트 lst를 입력으로 받는 apply_condition(conditon, func, lst)이라는 고차 함수를 만드십시오. 이 함수는 'condition'을 만족하는 lst의 항목에만 func를 적용하고 condition을 만족하는 각 항목에 적용된 함수의 결과가 포함된 리스트를 반환해야 합니다."
   ]
  },
  {
   "cell_type": "code",
   "execution_count": 5,
   "metadata": {},
   "outputs": [],
   "source": [
    "def apply_condition(condition, func, lst):\n",
    "    return [func(item) for item in lst if condition(item)]"
   ]
  },
  {
   "cell_type": "code",
   "execution_count": 6,
   "metadata": {},
   "outputs": [],
   "source": [
    "# 문제: 정수 n, 함수 func, 값 x를 입력으로 받는 apply_n_times(n, func, x)라는 이름의 고차 함수를 작성하세요. 이 함수는 func를 x n 횟수에 적용하고 최종 결과를 반환해야 합니다."
   ]
  },
  {
   "cell_type": "code",
   "execution_count": 8,
   "metadata": {},
   "outputs": [],
   "source": [
    "def apply_n_times(n, func, x):\n",
    "    for i in range(n):\n",
    "        x = func(x)\n",
    "    return x"
   ]
  }
 ],
 "metadata": {
  "kernelspec": {
   "display_name": "base",
   "language": "python",
   "name": "python3"
  },
  "language_info": {
   "codemirror_mode": {
    "name": "ipython",
    "version": 3
   },
   "file_extension": ".py",
   "mimetype": "text/x-python",
   "name": "python",
   "nbconvert_exporter": "python",
   "pygments_lexer": "ipython3",
   "version": "3.9.12 (main, Apr  4 2022, 05:22:27) [MSC v.1916 64 bit (AMD64)]"
  },
  "orig_nbformat": 4,
  "vscode": {
   "interpreter": {
    "hash": "00801806608e5aa69d1018f62c1dd5430a10d7f803adf46f990b5a3d78063a5e"
   }
  }
 },
 "nbformat": 4,
 "nbformat_minor": 2
}
