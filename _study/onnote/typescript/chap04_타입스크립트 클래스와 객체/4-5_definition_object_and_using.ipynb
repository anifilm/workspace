{
 "cells": [
  {
   "attachments": {},
   "cell_type": "markdown",
   "id": "4cff5bb9",
   "metadata": {},
   "source": [
    "### 5. 객체 생성 및 사용하기"
   ]
  },
  {
   "attachments": {},
   "cell_type": "markdown",
   "id": "785788e4",
   "metadata": {},
   "source": [
    "타입스크립트에서 객체란 무엇인가요?"
   ]
  },
  {
   "cell_type": "code",
   "execution_count": null,
   "id": "486ed4e0",
   "metadata": {},
   "outputs": [],
   "source": [
    "let car = {\n",
    "  make: 'Tesla',\n",
    "  model: 'Model 3',\n",
    "  year: 2022,\n",
    "  isElectric: true,\n",
    "  features: ['autopilot', 'supercharging'],\n",
    "}"
   ]
  },
  {
   "attachments": {},
   "cell_type": "markdown",
   "id": "ecb71ec7",
   "metadata": {},
   "source": [
    "타입스크립에서 객체 생성하기"
   ]
  },
  {
   "cell_type": "code",
   "execution_count": null,
   "id": "09fc79a2",
   "metadata": {},
   "outputs": [],
   "source": [
    "// 객체 리터럴 사용\n",
    "let person = {\n",
    "  firstName: 'John',\n",
    "  lastName: 'Doe',\n",
    "  age: 32,\n",
    "  address: {\n",
    "    street: '123 Main St',\n",
    "    city: 'Anytown',\n",
    "    state: 'CA',\n",
    "    zip: '12345',\n",
    "  },\n",
    "}"
   ]
  },
  {
   "cell_type": "code",
   "execution_count": null,
   "id": "75c82a37",
   "metadata": {},
   "outputs": [],
   "source": [
    "// 생성자 함수 사용\n",
    "class Person {\n",
    "  firstName: string;\n",
    "  lastName: string;\n",
    "  age: number;\n",
    "\n",
    "  constructor(firstName: string, lastName: string, age: number) {\n",
    "    this.firstName = firstName;\n",
    "    this.lastName = lastName;\n",
    "    this.age = age;\n",
    "  }\n",
    "}\n",
    "\n",
    "let myPerson = new Person('John', 'Doe', 32);"
   ]
  },
  {
   "attachments": {},
   "cell_type": "markdown",
   "id": "9847fa57",
   "metadata": {},
   "source": [
    "객체 속성 액세스"
   ]
  },
  {
   "cell_type": "code",
   "execution_count": null,
   "id": "12cf41dd",
   "metadata": {},
   "outputs": [],
   "source": [
    "let person = {\n",
    "  firstName: 'John',\n",
    "  lastName: 'Doe',\n",
    "  age: 32,\n",
    "}\n",
    "\n",
    "console.log(person.firstName);\n",
    "console.log(person['lastName']);"
   ]
  },
  {
   "attachments": {},
   "cell_type": "markdown",
   "id": "8a122ffc",
   "metadata": {},
   "source": [
    "객체 속성 수정하기"
   ]
  },
  {
   "cell_type": "code",
   "execution_count": null,
   "id": "141116d1",
   "metadata": {},
   "outputs": [],
   "source": [
    "let person = {\n",
    "  firstName: 'John',\n",
    "  lastName: 'Doe',\n",
    "  age: 32,\n",
    "}\n",
    "\n",
    "person.age = 33;\n",
    "console.log(person.age);"
   ]
  },
  {
   "attachments": {},
   "cell_type": "markdown",
   "id": "e7ac8659",
   "metadata": {},
   "source": [
    "객체 속성 추가 및 제거"
   ]
  },
  {
   "cell_type": "code",
   "execution_count": null,
   "id": "638d7378",
   "metadata": {},
   "outputs": [],
   "source": [
    "let person = {\n",
    "  firstName: 'John',\n",
    "  lastName: 'Doe',\n",
    "  age: 32,\n",
    "}\n",
    "\n",
    "person.email = 'john.doe@example.com';\n",
    "console.log(person.email);\n",
    "delete person.age;\n",
    "console.log(person.age);"
   ]
  },
  {
   "attachments": {},
   "cell_type": "markdown",
   "id": "90511001",
   "metadata": {},
   "source": [
    "객체 메서드 사용"
   ]
  },
  {
   "cell_type": "code",
   "execution_count": null,
   "id": "beed86be",
   "metadata": {},
   "outputs": [],
   "source": [
    "let person = {\n",
    "  firstName: 'John',\n",
    "  lastName: 'Doe',\n",
    "  age: 32,\n",
    "  getFullName: function () {\n",
    "    return `${this.firstName} ${this.lastName}`;\n",
    "  },\n",
    "}\n",
    "\n",
    "console.log(person.getFullName());"
   ]
  }
 ],
 "metadata": {
  "kernelspec": {
   "display_name": "TypeScript",
   "language": "typescript",
   "name": "tslab"
  },
  "language_info": {
   "codemirror_mode": {
    "mode": "typescript",
    "name": "javascript",
    "typescript": true
   },
   "file_extension": ".ts",
   "mimetype": "text/typescript",
   "name": "typescript",
   "version": "3.7.2"
  }
 },
 "nbformat": 4,
 "nbformat_minor": 5
}
