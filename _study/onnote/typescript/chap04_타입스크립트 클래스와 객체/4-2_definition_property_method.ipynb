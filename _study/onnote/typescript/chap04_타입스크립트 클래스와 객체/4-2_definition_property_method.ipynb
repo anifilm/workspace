{
 "cells": [
  {
   "attachments": {},
   "cell_type": "markdown",
   "id": "645fd514",
   "metadata": {},
   "source": [
    "### 2. 프로퍼티와 메서드 정의하기"
   ]
  },
  {
   "attachments": {},
   "cell_type": "markdown",
   "id": "9a5f9f95",
   "metadata": {},
   "source": [
    "프로퍼티 정의하기"
   ]
  },
  {
   "cell_type": "code",
   "execution_count": null,
   "id": "9513c2d0",
   "metadata": {},
   "outputs": [],
   "source": [
    "class Person {\n",
    "  public name: string;\n",
    "  private age: number;\n",
    "  protected gender: string;\n",
    "\n",
    "  constructor(name: string, age: number, gender: string) {\n",
    "    this.name = name;\n",
    "    this.age = age;\n",
    "    this.gender = gender;\n",
    "  }\n",
    "}"
   ]
  },
  {
   "attachments": {},
   "cell_type": "markdown",
   "id": "fdcbecb5",
   "metadata": {},
   "source": [
    "메서드 정의"
   ]
  },
  {
   "cell_type": "code",
   "execution_count": null,
   "id": "5aa18ad7",
   "metadata": {},
   "outputs": [],
   "source": [
    "class Person2 {\n",
    "  public name: string;\n",
    "  private age: number;\n",
    "  protected gender: string;\n",
    "\n",
    "  constructor(name: string, age: number, gender: string) {\n",
    "    this.name = name;\n",
    "    this.age = age;\n",
    "    this.gender = gender;\n",
    "  }\n",
    "\n",
    "  public introduceSelf(): void {\n",
    "    console.log(`Hi, my name is ${this.name} and I ams a ${this.gender}.`);\n",
    "  }\n",
    "\n",
    "  private calculateYearsToRetirement(): number {\n",
    "    const yearsLeft = 65 - this.age;\n",
    "    return yearsLeft > 0 ? yearsLeft : 0;\n",
    "  }\n",
    "}"
   ]
  },
  {
   "attachments": {},
   "cell_type": "markdown",
   "id": "ca48473e",
   "metadata": {},
   "source": [
    "속성 및 메서드 액세스"
   ]
  },
  {
   "cell_type": "code",
   "execution_count": null,
   "id": "0f85a4b6",
   "metadata": {},
   "outputs": [],
   "source": [
    "const person1 = new Person2('Alice', 25, 'female');\n",
    "person1.introduceSelf();"
   ]
  },
  {
   "cell_type": "code",
   "execution_count": null,
   "id": "e245ab92",
   "metadata": {},
   "outputs": [],
   "source": [
    "const person2 = new Person2('Alice', 25, 'female');\n",
    "console.log(person2.name);"
   ]
  },
  {
   "cell_type": "code",
   "execution_count": null,
   "id": "f2be032b",
   "metadata": {},
   "outputs": [],
   "source": [
    "class Person3 {\n",
    "  private _age: number;\n",
    "\n",
    "  get age(): number {\n",
    "    return this._age;\n",
    "  }\n",
    "\n",
    "  set age(newAge: number) {\n",
    "    if (newAge >= 0) {\n",
    "      this._age = newAge;\n",
    "    }\n",
    "    else {\n",
    "      console.log('Age cannot be negative.');\n",
    "    }\n",
    "  }\n",
    "}\n",
    "\n",
    "const person3 = new Person3();\n",
    "person3.age = 25;\n",
    "console.log(person3.age);;"
   ]
  }
 ],
 "metadata": {
  "kernelspec": {
   "display_name": "TypeScript",
   "language": "typescript",
   "name": "tslab"
  },
  "language_info": {
   "codemirror_mode": {
    "mode": "typescript",
    "name": "javascript",
    "typescript": true
   },
   "file_extension": ".ts",
   "mimetype": "text/typescript",
   "name": "typescript",
   "version": "3.7.2"
  }
 },
 "nbformat": 4,
 "nbformat_minor": 5
}
