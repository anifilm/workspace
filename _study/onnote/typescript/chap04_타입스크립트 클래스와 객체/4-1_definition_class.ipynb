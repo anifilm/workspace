{
 "cells": [
  {
   "attachments": {},
   "cell_type": "markdown",
   "id": "96655bda",
   "metadata": {},
   "source": [
    "### 1. 타입스크립트에서 클래스 생성하기"
   ]
  },
  {
   "attachments": {},
   "cell_type": "markdown",
   "id": "ab92ce32",
   "metadata": {},
   "source": [
    "클래스 정의하기"
   ]
  },
  {
   "cell_type": "code",
   "execution_count": null,
   "id": "246c7f12",
   "metadata": {},
   "outputs": [],
   "source": [
    "class Person {\n",
    "  name: string;\n",
    "  age: number;\n",
    "\n",
    "  greet() {\n",
    "    console.log(`Hello, my name is ${this.name}, and I am ${this.age} years old.`);\n",
    "  }\n",
    "}"
   ]
  },
  {
   "attachments": {},
   "cell_type": "markdown",
   "id": "ebc46370",
   "metadata": {},
   "source": [
    "생성자"
   ]
  },
  {
   "cell_type": "code",
   "execution_count": null,
   "id": "f0a9e932",
   "metadata": {},
   "outputs": [],
   "source": [
    "class Person {\n",
    "  name: string;\n",
    "  age: number;\n",
    "\n",
    "  constructor(name: string, age: number) {\n",
    "    this.name = name;\n",
    "    this.age = age;\n",
    "  }\n",
    "\n",
    "  greet() {\n",
    "    console.log(`Hello, my name is ${this.name}, and I am ${this.age} years old.`);\n",
    "  }\n",
    "}"
   ]
  },
  {
   "attachments": {},
   "cell_type": "markdown",
   "id": "68cda935",
   "metadata": {},
   "source": [
    "액세스 수정자"
   ]
  },
  {
   "cell_type": "code",
   "execution_count": null,
   "id": "7e91e7b4",
   "metadata": {},
   "outputs": [],
   "source": [
    "class Person {\n",
    "  public name: string;\n",
    "  private age: number;\n",
    "  protected address: string;\n",
    "\n",
    "  constructor(name: string, age: number, address: string) {\n",
    "    this.name = name;\n",
    "    this.age = age;\n",
    "    this.address = address;\n",
    "  }\n",
    "\n",
    "  greet() {\n",
    "    console.log(`Hello, my name is ${this.name}, and I am ${this.age} years old.`);\n",
    "  }\n",
    "\n",
    "  getAge() {\n",
    "    return this.age;\n",
    "  }\n",
    "}\n",
    "\n",
    "class Employee extends Person {\n",
    "  salary: number;\n",
    "\n",
    "  constructor(name: string, age: number, address: string, salary: number) {\n",
    "    super(name, age, address);\n",
    "    this.salary = salary;\n",
    "  }\n",
    "\n",
    "  getSalary() {\n",
    "    return this.salary;\n",
    "  }\n",
    "}"
   ]
  },
  {
   "attachments": {},
   "cell_type": "markdown",
   "id": "66220752",
   "metadata": {},
   "source": [
    "정적 멤버"
   ]
  },
  {
   "cell_type": "code",
   "execution_count": null,
   "id": "f21e4d7b",
   "metadata": {},
   "outputs": [],
   "source": [
    "class Counter {\n",
    "  static count: number = 0;\n",
    "\n",
    "  static increment() {\n",
    "    Counter.count++;\n",
    "  }\n",
    "\n",
    "  static getCount() {\n",
    "    return Counter.count;\n",
    "  }\n",
    "}\n",
    "\n",
    "Counter.increment();\n",
    "console.log(Counter.getCount());"
   ]
  },
  {
   "attachments": {},
   "cell_type": "markdown",
   "id": "1f997ea0",
   "metadata": {},
   "source": [
    "추상 클래스"
   ]
  },
  {
   "cell_type": "code",
   "execution_count": null,
   "id": "0c6ddb47",
   "metadata": {},
   "outputs": [],
   "source": [
    "abstract class Shape {\n",
    "  abstract getArea(): number;\n",
    "}\n",
    "\n",
    "class Rectangle extends Shape {\n",
    "  private width: number;\n",
    "  private height: number;\n",
    "\n",
    "  constructor(width: number, height: number) {\n",
    "    super();\n",
    "    this.width = width;\n",
    "    this.height = height;\n",
    "  }\n",
    "\n",
    "  getArea() {\n",
    "    return this.width * this.height;\n",
    "  }\n",
    "}\n",
    "\n",
    "class Circle extends Shape {\n",
    "  private radius: number;\n",
    "\n",
    "  constructor(radius: number) {\n",
    "    super();\n",
    "    this.radius = radius;\n",
    "  }\n",
    "\n",
    "  getArea() {\n",
    "    return Math.PI * this.radius * this.radius;\n",
    "  }\n",
    "}\n",
    "\n",
    "const rectangle = new Rectangle(10, 20);\n",
    "console.log(rectangle.getArea());\n",
    "\n",
    "const circle = new Circle(5);\n",
    "console.log(circle.getArea());"
   ]
  },
  {
   "cell_type": "code",
   "execution_count": null,
   "id": "77bfd062",
   "metadata": {},
   "outputs": [],
   "source": []
  },
  {
   "attachments": {},
   "cell_type": "markdown",
   "id": "78b878cf",
   "metadata": {},
   "source": [
    "질문: 타입스크립트에서 상속이란 무엇이며 어떻게 구현할 수 있나요?"
   ]
  },
  {
   "cell_type": "code",
   "execution_count": null,
   "id": "354f2c22",
   "metadata": {},
   "outputs": [],
   "source": [
    "class Animal {\n",
    "  name: string;\n",
    "  \n",
    "  constructor(name: string) {\n",
    "    this.name = name;\n",
    "  }\n",
    "\n",
    "  eat() {\n",
    "    console.log(`${this.name} is eating.`);\n",
    "  }\n",
    "}\n",
    "\n",
    "class Dog extends Animal {\n",
    "  breed: string;\n",
    "\n",
    "  constructor(name: string, breed: string) {\n",
    "    super(name);\n",
    "    this.breed = breed;\n",
    "  }\n",
    "\n",
    "  bark() {\n",
    "    console.log(`${this.name} is barking`);\n",
    "  }\n",
    "}"
   ]
  },
  {
   "attachments": {},
   "cell_type": "markdown",
   "id": "e8d8b29e",
   "metadata": {},
   "source": [
    "질문: 타입스크립트에서 액세스 수정자는 무엇이면 어떻게 사용할 수 있나요?"
   ]
  },
  {
   "cell_type": "code",
   "execution_count": null,
   "id": "a0fa8da9",
   "metadata": {},
   "outputs": [],
   "source": [
    "class Person {\n",
    "  public name: string;\n",
    "  private age: number;\n",
    "  protected address: string;\n",
    "\n",
    "  constructor(name: string, age: number, address: string) {\n",
    "    this.name = name;\n",
    "    this.age = age;\n",
    "    this.address = address;\n",
    "  }\n",
    "\n",
    "  greet() {\n",
    "    console.log(`Hello, my name is ${this.name}`);\n",
    "  }\n",
    "\n",
    "  getAge() {\n",
    "    return this.age;\n",
    "  }\n",
    "}\n",
    "\n",
    "class Employee extends Person {\n",
    "  private salary: number;\n",
    "\n",
    "  constructor(name: string, age: number, address: string, salary: number) {\n",
    "    super(name, age, address);\n",
    "    this.salary = salary;\n",
    "  }\n",
    "\n",
    "  getSalary() {\n",
    "    console.log(`${this.name} earns ${this.salary} per month.`);\n",
    "  }\n",
    "}"
   ]
  },
  {
   "attachments": {},
   "cell_type": "markdown",
   "id": "7153fb05",
   "metadata": {},
   "source": [
    "질문: 타입스크립트에서 정적 프로퍼티란 무엇이며 어떻게 액세스 할 수 있나요?"
   ]
  },
  {
   "cell_type": "code",
   "execution_count": null,
   "id": "903a104a",
   "metadata": {},
   "outputs": [],
   "source": [
    "class Calculator {\n",
    "  static PI: number = 3.14;\n",
    "\n",
    "  static calculateCircumference(radius: number) {\n",
    "    return 2 * this.PI * radius;\n",
    "  }\n",
    "}\n",
    "\n",
    "console.log(Calculator.PI);\n",
    "console.log(Calculator.calculateCircumference(5));"
   ]
  },
  {
   "attachments": {},
   "cell_type": "markdown",
   "id": "764fe921",
   "metadata": {},
   "source": [
    "질문: 타입스크립트에서 제네릭 클래스란 무엇이며 어떻게 사용할 수 있나요?"
   ]
  },
  {
   "cell_type": "code",
   "execution_count": null,
   "id": "d9e542ea",
   "metadata": {},
   "outputs": [],
   "source": [
    "class List<T> {\n",
    "  private items: T[] = [];\n",
    "\n",
    "  addItem(item: T) {\n",
    "    this.items.push(item);\n",
    "  }\n",
    "\n",
    "  getItems() {\n",
    "    return this.items;\n",
    "  }\n",
    "}\n",
    "\n",
    "const numbers = new List<number>();\n",
    "numbers.addItem(1);\n",
    "numbers.addItem(2);\n",
    "numbers.addItem(3);\n",
    "\n",
    "const names = new List<string>();\n",
    "names.addItem('Alice');\n",
    "names.addItem('Bob');\n",
    "names.addItem('Charlie');\n",
    "\n",
    "console.log(numbers.getItems());\n",
    "console.log(names.getItems());"
   ]
  }
 ],
 "metadata": {
  "kernelspec": {
   "display_name": "TypeScript",
   "language": "typescript",
   "name": "tslab"
  },
  "language_info": {
   "codemirror_mode": {
    "mode": "typescript",
    "name": "javascript",
    "typescript": true
   },
   "file_extension": ".ts",
   "mimetype": "text/typescript",
   "name": "typescript",
   "version": "3.7.2"
  }
 },
 "nbformat": 4,
 "nbformat_minor": 5
}
