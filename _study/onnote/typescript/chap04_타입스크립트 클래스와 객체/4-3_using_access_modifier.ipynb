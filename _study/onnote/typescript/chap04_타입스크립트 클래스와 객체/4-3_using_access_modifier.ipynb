{
 "cells": [
  {
   "attachments": {},
   "cell_type": "markdown",
   "id": "097c2eab",
   "metadata": {},
   "source": [
    "### 3. 접근 수정자 사용하기"
   ]
  },
  {
   "attachments": {},
   "cell_type": "markdown",
   "id": "f9986b74",
   "metadata": {},
   "source": [
    "타입스크립트의 액세스 수정자 유형"
   ]
  },
  {
   "cell_type": "code",
   "execution_count": null,
   "id": "e874f5df",
   "metadata": {},
   "outputs": [],
   "source": [
    "// public\n",
    "class Vehicle {\n",
    "  public color: string;\n",
    "  public run(): void {\n",
    "    console.log('The vehicle is running');\n",
    "  }\n",
    "}"
   ]
  },
  {
   "cell_type": "code",
   "execution_count": null,
   "id": "6f93003a",
   "metadata": {},
   "outputs": [],
   "source": [
    "// private\n",
    "class Vehicle {\n",
    "  private color: string;\n",
    "  private run(): void {\n",
    "    console.log('The vehicle is running');\n",
    "  }\n",
    "}"
   ]
  },
  {
   "cell_type": "code",
   "execution_count": null,
   "id": "5f9b0550",
   "metadata": {},
   "outputs": [],
   "source": [
    "// protected\n",
    "class Vehicle {\n",
    "  protected color: string;\n",
    "  protected run(): void {\n",
    "    console.log('The vehicle is running');\n",
    "  }\n",
    "}\n",
    "\n",
    "class Car extends Vehicle {\n",
    "  public start(): void {\n",
    "    console.log('The car starts', this.color);\n",
    "    this.run();\n",
    "  }\n",
    "}"
   ]
  },
  {
   "attachments": {},
   "cell_type": "markdown",
   "id": "988b5b6a",
   "metadata": {},
   "source": [
    "타입스크립트 클래스에서 액세스 수정자를 사용하는 방법"
   ]
  },
  {
   "cell_type": "code",
   "execution_count": null,
   "id": "b6a93b0b",
   "metadata": {},
   "outputs": [],
   "source": [
    "// 1단계: 클래스 생성\n",
    "class Vehicle1 {\n",
    "  // ...\n",
    "}"
   ]
  },
  {
   "cell_type": "code",
   "execution_count": null,
   "id": "c32fd444",
   "metadata": {},
   "outputs": [],
   "source": [
    "// 2단계: 프로퍼티 및 메서드 정의\n",
    "class Vehicle2 {\n",
    "  public color: string;\n",
    "  protected engine: string;\n",
    "  private wheels: number;\n",
    "  public run(): void {\n",
    "    console.log('The vehicle is running');\n",
    "  }\n",
    "}"
   ]
  },
  {
   "cell_type": "code",
   "execution_count": null,
   "id": "9464b6df",
   "metadata": {},
   "outputs": [],
   "source": [
    "// 3단계: 생성자 추가하기\n",
    "class Vehicle3 {\n",
    "  public color: string;\n",
    "  protected engine: string;\n",
    "  private wheels: number;\n",
    "\n",
    "  constructor(color: string, engine: string, wheels: number) {\n",
    "    this.color = color;\n",
    "    this.engine = engine;\n",
    "    this.wheels = wheels;\n",
    "  }\n",
    "\n",
    "  public run(): void {\n",
    "    console.log('The vehicle is running');\n",
    "  }\n",
    "}\n",
    "\n",
    "let myVehicle = new Vehicle3('red', 'V6', 4);"
   ]
  },
  {
   "cell_type": "code",
   "execution_count": null,
   "id": "57c2aa6d",
   "metadata": {},
   "outputs": [],
   "source": [
    "// 4단계: 프로퍼티 및 메서드에 접근하기\n",
    "console.log(myVehicle.color);\n",
    "console.log(myVehicle.engine);\n",
    "console.log(myVehicle.wheels);\n",
    "myVehicle.run();"
   ]
  },
  {
   "cell_type": "code",
   "execution_count": null,
   "id": "b557e09c",
   "metadata": {},
   "outputs": [],
   "source": [
    "// 5단계: 프로퍼티 및 메서드 수정하기\n",
    "class Vehicle5 {\n",
    "  public color: string;\n",
    "  protected engine: string;\n",
    "  private wheels: number;\n",
    "\n",
    "  constructor(color: string, engine: string, wheels: number) {\n",
    "    this.color = color;\n",
    "    this.engine = engine;\n",
    "    this.wheels = wheels;\n",
    "  }\n",
    "\n",
    "  public run(): void {\n",
    "    console.log('The vehicle is running');\n",
    "  }\n",
    "\n",
    "  public changeColor(color: string): void {\n",
    "    this.color = color;\n",
    "  }\n",
    "\n",
    "  protected changeEngine(engine: string): void {\n",
    "    this.engine = engine;\n",
    "  }\n",
    "\n",
    "  private changeWheels(wheels: number): void {\n",
    "    this.wheels = wheels;\n",
    "  }\n",
    "}\n",
    "\n",
    "let myVehicle = new Vehicle('red', 'V6', 4);\n",
    "myVehicle.changeColor('blue');\n",
    "myVehicle.color;\n",
    "myVehicle.changeEngine('V8');\n",
    "myVehicle.changeWheels(6);"
   ]
  },
  {
   "attachments": {},
   "cell_type": "markdown",
   "id": "41fc40d9",
   "metadata": {},
   "source": [
    "접근 수정자 및 상속"
   ]
  },
  {
   "cell_type": "code",
   "execution_count": null,
   "id": "8c04e152",
   "metadata": {},
   "outputs": [],
   "source": [
    "class Vehicle6 {\n",
    "  public color: string;\n",
    "  protected engine: string;\n",
    "\n",
    "  constructor(color: string, engine: string) {\n",
    "    this.color = color;\n",
    "    this.engine = engine;\n",
    "  }\n",
    "\n",
    "  public run(): void {\n",
    "    console.log('The vehicle is running');\n",
    "  }\n",
    "\n",
    "  protected start(): void {\n",
    "    console.log('The vehicle is starting...');\n",
    "  }\n",
    "}\n",
    "\n",
    "class Car extends Vehicle6 {\n",
    "  public doors: number;\n",
    "\n",
    "  constructor(color: string, engine: string, doors: number) {\n",
    "    super(color, engine);\n",
    "    this.doors = doors;\n",
    "  }\n",
    "\n",
    "  public acceleate(): void {\n",
    "    console.log('The car is accelerating...');\n",
    "  }\n",
    "\n",
    "  public startCar(): void {\n",
    "    this.start();\n",
    "  }\n",
    "}\n",
    "\n",
    "let myCar = new Car('grey', 'V6', 4);\n",
    "console.log(myCar.color);\n",
    "console.log(myCar.engine);\n",
    "console.log(myCar.doors);\n",
    "myCar.run();\n",
    "myCar.accelerate();\n",
    "myCar.startCar();"
   ]
  }
 ],
 "metadata": {
  "kernelspec": {
   "display_name": "TypeScript",
   "language": "typescript",
   "name": "tslab"
  },
  "language_info": {
   "codemirror_mode": {
    "mode": "typescript",
    "name": "javascript",
    "typescript": true
   },
   "file_extension": ".ts",
   "mimetype": "text/typescript",
   "name": "typescript",
   "version": "3.7.2"
  }
 },
 "nbformat": 4,
 "nbformat_minor": 5
}
