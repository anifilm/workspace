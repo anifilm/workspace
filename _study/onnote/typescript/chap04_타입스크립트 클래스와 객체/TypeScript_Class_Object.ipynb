{
 "cells": [
  {
   "attachments": {},
   "cell_type": "markdown",
   "id": "96655bda",
   "metadata": {},
   "source": [
    "### 1. 타입스크립트에서 클래스 생성하기"
   ]
  },
  {
   "attachments": {},
   "cell_type": "markdown",
   "id": "ab92ce32",
   "metadata": {},
   "source": [
    "클래스 정의하기"
   ]
  },
  {
   "cell_type": "code",
   "execution_count": null,
   "id": "246c7f12",
   "metadata": {},
   "outputs": [],
   "source": [
    "class Person {\n",
    "  name: string\n",
    "  age: number\n",
    "\n",
    "  greet() {\n",
    "    console.log(`Hello, my name is ${this.name}, and I am ${this.age} years old.`);\n",
    "  }\n",
    "}"
   ]
  },
  {
   "attachments": {},
   "cell_type": "markdown",
   "id": "ebc46370",
   "metadata": {},
   "source": [
    "생성자"
   ]
  },
  {
   "cell_type": "code",
   "execution_count": null,
   "id": "f0a9e932",
   "metadata": {},
   "outputs": [],
   "source": [
    "class Person {\n",
    "  name: string\n",
    "  age: number\n",
    "\n",
    "  constructor(name: string, age: number) {\n",
    "    this.name = name\n",
    "    this.age = age\n",
    "  }\n",
    "\n",
    "  greet() {\n",
    "    console.log(`Hello, my name is ${this.name}, and I am ${this.age} years old.`);\n",
    "  }\n",
    "}"
   ]
  },
  {
   "attachments": {},
   "cell_type": "markdown",
   "id": "68cda935",
   "metadata": {},
   "source": [
    "액세스 수정자"
   ]
  },
  {
   "cell_type": "code",
   "execution_count": null,
   "id": "7e91e7b4",
   "metadata": {},
   "outputs": [],
   "source": [
    "class Person {\n",
    "  public name: string\n",
    "  private age: number\n",
    "  protected address: string\n",
    "\n",
    "  constructor(name: string, age: number, address: string) {\n",
    "    this.name = name\n",
    "    this.age = age\n",
    "    this.address = address\n",
    "  }\n",
    "\n",
    "  greet() {\n",
    "    console.log(`Hello, my name is ${this.name}, and I am ${this.age} years old.`);\n",
    "  }\n",
    "\n",
    "  getAge() {\n",
    "    return this.age\n",
    "  }\n",
    "}\n",
    "\n",
    "class Employee extends Person {\n",
    "  salary: number\n",
    "\n",
    "  constructor(name: string, age: number, address: string, salary: number) {\n",
    "    super(name, age, address)\n",
    "    this.salary = salary\n",
    "  }\n",
    "\n",
    "  getSalary() {\n",
    "    return this.salary\n",
    "  }\n",
    "}"
   ]
  },
  {
   "attachments": {},
   "cell_type": "markdown",
   "id": "66220752",
   "metadata": {},
   "source": [
    "정적 멤버"
   ]
  },
  {
   "cell_type": "code",
   "execution_count": null,
   "id": "f21e4d7b",
   "metadata": {},
   "outputs": [],
   "source": [
    "class Counter {\n",
    "  static count: number = 0\n",
    "\n",
    "  static increment() {\n",
    "    Counter.count++\n",
    "  }\n",
    "\n",
    "  static getCount() {\n",
    "    return Counter.count\n",
    "  }\n",
    "}\n",
    "\n",
    "Counter.increment()\n",
    "console.log(Counter.getCount());"
   ]
  },
  {
   "attachments": {},
   "cell_type": "markdown",
   "id": "1f997ea0",
   "metadata": {},
   "source": [
    "추상 클래스"
   ]
  },
  {
   "cell_type": "code",
   "execution_count": null,
   "id": "0c6ddb47",
   "metadata": {},
   "outputs": [],
   "source": [
    "abstract class Shape {\n",
    "  abstract getArea(): number\n",
    "}\n",
    "\n",
    "class Rectangle extends Shape {\n",
    "  private width: number\n",
    "  private height: number\n",
    "\n",
    "  constructor(width: number, height: number) {\n",
    "    super()\n",
    "    this.width = width\n",
    "    this.height = height\n",
    "  }\n",
    "\n",
    "  getArea() {\n",
    "    return this.width * this.height\n",
    "  }\n",
    "}\n",
    "\n",
    "class Circle extends Shape {\n",
    "  private radius: number\n",
    "\n",
    "  constructor(radius: number) {\n",
    "    super()\n",
    "    this.radius = radius\n",
    "  }\n",
    "\n",
    "  getArea() {\n",
    "    return Math.PI * this.radius * this.radius\n",
    "  }\n",
    "}\n",
    "\n",
    "const rectangle = new Rectangle(10, 20)\n",
    "console.log(rectangle.getArea());\n",
    "\n",
    "const circle = new Circle(5)\n",
    "console.log(circle.getArea());"
   ]
  },
  {
   "attachments": {},
   "cell_type": "markdown",
   "id": "78b878cf",
   "metadata": {},
   "source": [
    "질문: 타입스크립트에서 상속이란 무엇이며 어떻게 구현할 수 있나요?"
   ]
  },
  {
   "cell_type": "code",
   "execution_count": null,
   "id": "354f2c22",
   "metadata": {},
   "outputs": [],
   "source": [
    "class Animal {\n",
    "  name: string\n",
    "  \n",
    "  constructor(name: string) {\n",
    "    this.name = name\n",
    "  }\n",
    "\n",
    "  eat() {\n",
    "    console.log(`${this.name} is eating.`);\n",
    "  }\n",
    "}\n",
    "\n",
    "class Dog extends Animal {\n",
    "  breed: string\n",
    "\n",
    "  constructor(name: string, breed: string) {\n",
    "    super(name)\n",
    "    this.breed = breed\n",
    "  }\n",
    "\n",
    "  bark() {\n",
    "    console.log(`${this.name} is barking`);\n",
    "  }\n",
    "}"
   ]
  },
  {
   "attachments": {},
   "cell_type": "markdown",
   "id": "e8d8b29e",
   "metadata": {},
   "source": [
    "질문: 타입스크립트에서 액세스 수정자는 무엇이면 어떻게 사용할 수 있나요?"
   ]
  },
  {
   "cell_type": "code",
   "execution_count": null,
   "id": "a0fa8da9",
   "metadata": {},
   "outputs": [],
   "source": [
    "class Person {\n",
    "  public name: string\n",
    "  private age: number\n",
    "  protected address: string\n",
    "\n",
    "  constructor(name: string, age: number, address: string) {\n",
    "    this.name = name\n",
    "    this.age = age\n",
    "    this.address = address\n",
    "  }\n",
    "\n",
    "  greet() {\n",
    "    console.log(`Hello, my name is ${this.name}`);\n",
    "  }\n",
    "\n",
    "  getAge() {\n",
    "    return this.age\n",
    "  }\n",
    "}\n",
    "\n",
    "class Employee extends Person {\n",
    "  private salary: number\n",
    "\n",
    "  constructor(name: string, age: number, address: string, salary: number) {\n",
    "    super(name, age, address)\n",
    "    this.salary = salary\n",
    "  }\n",
    "\n",
    "  getSalary() {\n",
    "    console.log(`${this.name} earns ${this.salary} per month.`);\n",
    "  }\n",
    "}"
   ]
  },
  {
   "attachments": {},
   "cell_type": "markdown",
   "id": "7153fb05",
   "metadata": {},
   "source": [
    "질문: 타입스크립트에서 정적 프로퍼티란 무엇이며 어떻게 액세스 할 수 있나요?"
   ]
  },
  {
   "cell_type": "code",
   "execution_count": null,
   "id": "903a104a",
   "metadata": {},
   "outputs": [],
   "source": [
    "class Calculator {\n",
    "  static PI: number = 3.14\n",
    "\n",
    "  static calculateCircumference(radius: number) {\n",
    "    return 2 * this.PI * radius\n",
    "  }\n",
    "}\n",
    "\n",
    "console.log(Calculator.PI);\n",
    "console.log(Calculator.calculateCircumference(5));"
   ]
  },
  {
   "attachments": {},
   "cell_type": "markdown",
   "id": "764fe921",
   "metadata": {},
   "source": [
    "질문: 타입스크립트에서 제네릭 클래스란 무엇이며 어떻게 사용할 수 있나요?"
   ]
  },
  {
   "cell_type": "code",
   "execution_count": null,
   "id": "d9e542ea",
   "metadata": {},
   "outputs": [],
   "source": [
    "class List<T> {\n",
    "  private items: T[] = []\n",
    "\n",
    "  addItem(item: T) {\n",
    "    this.items.push(item)\n",
    "  }\n",
    "\n",
    "  getItems() {\n",
    "    return this.items\n",
    "  }\n",
    "}\n",
    "\n",
    "const numbers = new List<number>()\n",
    "numbers.addItem(1)\n",
    "numbers.addItem(2)\n",
    "numbers.addItem(3)\n",
    "\n",
    "const names = new List<string>()\n",
    "names.addItem('Alice')\n",
    "names.addItem('Bob')\n",
    "names.addItem('Charlie')\n",
    "\n",
    "console.log(numbers.getItems());\n",
    "console.log(names.getItems());"
   ]
  },
  {
   "cell_type": "code",
   "execution_count": null,
   "id": "d1319145",
   "metadata": {},
   "outputs": [],
   "source": []
  },
  {
   "attachments": {},
   "cell_type": "markdown",
   "id": "645fd514",
   "metadata": {},
   "source": [
    "### 2. 프로퍼티와 메서드 정의하기"
   ]
  },
  {
   "attachments": {},
   "cell_type": "markdown",
   "id": "9a5f9f95",
   "metadata": {},
   "source": [
    "프로퍼티 정의하기"
   ]
  },
  {
   "cell_type": "code",
   "execution_count": null,
   "id": "9513c2d0",
   "metadata": {},
   "outputs": [],
   "source": [
    "class Person {\n",
    "  public name: string\n",
    "  private age: number\n",
    "  protected gender: string\n",
    "\n",
    "  constructor(name: string, age: number, gender: string) {\n",
    "    this.name = name\n",
    "    this.age = age\n",
    "    this.gender = gender\n",
    "  }\n",
    "}"
   ]
  },
  {
   "attachments": {},
   "cell_type": "markdown",
   "id": "fdcbecb5",
   "metadata": {},
   "source": [
    "메서드 정의"
   ]
  },
  {
   "cell_type": "code",
   "execution_count": null,
   "id": "5aa18ad7",
   "metadata": {},
   "outputs": [],
   "source": [
    "class Person2 {\n",
    "  public name: string\n",
    "  private age: number\n",
    "  protected gender: string\n",
    "\n",
    "  constructor(name: string, age: number, gender: string) {\n",
    "    this.name = name\n",
    "    this.age = age\n",
    "    this.gender = gender\n",
    "  }\n",
    "\n",
    "  public introduceSelf(): void {\n",
    "    console.log(`Hi, my name is ${this.name} and I ams a ${this.gender}.`);\n",
    "  }\n",
    "\n",
    "  private calculateYearsToRetirement(): number {\n",
    "    const yearsLeft = 65 - this.age\n",
    "    return yearsLeft > 0 ? yearsLeft : 0\n",
    "  }\n",
    "}"
   ]
  },
  {
   "attachments": {},
   "cell_type": "markdown",
   "id": "ca48473e",
   "metadata": {},
   "source": [
    "속성 및 메서드 액세스"
   ]
  },
  {
   "cell_type": "code",
   "execution_count": null,
   "id": "0f85a4b6",
   "metadata": {},
   "outputs": [],
   "source": [
    "const person1 = new Person2('Alice', 25, 'female')\n",
    "person1.introduceSelf()"
   ]
  },
  {
   "cell_type": "code",
   "execution_count": null,
   "id": "e245ab92",
   "metadata": {},
   "outputs": [],
   "source": [
    "const person2 = new Person2('Alice', 25, 'female')\n",
    "console.log(person2.name);"
   ]
  },
  {
   "cell_type": "code",
   "execution_count": null,
   "id": "f2be032b",
   "metadata": {},
   "outputs": [],
   "source": [
    "class Person3 {\n",
    "  private _age: number\n",
    "\n",
    "  get age(): number {\n",
    "    return this._age\n",
    "  }\n",
    "\n",
    "  set age(newAge: number) {\n",
    "    if (newAge >= 0) {\n",
    "      this._age = newAge\n",
    "    } else {\n",
    "      console.log('Age cannot be negative.');\n",
    "    }\n",
    "  }\n",
    "}\n",
    "\n",
    "const person3 = new Person3()\n",
    "person3.age = 25\n",
    "console.log(person3.age);"
   ]
  },
  {
   "cell_type": "code",
   "execution_count": null,
   "id": "4cdb8289",
   "metadata": {},
   "outputs": [],
   "source": []
  },
  {
   "attachments": {},
   "cell_type": "markdown",
   "id": "097c2eab",
   "metadata": {},
   "source": [
    "### 3. 접근 수정자 사용하기"
   ]
  },
  {
   "attachments": {},
   "cell_type": "markdown",
   "id": "f9986b74",
   "metadata": {},
   "source": [
    "타입스크립트의 액세스 수정자 유형"
   ]
  },
  {
   "cell_type": "code",
   "execution_count": null,
   "id": "e874f5df",
   "metadata": {},
   "outputs": [],
   "source": [
    "// public\n",
    "class Vehicle {\n",
    "  public color: string\n",
    "  public run(): void {\n",
    "    console.log('The vehicle is running');\n",
    "  }\n",
    "}"
   ]
  },
  {
   "cell_type": "code",
   "execution_count": null,
   "id": "6f93003a",
   "metadata": {},
   "outputs": [],
   "source": [
    "// private\n",
    "class Vehicle {\n",
    "  private color: string\n",
    "  private run(): void {\n",
    "    console.log('The vehicle is running');\n",
    "  }\n",
    "}"
   ]
  },
  {
   "cell_type": "code",
   "execution_count": null,
   "id": "5f9b0550",
   "metadata": {},
   "outputs": [],
   "source": [
    "// protected\n",
    "class Vehicle {\n",
    "  protected color: string\n",
    "  protected run(): void {\n",
    "    console.log('The vehicle is running');\n",
    "  }\n",
    "}\n",
    "\n",
    "class Car extends Vehicle {\n",
    "  public start(): void {\n",
    "    console.log('The car starts', this.color);\n",
    "    this.run()\n",
    "  }\n",
    "}"
   ]
  },
  {
   "attachments": {},
   "cell_type": "markdown",
   "id": "988b5b6a",
   "metadata": {},
   "source": [
    "타입스크립트 클래스에서 액세스 수정자를 사용하는 방법"
   ]
  },
  {
   "cell_type": "code",
   "execution_count": null,
   "id": "b6a93b0b",
   "metadata": {},
   "outputs": [],
   "source": [
    "// 1단계: 클래스 생성\n",
    "class Vehicle1 {\n",
    "  // ...\n",
    "}"
   ]
  },
  {
   "cell_type": "code",
   "execution_count": null,
   "id": "c32fd444",
   "metadata": {},
   "outputs": [],
   "source": [
    "// 2단계: 프로퍼티 및 메서드 정의\n",
    "class Vehicle2 {\n",
    "  public color: string\n",
    "  protected engine: string\n",
    "  private wheels: number\n",
    "  public run(): void {\n",
    "    console.log('The vehicle is running');\n",
    "  }\n",
    "}"
   ]
  },
  {
   "cell_type": "code",
   "execution_count": null,
   "id": "9464b6df",
   "metadata": {},
   "outputs": [],
   "source": [
    "// 3단계: 생성자 추가하기\n",
    "class Vehicle3 {\n",
    "  public color: string\n",
    "  protected engine: string\n",
    "  private wheels: number\n",
    "\n",
    "  constructor(color: string, engine: string, wheels: number) {\n",
    "    this.color = color\n",
    "    this.engine = engine\n",
    "    this.wheels = wheels\n",
    "  }\n",
    "\n",
    "  public run(): void {\n",
    "    console.log('The vehicle is running');\n",
    "  }\n",
    "}\n",
    "\n",
    "let myVehicle = new Vehicle3('red', 'V6', 4)"
   ]
  },
  {
   "cell_type": "code",
   "execution_count": null,
   "id": "57c2aa6d",
   "metadata": {},
   "outputs": [],
   "source": [
    "// 4단계: 프로퍼티 및 메서드에 접근하기\n",
    "console.log(myVehicle.color);\n",
    "console.log(myVehicle.engine);\n",
    "console.log(myVehicle.wheels);\n",
    "myVehicle.run()"
   ]
  },
  {
   "cell_type": "code",
   "execution_count": null,
   "id": "b557e09c",
   "metadata": {},
   "outputs": [],
   "source": [
    "// 5단계: 프로퍼티 및 메서드 수정하기\n",
    "class Vehicle5 {\n",
    "  public color: string\n",
    "  protected engine: string\n",
    "  private wheels: number\n",
    "\n",
    "  constructor(color: string, engine: string, wheels: number) {\n",
    "    this.color = color\n",
    "    this.engine = engine\n",
    "    this.wheels = wheels\n",
    "  }\n",
    "\n",
    "  public run(): void {\n",
    "    console.log('The vehicle is running');\n",
    "  }\n",
    "\n",
    "  public changeColor(color: string): void {\n",
    "    this.color = color\n",
    "  }\n",
    "\n",
    "  protected changeEngine(engine: string): void {\n",
    "    this.engine = engine\n",
    "  }\n",
    "\n",
    "  private changeWheels(wheels: number): void {\n",
    "    this.wheels = wheels\n",
    "  }\n",
    "}\n",
    "\n",
    "let myVehicle = new Vehicle('red', 'V6', 4)\n",
    "myVehicle.changeColor('blue')\n",
    "myVehicle.color\n",
    "myVehicle.changeEngine('V8')\n",
    "myVehicle.changeWheels(6)"
   ]
  },
  {
   "attachments": {},
   "cell_type": "markdown",
   "id": "41fc40d9",
   "metadata": {},
   "source": [
    "접근 수정자 및 상속"
   ]
  },
  {
   "cell_type": "code",
   "execution_count": null,
   "id": "8c04e152",
   "metadata": {},
   "outputs": [],
   "source": [
    "class Vehicle6 {\n",
    "  public color: string\n",
    "  protected engine: string\n",
    "\n",
    "  constructor(color: string, engine: string) {\n",
    "    this.color = color\n",
    "    this.engine = engine\n",
    "  }\n",
    "\n",
    "  public run(): void {\n",
    "    console.log('The vehicle is running');\n",
    "  }\n",
    "\n",
    "  protected start(): void {\n",
    "    console.log('The vehicle is starting...');\n",
    "  }\n",
    "}\n",
    "\n",
    "class Car extends Vehicle6 {\n",
    "  public doors: number\n",
    "\n",
    "  constructor(color: string, engine: string, doors: number) {\n",
    "    super(color, engine)\n",
    "    this.doors = doors\n",
    "  }\n",
    "\n",
    "  public acceleate(): void {\n",
    "    console.log('The car is accelerating...');\n",
    "  }\n",
    "\n",
    "  public startCar(): void {\n",
    "    this.start()\n",
    "  }\n",
    "}\n",
    "\n",
    "let myCar = new Car('grey', 'V6', 4)\n",
    "console.log(myCar.color);\n",
    "console.log(myCar.engine);\n",
    "console.log(myCar.doors);\n",
    "myCar.run()\n",
    "myCar.accelerate()\n",
    "myCar.startCar()"
   ]
  },
  {
   "cell_type": "code",
   "execution_count": null,
   "id": "a460ff79",
   "metadata": {},
   "outputs": [],
   "source": []
  },
  {
   "attachments": {},
   "cell_type": "markdown",
   "id": "a7043ea3",
   "metadata": {},
   "source": [
    "### 4. 생성자 및 생성자 오버로딩 이해하기"
   ]
  },
  {
   "attachments": {},
   "cell_type": "markdown",
   "id": "0ddc84d6",
   "metadata": {},
   "source": [
    "생성자 기본 사항"
   ]
  },
  {
   "cell_type": "code",
   "execution_count": null,
   "id": "baea8bef",
   "metadata": {},
   "outputs": [],
   "source": [
    "class Person {\n",
    "  name: string\n",
    "  age: number\n",
    "\n",
    "  constructor(name: string, age: number) {\n",
    "    this.name = name\n",
    "    this.age = age\n",
    "  }\n",
    "}\n",
    "\n",
    "const john = new Person('John Doe', 30)"
   ]
  },
  {
   "attachments": {},
   "cell_type": "markdown",
   "id": "d1b4d2eb",
   "metadata": {},
   "source": [
    "생성자 오버로드"
   ]
  },
  {
   "cell_type": "code",
   "execution_count": null,
   "id": "90b247f9",
   "metadata": {},
   "outputs": [],
   "source": [
    "class Person2 {\n",
    "  name: string\n",
    "  age: number\n",
    "\n",
    "  constructor(name: string)\n",
    "  constructor(name: string, age: number)\n",
    "  constructor(name: string, age?: number) {\n",
    "    this.name = name\n",
    "    this.age = age\n",
    "  }\n",
    "}\n",
    "\n",
    "const john = new Person2('John Doe')\n",
    "const jane = new Person2('Jane Smith', 25)\n",
    "const alice = new Person2('Alice')"
   ]
  },
  {
   "cell_type": "code",
   "execution_count": null,
   "id": "b0ec92d7",
   "metadata": {},
   "outputs": [],
   "source": []
  },
  {
   "attachments": {},
   "cell_type": "markdown",
   "id": "4cff5bb9",
   "metadata": {},
   "source": [
    "### 5. 객체 생성 및 사용하기"
   ]
  },
  {
   "attachments": {},
   "cell_type": "markdown",
   "id": "785788e4",
   "metadata": {},
   "source": [
    "타입스크립트에서 객체란 무엇인가요?"
   ]
  },
  {
   "cell_type": "code",
   "execution_count": null,
   "id": "486ed4e0",
   "metadata": {},
   "outputs": [],
   "source": [
    "let car = {\n",
    "  make: 'Tesla',\n",
    "  model: 'Model 3',\n",
    "  year: 2022,\n",
    "  isElectric: true,\n",
    "  features: ['autopilot', 'supercharging'],\n",
    "}"
   ]
  },
  {
   "attachments": {},
   "cell_type": "markdown",
   "id": "ecb71ec7",
   "metadata": {},
   "source": [
    "타입스크립에서 객체 생성하기"
   ]
  },
  {
   "cell_type": "code",
   "execution_count": null,
   "id": "09fc79a2",
   "metadata": {},
   "outputs": [],
   "source": [
    "// 객체 리터럴 사용\n",
    "let person = {\n",
    "  firstName: 'John',\n",
    "  lastName: 'Doe',\n",
    "  age: 32,\n",
    "  address: {\n",
    "    street: '123 Main St',\n",
    "    city: 'Anytown',\n",
    "    state: 'CA',\n",
    "    zip: '12345',\n",
    "  },\n",
    "}"
   ]
  },
  {
   "cell_type": "code",
   "execution_count": null,
   "id": "75c82a37",
   "metadata": {},
   "outputs": [],
   "source": [
    "// 생성자 함수 사용\n",
    "class Person {\n",
    "  firstName: string\n",
    "  lastName: string\n",
    "  age: number\n",
    "\n",
    "  constructor(firstName: string, lastName: string, age: number) {\n",
    "    this.firstName = firstName\n",
    "    this.lastName = lastName\n",
    "    this.age = age\n",
    "  }\n",
    "}\n",
    "\n",
    "let myPerson = new Person('John', 'Doe', 32)"
   ]
  },
  {
   "attachments": {},
   "cell_type": "markdown",
   "id": "9847fa57",
   "metadata": {},
   "source": [
    "객체 속성 액세스"
   ]
  },
  {
   "cell_type": "code",
   "execution_count": null,
   "id": "12cf41dd",
   "metadata": {},
   "outputs": [],
   "source": [
    "let person = {\n",
    "  firstName: 'John',\n",
    "  lastName: 'Doe',\n",
    "  age: 32,\n",
    "}\n",
    "\n",
    "console.log(person.firstName);\n",
    "console.log(person['lastName']);"
   ]
  },
  {
   "attachments": {},
   "cell_type": "markdown",
   "id": "8a122ffc",
   "metadata": {},
   "source": [
    "객체 속성 수정하기"
   ]
  },
  {
   "cell_type": "code",
   "execution_count": null,
   "id": "141116d1",
   "metadata": {},
   "outputs": [],
   "source": [
    "let person = {\n",
    "  firstName: 'John',\n",
    "  lastName: 'Doe',\n",
    "  age: 32,\n",
    "}\n",
    "\n",
    "person.age = 33\n",
    "\n",
    "console.log(person.age);"
   ]
  },
  {
   "attachments": {},
   "cell_type": "markdown",
   "id": "e7ac8659",
   "metadata": {},
   "source": [
    "객체 속성 추가 및 제거"
   ]
  },
  {
   "cell_type": "code",
   "execution_count": null,
   "id": "638d7378",
   "metadata": {},
   "outputs": [],
   "source": [
    "let person = {\n",
    "  firstName: 'John',\n",
    "  lastName: 'Doe',\n",
    "  age: 32,\n",
    "}\n",
    "\n",
    "person.email = 'john.doe@example.com'\n",
    "\n",
    "console.log(person.email);\n",
    "\n",
    "delete person.age\n",
    "\n",
    "console.log(person.age);"
   ]
  },
  {
   "attachments": {},
   "cell_type": "markdown",
   "id": "90511001",
   "metadata": {},
   "source": [
    "객체 메서드 사용"
   ]
  },
  {
   "cell_type": "code",
   "execution_count": null,
   "id": "beed86be",
   "metadata": {},
   "outputs": [],
   "source": [
    "let person = {\n",
    "  firstName: 'John',\n",
    "  lastName: 'Doe',\n",
    "  age: 32,\n",
    "  getFullName: function () {\n",
    "    return `${this.firstName} ${this.lastName}`\n",
    "  },\n",
    "}\n",
    "\n",
    "console.log(person.getFullName());"
   ]
  }
 ],
 "metadata": {
  "kernelspec": {
   "display_name": "TypeScript",
   "language": "typescript",
   "name": "tslab"
  },
  "language_info": {
   "codemirror_mode": {
    "mode": "typescript",
    "name": "javascript",
    "typescript": true
   },
   "file_extension": ".ts",
   "mimetype": "text/typescript",
   "name": "typescript",
   "version": "3.7.2"
  }
 },
 "nbformat": 4,
 "nbformat_minor": 5
}
