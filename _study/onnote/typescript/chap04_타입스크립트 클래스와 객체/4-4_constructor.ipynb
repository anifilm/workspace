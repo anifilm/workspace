{
 "cells": [
  {
   "attachments": {},
   "cell_type": "markdown",
   "id": "a7043ea3",
   "metadata": {},
   "source": [
    "### 4. 생성자 및 생성자 오버로딩 이해하기"
   ]
  },
  {
   "attachments": {},
   "cell_type": "markdown",
   "id": "0ddc84d6",
   "metadata": {},
   "source": [
    "생성자 기본 사항"
   ]
  },
  {
   "cell_type": "code",
   "execution_count": null,
   "id": "baea8bef",
   "metadata": {},
   "outputs": [],
   "source": [
    "class Person {\n",
    "  name: string;\n",
    "  age: number;\n",
    "\n",
    "  constructor(name: string, age: number) {\n",
    "    this.name = name;\n",
    "    this.age = age;\n",
    "  }\n",
    "}\n",
    "\n",
    "const john = new Person('John Doe', 30);"
   ]
  },
  {
   "attachments": {},
   "cell_type": "markdown",
   "id": "d1b4d2eb",
   "metadata": {},
   "source": [
    "생성자 오버로드"
   ]
  },
  {
   "cell_type": "code",
   "execution_count": null,
   "id": "90b247f9",
   "metadata": {},
   "outputs": [],
   "source": [
    "class Person2 {\n",
    "  name: string;\n",
    "  age: number;\n",
    "\n",
    "  constructor(name: string);\n",
    "  constructor(name: string, age: number);\n",
    "  constructor(name: string, age?: number) {\n",
    "    this.name = name;\n",
    "    this.age = age;\n",
    "  }\n",
    "}\n",
    "\n",
    "const john = new Person2('John Doe');\n",
    "const jane = new Person2('Jane Smith', 25);\n",
    "const alice = new Person2('Alice');"
   ]
  }
 ],
 "metadata": {
  "kernelspec": {
   "display_name": "TypeScript",
   "language": "typescript",
   "name": "tslab"
  },
  "language_info": {
   "codemirror_mode": {
    "mode": "typescript",
    "name": "javascript",
    "typescript": true
   },
   "file_extension": ".ts",
   "mimetype": "text/typescript",
   "name": "typescript",
   "version": "3.7.2"
  }
 },
 "nbformat": 4,
 "nbformat_minor": 5
}
