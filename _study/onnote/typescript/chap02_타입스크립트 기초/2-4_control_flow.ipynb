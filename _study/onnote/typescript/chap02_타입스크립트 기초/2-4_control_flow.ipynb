{
 "cells": [
  {
   "attachments": {},
   "cell_type": "markdown",
   "id": "2cbc2fdf",
   "metadata": {},
   "source": [
    "### 4. 제어 흐름 문"
   ]
  },
  {
   "attachments": {},
   "cell_type": "markdown",
   "id": "98066a3e",
   "metadata": {},
   "source": [
    "if-else 문"
   ]
  },
  {
   "cell_type": "code",
   "execution_count": 29,
   "id": "f0aa869c",
   "metadata": {},
   "outputs": [
    {
     "name": "stdout",
     "output_type": "stream",
     "text": [
      "x is greater than 5\n"
     ]
    }
   ],
   "source": [
    "let x = 10;\n",
    "\n",
    "if (x > 5) {\n",
    "  console.log('x is greater than 5');\n",
    "}\n",
    "else {\n",
    "  console.log('x is less than or equal to 5');\n",
    "}"
   ]
  },
  {
   "attachments": {},
   "cell_type": "markdown",
   "id": "43e9f3fd",
   "metadata": {},
   "source": [
    "switch 문"
   ]
  },
  {
   "cell_type": "code",
   "execution_count": 30,
   "id": "9b0c55c1",
   "metadata": {},
   "outputs": [
    {
     "name": "stdout",
     "output_type": "stream",
     "text": [
      "x is 3\n"
     ]
    }
   ],
   "source": [
    "let x = 3;\n",
    "\n",
    "switch (x) {\n",
    "  case 1:\n",
    "    console.log('x is 1');\n",
    "    break;\n",
    "  case 2:\n",
    "    console.log('x is 2');\n",
    "    break;\n",
    "  case 3:\n",
    "    console.log('x is 3');\n",
    "    break;\n",
    "  default:\n",
    "    console.log('x is not 1, 2 or 3');\n",
    "    break;\n",
    "}"
   ]
  },
  {
   "attachments": {},
   "cell_type": "markdown",
   "id": "175c69aa",
   "metadata": {},
   "source": [
    "while 루프"
   ]
  },
  {
   "cell_type": "code",
   "execution_count": 31,
   "id": "38739fe8",
   "metadata": {},
   "outputs": [
    {
     "name": "stdout",
     "output_type": "stream",
     "text": [
      "\u001b[33m1\u001b[39m\n",
      "\u001b[33m2\u001b[39m\n",
      "\u001b[33m3\u001b[39m\n",
      "\u001b[33m4\u001b[39m\n",
      "\u001b[33m5\u001b[39m\n"
     ]
    }
   ],
   "source": [
    "let x = 1;\n",
    "\n",
    "while (x <= 5) {\n",
    "  console.log(x);\n",
    "  x++;\n",
    "}"
   ]
  },
  {
   "attachments": {},
   "cell_type": "markdown",
   "id": "4a50cca5",
   "metadata": {},
   "source": [
    "for 루프"
   ]
  },
  {
   "cell_type": "code",
   "execution_count": 32,
   "id": "5d601783",
   "metadata": {},
   "outputs": [
    {
     "name": "stdout",
     "output_type": "stream",
     "text": [
      "\u001b[33m1\u001b[39m\n",
      "\u001b[33m2\u001b[39m\n",
      "\u001b[33m3\u001b[39m\n",
      "\u001b[33m4\u001b[39m\n",
      "\u001b[33m5\u001b[39m\n"
     ]
    }
   ],
   "source": [
    "for (let i = 1; i <= 5; i++) {\n",
    "  console.log(i);\n",
    "}"
   ]
  }
 ],
 "metadata": {
  "kernelspec": {
   "display_name": "TypeScript",
   "language": "typescript",
   "name": "tslab"
  },
  "language_info": {
   "codemirror_mode": {
    "mode": "typescript",
    "name": "javascript",
    "typescript": true
   },
   "file_extension": ".ts",
   "mimetype": "text/typescript",
   "name": "typescript",
   "version": "3.7.2"
  }
 },
 "nbformat": 4,
 "nbformat_minor": 5
}
