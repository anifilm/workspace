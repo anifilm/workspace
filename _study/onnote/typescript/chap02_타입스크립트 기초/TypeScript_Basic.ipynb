{
 "cells": [
  {
   "attachments": {},
   "cell_type": "markdown",
   "id": "f9c2fc95",
   "metadata": {},
   "source": [
    "### 1. 타입 및 어노테이션 이해하기"
   ]
  },
  {
   "attachments": {},
   "cell_type": "markdown",
   "id": "81a15417",
   "metadata": {},
   "source": [
    "타입스크립트의 기본 타입"
   ]
  },
  {
   "cell_type": "code",
   "execution_count": 2,
   "id": "aea49aff",
   "metadata": {},
   "outputs": [],
   "source": [
    "let myNumber: number = 10"
   ]
  },
  {
   "cell_type": "code",
   "execution_count": 3,
   "id": "1ab65578",
   "metadata": {},
   "outputs": [],
   "source": [
    "let myString: string = 'Hello, world!'"
   ]
  },
  {
   "cell_type": "code",
   "execution_count": 4,
   "id": "583184c8",
   "metadata": {},
   "outputs": [],
   "source": [
    "let isTrue: boolean = true"
   ]
  },
  {
   "cell_type": "code",
   "execution_count": 5,
   "id": "423aaa8c",
   "metadata": {},
   "outputs": [
    {
     "name": "stdout",
     "output_type": "stream",
     "text": [
      "Hello, world!\n"
     ]
    }
   ],
   "source": [
    "let myValue: any = 5\n",
    "myValue = 'Hello, world!'"
   ]
  },
  {
   "attachments": {},
   "cell_type": "markdown",
   "id": "4039b550",
   "metadata": {},
   "source": [
    "타입 어노테이션"
   ]
  },
  {
   "cell_type": "code",
   "execution_count": 6,
   "id": "4d1e0907",
   "metadata": {},
   "outputs": [],
   "source": [
    "// 변수 타입 선언하기\n",
    "let myNumber: number = 123\n",
    "let myString: string = 'Hello, world!'\n",
    "let isTrue: boolean = true"
   ]
  },
  {
   "cell_type": "code",
   "execution_count": 7,
   "id": "b2700ce1",
   "metadata": {},
   "outputs": [],
   "source": [
    "// 함수 매개변수 어노테이션\n",
    "function addNumbers(x: number, y: number): number {\n",
    "  return x + y\n",
    "}"
   ]
  },
  {
   "attachments": {},
   "cell_type": "markdown",
   "id": "8008a613",
   "metadata": {},
   "source": [
    "인터페이스"
   ]
  },
  {
   "cell_type": "code",
   "execution_count": 8,
   "id": "33405e42",
   "metadata": {},
   "outputs": [],
   "source": [
    "interface Person {\n",
    "  name: string;\n",
    "  age: number;\n",
    "}\n",
    "\n",
    "let john: Person = { name: 'John', age: 30 };"
   ]
  },
  {
   "attachments": {},
   "cell_type": "markdown",
   "id": "8fd7a54a",
   "metadata": {},
   "source": [
    "클래스"
   ]
  },
  {
   "cell_type": "code",
   "execution_count": 9,
   "id": "876f7545",
   "metadata": {},
   "outputs": [],
   "source": [
    "class Car {\n",
    "  make: string;\n",
    "  model: string;\n",
    "  year: number;\n",
    "    \n",
    "  constructor(make: string, model: string, year: number) {\n",
    "    this.make = make;\n",
    "    this.model = model;\n",
    "    this.year = year;\n",
    "  }\n",
    "}\n",
    "\n",
    "let myCar = new Car('Honda', 'Accord', 2020);"
   ]
  },
  {
   "cell_type": "code",
   "execution_count": null,
   "id": "af3c7239",
   "metadata": {},
   "outputs": [],
   "source": []
  },
  {
   "attachments": {},
   "cell_type": "markdown",
   "id": "ae84e3b7",
   "metadata": {},
   "source": [
    "### 2. 변수 및 상수 작업하기"
   ]
  },
  {
   "attachments": {},
   "cell_type": "markdown",
   "id": "c9262787",
   "metadata": {},
   "source": [
    "변수 및 상수 선언하기"
   ]
  },
  {
   "cell_type": "code",
   "execution_count": 10,
   "id": "549cb1c9",
   "metadata": {},
   "outputs": [],
   "source": [
    "let myVariable: number = 10;"
   ]
  },
  {
   "cell_type": "code",
   "execution_count": 11,
   "id": "d5317071",
   "metadata": {},
   "outputs": [],
   "source": [
    "const myConstant: string = 'Hello, world!';"
   ]
  },
  {
   "attachments": {},
   "cell_type": "markdown",
   "id": "b18e92a9",
   "metadata": {},
   "source": [
    "데이터 타입"
   ]
  },
  {
   "cell_type": "code",
   "execution_count": 12,
   "id": "d4e4f838",
   "metadata": {},
   "outputs": [],
   "source": [
    "// String\n",
    "let myString: string = 'Hello';\n",
    "let anotherString: string = 'world';"
   ]
  },
  {
   "cell_type": "code",
   "execution_count": 13,
   "id": "4d2016a9",
   "metadata": {},
   "outputs": [],
   "source": [
    "// Number\n",
    "let myNumber: number = 10;\n",
    "let anotherNumber: number = 3.14;"
   ]
  },
  {
   "cell_type": "code",
   "execution_count": 14,
   "id": "acacda89",
   "metadata": {},
   "outputs": [],
   "source": [
    "// Boolean\n",
    "let myBoolean: boolean = true;\n",
    "let anotherBoolean: boolean = false;"
   ]
  },
  {
   "cell_type": "code",
   "execution_count": 15,
   "id": "692ff72b",
   "metadata": {},
   "outputs": [],
   "source": [
    "// Object\n",
    "let myObject: object = {\n",
    "  name: 'John',\n",
    "  age: 30,\n",
    "  getAddress: function() {\n",
    "    return '123 Main St.';\n",
    "  },\n",
    "}"
   ]
  },
  {
   "cell_type": "code",
   "execution_count": 16,
   "id": "e6832451",
   "metadata": {},
   "outputs": [],
   "source": [
    "// Array\n",
    "let myArray: number[] = [1, 2, 3, 4, 5];\n",
    "let anotherArray: string[] = ['apple', 'banana', 'orange'];"
   ]
  },
  {
   "cell_type": "code",
   "execution_count": 17,
   "id": "aa9de9e4",
   "metadata": {},
   "outputs": [],
   "source": [
    "// Tuple\n",
    "let myTuple: [string, number, boolean] = ['John', 30, true];"
   ]
  },
  {
   "cell_type": "code",
   "execution_count": 18,
   "id": "b21f4fc4",
   "metadata": {},
   "outputs": [],
   "source": [
    "// Enum\n",
    "enum Color {\n",
    "  Red,\n",
    "  Green,\n",
    "  Blue,\n",
    "}\n",
    "\n",
    "let myColor: Color = Color.Red;"
   ]
  },
  {
   "cell_type": "code",
   "execution_count": 19,
   "id": "4cd16ee0",
   "metadata": {},
   "outputs": [],
   "source": [
    "// Void\n",
    "function log(message: string): void {\n",
    "  console.log(message);\n",
    "}"
   ]
  },
  {
   "cell_type": "code",
   "execution_count": 20,
   "id": "e9303263",
   "metadata": {},
   "outputs": [
    {
     "name": "stdout",
     "output_type": "stream",
     "text": [
      "Hello world\n"
     ]
    }
   ],
   "source": [
    "// Any\n",
    "let myAny: any = 10;\n",
    "myAny = 'Hello, world!';"
   ]
  },
  {
   "cell_type": "code",
   "execution_count": 21,
   "id": "89b9823b",
   "metadata": {},
   "outputs": [],
   "source": [
    "// 타입 추론\n",
    "let myVariable = 10;\n",
    "let myString = 'Hello';"
   ]
  },
  {
   "cell_type": "code",
   "execution_count": 22,
   "id": "c5fc36ce",
   "metadata": {},
   "outputs": [],
   "source": [
    "// 타입 어설션\n",
    "let myAny: any = 'Hello, world!';\n",
    "let myString: string = <string>myAny;\n",
    "let anotherString: string = myAny as string;"
   ]
  },
  {
   "cell_type": "code",
   "execution_count": null,
   "id": "a34728df",
   "metadata": {},
   "outputs": [],
   "source": []
  },
  {
   "attachments": {},
   "cell_type": "markdown",
   "id": "6eb02242",
   "metadata": {},
   "source": [
    "### 3. 연산자 및 표현식 사용하기"
   ]
  },
  {
   "attachments": {},
   "cell_type": "markdown",
   "id": "28d480f6",
   "metadata": {},
   "source": [
    "산술 연산자"
   ]
  },
  {
   "cell_type": "code",
   "execution_count": 6,
   "id": "22ddbff9",
   "metadata": {},
   "outputs": [
    {
     "name": "stdout",
     "output_type": "stream",
     "text": [
      "9\n",
      "3\n",
      "18\n",
      "2\n",
      "0\n"
     ]
    }
   ],
   "source": [
    "// Arithmetic Operators\n",
    "let a: number = 6;\n",
    "let b: number = 3;\n",
    "\n",
    "console.log(a + b);\n",
    "console.log(a - b);\n",
    "console.log(a * b);\n",
    "console.log(a / b);\n",
    "console.log(a % b);"
   ]
  },
  {
   "attachments": {},
   "cell_type": "markdown",
   "id": "f234d64d",
   "metadata": {},
   "source": [
    "할당 연산자"
   ]
  },
  {
   "cell_type": "code",
   "execution_count": 24,
   "id": "bf83d1d4",
   "metadata": {},
   "outputs": [
    {
     "name": "stdout",
     "output_type": "stream",
     "text": [
      "\u001b[33m7\u001b[39m\n",
      "\u001b[33m5\u001b[39m\n",
      "\u001b[33m10\u001b[39m\n",
      "\u001b[33m5\u001b[39m\n",
      "\u001b[33m1\u001b[39m\n"
     ]
    }
   ],
   "source": [
    "// Assignment Operators\n",
    "let a: number = 5;\n",
    "let b: number = 2;\n",
    "\n",
    "a += b;\n",
    "console.log(a);\n",
    "\n",
    "a -= b;\n",
    "console.log(a);\n",
    "\n",
    "a *= b;\n",
    "console.log(a);\n",
    "\n",
    "a /= b;\n",
    "console.log(a);\n",
    "\n",
    "a %= b;\n",
    "console.log(a);"
   ]
  },
  {
   "attachments": {},
   "cell_type": "markdown",
   "id": "7bdc42a4",
   "metadata": {},
   "source": [
    "비교 연산자"
   ]
  },
  {
   "cell_type": "code",
   "execution_count": 25,
   "id": "27a6e097",
   "metadata": {},
   "outputs": [
    {
     "name": "stdout",
     "output_type": "stream",
     "text": [
      "\u001b[33mfalse\u001b[39m\n",
      "\u001b[33mtrue\u001b[39m\n",
      "\u001b[33mtrue\u001b[39m\n",
      "\u001b[33mfalse\u001b[39m\n",
      "\u001b[33mtrue\u001b[39m\n",
      "\u001b[33mfalse\u001b[39m\n"
     ]
    }
   ],
   "source": [
    "// Comparison Operators\n",
    "let a: number = 5;\n",
    "let b: number = 2;\n",
    "\n",
    "console.log(a == b);\n",
    "console.log(a != b);\n",
    "console.log(a > b);\n",
    "console.log(a < b);\n",
    "console.log(a >= b);\n",
    "console.log(a <= b);"
   ]
  },
  {
   "attachments": {},
   "cell_type": "markdown",
   "id": "0a70ffea",
   "metadata": {},
   "source": [
    "논리 연산자"
   ]
  },
  {
   "cell_type": "code",
   "execution_count": 26,
   "id": "500d90be",
   "metadata": {},
   "outputs": [
    {
     "name": "stdout",
     "output_type": "stream",
     "text": [
      "\u001b[33mfalse\u001b[39m\n",
      "\u001b[33mtrue\u001b[39m\n",
      "\u001b[33mfalse\u001b[39m\n"
     ]
    }
   ],
   "source": [
    "// Logical Operators\n",
    "let a: boolean = true;\n",
    "let b: boolean = false;\n",
    "\n",
    "console.log(a && b);\n",
    "console.log(a || b);\n",
    "console.log(!a);"
   ]
  },
  {
   "attachments": {},
   "cell_type": "markdown",
   "id": "19effbee",
   "metadata": {},
   "source": [
    "타입 연산자"
   ]
  },
  {
   "cell_type": "code",
   "execution_count": 27,
   "id": "3462b059",
   "metadata": {},
   "outputs": [
    {
     "name": "stdout",
     "output_type": "stream",
     "text": [
      "number\n",
      "string\n"
     ]
    }
   ],
   "source": [
    "// Typeof Operator\n",
    "let a: number = 5;\n",
    "let b: string = 'hello';\n",
    "\n",
    "console.log(typeof(a));\n",
    "console.log(typeof(b));"
   ]
  },
  {
   "attachments": {},
   "cell_type": "markdown",
   "id": "e9ead8f7",
   "metadata": {},
   "source": [
    "조건 연산자"
   ]
  },
  {
   "cell_type": "code",
   "execution_count": 28,
   "id": "f483b0a5",
   "metadata": {},
   "outputs": [
    {
     "name": "stdout",
     "output_type": "stream",
     "text": [
      "a is greather than b\n"
     ]
    }
   ],
   "source": [
    "// Conditional Operator\n",
    "let a: number = 5;\n",
    "let b: number = 2;\n",
    "\n",
    "let result: string = (a > b) ? 'a is greather than b' : 'b is greater than a';\n",
    "console.log(result);"
   ]
  },
  {
   "cell_type": "code",
   "execution_count": null,
   "id": "97b1ad4f",
   "metadata": {},
   "outputs": [],
   "source": []
  },
  {
   "attachments": {},
   "cell_type": "markdown",
   "id": "2cbc2fdf",
   "metadata": {},
   "source": [
    "### 4. 제어 흐름 문"
   ]
  },
  {
   "attachments": {},
   "cell_type": "markdown",
   "id": "98066a3e",
   "metadata": {},
   "source": [
    "if-else 문"
   ]
  },
  {
   "cell_type": "code",
   "execution_count": 29,
   "id": "f0aa869c",
   "metadata": {},
   "outputs": [
    {
     "name": "stdout",
     "output_type": "stream",
     "text": [
      "x is greater than 5\n"
     ]
    }
   ],
   "source": [
    "let x = 10;\n",
    "\n",
    "if (x > 5) {\n",
    "  console.log('x is greater than 5');\n",
    "}\n",
    "else {\n",
    "  console.log('x is less than or equal to 5');\n",
    "}"
   ]
  },
  {
   "attachments": {},
   "cell_type": "markdown",
   "id": "43e9f3fd",
   "metadata": {},
   "source": [
    "switch 문"
   ]
  },
  {
   "cell_type": "code",
   "execution_count": 30,
   "id": "9b0c55c1",
   "metadata": {},
   "outputs": [
    {
     "name": "stdout",
     "output_type": "stream",
     "text": [
      "x is 3\n"
     ]
    }
   ],
   "source": [
    "let x = 3;\n",
    "\n",
    "switch (x) {\n",
    "  case 1:\n",
    "    console.log('x is 1');\n",
    "    break;\n",
    "  case 2:\n",
    "    console.log('x is 2');\n",
    "    break;\n",
    "  case 3:\n",
    "    console.log('x is 3');\n",
    "    break;\n",
    "  default:\n",
    "    console.log('x is not 1, 2 or 3');\n",
    "    break;\n",
    "}"
   ]
  },
  {
   "attachments": {},
   "cell_type": "markdown",
   "id": "175c69aa",
   "metadata": {},
   "source": [
    "while 루프"
   ]
  },
  {
   "cell_type": "code",
   "execution_count": 31,
   "id": "38739fe8",
   "metadata": {},
   "outputs": [
    {
     "name": "stdout",
     "output_type": "stream",
     "text": [
      "\u001b[33m1\u001b[39m\n",
      "\u001b[33m2\u001b[39m\n",
      "\u001b[33m3\u001b[39m\n",
      "\u001b[33m4\u001b[39m\n",
      "\u001b[33m5\u001b[39m\n"
     ]
    }
   ],
   "source": [
    "let x = 1;\n",
    "\n",
    "while (x <= 5) {\n",
    "  console.log(x);\n",
    "  x++;\n",
    "}"
   ]
  },
  {
   "attachments": {},
   "cell_type": "markdown",
   "id": "4a50cca5",
   "metadata": {},
   "source": [
    "for 루프"
   ]
  },
  {
   "cell_type": "code",
   "execution_count": 32,
   "id": "5d601783",
   "metadata": {},
   "outputs": [
    {
     "name": "stdout",
     "output_type": "stream",
     "text": [
      "\u001b[33m1\u001b[39m\n",
      "\u001b[33m2\u001b[39m\n",
      "\u001b[33m3\u001b[39m\n",
      "\u001b[33m4\u001b[39m\n",
      "\u001b[33m5\u001b[39m\n"
     ]
    }
   ],
   "source": [
    "for (let i = 1; i <= 5; i++) {\n",
    "  console.log(i);\n",
    "}"
   ]
  }
 ],
 "metadata": {
  "kernelspec": {
   "display_name": "TypeScript",
   "language": "typescript",
   "name": "tslab"
  },
  "language_info": {
   "codemirror_mode": {
    "mode": "typescript",
    "name": "javascript",
    "typescript": true
   },
   "file_extension": ".ts",
   "mimetype": "text/typescript",
   "name": "typescript",
   "version": "3.7.2"
  }
 },
 "nbformat": 4,
 "nbformat_minor": 5
}
