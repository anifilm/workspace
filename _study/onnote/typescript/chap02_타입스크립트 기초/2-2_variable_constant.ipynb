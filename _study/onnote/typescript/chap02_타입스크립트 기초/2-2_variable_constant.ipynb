{
 "cells": [
  {
   "attachments": {},
   "cell_type": "markdown",
   "id": "ae84e3b7",
   "metadata": {},
   "source": [
    "### 2. 변수 및 상수 작업하기"
   ]
  },
  {
   "attachments": {},
   "cell_type": "markdown",
   "id": "c9262787",
   "metadata": {},
   "source": [
    "변수 및 상수 선언하기"
   ]
  },
  {
   "cell_type": "code",
   "execution_count": 10,
   "id": "549cb1c9",
   "metadata": {},
   "outputs": [],
   "source": [
    "let myVariable: number = 10;"
   ]
  },
  {
   "cell_type": "code",
   "execution_count": 11,
   "id": "d5317071",
   "metadata": {},
   "outputs": [],
   "source": [
    "const myConstant: string = 'Hello, world!';"
   ]
  },
  {
   "attachments": {},
   "cell_type": "markdown",
   "id": "b18e92a9",
   "metadata": {},
   "source": [
    "데이터 타입"
   ]
  },
  {
   "cell_type": "code",
   "execution_count": 12,
   "id": "d4e4f838",
   "metadata": {},
   "outputs": [],
   "source": [
    "// String\n",
    "let myString: string = 'Hello';\n",
    "let anotherString: string = 'world';"
   ]
  },
  {
   "cell_type": "code",
   "execution_count": 13,
   "id": "4d2016a9",
   "metadata": {},
   "outputs": [],
   "source": [
    "// Number\n",
    "let myNumber: number = 10;\n",
    "let anotherNumber: number = 3.14;"
   ]
  },
  {
   "cell_type": "code",
   "execution_count": 14,
   "id": "acacda89",
   "metadata": {},
   "outputs": [],
   "source": [
    "// Boolean\n",
    "let myBoolean: boolean = true;\n",
    "let anotherBoolean: boolean = false;"
   ]
  },
  {
   "cell_type": "code",
   "execution_count": 15,
   "id": "692ff72b",
   "metadata": {},
   "outputs": [],
   "source": [
    "// Object\n",
    "let myObject: object = {\n",
    "  name: 'John',\n",
    "  age: 30,\n",
    "  getAddress: function() {\n",
    "    return '123 Main St.';\n",
    "  },\n",
    "}"
   ]
  },
  {
   "cell_type": "code",
   "execution_count": 16,
   "id": "e6832451",
   "metadata": {},
   "outputs": [],
   "source": [
    "// Array\n",
    "let myArray: number[] = [1, 2, 3, 4, 5];\n",
    "let anotherArray: string[] = ['apple', 'banana', 'orange'];"
   ]
  },
  {
   "cell_type": "code",
   "execution_count": 17,
   "id": "aa9de9e4",
   "metadata": {},
   "outputs": [],
   "source": [
    "// Tuple\n",
    "let myTuple: [string, number, boolean] = ['John', 30, true];"
   ]
  },
  {
   "cell_type": "code",
   "execution_count": 18,
   "id": "b21f4fc4",
   "metadata": {},
   "outputs": [],
   "source": [
    "// Enum\n",
    "enum Color {\n",
    "  Red,\n",
    "  Green,\n",
    "  Blue,\n",
    "}\n",
    "\n",
    "let myColor: Color = Color.Red;"
   ]
  },
  {
   "cell_type": "code",
   "execution_count": 19,
   "id": "4cd16ee0",
   "metadata": {},
   "outputs": [],
   "source": [
    "// Void\n",
    "function log(message: string): void {\n",
    "  console.log(message);\n",
    "}"
   ]
  },
  {
   "cell_type": "code",
   "execution_count": 20,
   "id": "e9303263",
   "metadata": {},
   "outputs": [
    {
     "name": "stdout",
     "output_type": "stream",
     "text": [
      "Hello world\n"
     ]
    }
   ],
   "source": [
    "// Any\n",
    "let myAny: any = 10;\n",
    "myAny = 'Hello, world!';"
   ]
  },
  {
   "cell_type": "code",
   "execution_count": 21,
   "id": "89b9823b",
   "metadata": {},
   "outputs": [],
   "source": [
    "// 타입 추론\n",
    "let myVariable = 10;\n",
    "let myString = 'Hello';"
   ]
  },
  {
   "cell_type": "code",
   "execution_count": 22,
   "id": "c5fc36ce",
   "metadata": {},
   "outputs": [],
   "source": [
    "// 타입 어설션\n",
    "let myAny: any = 'Hello, world!';\n",
    "let myString: string = <string>myAny;\n",
    "let anotherString: string = myAny as string;"
   ]
  }
 ],
 "metadata": {
  "kernelspec": {
   "display_name": "TypeScript",
   "language": "typescript",
   "name": "tslab"
  },
  "language_info": {
   "codemirror_mode": {
    "mode": "typescript",
    "name": "javascript",
    "typescript": true
   },
   "file_extension": ".ts",
   "mimetype": "text/typescript",
   "name": "typescript",
   "version": "3.7.2"
  }
 },
 "nbformat": 4,
 "nbformat_minor": 5
}
