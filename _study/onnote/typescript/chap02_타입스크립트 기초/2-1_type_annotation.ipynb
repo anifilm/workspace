{
 "cells": [
  {
   "attachments": {},
   "cell_type": "markdown",
   "id": "f9c2fc95",
   "metadata": {},
   "source": [
    "### 1. 타입 및 어노테이션 이해하기"
   ]
  },
  {
   "attachments": {},
   "cell_type": "markdown",
   "id": "81a15417",
   "metadata": {},
   "source": [
    "타입스크립트의 기본 타입"
   ]
  },
  {
   "cell_type": "code",
   "execution_count": 2,
   "id": "aea49aff",
   "metadata": {},
   "outputs": [],
   "source": [
    "let myNumber: number = 10"
   ]
  },
  {
   "cell_type": "code",
   "execution_count": 3,
   "id": "1ab65578",
   "metadata": {},
   "outputs": [],
   "source": [
    "let myString: string = 'Hello, world!'"
   ]
  },
  {
   "cell_type": "code",
   "execution_count": 4,
   "id": "583184c8",
   "metadata": {},
   "outputs": [],
   "source": [
    "let isTrue: boolean = true"
   ]
  },
  {
   "cell_type": "code",
   "execution_count": 5,
   "id": "423aaa8c",
   "metadata": {},
   "outputs": [
    {
     "name": "stdout",
     "output_type": "stream",
     "text": [
      "Hello, world!\n"
     ]
    }
   ],
   "source": [
    "let myValue: any = 5\n",
    "myValue = 'Hello, world!'"
   ]
  },
  {
   "attachments": {},
   "cell_type": "markdown",
   "id": "4039b550",
   "metadata": {},
   "source": [
    "타입 어노테이션"
   ]
  },
  {
   "cell_type": "code",
   "execution_count": 6,
   "id": "4d1e0907",
   "metadata": {},
   "outputs": [],
   "source": [
    "// 변수 타입 선언하기\n",
    "let myNumber: number = 123\n",
    "let myString: string = 'Hello, world!'\n",
    "let isTrue: boolean = true"
   ]
  },
  {
   "cell_type": "code",
   "execution_count": 7,
   "id": "b2700ce1",
   "metadata": {},
   "outputs": [],
   "source": [
    "// 함수 매개변수 어노테이션\n",
    "function addNumbers(x: number, y: number): number {\n",
    "  return x + y\n",
    "}"
   ]
  },
  {
   "attachments": {},
   "cell_type": "markdown",
   "id": "8008a613",
   "metadata": {},
   "source": [
    "인터페이스"
   ]
  },
  {
   "cell_type": "code",
   "execution_count": 8,
   "id": "33405e42",
   "metadata": {},
   "outputs": [],
   "source": [
    "interface Person {\n",
    "  name: string;\n",
    "  age: number;\n",
    "}\n",
    "\n",
    "let john: Person = { name: 'John', age: 30 };"
   ]
  },
  {
   "attachments": {},
   "cell_type": "markdown",
   "id": "8fd7a54a",
   "metadata": {},
   "source": [
    "클래스"
   ]
  },
  {
   "cell_type": "code",
   "execution_count": 9,
   "id": "876f7545",
   "metadata": {},
   "outputs": [],
   "source": [
    "class Car {\n",
    "  make: string;\n",
    "  model: string;\n",
    "  year: number;\n",
    "    \n",
    "  constructor(make: string, model: string, year: number) {\n",
    "    this.make = make;\n",
    "    this.model = model;\n",
    "    this.year = year;\n",
    "  }\n",
    "}\n",
    "\n",
    "let myCar = new Car('Honda', 'Accord', 2020);"
   ]
  }
 ],
 "metadata": {
  "kernelspec": {
   "display_name": "TypeScript",
   "language": "typescript",
   "name": "tslab"
  },
  "language_info": {
   "codemirror_mode": {
    "mode": "typescript",
    "name": "javascript",
    "typescript": true
   },
   "file_extension": ".ts",
   "mimetype": "text/typescript",
   "name": "typescript",
   "version": "3.7.2"
  }
 },
 "nbformat": 4,
 "nbformat_minor": 5
}
