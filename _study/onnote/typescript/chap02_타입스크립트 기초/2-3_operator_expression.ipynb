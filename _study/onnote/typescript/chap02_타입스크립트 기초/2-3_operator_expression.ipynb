{
 "cells": [
  {
   "attachments": {},
   "cell_type": "markdown",
   "id": "6eb02242",
   "metadata": {},
   "source": [
    "### 3. 연산자 및 표현식 사용하기"
   ]
  },
  {
   "attachments": {},
   "cell_type": "markdown",
   "id": "28d480f6",
   "metadata": {},
   "source": [
    "산술 연산자"
   ]
  },
  {
   "cell_type": "code",
   "execution_count": 6,
   "id": "22ddbff9",
   "metadata": {},
   "outputs": [
    {
     "name": "stdout",
     "output_type": "stream",
     "text": [
      "9\n",
      "3\n",
      "18\n",
      "2\n",
      "0\n"
     ]
    }
   ],
   "source": [
    "// Arithmetic Operators\n",
    "let a: number = 6;\n",
    "let b: number = 3;\n",
    "\n",
    "console.log(a + b);\n",
    "console.log(a - b);\n",
    "console.log(a * b);\n",
    "console.log(a / b);\n",
    "console.log(a % b);"
   ]
  },
  {
   "attachments": {},
   "cell_type": "markdown",
   "id": "f234d64d",
   "metadata": {},
   "source": [
    "할당 연산자"
   ]
  },
  {
   "cell_type": "code",
   "execution_count": 24,
   "id": "bf83d1d4",
   "metadata": {},
   "outputs": [
    {
     "name": "stdout",
     "output_type": "stream",
     "text": [
      "\u001b[33m7\u001b[39m\n",
      "\u001b[33m5\u001b[39m\n",
      "\u001b[33m10\u001b[39m\n",
      "\u001b[33m5\u001b[39m\n",
      "\u001b[33m1\u001b[39m\n"
     ]
    }
   ],
   "source": [
    "// Assignment Operators\n",
    "let a: number = 5;\n",
    "let b: number = 2;\n",
    "\n",
    "a += b;\n",
    "console.log(a);\n",
    "\n",
    "a -= b;\n",
    "console.log(a);\n",
    "\n",
    "a *= b;\n",
    "console.log(a);\n",
    "\n",
    "a /= b;\n",
    "console.log(a);\n",
    "\n",
    "a %= b;\n",
    "console.log(a);"
   ]
  },
  {
   "attachments": {},
   "cell_type": "markdown",
   "id": "7bdc42a4",
   "metadata": {},
   "source": [
    "비교 연산자"
   ]
  },
  {
   "cell_type": "code",
   "execution_count": 25,
   "id": "27a6e097",
   "metadata": {},
   "outputs": [
    {
     "name": "stdout",
     "output_type": "stream",
     "text": [
      "\u001b[33mfalse\u001b[39m\n",
      "\u001b[33mtrue\u001b[39m\n",
      "\u001b[33mtrue\u001b[39m\n",
      "\u001b[33mfalse\u001b[39m\n",
      "\u001b[33mtrue\u001b[39m\n",
      "\u001b[33mfalse\u001b[39m\n"
     ]
    }
   ],
   "source": [
    "// Comparison Operators\n",
    "let a: number = 5;\n",
    "let b: number = 2;\n",
    "\n",
    "console.log(a == b);\n",
    "console.log(a != b);\n",
    "console.log(a > b);\n",
    "console.log(a < b);\n",
    "console.log(a >= b);\n",
    "console.log(a <= b);"
   ]
  },
  {
   "attachments": {},
   "cell_type": "markdown",
   "id": "0a70ffea",
   "metadata": {},
   "source": [
    "논리 연산자"
   ]
  },
  {
   "cell_type": "code",
   "execution_count": 26,
   "id": "500d90be",
   "metadata": {},
   "outputs": [
    {
     "name": "stdout",
     "output_type": "stream",
     "text": [
      "\u001b[33mfalse\u001b[39m\n",
      "\u001b[33mtrue\u001b[39m\n",
      "\u001b[33mfalse\u001b[39m\n"
     ]
    }
   ],
   "source": [
    "// Logical Operators\n",
    "let a: boolean = true;\n",
    "let b: boolean = false;\n",
    "\n",
    "console.log(a && b);\n",
    "console.log(a || b);\n",
    "console.log(!a);"
   ]
  },
  {
   "attachments": {},
   "cell_type": "markdown",
   "id": "19effbee",
   "metadata": {},
   "source": [
    "타입 연산자"
   ]
  },
  {
   "cell_type": "code",
   "execution_count": 27,
   "id": "3462b059",
   "metadata": {},
   "outputs": [
    {
     "name": "stdout",
     "output_type": "stream",
     "text": [
      "number\n",
      "string\n"
     ]
    }
   ],
   "source": [
    "// Typeof Operator\n",
    "let a: number = 5;\n",
    "let b: string = 'hello';\n",
    "\n",
    "console.log(typeof(a));\n",
    "console.log(typeof(b));"
   ]
  },
  {
   "attachments": {},
   "cell_type": "markdown",
   "id": "e9ead8f7",
   "metadata": {},
   "source": [
    "조건 연산자"
   ]
  },
  {
   "cell_type": "code",
   "execution_count": 28,
   "id": "f483b0a5",
   "metadata": {},
   "outputs": [
    {
     "name": "stdout",
     "output_type": "stream",
     "text": [
      "a is greather than b\n"
     ]
    }
   ],
   "source": [
    "// Conditional Operator\n",
    "let a: number = 5;\n",
    "let b: number = 2;\n",
    "\n",
    "let result: string = (a > b) ? 'a is greather than b' : 'b is greater than a';\n",
    "console.log(result);"
   ]
  }
 ],
 "metadata": {
  "kernelspec": {
   "display_name": "TypeScript",
   "language": "typescript",
   "name": "tslab"
  },
  "language_info": {
   "codemirror_mode": {
    "mode": "typescript",
    "name": "javascript",
    "typescript": true
   },
   "file_extension": ".ts",
   "mimetype": "text/typescript",
   "name": "typescript",
   "version": "3.7.2"
  }
 },
 "nbformat": 4,
 "nbformat_minor": 5
}
