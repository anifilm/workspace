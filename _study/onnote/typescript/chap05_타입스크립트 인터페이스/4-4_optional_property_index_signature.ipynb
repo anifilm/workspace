{
 "cells": [
  {
   "attachments": {},
   "cell_type": "markdown",
   "id": "677fee03",
   "metadata": {},
   "source": [
    "### 4. 선택적 프로퍼티 및 인덱스 시그니처"
   ]
  },
  {
   "attachments": {},
   "cell_type": "markdown",
   "id": "8db17122",
   "metadata": {},
   "source": [
    "선택적 속성"
   ]
  },
  {
   "cell_type": "code",
   "execution_count": 1,
   "id": "3651da18",
   "metadata": {},
   "outputs": [],
   "source": [
    "interface Person {\n",
    "  name: string;\n",
    "  age?: number;\n",
    "}\n",
    "\n",
    "const person1: Person = {\n",
    "  name: 'Alice',\n",
    "};\n",
    "\n",
    "const person2: Person = {\n",
    "  name: 'Bob',\n",
    "  age: 30,\n",
    "};"
   ]
  },
  {
   "cell_type": "code",
   "execution_count": null,
   "id": "7bb7948e",
   "metadata": {},
   "outputs": [],
   "source": [
    "// 구성 객체\n",
    "interface ApiConfig {\n",
    "  apiUrl: string;\n",
    "  apiKey?: string;\n",
    "  cacheTimeout?: number;\n",
    "}"
   ]
  },
  {
   "cell_type": "code",
   "execution_count": null,
   "id": "b46a07d9",
   "metadata": {},
   "outputs": [],
   "source": [
    "// 데이터 객체\n",
    "interface SubmittedFormData {\n",
    "  [key: string]: string;\n",
    "}\n",
    "\n",
    "const formData1: SubmittedFormData = {\n",
    "  name: 'Alice',\n",
    "  age: '30',\n",
    "  email: 'alice@example.com',\n",
    "};\n",
    "\n",
    "const formData2: SubmittedFormData = {\n",
    "  favoriteColor: 'blue',\n",
    "  favoriteSong: 'Bohemian Rhapsody',\n",
    "  hometown: 'New York',\n",
    "};"
   ]
  },
  {
   "cell_type": "code",
   "execution_count": null,
   "id": "fb2058b7",
   "metadata": {},
   "outputs": [],
   "source": [
    "// 널 또는 정의되지 않은 값의 가능성\n",
    "interface Person {\n",
    "  name: string;\n",
    "  age?: number;\n",
    "}\n",
    "\n",
    "function getAge(person: Person): number {\n",
    "  return person.age ? person.age : 0;\n",
    "}"
   ]
  },
  {
   "attachments": {},
   "cell_type": "markdown",
   "id": "e1c00420",
   "metadata": {},
   "source": [
    "인덱스 시그니처"
   ]
  },
  {
   "cell_type": "code",
   "execution_count": null,
   "id": "76f5b2e1",
   "metadata": {},
   "outputs": [],
   "source": [
    "interface StringDict {\n",
    "  [key: string]: string;\n",
    "}\n",
    "\n",
    "const dict1: StringDict = {\n",
    "  hello: 'world',\n",
    "  goodbye: 'cruel world',\n",
    "};\n",
    "\n",
    "const dict2: StringDict = {\n",
    "  foo: 'bar',\n",
    "  baz: 'quz',\n",
    "  quux: 'corge',\n",
    "};"
   ]
  },
  {
   "cell_type": "code",
   "execution_count": null,
   "id": "40973ce9",
   "metadata": {},
   "outputs": [],
   "source": [
    "// 딕셔너리 객체\n",
    "interface Dictionary<T> {\n",
    "  [key: string]: T;\n",
    "}\n",
    "\n",
    "const numDict: Dictionary<number> = {\n",
    "  'a': 1,\n",
    "  'b': 2,\n",
    "  'c': 3,\n",
    "};\n",
    "\n",
    "const strDict: Dictionary<string> = {\n",
    "  'foo': 'bar',\n",
    "  'baz': 'qux',\n",
    "};"
   ]
  },
  {
   "cell_type": "code",
   "execution_count": null,
   "id": "099749bc",
   "metadata": {},
   "outputs": [],
   "source": [
    "// 집합\n",
    "interface Set<T> {\n",
    "  [key: string]: boolean;\n",
    "}\n",
    "\n",
    "const numSet: Set<number> = {\n",
    "  'a': true,\n",
    "  'b': true,\n",
    "  'c': true,\n",
    "};\n",
    "\n",
    "const strSet: Set<string> = {\n",
    "  'foo': true,\n",
    "  'bar': undefined,\n",
    "  'baz': true,\n",
    "};"
   ]
  },
  {
   "cell_type": "code",
   "execution_count": null,
   "id": "474512f3",
   "metadata": {},
   "outputs": [],
   "source": [
    "// 메모화\n",
    "interface MemoTable<T, U> {\n",
    "  [key: string]: U;\n",
    "}\n",
    "\n",
    "function memoize<T, U>(fn: (arg: T) => U): (arg: T) => U {\n",
    "  const memo: MemoTable<T, U> = {};\n",
    "  return (arg: T) => {\n",
    "    const argString = JSON.stringify(arg);\n",
    "    if (memo[argString] !== undefined) {\n",
    "      return memo[argString];\n",
    "    }\n",
    "    else {\n",
    "      const result = fn(arg);\n",
    "      memo[argString] = result;\n",
    "      return result;\n",
    "    }\n",
    "  }\n",
    "}"
   ]
  },
  {
   "cell_type": "code",
   "execution_count": null,
   "id": "23f9e32e",
   "metadata": {},
   "outputs": [],
   "source": [
    "// 충돌하는 타입의 가능성\n",
    "interface Dictionary<T> {\n",
    "  [key: string]: T;\n",
    "}\n",
    "\n",
    "const dict1: Dictionary<number> = {\n",
    "  'a': 1,\n",
    "  'b': 2,\n",
    "  'c': 3,\n",
    "};\n",
    "\n",
    "const dict2: Dictionary<string> = {\n",
    "  'a': 'hello',\n",
    "  'b': 'world',\n",
    "};"
   ]
  },
  {
   "attachments": {},
   "cell_type": "markdown",
   "id": "a0d497d7",
   "metadata": {},
   "source": [
    "Q&A"
   ]
  },
  {
   "attachments": {},
   "cell_type": "markdown",
   "id": "0b541e75",
   "metadata": {},
   "source": [
    "###### 질문: 타입스크립트에서 선택적 프로퍼티란 무엇인가요?"
   ]
  },
  {
   "cell_type": "code",
   "execution_count": null,
   "id": "27286325",
   "metadata": {},
   "outputs": [],
   "source": [
    "interface Person {\n",
    "  name: string;\n",
    "  age?: number;\n",
    "}\n",
    "\n",
    "let person1: Person = { name: 'John' };\n",
    "let person2: Person = { name: 'Mary', age: 25 };"
   ]
  },
  {
   "attachments": {},
   "cell_type": "markdown",
   "id": "8627743d",
   "metadata": {},
   "source": [
    "###### 질문: 타입스크립트에서 선택적 속성에 액세스하려면 어떻게 해야 하나요?"
   ]
  },
  {
   "cell_type": "code",
   "execution_count": 3,
   "id": "1266c561",
   "metadata": {},
   "outputs": [
    {
     "name": "stdout",
     "output_type": "stream",
     "text": [
      "Unknown\n",
      "25\n"
     ]
    }
   ],
   "source": [
    "interface Person {\n",
    "  name: string;\n",
    "  age?: number;\n",
    "}\n",
    "\n",
    "function getAge(person: Person) {\n",
    "  return person.age?.toString() || 'Unknown';\n",
    "}\n",
    "\n",
    "let person1: Person = { name: 'John' };\n",
    "let person2: Person = { name: 'Mary', age: 25 };\n",
    "\n",
    "console.log(getAge(person1));\n",
    "console.log(getAge(person2));"
   ]
  },
  {
   "attachments": {},
   "cell_type": "markdown",
   "id": "4ae1d09b",
   "metadata": {},
   "source": [
    "###### 질문: 타입스크립트에서 인덱스 시그니처란 무엇인가요?"
   ]
  },
  {
   "cell_type": "code",
   "execution_count": 4,
   "id": "e917d85c",
   "metadata": {},
   "outputs": [
    {
     "name": "stdout",
     "output_type": "stream",
     "text": [
      "a sweet fruit\n",
      "a vehicle\n",
      "a written or printed work\n"
     ]
    }
   ],
   "source": [
    "interface Dictionary {\n",
    "  [key: string]: string;\n",
    "}\n",
    "\n",
    "let dictionary: Dictionary = {\n",
    "  'apple': 'a sweet fruit',\n",
    "  'car': 'a vehicle',\n",
    "  'book': 'a written or printed work',\n",
    "};\n",
    "\n",
    "console.log(dictionary['apple']);\n",
    "console.log(dictionary['car']);\n",
    "console.log(dictionary['book']);"
   ]
  },
  {
   "attachments": {},
   "cell_type": "markdown",
   "id": "de1a83ad",
   "metadata": {},
   "source": [
    "###### 질문: 타입스크립트에서 선택적 프로퍼티와 인덱스 시그니처를 결합할 수 있나요?"
   ]
  },
  {
   "cell_type": "code",
   "execution_count": 5,
   "id": "efc1cd2b",
   "metadata": {},
   "outputs": [
    {
     "name": "stdout",
     "output_type": "stream",
     "text": [
      "The Hobbit\n",
      "1937\n",
      "J.K. Rowling\n",
      "4.5 start\n"
     ]
    }
   ],
   "source": [
    "interface Book {\n",
    "  title: string;\n",
    "  author: string;\n",
    "  [key: string]: string | undefined;\n",
    "}\n",
    "\n",
    "let book1: Book = {\n",
    "  title: 'The Hobbit',\n",
    "  author: 'J.R.R. Tolkien',\n",
    "  year: '1937',\n",
    "};\n",
    "let book2: Book = {\n",
    "  title: 'Harry Potter and the Philosopher\\'s Stone',\n",
    "  author: 'J.K. Rowling',\n",
    "  rating: '4.5 start',\n",
    "};\n",
    "\n",
    "console.log(book1.title);\n",
    "console.log(book1.year);\n",
    "console.log(book2.author);\n",
    "console.log(book2.rating);"
   ]
  },
  {
   "attachments": {},
   "cell_type": "markdown",
   "id": "884e7596",
   "metadata": {},
   "source": [
    "연습 문제"
   ]
  },
  {
   "attachments": {},
   "cell_type": "markdown",
   "id": "99f99067",
   "metadata": {},
   "source": [
    "###### 문제: 선택적 속성인 이름과 나이, 그리고 다른 속성을 허용하는 인덱스 시그니처가 있는 Person 인터페이스를 정의하세요."
   ]
  },
  {
   "cell_type": "code",
   "execution_count": null,
   "id": "3297f965",
   "metadata": {},
   "outputs": [],
   "source": [
    "interface Person {\n",
    "  name?: string;\n",
    "  age?: number;\n",
    "  [propName: string]: any;\n",
    "}"
   ]
  },
  {
   "attachments": {},
   "cell_type": "markdown",
   "id": "24942389",
   "metadata": {},
   "source": [
    "###### 문제: 이름이 \"John\"이고 나이가 25세인 Person 타입과 값이 \"developer\"인 추가 속성 \"job\"을 가진 변수 person을 만드세요."
   ]
  },
  {
   "cell_type": "code",
   "execution_count": null,
   "id": "baaefd4f",
   "metadata": {},
   "outputs": [],
   "source": [
    "let person: Person = {\n",
    "  name: 'John',\n",
    "  age: 25,\n",
    "  job: 'developer',\n",
    "};"
   ]
  },
  {
   "attachments": {},
   "cell_type": "markdown",
   "id": "963534c7",
   "metadata": {},
   "source": [
    "###### 문제: 알 수 없는 속성 \"city\"를 가진 Person 타입의 anotherPerson 변수를 만들려고 합니다."
   ]
  },
  {
   "cell_type": "code",
   "execution_count": null,
   "id": "942618bd",
   "metadata": {},
   "outputs": [],
   "source": [
    "let anotherPerson: Person = {\n",
    "  name: 'Jane',\n",
    "  city: 'New York',\n",
    "};"
   ]
  }
 ],
 "metadata": {
  "kernelspec": {
   "display_name": "TypeScript",
   "language": "typescript",
   "name": "tslab"
  },
  "language_info": {
   "codemirror_mode": {
    "mode": "typescript",
    "name": "javascript",
    "typescript": true
   },
   "file_extension": ".ts",
   "mimetype": "text/typescript",
   "name": "typescript",
   "version": "3.7.2"
  }
 },
 "nbformat": 4,
 "nbformat_minor": 5
}
