{
 "cells": [
  {
   "attachments": {},
   "cell_type": "markdown",
   "id": "d526c1a5",
   "metadata": {},
   "source": [
    "### 2. 인터페이스 생성 및 구현하기"
   ]
  },
  {
   "attachments": {},
   "cell_type": "markdown",
   "id": "a74e5244",
   "metadata": {},
   "source": [
    "개요"
   ]
  },
  {
   "cell_type": "code",
   "execution_count": null,
   "metadata": {},
   "outputs": [],
   "source": [
    "interface Person {\n",
    "  firstName: string;\n",
    "  lastName: string;\n",
    "  age: number;\n",
    "}"
   ]
  },
  {
   "attachments": {},
   "cell_type": "markdown",
   "id": "89f944d8",
   "metadata": {},
   "source": [
    "인터페이스 생성하기"
   ]
  },
  {
   "cell_type": "code",
   "execution_count": null,
   "id": "300b288d",
   "metadata": {},
   "outputs": [],
   "source": [
    "// 기본 구문\n",
    "interface InterfaceName {\n",
    "  propertyName1: type;\n",
    "  propertyName2: type;\n",
    "  //...\n",
    "  propertyNameN: type;\n",
    "}"
   ]
  },
  {
   "cell_type": "code",
   "execution_count": null,
   "id": "0b1932b8",
   "metadata": {},
   "outputs": [],
   "source": [
    "// 인터페이스 예제\n",
    "interface Car {\n",
    "  make: string;\n",
    "  model: string;\n",
    "  year: number;\n",
    "  color: string;\n",
    "}"
   ]
  },
  {
   "attachments": {},
   "cell_type": "markdown",
   "id": "1e146eb8",
   "metadata": {},
   "source": [
    "인터페이스 구현하기"
   ]
  },
  {
   "cell_type": "code",
   "execution_count": null,
   "id": "6b383960",
   "metadata": {},
   "outputs": [],
   "source": [
    "// 클래스 구현\n",
    "class SportsCar implements Car {\n",
    "  make: string;\n",
    "  model: string;\n",
    "  year: number;\n",
    "  color: string;\n",
    "\n",
    "  constructor(make: string, model: string, year: number, color: string) {\n",
    "    this.make = make;\n",
    "    this.model = model;\n",
    "    this.year = year;\n",
    "    this.color = color;\n",
    "  }\n",
    "}"
   ]
  },
  {
   "cell_type": "code",
   "execution_count": null,
   "id": "5542419b",
   "metadata": {},
   "outputs": [],
   "source": [
    "// 객체 구현 \n",
    "let myCar: Car = {\n",
    "  make: 'Toyota',\n",
    "  model: 'Camry',\n",
    "  year: 2022,\n",
    "  color: 'blue',\n",
    "};"
   ]
  },
  {
   "cell_type": "code",
   "execution_count": null,
   "id": "3d44408e",
   "metadata": {},
   "outputs": [],
   "source": [
    "// 함수 구현\n",
    "function carDetails(car: Car): void {\n",
    "  console.log(`Make: ${car.make}, Model: ${car.model}, Year: ${car.year}, Color: ${car.color}`);\n",
    "}"
   ]
  },
  {
   "attachments": {},
   "cell_type": "markdown",
   "id": "80f3032a",
   "metadata": {},
   "source": [
    "인터페이스 확장하기"
   ]
  },
  {
   "cell_type": "code",
   "execution_count": null,
   "id": "8efbeb1e",
   "metadata": {},
   "outputs": [],
   "source": [
    "// 기본 구문\n",
    "interface InterfaceName extends BaseInterface {\n",
    "  //...\n",
    "}"
   ]
  },
  {
   "cell_type": "code",
   "execution_count": null,
   "id": "3f84c012",
   "metadata": {},
   "outputs": [],
   "source": [
    "// 인터페이스 확장 예시\n",
    "interface ModifiedCar extends Car {\n",
    "  horsepower: number;\n",
    "  topSpeed: number;\n",
    "}"
   ]
  },
  {
   "cell_type": "code",
   "execution_count": null,
   "id": "359b8c26",
   "metadata": {},
   "outputs": [],
   "source": [
    "// 확장 인터페이스 구현\n",
    "class Supercar implements ModifiedCar {\n",
    "  make: string;\n",
    "  model: string;\n",
    "  year: number;\n",
    "  color: string;\n",
    "  horsepower: number;\n",
    "  topSpeed: number;\n",
    "\n",
    "  constructor(make: string, model: string, year: number, color: string, horsepower: number, topSpeed: number) {\n",
    "    this.make = make;\n",
    "    this.model = model;\n",
    "    this.year = year;\n",
    "    this.color = color;\n",
    "    this.horsepower = horsepower;\n",
    "    this.topSpeed = topSpeed;\n",
    "  }\n",
    "  \n",
    "  displayDetails() {\n",
    "    console.log(`Make: ${this.make}, Model: ${this.model}, Year: ${this.year}, Color: ${this.color}, Horsepower: ${this.horsepower}, Top Speed: ${this.topSpeed}`);\n",
    "  }\n",
    "}"
   ]
  },
  {
   "attachments": {},
   "cell_type": "markdown",
   "id": "8a4affc8",
   "metadata": {},
   "source": [
    "연습 문제"
   ]
  },
  {
   "attachments": {},
   "cell_type": "markdown",
   "id": "f19096b8",
   "metadata": {},
   "source": [
    "###### 문제: 다음과 같은 속성을 가진 \"Person\"이라는 인터페이스를 정의하세요."
   ]
  },
  {
   "cell_type": "code",
   "execution_count": null,
   "id": "d8636e26",
   "metadata": {},
   "outputs": [],
   "source": [
    "interface Person {\n",
    "  name: string;\n",
    "  age: number;\n",
    "  gender: string;\n",
    "  isStudent?: boolean;\n",
    "}"
   ]
  },
  {
   "attachments": {},
   "cell_type": "markdown",
   "id": "3077de84",
   "metadata": {},
   "source": [
    "###### 문제: 25세, 남성, 학생인 \"John\"이라는 이름을 가진 \"Person\" 타입의 객체를 만듭니다."
   ]
  },
  {
   "cell_type": "code",
   "execution_count": null,
   "id": "2483cf5d",
   "metadata": {},
   "outputs": [],
   "source": [
    "let john: Person = {\n",
    "  name: 'John',\n",
    "  age: 25,\n",
    "  gender: 'male',\n",
    "  isStudent: true,\n",
    "};"
   ]
  },
  {
   "attachments": {},
   "cell_type": "markdown",
   "id": "9c27cfd8",
   "metadata": {},
   "source": [
    "###### 문제: \"Person\" 타입의 인수를 받아 이름, 나이, 성별 및 isStudent 상태를 콘솔에 기록하는 \"displayPerson\"이라는 이름의 함수를 만드세요."
   ]
  },
  {
   "cell_type": "code",
   "execution_count": null,
   "id": "e3949abe",
   "metadata": {},
   "outputs": [],
   "source": [
    "function displayPerson(person: Person) {\n",
    "  console.log(`Name: ${person.name}`);\n",
    "  console.log(`Age: ${person.age}`);\n",
    "  console.log(`Gender: ${person.gender}`);\n",
    "  console.log(`Is a student: ${person.isStudent ? 'Yes' : 'No'}`);\n",
    "}"
   ]
  },
  {
   "attachments": {},
   "cell_type": "markdown",
   "id": "da96c9bc",
   "metadata": {},
   "source": [
    "###### 문제: \"displayPerson\" 함수를 호출하고 \"john\" 객체를 인수로 전달하세요."
   ]
  },
  {
   "cell_type": "code",
   "execution_count": null,
   "id": "d9466905",
   "metadata": {},
   "outputs": [],
   "source": [
    "displayPerson(john);"
   ]
  }
 ],
 "metadata": {
  "kernelspec": {
   "display_name": "TypeScript",
   "language": "typescript",
   "name": "tslab"
  },
  "language_info": {
   "codemirror_mode": {
    "mode": "typescript",
    "name": "javascript",
    "typescript": true
   },
   "file_extension": ".ts",
   "mimetype": "text/typescript",
   "name": "typescript",
   "version": "3.7.2"
  }
 },
 "nbformat": 4,
 "nbformat_minor": 5
}
