{
 "cells": [
  {
   "attachments": {},
   "cell_type": "markdown",
   "id": "ecb7bc2b",
   "metadata": {},
   "source": [
    "### 1. 인터페이스 이해하기"
   ]
  },
  {
   "attachments": {},
   "cell_type": "markdown",
   "id": "80c7214e",
   "metadata": {},
   "source": [
    "인터페이스 구문"
   ]
  },
  {
   "cell_type": "code",
   "execution_count": null,
   "metadata": {},
   "outputs": [],
   "source": [
    "interface Person {\n",
    "    firstName: string;\n",
    "    lastName: string;\n",
    "    age: number;\n",
    "}"
   ]
  },
  {
   "cell_type": "code",
   "execution_count": null,
   "id": "539d2cde",
   "metadata": {},
   "outputs": [],
   "source": [
    "const person: Person = {\n",
    "  firstName: 'John',\n",
    "  lastName: 'Doe',\n",
    "  age: 30,\n",
    "};"
   ]
  },
  {
   "attachments": {},
   "cell_type": "markdown",
   "id": "7c046efe",
   "metadata": {},
   "source": [
    "인터페이스 구현하기"
   ]
  },
  {
   "cell_type": "code",
   "execution_count": null,
   "id": "5b7aab01",
   "metadata": {},
   "outputs": [],
   "source": [
    "class Employee implements Person {\n",
    "  firstName: string;\n",
    "  lastName: string;\n",
    "  age: number;\n",
    "  salary: number;\n",
    "\n",
    "  constructor(firstName: string, lastName: string, age: number, salary: number) {\n",
    "    this.firstName = firstName;\n",
    "    this.lastName = lastName;\n",
    "    this.age = age;\n",
    "    this.salary = salary;\n",
    "  }\n",
    "}"
   ]
  },
  {
   "cell_type": "code",
   "execution_count": null,
   "id": "b9e64acd",
   "metadata": {},
   "outputs": [],
   "source": [
    "const employee = new Employee('John', 'Doe', 30, 50000);"
   ]
  },
  {
   "attachments": {},
   "cell_type": "markdown",
   "id": "2a39d6af",
   "metadata": {},
   "source": [
    "선택적 속성"
   ]
  },
  {
   "cell_type": "code",
   "execution_count": null,
   "id": "7d29dbba",
   "metadata": {},
   "outputs": [],
   "source": [
    "interface Person {\n",
    "  firstName: string;\n",
    "  lastName: string;\n",
    "  age: number;\n",
    "  email?: string;\n",
    "}"
   ]
  },
  {
   "attachments": {},
   "cell_type": "markdown",
   "id": "bb1fdd39",
   "metadata": {},
   "source": [
    "읽기 전용 속성"
   ]
  },
  {
   "cell_type": "code",
   "execution_count": null,
   "id": "3d161126",
   "metadata": {},
   "outputs": [],
   "source": [
    "interface Person {\n",
    "  readonly firstName: string;\n",
    "  readonly lastName: string;\n",
    "  age: number;\n",
    "}"
   ]
  },
  {
   "attachments": {},
   "cell_type": "markdown",
   "id": "47185675",
   "metadata": {},
   "source": [
    "초과 속성 검사"
   ]
  },
  {
   "cell_type": "code",
   "execution_count": null,
   "id": "fd444fbf",
   "metadata": {},
   "outputs": [],
   "source": [
    "interface Person {\n",
    "  firstName: string;\n",
    "  lastName: string;\n",
    "  age: number;\n",
    "}\n",
    "\n",
    "const person: Person = {\n",
    "  firstName: 'John',\n",
    "  lastName: 'Doe',\n",
    "  age: 30,\n",
    "  occupation: 'programmer', // 오류 발생!\n",
    "};"
   ]
  },
  {
   "attachments": {},
   "cell_type": "markdown",
   "id": "19c69a6d",
   "metadata": {},
   "source": [
    "인터페이스 확장"
   ]
  },
  {
   "cell_type": "code",
   "execution_count": null,
   "id": "715ca6a9",
   "metadata": {},
   "outputs": [],
   "source": [
    "interface Person {\n",
    "  firstName: string;\n",
    "  lastName: string;\n",
    "  age: number;\n",
    "}\n",
    "\n",
    "interface Employee extends Person {\n",
    "  salary: number;\n",
    "}\n",
    "\n",
    "const employee: Employee = {\n",
    "  firstName: 'John',\n",
    "  lastName: 'Doe',\n",
    "  age: 30,\n",
    "  salary: 50000,\n",
    "};"
   ]
  },
  {
   "attachments": {},
   "cell_type": "markdown",
   "id": "434b63aa",
   "metadata": {},
   "source": [
    "연습 문제"
   ]
  },
  {
   "attachments": {},
   "cell_type": "markdown",
   "id": "a358be5e",
   "metadata": {},
   "source": [
    "###### 문제: 다음 속성을 가진 \"Person\"이라는 인터페이스를 만듭니다."
   ]
  },
  {
   "cell_type": "code",
   "execution_count": null,
   "id": "4d540e52",
   "metadata": {},
   "outputs": [],
   "source": [
    "interface Person {\n",
    "  name: string;\n",
    "  age: number;\n",
    "  email: string;\n",
    "  phone: string;\n",
    "}"
   ]
  },
  {
   "attachments": {},
   "cell_type": "markdown",
   "id": "820b2c18",
   "metadata": {},
   "source": [
    "###### 문제: 다음 속성을 가진 \"Product\"라는 이름의 인터페이스를 만드세요."
   ]
  },
  {
   "cell_type": "code",
   "execution_count": null,
   "id": "5ca23ecb",
   "metadata": {},
   "outputs": [],
   "source": [
    "interface Product {\n",
    "  name: string;\n",
    "  price: number;\n",
    "  category: string;\n",
    "  description: string;\n",
    "}"
   ]
  },
  {
   "attachments": {},
   "cell_type": "markdown",
   "id": "c83c8bb8",
   "metadata": {},
   "source": [
    "###### 문제: \"Product\" 인터페이스를 확장한고 다음 속성을 추가하는 \"Book\"이라는 이름의 인터페이스를 만드세요."
   ]
  },
  {
   "cell_type": "code",
   "execution_count": null,
   "id": "23f6814e",
   "metadata": {},
   "outputs": [],
   "source": [
    "interface Book extends Product {\n",
    "  author: string;\n",
    "  pageCount: number;\n",
    "  ISBN: string;\n",
    "}"
   ]
  },
  {
   "attachments": {},
   "cell_type": "markdown",
   "id": "2b68e093",
   "metadata": {},
   "source": [
    "###### 문제: \"Person\" 타입의 매개 변수를 받아 이름과 나이를 콘솔에 기록하는 \"displayPersonDetails\"라는 이름의 함수를 만드세요."
   ]
  },
  {
   "cell_type": "code",
   "execution_count": null,
   "id": "e43346d1",
   "metadata": {},
   "outputs": [],
   "source": [
    "function displayPersonDetails(person: Person) {\n",
    "  console.log(`Name: ${person.name}, Age: ${person.age}`);\n",
    "}"
   ]
  },
  {
   "attachments": {},
   "cell_type": "markdown",
   "id": "be3354f5",
   "metadata": {},
   "source": [
    "###### 문제: \"Product\" 타입의 배열을 받아 배열에 있는 모든 제품의 총 가격을 반환하는 \"calulateTotalPrice\"라는 이름의 함수를 만드세요."
   ]
  },
  {
   "cell_type": "code",
   "execution_count": null,
   "id": "bdb29dfb",
   "metadata": {},
   "outputs": [],
   "source": [
    "function calculateTotalPrice(products: Product[]) {\n",
    "  let totalPrice = 0;\n",
    "  products.forEach(product => {\n",
    "    totalPrice += product.price;\n",
    "  });\n",
    "  return totalPrice;\n",
    "}"
   ]
  }
 ],
 "metadata": {
  "kernelspec": {
   "display_name": "TypeScript",
   "language": "typescript",
   "name": "tslab"
  },
  "language_info": {
   "codemirror_mode": {
    "mode": "typescript",
    "name": "javascript",
    "typescript": true
   },
   "file_extension": ".ts",
   "mimetype": "text/typescript",
   "name": "typescript",
   "version": "3.7.2"
  }
 },
 "nbformat": 4,
 "nbformat_minor": 5
}
