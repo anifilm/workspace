{
 "cells": [
  {
   "attachments": {},
   "cell_type": "markdown",
   "id": "d267e63c",
   "metadata": {},
   "source": [
    "### 3. 인터페이스를 사용하여 객체 타입 정의하기"
   ]
  },
  {
   "attachments": {},
   "cell_type": "markdown",
   "id": "ff8a53bd",
   "metadata": {},
   "source": [
    "인터페이스랑 무엇인가요?"
   ]
  },
  {
   "cell_type": "code",
   "execution_count": 1,
   "metadata": {},
   "outputs": [],
   "source": [
    "interface Person {\n",
    "  firstName: string;\n",
    "  lastName: string;\n",
    "  age: number;\n",
    "  sayHello: () => void;\n",
    "}"
   ]
  },
  {
   "attachments": {},
   "cell_type": "markdown",
   "id": "03fded0a",
   "metadata": {},
   "source": [
    "타입스크립트에서 인터페이스가 작동하는 방식"
   ]
  },
  {
   "cell_type": "code",
   "execution_count": 2,
   "id": "1f8d4ddc",
   "metadata": {},
   "outputs": [],
   "source": [
    "function logName(person: Person) {\n",
    "  console.log(`My name is ${person.firstName} ${person.lastName}`);\n",
    "}"
   ]
  },
  {
   "cell_type": "code",
   "execution_count": 5,
   "id": "d39eff1b",
   "metadata": {},
   "outputs": [
    {
     "name": "stderr",
     "output_type": "stream",
     "text": [
      "7:9 - Argument of type '{ name: string; age: number; sayHello: () => void; }' is not assignable to parameter of type 'Person'.\n",
      "7:9 - Type '{ name: string; age: number; sayHello: () => void; }' is missing the following properties from type 'Person': firstName, lastName\n"
     ]
    }
   ],
   "source": [
    "const person = {\n",
    "  name: 'John',\n",
    "  age: 30,\n",
    "  sayHello: () => console.log('Hello!'),\n",
    "};\n",
    "\n",
    "logName(person);"
   ]
  },
  {
   "attachments": {},
   "cell_type": "markdown",
   "id": "6bc78c86",
   "metadata": {},
   "source": [
    "연습 문제"
   ]
  },
  {
   "attachments": {},
   "cell_type": "markdown",
   "id": "f50e7ceb",
   "metadata": {},
   "source": [
    "###### 문제: 다음 속성을 가진 \"Person\"이라는 인터페이스를 정의하세요. \"name\"(문자열), \"age\"(숫자), \"address\"(문자열)."
   ]
  },
  {
   "cell_type": "code",
   "execution_count": 6,
   "id": "50b90c98",
   "metadata": {},
   "outputs": [],
   "source": [
    "interface Person {\n",
    "  name: string;\n",
    "  age: number;\n",
    "  address: string;\n",
    "}"
   ]
  },
  {
   "attachments": {},
   "cell_type": "markdown",
   "id": "ce8beb61",
   "metadata": {},
   "source": [
    "###### 문제: \"Person\" 타입의 매개 변수를 받아 콘솔에 사람의 이름, 나이 및 주소를 기록하는 \"printPerson\"이라는 함수를 만드세요."
   ]
  },
  {
   "cell_type": "code",
   "execution_count": 7,
   "id": "6bc3694f",
   "metadata": {},
   "outputs": [],
   "source": [
    "function printPerson(person: Person): void {\n",
    "  console.log(`Name: ${person.name}`);\n",
    "  console.log(`Age: ${person.age}`);\n",
    "  console.log(`Address: ${person.address}`);\n",
    "}"
   ]
  },
  {
   "attachments": {},
   "cell_type": "markdown",
   "id": "96a54b5f",
   "metadata": {},
   "source": [
    "###### 문제: 앞서 정의한 인터페이스를 사용하여 \"Person\" 타입의 객체를 만든 다음, 이를 만든 \"printPerson\" 함수에 인수로 전달하세요."
   ]
  },
  {
   "cell_type": "code",
   "execution_count": 8,
   "id": "eecc641c",
   "metadata": {},
   "outputs": [
    {
     "name": "stdout",
     "output_type": "stream",
     "text": [
      "Name: Jane Doe\n",
      "Age: 25\n",
      "Address: 123 Main Street\n"
     ]
    }
   ],
   "source": [
    "const jane: Person = {\n",
    "  name: 'Jane Doe',\n",
    "  age: 25,\n",
    "  address: '123 Main Street',\n",
    "};\n",
    "\n",
    "printPerson(jane);"
   ]
  },
  {
   "attachments": {},
   "cell_type": "markdown",
   "id": "e0fa2d28",
   "metadata": {},
   "source": [
    "###### 문제: 다음 속성을 가진 \"Book\"이라는 인터페이스를 정의하세요. \"title\"(문자열), \"author\"(문자열), \"pages\"(숫자)."
   ]
  },
  {
   "cell_type": "code",
   "execution_count": 9,
   "id": "d8fe107f",
   "metadata": {},
   "outputs": [],
   "source": [
    "interface Book {\n",
    "  title: string;\n",
    "  author: string;\n",
    "  pages: number;\n",
    "}"
   ]
  },
  {
   "attachments": {},
   "cell_type": "markdown",
   "id": "991942e7",
   "metadata": {},
   "source": [
    "###### 문제: \"Book\" 타입의 매개 변수를 받아 책의 제목, 저자 및 페이지 수를 콘솔에 기록하는 \"printBook\"이라는 함수를 만드세요."
   ]
  },
  {
   "cell_type": "code",
   "execution_count": 10,
   "id": "34ba1c7d",
   "metadata": {},
   "outputs": [],
   "source": [
    "function printBook(book: Book): void {\n",
    "  console.log(`Title: ${book.title}`);\n",
    "  console.log(`Author: ${book.author}`);\n",
    "  console.log(`Pages: ${book.pages}`);\n",
    "}"
   ]
  },
  {
   "attachments": {},
   "cell_type": "markdown",
   "id": "c1fa384e",
   "metadata": {},
   "source": [
    "###### 문제: 앞에서 정의한 인터페이스를 사용하여 \"Book\" 타입의 객체를 만들고, 이를 생성한 \"printBook\" 함수에 인수로 전달하세요."
   ]
  },
  {
   "cell_type": "code",
   "execution_count": 12,
   "id": "cc987675",
   "metadata": {},
   "outputs": [
    {
     "name": "stdout",
     "output_type": "stream",
     "text": [
      "Title: The Hound of the Baskervilles\n",
      "Author: Sir Arthur Conan Doyle\n",
      "Pages: 240\n"
     ]
    }
   ],
   "source": [
    "const mystery: Book = {\n",
    "  title: 'The Hound of the Baskervilles',\n",
    "  author: 'Sir Arthur Conan Doyle',\n",
    "  pages: 240,\n",
    "};\n",
    "\n",
    "printBook(mystery);"
   ]
  }
 ],
 "metadata": {
  "kernelspec": {
   "display_name": "TypeScript",
   "language": "typescript",
   "name": "tslab"
  },
  "language_info": {
   "codemirror_mode": {
    "mode": "typescript",
    "name": "javascript",
    "typescript": true
   },
   "file_extension": ".ts",
   "mimetype": "text/typescript",
   "name": "typescript",
   "version": "3.7.2"
  }
 },
 "nbformat": 4,
 "nbformat_minor": 5
}
