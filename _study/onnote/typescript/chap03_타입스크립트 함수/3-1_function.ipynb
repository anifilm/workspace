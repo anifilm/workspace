{
 "cells": [
  {
   "attachments": {},
   "cell_type": "markdown",
   "id": "27b05a8e",
   "metadata": {},
   "source": [
    "### 1. 함수 생성 및 호출하기"
   ]
  },
  {
   "attachments": {},
   "cell_type": "markdown",
   "id": "92c4958e",
   "metadata": {},
   "source": [
    "함수 만들기"
   ]
  },
  {
   "cell_type": "code",
   "execution_count": 2,
   "id": "5ecad336",
   "metadata": {},
   "outputs": [],
   "source": [
    "function sayHello(name: string): void {\n",
    "    console.log(`Hello, ${name}!`);\n",
    "}"
   ]
  },
  {
   "cell_type": "code",
   "execution_count": 4,
   "id": "1f345d86",
   "metadata": {},
   "outputs": [],
   "source": [
    "// 화살표 함수 표기법을 사용하여 함수를 정의\n",
    "const sayHello = (name: string): void => {\n",
    "    console.log(`Hello, ${name}!`);\n",
    "};"
   ]
  },
  {
   "cell_type": "code",
   "execution_count": 5,
   "id": "1387f3f8",
   "metadata": {},
   "outputs": [],
   "source": [
    "// 옵션 및 기본 매개변수\n",
    "function sayHello(name?: string): void {\n",
    "    if (name) {\n",
    "        console.log(`Hello, ${name}!`);\n",
    "    }\n",
    "    else {\n",
    "        console.log(\"Hello\");\n",
    "    }\n",
    "}"
   ]
  },
  {
   "cell_type": "code",
   "execution_count": 6,
   "id": "db79f791",
   "metadata": {},
   "outputs": [],
   "source": [
    "// =를 사용하여 기본 매개변수 값을 제공\n",
    "function sayHello(name = 'world'): void {\n",
    "    console.log(`Hello, ${name}!`);\n",
    "}"
   ]
  },
  {
   "cell_type": "code",
   "execution_count": 1,
   "id": "cd782bd6",
   "metadata": {},
   "outputs": [],
   "source": [
    "// 나머지 매개변수\n",
    "function multiplyAll(multiplier: number, ...numbers: number[]): number[] {\n",
    "    return numbers.map((n) => n * multiplier);\n",
    "}"
   ]
  },
  {
   "attachments": {},
   "cell_type": "markdown",
   "id": "d5495775",
   "metadata": {},
   "source": [
    "함수 호출하기"
   ]
  },
  {
   "cell_type": "code",
   "execution_count": 9,
   "id": "7f8d5e6a",
   "metadata": {},
   "outputs": [
    {
     "name": "stdout",
     "output_type": "stream",
     "text": [
      "Hello, Alice!\n"
     ]
    }
   ],
   "source": [
    "sayHello('Alice');"
   ]
  },
  {
   "cell_type": "code",
   "execution_count": 2,
   "id": "ca847a59",
   "metadata": {},
   "outputs": [
    {
     "name": "stdout",
     "output_type": "stream",
     "text": [
      "Hello, Alice!\n"
     ]
    }
   ],
   "source": [
    "const obj = { name: 'Alice' };\n",
    "\n",
    "function sayHello(this: { name: string }): void {\n",
    "    console.log(`Hello, ${this.name}!`);\n",
    "}\n",
    "\n",
    "sayHello.call(obj);"
   ]
  },
  {
   "cell_type": "code",
   "execution_count": 3,
   "id": "18b534e3",
   "metadata": {},
   "outputs": [
    {
     "name": "stdout",
     "output_type": "stream",
     "text": [
      "[Function: bound sayHello]\n"
     ]
    }
   ],
   "source": [
    "// Bind\n",
    "const obj = { name: 'Alice' };\n",
    "\n",
    "function sayHello(this: { name: string }): void {\n",
    "    console.log(`Hello, ${this.name}!`);\n",
    "}\n",
    "\n",
    "const boundSayHello = sayHello.bind(obj);\n",
    "boundSayHello;"
   ]
  }
 ],
 "metadata": {
  "kernelspec": {
   "display_name": "TypeScript",
   "language": "typescript",
   "name": "tslab"
  },
  "language_info": {
   "codemirror_mode": {
    "mode": "typescript",
    "name": "javascript",
    "typescript": true
   },
   "file_extension": ".ts",
   "mimetype": "text/typescript",
   "name": "typescript",
   "version": "3.7.2"
  }
 },
 "nbformat": 4,
 "nbformat_minor": 5
}
