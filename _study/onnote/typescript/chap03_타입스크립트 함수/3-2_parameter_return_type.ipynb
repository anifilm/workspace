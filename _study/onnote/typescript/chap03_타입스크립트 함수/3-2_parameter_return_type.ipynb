{
 "cells": [
  {
   "attachments": {},
   "cell_type": "markdown",
   "id": "4a23b51d",
   "metadata": {},
   "source": [
    "### 2. 함수 매개변수 및 반환 타입 이해하기"
   ]
  },
  {
   "attachments": {},
   "cell_type": "markdown",
   "id": "2bcf4d20",
   "metadata": {},
   "source": [
    "함수 매개변수"
   ]
  },
  {
   "cell_type": "code",
   "execution_count": 13,
   "id": "64a2068a",
   "metadata": {},
   "outputs": [],
   "source": [
    "function add(x: number, y: number) {\n",
    "  return x + y;\n",
    "}"
   ]
  },
  {
   "cell_type": "code",
   "execution_count": 14,
   "id": "0c6cbdc7",
   "metadata": {},
   "outputs": [],
   "source": [
    "// 선택적 매개변수\n",
    "function divide(x: number, y?: number) {\n",
    "  if (y) return x / y;\n",
    "  return x;\n",
    "}"
   ]
  },
  {
   "cell_type": "code",
   "execution_count": 15,
   "id": "da2c6925",
   "metadata": {},
   "outputs": [],
   "source": [
    "// 기본 매개변수\n",
    "function printMessage(message: string = 'Hello, world!') {\n",
    "  console.log(message);\n",
    "}"
   ]
  },
  {
   "cell_type": "code",
   "execution_count": 16,
   "id": "d458a671",
   "metadata": {},
   "outputs": [],
   "source": [
    "// 나머지 매개변수\n",
    "function displayValues(...values: number[]) {\n",
    "  console.log(values);\n",
    "}"
   ]
  },
  {
   "attachments": {},
   "cell_type": "markdown",
   "id": "32960926",
   "metadata": {},
   "source": [
    "함수 반환 타입"
   ]
  },
  {
   "cell_type": "code",
   "execution_count": 17,
   "id": "0ee1fe2e",
   "metadata": {},
   "outputs": [],
   "source": [
    "function multiply(a: number, b: number): number {\n",
    "  return a * b;\n",
    "}"
   ]
  },
  {
   "cell_type": "code",
   "execution_count": 18,
   "id": "22c8186f",
   "metadata": {},
   "outputs": [],
   "source": [
    "// Void 타입\n",
    "function dispalyMesage(message: string): void {\n",
    "  console.log(message);\n",
    "}"
   ]
  },
  {
   "cell_type": "code",
   "execution_count": 4,
   "id": "247dc633",
   "metadata": {},
   "outputs": [],
   "source": [
    "// Union 타입\n",
    "function myFunction(): string | boolean {\n",
    "  return Math.random() > 0.5 ? 'Success!' : false;\n",
    "}"
   ]
  }
 ],
 "metadata": {
  "kernelspec": {
   "display_name": "TypeScript",
   "language": "typescript",
   "name": "tslab"
  },
  "language_info": {
   "codemirror_mode": {
    "mode": "typescript",
    "name": "javascript",
    "typescript": true
   },
   "file_extension": ".ts",
   "mimetype": "text/typescript",
   "name": "typescript",
   "version": "3.7.2"
  }
 },
 "nbformat": 4,
 "nbformat_minor": 5
}
