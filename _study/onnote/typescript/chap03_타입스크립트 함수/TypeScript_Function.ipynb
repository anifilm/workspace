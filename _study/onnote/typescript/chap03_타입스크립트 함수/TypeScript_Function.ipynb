{
 "cells": [
  {
   "attachments": {},
   "cell_type": "markdown",
   "id": "27b05a8e",
   "metadata": {},
   "source": [
    "### 1. 함수 생성 및 호출하기"
   ]
  },
  {
   "attachments": {},
   "cell_type": "markdown",
   "id": "92c4958e",
   "metadata": {},
   "source": [
    "함수 만들기"
   ]
  },
  {
   "cell_type": "code",
   "execution_count": 1,
   "id": "45a201c3",
   "metadata": {},
   "outputs": [],
   "source": [
    "import * as tslab from 'tslab';\n"
   ]
  },
  {
   "cell_type": "code",
   "execution_count": 2,
   "id": "5ecad336",
   "metadata": {},
   "outputs": [],
   "source": [
    "function sayHello(name: string): void {\n",
    "    console.log(`Hello, ${name}!`)\n",
    "}"
   ]
  },
  {
   "cell_type": "code",
   "execution_count": 4,
   "id": "1f345d86",
   "metadata": {},
   "outputs": [],
   "source": [
    "// 화살표 함수 표기법을 사용하여 함수를 정의\n",
    "const sayHello = (name: string): void => {\n",
    "    console.log(`Hello, ${name}!`)\n",
    "}"
   ]
  },
  {
   "cell_type": "code",
   "execution_count": 5,
   "id": "1387f3f8",
   "metadata": {},
   "outputs": [],
   "source": [
    "// 옵션 및 기본 매개변수\n",
    "function sayHello(name?: string): void {\n",
    "    if (name) {\n",
    "        console.log(`Hello, ${name}!`)\n",
    "    } else {\n",
    "        console.log(\"Hello\")\n",
    "    }\n",
    "}"
   ]
  },
  {
   "cell_type": "code",
   "execution_count": 6,
   "id": "db79f791",
   "metadata": {},
   "outputs": [],
   "source": [
    "// =를 사용하여 기본 매개변수 값을 제공\n",
    "function sayHello(name = 'world'): void {\n",
    "    console.log(`Hello, ${name}!`)\n",
    "}"
   ]
  },
  {
   "cell_type": "code",
   "execution_count": 7,
   "id": "cd782bd6",
   "metadata": {},
   "outputs": [
    {
     "name": "stderr",
     "output_type": "stream",
     "text": [
      "3:20 - Property 'map' does not exist on type 'number[]'.\n"
     ]
    }
   ],
   "source": [
    "// 나머지 매개변수\n",
    "function multiplyAll(multiplier: number, ...numbers: number[]): number[] {\n",
    "    return numbers.map((n) => n * multiplier)\n",
    "}"
   ]
  },
  {
   "cell_type": "code",
   "execution_count": null,
   "id": "e838f41c",
   "metadata": {},
   "outputs": [],
   "source": []
  },
  {
   "attachments": {},
   "cell_type": "markdown",
   "id": "d5495775",
   "metadata": {},
   "source": [
    "함수 호출하기"
   ]
  },
  {
   "cell_type": "code",
   "execution_count": 9,
   "id": "7f8d5e6a",
   "metadata": {},
   "outputs": [
    {
     "name": "stdout",
     "output_type": "stream",
     "text": [
      "Hello, Alice!\n"
     ]
    }
   ],
   "source": [
    "sayHello('Alice')"
   ]
  },
  {
   "cell_type": "code",
   "execution_count": 11,
   "id": "ca847a59",
   "metadata": {},
   "outputs": [
    {
     "name": "stderr",
     "output_type": "stream",
     "text": [
      "7:10 - Property 'call' does not exist on type '(this: { name: string; }) => void'.\n"
     ]
    }
   ],
   "source": [
    "const obj = { name: 'Alice' }\n",
    "\n",
    "function sayHello(this: { name: string }): void {\n",
    "    console.log(`Hello, ${this.name}!`)\n",
    "}\n",
    "\n",
    "sayHello.call(obj) // logs 'Hello, Alice!'"
   ]
  },
  {
   "cell_type": "code",
   "execution_count": 12,
   "id": "18b534e3",
   "metadata": {},
   "outputs": [
    {
     "name": "stderr",
     "output_type": "stream",
     "text": [
      "8:32 - Property 'bind' does not exist on type '(this: { name: string; }) => void'.\n"
     ]
    }
   ],
   "source": [
    "// Bind\n",
    "const obj = { name: 'Alice' }\n",
    "\n",
    "function sayHello(this: { name: string }): void {\n",
    "    console.log(`Hello, ${this.name}!`)\n",
    "}\n",
    "\n",
    "const boundSayHello = sayHello.bind(obj)\n",
    "boundSayHello // logs 'Hello, Alice!'"
   ]
  },
  {
   "cell_type": "code",
   "execution_count": null,
   "id": "b48a68f6",
   "metadata": {},
   "outputs": [],
   "source": []
  },
  {
   "attachments": {},
   "cell_type": "markdown",
   "id": "4a23b51d",
   "metadata": {},
   "source": [
    "### 2. 함수 매개변수 및 반환 타입 이해하기"
   ]
  },
  {
   "attachments": {},
   "cell_type": "markdown",
   "id": "2bcf4d20",
   "metadata": {},
   "source": [
    "함수 매개변수"
   ]
  },
  {
   "cell_type": "code",
   "execution_count": 13,
   "id": "64a2068a",
   "metadata": {},
   "outputs": [],
   "source": [
    "function add(x: number, y: number) {\n",
    "  return x + y\n",
    "}"
   ]
  },
  {
   "cell_type": "code",
   "execution_count": 14,
   "id": "0c6cbdc7",
   "metadata": {},
   "outputs": [],
   "source": [
    "// 선택적 매개변수\n",
    "function divide(x: number, y?: number) {\n",
    "  if (y) return x / y\n",
    "  return x\n",
    "}"
   ]
  },
  {
   "cell_type": "code",
   "execution_count": 15,
   "id": "da2c6925",
   "metadata": {},
   "outputs": [],
   "source": [
    "// 기본 매개변수\n",
    "function printMessage(message: string = 'Hello, world!') {\n",
    "  console.log(message)\n",
    "}"
   ]
  },
  {
   "cell_type": "code",
   "execution_count": 16,
   "id": "d458a671",
   "metadata": {},
   "outputs": [],
   "source": [
    "// 나머지 매개변수\n",
    "function displayValues(...values: number[]) {\n",
    "  console.log(values)\n",
    "}"
   ]
  },
  {
   "cell_type": "code",
   "execution_count": null,
   "id": "0e24351a",
   "metadata": {},
   "outputs": [],
   "source": []
  },
  {
   "attachments": {},
   "cell_type": "markdown",
   "id": "32960926",
   "metadata": {},
   "source": [
    "함수 반환 타입"
   ]
  },
  {
   "cell_type": "code",
   "execution_count": 17,
   "id": "0ee1fe2e",
   "metadata": {},
   "outputs": [],
   "source": [
    "function multiply(a: number, b: number): number {\n",
    "  return a * b\n",
    "}"
   ]
  },
  {
   "cell_type": "code",
   "execution_count": 18,
   "id": "22c8186f",
   "metadata": {},
   "outputs": [],
   "source": [
    "// Void 타입\n",
    "function dispalyMesage(message: string): void {\n",
    "  console.log(message)\n",
    "}"
   ]
  },
  {
   "cell_type": "code",
   "execution_count": 2,
   "id": "247dc633",
   "metadata": {},
   "outputs": [
    {
     "name": "stderr",
     "output_type": "stream",
     "text": [
      "3:12 - Cannot find name 'Math'.\n"
     ]
    }
   ],
   "source": [
    "// Union 타입\n",
    "function myFunction(): string | boolean {\n",
    "  return Math.random() > 0.5 ? 'Success!' : false\n",
    "}"
   ]
  },
  {
   "cell_type": "code",
   "execution_count": null,
   "id": "3502900f",
   "metadata": {},
   "outputs": [],
   "source": []
  },
  {
   "attachments": {},
   "cell_type": "markdown",
   "id": "53f1a226",
   "metadata": {},
   "source": [
    "### 3. 화살표 함수 및 함수 표현식 사용하기"
   ]
  },
  {
   "attachments": {},
   "cell_type": "markdown",
   "id": "deb4b4fa",
   "metadata": {},
   "source": [
    "화살표 함수"
   ]
  },
  {
   "cell_type": "code",
   "execution_count": 3,
   "id": "99190fe7",
   "metadata": {},
   "outputs": [],
   "source": [
    "// 구문\n",
    "const sum = (a: number, b: number) => {\n",
    "  return a + b\n",
    "}"
   ]
  },
  {
   "cell_type": "code",
   "execution_count": 4,
   "id": "de3a235c",
   "metadata": {},
   "outputs": [],
   "source": [
    "// 한 줄 화살표 함수\n",
    "const sum = (a: number, b: number) => a + b"
   ]
  },
  {
   "cell_type": "code",
   "execution_count": 5,
   "id": "fac41e2d",
   "metadata": {},
   "outputs": [],
   "source": [
    "// 함수 매개변수\n",
    "const sum = (a: number, b: number) => {\n",
    "  return a + b\n",
    "}"
   ]
  },
  {
   "cell_type": "code",
   "execution_count": 6,
   "id": "81c6d61d",
   "metadata": {},
   "outputs": [
    {
     "name": "stdout",
     "output_type": "stream",
     "text": [
      "\u001b[33m3\u001b[39m\n"
     ]
    }
   ],
   "source": [
    "// 반환 값\n",
    "const sum = (a: number, b: number) => a + b\n",
    "console.log(sum(1, 2))"
   ]
  },
  {
   "cell_type": "code",
   "execution_count": null,
   "id": "c6a0e55f",
   "metadata": {},
   "outputs": [],
   "source": []
  },
  {
   "attachments": {},
   "cell_type": "markdown",
   "id": "243abfd4",
   "metadata": {},
   "source": [
    "함수 표현식"
   ]
  },
  {
   "cell_type": "code",
   "execution_count": 7,
   "id": "66e3e6db",
   "metadata": {},
   "outputs": [],
   "source": [
    "// 구문\n",
    "const sum = function (a: number, b: number) {\n",
    "  return a + b\n",
    "}"
   ]
  },
  {
   "cell_type": "code",
   "execution_count": 8,
   "id": "52d19e33",
   "metadata": {},
   "outputs": [],
   "source": [
    "// 함수 매개변수\n",
    "const sum = function (a: number, b: number) {\n",
    "  return a + b\n",
    "}"
   ]
  },
  {
   "cell_type": "code",
   "execution_count": 9,
   "id": "79c44d8b",
   "metadata": {},
   "outputs": [
    {
     "name": "stdout",
     "output_type": "stream",
     "text": [
      "\u001b[33m3\u001b[39m\n"
     ]
    }
   ],
   "source": [
    "// 반환 값\n",
    "const sum = function (a: number, b: number) { \n",
    "  return a + b\n",
    "}\n",
    "console.log(sum(1, 2))"
   ]
  },
  {
   "cell_type": "code",
   "execution_count": null,
   "id": "751ee3ab",
   "metadata": {},
   "outputs": [],
   "source": []
  },
  {
   "attachments": {},
   "cell_type": "markdown",
   "id": "29d8448e",
   "metadata": {},
   "source": [
    "화살표 함수와 함수 표현식의 차이점"
   ]
  },
  {
   "cell_type": "code",
   "execution_count": 10,
   "id": "284c0690",
   "metadata": {},
   "outputs": [],
   "source": [
    "// 구문\n",
    "\n",
    "// Arrow Function\n",
    "const square = (x: number) => x * x\n",
    "\n",
    "// Function Expression\n",
    "const square2 = function (x: number) {\n",
    "  return x * x\n",
    "}"
   ]
  },
  {
   "cell_type": "code",
   "execution_count": 1,
   "id": "3470ac59",
   "metadata": {},
   "outputs": [
    {
     "name": "stdout",
     "output_type": "stream",
     "text": [
      "10\n",
      "10\n",
      "15\n"
     ]
    }
   ],
   "source": [
    "// this의 바인딩\n",
    "const obj = {\n",
    "  value: 10,\n",
    "\n",
    "  addValue: function (amount: number) {\n",
    "    // Function Expression - 'this' is bound to the calling object\n",
    "    const increment = function () {\n",
    "      this.value += amount\n",
    "    }\n",
    "    increment()\n",
    "  },\n",
    "  addValue2: function (amount: number) {\n",
    "    // Arrow Function - 'this' is bound to the parent scope\n",
    "    const increment = () => {\n",
    "      this.value += amount\n",
    "    }\n",
    "    increment()\n",
    "  }\n",
    "}\n",
    "\n",
    "console.log(obj.value);\n",
    "obj.addValue(5)\n",
    "console.log(obj.value);\n",
    "obj.addValue2(5)\n",
    "console.log(obj.value);"
   ]
  },
  {
   "cell_type": "code",
   "execution_count": null,
   "id": "8cf58ab5",
   "metadata": {},
   "outputs": [],
   "source": []
  },
  {
   "attachments": {},
   "cell_type": "markdown",
   "id": "53f53bb0",
   "metadata": {},
   "source": [
    "### 4. 함수 오버로드"
   ]
  },
  {
   "attachments": {},
   "cell_type": "markdown",
   "id": "906c1cf1",
   "metadata": {},
   "source": [
    "함수 오버로딩은 타입스크립트에서 어떻게 작동하나요?"
   ]
  },
  {
   "cell_type": "code",
   "execution_count": 2,
   "id": "bd3d3eb6",
   "metadata": {},
   "outputs": [
    {
     "name": "stdout",
     "output_type": "stream",
     "text": [
      "You entered a string: Hello\n",
      "1500\n"
     ]
    }
   ],
   "source": [
    "// function signature 1\n",
    "function myFunction(value: string): string\n",
    "\n",
    "// function signature 2\n",
    "function myFunction(value: number): number\n",
    "\n",
    "// function implementation\n",
    "function myFunction(value: string | number): string | number {\n",
    "  if (typeof value === 'string') {\n",
    "    return 'You entered a string: ' + value\n",
    "  } else {\n",
    "    return value + 1000\n",
    "  }\n",
    "}\n",
    "\n",
    "console.log(myFunction('Hello'));\n",
    "console.log(myFunction(500));"
   ]
  },
  {
   "cell_type": "code",
   "execution_count": null,
   "id": "eba1562e",
   "metadata": {},
   "outputs": [],
   "source": []
  },
  {
   "attachments": {},
   "cell_type": "markdown",
   "id": "cb240f8c",
   "metadata": {},
   "source": [
    "타입스크립트의 함수 오버로딩 예시"
   ]
  },
  {
   "cell_type": "code",
   "execution_count": 4,
   "id": "48c09244",
   "metadata": {},
   "outputs": [
    {
     "name": "stdout",
     "output_type": "stream",
     "text": [
      "5\n",
      "Hello world\n"
     ]
    }
   ],
   "source": [
    "function calculate(a: number, b: number): number;\n",
    "function calculate(a: string, b: string): string;\n",
    "function calculate(a: any, b: any): any {\n",
    "  if (typeof a === 'number' && typeof b === 'number') {\n",
    "    return a + b\n",
    "  } else if (typeof a === 'string' && typeof b === 'string') {\n",
    "    return a + b\n",
    "  }\n",
    "}\n",
    "\n",
    "console.log(calculate(2, 3));\n",
    "console.log(calculate('Hello', ' world'));"
   ]
  },
  {
   "cell_type": "code",
   "execution_count": null,
   "id": "eef51780",
   "metadata": {},
   "outputs": [],
   "source": []
  },
  {
   "attachments": {},
   "cell_type": "markdown",
   "id": "d42196a5",
   "metadata": {},
   "source": [
    "질문: 타입스크립트에서 오버로드된 함수는 어떻게 정의하나요?"
   ]
  },
  {
   "cell_type": "code",
   "execution_count": 8,
   "id": "42493629",
   "metadata": {},
   "outputs": [
    {
     "name": "stderr",
     "output_type": "stream",
     "text": [
      "5:19 - Property 'toUpperCase' does not exist on type 'string'.\n",
      "7:21 - Type 'string[]' must have a '[Symbol.iterator]()' method that returns an iterator.\n"
     ]
    }
   ],
   "source": [
    "function foo(x: string): void;\n",
    "function foo(x: string[]): void;\n",
    "function foo(x: string | string[]) {\n",
    "  if (typeof x === 'string') {\n",
    "    console.log(x.toUpperCase());\n",
    "  } else {\n",
    "    for (const s of x) {\n",
    "      console.log(s.toUpperCase());\n",
    "    }\n",
    "  }\n",
    "}\n",
    "\n",
    "foo('hello')\n",
    "foo(['hello', 'world'])"
   ]
  },
  {
   "attachments": {},
   "cell_type": "markdown",
   "id": "267688db",
   "metadata": {},
   "source": [
    "질문: 타입스크립트는 어떤 함수 시그니처를 사용할지 어떻게 결정하나요?"
   ]
  },
  {
   "cell_type": "code",
   "execution_count": 10,
   "id": "2a7bd0b8",
   "metadata": {},
   "outputs": [
    {
     "name": "stdout",
     "output_type": "stream",
     "text": [
      "x is a string (hello)\n",
      "y is a number (42)\n",
      "x is a number (42)\n",
      "y is a string (world)\n",
      "x is a string (hello)\n",
      "y is a string (world)\n"
     ]
    }
   ],
   "source": [
    "function bar(x: string, y?: number): void;\n",
    "function bar(x: number, y?: string): void;\n",
    "function bar(x: string, y?: string): void;\n",
    "function bar(x: string | number, y?: string | number) {\n",
    "  if (typeof x === 'string') {\n",
    "    console.log(`x is a string (${x})`);\n",
    "  } else {\n",
    "    console.log(`x is a number (${x})`);\n",
    "  }\n",
    "  if (y !== undefined) {\n",
    "    console.log(`y is a ${typeof y} (${y})`);\n",
    "  }\n",
    "}\n",
    "\n",
    "bar('hello', 42)\n",
    "bar(42, 'world')\n",
    "bar('hello', 'world')"
   ]
  }
 ],
 "metadata": {
  "kernelspec": {
   "display_name": "TypeScript",
   "language": "typescript",
   "name": "tslab"
  },
  "language_info": {
   "codemirror_mode": {
    "mode": "typescript",
    "name": "javascript",
    "typescript": true
   },
   "file_extension": ".ts",
   "mimetype": "text/typescript",
   "name": "typescript",
   "version": "3.7.2"
  }
 },
 "nbformat": 4,
 "nbformat_minor": 5
}
