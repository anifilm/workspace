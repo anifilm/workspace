{
 "cells": [
  {
   "attachments": {},
   "cell_type": "markdown",
   "id": "53f53bb0",
   "metadata": {},
   "source": [
    "### 4. 함수 오버로드"
   ]
  },
  {
   "attachments": {},
   "cell_type": "markdown",
   "id": "906c1cf1",
   "metadata": {},
   "source": [
    "함수 오버로딩은 타입스크립트에서 어떻게 작동하나요?"
   ]
  },
  {
   "cell_type": "code",
   "execution_count": 2,
   "id": "bd3d3eb6",
   "metadata": {},
   "outputs": [
    {
     "name": "stdout",
     "output_type": "stream",
     "text": [
      "You entered a string: Hello\n",
      "1500\n"
     ]
    }
   ],
   "source": [
    "// function signature 1\n",
    "function myFunction(value: string): string\n",
    "\n",
    "// function signature 2\n",
    "function myFunction(value: number): number\n",
    "\n",
    "// function implementation\n",
    "function myFunction(value: string | number): string | number {\n",
    "  if (typeof value === 'string') {\n",
    "    return 'You entered a string: ' + value;\n",
    "  }\n",
    "  else {\n",
    "    return value + 1000;\n",
    "  }\n",
    "}\n",
    "\n",
    "console.log(myFunction('Hello'));\n",
    "console.log(myFunction(500));"
   ]
  },
  {
   "attachments": {},
   "cell_type": "markdown",
   "id": "cb240f8c",
   "metadata": {},
   "source": [
    "타입스크립트의 함수 오버로딩 예시"
   ]
  },
  {
   "cell_type": "code",
   "execution_count": 4,
   "id": "48c09244",
   "metadata": {},
   "outputs": [
    {
     "name": "stdout",
     "output_type": "stream",
     "text": [
      "5\n",
      "Hello world\n"
     ]
    }
   ],
   "source": [
    "function calculate(a: number, b: number): number;\n",
    "function calculate(a: string, b: string): string;\n",
    "function calculate(a: any, b: any): any {\n",
    "  if (typeof a === 'number' && typeof b === 'number') {\n",
    "    return a + b;\n",
    "  }\n",
    "  else if (typeof a === 'string' && typeof b === 'string') {\n",
    "    return a + b;\n",
    "  }\n",
    "}\n",
    "\n",
    "console.log(calculate(2, 3));\n",
    "console.log(calculate('Hello', ' world'));"
   ]
  },
  {
   "attachments": {},
   "cell_type": "markdown",
   "id": "040797b5",
   "metadata": {},
   "source": [
    "Q&A"
   ]
  },
  {
   "attachments": {},
   "cell_type": "markdown",
   "id": "d42196a5",
   "metadata": {},
   "source": [
    "###### 질문: 타입스크립트에서 오버로드된 함수는 어떻게 정의하나요?"
   ]
  },
  {
   "cell_type": "code",
   "execution_count": 5,
   "id": "42493629",
   "metadata": {},
   "outputs": [
    {
     "name": "stdout",
     "output_type": "stream",
     "text": [
      "HELLO\n",
      "HELLO\n",
      "WORLD\n"
     ]
    }
   ],
   "source": [
    "function foo(x: string): void;\n",
    "function foo(x: string[]): void;\n",
    "function foo(x: string | string[]) {\n",
    "  if (typeof x === 'string') {\n",
    "    console.log(x.toUpperCase());\n",
    "  }\n",
    "  else {\n",
    "    for (const s of x) {\n",
    "      console.log(s.toUpperCase());\n",
    "    }\n",
    "  }\n",
    "}\n",
    "\n",
    "foo('hello');\n",
    "foo(['hello', 'world']);"
   ]
  },
  {
   "attachments": {},
   "cell_type": "markdown",
   "id": "267688db",
   "metadata": {},
   "source": [
    "###### 질문: 타입스크립트는 어떤 함수 시그니처를 사용할지 어떻게 결정하나요?"
   ]
  },
  {
   "cell_type": "code",
   "execution_count": 10,
   "id": "2a7bd0b8",
   "metadata": {},
   "outputs": [
    {
     "name": "stdout",
     "output_type": "stream",
     "text": [
      "x is a string (hello)\n",
      "y is a number (42)\n",
      "x is a number (42)\n",
      "y is a string (world)\n",
      "x is a string (hello)\n",
      "y is a string (world)\n"
     ]
    }
   ],
   "source": [
    "function bar(x: string, y?: number): void;\n",
    "function bar(x: number, y?: string): void;\n",
    "function bar(x: string, y?: string): void;\n",
    "function bar(x: string | number, y?: string | number) {\n",
    "  if (typeof x === 'string') {\n",
    "    console.log(`x is a string (${x})`);\n",
    "  }\n",
    "  else {\n",
    "    console.log(`x is a number (${x})`);\n",
    "  }\n",
    "  if (y !== undefined) {\n",
    "    console.log(`y is a ${typeof y} (${y})`);\n",
    "  }\n",
    "}\n",
    "\n",
    "bar('hello', 42);\n",
    "bar(42, 'world');\n",
    "bar('hello', 'world');"
   ]
  }
 ],
 "metadata": {
  "kernelspec": {
   "display_name": "TypeScript",
   "language": "typescript",
   "name": "tslab"
  },
  "language_info": {
   "codemirror_mode": {
    "mode": "typescript",
    "name": "javascript",
    "typescript": true
   },
   "file_extension": ".ts",
   "mimetype": "text/typescript",
   "name": "typescript",
   "version": "3.7.2"
  }
 },
 "nbformat": 4,
 "nbformat_minor": 5
}
