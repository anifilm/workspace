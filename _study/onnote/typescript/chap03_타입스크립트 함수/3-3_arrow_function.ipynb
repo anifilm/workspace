{
 "cells": [
  {
   "attachments": {},
   "cell_type": "markdown",
   "id": "53f1a226",
   "metadata": {},
   "source": [
    "### 3. 화살표 함수 및 함수 표현식 사용하기"
   ]
  },
  {
   "attachments": {},
   "cell_type": "markdown",
   "id": "deb4b4fa",
   "metadata": {},
   "source": [
    "화살표 함수"
   ]
  },
  {
   "cell_type": "code",
   "execution_count": 3,
   "id": "99190fe7",
   "metadata": {},
   "outputs": [],
   "source": [
    "// 구문\n",
    "const sum = (a: number, b: number) => {\n",
    "  return a + b;\n",
    "};"
   ]
  },
  {
   "cell_type": "code",
   "execution_count": 4,
   "id": "de3a235c",
   "metadata": {},
   "outputs": [],
   "source": [
    "// 한 줄 화살표 함수\n",
    "const sum = (a: number, b: number) => a + b;"
   ]
  },
  {
   "cell_type": "code",
   "execution_count": 5,
   "id": "fac41e2d",
   "metadata": {},
   "outputs": [],
   "source": [
    "// 함수 매개변수\n",
    "const sum = (a: number, b: number) => {\n",
    "  return a + b;\n",
    "};"
   ]
  },
  {
   "cell_type": "code",
   "execution_count": 6,
   "id": "81c6d61d",
   "metadata": {},
   "outputs": [
    {
     "name": "stdout",
     "output_type": "stream",
     "text": [
      "\u001b[33m3\u001b[39m\n"
     ]
    }
   ],
   "source": [
    "// 반환 값\n",
    "const sum = (a: number, b: number) => a + b;\n",
    "console.log(sum(1, 2));"
   ]
  },
  {
   "attachments": {},
   "cell_type": "markdown",
   "id": "243abfd4",
   "metadata": {},
   "source": [
    "함수 표현식"
   ]
  },
  {
   "cell_type": "code",
   "execution_count": 7,
   "id": "66e3e6db",
   "metadata": {},
   "outputs": [],
   "source": [
    "// 구문\n",
    "const sum = function (a: number, b: number) {\n",
    "  return a + b;\n",
    "};"
   ]
  },
  {
   "cell_type": "code",
   "execution_count": 8,
   "id": "52d19e33",
   "metadata": {},
   "outputs": [],
   "source": [
    "// 함수 매개변수\n",
    "const sum = function (a: number, b: number) {\n",
    "  return a + b;\n",
    "};"
   ]
  },
  {
   "cell_type": "code",
   "execution_count": 9,
   "id": "79c44d8b",
   "metadata": {},
   "outputs": [
    {
     "name": "stdout",
     "output_type": "stream",
     "text": [
      "\u001b[33m3\u001b[39m\n"
     ]
    }
   ],
   "source": [
    "// 반환 값\n",
    "const sum = function (a: number, b: number) {\n",
    "  return a + b;\n",
    "};\n",
    "console.log(sum(1, 2));"
   ]
  },
  {
   "attachments": {},
   "cell_type": "markdown",
   "id": "29d8448e",
   "metadata": {},
   "source": [
    "화살표 함수와 함수 표현식의 차이점"
   ]
  },
  {
   "cell_type": "code",
   "execution_count": 10,
   "id": "284c0690",
   "metadata": {},
   "outputs": [],
   "source": [
    "// 구문\n",
    "\n",
    "// Arrow Function\n",
    "const square = (x: number) => x * x;\n",
    "\n",
    "// Function Expression\n",
    "const square2 = function (x: number) {\n",
    "  return x * x;\n",
    "}"
   ]
  },
  {
   "cell_type": "code",
   "execution_count": 1,
   "id": "3470ac59",
   "metadata": {},
   "outputs": [
    {
     "name": "stdout",
     "output_type": "stream",
     "text": [
      "10\n",
      "10\n",
      "15\n"
     ]
    }
   ],
   "source": [
    "// this의 바인딩\n",
    "const obj = {\n",
    "  value: 10,\n",
    "\n",
    "  addValue: function (amount: number) {\n",
    "    // Function Expression - 'this' is bound to the calling object\n",
    "    const increment = function () {\n",
    "      this.value += amount;\n",
    "    };\n",
    "    increment();\n",
    "  },\n",
    "  addValue2: function (amount: number) {\n",
    "    // Arrow Function - 'this' is bound to the parent scope\n",
    "    const increment = () => {\n",
    "      this.value += amount;\n",
    "    };\n",
    "    increment();\n",
    "  }\n",
    "}\n",
    "\n",
    "console.log(obj.value);\n",
    "obj.addValue(5);\n",
    "console.log(obj.value);\n",
    "obj.addValue2(5);\n",
    "console.log(obj.value);"
   ]
  }
 ],
 "metadata": {
  "kernelspec": {
   "display_name": "TypeScript",
   "language": "typescript",
   "name": "tslab"
  },
  "language_info": {
   "codemirror_mode": {
    "mode": "typescript",
    "name": "javascript",
    "typescript": true
   },
   "file_extension": ".ts",
   "mimetype": "text/typescript",
   "name": "typescript",
   "version": "3.7.2"
  }
 },
 "nbformat": 4,
 "nbformat_minor": 5
}
