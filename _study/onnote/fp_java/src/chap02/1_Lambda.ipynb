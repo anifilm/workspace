{
 "cells": [
  {
   "cell_type": "markdown",
   "metadata": {},
   "source": [
    "### 1. 람다 표현식 구문\n",
    "\n",
    "기본 구문"
   ]
  },
  {
   "cell_type": "code",
   "execution_count": null,
   "metadata": {},
   "outputs": [],
   "source": [
    "// 두 개의 매개 변수를 받아 합계를 반환하는 람다 표현식\n",
    "(int x, int y) -> { return x + y; }"
   ]
  },
  {
   "cell_type": "code",
   "execution_count": null,
   "metadata": {},
   "outputs": [],
   "source": [
    "// 매개 변수가 하나인 람다 표현식\n",
    "String str = \"Hello, world!\";\n",
    "(str) -> System.out.println(str);"
   ]
  },
  {
   "cell_type": "markdown",
   "metadata": {},
   "source": [
    "타입 추론"
   ]
  },
  {
   "cell_type": "code",
   "execution_count": null,
   "metadata": {},
   "outputs": [],
   "source": [
    "// 람다 표현식의 타입 추론\n",
    "Function<String, Integer> strLength = (str) -> str.length();"
   ]
  },
  {
   "cell_type": "markdown",
   "metadata": {},
   "source": [
    "메서드 참조"
   ]
  },
  {
   "cell_type": "code",
   "execution_count": 1,
   "metadata": {},
   "outputs": [
    {
     "name": "stdout",
     "output_type": "stream",
     "text": [
      "John\n",
      "Jane\n",
      "Mike\n"
     ]
    }
   ],
   "source": [
    "// 인스턴스 메서드에 대한 메서드 참조\n",
    "List<String> names = Arrays.asList(\"John\", \"Jane\", \"Mike\");\n",
    "names.forEach(System.out::println);"
   ]
  },
  {
   "cell_type": "code",
   "execution_count": null,
   "metadata": {},
   "outputs": [],
   "source": [
    "// 정적 메서드에 대한 메서드 참조\n",
    "Function<Integer, String> f = String::valueOf;"
   ]
  },
  {
   "cell_type": "markdown",
   "metadata": {},
   "source": [
    "함수형 인터페이스"
   ]
  },
  {
   "cell_type": "code",
   "execution_count": null,
   "metadata": {},
   "outputs": [],
   "source": [
    "// 함수형 인터페이스\n",
    "public interface MathOperation {\n",
    "    int operation(int x, int y);\n",
    "}"
   ]
  },
  {
   "cell_type": "code",
   "execution_count": null,
   "metadata": {},
   "outputs": [],
   "source": [
    "MathOperation add = (int x, int y) -> x + y;\n",
    "System.out.println(\"2 + 3 = \" + add.operation(2, 3));"
   ]
  }
 ],
 "metadata": {
  "kernelspec": {
   "display_name": "Java",
   "language": "java",
   "name": "java"
  },
  "language_info": {
   "codemirror_mode": "java",
   "file_extension": ".jshell",
   "mimetype": "text/x-java-source",
   "name": "java",
   "pygments_lexer": "java",
   "version": "11.0.10+8-LTS-162"
  }
 },
 "nbformat": 4,
 "nbformat_minor": 2
}
