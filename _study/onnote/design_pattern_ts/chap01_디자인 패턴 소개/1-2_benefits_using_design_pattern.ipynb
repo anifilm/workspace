{
 "cells": [
  {
   "attachments": {},
   "cell_type": "markdown",
   "id": "f65adef6",
   "metadata": {},
   "source": [
    "### 2. 디자인 패턴 사용의 이점\n"
   ]
  },
  {
   "attachments": {},
   "cell_type": "markdown",
   "id": "c64154b2",
   "metadata": {},
   "source": [
    "연습 문제\n"
   ]
  },
  {
   "attachments": {},
   "cell_type": "markdown",
   "id": "87af4317",
   "metadata": {},
   "source": [
    "###### 문제: 제공된 문자열 매개 변수를 기반으로 다양한 유형의 도형(원, 사각형, 삼각형)을 생성하는 팩토리 함수를 만듭니다.\n"
   ]
  },
  {
   "cell_type": "code",
   "execution_count": 1,
   "metadata": {},
   "outputs": [
    {
     "name": "stdout",
     "output_type": "stream",
     "text": [
      "Drawing a circle\n"
     ]
    }
   ],
   "source": [
    "interface Shape {\n",
    "  draw(): void;\n",
    "}\n",
    "\n",
    "class Circle implements Shape {\n",
    "  draw(): void {\n",
    "    console.log(\"Drawing a circle\");\n",
    "  }\n",
    "}\n",
    "\n",
    "class Square implements Shape {\n",
    "  draw(): void {\n",
    "    console.log(\"Drawing a square\");\n",
    "  }\n",
    "}\n",
    "\n",
    "class Triangle implements Shape {\n",
    "  draw(): void {\n",
    "    console.log('Drawing a triangle');\n",
    "  }\n",
    "}\n",
    "\n",
    "function shapeFactory(type: string): Shape {\n",
    "  switch (type) {\n",
    "    case 'circle':\n",
    "      return new Circle();\n",
    "    case 'square':\n",
    "      return new Square();\n",
    "    case 'triagle':\n",
    "      return new Triangle();\n",
    "    default:\n",
    "      throw new Error('Unknown shape type');\n",
    "  }\n",
    "}\n",
    "\n",
    "// Example usage:\n",
    "const myCircle = shapeFactory('circle');\n",
    "myCircle.draw();"
   ]
  },
  {
   "attachments": {},
   "cell_type": "markdown",
   "id": "b30e7648",
   "metadata": {},
   "source": [
    "###### 문제: 드라이버를 사용하는 애플리케이션 코드를 변경하지 않고도 새 버전의 데이터베이스 드라이버가 이전 버전을 원활하게 대체할 수 있는 어댑터 클래스를 만드세요."
   ]
  },
  {
   "cell_type": "code",
   "execution_count": 3,
   "id": "df428a22",
   "metadata": {},
   "outputs": [
    {
     "name": "stdout",
     "output_type": "stream",
     "text": [
      "Connecting to old database\n",
      "Querying old database with SQL SELECT * FROM table\n",
      "Connecting to new database\n",
      "Executing SQL on new database SELECT * FROM table\n",
      "[]\n"
     ]
    }
   ],
   "source": [
    "interface DatabaseDriver {\n",
    "  connect(): void;\n",
    "  query(sql: string): any[];\n",
    "}\n",
    "\n",
    "class OldDatabaseDriver implements DatabaseDriver {\n",
    "  connect(): void {\n",
    "    console.log('Connecting to old database');\n",
    "  }\n",
    "\n",
    "  query(sql: string): any[] {\n",
    "    console.log('Querying old database with SQL', sql);\n",
    "    return [];\n",
    "  }\n",
    "}\n",
    "\n",
    "class NewDatabaseDriver {\n",
    "  connectToNewDatabase(): void {\n",
    "    console.log('Connecting to new database');\n",
    "  }\n",
    "\n",
    "  executeSql(sql: string): any[] {\n",
    "    console.log('Executing SQL on new database', sql);\n",
    "    return [];\n",
    "  }\n",
    "}\n",
    "\n",
    "class NewDatabaseDriverAdapter implements DatabaseDriver {\n",
    "  private newDriver: NewDatabaseDriver;\n",
    "\n",
    "  constructor() {\n",
    "    this.newDriver = new NewDatabaseDriver();\n",
    "  }\n",
    "\n",
    "  connect(): void {\n",
    "    this.newDriver.connectToNewDatabase();\n",
    "  }\n",
    "\n",
    "  query(sql: string): any[] {\n",
    "    return this.newDriver.executeSql(sql);\n",
    "  }\n",
    "}\n",
    "\n",
    "// Example usage:\n",
    "const oldDriver = new OldDatabaseDriver();\n",
    "oldDriver.connect();\n",
    "oldDriver.query('SELECT * FROM table');\n",
    "\n",
    "const newDriver = new NewDatabaseDriverAdapter();\n",
    "newDriver.connect();\n",
    "newDriver.query('SELECT * FROM table');"
   ]
  },
  {
   "attachments": {},
   "cell_type": "markdown",
   "id": "fe92bfbd",
   "metadata": {},
   "source": [
    "###### 문제: 파일에 데이터를 저장하는 기존 클래스에 암호화를 추가하는 데코레이터를 만드세요."
   ]
  },
  {
   "cell_type": "code",
   "execution_count": 2,
   "id": "a3f2147e",
   "metadata": {},
   "outputs": [
    {
     "name": "stdout",
     "output_type": "stream",
     "text": [
      "Saving data to file This is my data\n",
      "Saving data to file This is my secret data\n"
     ]
    }
   ],
   "source": [
    "interface DataSaver {\n",
    "  save(data: string): void;\n",
    "}\n",
    "\n",
    "class FileDataSaver implements DataSaver {\n",
    "  save(data: string): void {\n",
    "    console.log('Saving data to file', data);\n",
    "  }\n",
    "}\n",
    "\n",
    "class EncryptedDataSaverDecorator implements DataSaver {\n",
    "  private dataSaver: DataSaver;\n",
    "\n",
    "  constructor(dataSaver: DataSaver) {\n",
    "    this.dataSaver = dataSaver;\n",
    "  }\n",
    "\n",
    "  save(data: string): void {\n",
    "    const encryptedData = this.encryptData(data);\n",
    "    this.dataSaver.save(encryptedData);\n",
    "  }\n",
    "\n",
    "  private encryptData(data: string): string {\n",
    "    // Encryption logic here\n",
    "    return data;\n",
    "  }\n",
    "}\n",
    "\n",
    "// Example usage:\n",
    "const fileSaver = new FileDataSaver();\n",
    "fileSaver.save('This is my data');\n",
    "\n",
    "const encryptedSaver = new EncryptedDataSaverDecorator(fileSaver);\n",
    "encryptedSaver.save('This is my secret data');"
   ]
  }
 ],
 "metadata": {
  "kernelspec": {
   "display_name": "TypeScript",
   "language": "typescript",
   "name": "tslab"
  },
  "language_info": {
   "codemirror_mode": {
    "mode": "typescript",
    "name": "javascript",
    "typescript": true
   },
   "file_extension": ".ts",
   "mimetype": "text/typescript",
   "name": "typescript",
   "version": "3.7.2"
  }
 },
 "nbformat": 4,
 "nbformat_minor": 5
}
