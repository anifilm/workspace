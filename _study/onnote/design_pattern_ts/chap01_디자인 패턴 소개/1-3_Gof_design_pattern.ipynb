{
 "cells": [
  {
   "attachments": {},
   "cell_type": "markdown",
   "id": "bdfe16d8",
   "metadata": {},
   "source": [
    "### 3. GoF 디자인 패턴 개요"
   ]
  },
  {
   "attachments": {},
   "cell_type": "markdown",
   "id": "6969a248",
   "metadata": {},
   "source": [
    "생성 패턴"
   ]
  },
  {
   "cell_type": "code",
   "execution_count": null,
   "metadata": {},
   "outputs": [],
   "source": [
    "// 싱글톤 패턴\n",
    "class Singleton {\n",
    "  private static instance: Singleton = new Singleton();\n",
    "\n",
    "  private constructor() { }\n",
    "  \n",
    "  public static getInstance(): Singleton {\n",
    "    return this.instance;\n",
    "  }\n",
    "}"
   ]
  },
  {
   "cell_type": "code",
   "execution_count": null,
   "id": "42d98b00",
   "metadata": {},
   "outputs": [],
   "source": [
    "// 팩토리 패턴\n",
    "abstract class AnimalFactory {\n",
    "  public abstract createAnimal(): Animal;\n",
    "}\n",
    "\n",
    "class DogFactory extends AnimalFactory {\n",
    "  public createAnimal(): Animal {\n",
    "    return new Dog();\n",
    "  }\n",
    "}\n",
    "\n",
    "class CatFactory extends AnimalFactory {\n",
    "  public createAnimal(): Animal {\n",
    "    return new CatFactory();\n",
    "  }\n",
    "}"
   ]
  },
  {
   "attachments": {},
   "cell_type": "markdown",
   "id": "3d3685e1",
   "metadata": {},
   "source": [
    "구조 패턴"
   ]
  },
  {
   "cell_type": "code",
   "execution_count": null,
   "id": "5997c2d2",
   "metadata": {},
   "outputs": [],
   "source": [
    "// 어댑터 패턴\n",
    "interface Square {\n",
    "  sideLength: number;\n",
    "}\n",
    "\n",
    "interface Rectangle {\n",
    "  width: number;\n",
    "  height: number;\n",
    "}\n",
    "\n",
    "class SquareToRectangleAdapter implements Rectangle {\n",
    "  private square: Square;\n",
    "\n",
    "  constructor(square: Square) {\n",
    "    this.square = square;\n",
    "  }\n",
    "\n",
    "  public get width(): number {\n",
    "    return this.square.sideLength;\n",
    "  }\n",
    "\n",
    "  public get height(): number {\n",
    "    return this.square.sideLength;\n",
    "  }\n",
    "}"
   ]
  },
  {
   "cell_type": "code",
   "execution_count": null,
   "id": "5de1b60b",
   "metadata": {},
   "outputs": [],
   "source": [
    "// 데코레이터 패턴\n",
    "interface Animal {\n",
    "  makeSound(): void;\n",
    "}\n",
    "\n",
    "class Dog implements Animal {\n",
    "  public makeSound(): void {\n",
    "    console.log('Woof!');\n",
    "  }\n",
    "}\n",
    "\n",
    "abstract class AnimalDecorator implements Animal {\n",
    "  protected animal: Animal;\n",
    "\n",
    "  constructor(animal: Animal) {\n",
    "    this.animal = animal;\n",
    "  }\n",
    "\n",
    "  public abstract makeSound(): void;\n",
    "}\n",
    "\n",
    "class LoudDogDecorator extends AnimalDecorator {\n",
    "  public makeSound(): void {\n",
    "    this.animal.makeSound();\n",
    "    console.log('LOUD!');\n",
    "  }\n",
    "}"
   ]
  },
  {
   "attachments": {},
   "cell_type": "markdown",
   "id": "d7ca777e",
   "metadata": {},
   "source": [
    "행동 패턴"
   ]
  },
  {
   "cell_type": "code",
   "execution_count": null,
   "id": "a415ca44",
   "metadata": {},
   "outputs": [],
   "source": [
    "// 옵저버 패턴\n",
    "interface Observer {\n",
    "  update(): void;\n",
    "}\n",
    "\n",
    "class Subject {\n",
    "  private observers: Observer[] = [];\n",
    "\n",
    "  public attach(observer: Observer): void {\n",
    "    this.observers.push(observer);\n",
    "  }\n",
    "\n",
    "  public detach(observer: Observer): void {\n",
    "    const index = this.observers.indexOf(observer);\n",
    "\n",
    "    if (index !== -1) {\n",
    "      this.observers.splice(index, 1);\n",
    "    }\n",
    "  }\n",
    "\n",
    "  public notify(): void {\n",
    "    this.observers.forEach((observer) => observer.update());\n",
    "  }\n",
    "}"
   ]
  },
  {
   "cell_type": "code",
   "execution_count": null,
   "id": "3dbcf1e5",
   "metadata": {},
   "outputs": [],
   "source": [
    "// 전략 패턴\n",
    "interface Strategy {\n",
    "  execute(): void;\n",
    "}\n",
    "\n",
    "class ConcreteStrategyA implements Strategy {\n",
    "  public execute(): void {\n",
    "    console.log('Executing strategy A');\n",
    "  }\n",
    "}\n",
    "\n",
    "class ConcreteStrategyB implements Strategy {\n",
    "  public execute(): void {\n",
    "      console.log('Executing strategy B');\n",
    "  }\n",
    "}\n",
    "\n",
    "class Context {\n",
    "  private strategy: Strategy;\n",
    "\n",
    "  public constructor(strategy: Strategy) {\n",
    "    this.strategy = strategy;\n",
    "  }\n",
    "\n",
    "  public setStrategy(strategy: Strategy): void {\n",
    "    this.strategy = strategy;\n",
    "  }\n",
    "\n",
    "  public executeStrategy(): void {\n",
    "    this.strategy.execute();\n",
    "  }\n",
    "}"
   ]
  },
  {
   "attachments": {},
   "cell_type": "markdown",
   "id": "70d95275",
   "metadata": {},
   "source": [
    "연습 문제"
   ]
  },
  {
   "attachments": {},
   "cell_type": "markdown",
   "id": "6e06de66",
   "metadata": {},
   "source": [
    "###### 문제: 타입스크립트에서 싱글톤 패턴을 생성합니다."
   ]
  },
  {
   "cell_type": "code",
   "execution_count": null,
   "id": "2ea6f4bd",
   "metadata": {},
   "outputs": [],
   "source": [
    "class Singleton {\n",
    "  private static instance: Singleton;\n",
    "\n",
    "  private constructor() { }\n",
    "\n",
    "  public static getInstance(): Singleton {\n",
    "    if (!Singleton.instance) {\n",
    "      Singleton.instance = new Singleton();\n",
    "    }\n",
    "\n",
    "    return Singleton.instance;\n",
    "  }\n",
    "}"
   ]
  },
  {
   "attachments": {},
   "cell_type": "markdown",
   "id": "7e5786fd",
   "metadata": {},
   "source": [
    "###### 문제: 타입스크립트에서 어댑터 패턴을 만드세요."
   ]
  },
  {
   "cell_type": "code",
   "execution_count": null,
   "id": "88f14d53",
   "metadata": {},
   "outputs": [],
   "source": [
    "interface OldInterface {\n",
    "  methodA(): void;\n",
    "}\n",
    "\n",
    "class OldClass implements OldInterface {\n",
    "  methodA(): void {\n",
    "    console.log('Old class method A called');\n",
    "  }\n",
    "}\n",
    "\n",
    "interface NewInterface {\n",
    "  methodB(): void;\n",
    "}\n",
    "\n",
    "class Adapter implements NewInterface {\n",
    "  private oldClass: OldClass;\n",
    "\n",
    "  constructor(oldClass: OldClass) {\n",
    "    this.oldClass = oldClass;\n",
    "  }\n",
    "\n",
    "  methodB(): void {\n",
    "    console.log('Adapter class method B called');\n",
    "    this.oldClass.methodA();\n",
    "  }\n",
    "}"
   ]
  },
  {
   "attachments": {},
   "cell_type": "markdown",
   "id": "04f07afe",
   "metadata": {},
   "source": [
    "###### 문제: 타입스크립트에서 옵저버 패턴을 만드세요."
   ]
  },
  {
   "cell_type": "code",
   "execution_count": null,
   "id": "94fd106b",
   "metadata": {},
   "outputs": [],
   "source": [
    "interface Observer {\n",
    "  update(message: string): void;\n",
    "}\n",
    "\n",
    "class Observer1 implements Observer {\n",
    "  update(message: string): void {\n",
    "    console.log(`Observer1 received message: ${message}`);\n",
    "  }\n",
    "}\n",
    "\n",
    "class Observer2 implements Observer {\n",
    "  update(message: string): void {\n",
    "    console.log(`Observer2 received message: ${message}`);\n",
    "  }\n",
    "}\n",
    "\n",
    "interface Subject {\n",
    "  attach(observer: Observer): void;\n",
    "  detach(observer: Observer): void;\n",
    "  notify(message: string): void;\n",
    "}\n",
    "\n",
    "class SubjectImpl implements Subject {\n",
    "  private observers: Observer[] = [];\n",
    "\n",
    "  attach(observer: Observer): void {\n",
    "    this.observers.push(observer);\n",
    "  }\n",
    "\n",
    "  detach(observer: Observer): void {\n",
    "    const index = this.observers.indexOf(observer);\n",
    "    if (index >= 0) {\n",
    "      this.observers.splice(index, 1);\n",
    "    }\n",
    "  }\n",
    "\n",
    "  notify(message: string): void {\n",
    "    for (const observer of this.observers) {\n",
    "      observer.update(message);\n",
    "    }\n",
    "  }\n",
    "}\n",
    "\n",
    "const subject = new SubjectImpl();\n",
    "const observer1 = new Observer1();\n",
    "const observer2 = new Observer2();\n",
    "subject.attach(observer1);\n",
    "subject.attach(observer2);\n",
    "subject.notify('Hello, world!');"
   ]
  }
 ],
 "metadata": {
  "kernelspec": {
   "display_name": "TypeScript",
   "language": "typescript",
   "name": "tslab"
  },
  "language_info": {
   "name": "typescript"
  }
 },
 "nbformat": 4,
 "nbformat_minor": 5
}
