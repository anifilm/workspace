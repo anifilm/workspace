{
 "cells": [
  {
   "attachments": {},
   "cell_type": "markdown",
   "id": "5e78478e",
   "metadata": {},
   "source": [
    "### 1. 디자인 패턴이란?"
   ]
  },
  {
   "attachments": {},
   "cell_type": "markdown",
   "id": "1576dfa5",
   "metadata": {},
   "source": [
    "타입스크립트의 일반적인 디자인 패턴"
   ]
  },
  {
   "cell_type": "code",
   "execution_count": null,
   "metadata": {},
   "outputs": [],
   "source": [
    "// 싱글톤 패턴\n",
    "class Singleton {\n",
    "  private static instance: Singleton;\n",
    "  private constructor() {}\n",
    "\n",
    "  public static getInstace(): Singleton {\n",
    "    if (!Singleton.instance) {\n",
    "      Singleton.instance = new Singleton();\n",
    "    }\n",
    "\n",
    "    return Singleton.instance;\n",
    "  }\n",
    "}"
   ]
  },
  {
   "cell_type": "code",
   "execution_count": null,
   "id": "01994405",
   "metadata": {},
   "outputs": [],
   "source": [
    "// 팩토리 패턴\n",
    "interface Car {\n",
    "  drive(): void;\n",
    "}\n",
    "\n",
    "class Honda implements Car {\n",
    "  public drive(): void {\n",
    "    console.log('Drive a Honda');\n",
    "  }\n",
    "}\n",
    "\n",
    "class BMW implements Car {\n",
    "  public drive(): void {\n",
    "    console.log('Driving a BMW');\n",
    "  }\n",
    "}\n",
    "\n",
    "class CarFactory {\n",
    "  public createCar(type: string): Car {\n",
    "    switch (type) {\n",
    "      case 'honda': return new Honda();\n",
    "      case 'bmw': return new BMW();\n",
    "      default: throw new Error('Invalid car type');\n",
    "    }\n",
    "  }\n",
    "}"
   ]
  },
  {
   "cell_type": "code",
   "execution_count": null,
   "id": "be2ccd50",
   "metadata": {},
   "outputs": [],
   "source": [
    "// 옵저버 패턴\n",
    "interface Observer {\n",
    "  update(data: any): void;\n",
    "}\n",
    "\n",
    "interface Subject {\n",
    "  registerObserver(observer: Observer): void;\n",
    "  removeObserver(observer: Observer): void;\n",
    "  notifyObservers(): void;\n",
    "}\n",
    "\n",
    "class WeatherStation implements Subject {\n",
    "  private _observers: Observer[] = [];\n",
    "  private _temperature: number;\n",
    "\n",
    "  public get temperature() {\n",
    "    return this._temperature;\n",
    "  }\n",
    "\n",
    "  public setTemperature(temp: number): void {\n",
    "    console.log(`Updating temperature to ${temp}`);\n",
    "    this._temperature = temp;\n",
    "    this.notifyObservers();\n",
    "  }\n",
    "\n",
    "  public registerObserver(observer: Observer): void {\n",
    "    this._observers.push(observer);\n",
    "  }\n",
    "\n",
    "  public removeObserver(observer: Observer): void {\n",
    "    this._observers = this._observers.filter(obs => observer !== obs);\n",
    "  }\n",
    "\n",
    "  public notifyObservers(): void {\n",
    "    this._observers.forEach(observer => observer.update(this._temperature));\n",
    "  }\n",
    "}\n",
    "\n",
    "class TemparatureDisplay implements Observer {\n",
    "  public update(data: any): void {\n",
    "    console.log(`TemperatureDisplay: ${data}`);\n",
    "  }\n",
    "}\n",
    "\n",
    "class Fan implements Observer {\n",
    "  public update(data: any): void {\n",
    "    console.log(`Fan: ${data}`);\n",
    "  }\n",
    "}\n",
    "\n",
    "const weatherStation = new WeatherStation();\n",
    "const tempDisplay = new TemparatureDisplay();\n",
    "const fan = new Fan();\n",
    "\n",
    "weatherStation.registerObserver(tempDisplay);\n",
    "weatherStation.registerObserver(fan);\n",
    "weatherStation.setTemperature(25);\n",
    "weatherStation.removeObserver(fan);\n",
    "weatherStation.setTemperature(30);"
   ]
  },
  {
   "cell_type": "code",
   "execution_count": null,
   "id": "8e2f7dcb",
   "metadata": {},
   "outputs": [],
   "source": [
    "// 데코레이터 패턴"
   ]
  }
 ],
 "metadata": {
  "kernelspec": {
   "display_name": "TypeScript",
   "language": "typescript",
   "name": "tslab"
  },
  "language_info": {
   "name": "typescript"
  }
 },
 "nbformat": 4,
 "nbformat_minor": 5
}
