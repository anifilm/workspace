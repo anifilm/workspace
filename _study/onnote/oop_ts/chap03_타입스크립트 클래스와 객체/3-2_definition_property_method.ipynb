{
 "cells": [
  {
   "attachments": {},
   "cell_type": "markdown",
   "metadata": {},
   "source": [
    "### 2. 프로퍼티와 메서드 정의하기"
   ]
  },
  {
   "attachments": {},
   "cell_type": "markdown",
   "metadata": {},
   "source": [
    "프로퍼티 정의하기"
   ]
  },
  {
   "cell_type": "code",
   "execution_count": null,
   "metadata": {},
   "outputs": [],
   "source": [
    "// 공개 프로퍼티\n",
    "class Employee {\n",
    "  public name: string;\n",
    "  public age: number;\n",
    "\n",
    "  constructor(name: string, age: number) {\n",
    "    this.name = name;\n",
    "    this.age = age;\n",
    "  }\n",
    "}"
   ]
  },
  {
   "cell_type": "code",
   "execution_count": null,
   "metadata": {},
   "outputs": [],
   "source": [
    "// 비공개 프로퍼티\n",
    "class Employee {\n",
    "  private name: string;\n",
    "  private age: number;\n",
    "\n",
    "  constructor(name: string, age: number) {\n",
    "    this.name = name;\n",
    "    this.age = age;\n",
    "  }\n",
    "}"
   ]
  },
  {
   "cell_type": "code",
   "execution_count": null,
   "metadata": {},
   "outputs": [],
   "source": [
    "// 보호 프로퍼티\n",
    "class Person {\n",
    "  protected name: string;\n",
    "\n",
    "  constructor(name: string) {\n",
    "    this.name = name;\n",
    "  }\n",
    "}\n",
    "\n",
    "class Employee extends Person {\n",
    "  private age: number;\n",
    "\n",
    "  constructor(name: string, age: number) {\n",
    "    super(name);\n",
    "    this.age = age;\n",
    "  }\n",
    "\n",
    "  getDetails() {\n",
    "    return `Name: ${this.name}, Age: ${this.age}`;\n",
    "  }\n",
    "}"
   ]
  },
  {
   "attachments": {},
   "cell_type": "markdown",
   "metadata": {},
   "source": [
    "메서드 정의"
   ]
  },
  {
   "cell_type": "code",
   "execution_count": null,
   "metadata": {},
   "outputs": [],
   "source": [
    "// 공개 메서드\n",
    "class Employee {\n",
    "  public name: string;\n",
    "  public age: number;\n",
    "\n",
    "  constructor(name: string, age: number) {\n",
    "    this.name = name;\n",
    "    this.age = age;\n",
    "  }\n",
    "\n",
    "  public getDetails() {\n",
    "    return `Name: ${this.name}, Age: ${this.age}`;\n",
    "  }\n",
    "}"
   ]
  },
  {
   "cell_type": "code",
   "execution_count": null,
   "metadata": {},
   "outputs": [],
   "source": [
    "// 비공개 메서드\n",
    "class Employee {\n",
    "  public name: string;\n",
    "  public age: number;\n",
    "\n",
    "  constructor(name: string, age: number) {\n",
    "    this.name = name;\n",
    "    this.age = age;\n",
    "  }\n",
    "\n",
    "  private getFullName() {\n",
    "    return `${this.name} Smith`;\n",
    "  }\n",
    "\n",
    "  public getDetails() {\n",
    "    return `Name: ${this.name}, Age: ${this.age}`;\n",
    "  }\n",
    "}"
   ]
  },
  {
   "cell_type": "code",
   "execution_count": null,
   "metadata": {},
   "outputs": [],
   "source": [
    "// 보호된 메서드\n",
    "class Person {\n",
    "  protected name: string;\n",
    "\n",
    "  constructor(name: string) {\n",
    "    this.name = name;\n",
    "  }\n",
    "\n",
    "  protected getFullName() {\n",
    "    return `${this.name} Smith`;\n",
    "  }\n",
    "}\n",
    "\n",
    "class Employee extends Person {\n",
    "  private age: number;\n",
    "\n",
    "  constructor(name: string, age: number) {\n",
    "    super(name);\n",
    "    this.age = age;\n",
    "  }\n",
    "\n",
    "  public getDetails() {\n",
    "    return `Name: ${this.name}, Age: ${this.age}`;\n",
    "  }\n",
    "}"
   ]
  },
  {
   "attachments": {},
   "cell_type": "markdown",
   "metadata": {},
   "source": [
    "Q&A"
   ]
  },
  {
   "attachments": {},
   "cell_type": "markdown",
   "metadata": {},
   "source": [
    "###### 질문: 타입스크립트에서 메서드 오버로딩이란 무엇인가요?"
   ]
  },
  {
   "cell_type": "code",
   "execution_count": 1,
   "metadata": {},
   "outputs": [],
   "source": [
    "class Math {\n",
    "  calculate(x: number, y: number): number;\n",
    "  calculate(s: string): number;\n",
    "\n",
    "  calculate(x: number | string, y?: number): number {\n",
    "    if (typeof x === 'string') {\n",
    "      [x, y] = x.split('+').map(Number);\n",
    "    }\n",
    "    if (typeof x === 'number' && typeof y === 'number') {\n",
    "      return x + y;\n",
    "    }\n",
    "    return NaN;\n",
    "  }\n",
    "}"
   ]
  },
  {
   "cell_type": "code",
   "execution_count": 2,
   "metadata": {},
   "outputs": [
    {
     "name": "stdout",
     "output_type": "stream",
     "text": [
      "5\n",
      "5\n"
     ]
    }
   ],
   "source": [
    "let math = new Math();\n",
    "console.log(math.calculate(2, 3));\n",
    "console.log(math.calculate('2 + 3'));"
   ]
  },
  {
   "attachments": {},
   "cell_type": "markdown",
   "metadata": {},
   "source": [
    "연습 문제"
   ]
  },
  {
   "attachments": {},
   "cell_type": "markdown",
   "metadata": {},
   "source": [
    "###### 문제: \"name\" 및 \"age\" 속성을 가진 \"Student\"라는 클래스를 생성합니다. 또한 학생의 이름과 나이를 기혹하는 \"displayInfo\"라는 메서드를 만듭니다."
   ]
  },
  {
   "cell_type": "code",
   "execution_count": null,
   "metadata": {},
   "outputs": [],
   "source": [
    "class Student {\n",
    "  name: string;\n",
    "  age: number;\n",
    "\n",
    "  constructor(name: string, age: number) {\n",
    "    this.name = name;\n",
    "    this.age = age;\n",
    "  }\n",
    "\n",
    "  displayInfo() {\n",
    "    console.log(`Name: ${this.name}, Age: ${this.age}`);\n",
    "  }\n",
    "}"
   ]
  },
  {
   "attachments": {},
   "cell_type": "markdown",
   "metadata": {},
   "source": [
    "###### 문제: \"width\" 및 \"height\" 속성을 가진 \"Rectangle\"이라는 클래스를 만듭니다. 또한 직사각형의 면적을 반환하는 \"calculateArea\"라는 메서드를 만듭니다."
   ]
  },
  {
   "cell_type": "code",
   "execution_count": null,
   "metadata": {},
   "outputs": [],
   "source": [
    "class Rectagle {\n",
    "  width: number;\n",
    "  height: number;\n",
    "\n",
    "  constructor(width: number, height: number) {\n",
    "    this.width = width;\n",
    "    this.height = height;\n",
    "  }\n",
    "\n",
    "  calculateArea() {\n",
    "    return this.width * this.height;\n",
    "  }\n",
    "}"
   ]
  },
  {
   "attachments": {},
   "cell_type": "markdown",
   "metadata": {},
   "source": [
    "###### 문제: \"name\" 및 \"salary\" 속성을 가진 \"Employee\"라는 클래스를 만듭니다. 또한 직원의 급여를 주어진 비율만큼 인상하는 \"raiseSalary\"라는 메서드를 만듭니다."
   ]
  },
  {
   "cell_type": "code",
   "execution_count": null,
   "metadata": {},
   "outputs": [],
   "source": [
    "class Employee {\n",
    "  name: string;\n",
    "  salary: number;\n",
    "\n",
    "  constructor(name: string, salary: number) {\n",
    "    this.name = name;\n",
    "    this.salary = salary;\n",
    "  }\n",
    "\n",
    "  raiseSalary(percentage: number) {\n",
    "    this.salary += (this.salary * percentage) / 100;\n",
    "  }\n",
    "}"
   ]
  }
 ],
 "metadata": {
  "kernelspec": {
   "display_name": "TypeScript",
   "language": "typescript",
   "name": "tslab"
  },
  "language_info": {
   "codemirror_mode": {
    "mode": "typescript",
    "name": "javascript",
    "typescript": true
   },
   "file_extension": ".ts",
   "mimetype": "text/typescript",
   "name": "typescript",
   "version": "3.7.2"
  },
  "orig_nbformat": 4
 },
 "nbformat": 4,
 "nbformat_minor": 2
}
