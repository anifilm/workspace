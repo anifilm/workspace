{
 "cells": [
  {
   "attachments": {},
   "cell_type": "markdown",
   "id": "5898ae88",
   "metadata": {},
   "source": [
    "### 4. 생성자 및 생성자 오버로딩 이해하기"
   ]
  },
  {
   "attachments": {},
   "cell_type": "markdown",
   "id": "46ba901c",
   "metadata": {},
   "source": [
    "생성자란 무엇인가요?"
   ]
  },
  {
   "cell_type": "code",
   "execution_count": null,
   "id": "0fd4ca97",
   "metadata": {},
   "outputs": [],
   "source": [
    "class Car {\n",
    "  make: string;\n",
    "  model: string;\n",
    "  year: number;\n",
    "\n",
    "  constructor(make: string, model: string, year: number) {\n",
    "    this.make = make;\n",
    "    this.model = model;\n",
    "    this.year = year;\n",
    "  }\n",
    "}"
   ]
  },
  {
   "cell_type": "code",
   "execution_count": null,
   "id": "8cdde8da",
   "metadata": {},
   "outputs": [],
   "source": [
    "const myCar = new Car('Toyota', 'Corolla', 2021);"
   ]
  },
  {
   "attachments": {},
   "cell_type": "markdown",
   "id": "99805e1f",
   "metadata": {},
   "source": [
    "생성자 오버로드"
   ]
  },
  {
   "cell_type": "code",
   "execution_count": null,
   "id": "039e6b74",
   "metadata": {},
   "outputs": [],
   "source": [
    "class Rectangle {\n",
    "  width: number;\n",
    "  height: number;\n",
    "\n",
    "  constructor(side: number);\n",
    "  constructor(width: number, height: number);\n",
    "  constructor(firstParameter: number, secondParameter?: number) {\n",
    "    if (secondParameter) {\n",
    "      this.width = firstParameter;\n",
    "      this.height = secondParameter;\n",
    "    }\n",
    "    else {\n",
    "      this.width = firstParameter;\n",
    "      this.height = firstParameter;\n",
    "    }\n",
    "  }\n",
    "}"
   ]
  },
  {
   "cell_type": "code",
   "execution_count": null,
   "id": "c07ff390",
   "metadata": {},
   "outputs": [],
   "source": [
    "const mySquare = new Rectangle(5);\n",
    "const myRectangle = new Rectangle(5, 10);"
   ]
  },
  {
   "attachments": {},
   "cell_type": "markdown",
   "id": "c9d3b7e6",
   "metadata": {},
   "source": [
    "연습 문제"
   ]
  },
  {
   "attachments": {},
   "cell_type": "markdown",
   "id": "6d8e76bf",
   "metadata": {},
   "source": [
    "###### 문제: 다음 속성을 가진 \"Person\"이라는 클래스를 작성하세요. \"name\"(문자열), \"age\"(숫자), \"gender\"(문자열). 이름과 나이만 매개 변수로 받는 생성자 오버로드와 세 가지 속성을 모두 매개 변수로 받는 생성자 오버로드 두 개를 만듭니다."
   ]
  },
  {
   "cell_type": "code",
   "execution_count": null,
   "id": "12c6bc3b",
   "metadata": {},
   "outputs": [],
   "source": [
    "class Person {\n",
    "  name: string;\n",
    "  age: number;\n",
    "  gender: string;\n",
    "\n",
    "  constructor(name: string, age: number);\n",
    "  constructor(name: string, age: number, gender: string);\n",
    "  constructor(name: string, age: number, gender?: string) {\n",
    "    this.name = name;\n",
    "    this.age = age;\n",
    "    this.gender = gender ? gender : '';\n",
    "  }\n",
    "}"
   ]
  }
 ],
 "metadata": {
  "kernelspec": {
   "display_name": "TypeScript",
   "language": "typescript",
   "name": "tslab"
  },
  "language_info": {
   "name": "typescript"
  }
 },
 "nbformat": 4,
 "nbformat_minor": 5
}
