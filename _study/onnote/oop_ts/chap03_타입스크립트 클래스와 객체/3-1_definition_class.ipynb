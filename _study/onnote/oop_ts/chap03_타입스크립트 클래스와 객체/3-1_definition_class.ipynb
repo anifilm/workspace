{
 "cells": [
  {
   "attachments": {},
   "cell_type": "markdown",
   "id": "12fe2188",
   "metadata": {},
   "source": [
    "### 1. 타입스크립트에서 클래스 생성하기"
   ]
  },
  {
   "attachments": {},
   "cell_type": "markdown",
   "id": "d9b88d19",
   "metadata": {},
   "source": [
    "클래스에서 프로퍼티 선언하기"
   ]
  },
  {
   "cell_type": "code",
   "execution_count": null,
   "id": "e19d11eb",
   "metadata": {},
   "outputs": [],
   "source": [
    "class MyClass {\n",
    "  public myProperty: string;\n",
    "}"
   ]
  },
  {
   "attachments": {},
   "cell_type": "markdown",
   "id": "3691ee77",
   "metadata": {},
   "source": [
    "액세스 수정자"
   ]
  },
  {
   "cell_type": "code",
   "execution_count": null,
   "id": "2cf20534",
   "metadata": {},
   "outputs": [],
   "source": [
    "class MyClass {\n",
    "  public publicProp: string;\n",
    "  private privateProp: string;\n",
    "  protected protectedProp: string;\n",
    "}"
   ]
  },
  {
   "attachments": {},
   "cell_type": "markdown",
   "id": "0b81638e",
   "metadata": {},
   "source": [
    "클래스에서 메서드 선언하기"
   ]
  },
  {
   "cell_type": "code",
   "execution_count": null,
   "id": "7448a27c",
   "metadata": {},
   "outputs": [],
   "source": [
    "class MyClass {\n",
    "  public myMethod(): string {\n",
    "    return 'Hello, world!';\n",
    "  }\n",
    "}"
   ]
  },
  {
   "attachments": {},
   "cell_type": "markdown",
   "id": "52fdf858",
   "metadata": {},
   "source": [
    "생성자"
   ]
  },
  {
   "cell_type": "code",
   "execution_count": null,
   "id": "0027a978",
   "metadata": {},
   "outputs": [],
   "source": [
    "class MyClass {\n",
    "  public name: string;\n",
    "  public age: number;\n",
    "\n",
    "  constructor(name: string, age: number) {\n",
    "    this.name = name;\n",
    "    this.age = age;\n",
    "  }\n",
    "}"
   ]
  },
  {
   "attachments": {},
   "cell_type": "markdown",
   "id": "51a8ca04",
   "metadata": {},
   "source": [
    "상속"
   ]
  },
  {
   "cell_type": "code",
   "execution_count": null,
   "id": "bd6ca113",
   "metadata": {},
   "outputs": [],
   "source": [
    "class Person {\n",
    "  public name: string;\n",
    "  public age: number;\n",
    "\n",
    "  constructor(name: string, age: number) {\n",
    "    this.name = name;\n",
    "    this.age = age;\n",
    "  }\n",
    "}\n",
    "\n",
    "class Employee extends Person {\n",
    "  public salary: number;\n",
    "\n",
    "  constructor(name: string, age: number, salary: number) {\n",
    "    super(name, age);\n",
    "    this.salary = salary;\n",
    "  }\n",
    "}"
   ]
  },
  {
   "attachments": {},
   "cell_type": "markdown",
   "id": "838a4bdf",
   "metadata": {},
   "source": [
    "Q&A"
   ]
  },
  {
   "attachments": {},
   "cell_type": "markdown",
   "id": "c4a4ba65",
   "metadata": {},
   "source": [
    "###### 질문: 타입스크립트에서 상속은 어떻게 구현하나요?"
   ]
  },
  {
   "cell_type": "code",
   "execution_count": null,
   "id": "29888a12",
   "metadata": {},
   "outputs": [],
   "source": [
    "class Animal {\n",
    "  public name: string;\n",
    "  \n",
    "  public constructor(name: string) {\n",
    "    this.name = name;\n",
    "  }\n",
    "\n",
    "  public move(distanceInMeters: number = 0) {\n",
    "    console.log(`${this.name} moved ${distanceInMeters}m.`);\n",
    "  }\n",
    "}\n",
    "\n",
    "class Dog extends Animal {\n",
    "  public bark() {\n",
    "    console.log('Woof! Woof!');\n",
    "  }\n",
    "}\n",
    "\n",
    "const dog = new Dog('Buddy');\n",
    "dog.bark();\n",
    "dog.move(10);"
   ]
  },
  {
   "attachments": {},
   "cell_type": "markdown",
   "id": "4d1b0937",
   "metadata": {},
   "source": [
    "###### 질문: 타입스크립트에서 액세스 수정자는 어떻게 사용하나요?"
   ]
  },
  {
   "cell_type": "code",
   "execution_count": null,
   "id": "745c338f",
   "metadata": {},
   "outputs": [],
   "source": [
    "class MyClass {\n",
    "  public myPublicProperty: number;\n",
    "  private myPrivateProperty: string;\n",
    "  protected myProtectedProperty: boolean;\n",
    "\n",
    "  public myPublicMethod(): void {\n",
    "    // method body goes here\n",
    "  }\n",
    "\n",
    "  private myPrivateMethod(): string {\n",
    "    // method body goes here\n",
    "  }\n",
    "\n",
    "  protected myProtectedMethod(): boolean {\n",
    "    // method body goes here\n",
    "  }\n",
    "}"
   ]
  },
  {
   "attachments": {},
   "cell_type": "markdown",
   "id": "c30253ed",
   "metadata": {},
   "source": [
    "###### 질문: 타입스크립트에서 추상 클래스는 어떻게 생성하나요?"
   ]
  },
  {
   "cell_type": "code",
   "execution_count": null,
   "id": "0ebecc1f",
   "metadata": {},
   "outputs": [],
   "source": [
    "abstract class Animal {\n",
    "  public name: string;\n",
    "\n",
    "  public constructor(name: string) {\n",
    "    this.name = name;\n",
    "  }\n",
    "\n",
    "  public abstract makeSound(): void;\n",
    "}\n",
    "\n",
    "class Dog extends Animal {\n",
    "  public makeSound() {\n",
    "    console.log('Woof! Woof!');\n",
    "  }\n",
    "}\n",
    "\n",
    "const dog = new Dog('Buddy');\n",
    "dog.makeSound();"
   ]
  },
  {
   "attachments": {},
   "cell_type": "markdown",
   "id": "0e972c87",
   "metadata": {},
   "source": [
    "연습 문제"
   ]
  },
  {
   "attachments": {},
   "cell_type": "markdown",
   "id": "64f9a905",
   "metadata": {},
   "source": [
    "###### 문제: 문자열 속성 \"name\" 및 \"address\"와 \"Hello, my name is [name] and I live in [address]\"를 출력하는 메서드 \"sayHello\"를 포함하는 \"Person\"이라는 클래스를 만듭니다."
   ]
  },
  {
   "cell_type": "code",
   "execution_count": null,
   "id": "4c8c286c",
   "metadata": {},
   "outputs": [],
   "source": [
    "class Person {\n",
    "  name: string;\n",
    "  address: string;\n",
    "\n",
    "  constructor(name: string, address: string) {\n",
    "    this.name = name;\n",
    "    this.address = address;\n",
    "  }\n",
    "\n",
    "  sayHello() {\n",
    "    console.log(`Hello, my name is ${this.name} and I live in ${this.address}`);\n",
    "  }\n",
    "}"
   ]
  },
  {
   "attachments": {},
   "cell_type": "markdown",
   "id": "52ede590",
   "metadata": {},
   "source": [
    "###### 문제: 추가 속성 \"subject\"와 \"I am teaching [subject] now!\"를 출력하는 \"teach\" 메서드가 있는 \"Person\"의 하위 클래스 \"Teacher\"를 생성하세요."
   ]
  },
  {
   "cell_type": "code",
   "execution_count": null,
   "id": "d1b40bfd",
   "metadata": {},
   "outputs": [],
   "source": [
    "class Teacher extends Person {\n",
    "  subject: string;\n",
    "\n",
    "  constructor(name: string, address: string, subject: string) {\n",
    "    super(name, address);\n",
    "    this.subject = subject;\n",
    "  }\n",
    "\n",
    "  teach() {\n",
    "    console.log(`I am teaching ${this.subject} now!`);\n",
    "  }\n",
    "}"
   ]
  },
  {
   "attachments": {},
   "cell_type": "markdown",
   "id": "91148b2b",
   "metadata": {},
   "source": [
    "###### 문제: \"name\" 및 \"numberOfLegs\" 속성과 \"The [name] makes a sound\"을 출력하는 \"makeSound\" 메서드가 있는 \"Animal\"이라는 클래스를 만드세요."
   ]
  },
  {
   "cell_type": "code",
   "execution_count": null,
   "id": "d4ddcee5",
   "metadata": {},
   "outputs": [],
   "source": [
    "class Animal {\n",
    "  name: string;\n",
    "  numberOfLegs: number;\n",
    "\n",
    "  constructor(name: string, numberOfLegs: number) {\n",
    "    this.name = name;\n",
    "    this.numberOfLegs = numberOfLegs;\n",
    "  }\n",
    "\n",
    "  makeSound() {\n",
    "    console.log(`The ${this.name} makes a sound.`);\n",
    "  }\n",
    "}"
   ]
  },
  {
   "attachments": {},
   "cell_type": "markdown",
   "id": "3eb31ffa",
   "metadata": {},
   "source": [
    "###### 문제: 추가 속성 \"breed\"와 \"The [breed] dog barks\"을 출력하는 메서드 \"bark\"를 포함하는 \"Dog\"라는 이름의 \"Animal\"의 서브클래스를 만들세요."
   ]
  },
  {
   "cell_type": "code",
   "execution_count": null,
   "id": "08710e48",
   "metadata": {},
   "outputs": [],
   "source": [
    "class Dog extends Animal {\n",
    "  breed: string;\n",
    "\n",
    "  constructor(name: string, numberOfLegs: number, breed: string) {\n",
    "    super(name, numberOfLegs);\n",
    "    this.breed = breed;\n",
    "  }\n",
    "\n",
    "  bark() {\n",
    "    console.log(`The ${this.breed} dog barks.`);\n",
    "  }\n",
    "}"
   ]
  }
 ],
 "metadata": {
  "kernelspec": {
   "display_name": "TypeScript",
   "language": "typescript",
   "name": "tslab"
  },
  "language_info": {
   "name": "typescript"
  }
 },
 "nbformat": 4,
 "nbformat_minor": 5
}
