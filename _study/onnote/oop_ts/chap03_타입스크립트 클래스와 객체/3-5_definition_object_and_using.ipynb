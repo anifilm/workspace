{
 "cells": [
  {
   "attachments": {},
   "cell_type": "markdown",
   "id": "f1bd4016",
   "metadata": {},
   "source": [
    "### 5. 객체 생성 및 사용하기"
   ]
  },
  {
   "attachments": {},
   "cell_type": "markdown",
   "id": "f05f65f9",
   "metadata": {},
   "source": [
    "객체 리터럴 사용"
   ]
  },
  {
   "cell_type": "code",
   "execution_count": null,
   "id": "1a66f03f",
   "metadata": {},
   "outputs": [],
   "source": [
    "let person = {\n",
    "  name: 'John',\n",
    "  age: 25,\n",
    "  address: {\n",
    "    street: '123 Main St',\n",
    "    city: 'New York',\n",
    "    country: 'USA',\n",
    "  },\n",
    "}"
   ]
  },
  {
   "attachments": {},
   "cell_type": "markdown",
   "id": "9b7312c4",
   "metadata": {},
   "source": [
    "인터페이스 사용"
   ]
  },
  {
   "cell_type": "code",
   "execution_count": null,
   "id": "88d59e72",
   "metadata": {},
   "outputs": [],
   "source": [
    "interface Person {\n",
    "  name: string;\n",
    "  age: number;\n",
    "  address: Address;\n",
    "}\n",
    "\n",
    "interface Address {\n",
    "  street: string;\n",
    "  city: string;\n",
    "  country: string;\n",
    "}\n",
    "\n",
    "let person2: Person = {\n",
    "  name: 'John',\n",
    "  age: 25,\n",
    "  address: {\n",
    "    street: '123 Main St',\n",
    "    city: 'New York',\n",
    "    country: 'USA',\n",
    "  },\n",
    "};"
   ]
  },
  {
   "attachments": {},
   "cell_type": "markdown",
   "id": "f2bc2551",
   "metadata": {},
   "source": [
    "클래스 사용"
   ]
  },
  {
   "cell_type": "code",
   "execution_count": null,
   "id": "01b58d23",
   "metadata": {},
   "outputs": [],
   "source": [
    "class Person {\n",
    "  name: string;\n",
    "  age: number;\n",
    "  address: Address;\n",
    "\n",
    "  constructor(name: string, age: number, address: Address) {\n",
    "    this.name = name;\n",
    "    this.age = age;\n",
    "    this.address = address;\n",
    "  }\n",
    "}\n",
    "\n",
    "class Address {\n",
    "  street: string;\n",
    "  city: string;\n",
    "  country: string;\n",
    "\n",
    "  constructor(street: string, city: string, country: string) {\n",
    "    this.street = street;\n",
    "    this.city = city;\n",
    "    this.country = country;\n",
    "  }\n",
    "}\n",
    "\n",
    "let person3 = new Person('John', 25, new Address('123 Main St', 'New York', 'USA'));"
   ]
  },
  {
   "attachments": {},
   "cell_type": "markdown",
   "id": "8461ee8a",
   "metadata": {},
   "source": [
    "객체 스프레드 및 디스트럭처링 사용"
   ]
  },
  {
   "cell_type": "code",
   "execution_count": 1,
   "id": "53d7703d",
   "metadata": {},
   "outputs": [
    {
     "name": "stdout",
     "output_type": "stream",
     "text": [
      "{\n",
      "  name: 'John',\n",
      "  age: 30,\n",
      "  address: { street: '123 Main St', city: 'New York', country: 'USA' }\n",
      "}\n",
      "John 25\n"
     ]
    }
   ],
   "source": [
    "let person = {\n",
    "  name: 'John',\n",
    "  age: 25,\n",
    "  address: {\n",
    "    street: '123 Main St',\n",
    "    city: 'New York',\n",
    "    country: 'USA',\n",
    "  },\n",
    "}\n",
    "\n",
    "let newPerson = { ...person, age: 30 };\n",
    "let { name, age } = person;\n",
    "\n",
    "console.log(newPerson);\n",
    "console.log(name, age);"
   ]
  },
  {
   "attachments": {},
   "cell_type": "markdown",
   "id": "caad8f99",
   "metadata": {},
   "source": [
    "연습 문제"
   ]
  },
  {
   "attachments": {},
   "cell_type": "markdown",
   "id": "af5e91b5",
   "metadata": {},
   "source": [
    "###### 문제: 이름, 나이, 이메일 속성을 가진 사람을 나타내는 객체 리터럴을 만듭니다."
   ]
  },
  {
   "cell_type": "code",
   "execution_count": null,
   "id": "5dc32374",
   "metadata": {},
   "outputs": [],
   "source": [
    "const person = { name: 'John', age: 25, email: 'john@example.com' };"
   ]
  },
  {
   "attachments": {},
   "cell_type": "markdown",
   "id": "5606a6e3",
   "metadata": {},
   "source": [
    "###### 문제: 이름, 나이, 이메일 속성을 가진 사람을 나타내는 클래스를 만드세요."
   ]
  },
  {
   "cell_type": "code",
   "execution_count": null,
   "id": "1520bcc3",
   "metadata": {},
   "outputs": [],
   "source": [
    "class Person {\n",
    "  name: string;\n",
    "  age: number;\n",
    "  email: string;\n",
    "\n",
    "  constructor(name: string, age: number, email: string) {\n",
    "    this.name = name;\n",
    "    this.age = age;\n",
    "    this.email = email;\n",
    "  }\n",
    "}\n",
    "\n",
    "const person = new Person('John', 25, 'john@example.com');"
   ]
  },
  {
   "attachments": {},
   "cell_type": "markdown",
   "id": "e9d8367b",
   "metadata": {},
   "source": [
    "###### 문제: 이름, 나이, 이메일 속성을 가진 사람을 나타내는 인터페이스를 만드세요."
   ]
  },
  {
   "cell_type": "code",
   "execution_count": null,
   "id": "f4f9f2ae",
   "metadata": {},
   "outputs": [],
   "source": [
    "interface Person {\n",
    "  name: string;\n",
    "  age: number;\n",
    "  email: string;\n",
    "}\n",
    "\n",
    "const person: Person = { name: 'John', age: 25, email: 'john@example.com' };"
   ]
  }
 ],
 "metadata": {
  "kernelspec": {
   "display_name": "TypeScript",
   "language": "typescript",
   "name": "tslab"
  },
  "language_info": {
   "codemirror_mode": {
    "mode": "typescript",
    "name": "javascript",
    "typescript": true
   },
   "file_extension": ".ts",
   "mimetype": "text/typescript",
   "name": "typescript",
   "version": "3.7.2"
  }
 },
 "nbformat": 4,
 "nbformat_minor": 5
}
