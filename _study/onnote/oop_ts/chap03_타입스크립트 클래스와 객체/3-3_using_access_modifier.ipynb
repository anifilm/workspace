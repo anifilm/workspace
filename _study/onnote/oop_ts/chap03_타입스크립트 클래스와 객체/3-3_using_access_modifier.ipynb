{
 "cells": [
  {
   "attachments": {},
   "cell_type": "markdown",
   "metadata": {},
   "source": [
    "### 3. 액세스 수정자 사용하기\n"
   ]
  },
  {
   "attachments": {},
   "cell_type": "markdown",
   "metadata": {},
   "source": [
    "공개 액세스 수정자\n"
   ]
  },
  {
   "cell_type": "code",
   "execution_count": 2,
   "metadata": {},
   "outputs": [
    {
     "name": "stdout",
     "output_type": "stream",
     "text": [
      "Hi, my name is John.\n"
     ]
    }
   ],
   "source": [
    "class Person {\n",
    "  name: string;\n",
    "\n",
    "  constructor(name: string) {\n",
    "    this.name = name;\n",
    "  }\n",
    "\n",
    "  introduce(): void {\n",
    "    console.log(`Hi, my name is ${this.name}.`);\n",
    "  }\n",
    "}\n",
    "\n",
    "const john = new Person('John');\n",
    "john.introduce();"
   ]
  },
  {
   "attachments": {},
   "cell_type": "markdown",
   "metadata": {},
   "source": [
    "비공개 액세스 수정자"
   ]
  },
  {
   "cell_type": "code",
   "execution_count": 4,
   "metadata": {},
   "outputs": [
    {
     "name": "stderr",
     "output_type": "stream",
     "text": [
      "15:18 - Property 'name' is private and only accessible within class 'Person2'.\n"
     ]
    }
   ],
   "source": [
    "class Person {\n",
    "  private name: string;\n",
    "\n",
    "  constructor(name: string) {\n",
    "    this.name = name;\n",
    "  }\n",
    "\n",
    "  introduce(): void {\n",
    "    console.log(`Hi, my name is ${this.name}.`);\n",
    "  }\n",
    "}\n",
    "\n",
    "const john = new Person('John');\n",
    "john.introduce();\n",
    "console.log(john.name);"
   ]
  },
  {
   "cell_type": "code",
   "execution_count": 5,
   "metadata": {},
   "outputs": [
    {
     "name": "stdout",
     "output_type": "stream",
     "text": [
      "2\n"
     ]
    }
   ],
   "source": [
    "class Vehicle {\n",
    "  private static count = 0;\n",
    "\n",
    "  constructor() {\n",
    "    Vehicle.count++;\n",
    "  }\n",
    "\n",
    "  static getCount(): number {\n",
    "    return Vehicle.count;\n",
    "  }\n",
    "}\n",
    "\n",
    "const car1 = new Vehicle();\n",
    "const car2 = new Vehicle();\n",
    "console.log(Vehicle.getCount());"
   ]
  },
  {
   "attachments": {},
   "cell_type": "markdown",
   "metadata": {},
   "source": [
    "보호 액세스 수정자"
   ]
  },
  {
   "cell_type": "code",
   "execution_count": 7,
   "metadata": {},
   "outputs": [
    {
     "name": "stderr",
     "output_type": "stream",
     "text": [
      "28:19 - Property 'name' is protected and only accessible within class 'Person3' and its subclasses.\n"
     ]
    }
   ],
   "source": [
    "class Person {\n",
    "  protected name: string;\n",
    "\n",
    "  constructor(name: string) {\n",
    "    this.name = name;\n",
    "  }\n",
    "}\n",
    "\n",
    "class Employee extends Person {\n",
    "  private salary: number;\n",
    "\n",
    "  constructor(name: string, salary: number) {\n",
    "    super(name);\n",
    "    this.salary = salary;\n",
    "  }\n",
    "\n",
    "  getSalary(): number {\n",
    "    return this.salary;\n",
    "  }\n",
    "\n",
    "  introduce(): void {\n",
    "    console.log(`Hi, my name is ${this.name} and my salary is ${this.salary}.`);\n",
    "  }\n",
    "}\n",
    "\n",
    "const john = new Employee('John', 1000);\n",
    "john.introduce();\n",
    "console.log(john.name);"
   ]
  },
  {
   "attachments": {},
   "cell_type": "markdown",
   "metadata": {},
   "source": [
    "Q&A"
   ]
  },
  {
   "attachments": {},
   "cell_type": "markdown",
   "metadata": {},
   "source": [
    "###### 질문: 타입스크립트에서 공개 액세스 수정자란 무엇인가요?"
   ]
  },
  {
   "cell_type": "code",
   "execution_count": 8,
   "metadata": {},
   "outputs": [
    {
     "name": "stdout",
     "output_type": "stream",
     "text": [
      "Hi, my name is John Doe.\n"
     ]
    }
   ],
   "source": [
    "class Person {\n",
    "  public name: string;\n",
    "\n",
    "  constructor(name: string) {\n",
    "    this.name = name;\n",
    "  }\n",
    "\n",
    "  public sayHello() {\n",
    "    console.log(`Hi, my name is ${this.name}.`);\n",
    "  }\n",
    "}\n",
    "\n",
    "const person = new Person('John Doe');\n",
    "person.sayHello();"
   ]
  },
  {
   "attachments": {},
   "cell_type": "markdown",
   "metadata": {},
   "source": [
    "###### 질문: 타입스크립트에서 비공개 액세스 수정자는 무엇인가요?"
   ]
  },
  {
   "cell_type": "code",
   "execution_count": null,
   "metadata": {},
   "outputs": [],
   "source": [
    "class Person {\n",
    "  private name: string;\n",
    "\n",
    "  constructor(name: string) {\n",
    "    this.name = name;\n",
    "  }\n",
    "\n",
    "  public sayHello() {\n",
    "    console.log(`Hi, my name is ${this.name}.`);\n",
    "  }\n",
    "}\n",
    "\n",
    "const person = new Person('John Doe');\n",
    "person.sayHello();\n",
    "console.log(person.name);"
   ]
  },
  {
   "attachments": {},
   "cell_type": "markdown",
   "metadata": {},
   "source": [
    "###### 질문: 타입스크립트에서 보호된 액세스 수정자는 무엇인가요?"
   ]
  },
  {
   "cell_type": "code",
   "execution_count": null,
   "metadata": {},
   "outputs": [],
   "source": [
    "class Person {\n",
    "  protected name: string;\n",
    "\n",
    "  constructor(name: string) {\n",
    "    this.name = name;\n",
    "  }\n",
    "}\n",
    "\n",
    "class Employee extends Person {\n",
    "  private salary: number;\n",
    "\n",
    "  constructor(name: string, salary: number) {\n",
    "    super(name);\n",
    "    this.salary = salary;\n",
    "  }\n",
    "\n",
    "  getSalary() {\n",
    "    console.log(`${this.name} makes ${this.salary} per year`);\n",
    "  }\n",
    "}\n",
    "\n",
    "const employee = new Employee('John Doe', 50000);\n",
    "employee.getSalary();\n",
    "console.log(employee.name);"
   ]
  },
  {
   "attachments": {},
   "cell_type": "markdown",
   "metadata": {},
   "source": [
    "연습 문제"
   ]
  },
  {
   "attachments": {},
   "cell_type": "markdown",
   "metadata": {},
   "source": [
    "###### 문제: 숫자 타입의 비공개 속성 \"balance\"를 가진 \"BankAccount\"라는 클래스를 만듭니다."
   ]
  },
  {
   "cell_type": "code",
   "execution_count": null,
   "metadata": {},
   "outputs": [],
   "source": [
    "class BankAccount {\n",
    "  private balance: number;\n",
    "\n",
    "  constructor(initialBalance: number) {\n",
    "    this.balance = initialBalance;\n",
    "  }\n",
    "\n",
    "  public deposit(amount: number): void {\n",
    "    this.balance += amount;\n",
    "  }\n",
    "\n",
    "  public withdraw(amount: number): void {\n",
    "    this.balance -= amount;\n",
    "  }\n",
    "\n",
    "  public getBalance(): number {\n",
    "    return this.balance;\n",
    "  }\n",
    "}"
   ]
  },
  {
   "attachments": {},
   "cell_type": "markdown",
   "metadata": {},
   "source": [
    "###### 문제: \"deposit\" 및 \"withdraw\" 메서드를 클래스 내에서만 호출할 수 있도록 \"BankAccount\" 클래스를 수정하세요."
   ]
  },
  {
   "cell_type": "code",
   "execution_count": null,
   "metadata": {},
   "outputs": [],
   "source": [
    "class BankAccount {\n",
    "  private balance: number;\n",
    "\n",
    "  constructor(initialBalance: number) {\n",
    "    this.balance = initialBalance;\n",
    "  }\n",
    "\n",
    "  private updateBalance(amount: number, type: string): void {\n",
    "    if (type === 'deposit') {\n",
    "      this.balance += amount;\n",
    "    }\n",
    "    else {\n",
    "      this.balance -= amount;\n",
    "    }\n",
    "  }\n",
    "\n",
    "  public getBalance(): number {\n",
    "    return this.balance;\n",
    "  }\n",
    "\n",
    "  public addToBalance(amount: number): void {\n",
    "    this.updateBalance(amount, 'deposit');\n",
    "  }\n",
    "\n",
    "  public subtractFromBalance(amount: number): void {\n",
    "    this.updateBalance(amount, 'withdraw');\n",
    "  }\n",
    "}"
   ]
  },
  {
   "attachments": {},
   "cell_type": "markdown",
   "metadata": {},
   "source": [
    "###### 문제: \"BankAccount\" 클래스를 확장하고 숫자 타입의 추가 비공개 속성 \"interestRate\"를 갖는 \"SavingAccount\" 서브클래스를 만드세요."
   ]
  },
  {
   "cell_type": "code",
   "execution_count": null,
   "metadata": {},
   "outputs": [],
   "source": [
    "class SavingAccount extends BankAccount {\n",
    "  private interestRate: number;\n",
    "\n",
    "  constructor(initialBalance: number, interestRate: number) {\n",
    "    super(initialBalance);\n",
    "    this.interestRate = interestRate;\n",
    "  }\n",
    "\n",
    "  public calculateInterest(): number {\n",
    "    return this.getBalance() * this.interestRate;\n",
    "  }\n",
    "}"
   ]
  }
 ],
 "metadata": {
  "kernelspec": {
   "display_name": "TypeScript",
   "language": "typescript",
   "name": "tslab"
  },
  "language_info": {
   "codemirror_mode": {
    "mode": "typescript",
    "name": "javascript",
    "typescript": true
   },
   "file_extension": ".ts",
   "mimetype": "text/typescript",
   "name": "typescript",
   "version": "3.7.2"
  },
  "orig_nbformat": 4
 },
 "nbformat": 4,
 "nbformat_minor": 2
}
