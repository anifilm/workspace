{
 "cells": [
  {
   "attachments": {},
   "cell_type": "markdown",
   "id": "7ce979f7",
   "metadata": {},
   "source": [
    "### 1. 객체 지향 프로그래밍(OOP)이란?"
   ]
  },
  {
   "attachments": {},
   "cell_type": "markdown",
   "id": "ffdd5492",
   "metadata": {},
   "source": [
    "타입스크립트에서 OOP는 어떻게 구현되나요?"
   ]
  },
  {
   "cell_type": "code",
   "execution_count": null,
   "metadata": {},
   "outputs": [],
   "source": [
    "// 클래스\n",
    "class Person {\n",
    "  private firstName: string;\n",
    "  private lastName: string;\n",
    "\n",
    "  constructor(firstName: string, lastName: string) {\n",
    "    this.firstName = firstName;\n",
    "    this.lastName = lastName;\n",
    "  }\n",
    "\n",
    "  public getFullName(): string {\n",
    "    return `${this.firstName} ${this.lastName}`;\n",
    "  }\n",
    "}"
   ]
  },
  {
   "cell_type": "code",
   "execution_count": null,
   "id": "92629b27",
   "metadata": {},
   "outputs": [],
   "source": [
    "// 상속\n",
    "class Student extends Person {\n",
    "  private studentId: number;\n",
    "\n",
    "  constructor(firstName: string, lastName: string, studentId: number) {\n",
    "    super(firstName, lastName); // Call th constructor of the parent class\n",
    "    this.studentId = studentId;\n",
    "  }\n",
    "\n",
    "  public getStudentId(): number {\n",
    "    return this.studentId;\n",
    "  }\n",
    "}"
   ]
  },
  {
   "cell_type": "code",
   "execution_count": null,
   "id": "6a19f94b",
   "metadata": {},
   "outputs": [],
   "source": [
    "// 다형성\n",
    "interface IAnimal {\n",
    "  eat(): void;\n",
    "  sleep(): void;\n",
    "}\n",
    "\n",
    "abstract class Animal implements IAnimal {\n",
    "  public eat(): void {\n",
    "    console.log('I am eating');\n",
    "  }\n",
    "\n",
    "  public abstract sleep(): void;\n",
    "}\n",
    "\n",
    "class Cat extends Animal {\n",
    "  public sleep(): void {\n",
    "    console.log('I am sleeping');\n",
    "  }\n",
    "}"
   ]
  },
  {
   "cell_type": "code",
   "execution_count": null,
   "id": "98ddf9dd",
   "metadata": {},
   "outputs": [],
   "source": [
    "// 추상화\n",
    "interface IDataService {\n",
    "  getData(): any;\n",
    "}\n",
    "\n",
    "abstract class AbstractDataService implements IDataService {\n",
    "  public abstract getData(): any;\n",
    "}\n",
    "\n",
    "class HttpDataService extends AbstractDataService {\n",
    "  public getData(): any {\n",
    "    return { /* HTTP data */ }\n",
    "  }\n",
    "}"
   ]
  },
  {
   "attachments": {},
   "cell_type": "markdown",
   "id": "85f6e363",
   "metadata": {},
   "source": [
    "연습 문제"
   ]
  },
  {
   "attachments": {},
   "cell_type": "markdown",
   "id": "01224979",
   "metadata": {},
   "source": [
    "###### 문제: 제조사, 모델, 연도, 색상 등의 속성을 가진 자동차를 나타내는 클래스를 정의하세요."
   ]
  },
  {
   "cell_type": "code",
   "execution_count": null,
   "id": "f9f075da",
   "metadata": {},
   "outputs": [],
   "source": [
    "class Car {\n",
    "  make: string;\n",
    "  model: string;\n",
    "  year: number;\n",
    "  color: string;\n",
    "\n",
    "  constructor(make: string, model: string, year: number, color: string) {\n",
    "    this.make = make;\n",
    "    this.model = model;\n",
    "    this.year = year;\n",
    "    this.color = color;\n",
    "  }\n",
    "}"
   ]
  },
  {
   "attachments": {},
   "cell_type": "markdown",
   "id": "2b913d37",
   "metadata": {},
   "source": [
    "###### 문제: 자동차 클래스의 인스턴스를 만들고 그 속성을 2019년형 빨간색 BMW 3 시리즈를 나타내도록 설정하세요."
   ]
  },
  {
   "cell_type": "code",
   "execution_count": null,
   "id": "1680f727",
   "metadata": {},
   "outputs": [],
   "source": [
    "let myCar = new Car('BMW', '3-series', 2019, 'red');"
   ]
  },
  {
   "attachments": {},
   "cell_type": "markdown",
   "id": "6eb05d4f",
   "metadata": {},
   "source": [
    "###### 문제: 호출 시 \"Starting [make] [model]...\" (예: \"Starting BMW 3-series...\")라는 메시지를 출력하는 \"start\"라는 메서드를 자동차 클래스에서 정의하세요."
   ]
  },
  {
   "cell_type": "code",
   "execution_count": 1,
   "id": "720475cd",
   "metadata": {},
   "outputs": [],
   "source": [
    "class Car2 {\n",
    "  make: string;\n",
    "  model: string;\n",
    "  year: number;\n",
    "  color: string;\n",
    "\n",
    "  constructor(make: string, model: string, year: number, color: string) {\n",
    "    this.make = make;\n",
    "    this.model = model;\n",
    "    this.year = year;\n",
    "    this.color = color;\n",
    "  }\n",
    "\n",
    "  start(): string {\n",
    "    return `Starting ${this.make} ${this.model}...`;\n",
    "  }\n",
    "}"
   ]
  },
  {
   "attachments": {},
   "cell_type": "markdown",
   "id": "b31dd5d1",
   "metadata": {},
   "source": [
    "###### 문제: 자동차 클래스의 인스턴스를 생성하고 \"start\" 메서드를 호출하세요."
   ]
  },
  {
   "cell_type": "code",
   "execution_count": 2,
   "id": "d53794dc",
   "metadata": {},
   "outputs": [
    {
     "name": "stdout",
     "output_type": "stream",
     "text": [
      "Starting BMW 3-series...\n"
     ]
    }
   ],
   "source": [
    "let myCar2 = new Car2('BMW', '3-series', 2019, 'red');\n",
    "myCar2.start();"
   ]
  }
 ],
 "metadata": {
  "kernelspec": {
   "display_name": "TypeScript",
   "language": "typescript",
   "name": "tslab"
  },
  "language_info": {
   "codemirror_mode": {
    "mode": "typescript",
    "name": "javascript",
    "typescript": true
   },
   "file_extension": ".ts",
   "mimetype": "text/typescript",
   "name": "typescript",
   "version": "3.7.2"
  }
 },
 "nbformat": 4,
 "nbformat_minor": 5
}
