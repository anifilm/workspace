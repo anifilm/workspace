{
 "cells": [
  {
   "attachments": {},
   "cell_type": "markdown",
   "metadata": {},
   "source": [
    "### 4. 타입스크립트에서 인터페이스 사용하기"
   ]
  },
  {
   "attachments": {},
   "cell_type": "markdown",
   "metadata": {},
   "source": [
    "인터페이스 정의하기"
   ]
  },
  {
   "cell_type": "code",
   "execution_count": null,
   "metadata": {},
   "outputs": [],
   "source": [
    "interface Person {\n",
    "    name: string;\n",
    "    age: number;\n",
    "    email?: string;\n",
    "    hobbies: string[];\n",
    "    sayHello:() => string;\n",
    "}"
   ]
  },
  {
   "cell_type": "code",
   "execution_count": null,
   "metadata": {},
   "outputs": [],
   "source": [
    "const person: Person = {\n",
    "  name: 'John Doe',\n",
    "  age: 30,\n",
    "  hobbies: ['coding', 'reading'],\n",
    "  sayHello: () => 'Hello, world!',\n",
    "};"
   ]
  },
  {
   "attachments": {},
   "cell_type": "markdown",
   "metadata": {},
   "source": [
    "클래스에서 인터페이스 사용"
   ]
  },
  {
   "cell_type": "code",
   "execution_count": 1,
   "metadata": {},
   "outputs": [
    {
     "name": "stdout",
     "output_type": "stream",
     "text": [
      "16\n"
     ]
    }
   ],
   "source": [
    "interface Shape {\n",
    "  area: number;\n",
    "}\n",
    "\n",
    "class Square implements Shape {\n",
    "  constructor(public sideLength: number) { }\n",
    "  \n",
    "  get area() {\n",
    "    return this.sideLength ** 2;\n",
    "  }\n",
    "}\n",
    "\n",
    "const square = new Square(4);\n",
    "console.log(square.area);"
   ]
  },
  {
   "attachments": {},
   "cell_type": "markdown",
   "metadata": {},
   "source": [
    "함수에서 인터페이스 사용"
   ]
  },
  {
   "cell_type": "code",
   "execution_count": 2,
   "metadata": {},
   "outputs": [
    {
     "name": "stdout",
     "output_type": "stream",
     "text": [
      "true\n"
     ]
    }
   ],
   "source": [
    "interface SearchFunction {\n",
    "  (source: string, subString: string): boolean;\n",
    "}\n",
    "\n",
    "const searchString: SearchFunction = (source, subString) => {\n",
    "  return source.includes(subString);\n",
    "};\n",
    "\n",
    "searchString('Hello, world!', 'world');"
   ]
  },
  {
   "attachments": {},
   "cell_type": "markdown",
   "metadata": {},
   "source": [
    "인터페이스 확장"
   ]
  },
  {
   "cell_type": "code",
   "execution_count": null,
   "metadata": {},
   "outputs": [],
   "source": [
    "interface Animal {\n",
    "  name: string;\n",
    "}\n",
    "\n",
    "interface Dog extends Animal {\n",
    "  breed: string;\n",
    "}\n",
    "\n",
    "const dog: Dog = {\n",
    "  name: 'Rufus',\n",
    "  breed: 'Labrador',\n",
    "};"
   ]
  },
  {
   "attachments": {},
   "cell_type": "markdown",
   "metadata": {},
   "source": [
    "연습 문제"
   ]
  },
  {
   "attachments": {},
   "cell_type": "markdown",
   "metadata": {},
   "source": [
    "###### 문제: 아이디, 이름, 이메일, 나이 속성이 있는 사용자 객체에 대한 인터페이스를 만듭니다."
   ]
  },
  {
   "cell_type": "code",
   "execution_count": null,
   "metadata": {},
   "outputs": [],
   "source": [
    "interface User {\n",
    "  id: number;\n",
    "  name: string;\n",
    "  email: string;\n",
    "  age: number;\n",
    "}"
   ]
  },
  {
   "attachments": {},
   "cell_type": "markdown",
   "metadata": {},
   "source": [
    "###### 문제: 사용자 객체를 받아 사용자의 이름이 포함된 인사말 문자열을 반환하는 함수를 만드세요."
   ]
  },
  {
   "cell_type": "code",
   "execution_count": null,
   "metadata": {},
   "outputs": [],
   "source": [
    "function greetUser(user: User): string {\n",
    "  return `Hello, ${user.name}!`;\n",
    "}"
   ]
  },
  {
   "attachments": {},
   "cell_type": "markdown",
   "metadata": {},
   "source": [
    "###### 문제: ID, 이름, 가격 및 수량 속성이 있는 제품 객체에 대한 인터페이스를 만드세요."
   ]
  },
  {
   "cell_type": "code",
   "execution_count": null,
   "metadata": {},
   "outputs": [],
   "source": [
    "interface Product {\n",
    "  id: number;\n",
    "  name: string;\n",
    "  price: number;\n",
    "  quantity: number;\n",
    "}"
   ]
  },
  {
   "attachments": {},
   "cell_type": "markdown",
   "metadata": {},
   "source": [
    "###### 문제: 제품 객체를 받아 수량에 따라 계산된 총 가격을 반환하는 함수를 만드세요."
   ]
  },
  {
   "cell_type": "code",
   "execution_count": null,
   "metadata": {},
   "outputs": [],
   "source": [
    "function calculateTotalPrice(product: Product): number {\n",
    "  return product.price * product.quantity;\n",
    "}"
   ]
  }
 ],
 "metadata": {
  "kernelspec": {
   "display_name": "TypeScript",
   "language": "typescript",
   "name": "tslab"
  },
  "language_info": {
   "codemirror_mode": {
    "mode": "typescript",
    "name": "javascript",
    "typescript": true
   },
   "file_extension": ".ts",
   "mimetype": "text/typescript",
   "name": "typescript",
   "version": "3.7.2"
  },
  "orig_nbformat": 4
 },
 "nbformat": 4,
 "nbformat_minor": 2
}
