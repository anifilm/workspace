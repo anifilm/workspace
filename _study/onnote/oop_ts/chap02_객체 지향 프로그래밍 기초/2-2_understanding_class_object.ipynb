{
 "cells": [
  {
   "attachments": {},
   "cell_type": "markdown",
   "metadata": {},
   "source": [
    "### 2. 클래스와 객체 이해하기"
   ]
  },
  {
   "attachments": {},
   "cell_type": "markdown",
   "metadata": {},
   "source": [
    "클래스란 무엇인가요?"
   ]
  },
  {
   "cell_type": "code",
   "execution_count": 2,
   "metadata": {},
   "outputs": [],
   "source": [
    "class Person {\n",
    "  firstName: string;\n",
    "  lastName: string;\n",
    "\n",
    "  constructor(firstName: string, lastName: string) {\n",
    "    this.firstName = firstName;\n",
    "    this.lastName = lastName;\n",
    "  }\n",
    "\n",
    "  getFullName(): string {\n",
    "    return `${this.firstName} ${this.lastName}`;\n",
    "  }\n",
    "}\n"
   ]
  },
  {
   "attachments": {},
   "cell_type": "markdown",
   "metadata": {},
   "source": [
    "객체란 무엇인가요?"
   ]
  },
  {
   "cell_type": "code",
   "execution_count": 3,
   "metadata": {},
   "outputs": [
    {
     "name": "stdout",
     "output_type": "stream",
     "text": [
      "John Doe\n"
     ]
    }
   ],
   "source": [
    "const john = new Person('John', 'Doe');\n",
    "console.log(john.getFullName());"
   ]
  },
  {
   "attachments": {},
   "cell_type": "markdown",
   "metadata": {},
   "source": [
    "프로퍼티 및 메서드"
   ]
  },
  {
   "cell_type": "code",
   "execution_count": 4,
   "metadata": {},
   "outputs": [
    {
     "name": "stdout",
     "output_type": "stream",
     "text": [
      "200\n"
     ]
    }
   ],
   "source": [
    "class Rectagle {\n",
    "  width: number;\n",
    "  height: number;\n",
    "\n",
    "  constructor(width: number, height: number) {\n",
    "    this.width = width;\n",
    "    this.height = height;\n",
    "  }\n",
    "\n",
    "  getArea(): number {\n",
    "    return this.width * this.height;\n",
    "  }\n",
    "}\n",
    "\n",
    "const rect = new Rectagle(10, 20);\n",
    "console.log(rect.getArea());"
   ]
  },
  {
   "attachments": {},
   "cell_type": "markdown",
   "metadata": {},
   "source": [
    "상속"
   ]
  },
  {
   "cell_type": "code",
   "execution_count": 5,
   "metadata": {},
   "outputs": [
    {
     "name": "stdout",
     "output_type": "stream",
     "text": [
      "Rufus barks.\n"
     ]
    }
   ],
   "source": [
    "class Animal {\n",
    "  name: string;\n",
    "\n",
    "  constructor(name: string) {\n",
    "    this.name = name;\n",
    "  }\n",
    "\n",
    "  speak(): string {\n",
    "    return `${this.name} makes a noise.`;\n",
    "  }\n",
    "}\n",
    "\n",
    "class Dog extends Animal {\n",
    "  constructor(name: string) {\n",
    "    super(name);\n",
    "  }\n",
    "\n",
    "  speak(): string {\n",
    "    return `${this.name} barks.`;\n",
    "  }\n",
    "}\n",
    "\n",
    "const dog = new Dog('Rufus');\n",
    "console.log(dog.speak());"
   ]
  },
  {
   "attachments": {},
   "cell_type": "markdown",
   "metadata": {},
   "source": [
    "연습 문제"
   ]
  },
  {
   "attachments": {},
   "cell_type": "markdown",
   "metadata": {},
   "source": [
    "###### 문제: 두 개의 속성을 가진 \"Person\"이라는 클래스를 생성합니다. \"name\" 및 \"age\"라는 두 가지 속성을 가진 클래스를 만듭니다. 이 클래스에서 두 개의 객체를 생성합니다. 이름이 \"John\"이고 나이가 25세인 \"person1\"과 이름이 \"Sarah\"이고 나이가 30세인 \"person2\"가 그것입니다."
   ]
  },
  {
   "cell_type": "code",
   "execution_count": 6,
   "metadata": {},
   "outputs": [],
   "source": [
    "class Person2 {\n",
    "  name: string;\n",
    "  age: number;\n",
    "\n",
    "  constructor(name: string, age: number) {\n",
    "    this.name = name;\n",
    "    this.age = age;\n",
    "  }\n",
    "}\n",
    "\n",
    "const person1 = new Person2('John', 25);\n",
    "const person2 = new Person2('Sarah', 30);"
   ]
  },
  {
   "attachments": {},
   "cell_type": "markdown",
   "metadata": {},
   "source": [
    "###### 문제: \"Hello, my name is [name] and I am [age] years old.\"이라는 메시지를 기록하는 \"Person\" 클래스에 \"speak\"라는 메서드를 추가하고 이전 질문에서 만든 두 객체에 대해 이 메서드를 호출하세요."
   ]
  },
  {
   "cell_type": "code",
   "execution_count": 7,
   "metadata": {},
   "outputs": [
    {
     "name": "stdout",
     "output_type": "stream",
     "text": [
      "Hello, my name is John and I am 25 years old.\n",
      "Hello, my name is Sarah and I am 30 years old.\n"
     ]
    }
   ],
   "source": [
    "class Person3 {\n",
    "  name: string;\n",
    "  age: number;\n",
    "\n",
    "  constructor(name: string, age: number) {\n",
    "    this.name = name;\n",
    "    this.age = age;\n",
    "  }\n",
    "\n",
    "  speak(): void {\n",
    "    console.log(`Hello, my name is ${this.name} and I am ${this.age} years old.`);\n",
    "  }\n",
    "}\n",
    "\n",
    "const person3 = new Person3('John', 25);\n",
    "const person4 = new Person3('Sarah', 30);\n",
    "person3.speak();\n",
    "person4.speak();"
   ]
  },
  {
   "attachments": {},
   "cell_type": "markdown",
   "metadata": {},
   "source": [
    "###### 문제: \"Employee\"라는 이름의 \"Person\" 클래스의 하위 클래스를 \"id\"라는 추가 속성을 사용하여 만듭니다. 상위 클래스의 \"speak\" 메서드를 재정의하여 메시지에 직원 ID도 기록합니다. \"Employee\" 클래스에서 이름이 \"Bob\", 나이 35세, ID 12345인 객체를 만듭니다."
   ]
  },
  {
   "cell_type": "code",
   "execution_count": 8,
   "metadata": {},
   "outputs": [
    {
     "name": "stdout",
     "output_type": "stream",
     "text": [
      "Hello, my name is Bob and I am 35 years old.\n",
      "My employee ID is 12345.\n"
     ]
    }
   ],
   "source": [
    "class Employee extends Person3 {\n",
    "  id: number;\n",
    "\n",
    "  constructor(name: string, age: number, id: number) {\n",
    "    super(name, age);\n",
    "    this.id = id;\n",
    "  }\n",
    "\n",
    "  speak(): void {\n",
    "    super.speak();\n",
    "    console.log(`My employee ID is ${this.id}.`);\n",
    "  }\n",
    "}\n",
    "\n",
    "const employee1 = new Employee('Bob', 35, 12345);\n",
    "employee1.speak();"
   ]
  }
 ],
 "metadata": {
  "kernelspec": {
   "display_name": "TypeScript",
   "language": "typescript",
   "name": "tslab"
  },
  "language_info": {
   "codemirror_mode": {
    "mode": "typescript",
    "name": "javascript",
    "typescript": true
   },
   "file_extension": ".ts",
   "mimetype": "text/typescript",
   "name": "typescript",
   "version": "3.7.2"
  },
  "orig_nbformat": 4
 },
 "nbformat": 4,
 "nbformat_minor": 2
}
