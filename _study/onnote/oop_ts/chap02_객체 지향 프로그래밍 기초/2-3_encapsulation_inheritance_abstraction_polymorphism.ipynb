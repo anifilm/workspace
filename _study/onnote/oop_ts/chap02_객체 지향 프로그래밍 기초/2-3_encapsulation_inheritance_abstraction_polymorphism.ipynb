{
 "cells": [
  {
   "attachments": {},
   "cell_type": "markdown",
   "metadata": {},
   "source": [
    "### 3. 캡슐화, 상속, 추상화, 다형성"
   ]
  },
  {
   "attachments": {},
   "cell_type": "markdown",
   "metadata": {},
   "source": [
    "캡슐화"
   ]
  },
  {
   "cell_type": "code",
   "execution_count": 1,
   "metadata": {},
   "outputs": [],
   "source": [
    "class Person {\n",
    "  private name: string;\n",
    "  private age: number;\n",
    "\n",
    "  constructor(name: string, age: number) {\n",
    "    this.name = name;\n",
    "    this.age = age;\n",
    "  }\n",
    "    \n",
    "  public getName(): string {\n",
    "    return this.name;\n",
    "  }\n",
    "\n",
    "  public getAge(): number {\n",
    "    return this.age;\n",
    "  }\n",
    "\n",
    "  public setName(name: string): void {\n",
    "    this.name = name;\n",
    "  }\n",
    "\n",
    "  public setAge(age: number): void {\n",
    "    this.age = age;\n",
    "  }\n",
    "}"
   ]
  },
  {
   "attachments": {},
   "cell_type": "markdown",
   "metadata": {},
   "source": [
    "상속"
   ]
  },
  {
   "cell_type": "code",
   "execution_count": null,
   "metadata": {},
   "outputs": [],
   "source": [
    "class Animal {\n",
    "  private name: string;\n",
    "\n",
    "  constructor(name: string) {\n",
    "    this.name = name;\n",
    "  }\n",
    "\n",
    "  public getName(): string {\n",
    "    return this.name;\n",
    "  }\n",
    "\n",
    "  public getSound(): string {\n",
    "    return 'undefined';\n",
    "  }\n",
    "}\n",
    "\n",
    "class Cat extends Animal {\n",
    "  constructor(name: string) {\n",
    "    super(name);\n",
    "  }\n",
    "\n",
    "  public getSound(): string {\n",
    "    return 'meow';\n",
    "  }\n",
    "}\n",
    "\n",
    "class Dog extends Animal {\n",
    "  constructor(name: string) {\n",
    "    super(name);\n",
    "  }\n",
    "\n",
    "  public getSound(): string {\n",
    "    return 'woof';\n",
    "  }\n",
    "}"
   ]
  },
  {
   "attachments": {},
   "cell_type": "markdown",
   "metadata": {},
   "source": [
    "추상화"
   ]
  },
  {
   "cell_type": "code",
   "execution_count": null,
   "metadata": {},
   "outputs": [],
   "source": [
    "abstract class Shape {\n",
    "  public abstract getArea(): number;\n",
    "}\n",
    "\n",
    "interface Printable {\n",
    "  print(): void;\n",
    "}\n",
    "\n",
    "class Rectangle extends Shape implements Printable {\n",
    "  private width: number;\n",
    "  private height: number;\n",
    "\n",
    "  constructor(width: number, height: number) {\n",
    "    super();\n",
    "    this.width = width;\n",
    "    this.height = height;\n",
    "  }\n",
    "  \n",
    "  public getArea(): number {\n",
    "    return this.width * this.height;\n",
    "  }\n",
    "\n",
    "  public print(): void {\n",
    "    console.log(`Width: ${this.width}, Height: ${this.height}`);\n",
    "  }\n",
    "}\n",
    "\n",
    "class Circle extends Shape implements Printable {\n",
    "  private radius: number;\n",
    "\n",
    "  constructor(radius: number) {\n",
    "    super();\n",
    "    this.radius = radius;\n",
    "  }\n",
    "\n",
    "  public getArea(): number {\n",
    "    return Math.PI * Math.pow(this.radius, 2);\n",
    "  }\n",
    "\n",
    "  public print(): void {\n",
    "    console.log(`Radius: ${this.radius}`);\n",
    "  }\n",
    "}"
   ]
  },
  {
   "attachments": {},
   "cell_type": "markdown",
   "metadata": {},
   "source": [
    "다형성"
   ]
  },
  {
   "cell_type": "code",
   "execution_count": null,
   "metadata": {},
   "outputs": [],
   "source": [
    "abstract class Animal2 {\n",
    "  public abstract makeSound(): void;\n",
    "}\n",
    "\n",
    "interface Walkable {\n",
    "  walk(): void;\n",
    "}\n",
    "\n",
    "class Cat2 extends Animal2 implements Walkable {\n",
    "  public makeSound(): void {\n",
    "    console.log('Meow');\n",
    "  }\n",
    "\n",
    "  public walk(): void {\n",
    "    console.log('Cat is walking...');\n",
    "  }\n",
    "}\n",
    "\n",
    "class Dog2 extends Animal2 implements Walkable {\n",
    "  public makeSound(): void {\n",
    "      console.log('Woof');\n",
    "  }\n",
    "\n",
    "  public walk(): void {\n",
    "      console.log('Dog is walking...');\n",
    "  }\n",
    "}\n",
    "\n",
    "function makeAnimalSound(animal: Animal2): void {\n",
    "  animal.makeSound();\n",
    "}\n",
    "\n",
    "function makeAnimalWalk(animal: Walkable): void {\n",
    "  animal.walk();\n",
    "}"
   ]
  },
  {
   "attachments": {},
   "cell_type": "markdown",
   "metadata": {},
   "source": [
    "연습 문제"
   ]
  },
  {
   "attachments": {},
   "cell_type": "markdown",
   "metadata": {},
   "source": [
    "###### 문제: \"firstName\"과 \"lastName\"이라는 비공개 속성이 있는 \"Person\"이라는 클래스를 생성합니다. \"firstName\"과 \"lastName\"의 연결을 반환하는 \"getFullName()\"이라는 공개 메서드를 구현합니다."
   ]
  },
  {
   "cell_type": "code",
   "execution_count": null,
   "metadata": {},
   "outputs": [],
   "source": [
    "class Person2 {\n",
    "  private firstName: string;\n",
    "  private lastName: string;\n",
    "\n",
    "  constructor(firstName: string, lastName: string) {\n",
    "    this.firstName = firstName;\n",
    "    this.lastName = lastName;\n",
    "  }\n",
    "\n",
    "  public getFullName(): string {\n",
    "    return `${this.firstName} ${this.lastName}`;\n",
    "  }\n",
    "}"
   ]
  },
  {
   "attachments": {},
   "cell_type": "markdown",
   "metadata": {},
   "source": [
    "###### 문제: 보호된 속성 \"name\"이 있는 \"Animal\"이라는 클래스를 생성합니다. \"name\"을 반환하는 \"getName()\"이라는 공개 메서드를 구현합니다. \"Animal\"을 확장하고 \"Woof!\"를 반환하는 \"bark()\"라는 공개 메서드가 있는 \"Dog\"라는 다른 클래스를 만듭니다."
   ]
  },
  {
   "cell_type": "code",
   "execution_count": null,
   "metadata": {},
   "outputs": [],
   "source": [
    "class Animal3 {\n",
    "  private name: string;\n",
    "\n",
    "  constructor(name: string) {\n",
    "    this.name = name;\n",
    "  }\n",
    "\n",
    "  public getName(): string {\n",
    "    return this.name;\n",
    "  }\n",
    "}\n",
    "\n",
    "class Dog3 extends Animal3 {\n",
    "  public bark(): string {\n",
    "    return 'Woof!';\n",
    "  }\n",
    "}"
   ]
  },
  {
   "attachments": {},
   "cell_type": "markdown",
   "metadata": {},
   "source": [
    "###### 문제: \"drive()\"라는 추상 메서드가 있는 \"Vehicle\"이라는 추상 클래스를 생성합니다. \"Vehicle\"을 확장하고 \"Driving a car...\"를 반환하여 \"drive()\"를 구현하는 \"Car\"라는 하위 클래스를 구현하세요."
   ]
  },
  {
   "cell_type": "code",
   "execution_count": null,
   "metadata": {},
   "outputs": [],
   "source": [
    "abstract class Vehicle {\n",
    "  abstract drive(): string;\n",
    "}\n",
    "\n",
    "class Car extends Vehicle {\n",
    "  drive(): string {\n",
    "    return 'Driving a car...';\n",
    "  }\n",
    "}"
   ]
  },
  {
   "attachments": {},
   "cell_type": "markdown",
   "metadata": {},
   "source": [
    "###### 문제: \"calculateArea()\"이라는 추상 메서드가 있는 \"Shape\"라는 클래스를 만듭니다. \"Shape\"를 확장하고 길이에 너비를 곱한 값을 반환하여 \"calculateArea()\"을 구현하는 \"Rectangle\"이라는 서브클래스를 구현합니다. \"Shape\"를 확장하고 파이와 반지름의 제곱의 곱을 반환하여 \"calculateArea()\"을 구현하는 \"Circle\"이라는 또 다른 서브 클래스를 구현합니다."
   ]
  },
  {
   "cell_type": "code",
   "execution_count": null,
   "metadata": {},
   "outputs": [],
   "source": [
    "abstract class Shape2 {\n",
    "  abstract calcualteArea(): number;\n",
    "}\n",
    "\n",
    "class Rectangle2 extends Shape2 {\n",
    "  constructor(private length: number, private breadth: number) {\n",
    "    super();\n",
    "  }\n",
    "\n",
    "  public calcualteArea(): number {\n",
    "    return this.length * this.breadth;\n",
    "  }\n",
    "}\n",
    "\n",
    "class Circle2 extends Shape2 {\n",
    "  constructor(private radius: number) {\n",
    "    super();\n",
    "  }\n",
    "\n",
    "  public calcualteArea(): number {\n",
    "    return Math.PI * Math.pow(this.radius, 2);\n",
    "  }\n",
    "}"
   ]
  }
 ],
 "metadata": {
  "kernelspec": {
   "display_name": "TypeScript",
   "language": "typescript",
   "name": "tslab"
  },
  "language_info": {
   "codemirror_mode": {
    "mode": "typescript",
    "name": "javascript",
    "typescript": true
   },
   "file_extension": ".ts",
   "mimetype": "text/typescript",
   "name": "typescript",
   "version": "3.7.2"
  },
  "orig_nbformat": 4
 },
 "nbformat": 4,
 "nbformat_minor": 2
}
