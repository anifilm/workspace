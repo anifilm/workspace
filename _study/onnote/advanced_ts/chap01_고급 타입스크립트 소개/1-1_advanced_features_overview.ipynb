{
 "cells": [
  {
   "attachments": {},
   "cell_type": "markdown",
   "id": "6ba305e8",
   "metadata": {},
   "source": [
    "### 1. 타입스크립트의 고급 기능 개요"
   ]
  },
  {
   "attachments": {},
   "cell_type": "markdown",
   "id": "d5223dfb",
   "metadata": {},
   "source": [
    "타입 추론"
   ]
  },
  {
   "cell_type": "code",
   "execution_count": null,
   "metadata": {},
   "outputs": [],
   "source": [
    "let name = 'John';"
   ]
  },
  {
   "attachments": {},
   "cell_type": "markdown",
   "id": "a111e829",
   "metadata": {},
   "source": [
    "인터페이스"
   ]
  },
  {
   "cell_type": "code",
   "execution_count": null,
   "id": "76748d63",
   "metadata": {},
   "outputs": [],
   "source": [
    "interface Person {\n",
    "  firstName: string;\n",
    "  lastName: string;\n",
    "  age?: number;\n",
    "}\n",
    "\n",
    "let person1: Person = {\n",
    "  firstName: 'John',\n",
    "  lastName: 'Doe',\n",
    "};"
   ]
  },
  {
   "attachments": {},
   "cell_type": "markdown",
   "id": "9b0ef3fb",
   "metadata": {},
   "source": [
    "제네릭"
   ]
  },
  {
   "cell_type": "code",
   "execution_count": null,
   "id": "eac6f1ee",
   "metadata": {},
   "outputs": [],
   "source": [
    "function printArray<T>(arr: T[]): void {\n",
    "  console.log(arr.join(', '));\n",
    "}\n",
    "\n",
    "let numbers: number[] = [1, 2, 3, 4, 5];\n",
    "let names: string[] = ['John', 'Mary', 'Bob'];\n",
    "\n",
    "printArray(numbers);\n",
    "printArray(names);"
   ]
  },
  {
   "attachments": {},
   "cell_type": "markdown",
   "id": "efbef9ae",
   "metadata": {},
   "source": [
    "데코레이터"
   ]
  },
  {
   "cell_type": "code",
   "execution_count": null,
   "id": "85e099bd",
   "metadata": {},
   "outputs": [],
   "source": [
    "function Component(target: any) {\n",
    "  // Add logic here\n",
    "}\n",
    "\n",
    "@Component\n",
    "class MyComponent {\n",
    "  // Add logic here\n",
    "}"
   ]
  },
  {
   "attachments": {},
   "cell_type": "markdown",
   "id": "bf22e00d",
   "metadata": {},
   "source": [
    "믹스인"
   ]
  },
  {
   "cell_type": "code",
   "execution_count": null,
   "id": "f7a1c9d1",
   "metadata": {},
   "outputs": [],
   "source": [
    "class Printable {\n",
    "  print(): void {\n",
    "    console.log('Printable');\n",
    "  }\n",
    "}\n",
    "\n",
    "class Loggable {\n",
    "  log(): void {\n",
    "    console.log('Loggable');\n",
    "  }\n",
    "}\n",
    "\n",
    "class MyComponent implements Printable, Loggable {\n",
    "  print: () => void;\n",
    "  log: () => void;\n",
    "}\n",
    "\n",
    "applyMixins(MyComponent, [Printable, Loggable]);\n",
    "\n",
    "let component = new MyComponent();\n",
    "component.print();\n",
    "component.log();"
   ]
  },
  {
   "attachments": {},
   "cell_type": "markdown",
   "id": "8a899bba",
   "metadata": {},
   "source": [
    "Q&A"
   ]
  },
  {
   "attachments": {},
   "cell_type": "markdown",
   "id": "23478b21",
   "metadata": {},
   "source": [
    "###### 질문: 타입스크립트에서 제네릭을 어떻게 사용할 수 있는지 예를 들어 설명해 주시겠어요?"
   ]
  },
  {
   "cell_type": "code",
   "execution_count": null,
   "id": "12240b98",
   "metadata": {},
   "outputs": [],
   "source": [
    "function reverse<T>(input: T[]): T[] {\n",
    "  return input.reverse();\n",
    "}\n",
    "\n",
    "let numbersArray = [1, 2, 3, 4, 5];\n",
    "let lettersArray = ['a', 'b', 'c', 'd', 'e'];\n",
    "\n",
    "let reversedNumbers = reverse(numbersArray);\n",
    "let reversedLetters = reverse(lettersArray);\n",
    "\n",
    "console.log(reversedNumbers);\n",
    "console.log(reversedLetters);"
   ]
  },
  {
   "attachments": {},
   "cell_type": "markdown",
   "id": "a3d9ee9d",
   "metadata": {},
   "source": [
    "###### 질문: 타입스크립트에서 데코레이터를 어떻게 사용할 수 있는지 예를 들어 설명해 주시겠어요?"
   ]
  },
  {
   "cell_type": "code",
   "execution_count": null,
   "id": "36721122",
   "metadata": {},
   "outputs": [],
   "source": [
    "function log(target: Object, key: string, descriptor: PropertyDescriptor) {\n",
    "  const originalMethod = descriptor.value;\n",
    "\n",
    "  descriptor.value = function (...args: any[]) {\n",
    "    console.log(`Calling \"${key}\" method with arguments: `, args);\n",
    "    const result = originalMethod.apply(this, args);\n",
    "    console.log(`\"${key}\" method returned: `, result);\n",
    "    return result;\n",
    "  };\n",
    "\n",
    "  return descriptor;\n",
    "}\n",
    "\n",
    "class Example {\n",
    "  @log\n",
    "  greet(name: string) {\n",
    "    console.log(`Hello, ${name}!`);\n",
    "    return `Hello, ${name}!`;\n",
    "  }\n",
    "}\n",
    "\n",
    "const example = new Example();\n",
    "example.greet('John');"
   ]
  },
  {
   "attachments": {},
   "cell_type": "markdown",
   "id": "51e9f169",
   "metadata": {},
   "source": [
    "###### 질문: 타입스크립트에서 타입 가드로 typeof를 사용하는 방법에 대한 예시를 알려주실 수 있나요?"
   ]
  },
  {
   "cell_type": "code",
   "execution_count": null,
   "id": "5cac00ff",
   "metadata": {},
   "outputs": [],
   "source": [
    "function printValue(value: string | number) {\n",
    "  if (typeof value === 'string') {\n",
    "    console.log(value.toUpperCase());\n",
    "  }\n",
    "  else {\n",
    "    console.log(value.toFixed(2));\n",
    "  }\n",
    "}\n",
    "\n",
    "printValue('hello');\n",
    "printValue(3.14159);"
   ]
  },
  {
   "attachments": {},
   "cell_type": "markdown",
   "id": "17b7ebed",
   "metadata": {},
   "source": [
    "연습 문제"
   ]
  },
  {
   "attachments": {},
   "cell_type": "markdown",
   "id": "332ebd08",
   "metadata": {},
   "source": [
    "###### 문제: 인터페이스를 구현하는 타입스크립트로 클래스를 만드세요."
   ]
  },
  {
   "cell_type": "code",
   "execution_count": null,
   "id": "a0c1f789",
   "metadata": {},
   "outputs": [],
   "source": [
    "interface Car {\n",
    "  model: string;\n",
    "  make: string;\n",
    "  year: number;\n",
    "}\n",
    "\n",
    "class MyCar implements Car {\n",
    "  model: string;\n",
    "  make: string;\n",
    "  year: number;\n",
    "\n",
    "  constructor(model: string, make: string, year: number) {\n",
    "    this.model = model;\n",
    "    this.make = make;\n",
    "    this.year = year;\n",
    "  }\n",
    "}"
   ]
  },
  {
   "attachments": {},
   "cell_type": "markdown",
   "id": "afed7db1",
   "metadata": {},
   "source": [
    "###### 문제: 선택적 매개변수가 있는 객체를 받아 제공된 매개변수만 있는 새 객체를 반환하는 함수를 정의하세요."
   ]
  },
  {
   "cell_type": "code",
   "execution_count": 2,
   "id": "95a0b85f",
   "metadata": {},
   "outputs": [
    {
     "name": "stdout",
     "output_type": "stream",
     "text": [
      "{ name: 'John', age: 25, gender: 'male' }\n"
     ]
    }
   ],
   "source": [
    "interface Options {\n",
    "  name?: string;\n",
    "  age?: number;\n",
    "  gender?: string;\n",
    "}\n",
    "\n",
    "function selectOptions(options: Options): Options {\n",
    "  const { name, age, gender } = options;\n",
    "  return { name, age, gender };\n",
    "}\n",
    "\n",
    "const person = { name: 'John', age: 25, gender: 'male' };\n",
    "const selectedOptions = selectOptions(person);\n",
    "console.log(selectedOptions);"
   ]
  },
  {
   "attachments": {},
   "cell_type": "markdown",
   "id": "ea209b0d",
   "metadata": {},
   "source": [
    "###### 문제: 유니온 타입을 매개변수로 받아 전달된 타입에 따라 특정 메시지를 기록하는 함수를 작성하세요."
   ]
  },
  {
   "cell_type": "code",
   "execution_count": 3,
   "id": "58d5fe11",
   "metadata": {},
   "outputs": [
    {
     "name": "stdout",
     "output_type": "stream",
     "text": [
      "Type is a boolean\n"
     ]
    }
   ],
   "source": [
    "type MyType = string | number | boolean;\n",
    "\n",
    "function printType(type: MyType) {\n",
    "  switch (typeof type) {\n",
    "    case 'string':\n",
    "      console.log('Type is a string');\n",
    "      break;\n",
    "    case 'number':\n",
    "      console.log('Type is a number');\n",
    "      break;\n",
    "    case 'boolean':\n",
    "      console.log('Type is a boolean');\n",
    "      break;\n",
    "    default:\n",
    "      console.log('Type is not recognized');\n",
    "      break;\n",
    "  }\n",
    "}\n",
    "\n",
    "printType(true);"
   ]
  },
  {
   "attachments": {},
   "cell_type": "markdown",
   "id": "22bb430e",
   "metadata": {},
   "source": [
    "###### 문제: 제네릭 타입을 사용하는 클래스를 만들고 해당 타입의 배열을 매개변수로 받아 첫번째 요소를 반환하는 메서드를 작성하세요."
   ]
  },
  {
   "cell_type": "code",
   "execution_count": 4,
   "id": "c2ff196f",
   "metadata": {},
   "outputs": [
    {
     "name": "stdout",
     "output_type": "stream",
     "text": [
      "apple\n"
     ]
    }
   ],
   "source": [
    "class MyArray<T> {\n",
    "  items: T[];\n",
    "\n",
    "  constructor(...items: T[]) {\n",
    "    this.items = items;\n",
    "  }\n",
    "\n",
    "  getFirstItem(): T {\n",
    "    return this.items[0];\n",
    "  }\n",
    "}\n",
    "\n",
    "const stringArray = new MyArray('apple', 'banana', 'cherry');\n",
    "const firstItem = stringArray.getFirstItem();\n",
    "console.log(firstItem);"
   ]
  },
  {
   "attachments": {},
   "cell_type": "markdown",
   "id": "766fe362",
   "metadata": {},
   "source": [
    "###### 문제: 자바스크립트 파일을 타입스크립트 파일로 변환하고 모든 변수와 매개변수에 대한 강력한 타이핑을 포함시키세요."
   ]
  },
  {
   "cell_type": "code",
   "execution_count": 5,
   "id": "03cc3c3f",
   "metadata": {},
   "outputs": [
    {
     "name": "stdout",
     "output_type": "stream",
     "text": [
      "15\n"
     ]
    }
   ],
   "source": [
    "function addNumbers(a: number, b: number): number {\n",
    "  return a + b;\n",
    "}\n",
    "\n",
    "const sum = addNumbers(5, 10);\n",
    "console.log(sum);"
   ]
  }
 ],
 "metadata": {
  "kernelspec": {
   "display_name": "TypeScript",
   "language": "typescript",
   "name": "tslab"
  },
  "language_info": {
   "codemirror_mode": {
    "mode": "typescript",
    "name": "javascript",
    "typescript": true
   },
   "file_extension": ".ts",
   "mimetype": "text/typescript",
   "name": "typescript",
   "version": "3.7.2"
  }
 },
 "nbformat": 4,
 "nbformat_minor": 5
}
