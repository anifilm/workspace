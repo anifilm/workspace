{
 "cells": [
  {
   "attachments": {},
   "cell_type": "markdown",
   "metadata": {},
   "source": [
    "1. 타입스크립트 개요 및 기능\n"
   ]
  },
  {
   "attachments": {},
   "cell_type": "markdown",
   "metadata": {},
   "source": [
    "타입스크립트의 기능\n"
   ]
  },
  {
   "cell_type": "code",
   "execution_count": null,
   "metadata": {},
   "outputs": [],
   "source": [
    "// 타입 어노테이션\n",
    "function add(a: number, b: number): number {\n",
    "  return a + b;\n",
    "}\n",
    "\n",
    "let result = add(2, 3);\n"
   ]
  },
  {
   "cell_type": "code",
   "execution_count": null,
   "metadata": {},
   "outputs": [],
   "source": [
    "// 인터페이스\n",
    "interface Person {\n",
    "  name: string;\n",
    "  age: number;\n",
    "}\n",
    "\n",
    "let john: Person = { name: 'John', age: 30 };"
   ]
  },
  {
   "cell_type": "code",
   "execution_count": 1,
   "metadata": {},
   "outputs": [
    {
     "name": "stdout",
     "output_type": "stream",
     "text": [
      "Spot barks.\n"
     ]
    }
   ],
   "source": [
    "// 클래스\n",
    "class Animal {\n",
    "  name: string;\n",
    "\n",
    "  constructor(name: string) {\n",
    "    this.name = name;\n",
    "  }\n",
    "\n",
    "  speak() {\n",
    "    console.log(`${this.name} makes a noise.`);\n",
    "  }\n",
    "}\n",
    "\n",
    "class Dog extends Animal {\n",
    "  speak() {\n",
    "    console.log(`${this.name} barks.`);\n",
    "  }\n",
    "}\n",
    "\n",
    "let spot = new Dog('Spot');\n",
    "spot.speak();"
   ]
  },
  {
   "cell_type": "code",
   "execution_count": 2,
   "metadata": {},
   "outputs": [
    {
     "name": "stdout",
     "output_type": "stream",
     "text": [
      "hello\n"
     ]
    }
   ],
   "source": [
    "// 제네릭\n",
    "function identity<T>(arg: T): T {\n",
    "  return arg;\n",
    "}\n",
    "\n",
    "let output = identity<string>('hello');\n",
    "console.log(output);"
   ]
  },
  {
   "cell_type": "code",
   "execution_count": null,
   "metadata": {},
   "outputs": [],
   "source": [
    "// 널 가능 타입\n",
    "let name: string | null = null;"
   ]
  },
  {
   "attachments": {},
   "cell_type": "markdown",
   "metadata": {},
   "source": [
    "연습 문제\n"
   ]
  },
  {
   "attachments": {},
   "cell_type": "markdown",
   "metadata": {},
   "source": [
    "###### 문제: 속성을 설정하는 생성자 메서드와 해당 속성을 콘솔에 기혹하는 메서드가 있는 타입스크립트로 클래스를 만드세요.\n"
   ]
  },
  {
   "cell_type": "code",
   "execution_count": 1,
   "metadata": {},
   "outputs": [
    {
     "name": "stdout",
     "output_type": "stream",
     "text": [
      "Hello, world!\n"
     ]
    }
   ],
   "source": [
    "class Example {\n",
    "  private myProperty: string;\n",
    "\n",
    "  constructor(value: string) {\n",
    "    this.myProperty = value;\n",
    "  }\n",
    "\n",
    "  logProperty() {\n",
    "    console.log(this.myProperty);\n",
    "  }\n",
    "}\n",
    "\n",
    "const instance = new Example('Hello, world!');\n",
    "instance.logProperty();"
   ]
  },
  {
   "attachments": {},
   "cell_type": "markdown",
   "metadata": {},
   "source": [
    "###### 문제: 이름, 나이, 이메일에 대한 속성을 가진 사람 객체에 대한 타입스크립트 인터페이스를 작성하세요.\n"
   ]
  },
  {
   "cell_type": "code",
   "execution_count": 2,
   "metadata": {},
   "outputs": [
    {
     "name": "stdout",
     "output_type": "stream",
     "text": [
      "{ name: 'John Doe', age: 30, email: 'john.doe@example.com' }\n"
     ]
    }
   ],
   "source": [
    "interface Person {\n",
    "  name: string;\n",
    "  age: number;\n",
    "  email: string;\n",
    "}\n",
    "\n",
    "const person: Person = {\n",
    "  name: 'John Doe',\n",
    "  age: 30,\n",
    "  email: 'john.doe@example.com',\n",
    "};\n",
    "\n",
    "console.log(person);"
   ]
  },
  {
   "attachments": {},
   "cell_type": "markdown",
   "metadata": {},
   "source": [
    "###### 문제: 매개변수와 반환 값에 대한 타입을 추가하여 다음 자바스크립트 함수를 타입스크립트로 변환하세요.\n"
   ]
  },
  {
   "cell_type": "code",
   "execution_count": 3,
   "metadata": {},
   "outputs": [
    {
     "name": "stdout",
     "output_type": "stream",
     "text": [
      "5\n"
     ]
    }
   ],
   "source": [
    "function add(a: number, b: number): number {\n",
    "  return a + b;\n",
    "}\n",
    "\n",
    "console.log(add(2, 3));"
   ]
  },
  {
   "attachments": {},
   "cell_type": "markdown",
   "metadata": {},
   "source": [
    "###### 문제: 문자열이나 숫자를 담을 수 있는 유니온 타입을 타입스크립트에서 생성하세요.\n"
   ]
  },
  {
   "cell_type": "code",
   "execution_count": 4,
   "metadata": {},
   "outputs": [
    {
     "name": "stdout",
     "output_type": "stream",
     "text": [
      "Hello, world!\n",
      "42\n"
     ]
    }
   ],
   "source": [
    "type myType = string | number;\n",
    "\n",
    "const item1: myType = 'Hello, world!';\n",
    "const item2: myType = 42;\n",
    "\n",
    "console.log(item1);\n",
    "console.log(item2);"
   ]
  },
  {
   "attachments": {},
   "cell_type": "markdown",
   "metadata": {},
   "source": [
    "###### 문제: 숫자 배열을 받아 배열에 있는 모든 짝수의 합을 반환하는 타입스크립트 함수를 작성하세요.\n"
   ]
  },
  {
   "cell_type": "code",
   "execution_count": 6,
   "metadata": {},
   "outputs": [
    {
     "name": "stdout",
     "output_type": "stream",
     "text": [
      "12\n"
     ]
    }
   ],
   "source": [
    "function sumEvenNumbers(numbers: number[]): number {\n",
    "  let sum = 0;\n",
    "  for (const number of numbers) {\n",
    "    if (number % 2 === 0) {\n",
    "      sum += number;\n",
    "    }\n",
    "  }\n",
    "  return sum;\n",
    "}\n",
    "\n",
    "console.log(sumEvenNumbers([1, 2, 3, 4, 5, 6]));"
   ]
  }
 ],
 "metadata": {
  "kernelspec": {
   "display_name": "TypeScript",
   "language": "typescript",
   "name": "tslab"
  },
  "language_info": {
   "codemirror_mode": {
    "mode": "typescript",
    "name": "javascript",
    "typescript": true
   },
   "file_extension": ".ts",
   "mimetype": "text/typescript",
   "name": "typescript",
   "version": "3.7.2"
  },
  "orig_nbformat": 4
 },
 "nbformat": 4,
 "nbformat_minor": 2
}
