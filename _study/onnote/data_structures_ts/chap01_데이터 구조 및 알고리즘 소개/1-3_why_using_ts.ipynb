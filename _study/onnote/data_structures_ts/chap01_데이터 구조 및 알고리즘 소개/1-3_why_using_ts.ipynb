{
 "cells": [
  {
   "attachments": {},
   "cell_type": "markdown",
   "metadata": {},
   "source": [
    "### 3. 타입스크립트를 사용하는 이유는?"
   ]
  },
  {
   "attachments": {},
   "cell_type": "markdown",
   "metadata": {},
   "source": [
    "연습 문제"
   ]
  },
  {
   "attachments": {},
   "cell_type": "markdown",
   "metadata": {},
   "source": [
    "###### 문제: 타입스크립트를 사용하여 스택을 구현하고 스택을 사용하여 주어진 괄호 문자열의 균형이 맞는지 확인하는 함수를 작성하세요."
   ]
  },
  {
   "cell_type": "code",
   "execution_count": null,
   "metadata": {},
   "outputs": [],
   "source": [
    "class Stack {\n",
    "  private items: string[]\n",
    "\n",
    "  constructor() {\n",
    "    this.items = []\n",
    "  }\n",
    "\n",
    "  push(item: string): void {\n",
    "    this.items.push(item)\n",
    "  }\n",
    "\n",
    "  pop(): string | undefined {\n",
    "    return this.items.pop()\n",
    "  }\n",
    "\n",
    "  peek(): string | undefined {\n",
    "    return this.items[this.items.length-1]\n",
    "  }\n",
    "\n",
    "  isEmpty(): boolean {\n",
    "    return this.items.length === 0\n",
    "  }\n",
    "}"
   ]
  },
  {
   "cell_type": "code",
   "execution_count": null,
   "metadata": {},
   "outputs": [],
   "source": [
    "function isBalanced(str: string): boolean {\n",
    "  const stack = new Stack()\n",
    "  for (let i = 0; i < str.length; i++) {\n",
    "    const currentChar = str[i]\n",
    "    if (currentChar === '(') {\n",
    "      stack.push(currentChar)\n",
    "    }\n",
    "    else if (currentChar === ')') {\n",
    "      if (stack.isEmpty()) {\n",
    "        return false\n",
    "      }\n",
    "      stack.pop()\n",
    "    }\n",
    "  }\n",
    "\n",
    "  return stack.isEmpty()\n",
    "}"
   ]
  },
  {
   "attachments": {},
   "cell_type": "markdown",
   "metadata": {},
   "source": [
    "###### 문제: 타입스크립트를 사용하여 트라이 데이터 구조를 구현하고 주어진 접두사를 가진 트라이의 모든 단어를 찾는 함수를 작성하세요."
   ]
  },
  {
   "cell_type": "code",
   "execution_count": 1,
   "metadata": {},
   "outputs": [
    {
     "name": "stdout",
     "output_type": "stream",
     "text": [
      "[ 'apple' ]\n",
      "[ 'banana' ]\n",
      "[ 'pineapple' ]\n",
      "[ 'pineapple' ]\n",
      "[]\n"
     ]
    }
   ],
   "source": [
    "class TrieNode {\n",
    "  public children: { [key: string]: TrieNode }\n",
    "  public isEndOfWord: boolean\n",
    "\n",
    "  constructor() {\n",
    "    this.children = {}\n",
    "    this.isEndOfWord = false\n",
    "  }\n",
    "}\n",
    "\n",
    "class Trie {\n",
    "  private root: TrieNode\n",
    "\n",
    "  constructor() {\n",
    "    this.root = new TrieNode()\n",
    "  }\n",
    "\n",
    "  insert(word: string): void {\n",
    "    let current = this.root\n",
    "    for (let i = 0; i < word.length; i++) {\n",
    "      const ch = word.charAt(i)\n",
    "      if (!current.children[ch]) {\n",
    "        current.children[ch] = new TrieNode()\n",
    "      }\n",
    "      current = current.children[ch]\n",
    "    }\n",
    "    current.isEndOfWord = true\n",
    "  }\n",
    "\n",
    "  search(word: string): boolean {\n",
    "    let current = this.root\n",
    "    for (let i = 0; i < word.length; i++) {\n",
    "      const ch = word.charAt(i)\n",
    "      if (!current.children[ch]) {\n",
    "        return false\n",
    "      }\n",
    "      current = current.children[ch]\n",
    "    }\n",
    "    return current.isEndOfWord\n",
    "  }\n",
    "\n",
    "  prefixSearch(prefix: string): string[] {\n",
    "    const words: string[] = []\n",
    "    let current = this.root\n",
    "    for (let i = 0; i < prefix.length; i++) {\n",
    "      const ch = prefix.charAt(i)\n",
    "      if (!current.children[ch]) {\n",
    "        return words\n",
    "      }\n",
    "      current = current.children[ch]\n",
    "    }\n",
    "    this.findWords(current, prefix, words)\n",
    "    return words\n",
    "  }\n",
    "\n",
    "  private findWords(node: TrieNode, prefix: string, words: string[]): void {\n",
    "    if (node.isEndOfWord) {\n",
    "      words.push(prefix)\n",
    "    }\n",
    "\n",
    "    for (const ch in node.children) {\n",
    "      this.findWords(node.children[ch], prefix + ch, words)\n",
    "    }\n",
    "  }\n",
    "}\n",
    "\n",
    "const trie = new Trie()\n",
    "trie.insert('apple')\n",
    "trie.insert('banana')\n",
    "trie.insert('orange')\n",
    "trie.insert('pineapple')\n",
    "\n",
    "console.log(trie.prefixSearch('a'));\n",
    "console.log(trie.prefixSearch('b'));\n",
    "console.log(trie.prefixSearch('p'));\n",
    "console.log(trie.prefixSearch('pi'));\n",
    "console.log(trie.prefixSearch('z'));"
   ]
  }
 ],
 "metadata": {
  "kernelspec": {
   "display_name": "TypeScript",
   "language": "typescript",
   "name": "tslab"
  },
  "language_info": {
   "codemirror_mode": {
    "mode": "typescript",
    "name": "javascript",
    "typescript": true
   },
   "file_extension": ".ts",
   "mimetype": "text/typescript",
   "name": "typescript",
   "version": "3.7.2"
  },
  "orig_nbformat": 4
 },
 "nbformat": 4,
 "nbformat_minor": 2
}
