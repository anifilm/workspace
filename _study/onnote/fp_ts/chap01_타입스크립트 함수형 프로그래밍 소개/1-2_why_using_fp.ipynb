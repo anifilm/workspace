{
 "cells": [
  {
   "attachments": {},
   "cell_type": "markdown",
   "metadata": {},
   "source": [
    "### 2. 함수형 프로그래밍에 타입스크립트를 사용하는 이유"
   ]
  },
  {
   "attachments": {},
   "cell_type": "markdown",
   "metadata": {},
   "source": [
    "함수 오버로딩을 지원하는 타입스크립트"
   ]
  },
  {
   "cell_type": "code",
   "execution_count": null,
   "metadata": {},
   "outputs": [],
   "source": [
    "function add(x: number, y: number): number {\n",
    "  return x + y;\n",
    "}\n",
    "\n",
    "console.log(add(1, 2));"
   ]
  },
  {
   "cell_type": "code",
   "execution_count": null,
   "metadata": {},
   "outputs": [],
   "source": [
    "function add(x: string, y: string): string {\n",
    "  return x + y;\n",
    "}\n",
    "\n",
    "console.log(add('hello', ' world'));"
   ]
  },
  {
   "attachments": {},
   "cell_type": "markdown",
   "metadata": {},
   "source": [
    "제네릭을 지원하는 타입스크립트"
   ]
  },
  {
   "cell_type": "code",
   "execution_count": null,
   "metadata": {},
   "outputs": [],
   "source": [
    "function find<T>(arr: T[], predicate: (item: T) => boolean): T | undefined {\n",
    "  for (const item of arr) {\n",
    "    if (predicate(item)) {\n",
    "      return item;\n",
    "    }\n",
    "  }\n",
    "\n",
    "  return undefined;\n",
    "}"
   ]
  },
  {
   "attachments": {},
   "cell_type": "markdown",
   "metadata": {},
   "source": [
    "타입스크립트는 불변 데이터 구조를 지원합니다"
   ]
  },
  {
   "cell_type": "code",
   "execution_count": null,
   "metadata": {},
   "outputs": [],
   "source": [
    "import { List } from 'immutable';\n",
    "\n",
    "const list1 = List([1, 2, 3]);\n",
    "const list2 = list1.push(4);\n",
    "const list3 = list2.unshift(0);\n",
    "\n",
    "console.log(list3.toArray());"
   ]
  },
  {
   "attachments": {},
   "cell_type": "markdown",
   "metadata": {},
   "source": [
    "타입스크립트는 고차 함수를 지원합니다"
   ]
  },
  {
   "cell_type": "code",
   "execution_count": null,
   "metadata": {},
   "outputs": [],
   "source": [
    "function map<T, U>(arr: T[], f: (item: T) => U): U[] {\n",
    "  return arr.map(f);\n",
    "}\n",
    "\n",
    "const numbers = [1, 2, 3];\n",
    "const squaredNumbers = map(numbers, n => n ** 2);\n",
    "console.log(squaredNumbers);"
   ]
  },
  {
   "attachments": {},
   "cell_type": "markdown",
   "metadata": {},
   "source": [
    "연습 문제"
   ]
  },
  {
   "attachments": {},
   "cell_type": "markdown",
   "metadata": {},
   "source": [
    "###### 문제: 문자열과 숫자라는 두 개의 매개 변수를 받아 문자열을 반환하는 함수를 만드세요. 타입 어노테이션과 인터페이스를 사용하여 입력 및 출력 타입을 명확하게 정의하세요."
   ]
  },
  {
   "cell_type": "code",
   "execution_count": null,
   "metadata": {},
   "outputs": [],
   "source": [
    "interface MyInterface {\n",
    "  str: string;\n",
    "  num: number;\n",
    "}\n",
    "\n",
    "function myFunction(input: MyInterface): string {\n",
    "  return `${input.str} has length ${input.num}`;\n",
    "}\n",
    "\n",
    "const inputObj: MyInterface = { str: 'hello', num: 5 };\n",
    "console.log(myFunction(inputObj));"
   ]
  },
  {
   "attachments": {},
   "cell_type": "markdown",
   "metadata": {},
   "source": [
    "###### 문제: 배열을 사용하여 기본 스택 데이터 구조를 구현하는 Stack이라는 클래스를 만드세요. 이 클래스에는 타입 어노테이션과 제네릭이 포함된 다음과 같은 메서드가 있어야 합니다."
   ]
  },
  {
   "cell_type": "code",
   "execution_count": 2,
   "metadata": {},
   "outputs": [
    {
     "name": "stdout",
     "output_type": "stream",
     "text": [
      "2\n",
      "world\n"
     ]
    }
   ],
   "source": [
    "class Stack<T> {\n",
    "  private items: Array<T> = [];\n",
    "\n",
    "  public push(item: T): void {\n",
    "    this.items.push(item);\n",
    "  }\n",
    "\n",
    "  public pop(): T | undefined {\n",
    "    return this.items.pop();\n",
    "  }\n",
    "\n",
    "  public peek(): T | undefined {\n",
    "    return this.items[this.items.length - 1];\n",
    "  }\n",
    "}\n",
    "\n",
    "const numStack = new Stack<number>();\n",
    "numStack.push(1);\n",
    "numStack.push(2);\n",
    "console.log(numStack.pop());\n",
    "\n",
    "const strStack = new Stack<string>();\n",
    "strStack.push('hello');\n",
    "strStack.push('world');\n",
    "console.log(strStack.peek());"
   ]
  }
 ],
 "metadata": {
  "kernelspec": {
   "display_name": "TypeScript",
   "language": "typescript",
   "name": "tslab"
  },
  "language_info": {
   "codemirror_mode": {
    "mode": "typescript",
    "name": "javascript",
    "typescript": true
   },
   "file_extension": ".ts",
   "mimetype": "text/typescript",
   "name": "typescript",
   "version": "3.7.2"
  },
  "orig_nbformat": 4
 },
 "nbformat": 4,
 "nbformat_minor": 2
}
