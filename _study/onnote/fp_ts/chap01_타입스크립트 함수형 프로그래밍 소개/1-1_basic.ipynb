{
 "cells": [
  {
   "attachments": {},
   "cell_type": "markdown",
   "metadata": {},
   "source": [
    "### 1. 함수형 프로그래밍 개요\n"
   ]
  },
  {
   "attachments": {},
   "cell_type": "markdown",
   "metadata": {},
   "source": [
    "일급 시민으로서의 함수\n"
   ]
  },
  {
   "cell_type": "code",
   "execution_count": 1,
   "metadata": {},
   "outputs": [],
   "source": [
    "const add = (a: number, b: number): number => {\n",
    "  return a + b;\n",
    "}\n",
    "\n",
    "const subtract = (a: number, b: number): number => {\n",
    "  return a - b;\n",
    "}\n",
    "\n",
    "const calculate = (fn: (a: number, b: number) => number, a: number, b: number): number => {\n",
    "  return fn(a, b);\n",
    "}\n"
   ]
  },
  {
   "cell_type": "code",
   "execution_count": 2,
   "metadata": {},
   "outputs": [
    {
     "name": "stdout",
     "output_type": "stream",
     "text": [
      "15\n",
      "5\n"
     ]
    }
   ],
   "source": [
    "console.log(calculate(add, 10, 5));\n",
    "console.log(calculate(subtract, 10, 5));"
   ]
  },
  {
   "attachments": {},
   "cell_type": "markdown",
   "metadata": {},
   "source": [
    "순수 함수\n"
   ]
  },
  {
   "cell_type": "code",
   "execution_count": null,
   "metadata": {},
   "outputs": [],
   "source": [
    "interface User {\n",
    "  name: string;\n",
    "  age: number;\n",
    "}\n",
    "\n",
    "const addUser = (users: User[], newUser: User): User[] => {\n",
    "  return [...users, newUser];\n",
    "};\n",
    "\n",
    "const sortUsersByName = (users: User[]): User[] => {\n",
    "  return [...users].sort((a, b) => a.name.localeCompare(b.name));\n",
    "}"
   ]
  },
  {
   "attachments": {},
   "cell_type": "markdown",
   "metadata": {},
   "source": [
    "고차 함수"
   ]
  },
  {
   "cell_type": "code",
   "execution_count": 1,
   "metadata": {},
   "outputs": [
    {
     "name": "stdout",
     "output_type": "stream",
     "text": [
      "10\n"
     ]
    }
   ],
   "source": [
    "const multiply = (a: number, b: number): number => {\n",
    "  return a * b;\n",
    "}\n",
    "\n",
    "const createMultiplier = (factor: number): ((n: number) => number) => {\n",
    "  return (n: number) => multiply(n, factor);\n",
    "}\n",
    "\n",
    "const double = createMultiplier(2);\n",
    "console.log(double(5));"
   ]
  },
  {
   "attachments": {},
   "cell_type": "markdown",
   "metadata": {},
   "source": [
    "연습 문제"
   ]
  },
  {
   "attachments": {},
   "cell_type": "markdown",
   "metadata": {},
   "source": [
    "###### 문제: 정수 값을 입력으로 받아 해당 값까지의 모든 짝수의 합을 반환하는 함수를 타입스크립트로 작성하세요."
   ]
  },
  {
   "cell_type": "code",
   "execution_count": null,
   "metadata": {},
   "outputs": [],
   "source": [
    "function sumOfEvenNumbers(num: number): number {\n",
    "  let sum = 0;\n",
    "  for (let i = 0; i <= num; i++) {\n",
    "    if (i % 2 === 0) {\n",
    "      sum += i;\n",
    "    }\n",
    "  }\n",
    "\n",
    "  return sum;\n",
    "}"
   ]
  },
  {
   "attachments": {},
   "cell_type": "markdown",
   "metadata": {},
   "source": [
    "###### 문제: 주어진 숫자의 계승을 반환하는 재귀 함수를 타입스크립트로 작성하세요."
   ]
  },
  {
   "cell_type": "code",
   "execution_count": null,
   "metadata": {},
   "outputs": [],
   "source": [
    "function factorial(num: number): number {\n",
    "  if (num === 0 || num === 1) {\n",
    "    return 1;\n",
    "  }\n",
    "  else {\n",
    "    return num * factorial(num - 1);\n",
    "  }\n",
    "}"
   ]
  },
  {
   "attachments": {},
   "cell_type": "markdown",
   "metadata": {},
   "source": [
    "###### 문제: 정수 배열을 입력으로 받아 원래 배열의 모든 소수를 포함하는 새 배열을 반환하는 타입스크립트 함수를 작성하세요."
   ]
  },
  {
   "cell_type": "code",
   "execution_count": null,
   "metadata": {},
   "outputs": [],
   "source": [
    "function findPrimes(arr: number[]): number[] {\n",
    "  const primes: number[] = [];\n",
    "  for (let num of arr) {\n",
    "    let isPrime = true;\n",
    "    if (num === 1) {\n",
    "      isPrime = false;\n",
    "    }\n",
    "    else if (num === 2) {\n",
    "      primes.push(num);\n",
    "    }\n",
    "    else {\n",
    "      for (let i = 2; i < num; i++) {\n",
    "        if (num % i === 0) {\n",
    "          isPrime = false;\n",
    "          break;\n",
    "        }\n",
    "      }\n",
    "      if (isPrime) {\n",
    "        primes.push(num);\n",
    "      }\n",
    "    }\n",
    "  }\n",
    "\n",
    "  return primes;\n",
    "}"
   ]
  }
 ],
 "metadata": {
  "kernelspec": {
   "display_name": "TypeScript",
   "language": "typescript",
   "name": "tslab"
  },
  "language_info": {
   "codemirror_mode": {
    "mode": "typescript",
    "name": "javascript",
    "typescript": true
   },
   "file_extension": ".ts",
   "mimetype": "text/typescript",
   "name": "typescript",
   "version": "3.7.2"
  },
  "orig_nbformat": 4
 },
 "nbformat": 4,
 "nbformat_minor": 2
}
