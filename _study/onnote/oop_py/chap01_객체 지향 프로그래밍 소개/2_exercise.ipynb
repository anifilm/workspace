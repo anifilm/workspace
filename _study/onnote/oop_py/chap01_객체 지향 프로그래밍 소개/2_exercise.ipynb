{
 "cells": [
  {
   "cell_type": "code",
   "execution_count": 1,
   "metadata": {},
   "outputs": [],
   "source": [
    "# 연습문제"
   ]
  },
  {
   "cell_type": "code",
   "execution_count": 2,
   "metadata": {},
   "outputs": [],
   "source": [
    "# 문제: \"make\", \"model\", \"year\" 속성을 가진 \"Car\"라는 이름의 클래스를 만듭니다. \"Starting the car\"를 출력하는 \"start\"라는 메서드를 추가합니다. 클래스의 객체를 생성하고 속성을 설정합니다. \"start\" 메서드를 호출합니다."
   ]
  },
  {
   "cell_type": "code",
   "execution_count": 4,
   "metadata": {},
   "outputs": [
    {
     "name": "stdout",
     "output_type": "stream",
     "text": [
      "Starting the car\n"
     ]
    }
   ],
   "source": [
    "class Car():\n",
    "    def __init__(self, make, model, year):\n",
    "        self.make = make\n",
    "        self.model = model\n",
    "        self.year = year\n",
    "\n",
    "    def start(self):\n",
    "        print(\"Starting the car\")\n",
    "\n",
    "car = Car(\"Ford\", \"Mustang\", 2021)\n",
    "car.start()"
   ]
  },
  {
   "cell_type": "code",
   "execution_count": 5,
   "metadata": {},
   "outputs": [],
   "source": [
    "# 문제: \"length\" 및 \"width\" 속성을 가진 \"Rectangle\"이라는 클래스를 만듭니다. 직사각형의 면적과 둘레를 각각 계산하고 반환하는 \"area\" 및 \"perimeter\"라는 메서드를 추가합니다. 클래스의 객체를 생성하고 속성을 설정합니다. \"area\" 및 \"perimeter\" 메서드를 호출합니다."
   ]
  },
  {
   "cell_type": "code",
   "execution_count": 8,
   "metadata": {},
   "outputs": [
    {
     "name": "stdout",
     "output_type": "stream",
     "text": [
      "Area: 20\n",
      "Perimeter: 18\n"
     ]
    }
   ],
   "source": [
    "class Rectangle():\n",
    "    def __init__(self, length, width):\n",
    "        self.length = length\n",
    "        self.width = width\n",
    "\n",
    "    def area(self):\n",
    "        return self.length * self.width\n",
    "\n",
    "    def perimeter(self):\n",
    "        return 2 * (self.length + self.width)\n",
    "\n",
    "my_rectangle = Rectangle(5, 4)\n",
    "print(\"Area:\", my_rectangle.area())\n",
    "print(\"Perimeter:\", my_rectangle.perimeter())"
   ]
  },
  {
   "cell_type": "code",
   "execution_count": 9,
   "metadata": {},
   "outputs": [],
   "source": [
    "# 문제: 속성이 \"balance\" 및 \"interest_rate\"인 \"BankAccount\"라는 클래스를 만듭니다. 은행 계좌의 잔액과 이자율을 수정하는 \"deposit\", \"withdraw\", \"add_interest\"라는 메서드를 추가합니다. 클래스의 객체를 생성하고 메서드를 호출하여 계좌에 돈을 입금하고, 돈을 인출하고, 이자를 추가합니다."
   ]
  },
  {
   "cell_type": "code",
   "execution_count": 10,
   "metadata": {},
   "outputs": [
    {
     "name": "stdout",
     "output_type": "stream",
     "text": [
      "Balance before deposit: 1000\n",
      "Balance after deposit: 1500\n",
      "Balance after withdrawal: 1300\n",
      "Balance after adding interest: 1365.0\n"
     ]
    }
   ],
   "source": [
    "class BankAccount():\n",
    "    def __init__(self, balance, interest_rate):\n",
    "        self.balance = balance\n",
    "        self.interest_rate = interest_rate\n",
    "\n",
    "    def deposit(self, amount):\n",
    "        self.balance += amount\n",
    "    \n",
    "    def withdraw(self, amount):\n",
    "        self.balance -= amount\n",
    "\n",
    "    def add_interest(self):\n",
    "        self.balance *= (1 + self.interest_rate)\n",
    "\n",
    "my_account = BankAccount(1000, 0.05)\n",
    "print(\"Balance before deposit:\", my_account.balance)\n",
    "my_account.deposit(500)\n",
    "print(\"Balance after deposit:\", my_account.balance)\n",
    "my_account.withdraw(200)\n",
    "print(\"Balance after withdrawal:\", my_account.balance)\n",
    "my_account.add_interest()\n",
    "print(\"Balance after adding interest:\", my_account.balance)"
   ]
  }
 ],
 "metadata": {
  "kernelspec": {
   "display_name": "base",
   "language": "python",
   "name": "python3"
  },
  "language_info": {
   "codemirror_mode": {
    "name": "ipython",
    "version": 3
   },
   "file_extension": ".py",
   "mimetype": "text/x-python",
   "name": "python",
   "nbconvert_exporter": "python",
   "pygments_lexer": "ipython3",
   "version": "3.8.8"
  },
  "orig_nbformat": 4,
  "vscode": {
   "interpreter": {
    "hash": "00801806608e5aa69d1018f62c1dd5430a10d7f803adf46f990b5a3d78063a5e"
   }
  }
 },
 "nbformat": 4,
 "nbformat_minor": 2
}
