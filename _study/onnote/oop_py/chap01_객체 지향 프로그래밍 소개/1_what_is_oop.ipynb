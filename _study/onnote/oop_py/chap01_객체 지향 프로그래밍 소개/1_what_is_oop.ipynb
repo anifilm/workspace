{
 "cells": [
  {
   "cell_type": "code",
   "execution_count": 1,
   "id": "b91d7bf1",
   "metadata": {},
   "outputs": [],
   "source": [
    "# 1. 객체 지향 프로그래밍이란 무엇인가요?"
   ]
  },
  {
   "cell_type": "code",
   "execution_count": 2,
   "id": "96bfe216",
   "metadata": {},
   "outputs": [],
   "source": [
    "# 객체"
   ]
  },
  {
   "cell_type": "code",
   "execution_count": 3,
   "id": "ec48fae6",
   "metadata": {},
   "outputs": [],
   "source": [
    "class Rectangle:\n",
    "    def __init__(self, height, width):\n",
    "        self.height = height\n",
    "        self.width = width\n",
    "        \n",
    "rectangle = Rectangle(10, 20)"
   ]
  },
  {
   "cell_type": "code",
   "execution_count": 4,
   "id": "4e8ee385",
   "metadata": {},
   "outputs": [],
   "source": [
    "# 클래스"
   ]
  },
  {
   "cell_type": "code",
   "execution_count": 5,
   "id": "69669f5f",
   "metadata": {},
   "outputs": [
    {
     "name": "stdout",
     "output_type": "stream",
     "text": [
      "Hello, my name is Alice\n"
     ]
    }
   ],
   "source": [
    "class Person:\n",
    "    def __init__(self, name):\n",
    "        self.name = name\n",
    "        \n",
    "    def say_hello(self):\n",
    "        print(\"Hello, my name is\", self.name)\n",
    "        \n",
    "person = Person(\"Alice\")\n",
    "person.say_hello()"
   ]
  },
  {
   "cell_type": "code",
   "execution_count": 6,
   "id": "7651345c",
   "metadata": {},
   "outputs": [],
   "source": [
    "# 캡슐화"
   ]
  },
  {
   "cell_type": "code",
   "execution_count": 9,
   "id": "147da986",
   "metadata": {},
   "outputs": [
    {
     "name": "stdout",
     "output_type": "stream",
     "text": [
      "1300\n"
     ]
    }
   ],
   "source": [
    "class BankAccount:\n",
    "    def __init__(self, initial_balance):\n",
    "        self.__balance = initial_balance\n",
    "        \n",
    "    def deposit(self, amount):\n",
    "        self.__balance += amount\n",
    "        \n",
    "    def withdraw(self, amount):\n",
    "        if self.__balance >= amount:\n",
    "            self.__balance -= amount\n",
    "        else:\n",
    "            raise ValueError(\"Insufficient balance\")\n",
    "            \n",
    "    def get_balance(self):\n",
    "        return self.__balance\n",
    "    \n",
    "account = BankAccount(1000)\n",
    "account.deposit(500)\n",
    "account.withdraw(200)\n",
    "print(account.get_balance())"
   ]
  },
  {
   "cell_type": "code",
   "execution_count": 10,
   "id": "08b5b5f5",
   "metadata": {},
   "outputs": [],
   "source": [
    "# 상속"
   ]
  },
  {
   "cell_type": "code",
   "execution_count": 13,
   "id": "11a3bcb5",
   "metadata": {},
   "outputs": [
    {
     "name": "stdout",
     "output_type": "stream",
     "text": [
      "Drawing a rectangle...\n",
      "Drawing a circle...\n"
     ]
    }
   ],
   "source": [
    "class Shape:\n",
    "    def __init__(self, x, y):\n",
    "        self.x = x\n",
    "        self.y = y\n",
    "        \n",
    "    def draw(self):\n",
    "        pass\n",
    "    \n",
    "class Rectangle(Shape):\n",
    "    def __init__(self, x, y, height, width):\n",
    "        super().__init__(x, y)\n",
    "        self.height = height\n",
    "        self.width = width\n",
    "        \n",
    "    def draw(self):\n",
    "        print(\"Drawing a rectangle...\")\n",
    "        \n",
    "class Circle(Shape):\n",
    "    def __init__(self, x, y, radius):\n",
    "        super().__init__(x, y)\n",
    "        self.radius = radius\n",
    "        \n",
    "    def draw(self):\n",
    "        print(\"Drawing a circle...\")\n",
    "        \n",
    "rectangle = Rectangle(0, 0, 100, 50)\n",
    "circle = Circle(10, 10, 20)\n",
    "\n",
    "rectangle.draw()\n",
    "circle.draw()"
   ]
  },
  {
   "cell_type": "code",
   "execution_count": 14,
   "id": "884b07b5",
   "metadata": {},
   "outputs": [],
   "source": [
    "# 다형성"
   ]
  },
  {
   "cell_type": "code",
   "execution_count": 15,
   "id": "75b48d17",
   "metadata": {},
   "outputs": [
    {
     "name": "stdout",
     "output_type": "stream",
     "text": [
      "Drawing a rectangle...\n",
      "Drawing a circle...\n"
     ]
    }
   ],
   "source": [
    "def draw_shape(shape):\n",
    "    shape.draw()\n",
    "    \n",
    "rectangle = Rectangle(0, 0, 100, 50)\n",
    "circle = Circle(10, 10, 20)\n",
    "\n",
    "draw_shape(rectangle)\n",
    "draw_shape(circle)"
   ]
  }
 ],
 "metadata": {
  "kernelspec": {
   "display_name": "Python 3",
   "language": "python",
   "name": "python3"
  },
  "language_info": {
   "codemirror_mode": {
    "name": "ipython",
    "version": 3
   },
   "file_extension": ".py",
   "mimetype": "text/x-python",
   "name": "python",
   "nbconvert_exporter": "python",
   "pygments_lexer": "ipython3",
   "version": "3.8.8"
  }
 },
 "nbformat": 4,
 "nbformat_minor": 5
}
