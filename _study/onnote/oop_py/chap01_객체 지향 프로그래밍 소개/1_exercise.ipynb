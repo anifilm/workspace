{
 "cells": [
  {
   "cell_type": "code",
   "execution_count": 1,
   "id": "b4297bac",
   "metadata": {},
   "outputs": [],
   "source": [
    "# 연습 문제"
   ]
  },
  {
   "cell_type": "code",
   "execution_count": 2,
   "id": "9d004f9e",
   "metadata": {},
   "outputs": [],
   "source": [
    "# 문제: \"make\"와 \"model\"이라는 두 가지 속성을 가진 \"Car\"라는 클래스를 생성합니다. 이 클래스의 객체를 생성하고 속성에 값을 할당합니다.\n"
   ]
  },
  {
   "cell_type": "code",
   "execution_count": 3,
   "id": "754cad4e",
   "metadata": {},
   "outputs": [
    {
     "name": "stdout",
     "output_type": "stream",
     "text": [
      "Toyota\n",
      "Corolla\n"
     ]
    }
   ],
   "source": [
    "class Car():\n",
    "    def __init__(self, make, model):\n",
    "        self.make = make\n",
    "        self.model = model\n",
    "        \n",
    "my_car = Car(\"Toyota\", \"Corolla\")\n",
    "print(my_car.make)\n",
    "print(my_car.model)"
   ]
  },
  {
   "cell_type": "code",
   "execution_count": 6,
   "id": "8857df1e",
   "metadata": {},
   "outputs": [],
   "source": [
    "# 문제: \"Animal\"과 \"Dog\"라는 두 개의 클래스를 생성합니다. Animal에는 \"The animal speaks\"을 출력하는 \"speak\"라는 메서드가 있어야 하며, Dog는 Animal을 상속하고 \"The dog barks\"을 출력하도록 \"speak\" 메서드를 재정의해야 합니다. Dog 클래스의 객체를 생성하고 \"speak\" 메서드를 호출합니다."
   ]
  },
  {
   "cell_type": "code",
   "execution_count": 7,
   "id": "ce58188e",
   "metadata": {},
   "outputs": [
    {
     "name": "stdout",
     "output_type": "stream",
     "text": [
      "The dog barks\n"
     ]
    }
   ],
   "source": [
    "class Animal():\n",
    "    def speak(self):\n",
    "        print(\"The animal speaks\")\n",
    "        \n",
    "class Dog(Animal):\n",
    "    def speak(self):\n",
    "        print(\"The dog barks\")\n",
    "        \n",
    "dog = Dog()\n",
    "dog.speak()"
   ]
  },
  {
   "cell_type": "code",
   "execution_count": 8,
   "id": "53fedd04",
   "metadata": {},
   "outputs": [],
   "source": [
    "# 문제: \"name\"과 \"age\"라는 두 가지 속성을 가진 \"Person\"이라는 클래스를 만듭니다. 나이 속성을 캡슐화하여 게터 및 세터 메서드를 통해서만 액세스하고 수정할 수 있도록 하세요. Person 클래스의 객체를 생성하고 getter 및 setter 메서드를 테스트 합니다."
   ]
  },
  {
   "cell_type": "code",
   "execution_count": 9,
   "id": "ca8acbab",
   "metadata": {},
   "outputs": [
    {
     "name": "stdout",
     "output_type": "stream",
     "text": [
      "John\n",
      "30\n",
      "35\n",
      "Age cannot be negative\n"
     ]
    }
   ],
   "source": [
    "class Person():\n",
    "    def __init__(self, name, age):\n",
    "        self.name = name\n",
    "        self.__age = age\n",
    "        \n",
    "    def get_age(self):\n",
    "        return self.__age\n",
    "    \n",
    "    def set_age(self, age):\n",
    "        if age < 0:\n",
    "            print(\"Age cannot be negative\")\n",
    "        else:\n",
    "            self.__age = age\n",
    "            \n",
    "my_person = Person(\"John\", 30)\n",
    "print(my_person.name)\n",
    "print(my_person.get_age())\n",
    "my_person.set_age(35)\n",
    "print(my_person.get_age())\n",
    "my_person.set_age(-10)\n",
    "        \n"
   ]
  }
 ],
 "metadata": {
  "kernelspec": {
   "display_name": "Python 3",
   "language": "python",
   "name": "python3"
  },
  "language_info": {
   "codemirror_mode": {
    "name": "ipython",
    "version": 3
   },
   "file_extension": ".py",
   "mimetype": "text/x-python",
   "name": "python",
   "nbconvert_exporter": "python",
   "pygments_lexer": "ipython3",
   "version": "3.8.8"
  }
 },
 "nbformat": 4,
 "nbformat_minor": 5
}
