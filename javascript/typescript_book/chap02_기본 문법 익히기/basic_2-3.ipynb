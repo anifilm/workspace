{
 "cells": [
  {
   "attachments": {},
   "cell_type": "markdown",
   "metadata": {},
   "source": [
    "2.3 값 자체가 타입인 리터럴 타입이 있다"
   ]
  },
  {
   "cell_type": "code",
   "execution_count": null,
   "metadata": {},
   "outputs": [],
   "source": [
    "let str: 'hello' = 'hello'\n",
    "str = 'world'"
   ]
  },
  {
   "cell_type": "code",
   "execution_count": null,
   "metadata": {},
   "outputs": [],
   "source": [
    "const str2 = 'hello'"
   ]
  },
  {
   "cell_type": "code",
   "execution_count": null,
   "metadata": {},
   "outputs": [],
   "source": [
    "let str3: string = 'hello'\n",
    "str3 = 'world'\n",
    "str3 = 123"
   ]
  },
  {
   "cell_type": "code",
   "execution_count": null,
   "metadata": {},
   "outputs": [],
   "source": [
    "const obj: { name: 'zero' } = { name: 'zero' }\n",
    "const arr: [1, 3, 'five'] = [1, 3, 'five']\n",
    "const func: (amount: number, unit: string) => string\n",
    " = (amount, unit) => amount + unit"
   ]
  },
  {
   "cell_type": "code",
   "execution_count": null,
   "metadata": {},
   "outputs": [],
   "source": [
    "const obj2 = { name: 'zero' }\n",
    "const arr2 = [1, 3, 'five']"
   ]
  },
  {
   "cell_type": "code",
   "execution_count": null,
   "metadata": {},
   "outputs": [],
   "source": [
    "const obj3 = { name: 'zero' } as const\n",
    "const arr3 = [1, 3, 'five'] as const\n",
    "obj3.name = 'nero'\n",
    "arr3.push(7)"
   ]
  }
 ],
 "metadata": {
  "kernelspec": {
   "display_name": "TypeScript",
   "language": "typescript",
   "name": "tslab"
  },
  "language_info": {
   "codemirror_mode": {
    "mode": "typescript",
    "name": "javascript",
    "typescript": true
   },
   "file_extension": ".ts",
   "mimetype": "text/typescript",
   "name": "typescript",
   "version": "3.7.2"
  },
  "orig_nbformat": 4
 },
 "nbformat": 4,
 "nbformat_minor": 2
}
