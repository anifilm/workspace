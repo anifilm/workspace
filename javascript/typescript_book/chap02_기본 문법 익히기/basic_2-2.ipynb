{
 "cells": [
  {
   "attachments": {},
   "cell_type": "markdown",
   "metadata": {},
   "source": [
    "2.2 타입 추론을 적극 활용하자"
   ]
  },
  {
   "cell_type": "code",
   "execution_count": null,
   "metadata": {},
   "outputs": [],
   "source": [
    "function plus(x: number, y: number): number {\n",
    "  return x + y\n",
    "}\n",
    "\n",
    "const result1: number = plus(1, 2)\n",
    "const result2 = plus(1, 2)"
   ]
  },
  {
   "cell_type": "code",
   "execution_count": null,
   "metadata": {},
   "outputs": [],
   "source": [
    "const str1: 'hello' = 'hello'\n",
    "const str2: string = 'hello'\n",
    "const str3: {} = 'hello'"
   ]
  },
  {
   "cell_type": "code",
   "execution_count": null,
   "metadata": {},
   "outputs": [],
   "source": [
    "let str: string = 'hello'\n",
    "let num: number = 123\n",
    "let bool: boolean = false\n",
    "let n: null = null\n",
    "let u: undefined = undefined\n",
    "let sym: symbol = Symbol('sym')\n",
    "let big: bigint = 100000000n\n",
    "let obj: object = { hello: 'world' }"
   ]
  },
  {
   "cell_type": "code",
   "execution_count": null,
   "metadata": {},
   "outputs": [],
   "source": [
    "const sym1 = Symbol.for('sym')\n",
    "const sym2 = Symbol.for('sym')\n",
    "let sym3 = Symbol.for('sym')\n",
    "let sym4 = Symbol.for('sym')\n",
    "\n",
    "if (sym1 === sym2) { }\n",
    "if (sym3 === sym4) { }\n",
    "if (sym2 === sym3) { }"
   ]
  }
 ],
 "metadata": {
  "kernelspec": {
   "display_name": "TypeScript",
   "language": "typescript",
   "name": "tslab"
  },
  "language_info": {
   "codemirror_mode": {
    "mode": "typescript",
    "name": "javascript",
    "typescript": true
   },
   "file_extension": ".ts",
   "mimetype": "text/typescript",
   "name": "typescript",
   "version": "3.7.2"
  },
  "orig_nbformat": 4
 },
 "nbformat": 4,
 "nbformat_minor": 2
}
