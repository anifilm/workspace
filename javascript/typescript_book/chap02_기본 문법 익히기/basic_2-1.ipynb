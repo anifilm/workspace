{
 "cells": [
  {
   "attachments": {},
   "cell_type": "markdown",
   "metadata": {},
   "source": [
    "### 2장 기본 문법 익히기"
   ]
  },
  {
   "attachments": {},
   "cell_type": "markdown",
   "metadata": {},
   "source": [
    "2.1 변수, 매개변수, 반환값에 타입을 붙이면 된다"
   ]
  },
  {
   "cell_type": "code",
   "execution_count": null,
   "metadata": {},
   "outputs": [],
   "source": [
    "const str: string = 'hello'\n",
    "const num: number = 123\n",
    "const bool: boolean = false\n",
    "const n: null = null\n",
    "const u: undefined = undefined\n",
    "const sym: symbol = Symbol('sym')\n",
    "const big: bigint = 100000000n\n",
    "const obj: object = { hello: 'world' }"
   ]
  },
  {
   "cell_type": "code",
   "execution_count": null,
   "metadata": {},
   "outputs": [],
   "source": [
    "function plus(x: number, y: number): number {\n",
    "  return x + y\n",
    "}\n",
    "\n",
    "const minus = (x: number, y: number): number => x - y"
   ]
  }
 ],
 "metadata": {
  "kernelspec": {
   "display_name": "TypeScript",
   "language": "typescript",
   "name": "tslab"
  },
  "language_info": {
   "codemirror_mode": {
    "mode": "typescript",
    "name": "javascript",
    "typescript": true
   },
   "file_extension": ".ts",
   "mimetype": "text/typescript",
   "name": "typescript",
   "version": "3.7.2"
  },
  "orig_nbformat": 4
 },
 "nbformat": 4,
 "nbformat_minor": 2
}
