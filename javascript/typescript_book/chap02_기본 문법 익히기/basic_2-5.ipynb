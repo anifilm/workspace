{
 "cells": [
  {
   "attachments": {},
   "cell_type": "markdown",
   "metadata": {},
   "source": [
    "2.5 타입으로 쓸 수 있는 것을 구분하자"
   ]
  },
  {
   "cell_type": "code",
   "execution_count": null,
   "metadata": {},
   "outputs": [],
   "source": [
    "const date: Date = new Date()\n",
    "const math: Math = Math\n",
    "const str: String = 'hello'"
   ]
  },
  {
   "cell_type": "code",
   "execution_count": null,
   "metadata": {},
   "outputs": [],
   "source": [
    "function add(x: Number, y: Number) { return x + y }\n",
    "\n",
    "const str1: String = 'hello'\n",
    "const str2: string = str1\n",
    "const obj: Object = 'what?'"
   ]
  },
  {
   "cell_type": "code",
   "execution_count": null,
   "metadata": {},
   "outputs": [],
   "source": [
    "function add(x: number, y: number) { return x + y }\n",
    "const add2: add = (x: number, y: number) => x + y"
   ]
  },
  {
   "cell_type": "code",
   "execution_count": null,
   "metadata": {},
   "outputs": [],
   "source": [
    "function add3(x: number, y: number) { return x + y }\n",
    "const add4: typeof add3 = (x: number, y: number) => x + y"
   ]
  },
  {
   "cell_type": "code",
   "execution_count": null,
   "metadata": {},
   "outputs": [],
   "source": [
    "function add5(x: number, y: number) { return x + y }\n",
    "const result1: add5(1, 2) = add5(1, 2)\n",
    "const result2: typeof add5(1, 2) = add5(1, 2)"
   ]
  },
  {
   "cell_type": "code",
   "execution_count": null,
   "metadata": {},
   "outputs": [],
   "source": [
    "class Person {\n",
    "  name: string;\n",
    "  constructor(name: string) {\n",
    "    this.name = name\n",
    "  }\n",
    "}\n",
    "\n",
    "const person: Person = new Person('zero')"
   ]
  }
 ],
 "metadata": {
  "kernelspec": {
   "display_name": "TypeScript",
   "language": "typescript",
   "name": "tslab"
  },
  "language_info": {
   "codemirror_mode": {
    "mode": "typescript",
    "name": "javascript",
    "typescript": true
   },
   "file_extension": ".ts",
   "mimetype": "text/typescript",
   "name": "typescript",
   "version": "3.7.2"
  },
  "orig_nbformat": 4
 },
 "nbformat": 4,
 "nbformat_minor": 2
}
