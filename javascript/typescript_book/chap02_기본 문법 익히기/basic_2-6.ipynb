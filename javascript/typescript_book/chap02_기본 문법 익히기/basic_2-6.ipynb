{
 "cells": [
  {
   "attachments": {},
   "cell_type": "markdown",
   "metadata": {},
   "source": [
    "2.6 유니언 타입으로 OR 관계를 표현하자"
   ]
  },
  {
   "cell_type": "code",
   "execution_count": null,
   "metadata": {},
   "outputs": [],
   "source": [
    "let strOrNum: string | number = 'hello'\n",
    "strOrNum = 123"
   ]
  },
  {
   "cell_type": "code",
   "execution_count": null,
   "metadata": {},
   "outputs": [],
   "source": [
    "const arr4 = [1, '3', 5]"
   ]
  },
  {
   "cell_type": "code",
   "execution_count": null,
   "metadata": {},
   "outputs": [],
   "source": [
    "function returnNumber(value: string | number): number {\n",
    "  return parseInt(value)\n",
    "}\n",
    "returnNumber(1)\n",
    "returnNumber('1')"
   ]
  },
  {
   "cell_type": "code",
   "execution_count": null,
   "metadata": {},
   "outputs": [],
   "source": [
    "if (typeof strOrNum === 'number') {\n",
    "  strOrNum.toFixed()\n",
    "}"
   ]
  },
  {
   "cell_type": "code",
   "execution_count": null,
   "metadata": {},
   "outputs": [],
   "source": [
    "function returnString(value: string | number | boolean): string {\n",
    "  return value.toString()\n",
    "}\n",
    "returnString(1)\n",
    "returnString('1')\n",
    "returnString(true)"
   ]
  },
  {
   "cell_type": "code",
   "execution_count": 1,
   "metadata": {},
   "outputs": [],
   "source": [
    "type Union1 = | string | boolean | number | null\n",
    "type Union2 =\n",
    "  | string\n",
    "  | boolean\n",
    "  | number\n",
    "  | null"
   ]
  }
 ],
 "metadata": {
  "kernelspec": {
   "display_name": "TypeScript",
   "language": "typescript",
   "name": "tslab"
  },
  "language_info": {
   "codemirror_mode": {
    "mode": "typescript",
    "name": "javascript",
    "typescript": true
   },
   "file_extension": ".ts",
   "mimetype": "text/typescript",
   "name": "typescript",
   "version": "3.7.2"
  },
  "orig_nbformat": 4
 },
 "nbformat": 4,
 "nbformat_minor": 2
}
