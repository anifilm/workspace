{
 "cells": [
  {
   "attachments": {},
   "cell_type": "markdown",
   "metadata": {},
   "source": [
    "2.4 배열 말고 튜플도 있다"
   ]
  },
  {
   "cell_type": "code",
   "execution_count": null,
   "metadata": {},
   "outputs": [],
   "source": [
    "const arr1: string[] = ['1', '2', '3']\n",
    "const arr2: Array<number> = [1, 2, 3]\n",
    "arr1.push(4)"
   ]
  },
  {
   "cell_type": "code",
   "execution_count": null,
   "metadata": {},
   "outputs": [],
   "source": [
    "const arr3 = [1, 3, 5]\n",
    "const arr4 = [1, '3', 5]\n",
    "const arr5 = []"
   ]
  },
  {
   "cell_type": "code",
   "execution_count": null,
   "metadata": {},
   "outputs": [],
   "source": [
    "const array = [123, 4, 56]\n",
    "array[3].toFixed()"
   ]
  },
  {
   "cell_type": "code",
   "execution_count": null,
   "metadata": {},
   "outputs": [],
   "source": [
    "const tuple: [number, boolean, string] = [1, false, 'hi']\n",
    "tuple[0] = 3\n",
    "tuple[2] = 5\n",
    "tuple[3] = 'no'\n",
    "tuple.push('yes')"
   ]
  },
  {
   "cell_type": "code",
   "execution_count": null,
   "metadata": {},
   "outputs": [],
   "source": [
    "const tuple2: readonly [number, boolean, string] = [1, false, 'hi']\n",
    "tuple2.push('no')"
   ]
  },
  {
   "cell_type": "code",
   "execution_count": null,
   "metadata": {},
   "outputs": [],
   "source": [
    "//const array2 = [123, 4, 56]\n",
    "//array2[3].toFixed()\n",
    "\n",
    "const array2: [number, number, number] = [123, 4, 56]\n",
    "array2[3].toFixed()"
   ]
  },
  {
   "cell_type": "code",
   "execution_count": null,
   "metadata": {},
   "outputs": [],
   "source": [
    "const strNumBools: [string, number, ...boolean[]]\n",
    "  = ['hi', 123, false, false, false]\n",
    "const strNumsBool: [string, ...number[], boolean]\n",
    "  = ['hi', 123, 4, 56, false]\n",
    "const strsNumBool: [...string[], number, boolean]\n",
    "  = ['hi', 'hello', 'wow', 123, false]"
   ]
  },
  {
   "cell_type": "code",
   "execution_count": null,
   "metadata": {},
   "outputs": [],
   "source": [
    "const arr6 = ['hi', true]\n",
    "const arr7 = [46, ...arr6]"
   ]
  },
  {
   "cell_type": "code",
   "execution_count": null,
   "metadata": {},
   "outputs": [],
   "source": [
    "const [a, ...rest] = ['hi', 1, 23, 456]\n",
    "// 명시적 타이핑\n",
    "const [b, ...rest2]: [string, ...number[]] = ['hi', 1, 23, 456]"
   ]
  },
  {
   "cell_type": "code",
   "execution_count": null,
   "metadata": {},
   "outputs": [],
   "source": [
    "let tuple3: [number, boolean?, string?] = [1, false, 'hi']\n",
    "tuple3 = [3, true]\n",
    "tuple3 = [5]\n",
    "tuple3 = 7, 'no'"
   ]
  }
 ],
 "metadata": {
  "kernelspec": {
   "display_name": "TypeScript",
   "language": "typescript",
   "name": "tslab"
  },
  "language_info": {
   "codemirror_mode": {
    "mode": "typescript",
    "name": "javascript",
    "typescript": true
   },
   "file_extension": ".ts",
   "mimetype": "text/typescript",
   "name": "typescript",
   "version": "3.7.2"
  },
  "orig_nbformat": 4
 },
 "nbformat": 4,
 "nbformat_minor": 2
}
